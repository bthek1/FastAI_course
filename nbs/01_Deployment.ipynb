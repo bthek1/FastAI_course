{
 "cells": [
  {
   "cell_type": "code",
   "execution_count": null,
   "id": "9dd7012e-41bf-460b-aed9-1b5dec20ebcf",
   "metadata": {},
   "outputs": [],
   "source": [
    "%load_ext autoreload\n",
    "%autoreload 2"
   ]
  },
  {
   "cell_type": "markdown",
   "id": "62d32389-7887-4837-ad2d-cb338c437e64",
   "metadata": {},
   "source": [
    "# Deployment\n",
    "\n",
    "> Putting a model into Deployment"
   ]
  },
  {
   "cell_type": "code",
   "execution_count": null,
   "id": "6394bdaf-9e83-4489-ba0c-cd1ff830bd73",
   "metadata": {},
   "outputs": [],
   "source": [
    "#| default_exp deployment"
   ]
  },
  {
   "cell_type": "markdown",
   "id": "a182bc63-afea-4e30-afa4-c603450f5535",
   "metadata": {},
   "source": [
    "## Initial Checks "
   ]
  },
  {
   "cell_type": "code",
   "execution_count": null,
   "id": "bf14ccbb-ded5-4790-aa71-058068bae47f",
   "metadata": {},
   "outputs": [
    {
     "name": "stdout",
     "output_type": "stream",
     "text": [
      "ffmpeg                    4.3                  hf484d3e_0    pytorch\n",
      "pytorch                   2.0.1           py3.11_cuda11.8_cudnn8.7.0_0    pytorch\n",
      "pytorch-cuda              11.8                 h7e8668a_5    pytorch\n",
      "pytorch-ignite            0.4.12                   pypi_0    pypi\n",
      "pytorch-lightning         2.0.7                    pypi_0    pypi\n",
      "pytorch-mutex             1.0                        cuda    pytorch\n",
      "torchaudio                2.0.2               py311_cu118    pytorch\n",
      "torchtriton               2.0.0                     py311    pytorch\n",
      "torchvision               0.15.2              py311_cu118    pytorch\n"
     ]
    }
   ],
   "source": [
    "#|eval: false\n",
    "!conda list | grep \"pytorch\""
   ]
  },
  {
   "cell_type": "code",
   "execution_count": null,
   "id": "f230e2cb-15d0-4390-a7d0-9e50ac9cf527",
   "metadata": {},
   "outputs": [
    {
     "name": "stdout",
     "output_type": "stream",
     "text": [
      "/bin/bash: line 1: nvcc: command not found\n"
     ]
    }
   ],
   "source": [
    "#|eval: false\n",
    "!nvcc --version"
   ]
  },
  {
   "cell_type": "code",
   "execution_count": null,
   "id": "82c39413-01f3-48d3-81a3-27acfc74aa72",
   "metadata": {},
   "outputs": [
    {
     "name": "stdout",
     "output_type": "stream",
     "text": [
      "^C\n",
      "\u001b[31mERROR: Operation cancelled by user\u001b[0m\u001b[31m\n",
      "\u001b[0mfastbook                  0.0.29\n",
      "ipywidgets                7.8.0\n"
     ]
    }
   ],
   "source": [
    "#|eval: false\n",
    "!pip list | grep \"fastai\" \n",
    "!pip list | grep \"fastbook\"\n",
    "!pip list | grep \"ipywidgets\""
   ]
  },
  {
   "cell_type": "code",
   "execution_count": null,
   "id": "ad839aec-c1d7-47aa-b5ea-6a20a35b09a0",
   "metadata": {},
   "outputs": [],
   "source": [
    "#|eval: false\n",
    "import torch"
   ]
  },
  {
   "cell_type": "code",
   "execution_count": null,
   "id": "db4c4b85-4053-4ca8-bdec-0a21acc9971a",
   "metadata": {},
   "outputs": [
    {
     "data": {
      "text/plain": [
       "True"
      ]
     },
     "execution_count": null,
     "metadata": {},
     "output_type": "execute_result"
    }
   ],
   "source": [
    "#|eval: false\n",
    "torch.cuda.is_available()"
   ]
  },
  {
   "cell_type": "markdown",
   "id": "647e748d-e938-491e-b6cc-e6265b47213a",
   "metadata": {},
   "source": [
    "## Gather Data"
   ]
  },
  {
   "cell_type": "code",
   "execution_count": null,
   "id": "b822632d-176b-4dab-9f89-f7d852576f5f",
   "metadata": {},
   "outputs": [],
   "source": [
    "#|eval: false\n",
    "from fastbook import search_images_ddg\n",
    "from fastdownload import download_url\n",
    "from fastai.vision.all import *\n",
    "from fastAIcourse.functions import *\n",
    "import os"
   ]
  },
  {
   "cell_type": "code",
   "execution_count": null,
   "id": "9e272ada-6dbb-42ac-9082-a471ecb927c8",
   "metadata": {},
   "outputs": [],
   "source": [
    "#|eval: false\n",
    "dest = 'grizzly'\n",
    "download_pic(dest)"
   ]
  },
  {
   "cell_type": "code",
   "execution_count": null,
   "id": "a1486a5e-c4a9-4b64-9613-985e33885de1",
   "metadata": {},
   "outputs": [],
   "source": [
    "#|code-fold: true\n",
    "#|eval: false\n",
    "searches = ('grizzly bears','black bears','teddy bears')\n",
    "path = Path('bears')\n",
    "\n",
    "create_data_folder(path, searches)"
   ]
  },
  {
   "cell_type": "markdown",
   "id": "97ac3bfe-db2d-4ee4-ab8b-ec873c90f2a9",
   "metadata": {},
   "source": [
    "## Data Augmentation and Designing model"
   ]
  },
  {
   "cell_type": "code",
   "execution_count": null,
   "id": "c6c2f66a-b42f-42af-82cf-0070da36dde4",
   "metadata": {},
   "outputs": [],
   "source": [
    "#|eval: false\n",
    "?DataBlock"
   ]
  },
  {
   "cell_type": "code",
   "execution_count": null,
   "id": "9b4beea5-f2d8-4e0e-84b6-7e5118c289a3",
   "metadata": {},
   "outputs": [],
   "source": [
    "#|eval: false\n",
    "bears = DataBlock(\n",
    "    blocks=(ImageBlock, CategoryBlock), \n",
    "    get_items=get_image_files, \n",
    "    splitter=RandomSplitter(valid_pct=0.2, seed=42),\n",
    "    get_y=parent_label,\n",
    "    item_tfms=Resize(128))"
   ]
  },
  {
   "cell_type": "code",
   "execution_count": null,
   "id": "7cc4a01f-1aa9-4607-be3f-4c0a12f78d81",
   "metadata": {},
   "outputs": [],
   "source": [
    "#|eval: false\n",
    "dls = bears.dataloaders(path)"
   ]
  },
  {
   "cell_type": "code",
   "execution_count": null,
   "id": "bdbf8420-e43c-430d-8e24-4c3cc0ed1cfa",
   "metadata": {},
   "outputs": [],
   "source": [
    "#|eval: false\n",
    "dls.valid.show_batch(max_n=4, nrows=1)"
   ]
  },
  {
   "cell_type": "code",
   "execution_count": null,
   "id": "554d5232-cd14-4228-b195-0646b79b6a93",
   "metadata": {},
   "outputs": [],
   "source": [
    "#|eval: false\n",
    "bears = bears.new(item_tfms=Resize(128, ResizeMethod.Squish))\n",
    "dls = bears.dataloaders(path)\n",
    "dls.valid.show_batch(max_n=4, nrows=1)"
   ]
  },
  {
   "cell_type": "code",
   "execution_count": null,
   "id": "f2f76683-77c3-4e04-98b0-cb2f4d7af120",
   "metadata": {},
   "outputs": [],
   "source": [
    "#|eval: false\n",
    "bears = bears.new(\n",
    "    item_tfms=Resize(128, ResizeMethod.Pad, pad_mode='zeros'))\n",
    "dls = bears.dataloaders(path)\n",
    "dls.valid.show_batch(max_n=4, nrows=1)"
   ]
  },
  {
   "cell_type": "code",
   "execution_count": null,
   "id": "d7264a24-1e23-4d74-b768-f02decfb884e",
   "metadata": {},
   "outputs": [],
   "source": [
    "#|eval: false\n",
    "bears = bears.new(item_tfms=RandomResizedCrop(128, min_scale=0.3))\n",
    "dls = bears.dataloaders(path)\n",
    "dls.train.show_batch(max_n=4, nrows=1, unique=True)"
   ]
  },
  {
   "cell_type": "markdown",
   "id": "24dfaabc-c62d-4e85-91a3-3bc6ac3aa275",
   "metadata": {},
   "source": [
    "## Training Your Model, and Using It to Clean Your Data"
   ]
  },
  {
   "cell_type": "code",
   "execution_count": null,
   "id": "20c21837-a555-4369-8ecf-bdc23459f108",
   "metadata": {},
   "outputs": [],
   "source": [
    "#|eval: false\n",
    "bears = bears.new(\n",
    "    item_tfms=RandomResizedCrop(128, min_scale=0.5),\n",
    "    batch_tfms=aug_transforms(mult=1))\n",
    "dls = bears.dataloaders(path)\n",
    "dls.train.show_batch(max_n=8, nrows=2, unique=False)"
   ]
  },
  {
   "cell_type": "code",
   "execution_count": null,
   "id": "18bfa1bb-6c92-4a02-a65c-690abc7d7369",
   "metadata": {},
   "outputs": [],
   "source": [
    "#|eval: false\n",
    "dls.valid.show_batch(max_n=8, nrows=2, unique=False)"
   ]
  },
  {
   "cell_type": "markdown",
   "id": "d4d3f354-b2ad-4ec6-990c-1488f141cea6",
   "metadata": {},
   "source": [
    "## Training Your Model"
   ]
  },
  {
   "cell_type": "code",
   "execution_count": null,
   "id": "51775fdf-fec1-4d95-88fb-5c55bc875afe",
   "metadata": {},
   "outputs": [],
   "source": [
    "#|eval: false\n",
    "import timm "
   ]
  },
  {
   "cell_type": "code",
   "execution_count": null,
   "id": "6abca874-90b7-4d4e-b43a-be2a618f7da0",
   "metadata": {},
   "outputs": [],
   "source": [
    "#|eval: false\n",
    "timm.list_models('resnet1*')[0:5]"
   ]
  },
  {
   "cell_type": "code",
   "execution_count": null,
   "id": "324ab3c2-3900-40b1-8b5a-3061468959df",
   "metadata": {},
   "outputs": [],
   "source": [
    "#|eval: false\n",
    "learn = vision_learner(dls,  'resnet18', metrics=error_rate)\n",
    "learn.fine_tune(5)"
   ]
  },
  {
   "cell_type": "code",
   "execution_count": null,
   "id": "22bc50a3-5721-4441-8370-356ad1acb5fc",
   "metadata": {},
   "outputs": [],
   "source": [
    "#|eval: false\n",
    "interp = ClassificationInterpretation.from_learner(learn)\n",
    "interp.plot_confusion_matrix()"
   ]
  },
  {
   "cell_type": "code",
   "execution_count": null,
   "id": "f6875c1f-581b-406e-b644-44db1910c3eb",
   "metadata": {},
   "outputs": [],
   "source": [
    "#|eval: false\n",
    "interp.plot_top_losses(6, nrows=2)"
   ]
  },
  {
   "cell_type": "code",
   "execution_count": null,
   "id": "bbd5908a-018d-4ffc-bd3a-741e11372d28",
   "metadata": {},
   "outputs": [],
   "source": [
    "#|eval: false\n",
    "from fastai.vision.widgets import ImageClassifierCleaner"
   ]
  },
  {
   "cell_type": "code",
   "execution_count": null,
   "id": "d811224f-864b-4e77-b250-2555ca107326",
   "metadata": {},
   "outputs": [],
   "source": [
    "#|eval: false\n",
    "cleaner = ImageClassifierCleaner(learn)\n",
    "cleaner"
   ]
  },
  {
   "cell_type": "code",
   "execution_count": null,
   "id": "5f80d817-1b72-4136-94dc-a500415721de",
   "metadata": {},
   "outputs": [],
   "source": [
    "#hide\n",
    "# for idx in cleaner.delete(): cleaner.fns[idx].unlink()\n",
    "# for idx,cat in cleaner.change(): shutil.move(str(cleaner.fns[idx]), path/cat)"
   ]
  },
  {
   "cell_type": "markdown",
   "id": "0ca2d94a-76ab-4b8c-8975-0f00936dccb8",
   "metadata": {},
   "source": [
    "## Testing"
   ]
  },
  {
   "cell_type": "code",
   "execution_count": null,
   "id": "29afa23c-dc8b-4bc5-a0a4-1b1bae0074b0",
   "metadata": {},
   "outputs": [],
   "source": [
    "#|eval: false\n",
    "searches = ('grizzly bears','black bears','teddy bears')\n",
    "image= 'grizzly0.jpg'\n",
    "\n",
    "\n",
    "is_real,_,probs = learn.predict(PILImage.create(image))\n",
    "\n",
    "for index, value in enumerate(searches):\n",
    "    np.set_printoptions(suppress=True, precision=4)\n",
    "    print(f\"Probability of {value} is :{probs[index]:.5f}.\")\n",
    "    \n",
    "max_value, max_index = torch.max(probs, dim=0)\n",
    "print(f\"This is a: {searches[max_index]} with probability: {max_value:.5f}.\")\n",
    "\n",
    "\n",
    "Image.open(image).to_thumb(256,256)"
   ]
  },
  {
   "cell_type": "markdown",
   "id": "f67d3cd7-48f7-4ae5-ae78-4e459a8c88c7",
   "metadata": {},
   "source": [
    "## Turning Your Model into an Online Application"
   ]
  },
  {
   "cell_type": "code",
   "execution_count": null,
   "id": "05936265-2547-48d8-b9dc-15dfed6dfe89",
   "metadata": {},
   "outputs": [],
   "source": [
    "#|eval: false\n",
    "learn.export('model.pkl')"
   ]
  },
  {
   "cell_type": "code",
   "execution_count": null,
   "id": "15a922d7-a54f-400d-8be3-25ffee0fba52",
   "metadata": {},
   "outputs": [],
   "source": [
    "#|eval: false\n",
    "path = Path()\n",
    "filename = path.ls(file_exts='.pkl')\n",
    "filename[0].name"
   ]
  },
  {
   "cell_type": "code",
   "execution_count": null,
   "id": "f10b2772-afa0-49c8-9864-ddee85738a22",
   "metadata": {},
   "outputs": [],
   "source": [
    "#|eval: false\n",
    "learn_inf = load_learner(path/filename[0].name)"
   ]
  },
  {
   "cell_type": "code",
   "execution_count": null,
   "id": "db22e3f3-fcaf-4c9a-8cba-e585edfd0c74",
   "metadata": {},
   "outputs": [],
   "source": [
    "#|eval: false\n",
    "%time learn_inf.predict('grizzly0.jpg')"
   ]
  },
  {
   "cell_type": "code",
   "execution_count": null,
   "id": "d40b7fcf-9163-4c69-afc7-08d6381beb02",
   "metadata": {},
   "outputs": [],
   "source": [
    "#|eval: false\n",
    "learn_inf.dls.vocab"
   ]
  },
  {
   "cell_type": "markdown",
   "id": "b38d6655-e109-4787-8131-2e412d13caa5",
   "metadata": {},
   "source": [
    "## Making a widget application"
   ]
  },
  {
   "cell_type": "code",
   "execution_count": null,
   "id": "2a73ad25-5cac-419b-aa2c-7a3d9b6dacf0",
   "metadata": {},
   "outputs": [],
   "source": [
    "!pip list | grep 'ipywidgets'"
   ]
  },
  {
   "cell_type": "code",
   "execution_count": null,
   "id": "ea946a03-1ede-418e-bf18-709737eb22e2",
   "metadata": {},
   "outputs": [],
   "source": [
    "#|eval: false\n",
    "import ipywidgets as widgets"
   ]
  },
  {
   "cell_type": "code",
   "execution_count": null,
   "id": "8c0af10d-8715-46dc-991f-7411a0916e22",
   "metadata": {},
   "outputs": [],
   "source": [
    "#|eval: false\n",
    "btn_upload = widgets.FileUpload(\n",
    "    button_style='success',\n",
    "    description='Upload',\n",
    "    accept='',  # Accepted file extension e.g. '.txt', '.pdf', 'image/*', 'image/*,.pdf'\n",
    "    multiple=False  # True to accept multiple files upload else False\n",
    ")\n",
    "display(btn_upload)\n"
   ]
  },
  {
   "cell_type": "code",
   "execution_count": null,
   "id": "554568e4-8d31-492e-ad27-3f8191cb75fd",
   "metadata": {},
   "outputs": [],
   "source": [
    "#|eval: false\n",
    "\n",
    "if btn_upload.value:\n",
    "    uploaded_image = Image.open(io.BytesIO(btn_upload.value[-1].content)).to_thumb(256,256)\n",
    "    display(uploaded_image)"
   ]
  },
  {
   "cell_type": "code",
   "execution_count": null,
   "id": "468bad22-b959-4164-8566-c6e7573baecd",
   "metadata": {},
   "outputs": [],
   "source": [
    "#|eval: false\n",
    "out_pl = widgets.Output()\n",
    "out_pl"
   ]
  },
  {
   "cell_type": "code",
   "execution_count": null,
   "id": "bfc0d120-477c-46fd-a984-ddf16dfa5700",
   "metadata": {},
   "outputs": [],
   "source": [
    "#|eval: false\n",
    "if btn_upload.value:\n",
    "    out_pl = widgets.Output()\n",
    "    out_pl.clear_output()\n",
    "    with out_pl: display(uploaded_image)\n",
    "    out_pl\n"
   ]
  },
  {
   "cell_type": "code",
   "execution_count": null,
   "id": "3f233cde-21a1-4771-a653-8535023307e4",
   "metadata": {},
   "outputs": [],
   "source": [
    "#|eval: false\n",
    "if btn_upload.value:\n",
    "    uploaded_image = Image.open(io.BytesIO(btn_upload.value[-1].content)).to_thumb(256,256)\n",
    "    pred,pred_idx,probs = learn_inf.predict(uploaded_image)\n"
   ]
  },
  {
   "cell_type": "code",
   "execution_count": null,
   "id": "d8357888-5f27-4240-b74c-259a7fba53a3",
   "metadata": {},
   "outputs": [],
   "source": [
    "#|eval: false\n",
    "#hide_output\n",
    "if btn_upload.value:\n",
    "    lbl_pred = widgets.Label()\n",
    "    lbl_pred.value = f'Prediction: {pred}; Probability: {probs[pred_idx]:.04f}'\n",
    "    display(lbl_pred)\n"
   ]
  },
  {
   "cell_type": "code",
   "execution_count": null,
   "id": "e3b84c41-c6a6-436d-a476-cc8c992e7cbc",
   "metadata": {},
   "outputs": [],
   "source": [
    "#|eval: false\n",
    "btn_run = widgets.Button(description='Classify')\n",
    "btn_run"
   ]
  },
  {
   "cell_type": "code",
   "execution_count": null,
   "id": "6fe5843e-d550-4ada-adaa-5a645f669837",
   "metadata": {},
   "outputs": [],
   "source": [
    "#|eval: false\n",
    "def on_click_classify(change):\n",
    "    if btn_upload.value:\n",
    "        img = Image.open(io.BytesIO(btn_upload.value[-1].content)).to_thumb(256,256)\n",
    "        out_pl.clear_output()\n",
    "        with out_pl: display(img)\n",
    "        pred,pred_idx,probs = learn_inf.predict(img)\n",
    "        lbl_pred.value = f'Prediction: {pred}; Probability: {probs[pred_idx]:.04f}'\n",
    "    else:\n",
    "        lbl_pred.value = f'Select image'\n",
    "\n",
    "btn_run.on_click(on_click_classify)"
   ]
  },
  {
   "cell_type": "code",
   "execution_count": null,
   "id": "81b32c3c-27bd-4cc7-a20b-00c1687c1b56",
   "metadata": {},
   "outputs": [],
   "source": [
    "#|eval: false\n",
    "if btn_upload.value:\n",
    "    lbl_pred"
   ]
  },
  {
   "cell_type": "code",
   "execution_count": null,
   "id": "cf865611-060e-46cc-8e96-ee73d39dcc9b",
   "metadata": {},
   "outputs": [],
   "source": [
    "#|eval: false\n",
    "if btn_upload.value:\n",
    "    screen = widgets.VBox([widgets.Label('Select your bear!'), \n",
    "                  btn_upload,\n",
    "                  btn_run,\n",
    "                  out_pl, \n",
    "                  lbl_pred]\n",
    "                )\n",
    "    display(screen)"
   ]
  },
  {
   "cell_type": "code",
   "execution_count": null,
   "id": "5a83b6e9-3278-4ffe-ba79-0b8b1cc84c2f",
   "metadata": {},
   "outputs": [],
   "source": []
  },
  {
   "cell_type": "code",
   "execution_count": null,
   "id": "78a6e983-3ba4-489a-8402-0d9895731b1b",
   "metadata": {},
   "outputs": [],
   "source": []
  },
  {
   "cell_type": "code",
   "execution_count": null,
   "id": "e85df063-88b8-43e5-a3eb-b8641799c05f",
   "metadata": {},
   "outputs": [],
   "source": []
  },
  {
   "cell_type": "code",
   "execution_count": null,
   "id": "21dfc452-1027-4dd0-8529-0eae0bd6276e",
   "metadata": {},
   "outputs": [],
   "source": []
  }
 ],
 "metadata": {
  "kernelspec": {
   "display_name": "python3",
   "language": "python",
   "name": "python3"
  }
 },
 "nbformat": 4,
 "nbformat_minor": 5
}
