{
 "cells": [
  {
   "cell_type": "code",
   "execution_count": null,
   "id": "b5c9034f-f15b-4050-9057-372dbf507935",
   "metadata": {},
   "outputs": [],
   "source": [
    "%load_ext autoreload\n",
    "%autoreload 2"
   ]
  },
  {
   "cell_type": "markdown",
   "id": "89f43382-6627-46e4-9124-af72e66eb217",
   "metadata": {},
   "source": [
    "# Functions\n",
    "> Useful functions"
   ]
  },
  {
   "cell_type": "code",
   "execution_count": null,
   "id": "9e6ea2e1-feb6-4a21-b17f-791ac51b1b51",
   "metadata": {},
   "outputs": [],
   "source": [
    "#| default_exp functions"
   ]
  },
  {
   "cell_type": "code",
   "execution_count": null,
   "id": "f8d3e583-b975-469c-80a5-c19b2455c3d1",
   "metadata": {},
   "outputs": [],
   "source": [
    "#|exports\n",
    "#|code-fold: true\n",
    "from fastbook import search_images_ddg\n",
    "from fastdownload import download_url\n",
    "from fastai.vision.all import *\n",
    "import os\n",
    "import shutil"
   ]
  },
  {
   "cell_type": "markdown",
   "id": "76771c27-05c7-4a84-953a-2da5331a1165",
   "metadata": {},
   "source": [
    "## Reading a list for text file"
   ]
  },
  {
   "cell_type": "code",
   "execution_count": null,
   "id": "85afb2c0-5023-4bcb-858b-e29057b63158",
   "metadata": {},
   "outputs": [],
   "source": [
    "#|exports\n",
    "#|code-fold: true\n",
    "def read_from_file(file_path):\n",
    "    countries = ()\n",
    "    with open(file_path, 'r') as file:\n",
    "        for line in file:\n",
    "            # Remove any leading/trailing whitespace and newline characters\n",
    "            country = line.strip()\n",
    "            # Add the country to the tuple\n",
    "            countries += (country,)\n",
    "\n",
    "    return countries"
   ]
  },
  {
   "cell_type": "markdown",
   "id": "7ffaa05d-c300-4e89-954f-a6402622a441",
   "metadata": {},
   "source": [
    "## Download single pictures"
   ]
  },
  {
   "cell_type": "code",
   "execution_count": null,
   "id": "463b602d-cc71-416e-89f5-1d6adfaedf67",
   "metadata": {},
   "outputs": [],
   "source": [
    "#|exports\n",
    "#|code-fold: true\n",
    "def download_pic(\n",
    "    image:str, #image name\n",
    "    n_images:int=1,\n",
    "    name:str='', #name name\n",
    "    folder:str='',   # File path of the image\n",
    "    show_progress:bool=False,\n",
    "    recreate:bool=False\n",
    "): \n",
    "    'Downloads the image into the folder provided and displays it'\n",
    "    assert isinstance(image, str), \"image must be a str.\"\n",
    "    assert isinstance(name, str), \"name must be a str.\"\n",
    "    assert isinstance(folder, str), \"folder must be a str.\"\n",
    "    assert isinstance(n_images, int), \"n_images must be an integer.\"\n",
    "    assert isinstance(show_progress, bool), \"show_progress must be a bool.\"\n",
    "    assert isinstance(recreate, bool), \"recreate must be a bool.\"\n",
    "    \n",
    "\n",
    "    if folder == '': folder = '.'\n",
    "    if name == '': name = image\n",
    "\n",
    "    image_path = f'{folder}/{name}{0}.jpg'\n",
    "    # Check if the image file exists\n",
    "    if recreate is False and os.path.exists(image_path):\n",
    "        print(\"Image file exists.\")\n",
    "    else:\n",
    "        search_links = search_images_ddg(\n",
    "                        f'{image}',\n",
    "                        max_images=n_images\n",
    "        )\n",
    "\n",
    "        for i in range(n_images): \n",
    "            try:\n",
    "                image_path = f'{folder}/{name}{i}.jpg' \n",
    "                print(f\"Downloading image_path.{i}\")\n",
    "                download_url(\n",
    "                    search_links[i], image_path,\n",
    "                    show_progress=show_progress\n",
    "                )\n",
    "            except Exception as e:\n",
    "                # Code to handle any unhandled exceptions\n",
    "                print(\"An error occurred:\", e)\n",
    "\n",
    "    return Image.open(image_path).to_thumb(256,256)"
   ]
  },
  {
   "cell_type": "markdown",
   "id": "6f3e4248-7c59-4224-9997-215d6b009d50",
   "metadata": {},
   "source": [
    "## Downloading Large Dataset of Images"
   ]
  },
  {
   "cell_type": "code",
   "execution_count": null,
   "id": "8500fd62-6460-4419-8720-af3d4cf6ac6e",
   "metadata": {},
   "outputs": [],
   "source": [
    "#|exports\n",
    "#|code-fold: true\n",
    "def create_searches_folder(folder_path, searches):\n",
    "    for i in searches:\n",
    "        dest = (folder_path/i)\n",
    "        dest.mkdir(exist_ok=True, parents=True)\n",
    "        print(f'created {i} folder')"
   ]
  },
  {
   "cell_type": "code",
   "execution_count": null,
   "id": "4fec0420-ac17-4ec5-ab5d-c491eeb3dc41",
   "metadata": {},
   "outputs": [],
   "source": [
    "#|exports\n",
    "#|code-fold: true\n",
    "def download_search_image(folder_path, item, before, after, amount):\n",
    "    imgAmount = amount\n",
    "    try:\n",
    "        urls=search_images_ddg(f'{before}{item}{after}', imgAmount)\n",
    "        print(f\"downloading {imgAmount} images for:{before}{item}{after}\")\n",
    "\n",
    "        download_images(\n",
    "        folder_path/item,\n",
    "        urls=urls,\n",
    "        n_workers=16\n",
    "        )\n",
    "        \n",
    "    except Exception as e:\n",
    "        # Code to handle any unhandled exceptions\n",
    "        print(f\"Error with {imgAmount} images of {before}{item}{after}:\", e)\n",
    "        imgAmount -= 20\n",
    "        if imgAmount > 0: download_search_image(folder_path, item, before, after, imgAmount)\n",
    "\n",
    "        \n"
   ]
  },
  {
   "cell_type": "code",
   "execution_count": null,
   "id": "8b911135-20e5-44ba-b016-e7d1667706a1",
   "metadata": {},
   "outputs": [],
   "source": [
    "#|exports\n",
    "#|code-fold: true\n",
    "def download_search_images(folder_path, searches, before, after, amount):\n",
    "    for item in searches:\n",
    "        imgAmount = amount\n",
    "        download_search_image(folder_path, item, before, after, amount)\n",
    "            \n"
   ]
  },
  {
   "cell_type": "code",
   "execution_count": null,
   "id": "a0c904d2-7f9b-42dd-a54c-037b430f7857",
   "metadata": {},
   "outputs": [],
   "source": [
    "#|exports\n",
    "#|code-fold: true\n",
    "def verify_pics(folder_path):\n",
    "    failed = verify_images(get_image_files(folder_path))\n",
    "    failed.map(Path.unlink)\n",
    "    print(f\"Number of images failed: {len(failed)}\")"
   ]
  },
  {
   "cell_type": "code",
   "execution_count": null,
   "id": "f3db75e4-0ee5-46ff-9f99-f1cfa49b059b",
   "metadata": {},
   "outputs": [],
   "source": [
    "#|exports\n",
    "#|code-fold: true\n",
    "def resize_pics(folder_path, searches):\n",
    "    for k in searches:\n",
    "        resize_images(\n",
    "            folder_path/k,\n",
    "            max_size=400,\n",
    "            dest=folder_path/k,\n",
    "            max_workers=8\n",
    "        )\n",
    "        print(f\"resizing images for: {k}\")"
   ]
  },
  {
   "cell_type": "code",
   "execution_count": null,
   "id": "dc9ea14d-375f-4c64-a4ba-ab1aef29f575",
   "metadata": {},
   "outputs": [],
   "source": [
    "#|exports\n",
    "#|code-fold: true\n",
    "def create_data_folder(\n",
    "    folder_path:str,\n",
    "    searches:tuple,\n",
    "    before:str='',\n",
    "    after:str='',\n",
    "    amount:int=200,\n",
    "    recreate:bool=False\n",
    "):\n",
    "    'generate image data'\n",
    "    assert isinstance(searches, tuple), \"searches must be a list.\"\n",
    "    assert isinstance(amount, int), \"amount must be an int.\"\n",
    "    assert isinstance(recreate, bool), \"recreate must be a bool.\"\n",
    "    assert isinstance(before, str), \"before must be a str.\"\n",
    "    assert isinstance(after, str), \"after must be a str.\"\n",
    "    \n",
    "    if recreate is False and os.path.exists(folder_path):\n",
    "        print(f\"Folder already exists: {folder_path}\") \n",
    "    else:   \n",
    "        if recreate is True and os.path.exists(folder_path): \n",
    "            shutil.rmtree(folder_path)\n",
    "        create_searches_folder(folder_path, searches)\n",
    "        download_search_images(folder_path, searches, before, after, amount)\n",
    "        verify_pics(folder_path)\n",
    "        resize_pics(folder_path, searches)\n",
    "\n",
    "        "
   ]
  },
  {
   "cell_type": "markdown",
   "id": "68737db2-3bd3-4a70-a971-7030a5aa23ce",
   "metadata": {},
   "source": [
    "## Classifying Images"
   ]
  },
  {
   "cell_type": "code",
   "execution_count": null,
   "id": "c3720a92-eccc-425b-a319-4da71275812b",
   "metadata": {},
   "outputs": [],
   "source": [
    "#|exports\n",
    "#|code-fold: true\n",
    "def classify_images(learn, img):\n",
    "    'image classifer'\n",
    "    categories = learn.dls.vocab\n",
    "    pred,idx,probs = learn.predict(PILImage.create(img))\n",
    "    rounded_probs = [round(float(prob*100), 5) for prob in probs]\n",
    "    return dict(zip(categories, rounded_probs))"
   ]
  },
  {
   "cell_type": "code",
   "execution_count": null,
   "id": "56b06674-d449-499e-9d00-a2fa04b6aaf8",
   "metadata": {},
   "outputs": [],
   "source": []
  }
 ],
 "metadata": {
  "kernelspec": {
   "display_name": "Python 3 (ipykernel)",
   "language": "python",
   "name": "python3"
  },
  "language_info": {
   "codemirror_mode": {
    "name": "ipython",
    "version": 3
   },
   "file_extension": ".py",
   "mimetype": "text/x-python",
   "name": "python",
   "nbconvert_exporter": "python",
   "pygments_lexer": "ipython3",
   "version": "3.11.4"
  }
 },
 "nbformat": 4,
 "nbformat_minor": 5
}
