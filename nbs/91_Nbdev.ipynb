{
 "cells": [
  {
   "cell_type": "code",
   "execution_count": null,
   "id": "9851b09d-c59b-46ac-b421-3222657751fc",
   "metadata": {},
   "outputs": [],
   "source": []
  },
  {
   "cell_type": "code",
   "execution_count": null,
   "id": "5d2416a3-c4c0-4b54-b311-015e8e30da61",
   "metadata": {},
   "outputs": [],
   "source": [
    "%load_ext autoreload\n",
    "%autoreload 2"
   ]
  },
  {
   "cell_type": "markdown",
   "id": "2f3fb7c4-7a08-46c7-8df2-f78d0d5428f0",
   "metadata": {},
   "source": [
    "# Nbdev\n",
    "> Nbdev"
   ]
  },
  {
   "cell_type": "code",
   "execution_count": 2,
   "id": "9385ad1b-70fe-4dd4-a031-11d81b811ccb",
   "metadata": {},
   "outputs": [],
   "source": [
    "#| default_exp automate"
   ]
  },
  {
   "cell_type": "code",
   "execution_count": 3,
   "id": "f95a424e-8a80-422f-a53a-e6aee1e349f5",
   "metadata": {},
   "outputs": [
    {
     "name": "stdout",
     "output_type": "stream",
     "text": [
      "nbdev                         2.3.12\n"
     ]
    }
   ],
   "source": [
    "!pip list | grep nbdev"
   ]
  },
  {
   "cell_type": "code",
   "execution_count": 11,
   "id": "42ec4d4d-0bbe-4079-b8aa-6293a07a7933",
   "metadata": {},
   "outputs": [],
   "source": [
    "from nbdev.doclinks import *\n",
    "from nbdev.test import *"
   ]
  },
  {
   "cell_type": "code",
   "execution_count": 56,
   "id": "6d1499d1-aa55-47d8-92fd-fa056b1fb135",
   "metadata": {},
   "outputs": [],
   "source": [
    "#|eval: false\n",
    "#|exports\n",
    "def prepare():\n",
    "    \"Export, test, and clean notebooks, and render README if needed\"\n",
    "    import nbdev.test, nbdev.clean, nbdev.quarto\n",
    "    nbdev_export.__wrapped__()\n",
    "    nbdev.test.nbdev_test.__wrapped__()\n",
    "    nbdev.clean.nbdev_clean.__wrapped__()\n",
    "    nbdev.quarto.refresh_quarto_yml()\n",
    "    nbdev.quarto.nbdev_readme.__wrapped__(chk_time=True)"
   ]
  },
  {
   "cell_type": "code",
   "execution_count": 57,
   "id": "be18170d-b9e7-4ccc-8689-ec626f72230a",
   "metadata": {},
   "outputs": [
    {
     "name": "stdout",
     "output_type": "stream",
     "text": [
      "Success.\n"
     ]
    }
   ],
   "source": [
    "#|eval: false\n",
    "prepare()"
   ]
  },
  {
   "cell_type": "code",
   "execution_count": null,
   "id": "ebf2b9a5-7ca5-49ad-b324-c033a1f4ff16",
   "metadata": {},
   "outputs": [],
   "source": []
  },
  {
   "cell_type": "code",
   "execution_count": 70,
   "id": "a293b8a2-ee76-45ff-94c9-95e69b409bb8",
   "metadata": {},
   "outputs": [
    {
     "name": "stdout",
     "output_type": "stream",
     "text": [
      "On branch main\n",
      "Your branch is up to date with 'origin/main'.\n",
      "\n",
      "Changes to be committed:\n",
      "  (use \"git restore --staged <file>...\" to unstage)\n",
      "\t\u001b[32mmodified:   91_Nbdev.ipynb\u001b[m\n",
      "\t\u001b[32mmodified:   index.ipynb\u001b[m\n",
      "\n",
      "Changes not staged for commit:\n",
      "  (use \"git add <file>...\" to update what will be committed)\n",
      "  (use \"git restore <file>...\" to discard changes in working directory)\n",
      "\t\u001b[31mmodified:   ../README.md\u001b[m\n",
      "\t\u001b[31mmodified:   ../_proc/91_Nbdev.ipynb\u001b[m\n",
      "\t\u001b[31mmodified:   ../_proc/index.ipynb\u001b[m\n",
      "\t\u001b[31mmodified:   ../fastAIcourse/_modidx.py\u001b[m\n",
      "\n",
      "Untracked files:\n",
      "  (use \"git add <file>...\" to include in what will be committed)\n",
      "\t\u001b[31m../fastAIcourse/automate.py\u001b[m\n",
      "\n"
     ]
    }
   ],
   "source": [
    "#|eval: false\n",
    "!git status"
   ]
  },
  {
   "cell_type": "code",
   "execution_count": 84,
   "id": "bda03798-99c5-4fb0-a404-283de8ab7ceb",
   "metadata": {},
   "outputs": [],
   "source": [
    "#|eval: false\n",
    "#|exports\n",
    "def update(\n",
    "    comment:str=\"update\"\n",
    "):\n",
    "    !git add *\n",
    "    !git commit -m \"update\"\n",
    "    !git push"
   ]
  },
  {
   "cell_type": "code",
   "execution_count": 85,
   "id": "f53f5717-0943-4a88-a8a7-a9db90faffa4",
   "metadata": {},
   "outputs": [
    {
     "name": "stdout",
     "output_type": "stream",
     "text": [
      "The following paths are ignored by one of your .gitignore files:\n",
      "nbs/Data\n",
      "nbs/bears\n",
      "nbs/bird_or_not\n",
      "\u001b[33mhint: Use -f if you really want to add them.\u001b[m\n",
      "\u001b[33mhint: Turn this message off by running\u001b[m\n",
      "\u001b[33mhint: \"git config advice.addIgnoredFile false\"\u001b[m\n",
      "[main 2ff3a52] update\n",
      " 1 file changed, 12 insertions(+), 5 deletions(-)\n",
      "Enumerating objects: 7, done.\n",
      "Counting objects: 100% (7/7), done.\n",
      "Delta compression using up to 12 threads\n",
      "Compressing objects: 100% (4/4), done.\n",
      "Writing objects: 100% (4/4), 528 bytes | 528.00 KiB/s, done.\n",
      "Total 4 (delta 3), reused 0 (delta 0), pack-reused 0\n",
      "remote: Resolving deltas: 100% (3/3), completed with 3 local objects.\u001b[K\n",
      "To https://github.com/bthek1/fastAIcourse.git\n",
      "   43f0771..2ff3a52  main -> main\n"
     ]
    }
   ],
   "source": [
    "update()"
   ]
  },
  {
   "cell_type": "code",
   "execution_count": null,
   "id": "b9fd634d-6640-4d7d-94dd-f2db94cedd98",
   "metadata": {},
   "outputs": [],
   "source": []
  }
 ],
 "metadata": {
  "kernelspec": {
   "display_name": "Python 3 (ipykernel)",
   "language": "python",
   "name": "python3"
  },
  "language_info": {
   "codemirror_mode": {
    "name": "ipython",
    "version": 3
   },
   "file_extension": ".py",
   "mimetype": "text/x-python",
   "name": "python",
   "nbconvert_exporter": "python",
   "pygments_lexer": "ipython3",
   "version": "3.11.4"
  }
 },
 "nbformat": 4,
 "nbformat_minor": 5
}
