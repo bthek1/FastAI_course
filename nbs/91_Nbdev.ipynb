{
 "cells": [
  {
   "cell_type": "code",
   "execution_count": null,
   "id": "9851b09d-c59b-46ac-b421-3222657751fc",
   "metadata": {},
   "outputs": [],
   "source": []
  },
  {
   "cell_type": "code",
   "execution_count": 2,
   "id": "5d2416a3-c4c0-4b54-b311-015e8e30da61",
   "metadata": {},
   "outputs": [],
   "source": [
    "%load_ext autoreload\n",
    "%autoreload 2"
   ]
  },
  {
   "cell_type": "markdown",
   "id": "2f3fb7c4-7a08-46c7-8df2-f78d0d5428f0",
   "metadata": {},
   "source": [
    "# Nbdev\n",
    "> Nbdev"
   ]
  },
  {
   "cell_type": "code",
   "execution_count": 3,
   "id": "9385ad1b-70fe-4dd4-a031-11d81b811ccb",
   "metadata": {},
   "outputs": [],
   "source": [
    "#| default_exp automate"
   ]
  },
  {
   "cell_type": "code",
   "execution_count": 4,
   "id": "f95a424e-8a80-422f-a53a-e6aee1e349f5",
   "metadata": {},
   "outputs": [
    {
     "name": "stdout",
     "output_type": "stream",
     "text": [
      "nbdev                         2.3.12\n"
     ]
    }
   ],
   "source": [
    "!pip list | grep nbdev"
   ]
  },
  {
   "cell_type": "code",
   "execution_count": 57,
   "id": "6d1499d1-aa55-47d8-92fd-fa056b1fb135",
   "metadata": {},
   "outputs": [],
   "source": [
    "#|eval: false\n",
    "#|exports\n",
    "def prepare():\n",
    "    \"Export, test, and clean notebooks, and render README if needed\"\n",
    "    import nbdev.test, nbdev.clean, nbdev.quarto\n",
    "    \n",
    "    nbdev.quarto.nbdev_export.__wrapped__()\n",
    "    print(f'nbdev_export finshed')\n",
    "    nbdev.test.nbdev_test.__wrapped__(\n",
    "        n_workers = 8,  # Number of workers\n",
    "        timing = True,  # Time each notebook to see which are slow\n",
    "    )\n",
    "    print(f'nbdev_test finshed')\n",
    "    nbdev.clean.nbdev_clean.__wrapped__()\n",
    "    print(f'nbdev_clean finshed')\n",
    "    nbdev.quarto.refresh_quarto_yml()\n",
    "    print(f'refresh_quarto_yml finshed')\n",
    "    nbdev.quarto.nbdev_readme.__wrapped__(chk_time=True)\n",
    "    print(f'nbdev_readme finshed')"
   ]
  },
  {
   "cell_type": "code",
   "execution_count": 58,
   "id": "be18170d-b9e7-4ccc-8689-ec626f72230a",
   "metadata": {},
   "outputs": [
    {
     "name": "stdout",
     "output_type": "stream",
     "text": [
      "nbdev_export finshed\n",
      "Success.\n",
      "90_Functions.ipynb: 2 secs\n",
      "91_Nbdev.ipynb: 0 secs\n",
      "01_Deployment.ipynb: 0 secs\n",
      "03_NaturalLanguage.ipynb: 0 secs\n",
      "04_Model.ipynb: 0 secs\n",
      "02_NeuralNet.ipynb: 0 secs\n",
      "00_Intro.ipynb: 0 secs\n",
      "index.ipynb: 0 secs\n",
      "nbdev_test finshed\n",
      "nbdev_clean finshed\n",
      "refresh_quarto_yml finshed\n",
      "nbdev_readme finshed\n"
     ]
    }
   ],
   "source": [
    "#|eval: false\n",
    "prepare()"
   ]
  },
  {
   "cell_type": "code",
   "execution_count": null,
   "id": "a293b8a2-ee76-45ff-94c9-95e69b409bb8",
   "metadata": {},
   "outputs": [],
   "source": [
    "#|eval: false\n",
    "!git status"
   ]
  },
  {
   "cell_type": "code",
   "execution_count": 48,
   "id": "b9fd634d-6640-4d7d-94dd-f2db94cedd98",
   "metadata": {},
   "outputs": [],
   "source": [
    "import fastAIcourse.automate"
   ]
  },
  {
   "cell_type": "code",
   "execution_count": 52,
   "id": "92225074-8265-4a68-a0eb-a6ab72ddd1c5",
   "metadata": {},
   "outputs": [
    {
     "data": {
      "text/plain": [
       "\u001b[0;31mSignature:\u001b[0m \u001b[0mfastAIcourse\u001b[0m\u001b[0;34m.\u001b[0m\u001b[0mautomate\u001b[0m\u001b[0;34m.\u001b[0m\u001b[0mprepare\u001b[0m\u001b[0;34m(\u001b[0m\u001b[0;34m)\u001b[0m\u001b[0;34m\u001b[0m\u001b[0;34m\u001b[0m\u001b[0m\n",
       "\u001b[0;31mSource:\u001b[0m   \n",
       "\u001b[0;32mdef\u001b[0m \u001b[0mprepare\u001b[0m\u001b[0;34m(\u001b[0m\u001b[0;34m)\u001b[0m\u001b[0;34m:\u001b[0m\u001b[0;34m\u001b[0m\n",
       "\u001b[0;34m\u001b[0m    \u001b[0;34m\"Export, test, and clean notebooks, and render README if needed\"\u001b[0m\u001b[0;34m\u001b[0m\n",
       "\u001b[0;34m\u001b[0m    \u001b[0;32mimport\u001b[0m \u001b[0mnbdev\u001b[0m\u001b[0;34m.\u001b[0m\u001b[0mtest\u001b[0m\u001b[0;34m,\u001b[0m \u001b[0mnbdev\u001b[0m\u001b[0;34m.\u001b[0m\u001b[0mclean\u001b[0m\u001b[0;34m,\u001b[0m \u001b[0mnbdev\u001b[0m\u001b[0;34m.\u001b[0m\u001b[0mquarto\u001b[0m\u001b[0;34m\u001b[0m\n",
       "\u001b[0;34m\u001b[0m    \u001b[0mnbdev\u001b[0m\u001b[0;34m.\u001b[0m\u001b[0mquarto\u001b[0m\u001b[0;34m.\u001b[0m\u001b[0mnbdev_export\u001b[0m\u001b[0;34m.\u001b[0m\u001b[0m__wrapped__\u001b[0m\u001b[0;34m(\u001b[0m\u001b[0;34m)\u001b[0m\u001b[0;34m\u001b[0m\n",
       "\u001b[0;34m\u001b[0m    \u001b[0mnbdev\u001b[0m\u001b[0;34m.\u001b[0m\u001b[0mtest\u001b[0m\u001b[0;34m.\u001b[0m\u001b[0mnbdev_test\u001b[0m\u001b[0;34m.\u001b[0m\u001b[0m__wrapped__\u001b[0m\u001b[0;34m(\u001b[0m\u001b[0;34m\u001b[0m\n",
       "\u001b[0;34m\u001b[0m        \u001b[0mn_workers\u001b[0m \u001b[0;34m=\u001b[0m \u001b[0;36m8\u001b[0m\u001b[0;34m,\u001b[0m  \u001b[0;31m# Number of workers\u001b[0m\u001b[0;34m\u001b[0m\n",
       "\u001b[0;34m\u001b[0m        \u001b[0mtiming\u001b[0m \u001b[0;34m=\u001b[0m \u001b[0;32mTrue\u001b[0m\u001b[0;34m,\u001b[0m  \u001b[0;31m# Time each notebook to see which are slow\u001b[0m\u001b[0;34m\u001b[0m\n",
       "\u001b[0;34m\u001b[0m    \u001b[0;34m)\u001b[0m\u001b[0;34m\u001b[0m\n",
       "\u001b[0;34m\u001b[0m    \u001b[0mnbdev\u001b[0m\u001b[0;34m.\u001b[0m\u001b[0mclean\u001b[0m\u001b[0;34m.\u001b[0m\u001b[0mnbdev_clean\u001b[0m\u001b[0;34m.\u001b[0m\u001b[0m__wrapped__\u001b[0m\u001b[0;34m(\u001b[0m\u001b[0;34m\u001b[0m\n",
       "\u001b[0;34m\u001b[0m        \u001b[0mdisp\u001b[0m \u001b[0;34m=\u001b[0m \u001b[0;32mTrue\u001b[0m\u001b[0;34m\u001b[0m\n",
       "\u001b[0;34m\u001b[0m    \u001b[0;34m)\u001b[0m\u001b[0;34m\u001b[0m\n",
       "\u001b[0;34m\u001b[0m    \u001b[0mnbdev\u001b[0m\u001b[0;34m.\u001b[0m\u001b[0mquarto\u001b[0m\u001b[0;34m.\u001b[0m\u001b[0mrefresh_quarto_yml\u001b[0m\u001b[0;34m(\u001b[0m\u001b[0;34m)\u001b[0m\u001b[0;34m\u001b[0m\n",
       "\u001b[0;34m\u001b[0m    \u001b[0mnbdev\u001b[0m\u001b[0;34m.\u001b[0m\u001b[0mquarto\u001b[0m\u001b[0;34m.\u001b[0m\u001b[0mnbdev_readme\u001b[0m\u001b[0;34m.\u001b[0m\u001b[0m__wrapped__\u001b[0m\u001b[0;34m(\u001b[0m\u001b[0mchk_time\u001b[0m\u001b[0;34m=\u001b[0m\u001b[0;32mTrue\u001b[0m\u001b[0;34m)\u001b[0m\u001b[0;34m\u001b[0m\u001b[0;34m\u001b[0m\u001b[0m\n",
       "\u001b[0;31mFile:\u001b[0m      ~/BENEDICT_Only/Benedict_Projects/Benedict_ML/fastAIcourse/fastAIcourse/automate.py\n",
       "\u001b[0;31mType:\u001b[0m      function"
      ]
     },
     "metadata": {},
     "output_type": "display_data"
    }
   ],
   "source": [
    "??fastAIcourse.automate.prepare"
   ]
  },
  {
   "cell_type": "code",
   "execution_count": null,
   "id": "f66ef35f-b7fa-4039-aa07-e9b782d204bb",
   "metadata": {},
   "outputs": [],
   "source": []
  }
 ],
 "metadata": {
  "kernelspec": {
   "display_name": "Python 3 (ipykernel)",
   "language": "python",
   "name": "python3"
  },
  "language_info": {
   "codemirror_mode": {
    "name": "ipython",
    "version": 3
   },
   "file_extension": ".py",
   "mimetype": "text/x-python",
   "name": "python",
   "nbconvert_exporter": "python",
   "pygments_lexer": "ipython3",
   "version": "3.11.4"
  }
 },
 "nbformat": 4,
 "nbformat_minor": 5
}
