{
 "cells": [
  {
   "cell_type": "code",
   "execution_count": null,
   "id": "9851b09d-c59b-46ac-b421-3222657751fc",
   "metadata": {},
   "outputs": [],
   "source": []
  },
  {
   "cell_type": "code",
   "execution_count": null,
   "id": "5d2416a3-c4c0-4b54-b311-015e8e30da61",
   "metadata": {},
   "outputs": [],
   "source": [
    "%load_ext autoreload\n",
    "%autoreload 2"
   ]
  },
  {
   "cell_type": "markdown",
   "id": "2f3fb7c4-7a08-46c7-8df2-f78d0d5428f0",
   "metadata": {},
   "source": [
    "# Nbdev\n",
    "> Nbdev"
   ]
  },
  {
   "cell_type": "code",
   "execution_count": null,
   "id": "9385ad1b-70fe-4dd4-a031-11d81b811ccb",
   "metadata": {},
   "outputs": [],
   "source": [
    "#| default_exp automate"
   ]
  },
  {
   "cell_type": "code",
   "execution_count": null,
   "id": "f95a424e-8a80-422f-a53a-e6aee1e349f5",
   "metadata": {},
   "outputs": [
    {
     "name": "stdout",
     "output_type": "stream",
     "text": [
      "nbdev                         2.3.12\n"
     ]
    }
   ],
   "source": [
    "!pip list | grep nbdev"
   ]
  },
  {
   "cell_type": "code",
   "execution_count": null,
   "id": "6d1499d1-aa55-47d8-92fd-fa056b1fb135",
   "metadata": {},
   "outputs": [],
   "source": [
    "#|eval: false\n",
    "#|exports\n",
    "def prepare():\n",
    "    \"Export, test, and clean notebooks, and render README if needed\"\n",
    "    import nbdev.test, nbdev.clean, nbdev.quarto\n",
    "    \n",
    "    nbdev.quarto.nbdev_export.__wrapped__()\n",
    "    print(f'nbdev_export finshed')\n",
    "    nbdev.test.nbdev_test.__wrapped__(\n",
    "        n_workers = 8,  # Number of workers\n",
    "        timing = True,  # Time each notebook to see which are slow\n",
    "    )\n",
    "    print(f'nbdev_test finshed')\n",
    "    nbdev.clean.nbdev_clean.__wrapped__()\n",
    "    print(f'nbdev_clean finshed')\n",
    "    nbdev.quarto.refresh_quarto_yml()\n",
    "    print(f'refresh_quarto_yml finshed')\n",
    "    nbdev.quarto.nbdev_readme.__wrapped__(chk_time=True)\n",
    "    print(f'nbdev_readme finshed')"
   ]
  },
  {
   "cell_type": "code",
   "execution_count": null,
   "id": "be18170d-b9e7-4ccc-8689-ec626f72230a",
   "metadata": {},
   "outputs": [
    {
     "name": "stdout",
     "output_type": "stream",
     "text": [
      "nbdev_export finshed\n",
      "Success.\n",
      "90_Functions.ipynb: 2 secs\n",
      "91_Nbdev.ipynb: 0 secs\n",
      "01_Deployment.ipynb: 0 secs\n",
      "00_Intro.ipynb: 0 secs\n",
      "02_NeuralNet.ipynb: 0 secs\n",
      "03_NaturalLanguage.ipynb: 0 secs\n",
      "04_Model.ipynb: 0 secs\n",
      "index.ipynb: 0 secs\n",
      "nbdev_test finshed\n",
      "nbdev_clean finshed\n",
      "refresh_quarto_yml finshed\n",
      "nbdev_readme finshed\n"
     ]
    }
   ],
   "source": [
    "#|eval: false\n",
    "prepare()"
   ]
  },
  {
   "cell_type": "code",
   "execution_count": null,
   "id": "a293b8a2-ee76-45ff-94c9-95e69b409bb8",
   "metadata": {},
   "outputs": [],
   "source": [
    "#|eval: false\n",
    "!git status"
   ]
  },
  {
   "cell_type": "code",
   "execution_count": null,
   "id": "b9fd634d-6640-4d7d-94dd-f2db94cedd98",
   "metadata": {},
   "outputs": [],
   "source": [
    "import fastAIcourse.automate"
   ]
  },
  {
   "cell_type": "code",
   "execution_count": null,
   "id": "92225074-8265-4a68-a0eb-a6ab72ddd1c5",
   "metadata": {},
   "outputs": [
    {
     "name": "stdout",
     "output_type": "stream",
     "text": [
      "Object `fastAIcourse.automate.gacp` not found.\n"
     ]
    }
   ],
   "source": [
    "??fastAIcourse.automate.gacp"
   ]
  },
  {
   "cell_type": "code",
   "execution_count": null,
   "id": "f66ef35f-b7fa-4039-aa07-e9b782d204bb",
   "metadata": {},
   "outputs": [],
   "source": [
    "#|eval: false\n",
    "#|exports\n",
    "def gacp(\n",
    "    comment:str=\"update\"\n",
    "):\n",
    "    import subprocess\n",
    "    subprocess.run([\"git\", \"add\", \".\"])\n",
    "    subprocess.run([\"git\", \"commit\", \"-m\", comment])\n",
    "    subprocess.run([\"git\", \"push\"])"
   ]
  },
  {
   "cell_type": "code",
   "execution_count": null,
   "id": "784feebf-387d-47a1-bff0-ae81dd3df710",
   "metadata": {},
   "outputs": [
    {
     "name": "stdout",
     "output_type": "stream",
     "text": [
      "On branch main\n",
      "Your branch is ahead of 'origin/main' by 1 commit.\n",
      "  (use \"git push\" to publish your local commits)\n",
      "\n",
      "Changes not staged for commit:\n",
      "  (use \"git add <file>...\" to update what will be committed)\n",
      "  (use \"git restore <file>...\" to discard changes in working directory)\n",
      "\tmodified:   ../fastAIcourse/_modidx.py\n",
      "\tmodified:   ../fastAIcourse/automate.py\n",
      "\tmodified:   ../fastAIcourse/functions.py\n",
      "\tmodified:   ../settings.ini\n",
      "\n",
      "no changes added to commit (use \"git add\" and/or \"git commit -a\")\n"
     ]
    },
    {
     "name": "stderr",
     "output_type": "stream",
     "text": [
      "To https://github.com/bthek1/fastAIcourse.git\n",
      "   dde6c44..2fabe30  main -> main\n"
     ]
    }
   ],
   "source": [
    "#|eval: false\n",
    "gacp()"
   ]
  },
  {
   "cell_type": "code",
   "execution_count": null,
   "id": "cf412bbb-579f-4a2e-b3ba-a83a00db45e2",
   "metadata": {},
   "outputs": [],
   "source": []
  }
 ],
 "metadata": {
  "kernelspec": {
   "display_name": "python3",
   "language": "python",
   "name": "python3"
  }
 },
 "nbformat": 4,
 "nbformat_minor": 5
}
