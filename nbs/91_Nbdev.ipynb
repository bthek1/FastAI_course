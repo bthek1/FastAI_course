{
 "cells": [
  {
   "cell_type": "code",
   "execution_count": null,
   "id": "5d2416a3-c4c0-4b54-b311-015e8e30da61",
   "metadata": {},
   "outputs": [],
   "source": [
    "%load_ext autoreload\n",
    "%autoreload 2"
   ]
  },
  {
   "cell_type": "markdown",
   "id": "2f3fb7c4-7a08-46c7-8df2-f78d0d5428f0",
   "metadata": {},
   "source": [
    "# Nbdev\n",
    "> Nbdev"
   ]
  },
  {
   "cell_type": "code",
   "execution_count": null,
   "id": "9385ad1b-70fe-4dd4-a031-11d81b811ccb",
   "metadata": {},
   "outputs": [],
   "source": [
    "#| default_exp automate"
   ]
  },
  {
   "cell_type": "code",
   "execution_count": null,
   "id": "f95a424e-8a80-422f-a53a-e6aee1e349f5",
   "metadata": {},
   "outputs": [
    {
     "name": "stdout",
     "output_type": "stream",
     "text": [
      "nbdev                         2.3.12\n"
     ]
    }
   ],
   "source": [
    "!pip list | grep nbdev"
   ]
  },
  {
   "cell_type": "code",
   "execution_count": null,
   "id": "6d1499d1-aa55-47d8-92fd-fa056b1fb135",
   "metadata": {},
   "outputs": [],
   "source": [
    "#|exports\n",
    "def prepare():\n",
    "    \"Export, test, and clean notebooks, and render README if needed\"\n",
    "    import nbdev.test, nbdev.clean, nbdev.quarto\n",
    "    \n",
    "    nbdev.quarto.nbdev_export.__wrapped__()\n",
    "    print(f'### nbdev_export finshed ###')\n",
    "    nbdev.test.nbdev_test.__wrapped__(\n",
    "        n_workers = 8,  # Number of workers\n",
    "        timing = True,  # Time each notebook to see which are slow\n",
    "    )\n",
    "    print(f'### nbdev_test finshed ###')\n",
    "    nbdev.clean.nbdev_clean.__wrapped__()\n",
    "    print(f'### nbdev_clean finshed ###')\n",
    "    nbdev.quarto.refresh_quarto_yml()\n",
    "    print(f'### refresh_quarto_yml finshed ###')\n",
    "    nbdev.quarto.nbdev_readme.__wrapped__(chk_time=True)\n",
    "    print(f'### nbdev_readme finshed ###')"
   ]
  },
  {
   "cell_type": "code",
   "execution_count": null,
   "id": "b9fd634d-6640-4d7d-94dd-f2db94cedd98",
   "metadata": {},
   "outputs": [],
   "source": [
    "import fastAIcourse.automate"
   ]
  },
  {
   "cell_type": "code",
   "execution_count": null,
   "id": "92225074-8265-4a68-a0eb-a6ab72ddd1c5",
   "metadata": {},
   "outputs": [
    {
     "data": {
      "text/plain": [
       "\u001b[0;31mSignature:\u001b[0m \u001b[0mfastAIcourse\u001b[0m\u001b[0;34m.\u001b[0m\u001b[0mautomate\u001b[0m\u001b[0;34m.\u001b[0m\u001b[0mgacp\u001b[0m\u001b[0;34m(\u001b[0m\u001b[0mcomment\u001b[0m\u001b[0;34m:\u001b[0m \u001b[0mstr\u001b[0m \u001b[0;34m=\u001b[0m \u001b[0;34m'update'\u001b[0m\u001b[0;34m)\u001b[0m\u001b[0;34m\u001b[0m\u001b[0;34m\u001b[0m\u001b[0m\n",
       "\u001b[0;31mDocstring:\u001b[0m <no docstring>\n",
       "\u001b[0;31mSource:\u001b[0m   \n",
       "\u001b[0;32mdef\u001b[0m \u001b[0mgacp\u001b[0m\u001b[0;34m(\u001b[0m\u001b[0;34m\u001b[0m\n",
       "\u001b[0;34m\u001b[0m    \u001b[0mcomment\u001b[0m\u001b[0;34m:\u001b[0m\u001b[0mstr\u001b[0m\u001b[0;34m=\u001b[0m\u001b[0;34m\"update\"\u001b[0m\u001b[0;34m\u001b[0m\n",
       "\u001b[0;34m\u001b[0m\u001b[0;34m)\u001b[0m\u001b[0;34m:\u001b[0m\u001b[0;34m\u001b[0m\n",
       "\u001b[0;34m\u001b[0m    \u001b[0;32mimport\u001b[0m \u001b[0msubprocess\u001b[0m\u001b[0;34m\u001b[0m\n",
       "\u001b[0;34m\u001b[0m    \u001b[0msubprocess\u001b[0m\u001b[0;34m.\u001b[0m\u001b[0mrun\u001b[0m\u001b[0;34m(\u001b[0m\u001b[0;34m[\u001b[0m\u001b[0;34m\"git\"\u001b[0m\u001b[0;34m,\u001b[0m \u001b[0;34m\"add\"\u001b[0m\u001b[0;34m,\u001b[0m \u001b[0;34m\".\"\u001b[0m\u001b[0;34m]\u001b[0m\u001b[0;34m)\u001b[0m\u001b[0;34m\u001b[0m\n",
       "\u001b[0;34m\u001b[0m    \u001b[0msubprocess\u001b[0m\u001b[0;34m.\u001b[0m\u001b[0mrun\u001b[0m\u001b[0;34m(\u001b[0m\u001b[0;34m[\u001b[0m\u001b[0;34m\"git\"\u001b[0m\u001b[0;34m,\u001b[0m \u001b[0;34m\"commit\"\u001b[0m\u001b[0;34m,\u001b[0m \u001b[0;34m\"-m\"\u001b[0m\u001b[0;34m,\u001b[0m \u001b[0mcomment\u001b[0m\u001b[0;34m]\u001b[0m\u001b[0;34m)\u001b[0m\u001b[0;34m\u001b[0m\n",
       "\u001b[0;34m\u001b[0m    \u001b[0msubprocess\u001b[0m\u001b[0;34m.\u001b[0m\u001b[0mrun\u001b[0m\u001b[0;34m(\u001b[0m\u001b[0;34m[\u001b[0m\u001b[0;34m\"git\"\u001b[0m\u001b[0;34m,\u001b[0m \u001b[0;34m\"push\"\u001b[0m\u001b[0;34m]\u001b[0m\u001b[0;34m)\u001b[0m\u001b[0;34m\u001b[0m\u001b[0;34m\u001b[0m\u001b[0m\n",
       "\u001b[0;31mFile:\u001b[0m      ~/BENEDICT_Only/Benedict_Projects/Benedict_ML/fastAIcourse/fastAIcourse/automate.py\n",
       "\u001b[0;31mType:\u001b[0m      function"
      ]
     },
     "metadata": {},
     "output_type": "display_data"
    }
   ],
   "source": [
    "??fastAIcourse.automate.gacp"
   ]
  },
  {
   "cell_type": "code",
   "execution_count": null,
   "id": "f66ef35f-b7fa-4039-aa07-e9b782d204bb",
   "metadata": {},
   "outputs": [],
   "source": [
    "#|exports\n",
    "def gacp(\n",
    "    comment:str=\"update\"\n",
    "):\n",
    "    import subprocess\n",
    "    subprocess.run([\"git\", \"add\", \".\"])\n",
    "    print(f'### git added ###')\n",
    "    status = subprocess.check_output([\"git\", \"status\", \"-s\"])\n",
    "    subprocess.run([\"git\", \"commit\", \"-m\", status])\n",
    "    print(f'### git commited ###')\n",
    "    subprocess.run([\"git\", \"push\"])\n",
    "    print(f'### git pushed ###')"
   ]
  },
  {
   "cell_type": "code",
   "execution_count": null,
   "id": "cf412bbb-579f-4a2e-b3ba-a83a00db45e2",
   "metadata": {},
   "outputs": [],
   "source": [
    "#|exports\n",
    "def upload():\n",
    "    prepare()\n",
    "    gacp()"
   ]
  }
 ],
 "metadata": {
  "kernelspec": {
   "display_name": "python3",
   "language": "python",
   "name": "python3"
  }
 },
 "nbformat": 4,
 "nbformat_minor": 5
}
