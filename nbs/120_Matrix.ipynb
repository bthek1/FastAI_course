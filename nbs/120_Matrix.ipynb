{
 "cells": [
  {
   "cell_type": "code",
   "execution_count": null,
   "id": "88e152a3-4df3-4c76-a7cc-f318c4d7a9e3",
   "metadata": {},
   "outputs": [],
   "source": [
    "%load_ext autoreload\n",
    "%autoreload 2"
   ]
  },
  {
   "cell_type": "markdown",
   "id": "881bd2fd-f9c1-486e-9c82-d5585027263e",
   "metadata": {},
   "source": [
    "# Matrix and tensor\n",
    "\n",
    "> Matrix and tensor\n",
    "\n",
    "\n",
    "- skip_showdoc: true\n",
    "- skip_exec: true"
   ]
  },
  {
   "cell_type": "code",
   "execution_count": null,
   "id": "5c360558-c642-44b8-a68d-7eddbb165cd7",
   "metadata": {},
   "outputs": [],
   "source": [
    "#| default_exp matrix"
   ]
  },
  {
   "cell_type": "markdown",
   "id": "53b0e9fe-d492-4718-91a3-3671315cc77d",
   "metadata": {},
   "source": [
    "## Initial Checks"
   ]
  },
  {
   "cell_type": "code",
   "execution_count": null,
   "id": "b00cc65e-0e36-442b-b4d3-c669900806e4",
   "metadata": {},
   "outputs": [
    {
     "name": "stdout",
     "output_type": "stream",
     "text": [
      "ffmpeg                    4.3                  hf484d3e_0    pytorch\n",
      "libjpeg-turbo             2.0.0                h9bf148f_0    pytorch\n",
      "pytorch                   2.0.1           py3.11_cuda11.8_cudnn8.7.0_0    pytorch\n",
      "pytorch-cuda              11.8                 h7e8668a_5    pytorch\n",
      "pytorch-ignite            0.4.12                   pypi_0    pypi\n",
      "pytorch-lightning         2.0.7                    pypi_0    pypi\n",
      "pytorch-mutex             1.0                        cuda    pytorch\n",
      "torchaudio                2.0.2               py311_cu118    pytorch\n",
      "torchtriton               2.0.0                     py311    pytorch\n",
      "torchvision               0.15.2              py311_cu118    pytorch\n"
     ]
    }
   ],
   "source": [
    "#| hide\n",
    "!conda list | grep \"pytorch\""
   ]
  },
  {
   "cell_type": "code",
   "execution_count": null,
   "id": "e439043c-e314-465f-9b64-0ca1d82e53b2",
   "metadata": {},
   "outputs": [
    {
     "name": "stdout",
     "output_type": "stream",
     "text": [
      "fastai                        2.7.12\n",
      "fastbook                      0.0.28\n",
      "ipywidgets                    8.0.4\n"
     ]
    }
   ],
   "source": [
    "#| hide\n",
    "!pip list | grep \"fastai\" \n",
    "!pip list | grep \"fastbook\"\n",
    "!pip list | grep \"ipywidgets\""
   ]
  },
  {
   "cell_type": "code",
   "execution_count": null,
   "id": "4641e0fe-08ac-42df-9945-7a4b7d4a1b95",
   "metadata": {},
   "outputs": [],
   "source": [
    "import torch"
   ]
  },
  {
   "cell_type": "code",
   "execution_count": null,
   "id": "aec84493-62cd-41ec-969e-e5fc66b92be1",
   "metadata": {},
   "outputs": [
    {
     "data": {
      "text/plain": [
       "True"
      ]
     },
     "execution_count": null,
     "metadata": {},
     "output_type": "execute_result"
    }
   ],
   "source": [
    "torch.cuda.is_available()"
   ]
  },
  {
   "cell_type": "markdown",
   "id": "5d95cb15-d711-4a90-9b25-2c84ea071798",
   "metadata": {},
   "source": [
    "## Matrix multiplication from foundations"
   ]
  },
  {
   "cell_type": "code",
   "execution_count": null,
   "id": "67544ec3-a26a-4e23-9f12-b4e9b26b9cda",
   "metadata": {},
   "outputs": [],
   "source": [
    "from pathlib import Path\n",
    "import pickle, gzip, math, os, time, shutil, matplotlib as mpl, matplotlib.pyplot as plt"
   ]
  },
  {
   "cell_type": "markdown",
   "id": "80dde77e-464d-4d5a-8d96-f35edd9c842d",
   "metadata": {},
   "source": [
    "## Get data"
   ]
  },
  {
   "cell_type": "code",
   "execution_count": null,
   "id": "2fb86f6e-f0fd-400b-97ab-0cd2c3d289a4",
   "metadata": {},
   "outputs": [],
   "source": [
    "MNIST_URL = 'https://github.com/mnielsen/neural-networks-and-deep-learning/blob/master/data/mnist.pkl.gz?raw=true'\n",
    "path_data = Path('Data')\n",
    "path_data.mkdir(exist_ok = True)\n",
    "path_gz = path_data/'mnist.pkl.gz'"
   ]
  },
  {
   "cell_type": "code",
   "execution_count": null,
   "id": "3fca0428-691b-45af-b8ce-25f5a695f8f2",
   "metadata": {},
   "outputs": [
    {
     "data": {
      "text/plain": [
       "PosixPath('Data/mnist.pkl.gz')"
      ]
     },
     "execution_count": null,
     "metadata": {},
     "output_type": "execute_result"
    }
   ],
   "source": [
    "path_gz"
   ]
  },
  {
   "cell_type": "code",
   "execution_count": null,
   "id": "b3465844-4421-4526-804b-55ab70fb1e31",
   "metadata": {},
   "outputs": [],
   "source": [
    "from urllib.request import urlretrieve\n",
    "if not path_gz.exists(): urlretrieve(MNIST_URL, path_gz)"
   ]
  },
  {
   "cell_type": "code",
   "execution_count": null,
   "id": "38d71f98-c376-493d-85a0-b3b4fa1c7aa3",
   "metadata": {},
   "outputs": [],
   "source": [
    "with gzip.open(path_gz, 'rb') as f: ((x_train, y_train), (x_valid, y_valid), _) = pickle.load(f, encoding = 'latin-1')"
   ]
  },
  {
   "cell_type": "code",
   "execution_count": null,
   "id": "9fde10c4-0776-4183-8eef-09bbc44baa91",
   "metadata": {},
   "outputs": [
    {
     "data": {
      "text/plain": [
       "[0.0,\n",
       " 0.0,\n",
       " 0.0,\n",
       " 0.19140625,\n",
       " 0.9296875,\n",
       " 0.98828125,\n",
       " 0.98828125,\n",
       " 0.98828125,\n",
       " 0.98828125,\n",
       " 0.98828125]"
      ]
     },
     "execution_count": null,
     "metadata": {},
     "output_type": "execute_result"
    }
   ],
   "source": [
    "lst1 = list(x_train[0])\n",
    "vals = lst1[200:210]\n",
    "vals"
   ]
  },
  {
   "cell_type": "code",
   "execution_count": null,
   "id": "649cb0ce-2584-4c11-900c-fb62470eaea3",
   "metadata": {},
   "outputs": [],
   "source": [
    "def chunks(x, sz):\n",
    "    for i in range(0, len(x), sz):\n",
    "        yield x[i:i+sz]"
   ]
  },
  {
   "cell_type": "code",
   "execution_count": null,
   "id": "b26b108f-d451-43c5-9255-349adff9f53b",
   "metadata": {},
   "outputs": [
    {
     "data": {
      "text/plain": [
       "[[0.0, 0.0, 0.0, 0.19140625, 0.9296875],\n",
       " [0.98828125, 0.98828125, 0.98828125, 0.98828125, 0.98828125]]"
      ]
     },
     "execution_count": null,
     "metadata": {},
     "output_type": "execute_result"
    }
   ],
   "source": [
    "list(chunks(vals, 5))"
   ]
  },
  {
   "cell_type": "code",
   "execution_count": null,
   "id": "e67f3ebc-8609-4284-8109-7f7599e0e3c8",
   "metadata": {},
   "outputs": [
    {
     "data": {
      "image/png": "[encoded data removed]",
      "text/plain": [
       "<Figure size 640x480 with 1 Axes>"
      ]
     },
     "metadata": {},
     "output_type": "display_data"
    }
   ],
   "source": [
    "mpl.rcParams['image.cmap'] = 'gray'\n",
    "plt.imshow(list(chunks(lst1, 28)));"
   ]
  },
  {
   "cell_type": "code",
   "execution_count": null,
   "id": "d915356a-b856-4153-a4c8-cef83891a2bf",
   "metadata": {},
   "outputs": [],
   "source": [
    "from itertools import islice"
   ]
  },
  {
   "cell_type": "code",
   "execution_count": null,
   "id": "28c537c9-0af5-42bd-9cc0-344e5f39e539",
   "metadata": {},
   "outputs": [
    {
     "data": {
      "text/plain": [
       "<itertools.islice>"
      ]
     },
     "execution_count": null,
     "metadata": {},
     "output_type": "execute_result"
    }
   ],
   "source": [
    "it = iter(vals)\n",
    "islice(it, 5)"
   ]
  },
  {
   "cell_type": "code",
   "execution_count": null,
   "id": "c304948a-41d8-4a42-a8a2-d1a3b27b85c2",
   "metadata": {},
   "outputs": [
    {
     "data": {
      "text/plain": [
       "0.0"
      ]
     },
     "execution_count": null,
     "metadata": {},
     "output_type": "execute_result"
    }
   ],
   "source": [
    "next(it)"
   ]
  },
  {
   "cell_type": "code",
   "execution_count": null,
   "id": "91728c0a-5cb7-4597-87ed-d39ab42b8ae4",
   "metadata": {},
   "outputs": [],
   "source": [
    "isit = islice(it,5)"
   ]
  },
  {
   "cell_type": "code",
   "execution_count": null,
   "id": "002cea60-32c1-4eef-b543-f1e43438b0ee",
   "metadata": {},
   "outputs": [
    {
     "data": {
      "text/plain": [
       "0.0"
      ]
     },
     "execution_count": null,
     "metadata": {},
     "output_type": "execute_result"
    }
   ],
   "source": [
    "next(isit)"
   ]
  },
  {
   "cell_type": "code",
   "execution_count": null,
   "id": "6a544d0c-ef25-4db6-a432-9935568901c0",
   "metadata": {},
   "outputs": [
    {
     "data": {
      "text/plain": [
       "[0.0, 0.19140625, 0.9296875, 0.98828125, 0.98828125]"
      ]
     },
     "execution_count": null,
     "metadata": {},
     "output_type": "execute_result"
    }
   ],
   "source": [
    "list(islice(it, 5))"
   ]
  },
  {
   "cell_type": "code",
   "execution_count": null,
   "id": "31b8f563-5c11-47c1-8a09-7c0096ebc7d1",
   "metadata": {},
   "outputs": [],
   "source": [
    "it= iter(lst1)\n",
    "img = list(iter(lambda: list(islice(it,28)), []))"
   ]
  },
  {
   "cell_type": "code",
   "execution_count": null,
   "id": "6b678bb3-ee2f-4232-a075-833f0bbf5186",
   "metadata": {},
   "outputs": [
    {
     "data": {
      "image/png": "[encoded data removed]",
      "text/plain": [
       "<Figure size 640x480 with 1 Axes>"
      ]
     },
     "metadata": {},
     "output_type": "display_data"
    }
   ],
   "source": [
    "plt.imshow(img);"
   ]
  },
  {
   "cell_type": "markdown",
   "id": "7fe9150e-eee4-4550-b301-26192718be2d",
   "metadata": {},
   "source": [
    "## Matrix and tensor"
   ]
  },
  {
   "cell_type": "code",
   "execution_count": null,
   "id": "93b74738-d3c5-4bb7-acde-b70d9002fe98",
   "metadata": {},
   "outputs": [
    {
     "data": {
      "text/plain": [
       "0.98828125"
      ]
     },
     "execution_count": null,
     "metadata": {},
     "output_type": "execute_result"
    }
   ],
   "source": [
    "img[20][15]"
   ]
  },
  {
   "cell_type": "code",
   "execution_count": null,
   "id": "760f9953-0b16-4b71-b940-5f421c10ec1d",
   "metadata": {},
   "outputs": [],
   "source": [
    "class Matrix:\n",
    "    def __init__(self, xs): \n",
    "        self.xs = xs\n",
    "        \n",
    "    def __getitem__(self, idxs): \n",
    "        return self.xs[idxs[0]][idxs[1]]"
   ]
  },
  {
   "cell_type": "code",
   "execution_count": null,
   "id": "55aa1558-ae0f-4a6a-946d-3bfbd4218775",
   "metadata": {},
   "outputs": [
    {
     "data": {
      "text/plain": [
       "0.98828125"
      ]
     },
     "execution_count": null,
     "metadata": {},
     "output_type": "execute_result"
    }
   ],
   "source": [
    "m = Matrix(img)\n",
    "m[20, 15]"
   ]
  },
  {
   "cell_type": "code",
   "execution_count": null,
   "id": "b266d6f9-868a-441d-bd2c-481f81a91480",
   "metadata": {},
   "outputs": [],
   "source": [
    "import torch\n",
    "from torch import tensor"
   ]
  },
  {
   "cell_type": "code",
   "execution_count": null,
   "id": "b4e4d857-f9d4-40eb-8e91-2d754422f083",
   "metadata": {},
   "outputs": [
    {
     "data": {
      "text/plain": [
       "tensor([1, 2, 3])"
      ]
     },
     "execution_count": null,
     "metadata": {},
     "output_type": "execute_result"
    }
   ],
   "source": [
    "tensor([1,2,3])"
   ]
  },
  {
   "cell_type": "code",
   "execution_count": null,
   "id": "de5a0a8e-f825-4e23-ae2a-144d9ba2d913",
   "metadata": {},
   "outputs": [
    {
     "data": {
      "text/plain": [
       "tensor(0.9883)"
      ]
     },
     "execution_count": null,
     "metadata": {},
     "output_type": "execute_result"
    }
   ],
   "source": [
    "tens = tensor(img)\n",
    "tens[20,15]"
   ]
  },
  {
   "cell_type": "code",
   "execution_count": null,
   "id": "057e7ca1-bd36-4465-822d-45c966cd399b",
   "metadata": {},
   "outputs": [
    {
     "data": {
      "text/plain": [
       "torch.Size([50000, 784])"
      ]
     },
     "execution_count": null,
     "metadata": {},
     "output_type": "execute_result"
    }
   ],
   "source": [
    "x_train, y_train, x_valid, y_valid = map(tensor, (x_train, y_train, x_valid, y_valid))\n",
    "x_train.shape"
   ]
  },
  {
   "cell_type": "code",
   "execution_count": null,
   "id": "fed376ab-b048-40d3-ba63-38b50c118570",
   "metadata": {},
   "outputs": [
    {
     "data": {
      "text/plain": [
       "torch.Size([10000, 784])"
      ]
     },
     "execution_count": null,
     "metadata": {},
     "output_type": "execute_result"
    }
   ],
   "source": [
    "x_valid.shape"
   ]
  },
  {
   "cell_type": "code",
   "execution_count": null,
   "id": "38148895-a97d-446a-9036-ede114b6ab76",
   "metadata": {},
   "outputs": [
    {
     "data": {
      "text/plain": [
       "'torch.FloatTensor'"
      ]
     },
     "execution_count": null,
     "metadata": {},
     "output_type": "execute_result"
    }
   ],
   "source": [
    "x_train.type()"
   ]
  },
  {
   "cell_type": "code",
   "execution_count": null,
   "id": "40d9ffb7-bd84-4a77-893e-f45eda9f7791",
   "metadata": {},
   "outputs": [
    {
     "data": {
      "text/plain": [
       "torch.Size([50000, 28, 28])"
      ]
     },
     "execution_count": null,
     "metadata": {},
     "output_type": "execute_result"
    }
   ],
   "source": [
    "imgs = x_train.reshape((-1, 28, 28))\n",
    "imgs.shape"
   ]
  },
  {
   "cell_type": "code",
   "execution_count": null,
   "id": "449504fa-ceca-408d-a84e-726f747bfdf8",
   "metadata": {},
   "outputs": [
    {
     "data": {
      "text/plain": [
       "<matplotlib.image.AxesImage>"
      ]
     },
     "execution_count": null,
     "metadata": {},
     "output_type": "execute_result"
    },
    {
     "data": {
      "image/png": "[encoded data removed]",
      "text/plain": [
       "<Figure size 640x480 with 1 Axes>"
      ]
     },
     "metadata": {},
     "output_type": "display_data"
    }
   ],
   "source": [
    "plt.imshow(imgs[0])"
   ]
  },
  {
   "cell_type": "code",
   "execution_count": null,
   "id": "da7c5b85-033a-43cf-8817-0b1a06219e51",
   "metadata": {},
   "outputs": [
    {
     "data": {
      "text/plain": [
       "tensor(0.9883)"
      ]
     },
     "execution_count": null,
     "metadata": {},
     "output_type": "execute_result"
    }
   ],
   "source": [
    "imgs[0, 20, 15]"
   ]
  },
  {
   "cell_type": "code",
   "execution_count": null,
   "id": "0dd5542b-ee78-460f-9ccb-1e523994b185",
   "metadata": {},
   "outputs": [
    {
     "data": {
      "text/plain": [
       "torch.Size([50000, 784])"
      ]
     },
     "execution_count": null,
     "metadata": {},
     "output_type": "execute_result"
    }
   ],
   "source": [
    "x_train.shape"
   ]
  },
  {
   "cell_type": "code",
   "execution_count": null,
   "id": "b6cd01bd-2db5-4d94-b990-0df019491c83",
   "metadata": {},
   "outputs": [
    {
     "data": {
      "text/plain": [
       "(tensor([5, 0, 4,  ..., 8, 4, 8]), torch.Size([50000]))"
      ]
     },
     "execution_count": null,
     "metadata": {},
     "output_type": "execute_result"
    }
   ],
   "source": [
    "n,c = x_train.shape\n",
    "y_train, y_train.shape"
   ]
  },
  {
   "cell_type": "code",
   "execution_count": null,
   "id": "606a6d8e-5f0e-42f1-b903-8111aadaca19",
   "metadata": {},
   "outputs": [
    {
     "data": {
      "text/plain": [
       "(tensor(0), tensor(9))"
      ]
     },
     "execution_count": null,
     "metadata": {},
     "output_type": "execute_result"
    }
   ],
   "source": [
    "min(y_train), max(y_train)"
   ]
  },
  {
   "cell_type": "code",
   "execution_count": null,
   "id": "51ae2c37-f87d-4be6-917b-e60f6516fdc8",
   "metadata": {},
   "outputs": [
    {
     "data": {
      "text/plain": [
       "(tensor(0), tensor(9))"
      ]
     },
     "execution_count": null,
     "metadata": {},
     "output_type": "execute_result"
    }
   ],
   "source": [
    "y_train.min(), y_train.max()"
   ]
  },
  {
   "cell_type": "markdown",
   "id": "403437d8-bea3-465a-a46a-d274ef26b124",
   "metadata": {},
   "source": [
    "## Random Numbers\n",
    "\n",
    "> Based on the Wichmann Hill Algorithm used before Python 2.3"
   ]
  },
  {
   "cell_type": "code",
   "execution_count": null,
   "id": "f08957f9-11ff-4611-8ed9-c3624658450b",
   "metadata": {},
   "outputs": [],
   "source": [
    "rnd_state = None\n",
    "def seed(a):\n",
    "    global rnd_state\n",
    "    a, x = divmod(a, 30268)\n",
    "    a, y = divmod(a, 30306)\n",
    "    a, z = divmod(a, 30322)\n",
    "    rnd_state = int(x)+1, int(y)+1, int(z)+1"
   ]
  },
  {
   "cell_type": "code",
   "execution_count": null,
   "id": "8bb591cd-1dfa-40fe-ac73-3d2e427f0c42",
   "metadata": {},
   "outputs": [
    {
     "data": {
      "text/plain": [
       "(4976, 20238, 499)"
      ]
     },
     "execution_count": null,
     "metadata": {},
     "output_type": "execute_result"
    }
   ],
   "source": [
    "seed(457428938475)\n",
    "rnd_state"
   ]
  },
  {
   "cell_type": "code",
   "execution_count": null,
   "id": "25e71837-153a-4220-a590-2022b0b00bf0",
   "metadata": {},
   "outputs": [],
   "source": [
    "def rand():\n",
    "    global rnd_state\n",
    "    x, y, z = rnd_state\n",
    "    x = (171 * x) % 30269\n",
    "    y = (172 * y) % 30307\n",
    "    z = (170 * z) % 30323\n",
    "    rnd_state = x,y,z\n",
    "    return (x/30269 + y/30307 + z/30323) % 1.0"
   ]
  },
  {
   "cell_type": "code",
   "execution_count": null,
   "id": "def84394-a32d-48c4-bf00-e5d2f007629c",
   "metadata": {},
   "outputs": [
    {
     "data": {
      "text/plain": [
       "(0.7645251082582081, 0.7920889799553945, 0.06912886811267205)"
      ]
     },
     "execution_count": null,
     "metadata": {},
     "output_type": "execute_result"
    }
   ],
   "source": [
    "rand(),rand(),rand()"
   ]
  },
  {
   "cell_type": "code",
   "execution_count": null,
   "id": "56ff69e4-bd82-42b7-a146-1b877367f3a5",
   "metadata": {},
   "outputs": [
    {
     "name": "stdout",
     "output_type": "stream",
     "text": [
      "In parent: 0.9559050644103264\n",
      "In child: 0.9559050644103264\n"
     ]
    }
   ],
   "source": [
    "if os.fork(): print(f'In parent: {rand()}')\n",
    "else:\n",
    "    print(f'In child: {rand()}')\n",
    "    os._exit(os.EX_OK)"
   ]
  },
  {
   "cell_type": "code",
   "execution_count": null,
   "id": "623ca6d9-f274-4cfe-bb14-57ef9a20e03c",
   "metadata": {},
   "outputs": [
    {
     "name": "stdout",
     "output_type": "stream",
     "text": [
      "In parent: tensor([0.0657])\n",
      "In child: tensor([0.0657])\n"
     ]
    }
   ],
   "source": [
    "if os.fork(): print(f'In parent: {torch.rand(1)}')\n",
    "else:\n",
    "    print(f'In child: {torch.rand(1)}')\n",
    "    os._exit(os.EX_OK)"
   ]
  },
  {
   "cell_type": "code",
   "execution_count": null,
   "id": "c65dd51f-f224-480e-a137-4c7d62c42dd2",
   "metadata": {},
   "outputs": [
    {
     "data": {
      "image/png": "[encoded data removed]",
      "text/plain": [
       "<Figure size 640x480 with 1 Axes>"
      ]
     },
     "metadata": {},
     "output_type": "display_data"
    }
   ],
   "source": [
    "plt.plot([rand() for _ in range(50)]);"
   ]
  },
  {
   "cell_type": "code",
   "execution_count": null,
   "id": "4ea47937-965a-495e-a5a1-ad00eeda137d",
   "metadata": {},
   "outputs": [
    {
     "data": {
      "image/png": "[encoded data removed]",
      "text/plain": [
       "<Figure size 640x480 with 1 Axes>"
      ]
     },
     "metadata": {},
     "output_type": "display_data"
    }
   ],
   "source": [
    "plt.hist([rand() for _ in range(10000)]);"
   ]
  },
  {
   "cell_type": "code",
   "execution_count": null,
   "id": "e807e9bf-a318-4dae-9a0a-38a7d56be83e",
   "metadata": {},
   "outputs": [
    {
     "name": "stdout",
     "output_type": "stream",
     "text": [
      "2.54 ms ± 20.7 µs per loop (mean ± std. dev. of 7 runs, 10 loops each)\n"
     ]
    }
   ],
   "source": [
    "%timeit -n 10 list(chunks([rand() for _ in range(7840)], 10))"
   ]
  },
  {
   "cell_type": "code",
   "execution_count": null,
   "id": "38e9c4bd-eda0-4526-8f11-82d00ce02ce4",
   "metadata": {},
   "outputs": [
    {
     "name": "stdout",
     "output_type": "stream",
     "text": [
      "39.9 µs ± 4.94 µs per loop (mean ± std. dev. of 7 runs, 10 loops each)\n"
     ]
    }
   ],
   "source": [
    "%timeit -n 10 torch.randn(784,10)"
   ]
  },
  {
   "cell_type": "markdown",
   "id": "b220980a-04aa-4334-a7e9-ec63dd78bd19",
   "metadata": {},
   "source": [
    "## Matrix Multiplication"
   ]
  },
  {
   "cell_type": "code",
   "execution_count": null,
   "id": "fd6b7fd9-1a92-4811-a6a4-716295cd666e",
   "metadata": {},
   "outputs": [],
   "source": [
    "torch.manual_seed(1)\n",
    "weights = torch.randn(784,10)\n",
    "bias = torch.zeros(10)"
   ]
  },
  {
   "cell_type": "code",
   "execution_count": null,
   "id": "092a9ab3-a499-46ed-9ebc-b064da2df9a4",
   "metadata": {},
   "outputs": [],
   "source": [
    "m1 = x_valid[:5]\n",
    "m2 = weights"
   ]
  },
  {
   "cell_type": "code",
   "execution_count": null,
   "id": "8bc4335b-f504-4aeb-8c40-4ce00e234457",
   "metadata": {},
   "outputs": [
    {
     "data": {
      "text/plain": [
       "(torch.Size([5, 784]), torch.Size([784, 10]))"
      ]
     },
     "execution_count": null,
     "metadata": {},
     "output_type": "execute_result"
    }
   ],
   "source": [
    "m1.shape, m2.shape"
   ]
  },
  {
   "cell_type": "code",
   "execution_count": null,
   "id": "0f7417ac-fb01-498d-9b68-e9c92a23284b",
   "metadata": {},
   "outputs": [
    {
     "data": {
      "text/plain": [
       "((5, 784), (784, 10))"
      ]
     },
     "execution_count": null,
     "metadata": {},
     "output_type": "execute_result"
    }
   ],
   "source": [
    "ar, ac = m1.shape\n",
    "br, bc = m2.shape\n",
    "(ar,ac),(br,bc)"
   ]
  },
  {
   "cell_type": "code",
   "execution_count": null,
   "id": "e5879662-0403-42b2-8b4a-6c5472db6167",
   "metadata": {},
   "outputs": [
    {
     "data": {
      "text/plain": [
       "torch.Size([5, 10])"
      ]
     },
     "execution_count": null,
     "metadata": {},
     "output_type": "execute_result"
    }
   ],
   "source": [
    "t1 = torch.zeros(ar, bc)\n",
    "t1.shape"
   ]
  },
  {
   "cell_type": "code",
   "execution_count": null,
   "id": "f5403461-a31e-4c60-b09a-d0ed3f73c2c9",
   "metadata": {},
   "outputs": [],
   "source": [
    "for i in range(ar):\n",
    "    for j in range(bc):\n",
    "        for k in range(ac):\n",
    "            t1[i,j] += m1[i,k] * m2 [k, j]"
   ]
  },
  {
   "cell_type": "code",
   "execution_count": null,
   "id": "fc35b3bd-a3bb-4664-812e-2df9364c5cb1",
   "metadata": {},
   "outputs": [
    {
     "data": {
      "text/plain": [
       "tensor([[-10.9417,  -0.6844,  -7.0038,  -4.0066,  -2.0857,  -3.3588,   3.9127,\n",
       "          -3.4375, -11.4696,  -2.1153],\n",
       "        [ 14.5430,   5.9977,   2.8914,  -4.0777,   6.5914, -14.7383,  -9.2787,\n",
       "           2.1577, -15.2772,  -2.6758],\n",
       "        [  2.2204,  -3.2171,  -4.7988,  -6.0453,  14.1661,  -8.9824,  -4.7922,\n",
       "          -5.4446, -20.6758,  13.5657],\n",
       "        [ -6.7097,   8.8998,  -7.4611,  -7.8966,   2.6994,  -4.7260, -11.0278,\n",
       "         -12.9776,  -6.4443,   3.6376],\n",
       "        [ -2.4444,  -6.4034,  -2.3984,  -9.0371,  11.1772,  -5.7724,  -8.9214,\n",
       "          -3.7862,  -8.9827,   5.2797]])"
      ]
     },
     "execution_count": null,
     "metadata": {},
     "output_type": "execute_result"
    }
   ],
   "source": [
    "t1"
   ]
  },
  {
   "cell_type": "code",
   "execution_count": null,
   "id": "a7cfb3a9-9a35-40dc-8f58-02cd94deaf82",
   "metadata": {},
   "outputs": [
    {
     "data": {
      "text/plain": [
       "torch.Size([5, 10])"
      ]
     },
     "execution_count": null,
     "metadata": {},
     "output_type": "execute_result"
    }
   ],
   "source": [
    "t1.shape"
   ]
  },
  {
   "cell_type": "code",
   "execution_count": null,
   "id": "1236312a-7f5c-4390-9b1c-ea29adb5978d",
   "metadata": {},
   "outputs": [],
   "source": [
    "torch.set_printoptions(precision = 2, linewidth = 140, sci_mode = False)"
   ]
  },
  {
   "cell_type": "code",
   "execution_count": null,
   "id": "174f7720-a3c6-44b1-9ad6-0cbab588c52c",
   "metadata": {},
   "outputs": [],
   "source": [
    "import numpy as np\n",
    "np.set_printoptions(precision = 2, linewidth = 140)"
   ]
  },
  {
   "cell_type": "code",
   "execution_count": null,
   "id": "100ef81e-e5dc-4450-8797-2959ed670667",
   "metadata": {},
   "outputs": [],
   "source": [
    "def matmul(a, b):\n",
    "    ar, ac = a.shape\n",
    "    br, bc = b.shape\n",
    "    (ar,ac),(br,bc)\n",
    "    \n",
    "    t1 = torch.zeros(ar, bc)\n",
    "    t1.shape\n",
    "    \n",
    "    for i in range(ar):  #5\n",
    "        for j in range(bc):  #10\n",
    "            for k in range(ac): #784\n",
    "                t1[i,j] += m1[i,k] * m2 [k, j]\n",
    "    return t1                "
   ]
  },
  {
   "cell_type": "code",
   "execution_count": null,
   "id": "fcf79c20-b128-4b90-970e-e96acc9e1924",
   "metadata": {},
   "outputs": [
    {
     "name": "stdout",
     "output_type": "stream",
     "text": [
      "653 ms ± 10.8 ms per loop (mean ± std. dev. of 7 runs, 1 loop each)\n"
     ]
    }
   ],
   "source": [
    "%timeit -n 1 matmul(m1, m2)"
   ]
  },
  {
   "cell_type": "code",
   "execution_count": null,
   "id": "c62a555e-00a8-4dee-b9f8-3ab42aacfe9d",
   "metadata": {},
   "outputs": [
    {
     "data": {
      "text/plain": [
       "39200"
      ]
     },
     "execution_count": null,
     "metadata": {},
     "output_type": "execute_result"
    }
   ],
   "source": [
    "ar * bc * ac"
   ]
  },
  {
   "cell_type": "markdown",
   "id": "20ff0f0b-cddc-4871-99ac-6978ea85b46b",
   "metadata": {},
   "source": [
    "## Numba"
   ]
  },
  {
   "cell_type": "code",
   "execution_count": null,
   "id": "a2ed0916-c6fe-4968-ab3d-a3edd92f8e5e",
   "metadata": {},
   "outputs": [],
   "source": [
    "from numba import njit"
   ]
  },
  {
   "cell_type": "code",
   "execution_count": null,
   "id": "6fb18b4a-b115-4f60-908e-e6202820f846",
   "metadata": {},
   "outputs": [],
   "source": [
    "@njit\n",
    "def dot(a,b):\n",
    "    res = 0.\n",
    "    for i in range(len(a)): res+=a[i]*b[i]\n",
    "    return res"
   ]
  },
  {
   "cell_type": "code",
   "execution_count": null,
   "id": "893a43de-746f-4cc1-955e-4c1c0b5dd17a",
   "metadata": {},
   "outputs": [],
   "source": [
    "from numpy import array"
   ]
  },
  {
   "cell_type": "code",
   "execution_count": null,
   "id": "5dd604d7-8759-45f7-bd5a-cb1f651b82be",
   "metadata": {},
   "outputs": [
    {
     "name": "stdout",
     "output_type": "stream",
     "text": [
      "CPU times: user 404 ms, sys: 79.7 ms, total: 484 ms\n",
      "Wall time: 757 ms\n"
     ]
    },
    {
     "data": {
      "text/plain": [
       "20.0"
      ]
     },
     "execution_count": null,
     "metadata": {},
     "output_type": "execute_result"
    }
   ],
   "source": [
    "%time dot(array([1., 2, 3]), array([2., 3, 4]))"
   ]
  },
  {
   "cell_type": "code",
   "execution_count": null,
   "id": "367db505-38d7-4b6b-98f3-c064294a280b",
   "metadata": {},
   "outputs": [
    {
     "name": "stdout",
     "output_type": "stream",
     "text": [
      "1.24 µs ± 111 ns per loop (mean ± std. dev. of 7 runs, 50 loops each)\n"
     ]
    }
   ],
   "source": [
    "%timeit -n 50 dot(array([1., 2, 3]), array([2., 3, 4]))"
   ]
  },
  {
   "cell_type": "code",
   "execution_count": null,
   "id": "5577a167-952e-4e8b-ae5e-cd98a776511c",
   "metadata": {},
   "outputs": [],
   "source": [
    "def matmul(a, b):\n",
    "    (ar,ac),(br,bc) = a.shape, b.shape\n",
    "    \n",
    "    t1 = torch.zeros(ar, bc)\n",
    "    t1.shape\n",
    "    \n",
    "    for i in range(ar):  #5\n",
    "        for j in range(bc): \n",
    "            t1[i,j] = dot(a[i,:], b[:, j])\n",
    "            #for k in range(ac): #784\n",
    "            #    t1[i,j] += m1[i,k] * m2 [k, j]\n",
    "\n",
    "    return t1\n",
    "                "
   ]
  },
  {
   "cell_type": "code",
   "execution_count": null,
   "id": "de0ad380-4546-40bb-934d-2b85fbcc2a57",
   "metadata": {},
   "outputs": [],
   "source": [
    "m1a, m2a = m1.numpy(), m2.numpy()"
   ]
  },
  {
   "cell_type": "code",
   "execution_count": null,
   "id": "ee1de040-ca42-4afb-9ad4-b8f709c4d354",
   "metadata": {},
   "outputs": [],
   "source": [
    "from fastcore.test import *"
   ]
  },
  {
   "cell_type": "code",
   "execution_count": null,
   "id": "c672ae57-79b8-449f-a3b8-f02a462c7e81",
   "metadata": {},
   "outputs": [],
   "source": [
    "test_close(t1, matmul(m1a, m2a))"
   ]
  },
  {
   "cell_type": "code",
   "execution_count": null,
   "id": "0237022e-c7ed-4cfa-bc1a-ddfae35be090",
   "metadata": {},
   "outputs": [
    {
     "name": "stdout",
     "output_type": "stream",
     "text": [
      "381 µs ± 6.52 µs per loop (mean ± std. dev. of 7 runs, 50 loops each)\n"
     ]
    }
   ],
   "source": [
    "%timeit -n 50 matmul(m1a, m2a)"
   ]
  },
  {
   "cell_type": "code",
   "execution_count": null,
   "id": "a8e19fcc-82dc-4b00-a6aa-0404c3f80479",
   "metadata": {},
   "outputs": [
    {
     "data": {
      "text/plain": [
       "array([12, 14, 11])"
      ]
     },
     "execution_count": null,
     "metadata": {},
     "output_type": "execute_result"
    }
   ],
   "source": [
    "a = [10 ,6 ,4]\n",
    "b = [2, 8, 7]\n",
    "a1 = np.array(a)\n",
    "b1 = np.array(b)\n",
    "a1 + b1"
   ]
  },
  {
   "cell_type": "code",
   "execution_count": null,
   "id": "72271b51-03e8-4386-80e2-6a249bb5bef9",
   "metadata": {},
   "outputs": [
    {
     "data": {
      "text/plain": [
       "tensor([12, 14, 11])"
      ]
     },
     "execution_count": null,
     "metadata": {},
     "output_type": "execute_result"
    }
   ],
   "source": [
    "a2 = tensor(a)\n",
    "b2 = tensor(b)\n",
    "\n",
    "a2 + b2"
   ]
  },
  {
   "cell_type": "code",
   "execution_count": null,
   "id": "a8c8b5f7-0266-45a1-bfd8-13a1d33cd2fc",
   "metadata": {},
   "outputs": [
    {
     "data": {
      "text/plain": [
       "tensor(0.67)"
      ]
     },
     "execution_count": null,
     "metadata": {},
     "output_type": "execute_result"
    }
   ],
   "source": [
    "(a2 < b2).float().mean()"
   ]
  },
  {
   "cell_type": "code",
   "execution_count": null,
   "id": "78bb4ff2-2495-4b4d-a5d0-b7dab3bc7d55",
   "metadata": {},
   "outputs": [
    {
     "data": {
      "text/plain": [
       "tensor([[1, 2, 3],\n",
       "        [4, 5, 6],\n",
       "        [7, 8, 9]])"
      ]
     },
     "execution_count": null,
     "metadata": {},
     "output_type": "execute_result"
    }
   ],
   "source": [
    "m = tensor([[1,2,3],[4,5,6],[7,8,9]])\n",
    "m"
   ]
  },
  {
   "cell_type": "markdown",
   "id": "c13f8c9e-13e2-4ea8-a6ef-2810ceece27e",
   "metadata": {},
   "source": [
    "$$\\| A \\|_F = \\left( \\sum_{i,j=1}^n | a_{ij} |^2 \\right)^{1/2}$$"
   ]
  },
  {
   "cell_type": "code",
   "execution_count": null,
   "id": "0e2a1a0d-29ce-43a3-8426-530ee12ad6e2",
   "metadata": {},
   "outputs": [
    {
     "data": {
      "text/plain": [
       "tensor(285)"
      ]
     },
     "execution_count": null,
     "metadata": {},
     "output_type": "execute_result"
    }
   ],
   "source": [
    "sf = (m*m).sum()\n",
    "sf"
   ]
  },
  {
   "cell_type": "code",
   "execution_count": null,
   "id": "4444aadd-8f9a-434e-a833-ab6075ddf080",
   "metadata": {},
   "outputs": [
    {
     "data": {
      "text/plain": [
       "tensor(16.88)"
      ]
     },
     "execution_count": null,
     "metadata": {},
     "output_type": "execute_result"
    }
   ],
   "source": [
    "sf.sqrt()"
   ]
  },
  {
   "cell_type": "code",
   "execution_count": null,
   "id": "cc182626-64cf-4d7f-80ef-c579b2765043",
   "metadata": {},
   "outputs": [
    {
     "data": {
      "text/plain": [
       "(tensor([7, 8, 9]), tensor([3, 6, 9]))"
      ]
     },
     "execution_count": null,
     "metadata": {},
     "output_type": "execute_result"
    }
   ],
   "source": [
    "m[2, :], m[:,2]"
   ]
  },
  {
   "cell_type": "code",
   "execution_count": null,
   "id": "6e42e3a9-e0d3-46aa-b095-aa3dd54e48a4",
   "metadata": {},
   "outputs": [
    {
     "data": {
      "text/plain": [
       "tensor([7, 8, 9])"
      ]
     },
     "execution_count": null,
     "metadata": {},
     "output_type": "execute_result"
    }
   ],
   "source": [
    "m[2]"
   ]
  },
  {
   "cell_type": "code",
   "execution_count": null,
   "id": "07218bff-6751-4303-a2a3-5031a725758e",
   "metadata": {},
   "outputs": [],
   "source": [
    "def matmul(a, b):\n",
    "    (ar,ac),(br,bc) = a.shape, b.shape\n",
    "    t1 = torch.zeros(ar, bc)\n",
    "    \n",
    "    for i in range(ar):  #5\n",
    "        for j in range(bc): \n",
    "            t1[i,j] = (a[i,:] * b[:, j]).sum()\n",
    "    return t1\n",
    "                "
   ]
  },
  {
   "cell_type": "code",
   "execution_count": null,
   "id": "88b7acc1-ecd2-4726-9e70-a169a220bb0a",
   "metadata": {},
   "outputs": [],
   "source": [
    "test_close(t1, matmul(m1, m2))"
   ]
  },
  {
   "cell_type": "code",
   "execution_count": null,
   "id": "95bb2f79-c6e9-4266-b748-a7b190881239",
   "metadata": {},
   "outputs": [
    {
     "name": "stdout",
     "output_type": "stream",
     "text": [
      "1.02 ms ± 16.6 µs per loop (mean ± std. dev. of 7 runs, 50 loops each)\n"
     ]
    }
   ],
   "source": [
    "%timeit -n 50 matmul(m1, m2)"
   ]
  },
  {
   "cell_type": "code",
   "execution_count": null,
   "id": "6ecad9e3-1a13-4d52-a61f-35b132086e85",
   "metadata": {},
   "outputs": [],
   "source": [
    "def matmul(a, b):\n",
    "    (ar,ac),(br,bc) = a.shape, b.shape\n",
    "    t1 = torch.zeros(ar, bc)\n",
    "    \n",
    "    for i in range(ar):  #5\n",
    "        for j in range(bc): \n",
    "            t1[i,j] = torch.dot(a[i,:], b[:, j])\n",
    "    return t1\n",
    "                "
   ]
  },
  {
   "cell_type": "code",
   "execution_count": null,
   "id": "753184e3-8cb8-4814-a4b5-ea022977c464",
   "metadata": {},
   "outputs": [],
   "source": [
    "test_close(t1, matmul(m1, m2))"
   ]
  },
  {
   "cell_type": "code",
   "execution_count": null,
   "id": "468dcad7-3ee9-44b2-b776-f822f2ab3705",
   "metadata": {},
   "outputs": [
    {
     "name": "stdout",
     "output_type": "stream",
     "text": [
      "793 µs ± 8.07 µs per loop (mean ± std. dev. of 7 runs, 50 loops each)\n"
     ]
    }
   ],
   "source": [
    "%timeit -n 50 matmul(m1, m2)"
   ]
  },
  {
   "cell_type": "markdown",
   "id": "33b5ba81-0054-4339-9344-26eaac5350b1",
   "metadata": {},
   "source": [
    "## Broadcasting with a scalar"
   ]
  },
  {
   "cell_type": "code",
   "execution_count": null,
   "id": "b8c9d031-1dbf-4138-bbdd-163e6af39dcf",
   "metadata": {},
   "outputs": [
    {
     "data": {
      "text/plain": [
       "tensor([10,  6,  4])"
      ]
     },
     "execution_count": null,
     "metadata": {},
     "output_type": "execute_result"
    }
   ],
   "source": [
    "a2"
   ]
  },
  {
   "cell_type": "code",
   "execution_count": null,
   "id": "0817aef1-aa26-4582-ba9c-99b14095524b",
   "metadata": {},
   "outputs": [
    {
     "data": {
      "text/plain": [
       "tensor([True, True, True])"
      ]
     },
     "execution_count": null,
     "metadata": {},
     "output_type": "execute_result"
    }
   ],
   "source": [
    "a2 > 0"
   ]
  },
  {
   "cell_type": "code",
   "execution_count": null,
   "id": "9b478246-7444-40e4-8d79-8c3469d6b3b5",
   "metadata": {},
   "outputs": [
    {
     "data": {
      "text/plain": [
       "tensor([11,  7,  5])"
      ]
     },
     "execution_count": null,
     "metadata": {},
     "output_type": "execute_result"
    }
   ],
   "source": [
    "a2 + 1"
   ]
  },
  {
   "cell_type": "code",
   "execution_count": null,
   "id": "3eadb40e-2e1b-486b-8e7b-6b5883270f5c",
   "metadata": {},
   "outputs": [
    {
     "data": {
      "text/plain": [
       "tensor([[1, 2, 3],\n",
       "        [4, 5, 6],\n",
       "        [7, 8, 9]])"
      ]
     },
     "execution_count": null,
     "metadata": {},
     "output_type": "execute_result"
    }
   ],
   "source": [
    "m"
   ]
  },
  {
   "cell_type": "code",
   "execution_count": null,
   "id": "17e3fbd4-4ea9-4b7e-b12f-2d813bd7aa33",
   "metadata": {},
   "outputs": [
    {
     "data": {
      "text/plain": [
       "tensor([10,  6,  4])"
      ]
     },
     "execution_count": null,
     "metadata": {},
     "output_type": "execute_result"
    }
   ],
   "source": [
    "a2"
   ]
  },
  {
   "cell_type": "markdown",
   "id": "f3dce89c-c2cd-4ff9-99ce-0516d15a2330",
   "metadata": {},
   "source": [
    "## Broadcasting a vector to a matrix\n"
   ]
  },
  {
   "cell_type": "code",
   "execution_count": null,
   "id": "cd5311b8-4cc8-4312-a6ad-3305575fab09",
   "metadata": {},
   "outputs": [
    {
     "data": {
      "text/plain": [
       "tensor([10., 20., 30.])"
      ]
     },
     "execution_count": null,
     "metadata": {},
     "output_type": "execute_result"
    }
   ],
   "source": [
    "c = tensor([10.,20, 30]);c"
   ]
  },
  {
   "cell_type": "code",
   "execution_count": null,
   "id": "78177169-aa10-475b-a300-5f53e6100297",
   "metadata": {},
   "outputs": [
    {
     "data": {
      "text/plain": [
       "tensor([[1, 2, 3],\n",
       "        [4, 5, 6],\n",
       "        [7, 8, 9]])"
      ]
     },
     "execution_count": null,
     "metadata": {},
     "output_type": "execute_result"
    }
   ],
   "source": [
    "m"
   ]
  },
  {
   "cell_type": "code",
   "execution_count": null,
   "id": "1995c071-ea3d-41bb-b4a0-3560057e8fde",
   "metadata": {},
   "outputs": [
    {
     "data": {
      "text/plain": [
       "(torch.Size([3, 3]), torch.Size([3]))"
      ]
     },
     "execution_count": null,
     "metadata": {},
     "output_type": "execute_result"
    }
   ],
   "source": [
    "m.shape, c.shape"
   ]
  },
  {
   "cell_type": "code",
   "execution_count": null,
   "id": "9ed6eaab-1bf1-40f0-a026-21d9a1667dc1",
   "metadata": {},
   "outputs": [
    {
     "data": {
      "text/plain": [
       "tensor([[11., 22., 33.],\n",
       "        [14., 25., 36.],\n",
       "        [17., 28., 39.]])"
      ]
     },
     "execution_count": null,
     "metadata": {},
     "output_type": "execute_result"
    }
   ],
   "source": [
    "c+ m"
   ]
  },
  {
   "cell_type": "code",
   "execution_count": null,
   "id": "58aafd95-a2e4-4ae5-bf95-ebd153426ec7",
   "metadata": {},
   "outputs": [],
   "source": [
    "t  = c.expand_as(m)"
   ]
  },
  {
   "cell_type": "code",
   "execution_count": null,
   "id": "67da35b1-9b82-4d97-a150-93a923cc0adb",
   "metadata": {},
   "outputs": [
    {
     "data": {
      "text/plain": [
       "tensor([[10., 20., 30.],\n",
       "        [10., 20., 30.],\n",
       "        [10., 20., 30.]])"
      ]
     },
     "execution_count": null,
     "metadata": {},
     "output_type": "execute_result"
    }
   ],
   "source": [
    "t"
   ]
  },
  {
   "cell_type": "code",
   "execution_count": null,
   "id": "56f492e2-cbf0-4cc0-9d10-f1eff3d96d56",
   "metadata": {},
   "outputs": [
    {
     "data": {
      "text/plain": [
       " 0\n",
       " 0\n",
       " 32\n",
       " 65\n",
       " 0\n",
       " 0\n",
       " 160\n",
       " 65\n",
       " 0\n",
       " 0\n",
       " 240\n",
       " 65\n",
       "[torch.storage.UntypedStorage(device=cpu) of size 12]"
      ]
     },
     "execution_count": null,
     "metadata": {},
     "output_type": "execute_result"
    }
   ],
   "source": [
    "t.untyped_storage()"
   ]
  },
  {
   "cell_type": "code",
   "execution_count": null,
   "id": "c5b1efc2-3b62-47c5-b6e1-ea8849f99f82",
   "metadata": {},
   "outputs": [
    {
     "data": {
      "text/plain": [
       "((0, 1), torch.Size([3, 3]))"
      ]
     },
     "execution_count": null,
     "metadata": {},
     "output_type": "execute_result"
    }
   ],
   "source": [
    "t.stride(), t.shape"
   ]
  },
  {
   "cell_type": "code",
   "execution_count": null,
   "id": "c9a98262-2e7a-4b9b-b089-8888716f086e",
   "metadata": {},
   "outputs": [
    {
     "data": {
      "text/plain": [
       "(tensor([[10., 20., 30.]]), tensor([[10., 20., 30.]]))"
      ]
     },
     "execution_count": null,
     "metadata": {},
     "output_type": "execute_result"
    }
   ],
   "source": [
    "c.unsqueeze(0), c[None, :]"
   ]
  },
  {
   "cell_type": "code",
   "execution_count": null,
   "id": "b33d6ca3-72c2-4590-a9ac-e0cb86a98224",
   "metadata": {},
   "outputs": [
    {
     "data": {
      "text/plain": [
       "tensor([[[1],\n",
       "         [2],\n",
       "         [3]],\n",
       "\n",
       "        [[4],\n",
       "         [5],\n",
       "         [6]],\n",
       "\n",
       "        [[7],\n",
       "         [8],\n",
       "         [9]]])"
      ]
     },
     "execution_count": null,
     "metadata": {},
     "output_type": "execute_result"
    }
   ],
   "source": [
    "m[:,:, None]"
   ]
  },
  {
   "cell_type": "code",
   "execution_count": null,
   "id": "ecb53576-f39a-45e0-be48-28459b21ad57",
   "metadata": {},
   "outputs": [
    {
     "data": {
      "text/plain": [
       "(torch.Size([3]), torch.Size([1, 3]))"
      ]
     },
     "execution_count": null,
     "metadata": {},
     "output_type": "execute_result"
    }
   ],
   "source": [
    "c.shape, c.unsqueeze(0).shape"
   ]
  },
  {
   "cell_type": "code",
   "execution_count": null,
   "id": "5ab381d7-3cdb-4115-807a-6c1e26c91191",
   "metadata": {},
   "outputs": [
    {
     "data": {
      "text/plain": [
       "(tensor([[10.],\n",
       "         [20.],\n",
       "         [30.]]),\n",
       " tensor([[10.],\n",
       "         [20.],\n",
       "         [30.]]))"
      ]
     },
     "execution_count": null,
     "metadata": {},
     "output_type": "execute_result"
    }
   ],
   "source": [
    "c.unsqueeze(1), c[: ,None]"
   ]
  },
  {
   "cell_type": "code",
   "execution_count": null,
   "id": "7bd2ecb9-eb26-4c70-98f4-3fa4139f278e",
   "metadata": {},
   "outputs": [
    {
     "data": {
      "text/plain": [
       "(torch.Size([3]), torch.Size([3, 1]))"
      ]
     },
     "execution_count": null,
     "metadata": {},
     "output_type": "execute_result"
    }
   ],
   "source": [
    "c.shape, c.unsqueeze(1).shape"
   ]
  },
  {
   "cell_type": "code",
   "execution_count": null,
   "id": "e797f6aa-8086-4b25-a5f6-d5f3a1d33604",
   "metadata": {},
   "outputs": [
    {
     "data": {
      "text/plain": [
       "(torch.Size([1, 3]), torch.Size([3, 1]))"
      ]
     },
     "execution_count": null,
     "metadata": {},
     "output_type": "execute_result"
    }
   ],
   "source": [
    "c[None].shape, c[...,None].shape"
   ]
  },
  {
   "cell_type": "code",
   "execution_count": null,
   "id": "0ec2e9e3-8a59-4072-b6cb-d037a1fc9752",
   "metadata": {},
   "outputs": [
    {
     "data": {
      "text/plain": [
       "tensor([[10., 10., 10.],\n",
       "        [20., 20., 20.],\n",
       "        [30., 30., 30.]])"
      ]
     },
     "execution_count": null,
     "metadata": {},
     "output_type": "execute_result"
    }
   ],
   "source": [
    "c[: ,None].expand_as(m)"
   ]
  },
  {
   "cell_type": "code",
   "execution_count": null,
   "id": "484b2399-cad3-4cbe-9f1b-0a8bb8f3705b",
   "metadata": {},
   "outputs": [
    {
     "data": {
      "text/plain": [
       "tensor([[11., 12., 13.],\n",
       "        [24., 25., 26.],\n",
       "        [37., 38., 39.]])"
      ]
     },
     "execution_count": null,
     "metadata": {},
     "output_type": "execute_result"
    }
   ],
   "source": [
    "m + c[:, None]"
   ]
  },
  {
   "cell_type": "code",
   "execution_count": null,
   "id": "d421c495-f74e-47a1-9660-4133db9ea27c",
   "metadata": {},
   "outputs": [
    {
     "data": {
      "text/plain": [
       "tensor([[11., 22., 33.],\n",
       "        [14., 25., 36.],\n",
       "        [17., 28., 39.]])"
      ]
     },
     "execution_count": null,
     "metadata": {},
     "output_type": "execute_result"
    }
   ],
   "source": [
    "m + c[None, :]"
   ]
  },
  {
   "cell_type": "code",
   "execution_count": null,
   "id": "d4c85f6b-f9d3-4dcf-9d14-8656ddbc6fc3",
   "metadata": {},
   "outputs": [
    {
     "data": {
      "text/plain": [
       "tensor([[100., 200., 300.],\n",
       "        [200., 400., 600.],\n",
       "        [300., 600., 900.]])"
      ]
     },
     "execution_count": null,
     "metadata": {},
     "output_type": "execute_result"
    }
   ],
   "source": [
    "c[None, :] * c[:, None]"
   ]
  },
  {
   "cell_type": "code",
   "execution_count": null,
   "id": "3dc847d7-fb43-4e3f-91d9-be9d8d9bc068",
   "metadata": {},
   "outputs": [
    {
     "data": {
      "text/plain": [
       "tensor([[False,  True,  True],\n",
       "        [False, False,  True],\n",
       "        [False, False, False]])"
      ]
     },
     "execution_count": null,
     "metadata": {},
     "output_type": "execute_result"
    }
   ],
   "source": [
    "c[None, :] > c[:, None]"
   ]
  },
  {
   "cell_type": "code",
   "execution_count": null,
   "id": "d4cd3985-204b-4115-aae5-f043101561e4",
   "metadata": {},
   "outputs": [
    {
     "data": {
      "text/plain": [
       "tensor([10., 20., 30.])"
      ]
     },
     "execution_count": null,
     "metadata": {},
     "output_type": "execute_result"
    }
   ],
   "source": [
    "c"
   ]
  },
  {
   "cell_type": "code",
   "execution_count": null,
   "id": "8e89c16a-425c-40b0-a31e-4a600ff49a05",
   "metadata": {},
   "outputs": [
    {
     "data": {
      "text/plain": [
       "tensor([[ 1,  4,  9],\n",
       "        [16, 25, 36],\n",
       "        [49, 64, 81]])"
      ]
     },
     "execution_count": null,
     "metadata": {},
     "output_type": "execute_result"
    }
   ],
   "source": [
    "m * m"
   ]
  },
  {
   "cell_type": "markdown",
   "id": "4dbba2ec-c892-4ea9-815c-cf01b5fec4ce",
   "metadata": {},
   "source": [
    "## Matmul with broadcasting"
   ]
  },
  {
   "cell_type": "code",
   "execution_count": null,
   "id": "89f9716f-9979-46e2-a61a-f83969f596d1",
   "metadata": {},
   "outputs": [
    {
     "data": {
      "text/plain": [
       "(torch.Size([784]), torch.Size([784, 10]))"
      ]
     },
     "execution_count": null,
     "metadata": {},
     "output_type": "execute_result"
    }
   ],
   "source": [
    "digit = m1[0]\n",
    "digit.shape, m2.shape"
   ]
  },
  {
   "cell_type": "code",
   "execution_count": null,
   "id": "098806f9-399e-46a8-8eb4-028cdcb7aa4a",
   "metadata": {},
   "outputs": [
    {
     "data": {
      "text/plain": [
       "torch.Size([784, 1])"
      ]
     },
     "execution_count": null,
     "metadata": {},
     "output_type": "execute_result"
    }
   ],
   "source": [
    "digit[:,None].shape"
   ]
  },
  {
   "cell_type": "code",
   "execution_count": null,
   "id": "30a865ee-ce74-4c4d-8edc-5e605effc71a",
   "metadata": {},
   "outputs": [
    {
     "data": {
      "text/plain": [
       "torch.Size([784, 10])"
      ]
     },
     "execution_count": null,
     "metadata": {},
     "output_type": "execute_result"
    }
   ],
   "source": [
    "digit[:,None].expand_as(m2).shape"
   ]
  },
  {
   "cell_type": "code",
   "execution_count": null,
   "id": "ed999bed-d63a-4980-8c44-bc3bacd2c62b",
   "metadata": {},
   "outputs": [
    {
     "data": {
      "text/plain": [
       "torch.Size([784, 10])"
      ]
     },
     "execution_count": null,
     "metadata": {},
     "output_type": "execute_result"
    }
   ],
   "source": [
    "(digit[:,None]* m2).shape"
   ]
  },
  {
   "cell_type": "code",
   "execution_count": null,
   "id": "1b1915c4-7f8f-49c8-896f-c92cbd642160",
   "metadata": {},
   "outputs": [],
   "source": [
    "def matmul(a, b):\n",
    "    (ar,ac),(br,bc) = a.shape, b.shape\n",
    "    t1 = torch.zeros(ar, bc)\n",
    "    \n",
    "    for i in range(ar):  #5\n",
    "        for j in range(bc):  #10\n",
    "            # t1[i,j] = (a[i,:] * b[:, j]).sum()\n",
    "            # t1[i,j] = torch.dot(a[i,:], b[:, j])\n",
    "            t1[i] = (a[i, :, None] * b).sum(dim = 0)\n",
    "    return t1"
   ]
  },
  {
   "cell_type": "code",
   "execution_count": null,
   "id": "5736aef9-7233-4847-8829-a5bab77600dc",
   "metadata": {},
   "outputs": [],
   "source": [
    "test_close(t1, matmul(m1, m2))"
   ]
  },
  {
   "cell_type": "code",
   "execution_count": null,
   "id": "429f2226-0fe0-4400-b935-ad6bf9328b41",
   "metadata": {},
   "outputs": [
    {
     "name": "stdout",
     "output_type": "stream",
     "text": [
      "1.34 ms ± 27.4 µs per loop (mean ± std. dev. of 7 runs, 50 loops each)\n"
     ]
    }
   ],
   "source": [
    "%timeit -n 50 _=matmul(m1, m2)"
   ]
  },
  {
   "cell_type": "code",
   "execution_count": null,
   "id": "9633d7e6-0ec0-4cfc-ad8a-c4c39abe82ce",
   "metadata": {},
   "outputs": [
    {
     "data": {
      "text/plain": [
       "tensor([[-10.94,  -0.68,  -7.00,  -4.01,  -2.09,  -3.36,   3.91,  -3.44, -11.47,  -2.12],\n",
       "        [ 14.54,   6.00,   2.89,  -4.08,   6.59, -14.74,  -9.28,   2.16, -15.28,  -2.68],\n",
       "        [  2.22,  -3.22,  -4.80,  -6.05,  14.17,  -8.98,  -4.79,  -5.44, -20.68,  13.57],\n",
       "        [ -6.71,   8.90,  -7.46,  -7.90,   2.70,  -4.73, -11.03, -12.98,  -6.44,   3.64],\n",
       "        [ -2.44,  -6.40,  -2.40,  -9.04,  11.18,  -5.77,  -8.92,  -3.79,  -8.98,   5.28]])"
      ]
     },
     "execution_count": null,
     "metadata": {},
     "output_type": "execute_result"
    }
   ],
   "source": [
    "result=matmul(m1, m2)\n",
    "result"
   ]
  },
  {
   "cell_type": "code",
   "execution_count": null,
   "id": "01b88d23-0adf-41cb-a32f-a3c4d4f5e458",
   "metadata": {},
   "outputs": [
    {
     "data": {
      "text/plain": [
       "(torch.Size([50000, 10]),\n",
       " tensor([[  0.96,  -2.96,  -2.11,  ..., -15.09, -17.69,   0.60],\n",
       "         [  6.89,  -0.34,   0.79,  ..., -17.13, -25.36,  16.23],\n",
       "         [-10.18,   7.38,   4.13,  ...,  -6.73,  -6.79,  -1.58],\n",
       "         ...,\n",
       "         [  7.40,   7.64,  -3.50,  ...,  -1.02, -16.22,   2.07],\n",
       "         [  3.25,   9.52,  -9.37,  ...,   2.98, -19.58,  -1.96],\n",
       "         [ 15.70,   4.12,  -5.62,  ...,   8.08, -12.21,   0.42]]))"
      ]
     },
     "execution_count": null,
     "metadata": {},
     "output_type": "execute_result"
    }
   ],
   "source": [
    "tr = matmul(x_train, weights)\n",
    "tr.shape,tr"
   ]
  },
  {
   "cell_type": "code",
   "execution_count": null,
   "id": "fc7ded0d-3d0e-40b4-bab4-e24c0c1deb10",
   "metadata": {},
   "outputs": [
    {
     "name": "stdout",
     "output_type": "stream",
     "text": [
      "CPU times: user 14 s, sys: 8.28 ms, total: 14 s\n",
      "Wall time: 13.1 s\n"
     ]
    }
   ],
   "source": [
    "%time result=matmul(x_train, weights)"
   ]
  },
  {
   "cell_type": "code",
   "execution_count": null,
   "id": "0adfb5e9-fe64-4f1a-8025-d4f135388ef4",
   "metadata": {},
   "outputs": [
    {
     "name": "stdout",
     "output_type": "stream",
     "text": [
      "26.3 µs ± 6.27 µs per loop (mean ± std. dev. of 7 runs, 50 loops each)\n"
     ]
    }
   ],
   "source": [
    "%timeit -n 50 np.matmul(m1,m2)"
   ]
  },
  {
   "cell_type": "code",
   "execution_count": null,
   "id": "3811307b-5b56-4e86-8a74-b4c9dabe6515",
   "metadata": {},
   "outputs": [
    {
     "name": "stdout",
     "output_type": "stream",
     "text": [
      "50.7 ms ± 5.95 ms per loop (mean ± std. dev. of 7 runs, 5 loops each)\n"
     ]
    }
   ],
   "source": [
    "%timeit -n 5 _=np.matmul(x_train, weights)"
   ]
  },
  {
   "cell_type": "code",
   "execution_count": null,
   "id": "de710ec0-238d-4c27-bc82-f35972678e22",
   "metadata": {},
   "outputs": [
    {
     "name": "stdout",
     "output_type": "stream",
     "text": [
      "The slowest run took 6.67 times longer than the fastest. This could mean that an intermediate result is being cached.\n",
      "8.14 µs ± 8.83 µs per loop (mean ± std. dev. of 7 runs, 50 loops each)\n"
     ]
    }
   ],
   "source": [
    "%timeit -n 50 torch.matmul(m1,m2)"
   ]
  },
  {
   "cell_type": "code",
   "execution_count": null,
   "id": "13a07a80-9a48-4c7d-87a7-a24134c40d87",
   "metadata": {},
   "outputs": [
    {
     "name": "stdout",
     "output_type": "stream",
     "text": [
      "13.3 ms ± 1.75 ms per loop (mean ± std. dev. of 7 runs, 5 loops each)\n"
     ]
    }
   ],
   "source": [
    "%timeit -n 5 _=torch.matmul(x_train, weights)"
   ]
  },
  {
   "cell_type": "markdown",
   "id": "b39bacce-cfab-4781-8ef5-b9552cf53b2c",
   "metadata": {},
   "source": [
    "## Einstein Summation\n",
    "\n",
    "> `einsum` is a compact representation for combining products and sums in a general way. "
   ]
  },
  {
   "cell_type": "code",
   "execution_count": null,
   "id": "4af7b1d9-490b-463a-9ace-08a04ef3c0fb",
   "metadata": {},
   "outputs": [
    {
     "data": {
      "text/plain": [
       "(torch.Size([5, 784]), torch.Size([784, 10]))"
      ]
     },
     "execution_count": null,
     "metadata": {},
     "output_type": "execute_result"
    }
   ],
   "source": [
    "m1.shape, m2.shape"
   ]
  },
  {
   "cell_type": "code",
   "execution_count": null,
   "id": "c0cfdc98-c570-41a7-8180-9a0c9cd1bd2f",
   "metadata": {},
   "outputs": [
    {
     "data": {
      "text/plain": [
       "torch.Size([5, 784, 10])"
      ]
     },
     "execution_count": null,
     "metadata": {},
     "output_type": "execute_result"
    }
   ],
   "source": [
    "mr = torch.einsum('ik,kj->ikj',m1,m2)\n",
    "mr.shape"
   ]
  },
  {
   "cell_type": "code",
   "execution_count": null,
   "id": "2473953b-02a4-4e4a-a5de-6aec8abd65e5",
   "metadata": {},
   "outputs": [
    {
     "data": {
      "text/plain": [
       "tensor([[-10.94,  -0.68,  -7.00,  -4.01,  -2.09,  -3.36,   3.91,  -3.44, -11.47,  -2.12],\n",
       "        [ 14.54,   6.00,   2.89,  -4.08,   6.59, -14.74,  -9.28,   2.16, -15.28,  -2.68],\n",
       "        [  2.22,  -3.22,  -4.80,  -6.05,  14.17,  -8.98,  -4.79,  -5.44, -20.68,  13.57],\n",
       "        [ -6.71,   8.90,  -7.46,  -7.90,   2.70,  -4.73, -11.03, -12.98,  -6.44,   3.64],\n",
       "        [ -2.44,  -6.40,  -2.40,  -9.04,  11.18,  -5.77,  -8.92,  -3.79,  -8.98,   5.28]])"
      ]
     },
     "execution_count": null,
     "metadata": {},
     "output_type": "execute_result"
    }
   ],
   "source": [
    "mr.sum(1)"
   ]
  },
  {
   "cell_type": "code",
   "execution_count": null,
   "id": "7be72644-607f-4d3c-b965-3ed19522c605",
   "metadata": {},
   "outputs": [],
   "source": [
    "mr = torch.einsum('ik,kj->ij',m1,m2)"
   ]
  },
  {
   "cell_type": "code",
   "execution_count": null,
   "id": "2cc4b218-93fc-4308-b6b1-e2105d842643",
   "metadata": {},
   "outputs": [],
   "source": [
    "def matmul(a, b): return torch.einsum('ik,kj->ij',a,b)"
   ]
  },
  {
   "cell_type": "code",
   "execution_count": null,
   "id": "00874b91-4d15-45d7-8837-ad9348a4aa01",
   "metadata": {},
   "outputs": [],
   "source": [
    "test_close(tr, matmul(x_train, weights), eps=1e-3)"
   ]
  },
  {
   "cell_type": "code",
   "execution_count": null,
   "id": "b2cd7bc9-2c6d-4f9f-a306-bb9185c6e2f6",
   "metadata": {},
   "outputs": [
    {
     "name": "stdout",
     "output_type": "stream",
     "text": [
      "11.3 ms ± 177 µs per loop (mean ± std. dev. of 7 runs, 5 loops each)\n"
     ]
    }
   ],
   "source": [
    "%timeit -n 5 _=matmul(x_train, weights)"
   ]
  },
  {
   "cell_type": "markdown",
   "id": "6d9dbd77-cbd0-4dfa-bdc2-f144c993adb9",
   "metadata": {},
   "source": [
    "## pytorch op"
   ]
  },
  {
   "cell_type": "code",
   "execution_count": null,
   "id": "38fca00d-8c33-4d34-bf29-b9e155e354b2",
   "metadata": {},
   "outputs": [],
   "source": [
    "test_close(tr, x_train@weights, eps=1e-3)"
   ]
  },
  {
   "cell_type": "code",
   "execution_count": null,
   "id": "7df5cd00-9389-4512-ab6b-6cb98199e06e",
   "metadata": {},
   "outputs": [
    {
     "name": "stdout",
     "output_type": "stream",
     "text": [
      "12.5 ms ± 2.99 ms per loop (mean ± std. dev. of 7 runs, 5 loops each)\n"
     ]
    }
   ],
   "source": [
    "%timeit -n 5 _=torch.matmul(x_train, weights)"
   ]
  },
  {
   "cell_type": "markdown",
   "id": "c09d0838-bb9f-4081-9089-34aed1ed90f4",
   "metadata": {},
   "source": [
    "## CUDA"
   ]
  },
  {
   "cell_type": "code",
   "execution_count": null,
   "id": "de5926bd-ab7a-452c-bbee-712f6d6a8661",
   "metadata": {},
   "outputs": [
    {
     "name": "stdout",
     "output_type": "stream",
     "text": [
      "cudatoolkit               11.8.0              h4ba93d1_12    conda-forge\n"
     ]
    }
   ],
   "source": [
    "!conda list | grep cudatoolkit"
   ]
  },
  {
   "cell_type": "code",
   "execution_count": null,
   "id": "03ef8e72-0cdb-4be6-a27f-1c51f7bcfbbd",
   "metadata": {},
   "outputs": [],
   "source": [
    "def matmul(grid, a, b, c):\n",
    "    i, j = grid\n",
    "    if i < c.shape[0] and j < c.shape[1]:\n",
    "        tmp = 0.\n",
    "        for k in range(a.shape[1]):\n",
    "            tmp += a[i, k] * b[k, j]\n",
    "            c[i, j] = tmp"
   ]
  },
  {
   "cell_type": "code",
   "execution_count": null,
   "id": "7100d25b-ab7a-42d0-825c-f8b3d2c660e5",
   "metadata": {},
   "outputs": [
    {
     "data": {
      "text/plain": [
       "tensor([[-10.94,   0.00,   0.00,   0.00,   0.00,   0.00,   0.00,   0.00,   0.00,   0.00],\n",
       "        [  0.00,   0.00,   0.00,   0.00,   0.00,   0.00,   0.00,   0.00,   0.00,   0.00],\n",
       "        [  0.00,   0.00,   0.00,   0.00,   0.00,   0.00,   0.00,   0.00,   0.00,   0.00],\n",
       "        [  0.00,   0.00,   0.00,   0.00,   0.00,   0.00,   0.00,   0.00,   0.00,   0.00],\n",
       "        [  0.00,   0.00,   0.00,   0.00,   0.00,   0.00,   0.00,   0.00,   0.00,   0.00]])"
      ]
     },
     "execution_count": null,
     "metadata": {},
     "output_type": "execute_result"
    }
   ],
   "source": [
    "res = torch.zeros(ar,bc)\n",
    "matmul((0,0), m1, m2, res)\n",
    "res"
   ]
  },
  {
   "cell_type": "code",
   "execution_count": null,
   "id": "f8b8469d-3ab6-4312-b6ca-ae61d34c2d50",
   "metadata": {},
   "outputs": [],
   "source": [
    "def launch_kernel(kernel, grid_x, grid_y, *args, **kwargs):\n",
    "    for i in range(grid_x):\n",
    "        for j in range(grid_y): \n",
    "            kernel((i, j), *args, **kwargs)"
   ]
  },
  {
   "cell_type": "code",
   "execution_count": null,
   "id": "3b9fb148-322a-40e6-aefd-fbb1ad23f924",
   "metadata": {},
   "outputs": [
    {
     "data": {
      "text/plain": [
       "tensor([[-10.94,  -0.68,  -7.00,  -4.01,  -2.09,  -3.36,   3.91,  -3.44, -11.47,  -2.12],\n",
       "        [ 14.54,   6.00,   2.89,  -4.08,   6.59, -14.74,  -9.28,   2.16, -15.28,  -2.68],\n",
       "        [  2.22,  -3.22,  -4.80,  -6.05,  14.17,  -8.98,  -4.79,  -5.44, -20.68,  13.57],\n",
       "        [ -6.71,   8.90,  -7.46,  -7.90,   2.70,  -4.73, -11.03, -12.98,  -6.44,   3.64],\n",
       "        [ -2.44,  -6.40,  -2.40,  -9.04,  11.18,  -5.77,  -8.92,  -3.79,  -8.98,   5.28]])"
      ]
     },
     "execution_count": null,
     "metadata": {},
     "output_type": "execute_result"
    }
   ],
   "source": [
    "res = torch.zeros(ar, bc)\n",
    "launch_kernel(matmul, ar, bc, m1, m2, res)\n",
    "res"
   ]
  },
  {
   "cell_type": "code",
   "execution_count": null,
   "id": "586d1961-e856-4cdb-bbc9-5c4ea13b09cf",
   "metadata": {},
   "outputs": [],
   "source": [
    "from numba import cuda"
   ]
  },
  {
   "cell_type": "code",
   "execution_count": null,
   "id": "267a4c84-34d2-4a23-ab71-003071374d24",
   "metadata": {},
   "outputs": [],
   "source": [
    "@cuda.jit\n",
    "def matmul(a,b,c):\n",
    "    i, j = cuda.grid(2)\n",
    "    if i < c.shape[0] and j < c.shape[1]:\n",
    "        tmp = 0.\n",
    "        for k in range(a.shape[1]):\n",
    "            tmp += a[i, k] * b[k, j]\n",
    "            c[i, j] = tmp"
   ]
  },
  {
   "cell_type": "code",
   "execution_count": null,
   "id": "2c2d4183-b166-4ca4-aa08-ff99b1fcc13b",
   "metadata": {},
   "outputs": [],
   "source": [
    "r = np.zeros(tr.shape)\n",
    "#m1g, m2g, rg = cuda.to_device(x_train), cuda.to_device(weights), cuda.to_device(r)"
   ]
  },
  {
   "cell_type": "code",
   "execution_count": null,
   "id": "9f4671a0-12de-4f8a-9924-63d5e54d58ad",
   "metadata": {},
   "outputs": [],
   "source": [
    "m1g, m2g, rg = map(cuda.to_device, (x_train, weights, r))"
   ]
  },
  {
   "cell_type": "code",
   "execution_count": null,
   "id": "91d5e108-b1f6-45d5-ad26-652dbc3fddf8",
   "metadata": {},
   "outputs": [
    {
     "data": {
      "text/plain": [
       "(<numba.cuda.cudadrv.devicearray.DeviceNDArray>,\n",
       " (50000, 784))"
      ]
     },
     "execution_count": null,
     "metadata": {},
     "output_type": "execute_result"
    }
   ],
   "source": [
    "m1g, m1g.shape"
   ]
  },
  {
   "cell_type": "code",
   "execution_count": null,
   "id": "3d9c64fa-b46f-4f6f-b92a-60c25aa75263",
   "metadata": {},
   "outputs": [
    {
     "data": {
      "text/plain": [
       "(3125, 1)"
      ]
     },
     "execution_count": null,
     "metadata": {},
     "output_type": "execute_result"
    }
   ],
   "source": [
    "TPB = 16\n",
    "rr, rc = r.shape\n",
    "blockspergrid = (math.ceil(rr / TPB), math.ceil(rc / TPB))\n",
    "blockspergrid"
   ]
  },
  {
   "cell_type": "code",
   "execution_count": null,
   "id": "6a2e97b5-3b21-484a-8b9b-93f48195299d",
   "metadata": {},
   "outputs": [],
   "source": [
    "matmul[blockspergrid, (TPB, TPB)](m1g, m2g, rg)"
   ]
  },
  {
   "cell_type": "code",
   "execution_count": null,
   "id": "488ca3bb-15a2-464e-9fc0-ec3035cc7378",
   "metadata": {},
   "outputs": [],
   "source": [
    "r = rg.copy_to_host()\n",
    "test_close(tr, r, eps=1e-3)"
   ]
  },
  {
   "cell_type": "code",
   "execution_count": null,
   "id": "42c8bf1a-8a0f-4635-aea5-bc3ebeb15226",
   "metadata": {},
   "outputs": [],
   "source": [
    "%timeit -n 10 \n",
    "matmul[blockspergrid, (TPB, TPB)](m1g, m2g, rg)\n",
    "r = rg.copy_to_host()"
   ]
  },
  {
   "cell_type": "code",
   "execution_count": null,
   "id": "6be0df29-41ae-412a-9c9d-32924a430c60",
   "metadata": {},
   "outputs": [],
   "source": [
    "m1c, m2c = x_train.cuda(), weights.cuda()\n",
    "m1gpu, m2gpu = m1.cuda(), m2.cuda()\n"
   ]
  },
  {
   "cell_type": "markdown",
   "id": "9fb62cc9-a1c9-4272-b9bb-e79d80142e7a",
   "metadata": {},
   "source": [
    "`cpu()` copys from GPU to CPU"
   ]
  },
  {
   "cell_type": "code",
   "execution_count": null,
   "id": "14807a6b-3454-47c7-ad14-3ee7ce6866ac",
   "metadata": {},
   "outputs": [],
   "source": [
    "r = (m1c @ m2c).cpu()"
   ]
  },
  {
   "cell_type": "code",
   "execution_count": null,
   "id": "187f2be2-39ee-4e1c-80e5-fcab1fb790f3",
   "metadata": {},
   "outputs": [
    {
     "name": "stdout",
     "output_type": "stream",
     "text": [
      "The slowest run took 7.32 times longer than the fastest. This could mean that an intermediate result is being cached.\n",
      "126 µs ± 113 µs per loop (mean ± std. dev. of 7 runs, 50 loops each)\n"
     ]
    }
   ],
   "source": [
    "%timeit -n 50 a = (m1gpu@m2gpu).cpu()"
   ]
  },
  {
   "cell_type": "code",
   "execution_count": null,
   "id": "0244e17b-8cfb-4525-bde7-0cea859b53cb",
   "metadata": {},
   "outputs": [
    {
     "name": "stdout",
     "output_type": "stream",
     "text": [
      "1.24 ms ± 28.4 µs per loop (mean ± std. dev. of 7 runs, 50 loops each)\n"
     ]
    }
   ],
   "source": [
    "%timeit -n 50 r = (m1c@m2c).cpu()"
   ]
  },
  {
   "cell_type": "code",
   "execution_count": null,
   "id": "ae54c446-aa82-416b-9f72-d0f361e3faf2",
   "metadata": {},
   "outputs": [
    {
     "data": {
      "text/plain": [
       "(tensor([[  0.96,  -2.96,  -2.11,  ..., -15.09, -17.69,   0.60],\n",
       "         [  6.89,  -0.34,   0.79,  ..., -17.13, -25.36,  16.23],\n",
       "         [-10.18,   7.38,   4.13,  ...,  -6.73,  -6.79,  -1.58],\n",
       "         ...,\n",
       "         [  7.40,   7.64,  -3.50,  ...,  -1.02, -16.22,   2.07],\n",
       "         [  3.25,   9.52,  -9.37,  ...,   2.98, -19.58,  -1.96],\n",
       "         [ 15.70,   4.12,  -5.62,  ...,   8.08, -12.21,   0.42]]),\n",
       " torch.Size([50000, 10]))"
      ]
     },
     "execution_count": null,
     "metadata": {},
     "output_type": "execute_result"
    }
   ],
   "source": [
    "r, r.shape"
   ]
  },
  {
   "cell_type": "code",
   "execution_count": null,
   "id": "ca037b5e-cf55-497a-ba1e-62c6768443b1",
   "metadata": {},
   "outputs": [
    {
     "data": {
      "text/plain": [
       "90"
      ]
     },
     "execution_count": null,
     "metadata": {},
     "output_type": "execute_result"
    }
   ],
   "source": [
    "import gc\n",
    "import torch\n",
    "torch.cuda.empty_cache()\n",
    "gc.collect()"
   ]
  },
  {
   "cell_type": "code",
   "execution_count": null,
   "id": "0d05af0d-5f7d-4f01-b687-a010c54f72cf",
   "metadata": {},
   "outputs": [
    {
     "data": {
      "text/plain": [
       "1"
      ]
     },
     "execution_count": null,
     "metadata": {},
     "output_type": "execute_result"
    }
   ],
   "source": [
    "import ctypes\n",
    "libc = ctypes.CDLL(\"libc.so.6\") # clearing cache \n",
    "libc.malloc_trim(0)"
   ]
  },
  {
   "cell_type": "code",
   "execution_count": null,
   "id": "61f02877-97db-4b30-88b8-2d2c0f08d958",
   "metadata": {},
   "outputs": [],
   "source": [
    "for name in dir():\n",
    "    if not name.startswith('_'):\n",
    "        del globals()[name]"
   ]
  },
  {
   "cell_type": "markdown",
   "id": "508947ce-b1cc-4dd3-8deb-85d6fba48fd3",
   "metadata": {},
   "source": [
    "## Clustering \n",
    "\n",
    "> Clustering techniques are unsupervised learning algorithms that try to group unlabelled data into \"clusters\", using the (typically spatial) structure of the data itself."
   ]
  },
  {
   "cell_type": "code",
   "execution_count": null,
   "id": "755f0503-66da-4d6e-92f0-f4c2697fd7f4",
   "metadata": {},
   "outputs": [],
   "source": [
    "import math, matplotlib.pyplot as plt, operator, torch\n",
    "from functools import partial"
   ]
  },
  {
   "cell_type": "code",
   "execution_count": null,
   "id": "0206aeba-c463-4181-928d-ed594dc882f9",
   "metadata": {},
   "outputs": [],
   "source": [
    "torch.manual_seed(42)\n",
    "torch.set_printoptions(precision = 3, linewidth = 140, sci_mode = False)"
   ]
  },
  {
   "cell_type": "markdown",
   "id": "126253b0-c3a2-40ff-a1d4-95b9308c30dc",
   "metadata": {},
   "source": [
    "## Create data\n"
   ]
  },
  {
   "cell_type": "code",
   "execution_count": null,
   "id": "16c2b27e-4c77-414c-af0a-29d381edf0d6",
   "metadata": {},
   "outputs": [
    {
     "data": {
      "text/plain": [
       "tensor([[ 26.759,  29.050],\n",
       "        [ -8.200,  32.151],\n",
       "        [ -7.669,   7.063],\n",
       "        [-17.040,  20.555],\n",
       "        [ 30.854, -25.677],\n",
       "        [ 30.422,   6.551]])"
      ]
     },
     "execution_count": null,
     "metadata": {},
     "output_type": "execute_result"
    }
   ],
   "source": [
    "n_clusters= 6\n",
    "n_samples = 250\n",
    "centroids = torch.rand(n_clusters, 2) * 70 - 35\n",
    "centroids"
   ]
  },
  {
   "cell_type": "code",
   "execution_count": null,
   "id": "53ffa327-a5db-4f39-ae50-d76abe17ba1b",
   "metadata": {},
   "outputs": [],
   "source": [
    "from torch.distributions.multivariate_normal import MultivariateNormal\n",
    "from torch import tensor"
   ]
  },
  {
   "cell_type": "code",
   "execution_count": null,
   "id": "4a8cc948-e05c-4d2c-a023-fa43ee6a5118",
   "metadata": {},
   "outputs": [],
   "source": [
    "def sample(m):\n",
    "    return MultivariateNormal(m,\n",
    "                              torch.diag(tensor([5.,5.]))).sample((n_samples,))"
   ]
  },
  {
   "cell_type": "code",
   "execution_count": null,
   "id": "a1c77fca-d59b-4a7d-b25a-3f15f525f93d",
   "metadata": {},
   "outputs": [
    {
     "data": {
      "text/plain": [
       "torch.Size([1500, 2])"
      ]
     },
     "execution_count": null,
     "metadata": {},
     "output_type": "execute_result"
    }
   ],
   "source": [
    "slices = [sample(c) for c in centroids]\n",
    "data = torch.cat(slices)\n",
    "data.shape"
   ]
  },
  {
   "cell_type": "code",
   "execution_count": null,
   "id": "017f67bf-cd8e-42da-b65e-aa1ec9a159d7",
   "metadata": {},
   "outputs": [],
   "source": [
    "def plot_data(centroids, data, n_samples, ax = None):\n",
    "    if ax is None: _,ax = plt.subplots()\n",
    "    for i, centroid in enumerate(centroids):\n",
    "        samples = data[i * n_samples:(i + 1) * n_samples]\n",
    "        ax.scatter(samples[:,0], samples[:,1], s = 1)\n",
    "        ax.plot(*centroid, markersize=10, marker = \"x\", color='k', mew = 5)\n",
    "        ax.plot(*centroid, markersize=5, marker= \"x\", color = 'm', mew = 2)"
   ]
  },
  {
   "cell_type": "code",
   "execution_count": null,
   "id": "07e570ac-3146-4afc-9ea2-77f09d8ac6ea",
   "metadata": {},
   "outputs": [
    {
     "data": {
      "image/png": "[encoded data removed]",
      "text/plain": [
       "<Figure size 640x480 with 1 Axes>"
      ]
     },
     "metadata": {},
     "output_type": "display_data"
    }
   ],
   "source": [
    "plot_data(centroids, data, n_samples)"
   ]
  },
  {
   "cell_type": "markdown",
   "id": "b43f2b9b-80c9-4d18-a488-d5bf1c466908",
   "metadata": {},
   "source": [
    "## Mean shift"
   ]
  },
  {
   "cell_type": "code",
   "execution_count": null,
   "id": "f911a4d8-bd8d-4b6e-9ec8-e1d7e7b574fa",
   "metadata": {},
   "outputs": [
    {
     "data": {
      "text/plain": [
       "tensor([ 9.222, 11.604])"
      ]
     },
     "execution_count": null,
     "metadata": {},
     "output_type": "execute_result"
    }
   ],
   "source": [
    "midp = data.mean(0)\n",
    "midp "
   ]
  },
  {
   "cell_type": "code",
   "execution_count": null,
   "id": "5c299af7-6ac4-4454-9d9d-43209f34313a",
   "metadata": {},
   "outputs": [
    {
     "data": {
      "image/png": "[encoded data removed]",
      "text/plain": [
       "<Figure size 640x480 with 1 Axes>"
      ]
     },
     "metadata": {},
     "output_type": "display_data"
    }
   ],
   "source": [
    "plot_data([midp]*6, data, n_samples)"
   ]
  },
  {
   "cell_type": "code",
   "execution_count": null,
   "id": "a3053fff-01dc-48c5-b6b5-8c06d58ac949",
   "metadata": {},
   "outputs": [],
   "source": [
    "def gaussian(d, bw):\n",
    "    return torch.exp(-0.5*((d/bw))**2) / (bw * math.sqrt(2*math.pi))"
   ]
  },
  {
   "cell_type": "code",
   "execution_count": null,
   "id": "199fa1c6-e35b-4083-a08e-ec6e8444423a",
   "metadata": {},
   "outputs": [],
   "source": [
    "def plot_func(f):\n",
    "    x = torch.linspace(0, 10, 100)\n",
    "    plt.plot(x, f(x))\n",
    "    "
   ]
  },
  {
   "cell_type": "code",
   "execution_count": null,
   "id": "914dc108-48e9-4b8b-bc96-698f14698b02",
   "metadata": {},
   "outputs": [
    {
     "data": {
      "image/png": "[encoded data removed]",
      "text/plain": [
       "<Figure size 640x480 with 1 Axes>"
      ]
     },
     "metadata": {},
     "output_type": "display_data"
    }
   ],
   "source": [
    "plot_func(partial(gaussian, bw=2.5))"
   ]
  },
  {
   "cell_type": "code",
   "execution_count": null,
   "id": "681d07ac-5de6-4fa2-8cdc-de8f8cdd315e",
   "metadata": {},
   "outputs": [],
   "source": [
    "f = partial(gaussian, bw=2.5)"
   ]
  },
  {
   "cell_type": "code",
   "execution_count": null,
   "id": "83134d5e-caaf-4e6b-a649-6be538e8badd",
   "metadata": {},
   "outputs": [
    {
     "data": {
      "text/plain": [
       "tensor(0.044)"
      ]
     },
     "execution_count": null,
     "metadata": {},
     "output_type": "execute_result"
    }
   ],
   "source": [
    "f(tensor(4.))"
   ]
  },
  {
   "cell_type": "code",
   "execution_count": null,
   "id": "b7264195-58f5-4eed-a1f5-ead215947597",
   "metadata": {},
   "outputs": [],
   "source": [
    "def tri(d, i): return (-d + i).clamp_min(0)/i"
   ]
  },
  {
   "cell_type": "code",
   "execution_count": null,
   "id": "f7aa0355-0ad8-49f7-8504-6f7457ff9f95",
   "metadata": {},
   "outputs": [
    {
     "data": {
      "image/png": "[encoded data removed]",
      "text/plain": [
       "<Figure size 640x480 with 1 Axes>"
      ]
     },
     "metadata": {},
     "output_type": "display_data"
    }
   ],
   "source": [
    "plot_func(partial(tri, i = 8))"
   ]
  },
  {
   "cell_type": "code",
   "execution_count": null,
   "id": "9e64478a-4229-4a25-992a-c29bf8bc38ea",
   "metadata": {},
   "outputs": [
    {
     "data": {
      "text/plain": [
       "tensor([26.204, 26.349])"
      ]
     },
     "execution_count": null,
     "metadata": {},
     "output_type": "execute_result"
    }
   ],
   "source": [
    "X = data.clone()\n",
    "x = data[0]\n",
    "x"
   ]
  },
  {
   "cell_type": "code",
   "execution_count": null,
   "id": "99dd04eb-836e-4152-aeb7-80c97ebfc0da",
   "metadata": {},
   "outputs": [
    {
     "data": {
      "text/plain": [
       "(torch.Size([2]), torch.Size([1500, 2]), torch.Size([1, 2]))"
      ]
     },
     "execution_count": null,
     "metadata": {},
     "output_type": "execute_result"
    }
   ],
   "source": [
    "x.shape, X.shape, x[None].shape"
   ]
  },
  {
   "cell_type": "code",
   "execution_count": null,
   "id": "7b779c20-e64d-43cc-8e01-dc00cf8ff5fd",
   "metadata": {},
   "outputs": [
    {
     "data": {
      "text/plain": [
       "tensor([[ 0.000,  0.000],\n",
       "        [ 0.513, -3.865],\n",
       "        [-4.227, -2.345],\n",
       "        [ 0.557, -3.685],\n",
       "        [-5.033, -3.745],\n",
       "        [-4.073, -0.638],\n",
       "        [-3.415, -5.601],\n",
       "        [-1.920, -5.686]])"
      ]
     },
     "execution_count": null,
     "metadata": {},
     "output_type": "execute_result"
    }
   ],
   "source": [
    "(x- X)[:8]"
   ]
  },
  {
   "cell_type": "code",
   "execution_count": null,
   "id": "997b4ceb-84ed-4c80-8d60-364c35705396",
   "metadata": {},
   "outputs": [
    {
     "data": {
      "text/plain": [
       "tensor([ 0.000,  3.899,  4.834,  ..., 17.628, 22.610, 21.617])"
      ]
     },
     "execution_count": null,
     "metadata": {},
     "output_type": "execute_result"
    }
   ],
   "source": [
    "dist = torch.einsum('ik->i',((x - X) ** 2))\n",
    "dist.sqrt()"
   ]
  },
  {
   "cell_type": "code",
   "execution_count": null,
   "id": "f28dc40f-40d5-47c4-9fd3-402ef185e173",
   "metadata": {},
   "outputs": [
    {
     "data": {
      "text/plain": [
       "tensor([ 0.000,  3.899,  4.834,  ..., 17.628, 22.610, 21.617])"
      ]
     },
     "execution_count": null,
     "metadata": {},
     "output_type": "execute_result"
    }
   ],
   "source": [
    "dist = ((x - X) ** 2).sum(1).sqrt()\n",
    "dist"
   ]
  },
  {
   "cell_type": "code",
   "execution_count": null,
   "id": "530a1cad-65e2-4758-abc4-ddd68182b70d",
   "metadata": {},
   "outputs": [
    {
     "data": {
      "text/plain": [
       "tensor([0.160, 0.047, 0.025, 0.053, 0.007, 0.041, 0.005, 0.009])"
      ]
     },
     "execution_count": null,
     "metadata": {},
     "output_type": "execute_result"
    }
   ],
   "source": [
    "weight = gaussian(dist, 2.5)\n",
    "weight[:8]"
   ]
  },
  {
   "cell_type": "code",
   "execution_count": null,
   "id": "8df15ba1-0abe-4d4a-a103-c7b655d6e1d7",
   "metadata": {},
   "outputs": [
    {
     "data": {
      "text/plain": [
       "(torch.Size([1500]), torch.Size([1500, 1]), torch.Size([1500, 2]))"
      ]
     },
     "execution_count": null,
     "metadata": {},
     "output_type": "execute_result"
    }
   ],
   "source": [
    "weight.shape,weight[:,None].shape, X.shape"
   ]
  },
  {
   "cell_type": "code",
   "execution_count": null,
   "id": "e9c41617-5d9d-491e-8a0f-70ec18a4db84",
   "metadata": {},
   "outputs": [
    {
     "data": {
      "text/plain": [
       "tensor([[    4.182,     4.205],\n",
       "        [    1.215,     1.429],\n",
       "        [    0.749,     0.706],\n",
       "        ...,\n",
       "        [    0.000,     0.000],\n",
       "        [    0.000,     0.000],\n",
       "        [    0.000,     0.000]])"
      ]
     },
     "execution_count": null,
     "metadata": {},
     "output_type": "execute_result"
    }
   ],
   "source": [
    "weight[:,None] * X"
   ]
  },
  {
   "cell_type": "code",
   "execution_count": null,
   "id": "6276eeb6-20e7-4887-b679-9d8ac379f5c1",
   "metadata": {},
   "outputs": [],
   "source": [
    "def one_update(X):\n",
    "    for i, x in enumerate(X):\n",
    "        dist = torch.einsum('ik->i',((x - X) ** 2))\n",
    "        weight = gaussian(dist, 2.5)\n",
    "\n",
    "        X[i] = (weight[:, None] * X).sum(0)/weight.sum()\n",
    "    "
   ]
  },
  {
   "cell_type": "code",
   "execution_count": null,
   "id": "c4d40bd0-f795-487e-a2f7-83639e0ad41d",
   "metadata": {},
   "outputs": [],
   "source": [
    "def meanshift(data):\n",
    "    X = data.clone()\n",
    "    for it in range(5): one_update(X)\n",
    "    return X\n",
    "    "
   ]
  },
  {
   "cell_type": "code",
   "execution_count": null,
   "id": "a055e824-5188-44c8-b1c2-5033afc9ea7e",
   "metadata": {},
   "outputs": [
    {
     "name": "stdout",
     "output_type": "stream",
     "text": [
      "CPU times: user 867 ms, sys: 144 µs, total: 867 ms\n",
      "Wall time: 866 ms\n"
     ]
    }
   ],
   "source": [
    "%time X = meanshift(data)"
   ]
  },
  {
   "cell_type": "code",
   "execution_count": null,
   "id": "2c0921ae-eb68-4dfb-9571-23ef12c9f154",
   "metadata": {},
   "outputs": [
    {
     "data": {
      "image/png": "[encoded data removed]",
      "text/plain": [
       "<Figure size 640x480 with 1 Axes>"
      ]
     },
     "metadata": {},
     "output_type": "display_data"
    }
   ],
   "source": [
    "plot_data(centroids+2, X, n_samples)"
   ]
  },
  {
   "cell_type": "markdown",
   "id": "3c4a8f53-092b-402b-aa58-a9c09cb2bd9a",
   "metadata": {},
   "source": [
    "## Animation"
   ]
  },
  {
   "cell_type": "code",
   "execution_count": null,
   "id": "6d42af0a-6f42-4ab2-b716-ffb99bf84241",
   "metadata": {},
   "outputs": [],
   "source": [
    "from matplotlib.animation import FuncAnimation\n",
    "from IPython.display import HTML"
   ]
  },
  {
   "cell_type": "code",
   "execution_count": null,
   "id": "f63e2cfa-2ec5-48b4-be2f-2e9556c1b657",
   "metadata": {},
   "outputs": [],
   "source": [
    "def do_one(d):\n",
    "    if d: one_update(X)\n",
    "    ax.clear()\n",
    "    plot_data(centroids+2, X, n_samples, ax = ax)"
   ]
  },
  {
   "cell_type": "code",
   "execution_count": null,
   "id": "9837f70b-894e-4e0d-b0d1-153578efe62c",
   "metadata": {},
   "outputs": [
    {
     "data": {
      "text/html": [
       "\n",
       "<link rel=\"stylesheet\"\n",
       "href=\"https://maxcdn.bootstrapcdn.com/font-awesome/4.4.0/css/font-awesome.min.css\">\n",
       "<script language=\"javascript\">\n",
       "  function isInternetExplorer() {\n",
       "    ua = navigator.userAgent;\n",
       "    /* MSIE used to detect old browsers and Trident used to newer ones*/\n",
       "    return ua.indexOf(\"MSIE \") > -1 || ua.indexOf(\"Trident/\") > -1;\n",
       "  }\n",
       "\n",
       "  /* Define the Animation class */\n",
       "  function Animation(frames, img_id, slider_id, interval, loop_select_id){\n",
       "    this.img_id = img_id;\n",
       "    this.slider_id = slider_id;\n",
       "    this.loop_select_id = loop_select_id;\n",
       "    this.interval = interval;\n",
       "    this.current_frame = 0;\n",
       "    this.direction = 0;\n",
       "    this.timer = null;\n",
       "    this.frames = new Array(frames.length);\n",
       "\n",
       "    for (var i=0; i<frames.length; i++)\n",
       "    {\n",
       "     this.frames[i] = new Image();\n",
       "     this.frames[i].src = frames[i];\n",
       "    }\n",
       "    var slider = document.getElementById(this.slider_id);\n",
       "    slider.max = this.frames.length - 1;\n",
       "    if (isInternetExplorer()) {\n",
       "        // switch from oninput to onchange because IE <= 11 does not conform\n",
       "        // with W3C specification. It ignores oninput and onchange behaves\n",
       "        // like oninput. In contrast, Microsoft Edge behaves correctly.\n",
       "        slider.setAttribute('onchange', slider.getAttribute('oninput'));\n",
       "        slider.setAttribute('oninput', null);\n",
       "    }\n",
       "    this.set_frame(this.current_frame);\n",
       "  }\n",
       "\n",
       "  Animation.prototype.get_loop_state = function(){\n",
       "    var button_group = document[this.loop_select_id].state;\n",
       "    for (var i = 0; i < button_group.length; i++) {\n",
       "        var button = button_group[i];\n",
       "        if (button.checked) {\n",
       "            return button.value;\n",
       "        }\n",
       "    }\n",
       "    return undefined;\n",
       "  }\n",
       "\n",
       "  Animation.prototype.set_frame = function(frame){\n",
       "    this.current_frame = frame;\n",
       "    document.getElementById(this.img_id).src =\n",
       "            this.frames[this.current_frame].src;\n",
       "    document.getElementById(this.slider_id).value = this.current_frame;\n",
       "  }\n",
       "\n",
       "  Animation.prototype.next_frame = function()\n",
       "  {\n",
       "    this.set_frame(Math.min(this.frames.length - 1, this.current_frame + 1));\n",
       "  }\n",
       "\n",
       "  Animation.prototype.previous_frame = function()\n",
       "  {\n",
       "    this.set_frame(Math.max(0, this.current_frame - 1));\n",
       "  }\n",
       "\n",
       "  Animation.prototype.first_frame = function()\n",
       "  {\n",
       "    this.set_frame(0);\n",
       "  }\n",
       "\n",
       "  Animation.prototype.last_frame = function()\n",
       "  {\n",
       "    this.set_frame(this.frames.length - 1);\n",
       "  }\n",
       "\n",
       "  Animation.prototype.slower = function()\n",
       "  {\n",
       "    this.interval /= 0.7;\n",
       "    if(this.direction > 0){this.play_animation();}\n",
       "    else if(this.direction < 0){this.reverse_animation();}\n",
       "  }\n",
       "\n",
       "  Animation.prototype.faster = function()\n",
       "  {\n",
       "    this.interval *= 0.7;\n",
       "    if(this.direction > 0){this.play_animation();}\n",
       "    else if(this.direction < 0){this.reverse_animation();}\n",
       "  }\n",
       "\n",
       "  Animation.prototype.anim_step_forward = function()\n",
       "  {\n",
       "    this.current_frame += 1;\n",
       "    if(this.current_frame < this.frames.length){\n",
       "      this.set_frame(this.current_frame);\n",
       "    }else{\n",
       "      var loop_state = this.get_loop_state();\n",
       "      if(loop_state == \"loop\"){\n",
       "        this.first_frame();\n",
       "      }else if(loop_state == \"reflect\"){\n",
       "        this.last_frame();\n",
       "        this.reverse_animation();\n",
       "      }else{\n",
       "        this.pause_animation();\n",
       "        this.last_frame();\n",
       "      }\n",
       "    }\n",
       "  }\n",
       "\n",
       "  Animation.prototype.anim_step_reverse = function()\n",
       "  {\n",
       "    this.current_frame -= 1;\n",
       "    if(this.current_frame >= 0){\n",
       "      this.set_frame(this.current_frame);\n",
       "    }else{\n",
       "      var loop_state = this.get_loop_state();\n",
       "      if(loop_state == \"loop\"){\n",
       "        this.last_frame();\n",
       "      }else if(loop_state == \"reflect\"){\n",
       "        this.first_frame();\n",
       "        this.play_animation();\n",
       "      }else{\n",
       "        this.pause_animation();\n",
       "        this.first_frame();\n",
       "      }\n",
       "    }\n",
       "  }\n",
       "\n",
       "  Animation.prototype.pause_animation = function()\n",
       "  {\n",
       "    this.direction = 0;\n",
       "    if (this.timer){\n",
       "      clearInterval(this.timer);\n",
       "      this.timer = null;\n",
       "    }\n",
       "  }\n",
       "\n",
       "  Animation.prototype.play_animation = function()\n",
       "  {\n",
       "    this.pause_animation();\n",
       "    this.direction = 1;\n",
       "    var t = this;\n",
       "    if (!this.timer) this.timer = setInterval(function() {\n",
       "        t.anim_step_forward();\n",
       "    }, this.interval);\n",
       "  }\n",
       "\n",
       "  Animation.prototype.reverse_animation = function()\n",
       "  {\n",
       "    this.pause_animation();\n",
       "    this.direction = -1;\n",
       "    var t = this;\n",
       "    if (!this.timer) this.timer = setInterval(function() {\n",
       "        t.anim_step_reverse();\n",
       "    }, this.interval);\n",
       "  }\n",
       "</script>\n",
       "\n",
       "<style>\n",
       ".animation {\n",
       "    display: inline-block;\n",
       "    text-align: center;\n",
       "}\n",
       "input[type=range].anim-slider {\n",
       "    width: 374px;\n",
       "    margin-left: auto;\n",
       "    margin-right: auto;\n",
       "}\n",
       ".anim-buttons {\n",
       "    margin: 8px 0px;\n",
       "}\n",
       ".anim-buttons button {\n",
       "    padding: 0;\n",
       "    width: 36px;\n",
       "}\n",
       ".anim-state label {\n",
       "    margin-right: 8px;\n",
       "}\n",
       ".anim-state input {\n",
       "    margin: 0;\n",
       "    vertical-align: middle;\n",
       "}\n",
       "</style>\n",
       "\n",
       "<div class=\"animation\">\n",
       "  <img id=\"_anim_imge69eeea1b33f48428f3ce39c4a47b356\">\n",
       "  <div class=\"anim-controls\">\n",
       "    <input id=\"_anim_slidere69eeea1b33f48428f3ce39c4a47b356\" type=\"range\" class=\"anim-slider\"\n",
       "           name=\"points\" min=\"0\" max=\"1\" step=\"1\" value=\"0\"\n",
       "           oninput=\"anime69eeea1b33f48428f3ce39c4a47b356.set_frame(parseInt(this.value));\">\n",
       "    <div class=\"anim-buttons\">\n",
       "      <button title=\"Decrease speed\" aria-label=\"Decrease speed\" onclick=\"anime69eeea1b33f48428f3ce39c4a47b356.slower()\">\n",
       "          <i class=\"fa fa-minus\"></i></button>\n",
       "      <button title=\"First frame\" aria-label=\"First frame\" onclick=\"anime69eeea1b33f48428f3ce39c4a47b356.first_frame()\">\n",
       "        <i class=\"fa fa-fast-backward\"></i></button>\n",
       "      <button title=\"Previous frame\" aria-label=\"Previous frame\" onclick=\"anime69eeea1b33f48428f3ce39c4a47b356.previous_frame()\">\n",
       "          <i class=\"fa fa-step-backward\"></i></button>\n",
       "      <button title=\"Play backwards\" aria-label=\"Play backwards\" onclick=\"anime69eeea1b33f48428f3ce39c4a47b356.reverse_animation()\">\n",
       "          <i class=\"fa fa-play fa-flip-horizontal\"></i></button>\n",
       "      <button title=\"Pause\" aria-label=\"Pause\" onclick=\"anime69eeea1b33f48428f3ce39c4a47b356.pause_animation()\">\n",
       "          <i class=\"fa fa-pause\"></i></button>\n",
       "      <button title=\"Play\" aria-label=\"Play\" onclick=\"anime69eeea1b33f48428f3ce39c4a47b356.play_animation()\">\n",
       "          <i class=\"fa fa-play\"></i></button>\n",
       "      <button title=\"Next frame\" aria-label=\"Next frame\" onclick=\"anime69eeea1b33f48428f3ce39c4a47b356.next_frame()\">\n",
       "          <i class=\"fa fa-step-forward\"></i></button>\n",
       "      <button title=\"Last frame\" aria-label=\"Last frame\" onclick=\"anime69eeea1b33f48428f3ce39c4a47b356.last_frame()\">\n",
       "          <i class=\"fa fa-fast-forward\"></i></button>\n",
       "      <button title=\"Increase speed\" aria-label=\"Increase speed\" onclick=\"anime69eeea1b33f48428f3ce39c4a47b356.faster()\">\n",
       "          <i class=\"fa fa-plus\"></i></button>\n",
       "    </div>\n",
       "    <form title=\"Repetition mode\" aria-label=\"Repetition mode\" action=\"#n\" name=\"_anim_loop_selecte69eeea1b33f48428f3ce39c4a47b356\"\n",
       "          class=\"anim-state\">\n",
       "      <input type=\"radio\" name=\"state\" value=\"once\" id=\"_anim_radio1_e69eeea1b33f48428f3ce39c4a47b356\"\n",
       "             checked>\n",
       "      <label for=\"_anim_radio1_e69eeea1b33f48428f3ce39c4a47b356\">Once</label>\n",
       "      <input type=\"radio\" name=\"state\" value=\"loop\" id=\"_anim_radio2_e69eeea1b33f48428f3ce39c4a47b356\"\n",
       "             >\n",
       "      <label for=\"_anim_radio2_e69eeea1b33f48428f3ce39c4a47b356\">Loop</label>\n",
       "      <input type=\"radio\" name=\"state\" value=\"reflect\" id=\"_anim_radio3_e69eeea1b33f48428f3ce39c4a47b356\"\n",
       "             >\n",
       "      <label for=\"_anim_radio3_e69eeea1b33f48428f3ce39c4a47b356\">Reflect</label>\n",
       "    </form>\n",
       "  </div>\n",
       "</div>\n",
       "\n",
       "\n",
       "<script language=\"javascript\">\n",
       "  /* Instantiate the Animation class. */\n",
       "  /* The IDs given should match those used in the template above. */\n",
       "  (function() {\n",
       "    var img_id = \"_anim_imge69eeea1b33f48428f3ce39c4a47b356\";\n",
       "    var slider_id = \"_anim_slidere69eeea1b33f48428f3ce39c4a47b356\";\n",
       "    var loop_select_id = \"_anim_loop_selecte69eeea1b33f48428f3ce39c4a47b356\";\n",
       "    var frames = new Array(5);\n",
       "    \n",
       "  frames[0] = \"data:image/png;base64,iVBORw0KGgoAAAANSUhEUgAAAoAAAAHgCAYAAAA10dzkAAAAOXRFWHRTb2Z0d2FyZQBNYXRwbG90\\\n",
       "bGliIHZlcnNpb24zLjcuMiwgaHR0cHM6Ly9tYXRwbG90bGliLm9yZy8pXeV/AAAACXBIWXMAAA9h\\\n",
       "AAAPYQGoP6dpAABsVklEQVR4nO3deXxU5b0/8M+ZLJMQkrAEskAKCIhAKgVU1iLCNaLUllrkRm8R\\\n",
       "CljURItLVbSWpIq41Y1ERUHF+pOU60K9F6RQULioKEtQA5gqZUkJARWYhCwzSeb8/jg8J+ecOTOZ\\\n",
       "yTbL+bz7yi/JzFmemV+u8+FZvo8ky7IMIiIiIrIMW7AbQERERESdiwGQiIiIyGIYAImIiIgshgGQ\\\n",
       "iIiIyGIYAImIiIgshgGQiIiIyGIYAImIiIgshgGQiIiIyGIYAImIiIgshgGQiIiIyGIYAImIiIgs\\\n",
       "hgGQiIiIyGIYAImIiIgshgGQiIiIyGIYAImIiIgshgGQiIiIyGIYAImIiIgshgGQiIiIyGIYAImI\\\n",
       "iIgshgGQiIiIyGIYAImIiIgshgGQiIiIyGIYAImIiIgshgGQiIiIyGIYAImIiIgshgGQiIiIyGIY\\\n",
       "AImIiIgshgGQiIiIyGIYAImIiIgshgGQiIiIyGIYAImIiIgshgGQiIiIyGIYAImIiIgshgGQiIiI\\\n",
       "yGIYAImIiIgshgGQiIiIyGIYAImIiIgshgGQiIiIyGIYAImIiIgshgGQiIiIyGIYAImIiIgshgGQ\\\n",
       "iIiIyGIYAImIiIgshgGQiIiIyGIYAImIiIgshgGQiIiIyGIYAImIiIgshgGQiIiIyGIYAImIiIgs\\\n",
       "hgGQiIiIyGIYAImIiIgshgGQiIiIyGIYAImIiIgshgGQiIiIyGIYAImIiIgshgGQiIiIyGKig92A\\\n",
       "cOZ2u1FRUYHExERIkhTs5hAREZEfZFlGdXU1MjIyYLNZsy+MAbANKioqkJmZGexmEBERUSuUl5ej\\\n",
       "b9++wW5GUDAAtkFiYiIA5Q8oKSkpyK0hIiIif1RVVSEzM1P9HLciBsA2EMO+SUlJDIBERERhxsrT\\\n",
       "t6w58E1ERERkYQyARERERBbDAEhERERkMQyARERERBZjiQC4bNkySJKERYsWqY/Jsoz8/HxkZGQg\\\n",
       "Pj4ekydPxv79+4PXSCIiIqJOEvEBcNeuXXj55Zdx8cUX6x5/4okn8PTTT6OwsBC7du1CWloarrzy\\\n",
       "SlRXVweppURERESdI6ID4Llz5/Bf//VfeOWVV9C9e3f1cVmW8eyzz+LBBx/Eddddh6ysLKxevRq1\\\n",
       "tbV46623gthiIiIioo4X0QEwNzcX06dPx3/8x3/oHj98+DAqKyuRnZ2tPma323H55Zfjk08+8Xo9\\\n",
       "p9OJqqoq3RcRERFRuInYQtDFxcXYu3cvdu3a5fFcZWUlACA1NVX3eGpqKo4ePer1msuWLUNBQUH7\\\n",
       "NpSIiIiok0VkD2B5eTl+97vf4c0330RcXJzX44wVwGVZ9lkVfPHixXA4HOpXeXl5u7WZiIiIqLNE\\\n",
       "ZA/gnj17cOrUKYwePVp9rKmpCdu3b0dhYSHKysoAKD2B6enp6jGnTp3y6BXUstvtsNvtHddwIiIi\\\n",
       "ok4QkT2AU6dOxVdffYV9+/apX5dccgn+67/+C/v27cMFF1yAtLQ0bN68WT3H5XJh27ZtGD9+fBBb\\\n",
       "TkRERNTxIrIHMDExEVlZWbrHEhIS0LNnT/XxRYsW4dFHH8XgwYMxePBgPProo+jSpQtuvPHGYDSZ\\\n",
       "OsuuVcCOZ4CJdwKXzg92a4iIiIIiIgOgP+69917U1dXhtttuw5kzZzBmzBhs2rQJiYmJwW4adaQd\\\n",
       "zwCOcuU7AyAREVmUJMuyHOxGhKuqqiokJyfD4XAgKSkp2M0hf7SlB5C9h0REEYGf3wyAbcI/IIt5\\\n",
       "JkvpPUzOBO4sDXZriIiolfj5HaGLQIg6xMQ7lfA38c6Wj921SgmMu1Z1fLuIiIgCxABI5K9L5ys9\\\n",
       "f/4M/2rnGnY0hk0iIgoQAyBRRwikt7CtOjNsEhFRRLDsKmCiDnXp/M5bKDLxzubFKURERH5gDyBF\\\n",
       "BisPgwYyNE1ERAQGQIoU7T0MagyUVg6YREQUcRgAKTIY59y1NbAZA2VHzbNjsCQioiBgAKTIYBwG\\\n",
       "bWtgMwbKjlrUwQUcREQUBAyAFJnMApuv3jbjc8ZA2ZZ5dr7u25mrhYmIiM7jTiBtwEriYcbXTh4d\\\n",
       "ucsHdxAhIgop/PxmDyBZSeYYQIpSvhu1R0+ct56+QK/NeYFERNTBWAeQrKP8M0BuUr4baecOan83\\\n",
       "s2uVclzmGOVaE+9UjtfO59Oeb7h2/vpy9OrVC7m5uebX3/EMijYfwncbFyP/7yztQkRE7Y8BkKyj\\\n",
       "pYLJ3gKct+OqKpRAueH35tcXQVE87ihH/h8Wo2DTd+qlzEJg0YkRyPtgP4B6ID8f+fn5rXu9RERE\\\n",
       "XnAOYBtwDkGE8Naj19JxmWOA/e8pITC+OxDbVX/uY/2B+jNAXHdg6kMe4Q8ACq9LQ+79j6jnFBUV\\\n",
       "IS8vT3fMkiVLGAKJiNoRP7/ZA0jU3KMH+F6k4e24/e8BznNA3Rlgy8PNAVCC+j1/fblH+AOAvHcr\\\n",
       "AfwBue/MNw1/AFBQUAAADIFERNRuuAiEyN9FGmbHfbtF6QF0Nyi/S5rjpzwEJGci/9uL1RBnJu/d\\\n",
       "Sgy7IMM0/AkFBQVKAOQCESIiagcMgET+1vgzO04EvpguSjic8pDH8b1+cpXXS2YhCwBw8PAJ3e9m\\\n",
       "evXqxcLRRBby5s6jmPDYVry582iwm0IRiAGQrEH0nL09v/160HatAmQo8/+yH2le7GG4dm5uLgoL\\\n",
       "Cz1On4M5WI7lyEEOACAHOViO5ZiDOR7HFhYWKgtGvPVWsmeQKOK8+NEhHD9bhxc/OhTsplAE4iKQ\\\n",
       "NuAk0jAiijFLUcqQbVuLMu9apaz+1V7LV8HnXatQ9Ngfzs/5U3r6lmO5+rQDDiQjWf39dtyOUijX\\\n",
       "UMOfP6+PxaaJIsabO4/ixY8O4dbJA/Hrsf2C3ZyIws9v9gCSVYies+G/DLzgs7F3TRv+pCj9fsFx\\\n",
       "3QHXOc+euB3PIPfHtSi8Lg0AUIpSrMAK9Wlt+FuBFYGFP+3r45ZyRBHj12P74eP7pzD8UYdgD2Ab\\\n",
       "8F8QFvF4f2WFb3x34L4j+t7Ea57UzwnU9sQZ6wKe/3nYnD/j4MGDAIB1WKcLfw44MAMzAABDhw7F\\\n",
       "gQMH/C9TQ0QhpT178Ngb2L74+c0eQLKS1s4DlA3fM8cAkIBou+f1a39Qnssc41lY+s5SFH1er4a/\\\n",
       "HOTowh+g9ASKOYEHDx5EUVFR83X2v8cFIERhJNA5fL4WfXA+ILU3BkCyji0PKwGq9B3PIOVrEcXU\\\n",
       "h5ShXen8ceWfAZCBhlplKFics+MZ5THIzT11oidw1yoU/SpdLfWShSwsxEL1Fg441J8XYqG6Gjgv\\\n",
       "Lw9FJ0Z4H77uiMUtRNQubp08EH26xePWyQO9HqMNfb5Cnj/XIgoEh4DbgF3IYWTXKmD93QBkpWRL\\\n",
       "l576odSWFlGIYWBIQNavlPp/9WeV64lzdq0Ctj6s9BQOmtq8W8ihLSjadhJ5H9TrLjkHczAXc7EC\\\n",
       "K1CMYuQgBwuxEK/jdazGat2xXucCtvfiFiLqVBMe24rjZ+vUcBfIMC+HhVuPn9/cCYSsYsczAGQl\\\n",
       "KGU/4jmHzmyfYO1evuo/k8737t1/RP88oFzz6CfKUG3ZBqU30FGOos9dHuEPAFZjNfZgj7rgoxjF\\\n",
       "KD3/PyPRc+gRAkW7tfMDiShsGENfIEFO22Po7TyGRPKGQ8AU+tpS406cmzmmeRhVW6tPPA94FnkW\\\n",
       "c+/W3wX06K8sAonu0rzK16wwtNgbuKFWfei7WrfX5omwNzTVrvvdzHffeW4lp7ah33jf7wMRdSp/\\\n",
       "izj/emw/NQQGWvDZn2FhX8PKLDRtbQyAFPoC3f1CGxjFueWfKUGp/DP9tcTzWx/2DJna3rQTXyor\\\n",
       "gBN6KkPB4nxjOB3+y+ZzYroAAPInx2HJ5bFem1s4fywO/E+RWiLGzJIF1/reC5g7hBCFFGPw8ha2\\\n",
       "3tx5FEv+Vqo79roFi3DBL+7wGcyKiorw7cbXWiwTow2JxjZwYYm1MQBS6Au0xp02DBnP9fa7DM8A\\\n",
       "del8IGumMmwsgp3xfGPwmrkKmP60smgk2q6cD0kJgVP1K34BoPDqOORmlnnUCdRacnks8of9q33f\\\n",
       "IyJqV8ZwZeyd8xa2XvzoEJpkIEpSzsnPz8d7q57D4feX44/L/mx6r6KiIuTl5TXvEe6DtpagsQ1c\\\n",
       "WGJtXATSBpxEGqK0c/P8rZdnnM+35WFl1a/Y21d7PeOxWx8GGp3KzzKAmPPlYerONIfH8/Pz8v+w\\\n",
       "GAWblKHcwvljlfAnwuX+94Dhv0TRyVHqnL8lC65Vwh9r/xG1C7M5ce0xT067mOPj+6f4dV/j499u\\\n",
       "fA0FBQW684wLwET401qyZIlHEOyo1xkp+PnNANgm/AMKI96KKWtX7k59SHlMrKwFlF41QL9CWDwf\\\n",
       "1x2wd1XmBNad0d8vrjvgrPJcmbtrFfL/sBi9Mgcid3h1czsMBaSLHvsDvutxKfJfeb/T3iIiKzBb\\\n",
       "dVvjbMTZugav4c0fd6wpwfovKzD94gw8f8PIgM59c+dRLP7DH/HvLW+YPi9CoFn4E4whsKVAanX8\\\n",
       "/OYQMEUabwtGjMWUt5yf87flYSW81Z9Rfgaat3SL764ERtc55XfR45c5RunZa3Iq15KhHGuLASAp\\\n",
       "3yWY1+27dD7yH1mG3L4Hm9sh7qnZPST3x7Xeh33bsiimPa9BFIa0w55iSBRAm4dC9xw9gyZZ+R4o\\\n",
       "X+EPUKoADBs2zGv4A+AxHBwOw7tchBJcDIAUWYxz8sxWASdnKgHNUa58V/4f9Rsuna+UeZnykBIY\\\n",
       "684oPX1iCLb8M6VnL8quBD9AOTYxDYAMuBuUc0rf0Q/dirZseRhqXZkmZ/M9xYrilubztceCDy4a\\\n",
       "IYvSzokTIemeq4a0ec9dX4stWjLlJ4O8PieKwosdhMTvZnr16qX+HA77CHMRSnAxAFLk2LXKs7fO\\\n",
       "uAp45irl+5SHlJA15SFg+p+bf9ba+rAS9CA1X+/t+YDj38oK30FTgbqzzb2HmWMMDZKbS848k6Vc\\\n",
       "zxg6ZXj2xBnLyxh769pjwQcXjRC1W0h6c+dRPPX3MpyuceGpv5fhqb+X+bUCWFj91EMoLCz0eHwO\\\n",
       "5mA5lqvbQ+YgB8uxHHMwx+PYm+7+k3mx+BAWDr2UkYwBkMKT2RDmjmeae+sAfc+fMeiInjbRA2YM\\\n",
       "XI/1V8IdAMR1a35u/3tQtoGra/4ZUHryyj87f3FJCYhx54eQ19+tBL8Gp2fojLErz2m3lDO+vo7o\\\n",
       "rTOrYUhkQf721rW0T+/ZugbUNTThbF0DAPi1Alh73eTRP9OFwCxkYS7mAlC2h1yHder2kXMxV9cT\\\n",
       "WFhYiNVPGf4B24bX2lnCoZcykjEAUvhoKRQZ5tHpev7Mgo63YLXjGaVXDzIASVkcIqRfrHy3RZ/v\\\n",
       "HTwv2t58/+l/Bh48oZynDYmNdc1DwiKATXmoeRs3bTt8lbLxJxByjh+RqdbWwmtpn95u8TGIj4lC\\\n",
       "t/gYjyFlXz1d2uvm5uaqIbAUpViBFepxyWguI7UCK9Si8V63iQzwNZD1MABS+PAVigD/59EZ5wUa\\\n",
       "j9H9rhnGBYCa75XvsV2Vc7NmNvfqaXsVX56s7CAihpAhKddaf5cyjKxt8zVPerZDLDTxGFaGf8O3\\\n",
       "nONHZKq1tfBG9+uOKEn5bvTrsf2wb0k2Dj48DfdcNQRP/b0MPynYpIZMbz1db+48ihpnI7rFx6j3\\\n",
       "z83NxdChQwEo20M64NCd44ADxSgGAAwdOlQX/rTh1qy3j0OupBWxZWBefPFFvPjiizhy5AgAYPjw\\\n",
       "4fjjH/+Iq6++GgAgyzIKCgrw8ssv48yZMxgzZgyKioowfPhwv+/BZeTtyJ/aff7W92vpOG3JlTtL\\\n",
       "zc8Te/pG25Vt3ZIzlTBW+g4QE2++n7D22lrTn1a+r79L+S5FAUtOe2+/sY3A+bmDUUpY9GfYtjW1\\\n",
       "EIksQNTCG92vO/YcPeN3TTxRViVKAgp+keX1HHEcAHSLj0GCPdpr7T9RfkZ7nGPP/6qrfXOQow77\\\n",
       "aq3ACjUEFhYWInn0zzzK2QBgGRgf+PkdwQHwf/7nfxAVFYVBg5TVVatXr8aTTz6JkpISDB8+HI8/\\\n",
       "/jiWLl2K119/HRdeeCEeeeQRbN++HWVlZUhMTPTrHvwDakfeQllrPNZfGcKN7qJs3WYMQd7CkbEN\\\n",
       "b89XAp8tGoiK0ezvKwH5Z83vLc4Rw8dZv1IWngBKr2BFCZAxEvjtR75fg7HY9Ibfe9YUJKJWM6uT\\\n",
       "56t48uh+3bH+ywo0yfAIVdrzAGDp+gOob3Aj2iahwS0jPsaGHgl29bri3iL4na5xoq7BjcavPsDx\\\n",
       "DUUAlDmAy7FcvYcDDt0w8O24XR0GHvDz2+EeepUuSAJg0Wcf+PkdwQHQTI8ePfDkk09i3rx5yMjI\\\n",
       "wKJFi3DfffcBAJxOJ1JTU/H4449j4ULPf3GZ4R9QO2rPHqvH+58vzHx+2NXf0GRsQ0EP/Tw/IaaL\\\n",
       "MsfP7FznufPzB+HZ0yfaFd9dGTIWham/3aIsIhG7iIjhZF9tI6I2MYY9sSevMeCZFY4WvYfiu+h5\\\n",
       "E72D2vqCWt3iYwAAzkZlaog92qYOGZd//B5Ob35Jd/wczMFczFV7/ESP4Ot4HauxWnfsgJ/fjj8t\\\n",
       "vlt9Lf6GP6vuDsLPb4vMAWxqakJxcTFqamowbtw4HD58GJWVlcjOzlaPsdvtuPzyy/HJJ594vY7T\\\n",
       "6URVVZXui9pJe65KFSVesn7VPHSrXRDhbYGEaAOgPJ9+sRLixDAsoIS/7Ec87ynm3Ennj4HUvMWb\\\n",
       "IGu+i+NL31ECY0Mt0FirBETtvD3RVsD8/eFiD7K41q5sNc7LE3vyAsDpGqfXPX0BYPs/v8Pxs3VY\\\n",
       "/2UFjp+tU1f+NslK7584Jz5G+YiNj7GhT7d4OBvd51cLu+FqVFYMv/jRIYyo/swj/AHAaqzG7bhd\\\n",
       "He4tRjFux+0e4Q8ADr+/HI49/6u+lpZWHQe6CIYiT0QHwK+++gpdu3aF3W7HLbfcgvfeew/Dhg1D\\\n",
       "ZWUlACA1NVV3fGpqqvqcmWXLliE5OVn9yszM9HosBZEIcqLmX/ln+gURLS2QEM/XfO85V69LT/OQ\\\n",
       "KhZtDJyq9A7mnwX6jdeHs6nng+nUh5oXctiim68R3UXpHdQu7vC3rcYyMkQWEUiA8RUWb508EFHn\\\n",
       "y3PWNbhNryfudbauQdnsJyNZrR8v1De41XD54PRh6NMtHlcOSzv/bPOAW2y0smJ4dL/u2LrvW69t\\\n",
       "FsO88b1/pPvdzJaSbzDhsa0Y3a+7X6uOxevmwhBriugAOGTIEOzbtw87d+7Erbfeijlz5uDAgQPq\\\n",
       "85Kk/z9dWZY9HtNavHgxHA6H+lVeXu71WAohxlWzLa0Qdp7TBzHt1nDeVt6K3UHUWoDwDG/aXk6x\\\n",
       "YtjdqDwX3x34wwngviP6gNnSit+Jd5qXkSGyCH8DjBji9RYWfz22Hwp+kYVu8TG6VbkiMC1dfxAV\\\n",
       "mmFdGcD+CgfiYvQfo3ExUR4BU/QY1jW4ER9jQ7f4GNQ1NKG6vgHb//kdoi6Zhb5Tb/La9sLCQtSe\\\n",
       "PGpaLFr45fzf4YteV6o9k96GdEXJmhpnI97ceZS1+CwsogNgbGwsBg0ahEsuuQTLli3DiBEj8Nxz\\\n",
       "zyEtTfnXmLG379SpUx69glp2ux1JSUm6LwoDxqFdwHdtwPozSpkX8bzYGs4YzrREUMscoyxCeby/\\\n",
       "vsyMt8LVkJUAp92FRHtsS0PjxjIyHBImi/E3wDz19zI0ycosDV9hMcEejXuuGuJRw6++oUks7UK3\\\n",
       "+BhIgDpkHCUBPx+RgT7d4lHX0KQGzKXrD+D42TrUOBvV69c1uDHpwl6IkpTza1zKc3GX/Scuu+63\\\n",
       "Hu0Rq3xFseib7v6TxzFLlizBvzKvUdvTJCuv16y389dj+yHBHq0OP5N1RXQANJJlGU6nEwMGDEBa\\\n",
       "Who2b96sPudyubBt2zaMHz8+iC2kDuVPbTyzHjezUGV8TAS18s+UAFl3Rl+E2lfhamNpF+2x4j5v\\\n",
       "z/ce7LQhkfX/iHyKi7HhxY8OeQQjbQ/hkr+VqrX0xKKPuJgoSACuHZGBfUuy8fCMLPTpFg97dBSa\\\n",
       "ZKWXz1jTr77BDQBodMv4+YgM9V57jp5BwS+yEB8ThYbzqa3BLcN58a90PYEDfn47ynqMx0PrlHY9\\\n",
       "9fcyfJsyAT2uvEU95pfzf4fNcZPgbFTuJeYbAvBZuJrDvhTd8iHh6YEHHsDVV1+NzMxMVFdXo7i4\\\n",
       "GB999BE2btwISZKwaNEiPProoxg8eDAGDx6MRx99FF26dMGNN94Y7KZTexMraEVR5UD3v9WGKhHU\\\n",
       "jI9p7+E8p3QTaO8jCkQbC1eb9expjxX3qapoHub1tVDG7D5EESjQ1av3XDVErZWnDUbiGtpFIE0y\\\n",
       "1OePn61Dxdk6yFB6/p6/YSQApSft12P74Y41JVj/ZQWcjU2oa3CjT7d4tT3XjsjA+i8rMP3iDPW8\\\n",
       "9V9WYHS/7vj12H5Y8rfm+XwxNmX6UdQls9CtvgEJyT3gHnoV3v+iQj3GUdeASRf2AqZcj5g+yThU\\\n",
       "fgL/yrwGZ8/WIT7GhigJuHJYGp6/YaRHaRot0XaytogNgCdPnsTs2bNx4sQJJCcn4+KLL8bGjRtx\\\n",
       "5ZVXAgDuvfde1NXV4bbbblMLQW/atMnvGoAURkSIAlouB2MW9sxClfEx7T3uP6J8F7132u3f/GE8\\\n",
       "VgTL8s9aDnbiXOO9iSKMdjGDP2FGhB5tMHrq72U4W9eAp/5ehh/16HK+3EscAEk3B/B0jQt1DSYl\\\n",
       "oaD05jXJgD06CvboKN3cuudvGKkGP+2x2//5HSY8thXDM5Lx5XFlp4/eSXG4dfJALPlbKZIn/hfi\\\n",
       "Y2xwNbrVUAoo8w73HD2Dj++fggmPAVGpypzEPt3iUeNsRF2DG3uOnsGbO4/iqb+Xte6NJcuwVB3A\\\n",
       "9sY6QmEikBp6ra23t2sVsPVh5b/QU8/X8WvP4taBCua9iTqBr6LN/vYK/qRgk7oTR3V9A5pkZT7f\\\n",
       "oWXTfd5L+/vnh0+rvXx7jp7xufuG6C2MjbapvYWiwLToJTTuEhIfoxwLKG0T9zHuZCKurW0H4Fm0\\\n",
       "mhT8/GYAbBP+ARGA5tBY+4NSzy++u7JgxBgmzcJlRxV4ZuFosiCz3T188RbktL12Ld0HgLqrh6Bd\\\n",
       "RKK910PrSiEDiI+JQo+EWHXo2VhoWtv7OLpfd2z/53cAgEkX9vK6G4l2q7rpF2eo55i1hfj5DTAA\\\n",
       "tgn/gAiAZv/f8zuPxHVvHgY2O07bK8eeOqJ20xG7WphdU9vbBgD/80WFWuHPW/jU7hGs3RoOgMeQ\\\n",
       "dLf4GOxbkq07z9hLKXr6zHYyaWm/YuLnN2CxVcBEHUKs5hU7j0x9yPdxxrmEvur8+YOlX4gA+F8S\\\n",
       "JhBmhabFXL49R89gz9EzaviLkryXmBH197rFx8AeHaWbvyjarGwRB/X7mzuPqiuLAejCnRjm1bYr\\\n",
       "Ma65PA1LvFBLInYRCJFf2mOo1N8FHmbHBbI4xBuzhStEEaoj9641rpwVQ7CAEuC0ZWFqnI2ocTZi\\\n",
       "0oW91J8b3DKWrj8IAKbzEkWvnvY6Ex7bqr4We3QU6hrcsEdHqfc/W9fgMTys3b5O21bRe5hgj2aJ\\\n",
       "F2oRh4DbIJS6kM8UF+P7l19Bym9vRvecnKC2JaxEwhAs5/uRhQQ6z0/wJziaze3T3ke7aASAbrh2\\\n",
       "4OL16opd7Tm+2iuei4+xob7BjWibpCtE7a3N3oKqdkg4UB0ZrENRKH1+BwuHgCPE9y+/gsaKCnz/\\\n",
       "8ivBbkp4EMOm2t06fB1nHF4NpWHXlnYLIYogrS1i7M+ewdprB3qf4RnJ6s+i11A7hGt2neZdRtyQ\\\n",
       "oRSDBpp7D70NaWtfi/hZLPporUD2VKbIwAAYIVJ+ezOiMzKQ8tubg92U8CCGTbW7dfg6zrizRiA7\\\n",
       "boRSWCQKc62d56cNdG/uPGq6TVpL97nnqiHo0y0e91w1RPczAPxQ41KP23P0DIDmYVnxs9m2bB/f\\\n",
       "PwXXanYJCfS1iJ8B7zt/BHpNsgYOAbcBu5DDiHaYFAC2PKws2p3ykO+eM+0OH6IQs7eSLt6IYWYp\\\n",
       "ynPbNyLqdN6GZbWlVAp+oewb7m1Y1FhC5n++qEB0lISEWM8hXFHTz9ewtT/Dvb5Cr9mwsPFnKwzt\\\n",
       "+ouf3wyAbcI/oDCinesHBD7vz9+5gt5q/W34vbKVWzjPNSQKM4GGKm0pFW/zAM1CXaWjzmcRabEr\\\n",
       "x6QLe5kWcfZFG1bNFoK0dI7ZayB+fgMcAqZIph161ZZbaU3pFX/PMRsavnS+0vPX1nIvRBQQb/Pa\\\n",
       "zIZ3RbCbfnGGz3mA4poA1OfE/D/tPEBB1PYDgM0HKnH8bB3e/6ICx8/WYcnfSn0OQwP6oVl/5+m1\\\n",
       "ZS4jWQd7ANuA/4IIccFY4evP7h9E1CkCWdna0upibekWY++d2bnieLGPcLf4GDjqGtSagefLxgfU\\\n",
       "s2e1lbodiZ/fDIBtwj+gEBcK4SsSyswQWYB2qNZs+zRfAVEEs54Jsdhf4dDtx6uty/f54dN4/4sK\\\n",
       "AMp2cK7GJnXbNuMOINrdRlramq6l18XQ6Imf3xwCpk5yprgY30yZijPFxZ1301Aoj9IeO30QUYf7\\\n",
       "9dh+SLBH42xdg+kQq6+hVDGkvL/CgSZZ2RpOlH+556oh6nDz8zeMxCMzstCnWzzs0TZ1NxEzYs/f\\\n",
       "9V9W6B73ZwWzFsu7kDcMgNQpLFunsLUhlKVjiDqdPyHPrBdNhLLhGcmIkoC4GBvO1jUgwR7tcby4\\\n",
       "jigjc+vkgR4lZQBlr1+x569WoIGOcwDJGw4BtwG7kP3XGTuVRNRuKBw6Juo0bR0mNQ4Pd8Swq685\\\n",
       "iBQ4fn6zB5BaoTXDud1zcjB465YODWYh2cvY2p48Dh0TdZq2DpMai0x3xJw70cY9R8+0qhA2kRED\\\n",
       "oMW0x1y8kAxaCNHdUALZMUQrFOYvEllEW4dJtcPDHTXnjkO51N44BNwG4diF/M2UqWisqEB0RgYG\\\n",
       "b93i81hvQ6qBPm5pobASmYg6DVfdhodw/PxubwyAbRCOf0C+QprxuUDCIhBYuCQiIgqWcPz8bm8c\\\n",
       "ArYYX3PxjEO7gQ6piuO7jBzZ+SVfiIiIyG8MgKQyBr5AF26I42tLSjzmCObn56OoqAiA93mIRUVF\\\n",
       "yM/Pb58XQ0QUogKt5UfUEaKD3QBqX22Zh9c9J8fnOf5eO+W3N6vHAUr4KygoUJ/PfuddNSCK6xQV\\\n",
       "FSEvL089hkGQiCKVdqEI5wlSsLAHMMK0doWu6JU7fvc9XodvvV3b2KPXPSdHDYH3zZypC395eXlY\\\n",
       "17+frqfRGP4KCgoYAIkoYnFFL4UCLgJpg1CcRNpSL53Z88fvvgdV69crB0RFAU1Npgs5vF3bbPHH\\\n",
       "N1Om4tkvv8ALP/xg2s4nfvMbzDhyFOv698O9r71mesySJUsYBIkoJHB1b2QJxc/vzsYA2Abh+Adk\\\n",
       "FtYODs8CmpoAAFJcHCS7Hb3vXOTXEPKZ4mKceuZZANCdc9/MmXjinXd8nntBbCz+5XL5PIYhkIhC\\\n",
       "gXG3Dwpv4fj53d44BBzmAi3srF3oIc6NGzoUkCQAgFxfD1tCgtfeQ+O9vn/5FbgdDo9zfnTFFV7b\\\n",
       "kIUsAFDDn/jdTMKxY1xRTERBx2FbijQMgGEu0Dl/2pW94lxXeTlgO/+nEBXlteyL2b28lYrJzc1F\\\n",
       "YWGhxzXmYA6WYzlyoITFHORgOZZjDuZ4HFtYWIgZR46G5K4jRGQt2t0+iCIBA2CYa8v2Z+JcAMoQ\\\n",
       "cFQU0h76g9ehX7M6f9oFH6KXTvQU3tizJ574zW/U87OQhbmYCwBYiIVYh3VYiIUAgLmYq+sJLCws\\\n",
       "RG5urt+vrz22uCMiIrIKzgFsg1CZQ+BtHl4g52sXd2h/B+Cx8KNszFhl2Dc5GUM+2+kxr1D7OwC8\\\n",
       "sX8/Hjl1EoDS4ydCn9YKrEAxlPD2x8EXouCfZQG9Bu5CQkRE/gqVz+9gYg9gBDj1zLNwOxxwOxyt\\\n",
       "Kv9iDHhiqLfy4Udw6plnWxyCNfbSaX9P+e3NuGn4cFzYpw8AoBjFcMChO98Bhxr+BsbFYdGfChCo\\\n",
       "tvSEEhERWQ0DYCSRpIADkNm8vi4jRyo/nF8ZLIZ9y8aMRdmYseg6cSJsyckAoA4DD966BbW7duPg\\\n",
       "8CzU7tqtDgsDwKZfXYd/Hj8OQOkBTEayrg3JSFbnBB6qr8dbXkrH+BLoriVERERWxgAYhozz3Xrf\\\n",
       "uQjRGRlIW/LHFnfyMM6TM+s5qy0pUX/uOnEiBm/dgnM7dqi9jLUlJbAlJMDtcKDy4UfU61Vt3Ag0\\\n",
       "NaFq40Y1WD77xyVqkecsZOmGf7U9gQuxUJ0DmJeXhyfnzWvLW0REREQ+MACGIWOvnb+9X+K8U888\\\n",
       "q+768f3LryC6Rw9UPvwIjt99DwBNDyCUUHf87nvgrqpSHjjfy6jtJRTtSJo2DYiKQtK0aUj57c0o\\\n",
       "drvxp2/+qV6rFKV4Ha8DUOb8zcAMrMAKAMDreB2lKFWPvfe119S9g4mIiKh9cRFIGwRrEmlr9/sV\\\n",
       "57lrauB2ONRdP1RRURi6v1RdUKF9XLtKGAAqC/4EyDIgSaY9j0/Om+d1h48sZOnCnvF3rcLCQtzY\\\n",
       "s2er9zcmIiIy4iIQ9gCGpdbOdxPniSHjpGnTEJ2RgbisLLXnDmgeFhaPxw0dqgwxny8R8/3Lryjh\\\n",
       "DwAkCd+//IrHHsLHPvzQaztE2LsgNlb3u5nvvvuu1fsbExERkTkGwDDib627lo4TQbDPn59Cym9v\\\n",
       "hqu8HLauXdHl0kt0vYuNp08DTU1oPH1aFzh1C03cbjRWVKBq40ZdSLv/ul/htpReXtv4UL9++N8B\\\n",
       "F+APvVO9HiO2gTPWHzSGTSIiIgoMh4DboLO7kP2tdWd2nLfafqKEDAAgKgq2rl3hdjggxcVBdjoh\\\n",
       "2e1Ivf8+j97G43ffg6qNGxE3dCgaT59Gl5EjUVtSog7TijYU/vADXvj+O9252mFdd00N3jxyRK0T\\\n",
       "KNz7q1/h8bffNn1dAmv+ERFRa3AIOIJ7AJctW4ZLL70UiYmJ6N27N2bMmIGyMn1xYVmWkZ+fj4yM\\\n",
       "DMTHx2Py5MnYv39/kFrcMn9r3Zkdpx1G9Tqkqin7IjudgCxDbmgwHWru8+enMHR/KQa8/d9qb6II\\\n",
       "Y99MmaosEomKQl7PnritZ4p6ntjhQzscfdPw4bodQ27r2RPzyv9t+roQFaX84mPLOiIiIvItYgPg\\\n",
       "tm3bkJubi507d2Lz5s1obGxEdnY2ampq1GOeeOIJPP300ygsLMSuXbuQlpaGK6+8EtXV1UFsuXf+\\\n",
       "zv0zbs92prgY7poa2JKT1eLMIiCq8wGnT0d0RgZ637kIg7duQdI116jz/8yGW70NM4twWbV+vRoo\\\n",
       "81JSkJvRB38cfCFu7NlTdw3RE/n7V19VwmFGH+Sl9IK7qspjazkASHvoD7r5iERERBQ4ywwBf/fd\\\n",
       "d+jduze2bduGSZMmQZZlZGRkYNGiRbjvvvsAAE6nE6mpqXj88cexcKHndmVGodyFrB0GFqt+xdZt\\\n",
       "Wt5WFIshXikmBnJ9vTrcKo5vOnMGcl0dbMnJ6H3nInz/8ivoMnIkqrdsgVxf33wDSUJ0ejqaTp+G\\\n",
       "XF+va4NxqFpsaeeuqgJk2XRrOQ75EhFRW4Xy53dnidgeQCPH+XluPXr0AAAcPnwYlZWVyM7OVo+x\\\n",
       "2+24/PLL8cknn5hew+l0oqqqSvcVqvwdLjYOB4vetqoNG4CmJshOJ6IzMhDdowcODs/CycceR2NF\\\n",
       "BeS6OgCAu7oalfkFaq+fMfwlXXMNBm/dAsluVx8W9+gycqSujd+//Io6H1GKi4O7pgZniou5zRsR\\\n",
       "EVE7s0QAlGUZd911FyZOnIisLGW3icrKSgBAaqp+FWpqaqr6nNGyZcuQnJysfmVmZnZswzX8XQEs\\\n",
       "aIeLxTBv7zsXeRwn5up1GTkSZ4qLUfnwI2isqFACW1QUkq65Bim/vRn1paW6QCjFxysXcLs9rmlL\\\n",
       "TkZa/hIMPXgAff78FIDm3Uq6Tpyo3qO2pMR03qCYeyj2Ng607E2g7xUREZHVWCIA5uXl4csvv8Sa\\\n",
       "NWs8npMkSfe7LMsejwmLFy+Gw+FQv8rLyzukvWbaUgtPG6CM4ai2pARoakJtSYly7fMFn1Pvvw9D\\\n",
       "95eiz5+f0t0zbvhwAEDilCm6WoGwnf9Tio6GLSEBtbt2q3sH6/YLPn8/ETq/mTIVp555Vg2EYo6f\\\n",
       "qFHYml4/1g0kIiLyLTrYDehot99+O95//31s374dffv2VR9PS0sDoPQEpqenq4+fOnXKo1dQsNvt\\\n",
       "sGuGMjuScW6eWNQhQpMou9Jl5Eic27FDLdnS+85FPnvKRDiqfPgRAFCvaywPU7trNyoffgRJ06ah\\\n",
       "y8iRqDp5EknTpqG2pEQJa4CuxExlfoFyg8ZGZTj45El1EYgIYmLbuUbDtWzJyWrY656T47X9/u6A\\\n",
       "YnxNREREpBexPYCyLCMvLw/vvvsutm7digEDBuieHzBgANLS0rB582b1MZfLhW3btmH8+PGd3VwP\\\n",
       "3vb7FaFJFF6u2rgRbocDcn29OmQKmA+DitXAkCR1D19t76D4GYC6irdq40a11+7cjh1oOn0akCTd\\\n",
       "fsHGnrbojAzEDR0KSBKkuDg1kDVWVKD+4EHluhs2oOn0aXURidkQ7/G778HB4VnqHsVmPXtmr9Ns\\\n",
       "yJjDwkRERM0iNgDm5ubizTffxFtvvYXExERUVlaisrISdecXL0iShEWLFuHRRx/Fe++9h9LSUsyd\\\n",
       "OxddunTBjTfeGOTWe1/EIR4XQ6RJ06bBlpwMKS5OLfOincunDUtikYUUF6cOwZo59cyz6s9J06ap\\\n",
       "9wSgLPKQZdSWlOBMcTHKxoxF43fNhZ6luDgM3rpF2UXk/Fw+Y7vVeX719bAlJHjtzavauFENocZS\\\n",
       "NtrX5M9wL4eFiYiImkXsEPCLL74IAJg8ebLu8ddeew1z584FANx7772oq6vDbbfdhjNnzmDMmDHY\\\n",
       "tGkTEhMTO7m1nrwNhfoaIhW+mTJVnWenDUuiJ85dUwO5rk7p2fPBlpysLuIQ8wdFOPTYRQRQ5w6K\\\n",
       "5ysffkTtaRTt6HLpJehy6SW663iTNG0aqjZuRNK0aWp4jc7I0L1+f4d7OSxMRETUzDJ1ADtCqNYR\\\n",
       "ammunHEbN+Nx3raNM16rbMxYNQCKoVxv1xE9cIHW8hPXMG4158/rJCIiMhOqn9+dKWJ7AK2spV5C\\\n",
       "MadPzMcTcwEBz1AlijBXPvwIanftVhee1JaUIDYzE/XnziFu6FC4ysvVXj1xrdpdu9F48iRqd+1u\\\n",
       "VQ+cGMpGUxPO1dTAlpCge147rMsASERE5L+InQNInrQFmG3JyZBiY1ucU6fuv3t+Lp52AYoIkPUH\\\n",
       "D8LtcKiLUIzFpKs2bvSrlp9xoYa2LA0Ajzl8LBBNRETUOgyAFiCClbbeni0hQdnKzbAIwxiquufk\\\n",
       "eNTmM/tuS05Ww6QIkWox6WnTWlyFe6a4GJUFf0JjRYVufqDY91cUktaGvUAKRHMVMBERUTPOAWyD\\\n",
       "cJhDoB1GtSUnw5aQ0OLcPn+v6+187WIRMS+wpf18xfMATPcsbivuJ0xEREI4fH53NPYAhjF/erXU\\\n",
       "YdTzu5toiy0P3roFtbt262rt+XuvlsqquM+d09UlbGm4NuW3N6u9iGZb1rXUnpZwuJiIiKgZewDb\\\n",
       "INj/gvCnV0v01LlratQyKtpjDw7PUufZDd1f6vUaxl7E6B49UH/wIJKmTVNLxRjbhagopD30hzYt\\\n",
       "0PDW08gePSIiaq1gf36HAvYAhrEuI0f6LOgMNM+TM86hEz1ocUOHqvP0zGjDn3YxhlgAYlZLUDt3\\\n",
       "T7u62J8eO397GtmjR0RE1HosAxPGRDmXlgo6A82lWbT78oo5d956/tTjz4e/tIf+oD6mrctndi9j\\\n",
       "WRnRA9lSyRZjaRexD7Ex5PpTEJuIiIjMsQcwjPnqBTPrcdOGK7Nzzc4x9uaJHsUul17iVxu1QdOf\\\n",
       "Hjtjr2YgIZeIiIj8wzmAbRDKcwjM5si1tHNGIPPq/D020N06jNflbh9ERNTeQvnzu7OwBzBCmfXw\\\n",
       "tVQ3L5B5df4eG0itPrPrBno+ERERtYw9gG3Af0EEF3sHiYioNfj5zR7AiBfJO2C0VIuQiIiIzDEA\\\n",
       "RrhIDkksBUNERNQ6LAMT4cTevJEYklgKhoiIqHU4B7ANOIeAiIgo/PDzm0PARERERJbDAEjUztaW\\\n",
       "rUX229lYW7Y22E0hIiIyxQAYgSJ55W84vLaVX63EiZoTWPnVymA3hYiIyBQDYASK5JW/4fDaFvx4\\\n",
       "AdIT0rHgxwuC3RQiIiJTDIARKJLLo4TDa5s1ZBY2zdyEWUNmBbspREREprgKuA24ish/3LWDiIhC\\\n",
       "BT+/2QNInSQchm6JiIisggGQOkU4DN0SERFZBQMgdYruOTkYvHVLUId/WZ6FiKhlX2zegFdy5+GL\\\n",
       "zRuC3RTqQAyAZBksz0JE1LLP172Nqu9P4fN1bwe7KdSBGADJMliehYioZZfNmImklN64bMbMYDeF\\\n",
       "OhBXAbcBVxERERGFH35+sweQiIjI8jjvz3oYAImIiCyuLfP+GB7DEwMgUQcKdOUxVyoTUXsJJJi1\\\n",
       "Zd4fF42EJwZAog4U6MpjrlQmilyd3VMWSDAbceU1uLnoVYy48pqA78NFI+GJAZCoAwW68rgtK5XZ\\\n",
       "e0gU2jq7p6yzgllbwiMFD1cBtwFXEVEoyX47GydqTiA9IR2bZm4KdnOIyOCLzRvw+bq3cdmMme0e\\\n",
       "ljry2pGIn9/sASTqUJ3ZK8c6h0ShrSN7yjgPjwLFAEjUAUTwe37v8x5z+toSCn2dO2vILGyauQmz\\\n",
       "hswK+FwiCm9tHe7lSl7rYQAk0mivkCQWczibnLBJNozsPdLjudYs9AjWuUQU2lrbuyiC347iN9iD\\\n",
       "aDERGwC3b9+Oa6+9FhkZGZAkCevWrdM9L8sy8vPzkZGRgfj4eEyePBn79+8PTmMpZLQlJGnDoxiO\\\n",
       "tUfZ4ZbdKDlVoh5nHKrNz89HUVGRz2sXFRUhPz+/TcO8HCImCl3B6oETQ8eQJa7ktZjoYDego9TU\\\n",
       "1GDEiBH4zW9+g1/96lcezz/xxBN4+umn8frrr+PCCy/EI488giuvvBJlZWVITEwMQospFCz48QKs\\\n",
       "/Gplq0KSNjyKodi1ZWvx5K4nUVlTifu234fHJz2OWUNmqcO0+fn5KCgoUK+Rm5ur/ry2bC1WfrUS\\\n",
       "mV9m4tWHXwUALMESbMpv3QIP7X2JKLRo5/C1phevtQtALpsxk4tHLCpiewCvvvpqPPLII7juuus8\\\n",
       "npNlGc8++ywefPBBXHfddcjKysLq1atRW1uLt956KwitpY7m79Cur3l0LV1jwY8XIC4qTg174nou\\\n",
       "twsyZGw8slF3vDH85eXl6XoCV361EqV/K1XDHwAUFBQgPz+/xdfbHjhnkKjjGHv8glWIecSV1+B4\\\n",
       "rx9hxz8P+zxOjEK0B843DA0RGwB9OXz4MCorK5Gdna0+Zrfbcfnll+OTTz7xep7T6URVVZXui8JD\\\n",
       "e8x/e27vczhRcwLP7X1O97gISgBMw960/tNgk2wY2mOoGqiuz7teF/4EbQjM/DITJ9484XFMZ4VA\\\n",
       "zhkk6jjG0OZrDl9LgemyGTMRl5AIV32t7hh/gpb4h2heXh5unDTO9NiioiLk5eW12397uGI5NFgy\\\n",
       "AFZWVgIAUlNTdY+npqaqz5lZtmwZkpOT1a/MzMwObSe1n/aY/yZBAgC4mly6njFtUBJhb1r/aep5\\\n",
       "j096HF/c9AVO15/GiZoTWPzQYrxd5P0/fHl5eeg7qK+u58+ooKAAA2cN7NDeOc4ZJAqcv71bvnr8\\\n",
       "jNcwC0xfbN6Aonk3oGh+DgAgNj4e9efO6Y7xdp64tnEUYs3/7cTSPz6ka4sIf0J7hEDuHBIaLBkA\\\n",
       "BUmSdL/LsuzxmNbixYvhcDjUr/Ly8o5uIrUT49CuP8ObxmPuGHUHkmKT4Gxy4kTNCTy560mMeGME\\\n",
       "esT1QFJsEmobajE6dTQeHPMgSk6VeFxbBKoL+lzg9Z5ZyAIAHD90XPe7mTp7XYf2zrVUVoaIPPnb\\\n",
       "u+Wrx894DbPA9Pm6t1FfU62GPrNjvJ1X9f0p/OGBB01HIf575151FMIY/oS2hkDuHBIaLBkA09LS\\\n",
       "AMCjt+/UqVMevYJadrsdSUlJui8KT/4Mb5odc67hHGTIsEk2OJuccMtuHDx9EAkxCXC4HFj51Uq1\\\n",
       "9t/ze5/XXU8EKmmChPRfp3vcbw7mYDmWIwfKv+hzkIPlWI45mONx7LyH5uGCay5ATUMN5+gRhZBA\\\n",
       "e7fMegzFNTKGXIRXcucBgEdgumzGTETb7YAkIWPIRWqoAoCi+TkomneDeh4A9R4ZQy7Cpv3f4H93\\\n",
       "7/Papry8PAwbNsw0/AltCYGcAxgaLBkABwwYgLS0NGzevFl9zOVyYdu2bRg/fnwQW0Zt5atnz6xM\\\n",
       "y8jeI70ebzzm+b3Pwy27YZNseHDMg7h6wNXqcK92uFSGsrui+G523axfZGHeQ/PUx7KQhbmYCwBY\\\n",
       "iIVYh3VYiIUAgLmYq+sJvGj+RVj1p1XoEtMFVa4qztEjCjJtoAm0d8usx1Bco6Lsa/U5Y2gaceU1\\\n",
       "6JKYDMgyKsq+1l2v/tw51NdUq9fU3qOi7GskxMZ4bY/4b83Bgwd1v5vp1auXX68RaH6P1j//BLa8\\\n",
       "+hLnAIaAiA2A586dw759+7Bv3z4AysKPffv24dixY5AkCYsWLcKjjz6K9957D6WlpZg7dy66dOmC\\\n",
       "G2+8MbgNpzbx1bOnfU70xpWcKvF6vPEYGTLSE9Lx4JgHMWvILHVunyjtIoZLfzfqd0iOTYaryYWJ\\\n",
       "ayZibdlarC1bi4lrJmLCmgkAgE0zN2HVn1ahsLAQAFCKUqzACvXeyUhWf16BFShFKQAl/BX8Xhm2\\\n",
       "4Rw9otDgbdi3pZ6uLzZvgKuuDnFdu6o9htpztD2BZqHJ27BvXNeuiEtIVB+PPz9aFZ+UhMtmzMTV\\\n",
       "4y7D/Xm3erQnkFGIwsJCXdkqf9+jsk93QHa7IdlsnAMYZJIsy+bdFGHuo48+whVXXOHx+Jw5c/D6\\\n",
       "669DlmUUFBRgxYoVOHPmDMaMGYOioiJkZXn/144RN5MOPaJ23oIfL/CYu2b2nD/Hj+w9EiWnSkyP\\\n",
       "8Sb77WycqFFW8NokGxJjEuFwOQAA6Qnp2DRzk3r9A/cfUOf8rcM6XfhzwIEZmAEAGDp0KA4cOBD4\\\n",
       "m0JEHcpbHb5Xcueh6vtTSErprQ7Fapk97+sxyWbD1Hm3+OxdNGvL0zf8XA1dd615Xz1WO8cvC1lY\\\n",
       "juXqcw44dP8tuh23q/8QDTT8aduVMeQiVJR9HfS6g/z8juAA2Bn4BxTZRIgTgU3wFhrXlq3Fc3uf\\\n",
       "gwQJE/pMwI7jO1Dlai4VFC1Fo0luwtUDrsbjkx5H9tvZKP1bqVrqJQc56rCv1gqsQDGKAbTuP7xE\\\n",
       "FBwtFWg2e97XYy2Fpy82b8CWV1+C7HbrAuT6559A2ac7MGTcREy/417dOdoQ6M9/g2746Vjc99BD\\\n",
       "AYfQUMPPbwbANuEfUOTRhjsApkHPLBiuLVuLpZ8thVt2AwCSYpOQEJOAM/VnUN9UD0DpCXTLbvW8\\\n",
       "K++8Ev949h8AOv5f30QUfIEGoy82b8CO4jcAWUL/n4xUh09b6lEUPYUAsGPNXwBJxsScm7zec9iw\\\n",
       "YeqcP1+jEGndknBP9k8R17UrclcVe213Sz2foYCf3xE8B5AiT2fsTCHmCT6/93k8v/d51DTUeLSh\\\n",
       "pqEGybHJugUkT+56Ug1/ybHJkCDhRM0J2KPsSIpNQnJsMqb1n4bk2GScqT+Dgb8ZqIY/QJkD+Dpe\\\n",
       "B6D8a3sGZqhzAl/H62r4Azx3DPEHd/UgCr5ACyBrF3T4M3dOzAkUw8TGUjHa+YXi51uvn6GGvxzk\\\n",
       "6MIfoMxHFnMCK89W4eNvjqC+psbnCl7W+QsP7AFsA/4LonN5G5JtT6IHUNtzBwBxUXH4/aW/VwNi\\\n",
       "eoJSxkX8XFlTCRkyJEj4cs6XXnsSn9v7HA5vOGy6wweg9ARqw57xd61AegInrJmAKlcVkmKT8PEN\\\n",
       "H/t1DhG1r7b2AJoN/2qvCSg9fo2NLkRHx6L/T0biyL4StQdQBNCklN5w1dVhy76v8F7JfgCBjUL8\\\n",
       "cuRwXD3uspDt3fMHP7+B6GA3gMhfC368QBeqOsKsIbMwa8gsTFgzQRcA65vq1XuL73tO7kHl4Uqc\\\n",
       "qT+DYT2H4eDpg+oOIOI6QHNwXfnVSkiQ0Fjd6PX+4j+wQ4cOxcGDB72GPwD46OBHyIV/AVDsYiK+\\\n",
       "E1HnG3HlNT7n+vk6XnsOAPz7YCnKPt2BqJgYNDqd2LHmL3DW1UB2KyMRjU4nKsq+Ru6ra3TXFHMJ\\\n",
       "V63+ixr+gOZRiLmYq875E3MCjaMQ75Xsx5AJk9rnTaGg4RAwhQ1vO1OYDW8aHwt0CPR3o36H9IR0\\\n",
       "DO85HBIkxEXFqXMBRRtKTpVAhoz6pnqUV5erJWGMtOVaJvSZgLRfpiH9l56FoIXCwkIcOHBALRFj\\\n",
       "ptcvesEx2eHXawGUXUzSE9Jxx6g7/D6HiDpOoMPBYoGHOEcMCTe6XEhK6Y3GRpca/mzR0boyMIKo\\\n",
       "L7h6zV/x3l7Pf1yuxmrcjtvVBR/FKMbtuB2rsdrj2McKXwx4KgqFFgZACntmtf+Mj4nfl3621K8Q\\\n",
       "KIJe8c+K8eWcL7Hr17s8VvzWNtSqv7uaXF5D5qwhs9Th3w8OfwAZMnr+oicuuN5zSzjtsG5ubq5p\\\n",
       "CJyZOxM/+fVPAuoJ5bZuRB2nNTtbGHf7aOncz9e9rZsDOGTcREg2Gy4a/1PcXPQqomOaizu7m5oA\\\n",
       "ST+7S9vGc/VOr/cRPX0X/ChT97uZ7777jrt6hDEGQAp7xoLIIpwlxSapjy348QJ1FW577Jyx8quV\\\n",
       "cLgcuiHVR3Y+ghM1J/DY549hxBsjcN/2+3THV7mq1HmCcVFxSPtlGmbmNv8L/aL5F6HXfyiV9e/b\\\n",
       "fh9GvDECx358DP+x6D/UY2bmzsR/F/63OhTNRR1EwRdobx7gudvHlldfwvrnn/AaprQLPACgouxr\\\n",
       "TJ13i1rWZWLOTYjr2lU5WJY9Fn7sKH5DvU/ub27Czy75ide2FRYW4tDRYz5HIZYsWYL8/PxWvXYK\\\n",
       "DQyAFPaMvVsinCXEJKiPzRoyCw+OebDF7d/8JULn1QOuRnpCOmKjYtWt3xrcDXDLbmw8slE9fmTv\\\n",
       "kerPw3oOg8vtQpWrCo7JDixZsgQXzb8I0T+NVkPdhsMb1GuIvYO1w74t7WXMVb9Encfbqld/escy\\\n",
       "hlwEAJDdbpR9ukMNacZztFvMaUOXuAeghEBI5/9RKkm4bMZM9dj6mhpAkiC73ago+xr/s6sES5Ys\\\n",
       "8WjP9WNHtTgKIcKfr9dOoY+LQCjitLRYRBRoFuFJW7w50B0/RqeOxuOTHsd92+/DB4c/gD3KjoHd\\\n",
       "BuoWhABAyakS9eeDpw+qewov+PECzJo5C3Xb67DxyEaM7D1SF+qm9Z+G0amj8VyD0kZtj6av1ygC\\\n",
       "4nN7n/O60wkRtQ/jYg1BG9S0z2sLM4t9fCWbDUPGTVTn9mn38TUWhXbV16pz/Dx64M4X9kjsmaIu\\\n",
       "+Kg+/b06PxCShPikJBTNuwG9JBkLf30jVrz5FgBlde/lQy/UvQYRBkWxaG34E69dtFP7O4U+loFp\\\n",
       "Ay4jDy9iNW5ybDK6xHRRQ5R2yza37FaLOIuVvhuPbMS0/tPw+KTH1fIutQ21cLgc6tCzKAJtk2x4\\\n",
       "cMyDAKBuI/fx8Y/hbNLPuYmNisXvRv0Os4bMwtqytXhk5yOQISMpNgkT+0zU3dMX464kxu3rtO3s\\\n",
       "qNI5RGTO20pf7dZsU+fdojtGW/qlsdGFRqdTV3hZFFkWw72NrgZAAqJjYtB/xCh8/fF2XRuMwVJ5\\\n",
       "UFKDYrTdjn8c/Bf69u+HrKQ4QJYw8YbZHkGuqKgI3333nS78Cd4KP4fyjiD8/OYQMFmIGLad0GeC\\\n",
       "7rG4qDhIkDC0x1CkJ6SrRZyXfrYUHxz+QDec+9ze53Ci5gScTU41/GmLQIs5hiJYbjyyEQ6XA/VN\\\n",
       "9ege1x32KDvqm+rVuYPZb2fjub3PqcPHriYXSk6VwC27db2GWtrhXW+LXUpOlWDTzE24Y9QdSIpN\\\n",
       "Qm1DLYeDiTqZdthWSyzgGDJuoukxztpa1NdUo9HlAgC18PIXmzfAVVenhD9ZQv25c2h0OdHU0ID6\\\n",
       "c+dQUfY1LpowCZLNhsQUZT6xGPKdOu+W5uFhTb9Po8uFyRf0waCoJtTX1KC+plrtzRPDy+uffwKx\\\n",
       "B/bglxMuM32d2mFg7bA35weGNgZAsgwxV7DkVIkammYNmYXucd0hQ8bp+tPYNHOTGhDdshvRNmWW\\\n",
       "xNAeQwE019Grb6pXdwnR9u6JUCjCptj9QyxIEUFPhqyGNen8/wClZ9C4qMVIG/qMxxp/nzVkFhJi\\\n",
       "EuBwOdpl8QsR6bVmFez0O+7FXWve99iXFwB2FL+h9NRJEi4a/1NINhsgy/h83dvYUfyGsrNHTQ36\\\n",
       "/2Qk4rp2RVxCIoaMm6gGMHFttfbn+VXDI668Bv8x/1blegAgSYjr2lV3DxEMxbxEEeDE3ERvQc7b\\\n",
       "/ETODwxtnANIlqAdKjXOn9P+vrZsrdrbZ5NsiJKi0IAGHDp7CNlvZ6NvYl84flAWYlS5qvDkricR\\\n",
       "JUWhUW7E8J7DUfyzYo9hWSNtIemTR06qgXPjkY2Y2Geiroi0GW17jceandsZBbSJrMrbPL9A6Hbz\\\n",
       "kJXgFtelK6bfcS/6Ds3CjjV/gau+VhnuBQBZVoo8G/bjXf/8E9jy6ksYMm6iOj9QhK9Xcufhshkz\\\n",
       "MXXeLdjy6kuQ3W7ExnXR3aO+9hwgyyj7dAf6Ds3CZTNmKvd21kGWZTUYijab7TNsvK+v1xpqw8JW\\\n",
       "wx5AsgRtr5noCQSUIVgA6irilV+t1M3ls0fZASi9fCdqTuDg6YO66zqbnGiUlZ09Ttef9rgX0FzS\\\n",
       "5b7t96k1AVd+tRIfH/9YHeptadhXy6ymn3ZY2LgCmDUAiTpOe/RyaUPkxBtmIy4hEY2NLhTNuwEA\\\n",
       "EBsfj/pz5xAdG4O4hETEde2qu5/ohfz6k/+D7Hbj64+3Y8eav6ghyxhSp867xaPNsfHxam+g7HZj\\\n",
       "R/EbSo+fJMPd2KiGTm2btfsMC956A81eKwUXAyBZgtmwqjaorS1biwlrJuD7uu8hQcK0/tMwa8gs\\\n",
       "9E3sCwBqEEztkoq4qDgAyv7AVw+4Wp1DKEq9GO+18chG3TxCcV8ZsseQcWt76cQ1n9/7PJZ+tjSg\\\n",
       "otdmWEaGyD/e5vn5Yhw21obIEVdeg9j4eDQ6nep8vIwhF0Gy2dB/xCjkvroGuauKdfcToSo6NlZ9\\\n",
       "rL6mGltffxlP3/BzxCcl6eboiWt+vu5ttdew6vtTqCj7Wp2f2OhqQNX3pwBZQrRd+e9fbbVDbXPG\\\n",
       "kIsASXnOW/g1C8ccFg4dXAXcBlxFFDpaGnZt6RztamBACXfd47qjsqZSnbcHKMPCX9z0he46YnWx\\\n",
       "6DU03l+UiImSotAlpgsm9pmIHcd3QIKEO0bdEVDPnLfXKR6vaahBlatKfVy7ojmQ+4jXxNXDZHX+\\\n",
       "DFkGOqzpbdWs9npiJfDEG2arAS8uIRGx8fEe99ENIQP4x8oXdNcTq413rPkL6muq9Tc7vyJYuyJZ\\\n",
       "rDKOjeuiKzUDQG2zuhrZpE3G9oTikC8/v9kDSBGipcLIZrRDowt+vABJsc3/ERBDvvYoO2ySDekJ\\\n",
       "6bBJNl1tP0G7y8jze5/32IO45FQJkmKT0Cg3ospVhZJTJR4LM/ztcfP2OsVrEXsYXzPgGt2K5kAX\\\n",
       "gLS1R5IoUvgzZCmO2VH8hl8LQrytmgWaw9PEnJvU8Jcx5CIkpfQGJNmjLeL4+KQkbHn1Jfz7YCni\\\n",
       "EhIBKHsCi9XGYsjWyBYVpdthRKwynphzk9qzedmMmYhLSES03Q5XXR2+2LxBfQ1mbdK+ZxzyDV0M\\\n",
       "gBQR2hpYZg2ZhY9v+BjXDLgGNsmGYT2HIT0hHb+/9Pf44qYvsGnmJnxx0xemdfnELiPJscmoclWZ\\\n",
       "lmWRIeuGikf2HgmbZMPI3iOxtmytOmzbUlAze53a8CiC4OOTHlfLwLTmfeG8QSKFP0OWahiSJb/C\\\n",
       "jq95cmbhqaLsa1w2YyYaGxoASdItxhDHnPzXt+puIv1/MhKSzYYLx4xXVxuLEGeLjgYkSfkOwN3Y\\\n",
       "iIwhF6ltqa+pBmRJ3WVEtHfiDbOVcjPnh6XFa5iYc5PPYV4O+YYuDgG3AbuQI09bhj7FuYAyhPz7\\\n",
       "S38PAB7DzOkJ6QCgFqWubqjWLTzRFnTWDt16G/7lcC1RaGjNClfjOd6GT7XDsHEJich9dY3u/Pik\\\n",
       "JJw68i91dxExxKxdlTviymt0Q7eiR1Cy2XDXmvfVa7nqa1F/7pxuiFqcJ4aKQ2k4tzX4+c0eQCId\\\n",
       "f3oSva24FUPBgFInUKw4FuFvZO+RHos+ZMge4Q8wH+r1NvzL4Vqi0OBtQYivWoHGc7S/i+FXMQzc\\\n",
       "vM+vrNsD+OaiV/HjKdlI7JGilm/Rhj9tD6N4buINs9Wi0UPGTdTd26xXTyxEEcWrW6M1NROp47AH\\\n",
       "sA34L4jwpN0u7ePjH0OGrG7L1tLx2u3VbJINXWO6ospVpfa+rS1b67G3sFiYYdZDZ7y28bs/PYBE\\\n",
       "FLq+2LxBrbsnetQCWVgieuPE7h+NjS5ERyurfetrqj0WZZhtx2ZWry/QxS0iSHpbuOKPlha/dCZ+\\\n",
       "frMHkCzIuE1blavKo1fNbLu1jUc2qvP5xKIPCRLSE9IxsvdItabgxzd8jB037FB3HBHHGHvotIFO\\\n",
       "HLvh8AbdVm7GIs+cl0cUXj5f97a67692WNffhSWQJXV+YX1NtToPr7HRBclmU+cDeptrJ8rKGOv1\\\n",
       "adtgthDlldx5+Ogvq9TFLe0xl4/zAUMLAyBFLG8ra43btMVFxXnslWu23dq0/tOQnpCO3436HR4c\\\n",
       "8yDSE9Jxx6g7PLaXM95HHANA1x7jPcTwsU2ycTiXKEx5q/GnnTcXyMKSiTfMxs1Fr6oLO3r3vwBJ\\\n",
       "Kb0RHROj7vML+K5H6K0eX1zXrnDV1WHHmr+YLkQRexFDlgKqd+htqLc1NROp43AIuA3YhRza/F0c\\\n",
       "YXacdijXn1p9/gzPGu9jPMefa2iPAcAhYaIQ01HDnMbrBrLgxNux6oIQTc0/7UKUjCEXqSuQAwlt\\\n",
       "oTTU6w0/vxkA24R/QKHN3zlznbW6tj3m8GnbBICrf4lCTHvsdWt2jbZc19f8wPYq0hwOxZ+1+PnN\\\n",
       "ANgm/AMKH23dKaQ9dutoj3uwB5Ao8vnqQdP2zh3ZV+KxuMN4TEXZ1wH15LW2Z7E9Fol0Jn5+MwC2\\\n",
       "Cf+Awkdn1soL5F5taRdXBRNFJl8hTIRDsYUbAI/t2LQ1+7Srj/25p6uuTre62BdtUDXWGwx1/Pzm\\\n",
       "IhCyiM6slRfIvbQ7ggSqNdvfEVHo81VP0FVfq2zLFquUgoEkeWzHJhZ9DBk3EUkpvZEx5KIW6++p\\\n",
       "q44l2XSBitnCDu3iEi7wCD/sAWwD/guC2iqQHsDWLBohosjhrccN8D3nzp+eupaGfsNhYUcg+PnN\\\n",
       "ANgm/AMKHeEahtaWrcXze59vsRg1wC3fiKyutYs22mOuXnsuGAkF/PxmAGwT/gGFjlAIR60Nof62\\\n",
       "PVxDLhF1PH8DWqQFudbi5zfnAFKECIX9cFs7J8/ftrfHTiDeimMTUXjwVmRZ9OxtefUln3P9/Jmr\\\n",
       "xz17rYEBkCJCKGyT5ivI+Qpendl2Lhwhq4m0MONtG7nLZsxUV/362mKuLfegyMIASORDID1mvoJc\\\n",
       "qASvUOgpJepMkRZmfO35O3XeLe2y1y737LUGzgFsA84hCH1tnTfXXnMLA91ajojaRzjNeQuntgrh\\\n",
       "2GaAn98AewApwrW15629esxmDZmFhJgEOFyOoPcCEllJuNSn+2LzBmx59aWw662MtB5WK2EApIjW\\\n",
       "1gDXnvPzOPxKRN58vu5tyG43JJstrIZeOVwcviw/BPzCCy/gySefxIkTJzB8+HA8++yz+OlPf+rX\\\n",
       "uexCJiKi9hCuQ6nhip/fFg+Af/3rXzF79my88MILmDBhAlasWIGVK1fiwIED+NGPftTi+fwDIiIi\\\n",
       "Cj/8/LZ4ABwzZgxGjRqFF198UX1s6NChmDFjBpYtW9bi+fwDIiIiCj/8/LbwHECXy4U9e/YgOztb\\\n",
       "93h2djY++eQT03OcTieqqqp0X0REREThxrIB8Pvvv0dTUxNSU1N1j6empqKystL0nGXLliE5OVn9\\\n",
       "yszM7IymEhEREbUrywZAQZIk3e+yLHs8JixevBgOh0P9Ki8v74wmEhEREbWr6GA3IFhSUlIQFRXl\\\n",
       "0dt36tQpj15BwW63w263d0bziIiIiDqMZXsAY2NjMXr0aGzevFn3+ObNmzF+/PggtYqIiIio41m2\\\n",
       "BxAA7rrrLsyePRuXXHIJxo0bh5dffhnHjh3DLbfcEuymEREREXUYSwfA//zP/8QPP/yAP/3pTzhx\\\n",
       "4gSysrKwYcMG9OvXL9hNIyIiIuowlq4D2FasI0RERBR++Plt4TmARERERFbFAEhERERkMQyARERE\\\n",
       "RBbDAEhERERkMQyARERERBbDAEhERERkMQyARERERBbDAEhERERkMQyARERERBbDAEhERERkMQyA\\\n",
       "RERERBbDAEhERERkMQyARERERBbDAEhERERkMQyARERERBbDAEhERERkMQyARERERBbDAEhERERk\\\n",
       "MQyARERERBbDAEhERERkMQyARERERBbDAEhERERkMQyARERERBbDAEhERERkMQyARERERBbDAEhE\\\n",
       "RERkMQyARERERBbDAEhERERkMQyARERERBbDAEhERERkMQyARERERBbDAEhERERkMQyARERERBbD\\\n",
       "AEhERERkMQyARERERBbDAEhERERkMQyARERERBYTkQFw6dKlGD9+PLp06YJu3bqZHnPs2DFce+21\\\n",
       "SEhIQEpKCu644w64XK7ObSgRERFREEQHuwEdweVy4frrr8e4ceOwatUqj+ebmpowffp09OrVCzt2\\\n",
       "7MAPP/yAOXPmQJZlLF++PAgtJiIiIuo8ERkACwoKAACvv/666fObNm3CgQMHUF5ejoyMDADAn//8\\\n",
       "Z8ydOxdLly5FUlJSZzWViIiIqNNF5BBwSz799FNkZWWp4Q8ArrrqKjidTuzZs8freU6nE1VVVbov\\\n",
       "IiIionBjyQBYWVmJ1NRU3WPdu3dHbGwsKisrvZ63bNkyJCcnq1+ZmZkd3VQiIiKidhc2ATA/Px+S\\\n",
       "JPn82r17t9/XkyTJ4zFZlk0fFxYvXgyHw6F+lZeXt+q1EBEREQVT2MwBzMvLQ05Ojs9j+vfv79e1\\\n",
       "0tLS8Nlnn+keO3PmDBoaGjx6BrXsdjvsdrtf9yAiIiIKVWETAFNSUpCSktIu1xo3bhyWLl2KEydO\\\n",
       "ID09HYCyMMRut2P06NHtcg8iIiKiUBU2ATAQx44dw+nTp3Hs2DE0NTVh3759AIBBgwaha9euyM7O\\\n",
       "xrBhwzB79mw8+eSTOH36NO655x7cfPPNXAFMREREES8iA+Af//hHrF69Wv195MiRAIAPP/wQkydP\\\n",
       "RlRUFNavX4/bbrsNEyZMQHx8PG688UY89dRTwWoyERERUaeRZFmWg92IcFVVVYXk5GQ4HA72HBIR\\\n",
       "EYUJfn6H0SpgIiIiImofDIBEREREFsMASERERGQxDIBEREREFsMASERERGQxDIBEREREFsMASERE\\\n",
       "RGQxDIBEREREFsMASERERGQxDIBEREREFsMASERERGQxDIBEREREFsMASERERGQxDIBEREREFsMA\\\n",
       "SERERGQxDIBEREREFsMASERERGQxDIBEREREFsMASERERGQxDIBEREREFsMASERERGQxDIBERERE\\\n",
       "FsMASERERGQxDIBEREREFsMASERERGQxDIBEREREFsMASERERGQxDIBEREREFsMASERERGQxDIBE\\\n",
       "REREFsMASERERGQxDIBEREREFsMASERERGQxDIBEREQWUbr9ON544GOUbj8e7KZQkDEAEhERWcTe\\\n",
       "jUdQfdqJvRuPBLspFGQMgERERBYxalp/JPawY9S0/sFuCgVZdLAbQERERJ0ja1IfZE3qE+xmUAiI\\\n",
       "uB7AI0eOYP78+RgwYADi4+MxcOBALFmyBC6XS3fcsWPHcO211yIhIQEpKSm44447PI4hIiKiZpxD\\\n",
       "GDkirgfw66+/htvtxooVKzBo0CCUlpbi5ptvRk1NDZ566ikAQFNTE6ZPn45evXphx44d+OGHHzBn\\\n",
       "zhzIsozly5cH+RUQERGFJu0cQvYkhjdJlmU52I3oaE8++SRefPFF/Otf/wIAfPDBB/jZz36G8vJy\\\n",
       "ZGRkAACKi4sxd+5cnDp1CklJSX5dt6qqCsnJyXA4HH6fQ0REFK5Ktx/H3o1HMGpa/7AOgPz8jsAe\\\n",
       "QDMOhwM9evRQf//000+RlZWlhj8AuOqqq+B0OrFnzx5cccUVptdxOp1wOp3q71VVVR3XaCIiohDD\\\n",
       "OYSRI+LmABodOnQIy5cvxy233KI+VllZidTUVN1x3bt3R2xsLCorK71ea9myZUhOTla/MjMzO6zd\\\n",
       "RERERB0lbAJgfn4+JEny+bV7927dORUVFZg2bRquv/56LFiwQPecJEke95Bl2fRxYfHixXA4HOpX\\\n",
       "eXl5+7w4IiIiok4UNkPAeXl5yMnJ8XlM//791Z8rKipwxRVXYNy4cXj55Zd1x6WlpeGzzz7TPXbm\\\n",
       "zBk0NDR49Axq2e122O32wBtPREREFELCJgCmpKQgJSXFr2OPHz+OK664AqNHj8Zrr70Gm03f0Tlu\\\n",
       "3DgsXboUJ06cQHp6OgBg06ZNsNvtGD16dLu3nYiIKFCRsuDCTCS/tnARNkPA/qqoqMDkyZORmZmJ\\\n",
       "p556Ct999x0qKyt1c/uys7MxbNgwzJ49GyUlJdiyZQvuuece3HzzzZZdDURERKGlNdu2+VOnryNq\\\n",
       "+QV6TW5JF3wRFwA3bdqEb7/9Flu3bkXfvn2Rnp6ufglRUVFYv3494uLiMGHCBMyaNQszZsxQ6wQS\\\n",
       "EREFm9i2LW1gN7/DlT/BSntMe4XBQAMdt6QLPkvUAeworCNERERt1dJw6BsPfIzq005INmBSzhDT\\\n",
       "Y8Q10gZ2Q+Whsz6HVrX3E8EtsYcdNz06odVtDrchXX5+h9EcQCIionDmLSS1tLvGqGn9sb24DLIb\\\n",
       "Xo8R1wDOthjkjLX8RJsCYWwz6wOGHwZAIiKiTuAt6ImeOG8hTBwrevjeeOBjj56+lq5htGnVfny7\\\n",
       "5yQGjU4NqOfP3zZT6GMAJCIi6kDa4VngrEdo8qf3TBwjhoPPnT2p9ggCCHj49ds9yvnf7D7pMWSc\\\n",
       "n5+PXr16ITc31+v5275ah+9iv8NNk/J1r3PnukMAgLEzBrJHMMQxABIREXWgQIZnWyJ63rQ9gC0N\\\n",
       "IZsZNDoV3+45iagom+7c/Px8FBQUqMeZhcCioiLk5eWpv+fn56uv01nbqP7MABjaIm4VMBERUShp\\\n",
       "7YpXXyt0MwZ3w02PTlCHfwO9fvb84bjthSmYcP1g9Vxj+MvLy0NRUZHuPGP4KygoUAPgqGn9Ye8S\\\n",
       "DXuXaLUtHVFyhtoHewCJiIg6UGsXSJj17Jk91trraxelvL31FV34E0TYy83N9Qh/gjhP2xNofA07\\\n",
       "1x0Kq1XCVsAeQCIiohBk1rMnetlc9U26XrXW9LSJcPbQgw+Zhj8hLy8Pw4YNMw1/gugJNNYDFK8B\\\n",
       "AAs/hxgGQCIiok4SSFDLmtRHHebVPhYbFwVnbaNpT1sgAUuEs2GXDPTeBmQBAA4ePKj73UyvXr08\\\n",
       "Qqt4DWNnDGTh5xDDQtBtwEKSREQUCLGK194lGrFxUaZDoi0VVRarbZsa3YiKtmHsjIGo+OasWtYl\\\n",
       "e/7wgK4HADdddRf+sukZ3WNzMAdzMRcrsALFKEYOcrAQC/E6XsdqrNYdW1hY6HPVcKjh5zfnABIR\\\n",
       "EXUasWrXVd/kMZdPBDVXfZOuh88svLnqGyG7gUaXWz1OlHU5tv8HtQxL6fbjHkWkzQLhvQ/eDQBq\\\n",
       "CMxCFuZiLgBgIRYiBzlIRjIAYC7mYg/2oBSlANoW/sJtB5FIwiFgIiIig45aveprSLS5XAzU58yG\\\n",
       "dneuOwTZrfwcHWPDqGn9z9cYBCADztpGbHurDJtW7cfejUcguwHJBvVeZtfMmtQHb/z9aczOvlN5\\\n",
       "/SjFCqxQnxfhDwBWYEWL4c/f9681Q9fUPhgAiYiIDNoSTIzhxywMmc3vE/Pnxs4YqD6XNrAbIAF1\\\n",
       "5xpMw1Rjo5IEKw+dVR6Qmp/7ZvdJuOqbYO8SrdtDWDtPz9i2ex+8Gxk9+wMAilEMBxy6+zngQDGK\\\n",
       "AQAZPfvj8h/PMH0P/Hn/SrcfV9vHuYGdjwGQiIjIoLW1+wDP8ONvmDQLhZWHzgKyfqh37IyBzUFP\\\n",
       "bh4iTuxhx+U3DMHgS1Mh2YDoaBuctY2IjYvSDTPvXHcIrvomAEpvoijTAig7fFT8oNxHO+wrJCMZ\\\n",
       "OcgBAFT8cATL8p/yCLel24+j7lwDIKG5Z9LL+2RsH3UezgEkIiIyaG1tPcBzn9zW7psresiiY2yI\\\n",
       "Oj/UK9jjo9VFIGkDu+nm0WVN6oPs+cN18+vEz3XnGtDoUnoNjYFUW+cvC1lYiIXqcw441DC4EAtR\\\n",
       "ev5/b334LBpcTQD+U1erUNxD7ZnUvCbRJu4nHFwMgERERO3IGB7bUgjaWduIxB52dQs57aIO8bhY\\\n",
       "WWzcfk0byMTCErXnUNLPCSyr+wiP5v1BPbcUpXgdr3tdBSzmAALAf3+8HIMvTQWgtHHUtP5qj6Ix\\\n",
       "3Gl7Q429ndS5GACJiIhCUNrAbjh39iTSBnbTrRA2Lurw1ZMmApe9SzQSe9h1ewiLFcH/2POORwkY\\\n",
       "AFiN1brVvsUoVnv+jB59VgmPS595UBd4xRxDcT9tW7kCOLgYAImIiDpIa0KOdrhWdgPH9v+AykNn\\\n",
       "dUHO3+sZe+OM5+zdeATf//CD97acD3sX9BuMfx39xjT8CQd2H/J4zGzrOn+eo47HAEhERNRBjCHH\\\n",
       "n0CoLQcDAE0NboyaMVB3Xun241h513b1GGPdwLSB3XBsvxLsmhrdaHS5sXPdIY97pg3shumXzgEA\\\n",
       "fLDnDdP2zM6+E/c+eDe2fbXO63Zw146di4eXPuzxuLF3Uvt+GJ9jj2DnYgAkIiLqICLkpA3shjce\\\n",
       "+FhX5NlbyBHniAUbUTE2j2FVMQ8QAKJjbR51A8+dPak+ry0NYwxZx/b/AMjA9EvMQ+Ds7DsxZsDP\\\n",
       "sHfjEeQ+qtT7M4bAq0ffhJ+P+w32bjyCim/O6oaYjfMftaHP+Bx7BDsXAyAREVEHESFHuwWcv+Vl\\\n",
       "BozopYYpLVHcWYiKtqmLRMTzogewqcGtBMDzm77uXHcIztpGbC8uA6D0Lgpzf5UHSQI27FZC4I1X\\\n",
       "LMK4QdfC7ZbVci65ubk4+MkJFL21FABw69w7MTb9V+rOJiJ4egtxvhbEcFVw5+JewG3AvQSJiMgf\\\n",
       "/gxvGreCE6t8jeeK38WCDuPCDu31RE+hZFO2irN3iVa3kUvsYVfvZe8SjQVPTwIA5Ofn41+fVmHM\\\n",
       "gJ+p15JsUItJv/HAx/jf7X9Fg3QO7/3fq7q2a4eexXZ0oYif3wyAbcI/ICIiai1jsFt513Y4axsR\\\n",
       "HWNDfGKMGqacdY2ArA9h2vO1gVHbiyaGVCUbMGh0anOPIICoGBvGzhiIim/O4ts9JzFodCqy5w/X\\\n",
       "tW3nukPK/MEGt+7+gPn+xILo7TS2N5Tw85s7gRAREQWFtx1ComKUId3KQ2eV2n3nu2nE0Krw8dvf\\\n",
       "oPq0Ew3OJo85gGK3j+gYG6KibGqvXGPD+UB3/v7H9v8A2a0UbNZuC5c1qQ8WPD0JC5+fjMtvGAJI\\\n",
       "yv3FimJh06r9eOG2rdi0ar/6mBguNrY3UB21HzMpGACJiIiCYNS0/ueHZJtQuv04xs4YqO4FrH0+\\\n",
       "OsaG6Bibx565Isi5m5oH8tIGdoNkU+b2OWsb0dSkBD5nbSOaGtywd4mGvYsy/V+sNDaGx5ZCm/a4\\\n",
       "b/coc/6+3XNSfV67L7F4bS0xC3tt2Y+ZWsYASEREFARZk/ogNi5KtypYuzuG6IWLT4xRw97OdYew\\\n",
       "8q7tKN1+HIMvOb/nb4xNDUqVh85CdgONjUrYS8lMVO8XFWPDgqcnYcHTk/Cj4T0h2YAfDe+p3lPs\\\n",
       "JyxWLIswtnfjEXUIeOyMgbp9kgeNTgUkICrKph4vnrfHR+vK0/hiFvbash8ztYwBkIiIqBOY9XL5\\\n",
       "Cjni+LSB3ZDYw46mRqUnT4Sq7PnDcdsLUzDh+sHqNUZN6w/JBkAGYuOiUF/tAtAc3gQRFI/t/0E3\\\n",
       "7DtqWn98u+ekLoyJNprN58uePxyJ3e1obHCrx4sgK3o0/QlwZu+DMRBT+2IZGCIiok5gVufOW1kU\\\n",
       "fa2/s7jp0QlYedd2NLrcun18vV1DLNKo+OYsqs+cRFSUTb2uWK3rqlcWmGh7IEWJGe1Wc97q9YlS\\\n",
       "Mt7KtwSyB3Jr90um1mMAJCIi6gT+1LnztefvWM1uIADU3kGzUjCiXMy3e04CMnQ9dNWnnag+fRLR\\\n",
       "MTZ1aNdsX2Ff9fpEON278Qh76cIUAyAREVEn8KeXS/SuGQtGv/HAxxg1rb9aF3DbmjJABqpPK4sv\\\n",
       "zAowqwWjJcAe37yAZNtbSs+dmCforY3eaheKn8VKYzF8TOGFAZCIiCiINq3ar9biGzWtv1pqRQQv\\\n",
       "UVdP9OBtLy5TS8MIKZmJqK926XoXvfXmVXxzFt/sPonoaGVYWLszSEtbs+mHkBt97vpBoY2LQIiI\\\n",
       "iIJIlFL5ZpfSm6ddGQycr6snAXXVDdi57pBuGzihvtrlMRQrFnXs3XhEt/AkY3A3SFJzGRmxS4hx\\\n",
       "ta7ZwgwRCkWbtcPHFF4YAImIiIJo0OhU9WfRY6etD1h56Kw6j6+pwQ3JBvTql4jEHnYMvjRVF9KM\\\n",
       "K42N5VWM28ONnTEQk3KGmK7WNVuFK0LhoNGpXlcGm2FR59DDIWAiIqIgyp4/HBmDu+mGa7XBTTss\\\n",
       "DChBUPT4GWl3AhFDtcBZNdxpV/lqw1tHr9Y1G06m4GIAJCIiCjJjsDLO3zNbmCFoHxPnueqbUH3a\\\n",
       "iXNnT+qCnjFMGs/3Fs78OcYXcV8uGgkdHAImIiIKMd6KIJs9buxdu+nRCfjR8J4APOf2GXcfMZ4v\\\n",
       "lG4/jpV3bVd3HWnrtmxm96XgYgAkIiIKU6Xbj8NV3+SxT7DYj9dskYbYL1gZHva+2EO760h7bMvG\\\n",
       "rd1CC4eAiYiIwoRxKFYEtcQedp9DyFpiGzgREs3m9ZmVo2nrsC13+wgtEdkD+POf/xw/+tGPEBcX\\\n",
       "h/T0dMyePRsVFRW6Y44dO4Zrr70WCQkJSElJwR133AGXyxWkFhMRUbgJxspW41CstldN2x5f++j6\\\n",
       "0xOXNakPFjw9CQuensTQFqEiMgBeccUVWLt2LcrKyvDOO+/g0KFDmDlzpvp8U1MTpk+fjpqaGuzY\\\n",
       "sQPFxcV45513cPfddwex1UREFE7aOi+uNYzhTRv0/GlPoIs5WL4lckmyLMstHxbe3n//fcyYMQNO\\\n",
       "pxMxMTH44IMP8LOf/Qzl5eXIyMgAABQXF2Pu3Lk4deoUkpKS/LpuVVUVkpOT4XA4/D6HiIgiQ1tX\\\n",
       "xgajPWJXkcQedtMyMm09Plzw89sCcwBPnz6N//f//h/Gjx+PmJgYAMCnn36KrKwsNfwBwFVXXQWn\\\n",
       "04k9e/bgiiuuML2W0+mE0+lUf6+qqurYxhMRUcgKtTlt/rRHOzfQG7OyMoEs3Ai1YEzmInIIGADu\\\n",
       "u+8+JCQkoGfPnjh27Bj+9re/qc9VVlYiNTVVd3z37t0RGxuLyspKr9dctmwZkpOT1a/MzMwOaz8R\\\n",
       "EVF78zU3UDArK2N2vLfh4WAMjVPgwiYA5ufnQ5Ikn1+7d+9Wj//973+PkpISbNq0CVFRUbjpppug\\\n",
       "He2WJMnjHrIsmz4uLF68GA6HQ/0qLy9v3xdJREQUZP6Wa/EW9FjuJTyEzRBwXl4ecnJyfB7Tv39/\\\n",
       "9eeUlBSkpKTgwgsvxNChQ5GZmYmdO3di3LhxSEtLw2effaY798yZM2hoaPDoGdSy2+2w2+1teh1E\\\n",
       "RGRtoT5EKtokgp23NnobHg61oXEyFzYBUAS61hA9f2L+3rhx47B06VKcOHEC6enpAIBNmzbBbrdj\\\n",
       "9OjR7dNgIiIiE6G6L642mPrTRga98BY2Q8D++vzzz1FYWIh9+/bh6NGj+PDDD3HjjTdi4MCBGDdu\\\n",
       "HAAgOzsbw4YNw+zZs1FSUoItW7bgnnvuwc0332zZ1UBERNQ5WjNE2hnlWLShj8O4kS9segD9FR8f\\\n",
       "j3fffRdLlixBTU0N0tPTMW3aNBQXF6vDt1FRUVi/fj1uu+02TJgwAfHx8bjxxhvx1FNPBbn1REQU\\\n",
       "6VrTc9YZvYbG3UPYuxfZLFEHsKOwjhAREXWGUJ83GG74+R2BPYBERESRhj1y1N4ibg4gEREREfnG\\\n",
       "AEhERERkMQyARERERBbDAEhERERkMQyARERERBbDAEhERERkMQyARERERBbDAEhERERkMQyARERE\\\n",
       "RBbDAEhERERkMQyARERERBbDAEhERERkMQyARERERBYTHewGhDNZlgEAVVVVQW4JERER+Ut8bovP\\\n",
       "cStiAGyD6upqAEBmZmaQW0JERESBqq6uRnJycrCbERSSbOX420ZutxsVFRVITEyEJEnBbo6pqqoq\\\n",
       "ZGZmory8HElJScFuTsjj+xUYvl+B4fsVGL5fgeH75T9ZllFdXY2MjAzYbNacDccewDaw2Wzo27dv\\\n",
       "sJvhl6SkJP4HIQB8vwLD9yswfL8Cw/crMHy//GPVnj/BmrGXiIiIyMIYAImIiIgshgEwwtntdixZ\\\n",
       "sgR2uz3YTQkLfL8Cw/crMHy/AsP3KzB8vygQXARCREREZDHsASQiIiKyGAZAIiIiIothACQiIiKy\\\n",
       "GAZAIiIiIothAIxQR44cwfz58zFgwADEx8dj4MCBWLJkCVwul+64Y8eO4dprr0VCQgJSUlJwxx13\\\n",
       "eBxjFUuXLsX48ePRpUsXdOvWzfQYvl/NXnjhBQwYMABxcXEYPXo0/u///i/YTQoZ27dvx7XXXouM\\\n",
       "jAxIkoR169bpnpdlGfn5+cjIyEB8fDwmT56M/fv3B6exQbZs2TJceumlSExMRO/evTFjxgyUlZXp\\\n",
       "juH71ezFF1/ExRdfrBZ7HjduHD744AP1eb5X5C8GwAj19ddfw+12Y8WKFdi/fz+eeeYZvPTSS3jg\\\n",
       "gQfUY5qamjB9+nTU1NRgx44dKC4uxjvvvIO77747iC0PHpfLheuvvx633nqr6fN8v5r99a9/xaJF\\\n",
       "i/Dggw+ipKQEP/3pT3H11Vfj2LFjwW5aSKipqcGIESNQWFho+vwTTzyBp59+GoWFhdi1axfS0tJw\\\n",
       "5ZVXqvuLW8m2bduQm5uLnTt3YvPmzWhsbER2djZqamrUY/h+Nevbty8ee+wx7N69G7t378aUKVPw\\\n",
       "i1/8Qg15fK/IbzJZxhNPPCEPGDBA/X3Dhg2yzWaTjx8/rj62Zs0a2W63yw6HIxhNDAmvvfaanJyc\\\n",
       "7PE4369ml112mXzLLbfoHrvooovk+++/P0gtCl0A5Pfee0/93e12y2lpafJjjz2mPlZfXy8nJyfL\\\n",
       "L730UhBaGFpOnTolA5C3bdsmyzLfL390795dXrlyJd8rCgh7AC3E4XCgR48e6u+ffvopsrKykJGR\\\n",
       "oT521VVXwel0Ys+ePcFoYkjj+6VwuVzYs2cPsrOzdY9nZ2fjk08+CVKrwsfhw4dRWVmpe//sdjsu\\\n",
       "v/xyvn9Q/jsFQP1vFd8v75qamlBcXIyamhqMGzeO7xUFhAHQIg4dOoTly5fjlltuUR+rrKxEamqq\\\n",
       "7rju3bsjNjYWlZWVnd3EkMf3S/H999+jqanJ471ITU211PvQWuI94vvnSZZl3HXXXZg4cSKysrIA\\\n",
       "8P0y89VXX6Fr166w2+245ZZb8N5772HYsGF8ryggDIBhJj8/H5Ik+fzavXu37pyKigpMmzYN119/\\\n",
       "PRYsWKB7TpIkj3vIsmz6eDhqzfvlS6S/X4Ewvmarvg+txffPU15eHr788kusWbPG4zm+X82GDBmC\\\n",
       "ffv2YefOnbj11lsxZ84cHDhwQH2e7xX5IzrYDaDA5OXlIScnx+cx/fv3V3+uqKjAFVdcgXHjxuHl\\\n",
       "l1/WHZeWlobPPvtM99iZM2fQ0NDg8S/IcBXo++WLFd4vf6SkpCAqKsqjR+HUqVOWeh9aKy0tDYDS\\\n",
       "s5Wenq4+bvX37/bbb8f777+P7du3o2/fvurjfL88xcbGYtCgQQCASy65BLt27cJzzz2H++67DwDf\\\n",
       "K/IPewDDTEpKCi666CKfX3FxcQCA48ePY/LkyRg1ahRee+012Gz6/+8eN24cSktLceLECfWxTZs2\\\n",
       "wW63Y/To0Z36ujpKIO9XS6zwfvkjNjYWo0ePxubNm3WPb968GePHjw9Sq8LHgAEDkJaWpnv/XC4X\\\n",
       "tm3bZsn3T5Zl5OXl4d1338XWrVsxYMAA3fN8v1omyzKcTiffKwpM0JafUIc6fvy4PGjQIHnKlCny\\\n",
       "v//9b/nEiRPql9DY2ChnZWXJU6dOlffu3Sv/4x//kPv27Svn5eUFseXBc/ToUbmkpEQuKCiQu3bt\\\n",
       "KpeUlMglJSVydXW1LMt8v7SKi4vlmJgYedWqVfKBAwfkRYsWyQkJCfKRI0eC3bSQUF1drf79AJCf\\\n",
       "fvppuaSkRD569Kgsy7L82GOPycnJyfK7774rf/XVV/INN9wgp6eny1VVVUFueee79dZb5eTkZPmj\\\n",
       "jz7S/XeqtrZWPYbvV7PFixfL27dvlw8fPix/+eWX8gMPPCDbbDZ506ZNsizzvSL/MQBGqNdee00G\\\n",
       "YPqldfToUXn69OlyfHy83KNHDzkvL0+ur68PUquDa86cOabv14cffqgew/erWVFRkdyvXz85NjZW\\\n",
       "HjVqlFq2g2T5ww8/NP1bmjNnjizLSmmTJUuWyGlpabLdbpcnTZokf/XVV8FtdJB4++/Ua6+9ph7D\\\n",
       "96vZvHnz1P+769Wrlzx16lQ1/Mky3yvynyTLstyJHY5EREREFGScA0hERERkMQyARERERBbDAEhE\\\n",
       "RERkMQyARERERBbDAEhERERkMQyARERERBbDAEhERERkMQyARERERBbDAEhERERkMQyARERERBbD\\\n",
       "AEhERERkMQyARERERBbDAEhERERkMQyARERERBbDAEhERERkMQyARERERBbDAEhERERkMQyARERE\\\n",
       "RBbDAEhERERkMQyARERERBbDAEhERERkMQyARERERBbDAEhERERkMQyARERERBbDAEhERERkMQyA\\\n",
       "RERERBbDAEhERERkMQyARERERBbDAEhERERkMQyARERERBbDAEhERERkMf8fhvVKh9qdkZYAAAAA\\\n",
       "SUVORK5CYII=\\\n",
       "\"\n",
       "  frames[1] = \"data:image/png;base64,iVBORw0KGgoAAAANSUhEUgAAAoAAAAHgCAYAAAA10dzkAAAAOXRFWHRTb2Z0d2FyZQBNYXRwbG90\\\n",
       "bGliIHZlcnNpb24zLjcuMiwgaHR0cHM6Ly9tYXRwbG90bGliLm9yZy8pXeV/AAAACXBIWXMAAA9h\\\n",
       "AAAPYQGoP6dpAABjxUlEQVR4nO3de3gU9b0/8PdsNtlcSJaEQEIAAUG5RSmgQgARoSBCrdSiJ1IV\\\n",
       "KiBgImKrIqImqSKKd0hqUVG0HkmpLdTfQS0cUBAQ5BKQIOYocishBCRsQi67SXZ+f0xmMrM7m2yu\\\n",
       "e5n363nykJ2dnf1mmrrvfL43QRRFEURERERkGCZfN4CIiIiI2hcDIBEREZHBMAASERERGQwDIBER\\\n",
       "EZHBMAASERERGQwDIBEREZHBMAASERERGQwDIBEREZHBMAASERERGQwDIBEREZHBMAASERERGQwD\\\n",
       "IBEREZHBMAASERERGQwDIBEREZHBMAASERERGQwDIBEREZHBMAASERERGQwDIBEREZHBMAASERER\\\n",
       "GQwDIBEREZHBMAASERERGQwDIBEREZHBMAASERERGQwDIBEREZHBMAASERERGQwDIBEREZHBMAAS\\\n",
       "ERERGQwDIBEREZHBMAASERERGQwDIBEREZHBMAASERERGQwDIBEREZHBMAASERERGQwDIBEREZHB\\\n",
       "MAASERERGQwDIBEREZHBMAASERERGQwDIBEREZHBMAASERERGQwDIBEREZHBMAASERERGQwDIBER\\\n",
       "EZHBMAASERERGQwDIBEREZHBMAASERERGQwDIBEREZHBMAASERERGQwDIBEREZHBMAASERERGQwD\\\n",
       "IBEREZHBMAASERERGQwDIBEREZHBMAASERERGQwDIBEREZHBMAASERERGQwDIBEREZHBmH3dgEDm\\\n",
       "dDpRWFiI6OhoCILg6+YQERGRF0RRRFlZGZKSkmAyGbMWxgDYAoWFhejRo4evm0FERETNcPr0aXTv\\\n",
       "3t3XzfAJBsAWiI6OBiD9AsXExPi4NUREROSN0tJS9OjRQ/kcNyIGwBaQu31jYmIYAImIiAKMkYdv\\\n",
       "GaLje9myZRAEAQsXLlSOiaKIzMxMJCUlISIiAmPHjsWRI0d810giIiKidhL0AXDv3r146623cO21\\\n",
       "12qOL1++HK+++iqys7Oxd+9eJCYmYsKECSgrK/NRS4mIiIjaR1AHwMuXL+N3v/sd3n77bcTGxirH\\\n",
       "RVHE66+/jiVLluCOO+5AcnIy3n//fVRUVOCjjz7yYYuJiIiI2l5QB8C0tDRMmTIFv/zlLzXHjx8/\\\n",
       "jqKiIkycOFE5ZrFYcNNNN2HXrl3t3UwiIiKidhW0k0Byc3Nx4MAB7N271+25oqIiAEBCQoLmeEJC\\\n",
       "Ak6ePOnxmna7HXa7XXlcWlraSq0lIiIiaj9BWQE8ffo0Hn74YXz44YcIDw/3eJ7r7B9RFBucEbRs\\\n",
       "2TJYrVbli2sAEhERUSAKygC4f/9+FBcXY9iwYTCbzTCbzdi2bRtWrFgBs9msVP7kSqCsuLjYrSqo\\\n",
       "tnjxYthsNuXr9OnTbfpzEBEREbWFoOwCHj9+PA4fPqw59vvf/x79+/fHokWLcOWVVyIxMRGbN2/G\\\n",
       "kCFDAAAOhwPbtm3Diy++6PG6FosFFoulTdtORERE1NaCMgBGR0cjOTlZcywqKgqdOnVSji9cuBDP\\\n",
       "P/88rrrqKlx11VV4/vnnERkZienTp/uiyURERETtJigDoDcef/xxVFZW4sEHH0RJSQmGDx+OTZs2\\\n",
       "GXpbGCIiIjIGQRRF0deNCFSlpaWwWq2w2WzcCo6IiChA8PM7SCeBEBEREZFnDIAU3PauBl5Llv4l\\\n",
       "IiIiAAyAFOx2vAbYTkv/BguGWiIiaiEGQApuox8BrD2kf70RCOEqGEMtERG1KwZACm7XzwIeyZf+\\\n",
       "9UZTw5UvAmNTQy0REZELBkAitaaGK19U45oaaomIiFwYdh1AIl3Xz2pasBr9iBT+WI0jIqIAwgog\\\n",
       "BT5fjttjNY6IiAIQAyAFPr1u2ECYzEFEROQjDIAU+PTG7XkzNo8hkYiIDIoBkAKfXjesHAp7DPcc\\\n",
       "8ricChERGRQDIAUnORQe2yKFvK3Pap/fuxqwXwYiYvUncLA6SEREQYwBkIKb6PKvbMdrQFUJENZB\\\n",
       "fwIHq4NERBTEGAApuI1/WuoKHv+09nhj6/21xmLLe1cj85YuyHn8dw2elpOTg8zMzOa/DxERURMJ\\\n",
       "oii61kbIS6WlpbBarbDZbIiJifF1c6i59q6uX8uvFZdzybylC7I2nQcAZGdnIy0tze2cnJwcpKen\\\n",
       "AwAyMjIYBImI2gE/v7kQNBmVOvSpu3sbCoAfzwKOrAcG/QaYtlp7DUATIjMzM5XwB0AJeWk3hCvn\\\n",
       "5XxTpRwHgKysLABgCCQiojbHCmAL8C+IAPZashT65G5ebyqAWXGAWCt9P+XV+uBo7SEdq/s+0zZN\\\n",
       "CXOusu9IRNo1Fcg5HIn0fxbpnsNKIBFR2+LnNwNgi/AXKIA1pdtXPjcqHijMk45FxEoTSwQA454G\\\n",
       "Tu4C8v+BzO01yPqivMHLDUiw4Og5e4PnMAQSEbUdfn5zEggZVVO2cJMrfeUXgORpgBACVNu1s4h/\\\n",
       "3AJAROfwWo+XSUYyACjhT36sp3Pnzk36cYiIiJqCAZCoMeoZwaf3SN3AoRYgPBZwXJYqhIJ0atoN\\\n",
       "FmQ/Nt3tEjMwAyuxEqlIBQCkIhUrsRIzMMPtXE8TRoiIiFoLu4BbgCVkA5K7g3sMlyaEiLW64wjV\\\n",
       "s3uTkYyVWKlcwgYbrLAqjx/CQ8hHPoC6MYL/ONu+PxMRkcHw85sVQDKCvauBF3oBL/Zq+c4e18+S\\\n",
       "Qp4c/gApDLp0KaelpSE7OxsAkI98rMIq5RLq8LcKq7Th74nnuAsJERG1OQZACn7yrh+VJd7v7OEp\\\n",
       "hO1dDXz6WH34A6RuYZ3XpKWlYUDvrgCAXOTCBpvmUjbYkItcAMCALqFS+Lt+FnchISKiNscASMFv\\\n",
       "9CPSeD1P+/7q2fqs/h7CW56tC38CkDREmhASFS8FP/k1dcEtJycHR49L3bmpSNVU/gCpEiiPCTxa\\\n",
       "XI2cF56qb29LdyEhoqDz4e6TGPXCVny4+6Svm0JBgAGQgt/1s4AnTgCLTni/04frHsJyda+2bvmW\\\n",
       "iI7AxRNSGCw8KAU/EUpwcx0DOBdzlUurK4FzMVeZDZz+zyLk5OTUdzNvebZ1uq2JKCi8+eUxnLlU\\\n",
       "iTe/PObrplAQYAAkY/F2fJ3rHsJyt2x1pVRJHPd0fRg0maVz+44HAOT8fatmh4985GMN1gCQxvxN\\\n",
       "xVRlTOAarFHGAALSjiE5OTnN67YmoqA2f2wfdOsYgflj+/i6KRQEOAu4BTiLKIDIs3ftl6Vg5c0O\\\n",
       "IK5bvW38IwBRCoCLTkjVucqS+kC48Y/I+caO9M+qdJuQjGRN2HN9rJb92HSkxe2sX2i6FfcoJqLA\\\n",
       "8OHuk3jzy2OYP7YP7hnR09fNCSr8/GYFkIxCruBVXZLGA7ruAdzQazb+QdrpI7yjdFz+kym2l/Rv\\\n",
       "5SXpHIg4X+H02AQ57MkTQzyFPwA4H3mV1G097mmpHewGJjIMeazfy/8u0HT5cgwgtSYGQAp+e1dL\\\n",
       "CzZDACBK/8jj7PQmW8jdxD2G1x/L/1jq4lV3C5/9tu7J+iJ65thwZNz5C49NyX5sOr57KE53sWiZ\\\n",
       "Zhs4zggmCmp6oU4e6wdA6fLNzMzEM8tecRsDqH59Tk4Ot5AkrzEAUnCSQ9zHs6RlWypL6p+T89rJ\\\n",
       "XUBpofSvmjybN/8f0kxf2ek92u3jBv1G960zh5bohsDs7GykdT0E2E4jrdNOZN+R6HaO2x7AnBFM\\\n",
       "FNT0JnbIY/0evaUfdj4xDj9+/h6ysrJw/JOVMB39t2YMoPz6Z5a9gvT0dGRlZemGQFYPyRUDIAUn\\\n",
       "uXImL9gshADJv9VW8OTnjqzXvlZUfVN+AZjyqjaE7V0tjf/7cUv9UjBJQ6DsB1drR+bAn5BxU5hy\\\n",
       "yezJEUi7Ibw+0IlA2jUVmhDoFv6Apu1ZTEQBQR3GhvWMRYgADOsZqzz38r8LUG6vAQDcMXshsrKy\\\n",
       "lNce/2QlbPv/R3k8f2wfmI7+G8c/qd9tSC8EykEx41/5WLA2j2GQYPZ1A4gapJ6I0ZQQJI/x6zEc\\\n",
       "OLZFCnU9RwLTVGPpBv1GCn9yJW/vamnplVo7EBopHXNc1l4PADY9BVRXSN8X1lUWL54AprxSP9Gk\\\n",
       "ugKZY8MBixWdzZeRdn2odkJJ3/HA6T1Ie+IRYFwVzp8/z64bIoNwrfrVisD+kyXKc5cqqwEAi596\\\n",
       "Bv/Z8oHb6+VVBtLS0mDb/z+a8CeTQ6P835X5Y/sg41/5qBWBjd8WolaU3ouTS4yLs4BbgLOI2sFr\\\n",
       "yVIlz9pDqoS15BpCCDD5JemYHOJCI4GJdTtwyOcB0kQRe2n9Xr/y7GFzJFBT4f4eoZHAkro9fD+e\\\n",
       "JY0ZBNxnG8uVSb2fp7lhl4j8nnpGLwDd7+8Z0VOpABZ98Vec2/Zhg9ccMGAAjh492uA5v5n1MM71\\\n",
       "/bXmvYb1jMX+kyV+O7u4PWY/8/ObFUDyd+rw1BjXACU/7jFcGusn1tZX8eQKXnWFdEy9+HJ1XdgD\\\n",
       "pNDYY7g0HhAAair137u2uv79yn+uPy7vE6wOdJ5+HvWEDwZAoqCirvrtfGKcJtjoff/MgViP15KX\\\n",
       "kJLDX0NLSh0874QzXv99/ZX6XgVCewMVxwCSf2vKGLgtdZM3tjxbv2ev7bQ0eWPyS/XVuNGP1Hfx\\\n",
       "hkbWh7GTu6SqX211/TUnvyR1IbtuDWIK1b63s1paJ9B2WhsSf9yiXXi6oZ+ntSd8eLvoNRG1uaYs\\\n",
       "4vzml8fgHHALOk2Y5/bcDMzASqxUtpFMRSpWYiVmYIbbudnZ2fjT4j8G3OLRXPC6fbACSIFFXdU7\\\n",
       "vUfbXVo3BwMCpHPkyR/yOfJ5e1cDkZ2A0c9pg1j+P1Af9AQgNEL6ttru3g5LB+3MYqD+tSaz9LwI\\\n",
       "aTyhrUQKpa6hz7Vi6VopbClWFImaTO5+9GU36fyxfaQ2/P4BfATg581/ASBV+mZiJgBpG0n1HuMz\\\n",
       "MRP7sV+pBGZnZyMtLQ0AAq6Kds+IngHX5kDECiAFFvXsXtf18cY9LY3dq7EDFT9L309+SRt+1JVB\\\n",
       "eYFlpUrmMhy2ukJa4Nl1zF9opPReQoh+GwUAVaXSRA+zpf6Yug2vJdcvN9NWa/xxCRmiJpO7Hz85\\\n",
       "VNiq++42ZR/fe0b0xM4nxmHF3UPw+p+eQO9fPwRAWjxe3kYSgBL+AGmbSb3wR+QJAyD5XlO6KuVQ\\\n",
       "M+g37uHm+llS5a26Qvqyl7q/3rUyqK6SJU+TjodGwi0MAtLz1h71k0YG/QaaZBcaKT1fWy29R/4/\\\n",
       "pKBo7SH9q26D7bS0g0hE3a4kbdFdyyVkiJps/tg+CKn7v3WIgFbrhpw/tg86RoSi3F7TpOVX7hnR\\\n",
       "Ez/9awUGDBgAAMhFLmywac6xwYZc5AKQJobohT+uA0iugjYAvvnmm7j22msRExODmJgYpKSk4LPP\\\n",
       "PlOeF0URmZmZSEpKQkREBMaOHYsjR474sMUG1pTdLuRQM221frgZ/YhU+YOgnfQBSOHKflkKXXJl\\\n",
       "UA6UcpfyoN8AIZb6MYKy5Gn17wlIYe1H9dhAQQqGox+BEgpDzPXd1VufBV7oJbVh9CN11UNRqhQ2\\\n",
       "5R5wXB9Rm7pnRE9k3Z6MjhGhiA4PbfwFHsiBS15zDwCiLGZcqqzGy/8u0A1jnkLajEefVSZ8qLt9\\\n",
       "ZVZYlTGBR48eRU5Ojlt7mlKBJGMI2gDYvXt3vPDCC9i3bx/27duHcePG4fbbb1dC3vLly/Hqq68i\\\n",
       "Ozsbe/fuRWJiIiZMmICysjIft9yAWrOr8vpZ0h66U16Rgp79cn1Y2vGaNLs3rEN9cJQD5ek99V3L\\\n",
       "VSWqECjUhz+ZPNmk1g4l7JkjpOtveRbSdnMhQGiHuh1FPpbGC1aVSN3PQN1yNHUhddNT9cG0sXvA\\\n",
       "reGI2owcwID6sNZYYPIU2uTA9f/qupJf/neBMrkBgG4Y0wtpOTk5+OCVZwBIYwDnYq7ynLoSOBdz\\\n",
       "kYxkANI6gd2npGvaxIkV5CpoA+Btt92GyZMn4+qrr8bVV1+NpUuXokOHDti9ezdEUcTrr7+OJUuW\\\n",
       "4I477kBycjLef/99VFRU4KOPPvJ1042nLboqr58lBb2qkvqw1NDev3IAk7uWBUjdyNbu2vAH1Pf6\\\n",
       "mi1S0LT2AEItdWsNQno8+SVpxxHXcYJyVfL6WUBER+lYdaV7MPWE4/qI2ow6gHkbmDxV1uTXm+v6\\\n",
       "ky9VVuOb4xcBAGOu7qxcWx0gXd8zJydHWfQZkMYArsEaANKYv6mYqowJXIM1mqVgznyag2eWvaI8\\\n",
       "lscVcnIFyYI2AKrV1tYiNzcX5eXlSElJwfHjx1FUVISJEycq51gsFtx0003YtWuXx+vY7XaUlpZq\\\n",
       "vsiPqbt3X5P+MtYNmurKoNzNK4/d0wta8nN9xksVP8dl6Xt5rJ9615DJL9UvGWPtUX/Nvaul3uOI\\\n",
       "2Pot6tTv5amrl+P6iNpMU6tkH+4+iYvldgio38pNds+Inpg/tg9qauvHE8sTSzZ/V6QckwPky/8u\\\n",
       "UGYfv/nlMcx49FlN+JO9j/fxEB5SxvzlIhcP4SG8j/fdzj3+yUq37mCOBSRZUC8Dc/jwYaSkpKCq\\\n",
       "qgodOnTA+vXrMXDgQCXkJSQkaM5PSEjAyZOe/0+xbNkyzZ6M5OfkZVXkHT48LYfi7WLT6mVbHsmX\\\n",
       "risvGH16j3Z8oPx+j+TXd9sC2nOqSqTgN221tHvIp49JaxFOq9uSrsrD8jFE1CbUy4+MemGrprL3\\\n",
       "8r8LAACP3tJPOefNL4+hstoJAPh/hwqx/f/OY8zVnbH9/86j3F6Daqf+RluV1U6cuVSJrE+OoNop\\\n",
       "wiQAtspqXKqsRuGlSogAju37P4/tlCt9EV2uQGXxKY+LQAPA+fPnAdQvb1Nur1G6tlkNNLagrgD2\\\n",
       "69cPBw8exO7duzF//nzMmDED3333nfK8IAia80VRdDumtnjxYthsNuXr9OnTbdZ2akWNdZvqVdX0\\\n",
       "xtq5HpMnnLiO3XN9P733dz12ZL3UPXxkvfRYvaahjBNAiJqtKZWvD3efRLm9Bh0jQpU1+S7VBbSn\\\n",
       "N+TjF1mb8OHuk5qqnwipm/eTQ4W4VFntFv66dYxARKj0kRtqEhAiQDnHKUqvF1A/rSz2xunoPv4+\\\n",
       "j23sNGEeZr++QVkiRk9GRoayF7BcaZTbwrGAFNQBMCwsDH379sV1112HZcuWYfDgwXjjjTeQmJgI\\\n",
       "ACgqKtKcX1xc7FYVVLNYLMqsYvmL/JQ6LDXWbaoXrBoKbeou5SdOAItOSN97ej+993c9Nug30njB\\\n",
       "Qb+RHje0fAwngBA1mTezYBeszUOfxRuxdONRXKqsRpTFrHTldoyQhnLIQe/NL49h/0nXxeD1RYSG\\\n",
       "YOcT4xAXFQYAqHGKUPUMQwCUcCirrHYi5Lq7YB11t9v1Ok2Yhw5Df4X9J0vwp8V/1A2BN9zxgBL+\\\n",
       "1IH20Vv6cSwgAQjyAOhKFEXY7Xb07t0biYmJ2Lx5s/Kcw+HAtm3bMHLkSB+2kFpNU8KS3rkNhTZ5\\\n",
       "xnBD1cGmmrYayLhYP+FE7/3liqPjMquARE3kzfi+jd8WolYEKqtrESIAnaLCMOqFrfjm+EVEWcwI\\\n",
       "DakvyZfbazCsZ6xyTF2sd/1+wkCpsHDmUhUA91VGRQBV1U634wKArjffi9jR05VjcXXhLzREQLm9\\\n",
       "BgDQNeV2xKm2jbOOuhsXrv61Uu2UK5hyoCUCgjgAPvnkk/jqq69w4sQJHD58GEuWLMGXX36J3/3u\\\n",
       "dxAEAQsXLsTzzz+P9evXIz8/HzNnzkRkZCSmT5/e+MXJ/zVltmxTZ9aOfsR9iZmGZhi3VretvNB1\\\n",
       "ZQmrgERN5M0s2CnXJiFEkCp2tSJw+IxNsytIdV3ZToBUBdx/sgRRYdJQemtEKJ6bmoxuHSNwTTcr\\\n",
       "QgSpq1cEsP3/pHF413aT1u/r1jFcqSjKXMNfRKgJ1ohQVFY7YR01HdZRdyNuwjxED/0VAKC6VlTW\\\n",
       "FDxzqQrRQ3+FuAnzkHDTPYgd/TvUilCqnVwChvQIoijqj1INcLNmzcKWLVtw9uxZWK1WXHvttVi0\\\n",
       "aBEmTJgAQKoGZmVlYdWqVSgpKcHw4cORk5OD5ORkr9+jtLQUVqsVNpuN3cFG82IvKYhFxNZ3Abvu\\\n",
       "7QvUTwix9qifANJce1dLC0qLkJaY4eQQokbJkx/k8CN/31AQlF9zsdyuTPIApFAWF2XR7BP88r8L\\\n",
       "cKmyGhGhIYiLCtMck3WMCMXBjIlu77NgbR42fluIMLNJ8z7ya8Zc3RmfHCr02M4QAR5fK1NPWqF6\\\n",
       "/PwO4gDYHvgLZFB7VwMb/whAlLpknzghHdcLe3qhsLlaM0wSGYQ8m1e9AHO3jhHY+cS4Rl/74e6T\\\n",
       "ePnfBbDX1MJiDtENU66za7t1jFC+DzUJcIoiplybhBV3D/HYto4RoYiymDXhUT525lIlBADhodLu\\\n",
       "Qa5dxR0jQmGrrIYIwCRIE0qu7WbFz+WOJv2sRsPP7yDuAiZqMzteg7Lbx3jVJA29buDWXLePi0AT\\\n",
       "NZm6+7OpXaH3jOiJgxkTcfTZW3EwY6Im/Kl3Ddn5xDg8eks/Za/fK+IiESIA5hATakXoThZRryF4\\\n",
       "RVz91pOP3tIP3TpGYMzVnZXnbxuchCVTBiAuyqK5RoggLSptjQhFx4hQyBOPD5+xsduXGsUKYAvw\\\n",
       "LwiDas2qHhEFJHVlUa6wycdCBKBWrNsYqG7mrWvlUD4XgHK+3rUAaKqXEaEmVFU7YTYJiLJI4w/l\\\n",
       "yqPcZR0RasLRZ29tj9sQsPj5zQogUdNxNw4iv9fUHS+8OV8+Z8HaPM06gTK56iZPJhEBlFVV615L\\\n",
       "XlqmY0QoplybpFQP5fdXP6+uXi6ZMhDHX5iCLjHhyjjDiFATCi9V4qou0co5RI1hBbAF+BcEEZF/\\\n",
       "0qvQtfR81wqffK48mWNQkjT2Tg6FT2/IVxZ4fnZqMu4Z0VMzKUVdFZSvHWoSUO0UEWoSkPHrQR4n\\\n",
       "cKivk/GvfNSKUiXx2LIpTbpPntoT7Pj5zQpgwCjJzcUP48ajJDfX100JXN4sydLQOdyJgyhgNHUM\\\n",
       "nOv5ehVBdYVPfa68fuC3dcvGZPxLmqQVXre4swhp9vGHu08i41/5ugtSy9eWdwepdooNLlqtXtZG\\\n",
       "rjhOuTZJ0/YFa/MarWp6s0A2BSdWAFugPf+C+GHceNQUFsKclISrtm5p0/cKWt7MolWfo94jWL2n\\\n",
       "MGfhEgU914qgXClTLwEjV8zUFcAjhTalGmcSBCXQPTc1WQlbIQKQdXuybsXt1yt34NszNt0KYENt\\\n",
       "0Gu73thCV6wAGrcCaPZ1A8g78Q/MwYW33kb8A3N83ZTAIU/W6DFc2r2jx3DpeEOzaNWhT727x/Wz\\\n",
       "tM+5Xv/YFq7PRxRE5D2A1esHnrlUiSJbpWaRZfkceZmXBWvz8MkhqSJYW1dfCTUJSrh6+d8FKLfX\\\n",
       "4OkN+fjm+EW35WE+eWi0xzbptUEvtMltVwdFT+4Z0dNQwY/qsQLYAvwLwo/tXQ18+hgg1krLtYi1\\\n",
       "Ta/cNTbbV64IytcHWB0kCjDeVsD0xvnJgUzuDlavB+iqW8cIdIoKw7dnbG7H9d5br13eVgCpcfz8\\\n",
       "ZgBsEf4C+SE5tNkvA1UlUjgb9BupAtjay7awAkgU8LydLPKLrE3KAs3yrh7qkCaHQXkB52E9Y7H5\\\n",
       "uyK3XTr0yGv9qUOd3vs1lVG7d73Bz292AVOwkbttI2Lrx/G1VSC7flb9teUwSEQBxbWrV811GzlX\\\n",
       "rt2nemFLDnJq13arHysISH87yhNJ5AkkDfE22KkneDAAkivOAqagoMyStt8sBb9xT7fvWn3q8YJE\\\n",
       "FDDUs2ldqQOUvEPHo7f0a/J11CJCQ/DJQ6ORdXsyOkaEIiLUpKwFKE/a8PR+8uzel/9d4NXMXe4G\\\n",
       "Qg1hF3ALsITsP3w+S9p1wole5ZE7iBAFlNboQm3KuL3G3k9v72BW9pqHn98MgC3CXyD/UZKbq8yS\\\n",
       "jk1N9V1DGloqhsvIEFELcExf6+HnNwNgi/AXiNw0VOVjBZCIyC/w85sBsEX4C0RERC3Bqp5v8POb\\\n",
       "k0CIiIh8hluxka8wABIREfkIZ+qSrzAAUrMoy67k5vq6KUREAcvb5WOIWhsDIDXLhbfeRk1hIS68\\\n",
       "9bavm0JERERNxABIzRL/wByYk5IQ/8AcXzeFiIiImoizgFuAs4iIiIgCDz+/WQGkBjR1nF9mZiZy\\\n",
       "cnIaPCcnJweZmZmt0DoiIiJqLrOvG0C+1dAOGq7j/BraaSMzMxNZWVnK47S0NLdzcnJykJ6ernkN\\\n",
       "ERERtT9WAIOcaxXP9XFDkznU4/zk84pfe92tKuga/tLT090qga7hLysriwGQiALWh7tPYtQLW/Hh\\\n",
       "7pO+bgpRszAABjm9Kp76cUOTOWJTU3HV1i2ITU1VzgOgeb1r+JOpQ6Br+JMxBBJRoOICzhToGACD\\\n",
       "XOSQIUBIiPQv3AOfOuQ1RD6vyyMLYU5KQuSQIXiod2/d8CdLT0/HwIEDdcOfjCGQiAIRF3CmQMcA\\\n",
       "GOQq8vKA2lrpX0Cp5l14621NN663Ez7kIFiRl4eOFZUez0tGMgDg6NGjmsd6Onfu7PXPQ0TkD7iA\\\n",
       "MwU6BsAg4SnAuVb8zvzxURRlZqGmsBBFWX9qcCxgQ6Ew/oE5uG/QICz//e/dnpuBGViJlUiFVFVM\\\n",
       "RSpWYiVmYIbbudnZ2boTRoiIiKjtcB3AFvDlOkKus3d/GDceNYWFMCcl4aqtWzy+7uigZKC2Vnks\\\n",
       "n683G7hg+Ag4bTaYrFb027Pb4zXVY/ySkYyVWKk8Z4MNVliVxw/hIeQjH0Dj4a+hGcpERETNxXUA\\\n",
       "WQEMWE2ZzCEryc2FEBamPBbCw1tlJ4+0tDRkZ2cDAPKRj1VYpTynDn+rsMrr8AdwuzkiIqK2wgAY\\\n",
       "gEpyc1F78SIgCMrkDm8mc1x4622IlZWAIAAABItFOV8dtuSu3w6jR8OclIQujyxstE1paWkYMGAA\\\n",
       "ACAXubDBpnneBhtyIXUlX92tm1fdvtxujoiIqG0wAAagC2+9DbGqChBFXN6xw+vXyYFKsFgAAKLd\\\n",
       "joLhI/D9L4agtqQEJqsVkUOGoOjZ51BTWKh7bU/rCr50//3KhI9UpGoqf4BUCZTHBP7fmTON7hgC\\\n",
       "eD9DmYiIiJqGATDAlOTmwlle3qzXyjOABYsFJqsVEAQ4bTaIVVVSZRBA6eefS2MEQ0IAwK0LVm9d\\\n",
       "wQ+OHMHj770HQBoDOBdzlfPVlcC5mKvMBtZbLJqIiIjaBwNggLnw1tvKxAxvu2dLcnNRMHwECoaP\\\n",
       "wLkXXoTTJoUy9XhAhIZCtNul8CcIiJk0CQBgslqVLlg5fMqVwh/Gjcc6AXiu+JxymXzkYw3WAJDG\\\n",
       "/E3FVGVM4BqsUcYAAgyBREREvsJZwC3gi1lEzZkZK88QVhPCw5HwxCIUZaoWcjaZAKcTCA2FuXNn\\\n",
       "6TUhIUh8+ikAQNGzzwG1tcqOIB8cOaIJf2rJSNaEPdfHalwKhoiI2hNnAbMCGHCaMy4u/oE5Spev\\\n",
       "TJ4AEjNlSv2JTqf0b01N/cSL2lqce+FFqcu3rms4/oE5iH9gDi7K5+uQw95VcXGax3rOnz/v9c9C\\\n",
       "RERELccAaACxqanot2c3EjOegclqhRAeDmdFBY4OGAhA6uYFAISGAiEhiJk8WfN6sapKmUCS+PRT\\\n",
       "SvhccOWVSEvq5vF9n+rWDXtycnQXi5ZlZGRwKzgiIqJ2xgAYALzZpk3vHPUxueu4w+jREKurgepq\\\n",
       "QBRR+umn6DB6NCAIEMxmJD79FLq98rJ27T2TCcWvva6ZfFL82utw2mx4qHt3ZGRkuLXnqS4JmN4h\\\n",
       "GsWvvY7H3n1XWSdQLS2pGx7u37+Zd4WIiIiaK2gD4LJly3D99dcjOjoaXbp0wdSpU1FQUKA5RxRF\\\n",
       "ZGZmIikpCRERERg7diyOHDnioxZ75s2CyHrnqI/J3yuzfOsIFou0T7AoQqys1CwsrXQZiyKcNhuc\\\n",
       "NptbG5w2G+7+7HM8/tvfKsee6pKA6bGx0kvtdvwwbjym/nQcz1x1tXJOWlI3pEVLAZGIiIjaV9AG\\\n",
       "wG3btiEtLQ27d+/G5s2bUVNTg4kTJ6JcVcVavnw5Xn31VWRnZ2Pv3r1ITEzEhAkTUFZW5sOWu/Nm\\\n",
       "QWS9c9TH5O9jJk2S/p0yBeakJCQ8sUgZIyiEh8NZXo6S3FzEpqZquoyF8HBp5nFcHI72H6DMJAak\\\n",
       "EDjz6Pd4/Le/xfLf/x73DRqkXF+wWJTgmWoy4anERDz+298ivUsXAIDocLTdjSMiIiJdhpkFfP78\\\n",
       "eXTp0gXbtm3DmDFjIIoikpKSsHDhQixatAgAYLfbkZCQgBdffBFz585t5Ir+M4vIdWZwQzOF9Z4r\\\n",
       "yc2VunRLSwFRVELjhbfeRm1JCcTKSmU/4KMDBgIefmVMViu6PLJQty2RQ4Zo1hgUQkMhVlU1us8w\\\n",
       "ERFRa/OXz29fCtoKoCtbXcUqrm5W6vHjx1FUVISJEycq51gsFtx0003YtWuX7jXsdjtKS0s1X/7A\\\n",
       "tfu3+LXXUVNYqNu9qrflmzyeD6IICAJqzp9HUWYWagoLlQWinTYbjg5K1oS/8ORkqcoXHq6cU5T1\\\n",
       "J7euaGd5OS7v2CGtLRgSAtTWQrBYvF7HkIiIiFqXIQKgKIr4wx/+gNGjRyM5WdqJoqioCACQkJCg\\\n",
       "OTchIUF5ztWyZctgtVqVrx49erRtw73k7Z65rgs5y1u+AVL1zmS1whQTI00QkYWG1n+vHjsYEYGO\\\n",
       "036Lq7ZuQcITi5SdQ+QQ6Swvx5k/PoqiZ59Txg9e3rEDpg4dlEoht3kjIiLyDUMEwPT0dHz77bdY\\\n",
       "u3at23OCam08QAqLrsdkixcvhs1mU75Onz7dJu2VeTP7F3BfG7DLIwuV6pr6GsouIlFR0sSPuu7Y\\\n",
       "DqNHK9cKcwm1pshIbQisI1ZWoujZ55S2CapzBIsFTputvstXEJSlZuT39zb4eXsPiIiIyHtBPwbw\\\n",
       "oYcewoYNG7B9+3b07t1bOf7TTz+hT58+OHDgAIYMGaIcv/3229GxY0e8//77jV67LccQlOTmanbe\\\n",
       "uGrrFiXEmePiUJUvLawcM2UKur3yssfrFAwfoWwdpx6fB0D5XukCBpQuWpjNQE0NwpOTEdazJ0o3\\\n",
       "bqy/aN1zAJRdQdQ7jQgRERAdDoQPGICaixd1xwNW5OW5tUMvFMq7mMj3gIiIqKU4BjCIK4CiKCI9\\\n",
       "PR3//Oc/sXXrVk34A4DevXsjMTERmzdvVo45HA5s27YNI0eObO/munHdeUM+VlNYqIQ/AFKVDZ7X\\\n",
       "AXSqximqK4W6O4rU7QFsTkpSunurjhzRhj+TSTMOMHLIEDjLyzUzhYWwMKC2FjUXL2reQ37Pyzt2\\\n",
       "KGMUG1vixtvubSIiIvJe0AbAtLQ0fPjhh/joo48QHR2NoqIiFBUVobJuUoMgCFi4cCGef/55rF+/\\\n",
       "Hvn5+Zg5cyYiIyMxffp0H7ceujtvyMfC68YxAkD4gAHKRA69dQDlsKbu5pXJobHD6NFScLNYcHnH\\\n",
       "DkQOGSJV+QDN9nEAYIqORviAAdKD0FBc3rEDTpsNIXFx6H8wD/327Fa6oL0JbZFDhgAhIYgcMkQ3\\\n",
       "xOoFVXYLExERtUzQdgF7Gsf33nvvYebMmQCkKmFWVhZWrVqFkpISDB8+HDk5OcpEkcb4QwlZ7iI1\\\n",
       "Wa0wRUW5Le9SlPUnZWJGYsYzmiCl7h42RUXVd+PK3cCAFADrfkWE8HBEjx+vWUxa2UYO0thDb8b2\\\n",
       "ycvOiA6HMstY3YbGunvZLUxERC3hD5/fvha0FUBRFHW/5PAHSCExMzMTZ8+eRVVVFbZt2+Z1+PMX\\\n",
       "clVQb1ZtbGoqBItFeiCKDe4kIi8GbbJaETNpUv0C0BYLTFYrEjMz0P9gXv3kEUhj/bo8shCmqCjd\\\n",
       "XUJcyZU7ADBFRSnhz7UN8mLUjf3M7BYmIiJqnqANgEbRWBepEgAFwS0wqWcLA1Io6/LIQnR75WX0\\\n",
       "27MbIXFx0mLNqlm78Q/MUZZ8CYmNRWxqqleBTK5GymP/1LuPyBNUYlNTvQqT8nvKaxkSERFR05h9\\\n",
       "3QBqPcqOHnUzeotfe12Z+Rs5ZIgSqtSTMuTv5W7V4tdeVxaQ7jB6NCoAt2Bn6tABUB2Xr+F6fTX1\\\n",
       "eET1e8szg2VysGusuqeePMK1BImIiJqGFcAApTcRQl7nT02ulpV+/rnH2bbqBaIBaBZudqVeS1Ad\\\n",
       "vLyZzSt3Mat3/3DdmaShJWFcr8duYCIiouYJ2kkg7cGXg0j1JkIokyvsdggWi1TBy8uDs7xcCYZ6\\\n",
       "6waqryWvCyja7RDtdmVvYPV76K0lqP6+sfDm6RpyGOTkDiIiakucBMIA2CK+/AWSwx7gPvtW2fWj\\\n",
       "LviZrFY4L1/WLCrtei3X8CaHQoSEaJaiUWvubFzXawNwWyCa3bpERNRWGAAZAFvE179AnpaA0TsO\\\n",
       "eF+hA/RDYXPO8fQ69S4nAFj5IyKiduPrz29/wADYAr7+BXKt9LluGefPlTRP3cD+2l4iIgoevv78\\\n",
       "9gcMgC3gL79AgRD4iIiI/IW/fH77EgNgC/AXiIiIKPDw85vLwAQF7o1LRERETcEAGAQaW4OPiIiI\\\n",
       "SI0BMAgE26LIrGgSERG1LY4BbAGOIWgbzV1fkIiIyBv8/GYFkPxQsFU0iYiI/A0rgC3AvyCIiIgC\\\n",
       "Dz+/WQEMWBwnR0RERM3FABigOPOXiIiImosBMEAZYZwcq5xERERtgwEwQMWmpuKqrVuCeuu3QKhy\\\n",
       "ritYh4kfT8S6gnW+bgoREZHXGADJbwVClfOdw+/gbPlZvHP4HV83hYiIyGsMgOS3AqHKOfua2ega\\\n",
       "1RWzr5nt66YQERF5jcvAtACnkWuV5ObiwltvI/6BOX4d2oiIyNj4+c0KILWiQBizR0RERAyA1IoC\\\n",
       "YcweERERsQu4RVhCJiIiCjz8/GYFkIIMl2UhIiJqHAMgBRUuy0JERNQ4BkAKKlyWhYiIqHEcA9gC\\\n",
       "HENARERGcmjzp/hmw8e4Yeo0DJ4w2dfNaTZ+frMCSERERB4c2vwp3k67H4c2fwoA+GbDxyi9UIxv\\\n",
       "Nnzc4Hnk/xgAiYiISJdr4Lth6jTExHfBDVOnNXge+T8GQCIiItLlGvgGT5iMOTnvunX/egqG5L84\\\n",
       "BrAFOIaAiIgo8PDzmxVAIiIiIsNhACQiIvIBTpwgX2IAJCIi8gFfTpxg+CQGQKJ21Fpb1Xm6DrfC\\\n",
       "Iwocvpw4wVm7xABI1MoaCmGttVWdp+twKzyiwOFpRm174KxdCtoAuH37dtx2221ISkqCIAjYsGGD\\\n",
       "5nlRFJGZmYmkpCRERERg7NixOHLkiG8aS0GloRA2+5rZqNhYgR7f9mjwGjk5OcjMzPT4vKct77gV\\\n",
       "HhF5w5fhk/xD0AbA8vJyDB48GNnZ2brPL1++HK+++iqys7Oxd+9eJCYmYsKECSgrK2vnllKwaSiE\\\n",
       "fbf2O/z095/w7rPvIicnR/f1OTk5SE9PR1ZWlscQeFe/u7Bp2ibc1e8ur443hl3HRMGrsfF+HA9o\\\n",
       "TEEbAG+99VY899xzuOOOO9yeE0URr7/+OpYsWYI77rgDycnJeP/991FRUYGPPvrIB62lQCcHqEXb\\\n",
       "F+Gdw+9g9jWz3UJYZmYmsrKylMfp6eluIXDWM7OQnp6uPG4oBLYmdh0TBa/GxvvtyP0ApReKsSP3\\\n",
       "A83xzMxMj3+oyhrrrSD/ZfZ1A3zh+PHjKCoqwsSJE5VjFosFN910E3bt2oW5c+fqvs5ut8NutyuP\\\n",
       "S0tL27ytFBjkAHX2+FnlsToAuoY/mRz20tLSkJOTg3effdftHPl1bfkf2dnXzFaCKxEFlxumTsM3\\\n",
       "Gz72PN5PFLT/wv2/WWlpaW4vk3sr1K+hACIaAABx/fr1yuOdO3eKAMQzZ85ozpszZ444ceJEj9fJ\\\n",
       "yMgQAbh92Wy2tmo6+bm/ff83ccLfJ4iPb3tcvPb9a8XkNcnite9fK/7t+78pz01Lm6b7e6P+GjBg\\\n",
       "QKPnZGRk+PrHJaJ2dnDTRvGtB38vHty0sd3eQ++zLjs7W/Oa7OzsgP5vlM1mM/znd9B2AXtDEATN\\\n",
       "Y1EU3Y6pLV68GDabTfk6ffp0WzeRWom3Y9z0zmvotSsOrMDZ8rPYeWYnlgxfgpiwGJhgwnO7n8NL\\\n",
       "e1/C2fKzOFB+wOP7JSMZAHD06FHNYz2dO3dusO1EFFj0xt65Hmvpci3ejO9TTwhpqLdC7g52rfzJ\\\n",
       "2mvICrUOQwbAxMREAEBRUZHmeHFxMRISEjy+zmKxICYmRvNFgcHbMW5658nHlu5ZqoRAORTaa6Uh\\\n",
       "AaUOaThAVGgUasQaiBBRVVsFk2BC3Pg4dL2nq9t7zcAMrMRKpCIVAJCKVKzESszADLdzs7Ozdbtg\\\n",
       "iChw6YU712ONLdfSWMBrSoCcd+/vdMOfLD09HQMHDtQNf7LmhMCNK5bj1bt/jY0rljfpddQyhgyA\\\n",
       "vXv3RmJiIjZv3qwcczgc2LZtG0aOHOnDllFb8XZ5FL3zZl8zGybBBKfoxIoDKzDx44lK5c8SYgEA\\\n",
       "iBDx0t6XMPua2QgPCYcAAWbBDKfoRFVtFTr9spMmBCYjGTMxEwAwF3OxARswF9LY05mYqakEMvwR\\\n",
       "BSe9cOd6TG+5FnXocw14hzZ/ipz770bOrFRsXLEcjqoKhEdF44ap0zSv0wuOpSd/8tjWtuitOLT5\\\n",
       "U+TMSsX3O7dDdDpR8PUOr15HrSNoA+Dly5dx8OBBHDx4EIA08ePgwYM4deoUBEHAwoUL8fzzz2P9\\\n",
       "+vXIz8/HzJkzERkZienTp/u24dQmXJdH8dStqz5PPgcAJvWaBAECbA4bzpafhc1hQ3hIuOa1cjUw\\\n",
       "NjwWT414CpGhkZrn438ZjyvuuwIAkI98rMIq5TkrrMr3q7AK+cgHwPBHFGzUwUsOdwDcjsmBTy+o\\\n",
       "yaFvx9q/agKe/FxVeRmqLl/G97u+QtXlywiLiMDgCZM1YVGvMrjo6adx54ihbm1uq96KbzZ8jKrL\\\n",
       "l5XH/VJGe/U6ah2CKIqirxvRFr788kvcfPPNbsdnzJiBNWvWQBRFZGVlYdWqVSgpKcHw4cORk5OD\\\n",
       "5GTPf9W4Ki0thdVqhc1mY3dwgJn48UScLT8La5gVkaGRusu2yOeYBBOiQ6Nhc9g0z8tVwVBTKKqd\\\n",
       "1Qg1hSLCHIFSRylMggmTek3CjjM74Kh1ICwkTAmQx5ccR/mZcgDABmzQhD8bbJiKqQCAAQMG4Lvv\\\n",
       "vmvbG0FE7erttPtReqEYMfFdNOHP9ZgsZ1Yqqi5fRniHDkhbnQsASuXPUVWhPBcWHqmEwP9d/SYg\\\n",
       "ijCHWRAZY0VETAyKT/yELr2uRGVpqSYsJvXrj8KC73HD1GkYPGEy3k67H599/Q3W50kbIyQjGSux\\\n",
       "UmmPDTbNf7MewkPN/oP10OZPpaVnRAGj7763XRel5ud3EFcAx44dC1EU3b7WrFkDQJoAkpmZibNn\\\n",
       "z6Kqqgrbtm1rUvgj/+LNJA/1OXJXrwhRd2zguoJ1KK8uhwABTtEJESKsYVaEh4QjPCQcMWExmNRr\\\n",
       "ErpGdUWEOQIAUO2shqPWobxmx5kd2Hn3Tjx2/WOICo3CqG6jUPFlhRL+UpGq+Q8pIFUC5b+yjx49\\\n",
       "2ugaXEQUWLzp9tVQLdEiVwMBYE7Ouxideh/Co6JRVV6uVPMGT5iMX86aj5j4Lhh73yzMyXkXxSd+\\\n",
       "guh0ovjET7hh6jTsyP0AO9b+FTdMnYbCgu/dxhzemnIDnkifD6BlvRWNjU8cPGEy0lbnIu3dtdyR\\\n",
       "xAeCtgLYHvgXhP+Qq3Vdo7pi07RNXp+zrmCd7sLNniqE6vMB4I0Db8BR60BVbZXyWrNgRo1Yg/CQ\\\n",
       "cMSGx6K8uhyljlLUfFWD71d/D6Bt/6omouAhV/vktfw8VQ8hCAiPisLo1PvcwtTGFctR8PUO9EsZ\\\n",
       "rQQ+AAiPisbou+9Vru/6uoEDBypj/prTW9FQZdPX+PkdxBVAMhZvJnnoneNp6zT53AVDF2iel2cE\\\n",
       "rziwAkv3LEWpoxRVtVUQUL98UK1Yi65RXWEJseBs+VkIEDThD5D+ql6DNQCkv6KnYqryV/YarFHC\\\n",
       "H6C/YwgRBSfXqpl6TKCn6mF4hw4AgKrLlxud7XvD1GmAvNyZIHqcZDJ9TIoS/prbW9HYDGbyLVYA\\\n",
       "W4B/QQSfdQXr8NLel2CvtePW3rfixTEvKsffOfwOhnQZgrziPJRUlWiqfgAQHhIOh9OBhMgEFJUX\\\n",
       "IUQIQVRoFPod7ae7wwcgVQLVYc/1sRorgUTBrylVM7myFxIaihq7HYLJhPH3z3Or5L16968hOp0Q\\\n",
       "TCb8Ye0nmqqiXtfr9DEpWPvVbgDB21vBz29WACnAeLugc3O9c/gdVNVWQYSIz098rjl+tvws8orz\\\n",
       "MPua2cqMXwCwhlnRNaorxl0xTgl/IkRlPcAvv//S4/vJ/+EcMGCA5rGe8+fPt/CnIyJ/15SqWcHX\\\n",
       "OyA6nahxOBAT30U3/AHS7FrBZEK/lNHYuGI5trz7FyT16w8AbsvCLH7oQSX8AeytCGasALYA/4Jo\\\n",
       "f00Zx9cci7YvwqfHpa4Xs2CG2WRGWEgYRncbjbziPAzpMgSfHf8MIqT/21jDrFgwdAHu6neX0jZ5\\\n",
       "DKBZMCMqNAo2hw0VGyvw09/119jKzs5G5192RsZLGZpuYrWMjAyPi6u25s9PRP6jsUqdemzflAWP\\\n",
       "e3ztf47m4/tdX8EcGoaaagcgihBMJkTHxaP0QjHCo6JhryzHjoKflNm/roKtt4Kf36wAUoDRG8en\\\n",
       "3r2jqVu5ucorzgMgLfFSI9agqrYKpY5S5BXnYdO0TcgrztOEvx1371BC1+xrZiMmLAa1Yi0AwAkn\\\n",
       "RnUbha5RXbHs2WXIyMhwez85/C3dsxTmG83oP6u/2zkNhT/Xn5+Igkdju3hMWfA4/rD2EyX8yQsr\\\n",
       "v3Hfb/G/q99U1gr8fud2QBRR47DDHBqmVANvmDqtbhZxGUSnE5ftDo9tkcNe11ir5rEe9lYEBgZA\\\n",
       "Cih6kzbUoVBv27amBCT5WpN6TUJMWIyy5IscOOWdPgBp4Wd1qLyr310QICgB0Sk6sfPMTqW9A+8e\\\n",
       "iCvvvFI5X/4r+Z3D78ApOmESTMh6LAv3P32/ck5j4W9dwTpUVFdo2khEwUHuDk7q17/R/XwPbf4U\\\n",
       "W979C6ouX0aN3a5U+SC4dPIJwPj752HKgscxeMJkhEVEKE/dknw1bv3FII/vkZ2djcKLl5Cdne3x\\\n",
       "nMb+m0X+g13ALcASsv9ZV7AOS/cshVN0Kt3ErhM4mttVuq5gHd448Iay7y8AhJpCUSvWYlKvSXhx\\\n",
       "zIu4/sPrNZNDwkPCsfeevQDqu68rNlbgym5XonhIMSb1mgQA+PzE5xgQNwAXqy6ioroCP336EyLs\\\n",
       "ETi27liDbfJm+Rsi8g+Ndel6Ik8M8TTJQ32OzBxmwdj7ZgGoXxhaFt6hg7S+oCCi1+Ch+H7XV9Lz\\\n",
       "goBfzpqP9Tu/cdsTeN602/Hm3zcoj3Nyctz2BA6k8MfPb1YAKcjc1e8uLBm+RNNNLFcN84rzWtRV\\\n",
       "+s7hdzThD5AWf3aKTs2EEbWwkDDl+yFdhsAkmHD9fdej6BdFyuvyivPgFJ04evEozpafhQgRybcn\\\n",
       "Y1r6tEa7rr3d45iIfM9Tl25jCybfMHUaBJMJotOJHWv/ipxZqci5/27N+XK1MDwqGgBgDgtV3qf/\\\n",
       "yBuV88wWCyAKmu3i+o+8ETHxXdB/5I34ZsPH+M2oGzRDVrKzszXhDwDS0tJw940jlMeBFP5Iwgpg\\\n",
       "C/AviMDiaYmXxl4jVw/lbd1qxVpUO6sBADFhMSh1lKJrVFdUVFco28XJi0CrF4wuc5RBhKhsIQcA\\\n",
       "gzoNwh1X3aFboWyouseJH0SBx1MFUG/pl0ObP8WOtX8FBBGjU+/Df47ma5Z8AaDMFlZfU54YIphM\\\n",
       "cNbUKAtEq/fcNVssyjUAwGQ2Q3Q63ZaTWb/zG3Tu3NnjhI5Dmz/Fi88+i5ieV+Ivf/3vtrhlbYaf\\\n",
       "3wyALcJfoMAz+IPByni7JcOXKCFq/7n9+PzE55ouWXkv31JHqTK2T57hK5PDnDrUAcDk3pPx4pgX\\\n",
       "NV3SskGdBuHoxaOabmo9i7YvUtoxLGGYZgcS9TXl9yKiwKQXDNVdujHxXQBAmbFbU+NAjcOB6E7x\\\n",
       "KLtwXjlnTs67bl3BAJSJHk1S1x08eMJkr7qum9u97Sv8/GYAbBH+AgUeOVQNiBughDCTYJL2ioao\\\n",
       "mcQhQEBMWIxS1XMNfzFhMZrlYXae2YlSR6lS5VsyfAlWHFihvF6+tnrCSkMVPHUFEIDb9zKTYMKh\\\n",
       "+w61/s0iIp9xrQACUhdyREwMzv30o9v5v5z9oLLcizLer67612vwUPy4b4+m6mcOsyhLwngiVwLl\\\n",
       "ruvwqGiERUTohjx/3vZNDz+/OQaQDGRdwTrkFedhyfAluFh1UamgOUUnLCEWAFDCn/y9+rE6/IWa\\\n",
       "QvHw0IeVLtthCcMAAJYQCwQIcIpOLN2zVFkwWp5NLM/W9bQFnZp6fJ/8/ZAuQ1BeXY7wkHBl+7mE\\\n",
       "yIRWukNE5C8GT5iMtHfXIm11riZsnTtePzEs4cq+gCDAbLFI4a9uuRcIgjKmLyw8UhP+Eq7si5j4\\\n",
       "Luh7/XCER0VJYwLrmMMs9dvEAcqYw6R+/QFBGjfoaVka9QLWjY1pJP/ACmAL8C+IwKKuqM2+ZjZW\\\n",
       "HFgBe60dlhALukd3x5Gf9RdA1TOo0yBcrLqoW5WTg5kIETFhMYgKjVLGB7Z0tq78M6grlawAEvm/\\\n",
       "pnaRup4vV9jMFgtqq6vRIa4TLl/8WTMmUNZ/1BhMWfB4fXewIGgqfYLJpLzObLGgxuGAIAgQRVHT\\\n",
       "rVz/gvrXu85E1luMOuf+u1FVXgZzmAWRMVa/7Bbm5zcrgGQg6oraXf3uQmRoJKpqqxAZGomjF496\\\n",
       "fJ1cbRvUqX59rKMXj2quN6TLEE3wEyEqr5t9zWwsGLrA69m6DS1cLb+nXLEEoIxbbMl1iahtNbao\\\n",
       "c2PnyxW2sffOwvj756HswnllGzjBVP9RLoc/9WvUs4ABKK8L79BBWTNQdDoBUawPf6pKoFxVNFss\\\n",
       "CDGHYkfuB0p17/tdX0F0OqWuZ1nd2oM11Q7lZ2BV0P8wAFLQ8RR0XLtd1QFuQNwA5bzwkHClqtc1\\\n",
       "qitiw2Px1IinkPurXEzuPRkCBISZwvDPH/6JcxXnsP/cfmWHEDkEAoDD6YDNYcM7h9/B/nP7lXMb\\\n",
       "09DC1fLP8Nj1j6FrVFc8PeJpryeAcMcQorbVUMhJ6tcfgsmk7MHbGNcuVXU1UB0izWFhyl6/AFBY\\\n",
       "8L3Slh1r/4qKMhtOHDogde9CmvErmExK97Aek9mMX86arywpA0hLyURGW1HjsKPq8mVsefcvOLT5\\\n",
       "U5hD65a6EkVlT+EaRzUgCEjo3UczU7kpAZjaHgMgBR1vg446EF6sughAmtgRGx6LIV2GKEu7nC0/\\\n",
       "i+d2P4dRa0dhWMIwRIdFo6q2Ckd+PgKn6MRnxz9TwuTATgMhQEB4SDgm9ZoEa5gV5dXl+Oz4Zw2u\\\n",
       "FwjUB1f5vV2rhepg680YQldcM5CobTUUck4cOgDR6cSJQwe8utbgCZMxJ+ddJfDpVQPlCl5hwffo\\\n",
       "0kvaZSiirjvzmw0fo6q8DDV2KbBBkLpvrx4+EuPvn4fCgu+R1K8/YuK7aMYBAoCzpgaDJ0zG6Lvv\\\n",
       "1QTLG6ZOU4Kk6HTimw0fY+x9s5RzvtnwMb7Z8DFqHFJVsbK0VPkZ1IGW/AMDIAUdb4KOa5VQfo0A\\\n",
       "AWfLz+LzE58rizKbBBNEiCh1lOKdw+9oqnyANPHjrn53YfY1s3H04lGIEBEbHosXx7yIyNBIZWaw\\\n",
       "AEHprtWrUsrBVd532DXctbSC15zQSETeazDkiIL23xZcVw6Ho1PvU47Lk0Pkf9VhzWyxwGwOg+h0\\\n",
       "orDgeyVQFhZ8jzk572LsvbMQE98FlqgOAIDo+M7K+4y/f57mvWuq6/YLFgSlIqk+R95fOLxDB819\\\n",
       "kEOg3B1Mvmf2dQOIWttd/e5qMOSsK1iH53Y/BxEiVhxYoTl3VLdRyrIu8gxfAFhxYAVEiMpj14Wb\\\n",
       "5WPysjLqvYPlNfsSoxKV7lp1mFN3SavX+nPV2PNE5FuDJ0z2ONlh9N334psNHyv7+srhSL3Ui/xa\\\n",
       "1y7fhq4LAP85ml8/yaOuK1ZdOYyMtmoWjP7P0XyUXbygdEfL13877X7Yyy9r/shVv3fOrFTlfcKj\\\n",
       "opTjru3z1FZ1JdPfJoUYEWcBtwBnEQUmeSYtIHX57rx7J0atHYVSR6nyuDlcd+eQH8eFx+HoxaPK\\\n",
       "Xr/ymoEiRDw89GFW5IgMRL1eHgDNYs/y+nnerqnnaZavvF5fUr/+StdtYzuPAPXB0/V18vGKMps0\\\n",
       "aUS1SLQnerOe/WmxaH5+swJIBrOuYJ2yjl5YSBgeHvowgPqlW1y7d5vCtfIoV/nOVZxT9vp1ik6c\\\n",
       "PS6Fz65RXRn+iAxGXYkD6iuA6u5S13Mau1ZFqU0adwdpnB8EUQmWegGyseufOJiHqvIypVKnXgha\\\n",
       "riY2FuD0qn2NVTKpfTEAkqG8c/gdZe9e9Xp8C4YuaPXuVbnLVu4qHtJlCD4/8blbN7Ea9/glCm7e\\\n",
       "dJc2NSh16t4D544fgzksDGPvnQUADQY8T9dXgl6HDppxf677DXvD2xBLvsMu4BZgCdm/6YWptgpY\\\n",
       "3lx3XcE6vHHgDQgQsGDoAt3z5O5peSs5hkAi8kTuyhVMJohOp2bJFU9hraFu2JZ22/pTF29j+PnN\\\n",
       "ANgi/AXyb+qdP1qy+0ZrvZc356wrWKdMGmmPdhNR4NIbs7cj94O6ZV+kcXoANOc4qipQdfmyV3v2\\\n",
       "Htr8Kba8+xclXOqdrw59cgUxEPYD5uc3u4ApiA3pMgTnTpzDkC5D2vy9vJmh60175IrfigMrUF5d\\\n",
       "rqz5R0TkyrUrd+OK5VL4AwBRVNYNLL1QjLKLF6TdPgQB4VHRXnXNfrPhY4hOJwSTSXO+XuhTP2a3\\\n",
       "b2DgOoAUtPKK8+AUncgrzmvz9/Jmjb3G2iOvDQhAWT+Qu3YQkbcKvt5R/6BunT55DUFltxBRRFhE\\\n",
       "hFddtPJr1Xv/AnALfXLXs3rxavJ/DIAUtPxt54vZ18xWdgbR249XvTagv7WdiPxfv5TRyp69/Ufe\\\n",
       "qFQA5+S8iykLHndb1Lmx/Xk9BTqGvuDAMYAtwDEE1FQNjQPkDGAiai3erCXo7XqDwYif36wAUhDQ\\\n",
       "21bNXzVU2eNWbUTUXK7VvBumTkN4hw5wVFZ6rPA1dX/exiqGFFhYAWwB/gXhH9pzti8RkT/Sq+a1\\\n",
       "doUvmCqG/PxmBZCCgD+MlwukKiQRBR+9al5TK3zNeQ8Zq4OBhxXAFuBfEP7D1+Pn1FXI2dfMxooD\\\n",
       "K3y+16+v7wkRGUegVQf5+c0KIAUJ9QzalmhuJU9dhXzn8DuwOWw+X8alte4JEVFjWrvaSG2PAZCC\\\n",
       "Qmt1Azc3NKkncMjLvcSExfi0W9ofusaJ/Am7KdsOl4MJPOwCbgGWkIMPu02JglegdVPKDm3+FDvW\\\n",
       "/hUQRIxOvY8hqxXw85sVQCINLsVCFLwCtZvymw0fo6q8DFWXLyuLOxO1FPcCJiIiQ3DdOzdQ3DB1\\\n",
       "mlIBDLTwSv6LXcAtwBIyERFR4OHnN7uA8ec//xm9e/dGeHg4hg0bhq+++srXTSIiIiJqU4YOgH/7\\\n",
       "29+wcOFCLFmyBHl5ebjxxhtx66234tSpU75uGhEREVGbMXQX8PDhwzF06FC8+eabyrEBAwZg6tSp\\\n",
       "WLZsWaOvZwmZiIgo8PDz28AVQIfDgf3792PixIma4xMnTsSuXbt0X2O321FaWqr5IiIiIgo0hg2A\\\n",
       "Fy5cQG1tLRISEjTHExISUFRUpPuaZcuWwWq1Kl89evRoj6YSERERtSrDBkCZIAiax6Iouh2TLV68\\\n",
       "GDabTfk6ffp0ezSRiIiIqFUZdh3A+Ph4hISEuFX7iouL3aqCMovFAovF0h7NIyIiImozhq0AhoWF\\\n",
       "YdiwYdi8ebPm+ObNmzFy5EgftYqIiIio7Rm2AggAf/jDH3DvvffiuuuuQ0pKCt566y2cOnUK8+bN\\\n",
       "83XTiIiIiNqMoQPgf/3Xf+Hnn3/Gn/70J5w9exbJycn49NNP0bNnT183jYiIiKjNGHodwJbiOkJE\\\n",
       "RESBh5/fBh4DSERERGRUDIBEREREBsMASERERGQwDIBEREREBsMASERERGQwDIBEREREBsMASERE\\\n",
       "RGQwDIBEREREBsMASERERGQwDIBEREREBsMASERERGQwDIBEREREBsMASERERGQwDIBEREREBsMA\\\n",
       "SERERGQwDIBEREREBsMASERERGQwDIBEREREBsMASERERGQwDIBEREREBsMASERERGQwDIBERERE\\\n",
       "BsMASERERGQwDIBEREREBsMASERERGQwDIBEREREBsMASERERGQwDIBEREREBsMASERERGQwDIBE\\\n",
       "REREBsMASERERGQwDIBEREREBsMASERERGQwDIBEREREBsMASERERGQwDIBEREREBsMASERERGQw\\\n",
       "DIBEREREBhOUAXDp0qUYOXIkIiMj0bFjR91zTp06hdtuuw1RUVGIj4/HggUL4HA42rehRERERD5g\\\n",
       "9nUD2oLD4cCdd96JlJQUrF692u352tpaTJkyBZ07d8aOHTvw888/Y8aMGRBFEStXrvRBi4mIiIja\\\n",
       "T1AGwKysLADAmjVrdJ/ftGkTvvvuO5w+fRpJSUkAgFdeeQUzZ87E0qVLERMT015NJSIiImp3QdkF\\\n",
       "3Jivv/4aycnJSvgDgFtuuQV2ux379+/3+Dq73Y7S0lLNFxEREVGgMWQALCoqQkJCguZYbGwswsLC\\\n",
       "UFRU5PF1y5Ytg9VqVb569OjR1k0lIiIianUBEwAzMzMhCEKDX/v27fP6eoIguB0TRVH3uGzx4sWw\\\n",
       "2WzK1+nTp5v1sxARERH5UsCMAUxPT0dqamqD5/Tq1curayUmJmLPnj2aYyUlJaiurnarDKpZLBZY\\\n",
       "LBav3oOIiIjIXwVMAIyPj0d8fHyrXCslJQVLly7F2bNn0bVrVwDSxBCLxYJhw4a1ynsQERER+auA\\\n",
       "CYBNcerUKVy8eBGnTp1CbW0tDh48CADo27cvOnTogIkTJ2LgwIG499578dJLL+HixYt49NFHMWfO\\\n",
       "HM4AJiIioqAXlAHwmWeewfvvv688HjJkCADgiy++wNixYxESEoKNGzfiwQcfxKhRoxAREYHp06fj\\\n",
       "5Zdf9lWTiYiIiNqNIIqi6OtGBKrS0lJYrVbYbDZWDomIiAIEP78DaBYwEREREbUOBkAiIiIig2EA\\\n",
       "JCIiIjIYBkAiIiIig2EAJCIiIjIYBkAiIiIig2EAJCIiIjIYBkAiIiIig2EAJCIiIjIYBkAiIiIi\\\n",
       "g2EAJCIiIjIYBkAiIiIig2EAJCIiIjIYBkAiIiIig2EAJCIiIjIYBkAiIiIig2EAJCIiIjIYBkAi\\\n",
       "IiIig2EAJCIiIjIYBkAiIiIig2EAJCIiIjIYBkAiIiIig2EAJCIiIjIYBkAiIiIig2EAJCIiIjIY\\\n",
       "BkAiIiIig2EAJCIiIjIYBkAiIiIig2EAJCIiIjIYBkAiIiIig2EAJCIiIjIYBkAiIiIig2EAJCIi\\\n",
       "IjIYBkAiIiIig2EAJCIiMrD87WfwwZM7kb/9jK+bQu2IAZCIiMjADnx+AmUX7Tjw+QlfN4XaEQMg\\\n",
       "ERGRgQ2d1AvRcRYMndTL102hdmT2dQOIiIjId5LHdEPymG6+bga1s6CrAJ44cQKzZs1C7969ERER\\\n",
       "gT59+iAjIwMOh0Nz3qlTp3DbbbchKioK8fHxWLBggds5RERERMEo6CqA33//PZxOJ1atWoW+ffsi\\\n",
       "Pz8fc+bMQXl5OV5++WUAQG1tLaZMmYLOnTtjx44d+PnnnzFjxgyIooiVK1f6+CcgIiIialuCKIqi\\\n",
       "rxvR1l566SW8+eab+OmnnwAAn332GX71q1/h9OnTSEpKAgDk5uZi5syZKC4uRkxMjFfXLS0thdVq\\\n",
       "hc1m8/o1RERE5Fv8/A7CLmA9NpsNcXFxyuOvv/4aycnJSvgDgFtuuQV2ux379+/3eB273Y7S0lLN\\\n",
       "FxEREVGgCfoAeOzYMaxcuRLz5s1TjhUVFSEhIUFzXmxsLMLCwlBUVOTxWsuWLYPValW+evTo0Wbt\\\n",
       "JiIiChRcSzDwBEwAzMzMhCAIDX7t27dP85rCwkJMmjQJd955J2bPnq15ThAEt/cQRVH3uGzx4sWw\\\n",
       "2WzK1+nTp1vnhyMiIgpgXEsw8ATMJJD09HSkpqY2eE6vXr2U7wsLC3HzzTcjJSUFb731lua8xMRE\\\n",
       "7NmzR3OspKQE1dXVbpVBNYvFAovF0vTGExERBbGhk3rhwOcnuJZgAAmYABgfH4/4+Hivzj1z5gxu\\\n",
       "vvlmDBs2DO+99x5MJm2hMyUlBUuXLsXZs2fRtWtXAMCmTZtgsVgwbNiwVm87ERFRMONagoEn6GYB\\\n",
       "FxYW4qabbsIVV1yBDz74ACEhIcpziYmJAKRlYH7xi18gISEBL730Ei5evIiZM2di6tSpTVoGhrOI\\\n",
       "iIiIAg8/vwOoAuitTZs24ccff8SPP/6I7t27a56Ts25ISAg2btyIBx98EKNGjUJERASmT5+urBNI\\\n",
       "REREFMyCrgLYnvgXBBERUdPlbz+jjBn0RdcxP78DaBYwERERBY6GlobhrGHfYwAkIiIyOHVYa601\\\n",
       "/RoKeUMn9UJ0nIWzhn0o6MYAEhERBSpvu0bzt5/B7g3HAAAjpvZxO1e+TmKfjig6dqnR67mGNfl7\\\n",
       "+TWZmZno3Lkz0tLSPF4jJycH58+fx7Rxc5T3Bi7phjzOGvY9BkAiIiI/oQ5i6oDkGgwPfH4C9ooa\\\n",
       "AMD23AIA0JwvX+fypXMQnXC7nivXdfzU32dmZiIrK0s5Vy8E5uTkID09HQBwaMsp/HLQPQAu4b7n\\\n",
       "RzXrPlDbYxcwERGRn/DUNepaoRs6qRcskWZAAESnFALVXbbydfoOS2i0q1WuJjqqalH4wyVN0HQN\\\n",
       "f+np6cjJydG8Xh3+AGDDjvfwv0c+xNBJvbhFnB9jBZCIiMjPuVbo5C7U/O1nsD23AKIT2L3hmCa8\\\n",
       "edvFqq4m/ri/vmL48da3NeFPJoe9tLQ0t/An27DjPQzeegWudExA2UW7bpWSfIvLwLQAp5ETEVFr\\\n",
       "+uDJnSi7aEd0nMXr7lO5e9hRVQt7RQ0skWaEhYd4vcSKejzhFYM6oejYJew++w+8uea1Bl83YMAA\\\n",
       "HD16tMFz5s98BMkRv4LoRJPb1Zb4+c0KIBERkd9oyp666nGBQyf1wu4Nx6RuYbhP4miIXrWwLOcg\\\n",
       "sMbD+UhGPvKV8Cc/1jPouj7oG56AH/efQ221E2UVNW6VSvINjgEkIiLyE8ljuikhUD1uTm8snXpc\\\n",
       "oNyN66iqwRWDOjVpiRW9a6elpSE7O9vt3BmYgZVYiVSkAgBSkYqVWIkZmOF2bnZ2NtLS0lB07BJE\\\n",
       "JxASakJ0nAUAuAagH2AAJCIi8iN66+e5HsvffgaOqlpYIs1KBVAwSRNC5GVfXENkU94PAG66Ziru\\\n",
       "nfiI8jgZyZiJmQCAuZiLDdiAuZgLAJiJmUhGsnKuHP6A+gkpI6b2wX3Pj8KIqX24BqAf4BjAFuAY\\\n",
       "AiIiam16awG6ruunN94PAHb+/QfU1DhhEgQ4nSIskWbMfnVMs95Pnlyy5/j/4K+bpPGAqUhVQp/a\\\n",
       "KqxCLnIBaMOfv+LnNyuAREREXmvNZU1cryU/BoD7nh+lGR+XPKYb7nt+FIqOXULZRTsAuHWnFv5w\\\n",
       "CTXVTkAEnE6ptmOvrGm0K1nPgc9PQHQCggl4fMkfMWDAAABALnJhg01zrg02JfwNGDDALfw19J5c\\\n",
       "JsZ3GACJiIi81Jp72Lpey5tru3anXjGoEyAAlZer8cO+c+4vEIFtHxVg1UNfYtPqI9ieW9Bo97L6\\\n",
       "ffoOS8Dypa8oEz5SkQorrJq3sMKqjAk8evSo2zqBnn4uucrI8YC+wQBIRETkpdbcw9b1Wt5cW64E\\\n",
       "ytXBomOXABGocThhNnv+SK+pduKHfdIafxCgeQ+995Xf58N1q5Xu32Qka7p/1ZXAuZirjAF0XSxa\\\n",
       "7/rqLmbBBI4H9AEuA0NEROSl1tzD1vVazbl2Yp+OKCs5B7PZhFF3XoXCHy7hx/3nEN8jGlVlDoRH\\\n",
       "h+H8qTIlHNZUO2GJkD76P3hyp2bcn2tVsKDySyX8AUA+8rEGazATM5Uxf/KYwDVYo1kKJj09HUd3\\\n",
       "ncUNPW+t2xNYS93FPCa1H5eD8QFOAmkBDiIlIiJfkheOFkxA32EJOHXkZwDAiKl9AEAzuUM92UPu\\\n",
       "lpXXDbRX1gCitFizo6oGX367AX/fuVL3PV3X/WtoHcA7Rz2EsddOheiEZnHrTauP4Mf959B3WAIm\\\n",
       "zhrUavfDW/z8ZgWQiIjI5/Rm4nrzGkdVrbIfsLyNGwDNziC7NxzTVBfl2cRA/WxiQKrGAdK1yu02\\\n",
       "9zeU37cu7CV2vAJFl055DH8AUC1cVoKpo6oWm1YfUWYxy0vWkG9wDCAREZGPNXVySf72M9i2tgD2\\\n",
       "ihqY6xZY7jssAeZQEyBAt9sVkPYLLrtoxw/7zmHopF4YMbUPLJFmWCLNGJPaD1cM6gTBBNw14QFM\\\n",
       "vu4+j++fetMCvDj/Izy58DmP52RkZGD9V+9i4qxBCAsPgb2iBj/uP6eZxSyP/eNs4PbHCiAREZGP\\\n",
       "6W0Bp96jd8TUPprK4IHPTwB1A7hqqp3K637cfw4QoXSvFh27hMQ+HfHBkzuR2Kej1NULACKwPbcA\\\n",
       "Y1L7adYJ3Pn3HyA6gcsX7Zg8bAZEEfhs/weatt5140P4/b0PYOKsQcjf3gunv/tZM1YQAG4bMRPT\\\n",
       "xs1RxhnKP5+8jqFrpVMdgDkesH1wDGALcAwBERG1FXl8H6AdPwfUh0N57J56TUCZPMFCDlfyTiEQ\\\n",
       "6k4Q66twctCUu4PVNu57XwmB029eiJFX36YsMP3OH7bDXlGDXf/3//DRF68DAG4ddh/uGDNLuV5z\\\n",
       "F6NuS/z8ZgWQiIjIL6mDmd4yKWHhIbhiUCelogbUj++Tl3zZveEYRkztoxw/fvA8amqc6HxFNErP\\\n",
       "V8JRVSsFybrgZw41KTuJmMwCIAJ3jJmFTklRcF62YOTVtwGQgt2m1UeUiuLIfrchtmsUTv10Br9O\\\n",
       "+T2uGNRJf11CD/RmQLd3KDQaBkAiIiI/5BqK9GbxApc03cf3PT8K+dvPaMKX+jp/fnArIAIXTpeh\\\n",
       "Q0eLpmJoDjWh9y8648f95+B0igg1hyjbzIV9/jvNuQCk95D7EEVgQMw4/CLFjBFT+0jBte65KwZ1\\\n",
       "8urndQ187BZuWwyAREREfk69cPL23AL0HZYAOfzt/PsPqKl2YttHBSj84VJ9MBOksYPqsYTxPaJx\\\n",
       "/mQZRCcQHh2Gy5fsyszh2lonTh35WVmfD6jfZk6uRlbba+GslZKd2WxCRHQoEvt0VGYg2ytq3Cay\\\n",
       "eDvT1zXw6Y2LpNbDAEhEROTn5IWTgfolX8ak9gMgTQKR/bC3vvJnNptw4PMTqCyrVs6pKnNIYwBF\\\n",
       "4PypMtx0dz+lC1h0ArXVTs3sXLnr+MDnJ5SuZHk84ag7r1LOUa9BKL+2oe5rPa6BrzUX3SZ3nATS\\\n",
       "AhxESkREbUXdJQrUhzG52qY38UOmLPDsMqnDEmlWqnjmMBPmrhgLAFj10JeoqXbCFCIgyhqmeU95\\\n",
       "rUA5GKq7adULUQfSjh78/GYAbBH+AhERUVuRw5WnGcAAEBoegstyAKyr7FkipXF4O//+gzKhw+nU\\\n",
       "ftRbIs24YlAnpWpXW+NEjcOpXEMdLi2RZmUsoN5EDblr2rWd/oyf31wImoiIyC8NndRL0x0rSx7T\\\n",
       "TVlY+bKq+tf5imhAAByVNdj2UYHU7StKITE6zgJTiKCcGxYegqJjl2CvqJGqhHXB0RxqgiXSrKzd\\\n",
       "Fx1naXQSR0hIw4tPk3/iGEAiIiI/5GkMXP72M6gsq9Yc6xBnwflTZYBYPzEXqK8GJo/ppqzZB6F+\\\n",
       "XN62tQXKhBFHVd04wBqn5v3lSqR6Nq7cPe2oqlXGF3Jbt8DCCiAREVEA2b3hmGbiByDt3AGXAV0d\\\n",
       "4iwICw9B4Q+X8MGTO3HFoE7Stm8RUu0neUw3XHVdgjTjV4Rmkol6Jq9eJbJ+GRooW8lxtm5gYQWQ\\\n",
       "iIgoCJXXLfFy+ZI0acRR9bOyc4g8hlCeUBISXr+ki3phaUC/Euk6GYQCDyeBtAAHkRIRUXtznR0s\\\n",
       "hzmgfuu1sPAQJczJ/8qzeQHAHGZCRIfQdp3B6087e/DzmxVAIiKigOJakVOPy5PDoLqSp35eHvMX\\\n",
       "YjYpVTx5nT9ZQyGtJSGOO3v4F44BJCIiCgLq2cE/7j+nhC2gPrhddV0CouMsysSQ+54fhaJjl1B2\\\n",
       "0Y7tuQXYveGY5nWu1CGuqTzNaibfYAWQiIgoSKireuqxfOq9g13X6hs6qZeylh8ATUiTg6O6O1ne\\\n",
       "gq6p5Mpl/vYz+ODJnX7RFWxkDIBERERBwtPSMQ3tqyufr9e1KwdHeSKJXoBsKnYF+wcGQCIioiDX\\\n",
       "2L666hCofuypotgSDYVRaj8MgERERKRbmVMHR7k7WD7eXI2FUWofQTkJ5Ne//jWuuOIKhIeHo2vX\\\n",
       "rrj33ntRWFioOefUqVO47bbbEBUVhfj4eCxYsAAOh8NHLSYiIvKtxiZptGQCCPmfoKwA3nzzzXjy\\\n",
       "ySfRtWtXnDlzBo8++iimTZuGXbt2AQBqa2sxZcoUdO7cGTt27MDPP/+MGTNmQBRFrFy50setJyKi\\\n",
       "QOZP6901RUOVufztZ+CoqvV6x49AvQdGEpQB8JFHHlG+79mzJ5544glMnToV1dXVCA0NxaZNm/Dd\\\n",
       "d9/h9OnTSEpKAgC88sormDlzJpYuXWrYRSGJiKjlgnGSw4HPT8BeUSNtG+fl+cF2D4JNUHYBq128\\\n",
       "eBH//d//jZEjRyI0NBQA8PXXXyM5OVkJfwBwyy23wG63Y//+/b5qKhERBYFgXO9OWv7FfZ9geUmX\\\n",
       "/O1nNOcH4z0INkFZAQSARYsWITs7GxUVFRgxYgT+53/+R3muqKgICQkJmvNjY2MRFhaGoqIij9e0\\\n",
       "2+2w2+3K49LS0tZvOBERBbRgnORQdOwSAEAwQRPqPFX6gvEeBJuAqQBmZmZCEIQGv/bt26ec/9hj\\\n",
       "jyEvLw+bNm1CSEgI7rvvPqi3PRYEwe09RFHUPS5btmwZrFar8tWjR4/W/SGJiIj8kFzRc90zmJW+\\\n",
       "wCWI6lTkxy5cuIALFy40eE6vXr0QHh7udvw///kPevTogV27diElJQXPPPMM/vWvf+HQoUPKOSUl\\\n",
       "JYiLi8PWrVtx8803615frwLYo0cPQ28mTURErcPbiROcYNFypaWlsFqthv78Dpgu4Pj4eMTHxzfr\\\n",
       "tXLGlcNbSkoKli5dirNnz6Jr164AgE2bNsFisWDYsGEer2OxWGCxWJrVBiIiooZ4O3GCEyyoNQRM\\\n",
       "F7C3vvnmG2RnZ+PgwYM4efIkvvjiC0yfPh19+vRBSkoKAGDixIkYOHAg7r33XuTl5WHLli149NFH\\\n",
       "MWfOHMP+JUBERL7lbXcqu12pNQRMF7C3Dh8+jIcffhiHDh1CeXk5unbtikmTJuGpp55Ct271fymd\\\n",
       "OnUKDz74ILZu3YqIiAhMnz4dL7/8cpMqfCwhExERBR5+fgdhAGxP/AUiIiIKPPz8DsIuYCIiIiJq\\\n",
       "GAMgERERkcEwABIREREZDAMgERERkcEwABIREREZDAMgERERkcEwABIREREZDAMgERERkcEwABIR\\\n",
       "EREZDAMgERERkcEwABIREREZDAMgERERkcGYfd2AQCaKIgBpU2kiIiIKDPLntvw5bkQMgC1QVlYG\\\n",
       "AOjRo4ePW0JERERNVVZWBqvV6utm+IQgGjn+tpDT6URhYSGio6MhCIJP2lBaWooePXrg9OnTiImJ\\\n",
       "8UkbAhXvXfPwvjUf713z8L41H++dPlEUUVZWhqSkJJhMxhwNxwpgC5hMJnTv3t3XzQAAxMTE8P/c\\\n",
       "zcR71zy8b83He9c8vG/Nx3vnzqiVP5kxYy8RERGRgTEAEhERERkMA2CAs1gsyMjIgMVi8XVTAg7v\\\n",
       "XfPwvjUf713z8L41H+8decJJIEREREQGwwogERERkcEwABIREREZDAMgERERkcEwABIREREZDANg\\\n",
       "gDpx4gRmzZqF3r17IyIiAn369EFGRgYcDofmvFOnTuG2225DVFQU4uPjsWDBArdzjGbp0qUYOXIk\\\n",
       "IiMj0bFjR91zeN88+/Of/4zevXsjPDwcw4YNw1dffeXrJvmV7du347bbbkNSUhIEQcCGDRs0z4ui\\\n",
       "iMzMTCQlJSEiIgJjx47FkSNHfNNYP7Js2TJcf/31iI6ORpcuXTB16lQUFBRozuG90/fmm2/i2muv\\\n",
       "VRZ7TklJwWeffaY8z/tGehgAA9T3338Pp9OJVatW4ciRI3jttdfwl7/8BU8++aRyTm1tLaZMmYLy\\\n",
       "8nLs2LEDubm5+Mc//oE//vGPPmy57zkcDtx5552YP3++7vO8b5797W9/w8KFC7FkyRLk5eXhxhtv\\\n",
       "xK233opTp075uml+o7y8HIMHD0Z2drbu88uXL8err76K7Oxs7N27F4mJiZgwYYKyt7hRbdu2DWlp\\\n",
       "adi9ezc2b96MmpoaTJw4EeXl5co5vHf6unfvjhdeeAH79u3Dvn37MG7cONx+++1KyON9I10iBY3l\\\n",
       "y5eLvXv3Vh5/+umnoslkEs+cOaMcW7t2rWixWESbzeaLJvqV9957T7RarW7Hed88u+GGG8R58+Zp\\\n",
       "jvXv31984oknfNQi/wZAXL9+vfLY6XSKiYmJ4gsvvKAcq6qqEq1Wq/iXv/zFBy30X8XFxSIAcdu2\\\n",
       "baIo8t41VWxsrPjOO+/wvpFHrAAGEZvNhri4OOXx119/jeTkZCQlJSnHbrnlFtjtduzfv98XTQwI\\\n",
       "vG/6HA4H9u/fj4kTJ2qOT5w4Ebt27fJRqwLL8ePHUVRUpLmHFosFN910E++hC5vNBgDKf9N477xT\\\n",
       "W1uL3NxclJeXIyUlhfeNPGIADBLHjh3DypUrMW/ePOVYUVEREhISNOfFxsYiLCwMRUVF7d3EgMH7\\\n",
       "pu/ChQuora11uzcJCQmGvi9NId8n3sOGiaKIP/zhDxg9ejSSk5MB8N415vDhw+jQoQMsFgvmzZuH\\\n",
       "9evXY+DAgbxv5BEDoJ/JzMyEIAgNfu3bt0/zmsLCQkyaNAl33nknZs+erXlOEAS39xBFUfd4IGvO\\\n",
       "fWuIUe5bc7jeA96XpuM9bFh6ejq+/fZbrF271u053jt9/fr1w8GDB7F7927Mnz8fM2bMwHfffac8\\\n",
       "z/tGrsy+bgBppaenIzU1tcFzevXqpXxfWFiIm2++GSkpKXjrrbc05yUmJmLPnj2aYyUlJaiurnb7\\\n",
       "azDQNfW+NcRI960p4uPjERIS4lY1KC4uNvR9aYrExEQAUjWra9euynHew3oPPfQQPvnkE2zfvh3d\\\n",
       "u3dXjvPeNSwsLAx9+/YFAFx33XXYu3cv3njjDSxatAgA7xu5YwXQz8THx6N///4NfoWHhwMAzpw5\\\n",
       "g7Fjx2Lo0KF47733YDJp/+dMSUlBfn4+zp49qxzbtGkTLBYLhg0b1q4/V1tryn1rjJHuW1OEhYVh\\\n",
       "2LBh2Lx5s+b45s2bMXLkSB+1KrD07t0biYmJmnvocDiwbds2w99DURSRnp6Of/7zn9i6dSt69+6t\\\n",
       "eZ73rmlEUYTdbud9I898Nv2EWuTMmTNi3759xXHjxon/+c9/xLNnzypfspqaGjE5OVkcP368eODA\\\n",
       "AfF///d/xe7du4vp6ek+bLnvnTx5UszLyxOzsrLEDh06iHl5eWJeXp5YVlYmiiLvW0Nyc3PF0NBQ\\\n",
       "cfXq1eJ3330nLly4UIyKihJPnDjh66b5jbKyMuV3CoD46quvinl5eeLJkydFURTFF154QbRareI/\\\n",
       "//lP8fDhw+Ldd98tdu3aVSwtLfVxy31r/vz5otVqFb/88kvNf88qKiqUc3jv9C1evFjcvn27ePz4\\\n",
       "cfHbb78Vn3zySdFkMombNm0SRZH3jfQxAAao9957TwSg+6V28uRJccqUKWJERIQYFxcnpqeni1VV\\\n",
       "VT5qtX+YMWOG7n374osvlHN43zzLyckRe/bsKYaFhYlDhw5VlukgyRdffKH7+zVjxgxRFKXlTDIy\\\n",
       "MsTExETRYrGIY8aMEQ8fPuzbRvsBT/89e++995RzeO/03X///cr/Jzt37iyOHz9eCX+iyPtG+gRR\\\n",
       "FMV2LDgSERERkY9xDCARERGRwTAAEhERERkMAyARERGRwTAAEhERERkMAyARERGRwTAAEhERERkM\\\n",
       "AyARERGRwTAAEhERERkMAyARERGRwTAAEhERERkMAyARERGRwTAAEhERERkMAyARERGRwTAAEhER\\\n",
       "ERkMAyARERGRwTAAEhERERkMAyARERGRwTAAEhERERkMAyARERGRwTAAEhERERkMAyARERGRwTAA\\\n",
       "EhERERkMAyARERGRwTAAEhERERkMAyARERGRwTAAEhERERkMAyARERGRwTAAEhERERkMAyARERGR\\\n",
       "wTAAEhERERkMAyARERGRwfx/jmD1ThQ4dcUAAAAASUVORK5CYII=\\\n",
       "\"\n",
       "  frames[2] = \"data:image/png;base64,iVBORw0KGgoAAAANSUhEUgAAAoAAAAHgCAYAAAA10dzkAAAAOXRFWHRTb2Z0d2FyZQBNYXRwbG90\\\n",
       "bGliIHZlcnNpb24zLjcuMiwgaHR0cHM6Ly9tYXRwbG90bGliLm9yZy8pXeV/AAAACXBIWXMAAA9h\\\n",
       "AAAPYQGoP6dpAABPcUlEQVR4nO3deXxU9b3/8fdMlskCGcBAFkWhiIikWqAWEaqoFRFqm+tVb7Qq\\\n",
       "/BSLSlRqbS1SS1IF3Kq2JLWgVrBeTb22Uu9FuVCtUFQUIbYEkFupLCUEUGASApls5/fHcA6zZiHL\\\n",
       "ZOa8nn3kAXPmzMyX05jzzue7OQzDMAQAAADbcEa7AQAAAOheBEAAAACbIQACAADYDAEQAADAZgiA\\\n",
       "AAAANkMABAAAsBkCIAAAgM0QAAEAAGyGAAgAAGAzBEAAAACbIQACAADYDAEQAADAZgiAAAAANkMA\\\n",
       "BAAAsBkCIAAAgM0QAAEAAGyGAAgAAGAzBEAAAACbIQACAADYDAEQAADAZgiAAAAANkMABAAAsBkC\\\n",
       "IAAAgM0QAAEAAGyGAAgAAGAzBEAAAACbIQACAADYDAEQAADAZgiAAAAANkMABAAAsBkCIAAAgM0Q\\\n",
       "AAEAAGyGAAgAAGAzBEAAAACbIQACAADYDAEQAADAZgiAAAAANkMABAAAsBkCIAAAgM0QAAEAAGyG\\\n",
       "AAgAAGAzBEAAAACbIQACAADYDAEQAADAZgiAAAAANkMABAAAsBkCIAAAgM0QAAEAAGyGAAgAAGAz\\\n",
       "BEAAAACbIQACAADYDAEQAADAZgiAAAAANkMABAAAsBkCIAAAgM0QAAEAAGwmMdoNiGXNzc2qrKxU\\\n",
       "79695XA4ot0cAADQBoZhqKamRrm5uXI67VkLIwB2QGVlpQYOHBjtZgAAgJOwe/dunXbaadFuRlQQ\\\n",
       "ADugd+/eknzfQBkZGVFuDQAAaIvq6moNHDjQuo/bkS0C4IIFC/TAAw/onnvu0dNPPy3JV/4tLi7W\\\n",
       "4sWLdejQIY0ZM0alpaUaMWJEm9/X7PbNyMggAAIAEGPsPHwr7ju+169fr8WLF+vcc88NOP7YY4/p\\\n",
       "ySefVElJidavX6/s7GxdfvnlqqmpiVJLAQAAukdcB8AjR47oe9/7np599ln17dvXOm4Yhp5++mnN\\\n",
       "mTNHV199tfLy8rR06VIdPXpUL7/8chRbDAAA0PXiOgDOnDlTU6ZM0be+9a2A459//rmqqqo0ceJE\\\n",
       "65jL5dLFF1+s999/P+L7eb1eVVdXB3wBAADEmrgdA1hWVqaNGzdq/fr1Ic9VVVVJkrKysgKOZ2Vl\\\n",
       "aefOnRHfc8GCBSouLu7chgIAAHSzuKwA7t69W/fcc49eeuklpaSkRDwvePCnYRgtDgidPXu2PB6P\\\n",
       "9bV79+5OazMAAEB3icsK4IYNG7R//36NHj3aOtbU1KQ1a9aopKRE27Ztk+SrBObk5Fjn7N+/P6Qq\\\n",
       "6M/lcsnlcnVdwwEAALpBXFYAL7vsMm3atEmffPKJ9fX1r39d3/ve9/TJJ5/oK1/5irKzs7Vq1Srr\\\n",
       "NfX19Vq9erUuvPDCKLYcAACg68VlBbB3797Ky8sLOJaenq5TTjnFOj5r1izNnz9fQ4cO1dChQzV/\\\n",
       "/nylpaXphhtuiEaTAQAAuk1cBsC2+PGPf6xjx47pzjvvtBaCXrlypa1XBQcAAPbgMAzDiHYjYlV1\\\n",
       "dbXcbrc8Hg87gQAAECO4f8fpGEAAAABERgAEAACwGQIgEAvWPy89lef7EwCADiIAArFg7VOSZ7fv\\\n",
       "TwAAOogACMSC8T+Q3AN9fwIA0EG2XQYGiCnn3+r7AgCgE1ABBAAAsBkCIOIXEycAAAiLAIj4FWni\\\n",
       "RHuDIUESABBnCICIP2ZgGzgm/MSJ9s6oZQYuACDOEAARf8zAtvtD6QcV0s73peJ+0mu3+sJh/REp\\\n",
       "pW/bZ9QyAxcAEGfYC7gD2Euwh1r/vC8EmoFt+b3Hn3BIDqdkNPkC3Q8qotZEAED0cP9mGRjEI/8l\\\n",
       "U57KO3E8KVVqOCo5EqjmAQBsjS5gxDez+3bKk9LEh31/n/y477kunNhRVFSk0tLSFs8pLS1VUVFR\\\n",
       "l3w+AAAtoQKI+Ba8gLJ/ZdCc2OH/vH/38UkuvFxUVKTi4mLr8cyZM0POKS0tVWFhYcBrAADoLlQA\\\n",
       "YU/+Ezv8l3np4Izf4PBXWFgYUgkMDn/FxcUEQABAt6ICCHsKHidohr7xPwicQNIOweHPZIa9mTNn\\\n",
       "hoQ/k/k6giAAoDswC7gDmEUUJ7qg2zec4cOHa+vWrS2eM3fuXEIgAHQx7t90AQO+0PeDitbDX6Qd\\\n",
       "QdY/r/6bFkV8WZ58M5HN8Gc+Dqd///5tazMAAB1AAATa6u2HfF3Fy++V5uVIjw6yqoczv3pUJVdn\\\n",
       "h7xkqqZqoRaqQAWSpAIVaKEWaqqmhpxbUlISdsIIAACdjQAItMX656W6wyceNxyVjh060XWc2lcz\\\n",
       "z3ep5Ec3WKfkKU/TNE2SNEMztEzLNEMzJEnTNC2gEkj4AwB0JwIg0BZrn5JkSHIEHvf8S3rrfl8Y\\\n",
       "rDukmWnLVXLrBZKkClVokU50Dbvltv6+SItUId9OJIQ/AEB3IwACbWEuG5PS5/gBMwgaUnOD34mG\\\n",
       "Zp65V8OHD5cklalMHnkC3sojj8pUJsk3MYTwBwDobgRAoC3MiSKXPSil9pWvGhhe6XsHrQkfBSoI\\\n",
       "qPxJvkqgOSZw69atre4YAgBAZyMAwh4izeBtr/NvDc1+CUm+P5PSVLopTYX/UyPJNwbQHPMnKaAS\\\n",
       "OEMzrDGA4RaLBgCgKxEAYQ/mDh9vP9S+IBgcHIMng0hSU6OU2lelnktV+Mcq63CFKrRESyT5xvzl\\\n",
       "K98aE7hES6wxgBIhEADQvVgIugNYSDKGmIs91x/xTdhwD/R16bb2mjd/JBlNJ85/ZJBUdyjk1NL1\\\n",
       "DSp881jYt8lTXkDYC37sjwkhAND1uH9TAYRdmGP4Ln3wxB7ArVn7lC/8ORJOnN/kDXvqgdqmiG9j\\\n",
       "hj1zYkik8CdJBw4caL1dAAB0EAEQ9tLWXT+kEzN/Jz8ulf9OKnJLDeGrfEUTUjX3kvSIb1VSUqIt\\\n",
       "W7aopKQk4jlsAwegJUVFRa0OFSktLeXnCNokMdoNALqd/96/UuR9gM+/1Rf8lt/rdzBoxETeNdLu\\\n",
       "DyXvERVddEhK6q/ilYFVPP9uXfPPwsLCgHMIfwDCeWndTj3z7nY1rv+9PvrjYut4uKEipaWlAT9b\\\n",
       "+JmClhAAYT/mhJC1T/kem38PVxWsLG/5vT5727c0zPH3LbptjKT/tkJguDF9wSGQ8Acgkif+d5t2\\\n",
       "rFoiz3uvWMfMnx3+P1uCw19xcbEkQiAiIwDCXtY/Lx39UpJDSs+UDu7wresXPCZw/fPS//70xOOU\\\n",
       "vmEnf6jukG+iyOTHfV3LT+WpaKxXUn/1/87ciBM6zOMHDhzgBzSAEGbl719vLw0If6bCwkL9YuU2\\\n",
       "/Xz2D+XZ8D8hvQqSLwT+/V+H9cfnnu6GFiPWMAu4A5hFFCPMLt+BY6SK10KfT0qTJj584pzP3j6+\\\n",
       "1Es7/tMwJ5a8/ZBvk5BLH2zbOEMACONrxStDKn/hpA44Xcf272rxnFjtZTBD8B0ThujGC87o1Pfm\\\n",
       "/k0FEPFo/fOBQezth3yVOs/u8Oc3HJXeeci3PIznX2pX8DMNHOMLkHXHl5gh/AFoB/+wI0meYw1K\\\n",
       "SHNHPN9cTsoMfy0tL9W/f//Ob3A3eObd7dpz+JieeXd7pwdAMAsYsSLSTh7m8dduPfG8GcSOHZKW\\\n",
       "/zB8121iWuDjY4eP7+hxkgXx3R+emDUcrju5M3YhARC3/MPOM+9ulyGpz+hv6+Jp94ecO1VTtVAL\\\n",
       "rS0lC1SghVqoqZoacu6pk2fG7Nqid0wYolP7pFqhGJ2LLuAOoITcyfxn5wZX0J7K81XwghdwNo87\\\n",
       "Ek4s2Gx2xYZ04zqkvH/3hbWASp9DJx38THnXSNdECHiR2g4AxwVXAM2/f/T5Qb38wmJ9ueo3knyV\\\n",
       "voVaaL3OI0/AfuN36S6rEnjq5Jl65MEfUT0Lg/s3AbBD+AbqZC0FpUjh0H98n1mFM59f/7y08qe+\\\n",
       "tfuciVJyL9/xukO+CmCTVxrxb75jm1+XMnJPdBObgVLyjRE0JDUebeUf4JCm/ELa+b7v/Ub8my8U\\\n",
       "thRsO6or3xtAl2rLGLchs5eryZCObPwfKwQWqCBgn3HTIi1SmcoksatQa7h/EwA7hG+gTtYVYSa4\\\n",
       "Qpja1xcE/T/DP3iO/0H4QPnoIF+XssUhpfQJ7V52DwysLrZUGezMfx/VRSDmjHvkHe05fEyn9knV\\\n",
       "ez+5NOw531m4Vn/f49G5p7r12TPf19atWyVJy7QsoPLnkUf5ypfk23Voy5YtXd7+WMb9O47HAD7z\\\n",
       "zDM699xzlZGRoYyMDI0dO1ZvvfWW9bxhGCoqKlJubq5SU1M1YcIEbd68OYotRrt26Wgrc1zeiH/z\\\n",
       "/Xnpg6Gf4T92z2zDGRcGvo+5hVxK3+MHDMnVS5rypHxdyMd5j0gOv/+sKv7gC4+PDOqaMYCRxh0C\\\n",
       "6PHaMsbty9p6SVLFn1+1wl+BCgLCnyS55bbGBG7durXVHUOAuK0A/vd//7cSEhJ05plnSpKWLl2q\\\n",
       "xx9/XOXl5RoxYoQeffRRzZs3T0uWLNFZZ52lhx9+WGvWrNG2bdvUu3fvNn0Gv0HEkeDqY6TK2mu3\\\n",
       "+kJdUqo0bLKvq9cceygd70L2G1OYlOabZSxRpQPQbi+t26mfLfiFPn/DN+6vPWMAb/7hz7X0iQe7\\\n",
       "t8Exgvt3HFcAr7rqKk2ePFlnnXWWzjrrLM2bN0+9evXSunXrZBiGnn76ac2ZM0dXX3218vLytHTp\\\n",
       "Uh09elQvv/xytJuOztDembfBu4NEqqzt/lCSIaWd4vu70eTrXh7/gxOvyft3359TnvStL5ja11c5\\\n",
       "TM+Uivv52lXczxcmO9JmAHHPs+F/rPAnSRWq0BItkeQb85evfC3SIknSEi0JWArmxV/8jEogIorb\\\n",
       "CqC/pqYm/dd//ZemTp2q8vJypaSkaMiQIdq4caNGjhxpnffd735Xffr00dKlS9v0vvwG0YO1d2xc\\\n",
       "W8cftrSPcGvvUdzvxMQSyRcc5x488dgcZ5jaV7p/R1v+lQC6SWcvStyW9wve3s1f8Lp/La0DyISQ\\\n",
       "UNy/47gCKEmbNm1Sr1695HK5dPvtt+v111/XOeeco6qqKklSVlZWwPlZWVnWc+F4vV5VV1cHfKGH\\\n",
       "au/YuLaOP/Q/L/g1wVXEYCP+zRf63AN9f5ozkE3mr2LHDoVWBwFE1RP/u017Dh/TT5dV6GvFK/XS\\\n",
       "up1tet1L63Zq3CPvBJz/0rqdmvunCu05fExz/1QR8px5/oEDByK+rxn2UgecHvA4nJbeB/YV1xXA\\\n",
       "+vp67dq1S4cPH9Yf/vAHPffcc1q9erUOHz6scePGqbKyUjk5Odb5t912m3bv3q0VK1aEfb+ioiJr\\\n",
       "g21/dv4NwpZaW5LmZGcxr39eWn6v7+/B1UEAUTX8wRU61nCigh9u5m64qp4501fyjQ7O7ZOiPYfr\\\n",
       "Al7nkOROTdJ9VwyzFoQ23z/SfUeSBn/nLjUPv0KNm97SnjfDd/XG6jZwXY0KYJwHwGDf+ta3NGTI\\\n",
       "EN1///0n1QXs9Xrl9Xqtx9XV1Ro4cKCtv4FsyexeDrekTEe9dmvgGoIAulWkrtmvFa/U4WMNkqQk\\\n",
       "p0PprkRddFZ/bdh5SKPP6KsNOw/pYK1XxxqardckOR1KTHAEHGuJQ1JigkMNTYZSk5yaM+UcSdKs\\\n",
       "Hz+gL/8aOD794mn3a0fWNyVJqUlO7f/wDR08vk6gifAXGQEwzruAgxmGIa/Xq8GDBys7O1urVq2y\\\n",
       "nquvr9fq1at14YUXRny9y+WylpUxv2Az65/3LfWS2tfXZdtSl+/JuOZ5X+WP8AdEhf+WbP7uu2KY\\\n",
       "teBTY7Ohw8ca9MbfKrXn8DHrz+Cg19BstDn8Sb4fKQ1NvprMsYZm/XRZhX66rEK9LrxB7nHXW+f1\\\n",
       "u/x2K/xJUmOTEbJtXNbFNxL+0KLEaDegqzzwwAO68sorNXDgQNXU1KisrEzvvvuuVqxYIYfDoVmz\\\n",
       "Zmn+/PkaOnSohg4dqvnz5ystLU033HBDtJuOnszcZ9h/0WjW4APiwkvrdqrW26g+qUkha/PdeMEZ\\\n",
       "euJ/t+nwsQalJCWorqGpoxtItkuf8d+TJCWkudV71LcDnmto9rXk8KBLdfMP0/XOJ59pwcM/78bW\\\n",
       "IRbFbQDct2+fbrrpJu3du1dut1vnnnuuVqxYocsvv1yS9OMf/1jHjh3TnXfeqUOHDmnMmDFauXJl\\\n",
       "m9cAhE0NHCNVV/r+NCeCAIhpZrdvrbdRh4816NQ+qWFn5ppj9O6YMMQKgyanQ2puQyJMTXK2qyro\\\n",
       "zwyBLWHdP7RV3AbA559vuQvN4XCoqKiIEjnax1z7b/eH0W4JgE5idvv2SU1qdWcO031XDNO85VtV\\\n",
       "19Ckq87L1Yadh6zJHqf2SVHl8YkewZmwsdk3vq+uoTnshJC2Bkl/qUlO9Ut3tandgMlWYwCBDmPr\\\n",
       "NSBumEuujD6jr07tk6r7rhim935yacR1+fzHB954wRna+tAkPZSfZ00ESbB2hXTo80emhH2PxiZD\\\n",
       "/dJdMqSA8NcnNUmpSU4r/CUlONQnNUkP5+dpxyNT9J3zcpXgkM491W2dm5rkVJ/UJF1+TnbnXRTY\\\n",
       "hq1mAXc2ZhEBQOwyl2gJt6RLOGZXsTnr944JQwKWbTG7hr2NzXIlOlXrbbTG55lO7ZOiOyacqWfe\\\n",
       "3a5T0pO1udKjKefm6lfXjwyYaSxJD+fn6cYLzgj7ueFmKPdJTdIncyeGbXNnLWAdL7h/UwEE2oZt\\\n",
       "2oC4c8eEIW3u8pV8E0He+8mlVnevGazM97jxgjOU7krUsYYmHT7WoMTjVTx/ew7XqfiNzao8fEyD\\\n",
       "MtO1fcEU/ep633JkF53VP+BccyayGTKX/70y7AzllkSa1QwQAIG2aG2XDwAxxwx07a2MtRQc2xIm\\\n",
       "G5oNGZL++2+VAcfX/J9vx47UpISA9zc/b8q5uWE/974rhlld2O1pK+wtbieBxLpDZWX6YvGzyvz+\\\n",
       "bepbUBDt5thP8K4eLPkC2EZr3abmMf+Zw3P/VGE95z9D2OPXpRvMkHT3K+VWt67JlejUez+51Bqj\\\n",
       "eMeEIS12Ufu3x/+x+Xe6fhEOFcAe6ovFz6qxslJfLH422k2xD/9u3uCKn7nv7873paI+0rwcuoOB\\\n",
       "ONWWblPzHMm3g0eT4dsvWDpRkXMlJrS6VqC5iPQz724PqeSZn/HE/24L2U/4ZNoM+CMA9lCZ379N\\\n",
       "ibm5yvz+bdFuSuxq77g9/9AXabbv5tclGVLDUbqDgTjVlm5T85z7rhgmd9A4P7Nr2Qx0D+fn+c0Q\\\n",
       "9s3k9Xsoh6Rab6MkBXRJm58hqdVwR1cv2otZwB3ALKIe6LVbpYo/SM5EqblRkuELcj+oaP21wd2+\\\n",
       "rb1/ci/psgdZDBqwubbMtL37lXK9cXzMn/+MYZO5AHW4rl5m8nY+7t8EwA7hG6jnOXTjqfpiS5oy\\\n",
       "zzmivmcelRwJ0uTHOz+kPZXnqxY6EqQR/+ZbGLql4AjA9sIFuZfW7QzoOibgdQ/u33QBI8588Vl/\\\n",
       "NR5N1Bdbekupfbsm/Em+sOdI8O0Ksvl1ZggDaFW4WcfPvLtdh481KN2VSPhDtyIAIq5kzvqJb+zk\\\n",
       "j38u3b+j6ypy59/qC5fugb4KILuDADgJjN1DtNAF3AGUkAEAiD3cv6kAAgAA2A4BEAAAwGYIgAAA\\\n",
       "ADZDAAQAALAZAiAAAIDNEAABAABshgAIAABgMwRAAAAAmyEAAgAA2AwBECetqKhIpaWlLZ5TWlqq\\\n",
       "oqKi7mkQAABok8RoNwA916GyMn2x+Fllfv829S0oCHiuqKhIxcXF1uOZM2eGvL60tFSFhYUBrwEA\\\n",
       "ANFHBRARfbH4WTVWVuqLxc8GHA8Of4WFhSGVwODwV1xcTAAEAKCHIAAioszv36bE3Fxlfv8261hw\\\n",
       "+DP5h8Dg8GciBAKIJy+t26lxj7yjl9btjHZTgHZzGIZhRLsRsaq6ulput1sej0cZGRnRbk6XixT+\\\n",
       "/A0fPlxbt25t8Zy5c+cSBAHEvHGPvKM9h4/p1D6peu8nl0a7OWgHu92/w6ECiDbr379/xOfylCdJ\\\n",
       "VvgzH7f3fQAgVtwxYYhO7ZOqOyYMiXZTgHYjAEKHysr0j0sv054f3qd/XHqZDpWVhT1v5syZKikp\\\n",
       "CTk+VVO1UAtVIN9EkQIVaKEWaqqmhpxbUlISdsIIAMSaGy84Q+/95FLdeMEZ0W4K0G7MAo5z5kze\\\n",
       "tJEjdbS83PrTf2avOdmjet8+qalJVQ89LEkhM38l6YZTTtH+oWfp5//4P0m+St80TZMkzdAMFahA\\\n",
       "brklSdM0TRu0QRWqkET4AwCgp6ACGMcOlZWp6qGHfeFuxYqAP/1n9pqTPTImTZISEqSmppCZv6Yv\\\n",
       "Fj+rAqdTPxt6liSpQhVapEXW82b4k6RFWtSu8GdWIiNVIAEAQOcgAMaxLxY/KzU1SQkJypg0SU63\\\n",
       "W46kJDnd7oCZvX0LCjT0nbd16i+eUPaDP1Vibq7SRo4MG8bMsDjr58UaPny4JKlMZfLIE3CeRx6V\\\n",
       "yffa4cOHt6nyF2nZGQAA0LkIgDHMrJh9fs212joiT3t+eF/Ac821tXK63cp+8Kc69RdPqLm2VkZd\\\n",
       "nZo9Hu1/6mkr3PlX3swweLS8PGwYM59/+csvrQkf/t2+Jrfc1pjArVu3trpjiBR+2RkAAND5WAam\\\n",
       "A6I9jfwfl16mxsrKEwccDg3fuiXgucTcXA19521J0tazhwe83gxbVQ89LDU1BZzb0i4g/uv85SlP\\\n",
       "C7XQes4jT0AYvEt3MQYQANCjRPv+3RNQAYxhmd+/TU73ibDlcLkCnguupiXm5ga8vnH/fu179DFf\\\n",
       "N7HDEbZb2Ax/ZpXw8VtuCVjkuUIVWqIlknxj/vKVb40JXKIlVviTwu8YAgAAuh8VwA7oCb9BWFXA\\\n",
       "hARlP/jTsDN3pRMTQtTUFPZ5R0qKzv6kvMXPeXHzZj28f1/Y5/OUFxD2gh/7oxIIAIimnnD/jjYq\\\n",
       "gDHOrPS1FP4kvwkhERiNjdY4wHDrAmZ+/zYdTkuN+Hoz7JkTQyKFP0k6cOBAa/8sAADQhQiAMS64\\\n",
       "qzaSVidWNDaqsbJS+596Wvufetq3ZMzy5dYxSSockKWZuadGfIuSkhJt2bIl7GLRJraBAwAg+giA\\\n",
       "NtG3oEAZU6ZIDoeUmChHSkrY85o9HjXX1IQcqyr+uZo9Hs3s3Vt3npIZ8rrH/t//s7p1I+0YQvgD\\\n",
       "AKBniNsAuGDBAp1//vnq3bu3BgwYoPz8fG3bti3gHMMwVFRUpNzcXKWmpmrChAnavHlzlFrcuvYs\\\n",
       "lOx/7qGyMm0bc4GOrF2r7Lk/kzM9XUZdXeQXNzfL6XafCIyS5DdUtDAzU3eecor1+KcDsvSdzVsC\\\n",
       "2hYcAgl/AAD0HHE7CWTSpEkqKCjQ+eefr8bGRs2ZM0ebNm3Sli1blJ6eLkl69NFHNW/ePC1ZskRn\\\n",
       "nXWWHn74Ya1Zs0bbtm1T7969W/2M7h5EGm5pl7acK8laLiYxN1fNtbVq9nhaerkkKbtorvY98mjE\\\n",
       "sFjyxQH1S3bphr595UhOlnHsWEjbSktLdeDAAcIfAKDHYBJIHAfAYAcOHNCAAQO0evVqXXTRRTIM\\\n",
       "Q7m5uZo1a5buv/9+SZLX61VWVpYeffRRzZgxo9X37O5voJbW5mvpXEnWOL4BP5ilo+s/VvXy5ZJ8\\\n",
       "gTBgLcGT5XDI4XLJ4XJpwA9mtdo+AACihQBoowD42WefaejQodq0aZPy8vL0z3/+U0OGDNHGjRs1\\\n",
       "cuRI67zvfve76tOnj5YuXdrqe/bUb6DWgqL/0jHOXr3aVA3053S71Xz0qNTQ4DvgcAR0ETvdbg37\\\n",
       "cF2H/g0AAHSVnnr/7k5xOwbQn2EYuvfeezV+/Hjl5eVJkqqqqiRJWVlZAedmZWVZzwXzer2qrq4O\\\n",
       "+Oop/Mf8mXvqVj30cMB4QfOctJEjfaGtqand4U9SYPgDAAAxJzHaDegOhYWF+vvf/661a9eGPOcw\\\n",
       "JzkcZxhGyDHTggULVFxc3CVt7Cgz9JmVP3PRZ3Mv3y8WP2uN/TsqyZmRcVLhT1Jo+DOME1VAh0MD\\\n",
       "fjCrQ/8WAADQteK+AnjXXXfpjTfe0F/+8heddtpp1vHs7GxJCqn27d+/P6QqaJo9e7Y8Ho/1tXv3\\\n",
       "7q5reJA9P7xPW0fkac8P7wv7vP/Wb30LCpT94E99XbW1tda6fpJvzF/ayJG+Kp4kJR7/HSBC6A0r\\\n",
       "8cTvDSl5eUrMzVXG5Mm+Bann/kyStG3MBdo25oKAxaQBAEDPELcVQMMwdNddd+n111/Xu+++q8GD\\\n",
       "Bwc8P3jwYGVnZ2vVqlXWGMD6+nqtXr1ajz76aNj3dLlccvntt9udqleskJqaVL1ihU79xRM6VFam\\\n",
       "fY8+JqOuTikjRqg+KIweXf+xVeFzut0B4fAfl152oopnGBr+6VbfVnFFftXNxESpsdF6/YAfzAqY\\\n",
       "VGJWGBsPHgyZkbxtzAXWZ5uTTaqKinV0/cdKO//rbZ7IAgAAukbcBsCZM2fq5Zdf1p/+9Cf17t3b\\\n",
       "qvS53W6lpqbK4XBo1qxZmj9/voYOHaqhQ4dq/vz5SktL0w033BDl1ofKmDRJ1StWKGPSJEm+Ll3j\\\n",
       "2DFJUl3FiW3Xvlj8rPoWFFjBy+QfuDK/f9uJ8Dh8uLaNuUBGfb0cKSnWLF6zS1kJCdas3uDA5h8I\\\n",
       "TYfKytQcYWxk9YoVOlpebnVVEwABAIiOuJ0FHGkc3wsvvKBp06ZJ8lUJi4uLtWjRIh06dEhjxoxR\\\n",
       "aWmpNVGkNdGcRWRVAI+HQH8peXkBoVBSwPp8/rOEraB3nDmDN3gZmbZW7awZxtYHJ0rNzVJzs7UG\\\n",
       "oST1Gj9eR8vLqQQCALods4DjOAB2h57wDfT5NdeGhL0QCQnKfvCnVtDyXyQ68/u3af9TTwd0Fwcv\\\n",
       "4dKeBajN4GhOOHG63b6KoP9EEb/lZ5xut5zp6QRBAEC36Qn372iL+0kg8a5u69bwTzgccqSkyOl2\\\n",
       "B4Q/KXTCyLAP1ym7aK4Sc3PDzuD1P781fQsKNPSdtzXgB7OsXUisNQLNySNNTb6HfruUmLOVAQBA\\\n",
       "16MC2AE94TeIPT+8T9UrVihl+HA1HjyotJEjdbS83KrAtaVq15UOlZVZu5BI8lUa/SqS7dndBACA\\\n",
       "ztAT7t/RRgDsgJ7wDRTc5WoGvp4YrHpimwAA9tMT7t/RRgDsgJ7wDWSOz2MsHQAAbdMT7t/RFrfL\\\n",
       "wNiFOZOX4AcAANqKSSAxytzXV5KGvvM24Q8AALQZATBG+e/9CwAA0B4EwBjVnqVZAAAA/DEJpAMY\\\n",
       "RAoAQOzh/k0FEAAAwHYIgIgqczLLobKyaDcFAADbIAAiqpjMAgBA9yMAIqqYzAIAQPcjAMaQeOwu\\\n",
       "7VtQwDqGAAB0MwJgDKG7FAAAdAYCYAyhuxQAAHQGAmAMiffu0njs4gYAoCciAKLHoIsbAIDuQQBE\\\n",
       "j0EXNwAA3YMAiB4jVrq4X932qia+NlGvbns12k0BAOCkEACBdnpu03PaW7tXz216LtpNAQDgpBAA\\\n",
       "gXaa/tXpyknP0fSvTo92UwAAOCkOwzCMaDciVlVXV8vtdsvj8SgjIyPazYmKQ2Vl+mLxs8r8/m09\\\n",
       "vusWAACJ+7dEBRAdxMxdAABiDwEQHRLNmbtMxgAA4OTQBdwBlJCja+JrE7W3dq9y0nO08pqV0W4O\\\n",
       "ACBGcP+mAogYxmQMAABODhXADuA3CAAAYg/3byqAAAAAtpMY7QYAAIDY8LdVb+qjZa8pd9jZ2vG3\\\n",
       "jZLh0Pjrb9J5l0+OdtPQTlQAAQBAm3y07DVVf7Ff2z5Yq7ojR1RXW6OPlr0W7WbhJBAAAQBAm3wj\\\n",
       "/xplZA7QsLHjldKrl1LSe+sb+ddEu1k4CUwC6QAGkQIAEHu4f1MBBAAAsB0CIAAAgM0QAAEAAGyG\\\n",
       "AAgAAGAzBEAgBr267VVNfG2iXt32arSbAgCIQXEbANesWaOrrrpKubm5cjgcWrZsWcDzhmGoqKhI\\\n",
       "ubm5Sk1N1YQJE7R58+boNBZxr6ioSKWlpS2eU1paqqKioja933ObntPe2r2a9+E8QiAQ4/626k09\\\n",
       "O/MW/W3Vm9FuCmwkbgNgbW2tzjvvPJWUlIR9/rHHHtOTTz6pkpISrV+/XtnZ2br88stVU1PTzS1F\\\n",
       "vCsqKlJxcbEKCwsjhsDS0lIVFhaquLi4TSFw+leny+lwqtlo1nObnmtzW6gcAj2PubhytBZUJoDa\\\n",
       "U9wGwCuvvFIPP/ywrr766pDnDMPQ008/rTlz5ujqq69WXl6eli5dqqNHj+rll1+OQmsRr8zwZwoX\\\n",
       "As3wZ2pLCLxu2HWaM2aOctJzNP2r09vcHrNy2J7QCKBrmYsrR2tB5WgHUERH3AbAlnz++eeqqqrS\\\n",
       "xIkTrWMul0sXX3yx3n///Si2DPEkOPyZ/ENgcPgztTUErrxmpa4bdl2b2zT9q9PbHRoBdK3zLp+s\\\n",
       "20p/G7X9dFsLoJ09hAU9Q2K0GxANVVVVkqSsrKyA41lZWdq5c2fE13m9Xnm9XutxdXV11zQQMS9S\\\n",
       "+DOZIXDr1q0RzzFf35k/VK8bdl27AiOA+Hfe5ZMjhs/gn2UzZ84MOSf4F1mCYGywZQXQ5HA4Ah4b\\\n",
       "hhFyzN+CBQvkdrutr4EDB3Z1ExGj+vfvH/G5POVJkhX+zMftfR8A6EpdNYQFPYMtA2B2drakE5VA\\\n",
       "0/79+0Oqgv5mz54tj8djfe3evbtL24nY4j/Bov+3+uvsW88OOWeqpmqhFqpABZKkAhVooRZqqqaG\\\n",
       "nFtSUhL2t20A6GpdPYQF0WfLLuDBgwcrOztbq1at0siRIyVJ9fX1Wr16tR599NGIr3O5XHK5XN3V\\\n",
       "TMSAV7e9ql9u/KUc8lWOPfUezftwnpKdyUr8ZqJyvbmqfKlSkq/SN03TJEkzNEMFKpBbbknSNE3T\\\n",
       "Bm1QhSokEf4AdL6/rXpTHy17zRrrt7bsRclwaPz1NwV0AffUISzoXHEbAI8cOaLPPvvMevz555/r\\\n",
       "k08+Ub9+/XT66adr1qxZmj9/voYOHaqhQ4dq/vz5SktL0w033BDFViOWvLrtVc37cJ6ajWZJskJg\\\n",
       "s9GsuqY6SVK/b/VThitDnz7/qSpUoUVapBmaIUlW+JOkRVpE+AMQwD+wmQEt3LG2Cp7tW3fkiHXc\\\n",
       "/71aG8JSoYqAISzmz65grQ1h+duqN7W27EXV19WpualJZ1/4TU25+8ft+jfh5DkMwzCi3Yiu8O67\\\n",
       "7+qSSy4JOT516lQtWbJEhmGouLhYixYt0qFDhzRmzBiVlpYqLy/yeKxg1dXVcrvd8ng8ysjI6Mzm\\\n",
       "owu9uu1VPbfpOU3/6vR2TYjwf52kgPAXjkMO9U7urXtG3aN7p9yrPdv3SJKWaVlA+PPIo3zlS5KG\\\n",
       "Dx+uLVu2nMS/CkA88A94ZmBL6dXL96Th+yWzrrZGGZkDdFvpb0/6vaXIFUApfPfuVE3VNE3TIi1S\\\n",
       "mcpUoALN0Awt0RIt1dKAc9vyi+yzM29R9Rf7rccOp1P3vvJGu/5NJ4v7dxwHwO7AN1BsmvjaRO2t\\\n",
       "3auc9BytvGZlq+ebwa+2oVbV9b6Z34mORDUajRFfk5KQoh+d/yNdN+y6gB+k5g/MYOYPVIkKIGBn\\\n",
       "Zigyl2X5aNlrqj92THW1vk0KUnr1UnJKWkgF0Ax3ucPOVuW2Tzulauj/sytPeVqohdZzHnkCfpG9\\\n",
       "S3e1uxcjmhVA7t8EwA7hGyg2RaoARjpuBkaHHDLU8n8uTodTWWlZ1nt09Q9QAPElUrdvuGrd8l89\\\n",
       "pm0frNWwseNVue1TVX+xXw6nU0Zzs1UhfGn2LO37p284lHmspbAYrCO/wHaku7qrcf8mAHYI30Dx\\\n",
       "IbjCF1wZDB7r1xIzJOak5+i7+77b5V0oAOzryeu/I6O5WXI4lJLWS3IYcg/I1r7PtysxOVkTbrpV\\\n",
       "f37u19b5iS6XJtx0q9W17B8WzWpjuLB2zjnnWGP+2jOExb+a2d7u6q7G/dumy8AgfrVlr9vgc8zt\\\n",
       "0RxyhN0l47ph12nSoElyOpzKSA7/g8LpcConPUdXDr5SOek5Gvj3gWGXR1iqpbpLd1m/LZepTHfp\\\n",
       "rpDwJ4VfcwuAfQXv2Tts7Hg5nE4lJiWrrrZGySlpOlZdLRmGGr1evf3b36h35omJGI1er9a+8jtr\\\n",
       "548Bg74ih9Op3GFnh0wQMT9r9l13WuHPf+UCk1tua1mrrVu3BvzMivYWd2gZARBxpS173QafY26P\\\n",
       "dveouyNurVa+v1zNRrOONBwJ+569knpp5TUr9ehFj2rlNSs10Bl5kXCzm3f48OEBj8M5cOBAxOcA\\\n",
       "2EtwSJty94917ytvaMLNt1pB6xv51/gmjTgcMpqbdeTglzp73EXS8U0O6o4e0b+2+n7mePbtk9Hc\\\n",
       "bHUD+4e1j5a9prc++EiPlDwjyTeExb/71yOP9fcZmmEtaO//i2u0t7hDywiAiCtt2es2+Jxwe+oG\\\n",
       "Vwmnf3W63MluOSP8J3PPqHsCHhcVFWnu3LkR21BSUqItW7aopKQk4jlz585lDS0AlkgVteCglZyS\\\n",
       "pqzBQyTJCnjfuvUOXwg0DH363hrf7FuHYb1f8Hv805mi18s3W59RoQot0RJJvjF/+crXIi2SJC3R\\\n",
       "koBfZOm9iA1xuw4g7CPc5A2zuheumteW/XDNKuEvN/7Seu+0pDR56j0tvs6fGd6CF1T1H9tn/hnc\\\n",
       "XUz4AxCspT17TWaVsPrL470HDocV8Na+8jtrNrEkDTpvVNhZt6WlpVblz99SLQ1YsL5MZao4/r9g\\\n",
       "5s80xjH3XFQAEfOCu3Tb0g3cGrNKWN9UbwXBfin9WmxDOOdcf46+cu1XrMe3PHhLyA/EmTNnBlQC\\\n",
       "CX8A2iJ4TKB0okqYmJwsSUpJT9d5l0/2neMInPP52ccfqvSW6/XLm/9dpbdcb73PpnXvR/xMhrDE\\\n",
       "DwIgYl5wl675eOSAkZr42kTdv+b+kIkhLU0WCV7wWZKq66u1+csT3SHmrh+Sb82/6V+dHvY9n9v0\\\n",
       "nNKmpGlA/gDl3Jij3eeG3z/aDIGEPwBtFTwmUDrRHTzhJt+4wPEFN2v5rx7Tn5/7teqOHJEz4UTH\\\n",
       "X6PXq7raGuvPt3/7Gy3/1WM6q7FGl58zNOLnMoQlPrAMTAcwjbxnM9fvczqcajaaA5Z3aWkxaP/n\\\n",
       "/Bd/Njnk0DmnnGMFwpSEFK2/cb31uozkDGs5mPGnjlf5/nKNHDBS5fvL2737CABE0tb1/H7xH99u\\\n",
       "+5seHycoSf9b8X9ateUfAU8HL08VbseQWAh/3L+pACKOmZXASYMmhUwMCa4S+lft/CuK94y6RykJ\\\n",
       "KQHva8jQ7poTlTxvk1eSNHLASDkdTh1rPCZPvUfV9dUq319uzQ6e/tXpem7Tcy0uURNOW5a2AWA/\\\n",
       "ZrXPXAR67Su/C+kSbpHDEXrMMCSHQ2ePu0grN/9fwGS2cGuTMoQldlEB7AB+g4h9rW0L9+q2V/X4\\\n",
       "+sdV11QX8T0SHYlKdCbK2+SVISNgx5DJgyfr0YseDfisjOQMpSelW4HUv7s5eDLL/Wvu15uf+36Y\\\n",
       "t3XrOgDxpbUdNcznj9Z41Oj1/UKa0quXBp03SpXbPtWRQwfV3BR568pw/BdvLioqUv/+/Vuc0FFa\\\n",
       "WqoDBw7ETPjj/k0A7BC+gWLfq9te1SMfPaKG5gaNOGWErh56teatm6dmtb7rRyQjThmhrQe3hnQ7\\\n",
       "m2MLjzYclafeo5z0HEnS3tq9cie7VdNQo2ajWe5kt7xN3pDQ+eAFD9J9DMSxSEEv3I4af1v1pta+\\\n",
       "8jvJYWh8wc067/LJ+uXN/24FQH+JLlfY4y05e9xFOm14XshnxAvu33QBA2pobpAkbf5ysx5a91CH\\\n",
       "wp8kHaw7qDlj5oR0O5vrDd496m7rObO72ZChZqNZTodThoyQ8JeTntPiOoUAYl+4SR1S+PX/Plr2\\\n",
       "mupqa1R35Ig+Wvaalv/qsYghr6m+od1t+fS9Nb6JI8c/Y23Zi9Zz4WYfI/YQAGFrHVkqxt/kwZOt\\\n",
       "sYKH6g5JUsRdRcItPD3+1PHKSc/RnDFzwo473Hd0X0i7O7rUDYCepa0LPUtS7rCzJYdDiS6XvpF/\\\n",
       "jbZ9sDbi+xpt2Me8NXVHjmj5rx6TFDmoIrYQAGFrLa3t11aTB0/W6KzRqm+ulyTVNdW1GszMCt4v\\\n",
       "N/5Se2v3WpNFzFDYN6WvFSodcmjSoEkBr2/LjicAYoNZUZPU5q3TKrd9KhmGEpOS9NGy16x9fZ2J\\\n",
       "x5d58Z/gEW6yx0n49L01+sV/fFveY0etPYSpBsYudgKBbYTbMWTrwa0h500ePFnv7XlPtQ21ajKa\\\n",
       "dOXgK1W+v9xaUmbSoEl6Z9c78jZ5deXgK/XoRY9q4msT1Xz8t2yHHBo5YGSLbTEreO5kd0iQM5/T\\\n",
       "fmn9jevDvr4tu5kA6Hn8x/lJCtidY23Zi1b4a23ixzfyr9FHy15T/bFjvm3dJN37yhsqvbVAdUeO\\\n",
       "WEu5SAr8u7nMy/E/E10uJSYlqa62NuC8lPTe8h6rldEcWj301vr2RP/0vTX6bP2Haqz36u3f/kb/\\\n",
       "2lrR4nI06FkIgLAN/25TMzxNGjRJK3asUFZalvYd3adJgyZZs3bbw1zixVw3cMWOFRqdNdr63OD1\\\n",
       "/8zzw60L6P8cgPgS3H3qvzWbDIcV/Orrjlrj+4LDVHCI9P/7+IKb9dGy13Tk8EE1N4bO/E1JT1dy\\\n",
       "SlrI2oHmpJJ67zE1NzXJnZUlz759ge3zWyPQ1NhQL4fTKaO5Wds+WCujuVlv//Y3kkQI7OGYBdwB\\\n",
       "zCKKLWYFsKsWZX5126v65cZfqqa+xloGxsQSLgCk8BXAxsZ6JSYlWeGt+ov9SknvreTU1LDVtHCz\\\n",
       "goM/490Xn1djvW9SSGKyS4nJSZLh0Pjrb2oxmJnvbYY6Z0KitYSMOT7RPyiefeE3JUnbPlirAYO+\\\n",
       "ov07/imjuTli23oK7t8EwA7hGyg2tbb2X3v4dyubFcaM5AwdaThidQlLLOECoG1a6/ptyzmlt1wf\\\n",
       "ULk7e9xFmnL3j9v02uDdRcxKZPD7+PMPpGbXdE/vBub+TQDsEL6BYlO4sYAnyz9MBnfdPr7+8YBx\\\n",
       "gl3x+QAQzBoHeJzD6dRlt9yu8y6f3Gr1MNjfVr2pt3/7m4CqXnBIbG0rup6I+zcBsEP4BkJLYS7S\\\n",
       "c+NfGS9PvUfuZLfWXh956QYAOBl/W/Wm3v3d84HrAjocSklPt3YHaU9YC64amiHS1NO7e8Ph/k0A\\\n",
       "7BC+gdCSSF3N5790vuqa6pSSkBJxli8AdERwFdCU0quXZj5f1qH39q8K+lcXYwn3b9YBRJzqCTtl\\\n",
       "TP/qdGUkZ+how1G9uu1Vq00mV4Iram0DEOeME2v/ORMST6wFaHR8TcDzLp+sy265XRmZA2Iy/MGH\\\n",
       "CmAH8BtEz/Tqtlc178N5IXvxRoNZBXQ6nOqd1Nvq+k1LSmMMIIAu87dVb+rPzz8jGYZSevWyZhj7\\\n",
       "L/sSC5M1ugr3byqAiEPPbXrO2lc32mvpTf/qdDkdTjUbzTJkKCc9R3ePujviNnEA0FlS0nop0eWy\\\n",
       "qn7+u4yc7HZu7PwRPwiAiDvmNmlzxsyJesi6bth1mjNmjnLSc3TPqHsIfgC6xUfLXlNdbY2aGhpU\\\n",
       "V1sTEvQi7TvclvdlH+D4QBdwB1BC7jlYWgUATgheqqWzunqDu45jtSuZ+zcBsEP4Buo5OnNxZwBA\\\n",
       "27R3XcGegvs3XcCIcebM2pEDRlqLMUezHfevuT/qs48BoLucbFcyoo8KYAfwG0T09ZTKn9kOU7Tb\\\n",
       "AwCIjPs3FUDEOHPCR0+Z7SupR8w+BgCgJQRAxLTrhl3XqTNrT3YBaf/ZvtGcfdwTFsAGAPR8dAF3\\\n",
       "ACXk+NNTupRPVqy3HwC6A/dvKoBAgJ7SpXyyYr39AIDuQQWwA/gNAgBiS6yuW2da/qvHtO2DtRo2\\\n",
       "drym3P3jaDcnZnH/pgIIALCRWN/JYtsHa2U0N2vbB2uj3RTEOAIgAMA2Yn3dumFjx8vhdGrY2PHR\\\n",
       "bgpiHF3AHUAJGQCA2MP9mwqgfv3rX2vw4MFKSUnR6NGj9de//jXaTQIAAOhStg6Av//97zVr1izN\\\n",
       "mTNH5eXl+uY3v6krr7xSu3btinbTAAAAuoytu4DHjBmjUaNG6ZlnnrGODR8+XPn5+VqwYEGrr6eE\\\n",
       "DABA7OH+beMKYH19vTZs2KCJEycGHJ84caLef//9KLUKAACg6yVGuwHR8sUXX6ipqUlZWVkBx7Oy\\\n",
       "slRVVRX2NV6vV16v13pcXV3dpW0EAADoCratAJocDkfAY8MwQo6ZFixYILfbbX0NHDiwO5oIAADQ\\\n",
       "qWwbADMzM5WQkBBS7du/f39IVdA0e/ZseTwe62v37t3d0VQAAIBOZdsAmJycrNGjR2vVqlUBx1et\\\n",
       "WqULL7ww7GtcLpcyMjICvgAAAGKNbccAStK9996rm266SV//+tc1duxYLV68WLt27dLtt98e7aYB\\\n",
       "AAB0GVsHwP/4j//Ql19+qZ///Ofau3ev8vLy9Oabb+qMM86IdtMAAAC6jK3XAewo1hECACD2cP+2\\\n",
       "8RhAAAAAuyIAAgAA2AwBEAAAwGYIgAAAADZDAAQAALAZAiAAAIDNEAABAABshgAIAABgMwRAAAAA\\\n",
       "myEAAgAA2AwBEAAAwGYIgAAAADZDAAQAALAZAiAAAIDNEAABAABshgAIAABgMwRAAAAAmyEAAgAA\\\n",
       "2AwBEAAAwGYIgAAAADZDAAQAALAZAiAAAIDNEAABAABshgAIAABgMwRAAAAAmyEAAgAA2AwBEAAA\\\n",
       "wGYIgAAAADZDAAQAALAZAiAAAIDNEAABAABshgAIAABgMwRAAAAAmyEAAgAA2AwBEAAAwGYIgAAA\\\n",
       "ADZDAAQAALAZAiAAAIDNEAABAABsJi4D4Lx583ThhRcqLS1Nffr0CXvOrl27dNVVVyk9PV2ZmZm6\\\n",
       "++67VV9f370NBQAAiILEaDegK9TX1+vaa6/V2LFj9fzzz4c839TUpClTpqh///5au3atvvzyS02d\\\n",
       "OlWGYWjhwoVRaDEAAED3icsAWFxcLElasmRJ2OdXrlypLVu2aPfu3crNzZUk/eIXv9C0adM0b948\\\n",
       "ZWRkdFdTAQAAul1cdgG35oMPPlBeXp4V/iTpiiuukNfr1YYNGyK+zuv1qrq6OuALAAAg1tgyAFZV\\\n",
       "VSkrKyvgWN++fZWcnKyqqqqIr1uwYIHcbrf1NXDgwK5uKgAAQKeLmQBYVFQkh8PR4tfHH3/c5vdz\\\n",
       "OBwhxwzDCHvcNHv2bHk8Hutr9+7dJ/VvAQAAiKaYGQNYWFiogoKCFs8ZNGhQm94rOztbH374YcCx\\\n",
       "Q4cOqaGhIaQy6M/lcsnlcrXpMwAAAHqqmAmAmZmZyszM7JT3Gjt2rObNm6e9e/cqJydHkm9iiMvl\\\n",
       "0ujRozvlMwAAAHqqmAmA7bFr1y4dPHhQu3btUlNTkz755BNJ0plnnqlevXpp4sSJOuecc3TTTTfp\\\n",
       "8ccf18GDB3XffffptttuYwYwAACIe3EZAH/2s59p6dKl1uORI0dKkv7yl79owoQJSkhI0PLly3Xn\\\n",
       "nXdq3LhxSk1N1Q033KAnnngiWk0GAADoNg7DMIxoNyJWVVdXy+12y+PxUDkEACBGcP+OoVnAAAAA\\\n",
       "6BwEQAAAAJshAAIAANgMARAAAMBmCIAAAAA2QwAEAACwGQIgAACAzRAAAQAAbIYACAAAYDMEQAAA\\\n",
       "AJshAAIAANgMARAAAMBmCIAAAAA2QwAEAACwGQIgAACAzRAAAQAAbIYACAAAYDMEQAAAAJshAAIA\\\n",
       "ANgMARAAAMBmCIAAAAA2QwAEAACwGQIgAACAzRAAAQAAbIYACAAAYDMEQAAAAJshAAIAANgMARAA\\\n",
       "AMBmCIAAAAA2QwAEAACwGQIgAACAzRAAAQAAbIYACAAAYDMEQAAAAJshAAIAAFWs2aMXH3hPFWv2\\\n",
       "RLsp6AYEQAAAoI0rdqjmoFcbV+yIdlPQDQiAAABAoyYNUu9+Lo2aNCjaTUE3SIx2AwAAQPTlXXSq\\\n",
       "8i46NdrNQDeJuwrgjh07dOutt2rw4MFKTU3VkCFDNHfuXNXX1wect2vXLl111VVKT09XZmam7r77\\\n",
       "7pBzAAAA4lHcVQA//fRTNTc3a9GiRTrzzDNVUVGh2267TbW1tXriiSckSU1NTZoyZYr69++vtWvX\\\n",
       "6ssvv9TUqVNlGIYWLlwY5X8BAABA13IYhmFEuxFd7fHHH9czzzyjf/7zn5Kkt956S9/+9re1e/du\\\n",
       "5ebmSpLKyso0bdo07d+/XxkZGW163+rqarndbnk8nja/BgAARBf37zjsAg7H4/GoX79+1uMPPvhA\\\n",
       "eXl5VviTpCuuuEJer1cbNmyI+D5er1fV1dUBXwAAALEm7gPg9u3btXDhQt1+++3WsaqqKmVlZQWc\\\n",
       "17dvXyUnJ6uqqiriey1YsEBut9v6GjhwYJe1GwAAoKvETAAsKiqSw+Fo8evjjz8OeE1lZaUmTZqk\\\n",
       "a6+9VtOnTw94zuFwhHyGYRhhj5tmz54tj8djfe3evbtz/nEAAADdKGYmgRQWFqqgoKDFcwYNGmT9\\\n",
       "vbKyUpdcconGjh2rxYsXB5yXnZ2tDz/8MODYoUOH1NDQEFIZ9OdyueRyudrfeAAAgB4kZgJgZmam\\\n",
       "MjMz23Tunj17dMkll2j06NF64YUX5HQGFjrHjh2refPmae/evcrJyZEkrVy5Ui6XS6NHj+70tgMA\\\n",
       "APQkcTcLuLKyUhdffLFOP/10vfjii0pISLCey87OluRbBuZrX/uasrKy9Pjjj+vgwYOaNm2a8vPz\\\n",
       "27UMDLOIAACIPdy/Y6gC2FYrV67UZ599ps8++0ynnXZawHNm1k1ISNDy5ct15513aty4cUpNTdUN\\\n",
       "N9xgrRMIAAA6pmLNHm1csUOjJg1ih5EeKO4qgN2J3yAAAAjvxQfeU81Br3r3c+nm+eOi3ZwA3L9j\\\n",
       "aBYwAACIHaMmDVLvfi6NmjQo2k1BGHHXBQwAAKIv76JT6frtwagAAgCANikqKlJpaWmL55SWlqqo\\\n",
       "qCjkeMWaPXrxgfdUsWZPF7UO7UEFEAAAtKqoqEjFxcXW45kzZ4acU1paqsLCwoDXmDau2KGag15t\\\n",
       "XLGDymAPQAAEAACWcLN3g8OfGfL8Q2Bw+DPPv+bS27RxxQ5lD+kj6TBjAnsIAiAAADYWHPiCK3XB\\\n",
       "4c/kHwKDw5+puLhYf3t7l7414kZJh3vcbGA7YwwgAAAxoivG0fkHPilw9m6k8GcqLCzUOeecEzb8\\\n",
       "mZatfUFvblh6vAKInoIKIAAAMSK4OmdW77KH9FHV9sNWFa8tizD7v9a/a9Z/9u7qTf0jtiVPeapQ\\\n",
       "hbZu3RrwOJx0l1ufbdin3KF9GP/XQ1ABBAAgRpjVuewhffTiA+9p3bLtqjno1T8+3qeag16tfnmb\\\n",
       "Vj6/2QqKa8q2RawWmudUbT/RNRtcXZw5c6ZKSkpCXjtVU7VQC1WgAklSgQq0UAs1VVNDzn1g1sOa\\\n",
       "cG6+jGa12B50LwIgAAAxIu+iU3Xz/HHatflL1Rz0qqmxWb37uZSYdOJ2/o+P96m+rklySEazrK5d\\\n",
       "fxVr9qi+rkmutESr8hfcFWwKDoF5ytM0TZMkzdAMLdMyzdAMSdI0TVOe8qxzS0pKNO+pObqoYJjV\\\n",
       "nnXLtnfOxUCHEAABAIgB4cb/JSQ6dfP8cRp3zVAlJh+/pRuS92ijEhOdEXfi2Lhih7xHG5WckmB1\\\n",
       "yba0c4d/CKxQhRZpkfWcW27r74u0yOoGLikpsWYJ5110qlypvlFn3mONVAF7APYC7gD2EgQAe2rL\\\n",
       "GLvOZu6t60o7MXz/gvwh1udXrNmjNWXbZDSfeM3FNwwL276Tbf8555xjjflbpmUB4c8jj/KVL0ka\\\n",
       "Pny4tmzZEvBZ2UP66LMN+2Q0K+r7A3P/pgIIAEC7Reou7UpmhU5SSPUuXPiTZI0J9Hey4a+0tNQK\\\n",
       "fwUqCAh/kq8SaI4J3Lp1q7VjiP9YwzNHZ8nhFDOCewACIAAA7dRSd2lXMcf/XZA/JOSzN67YERL+\\\n",
       "TP9Yv88KgWZQbG949V/nL0951pg/yVf5M83QDGsMYGFhoUpLSwMmrpgVwKrth9v82egaLAMDAEA7\\\n",
       "+S+V0hM+e9SkQVY36+efHFBjQ2Aa/MfH+zTx1hFWUHQ4ZQXIcBXBijV7rMkanxt/1fynf2q9V4Uq\\\n",
       "tERLNE3TtEiLVKYyFahAMzRDS7QkYCmYwsJC3TRxu2687lYr/Pl/NqKHMYAdwBgCAEBPY44VDMeZ\\\n",
       "4FCSKyFg7KB5vv+4PPPY6opl+q/3FoZ9r+B1/1paB/Da8Xfp4hH5cjiliwrCj0vsTty/6QIGACBm\\\n",
       "tGUnkFGTBgUsC+OvuelEzcd8n+DubHOJmMQkp+qaaiK35XjY+8oZQwMeh3O0vlq9+7l05ugsbVyx\\\n",
       "g1nAPQABEACAGNHS5BMzHEpSgl8AdDodcjhafp/6uiatW7bd6vr1Hm1UQpJTb3zwgvLH/7+I7bl2\\\n",
       "3F2698rf6IFZD0c858rRN+uRx+fp5vnjVLX9cLdPnkF4BEAAAGJES5NPzF1B/vr7/5P3aKN1vLnZ\\\n",
       "kDnYy+GUTh9xilXhM4Of92ijvEcbwwazO6b9UJO/fnPI8WvH3aWL8/IlQzrNe6GuHXdXyDmTv36z\\\n",
       "Zt3x44C1Bl1piaqvawqoAnbFHsdoGQEQAIAYYc4EbmkMnX83b7AzR2dp1+Yv5T3aqMaGZisoutIS\\\n",
       "rV1BTh9xiuSQ6o81qvT2d/SP9fs0efRUXXXBNOt9rPAnX4WxudnQxXn5ASFw7ty5Wr5+qSbeOiKg\\\n",
       "/ckpCSFhMxrL6tgds4ABAIgDF+QP0cYVO5TSO1kHdtUoMcmpxvqg2cDr94W8rqmhWYO/1l9V2w+r\\\n",
       "8h+HrXOCY+QV592kxoZm9UpxW+FPkpoNIyAESlLm0EQVFRWFbac5Y9m/ihnuGLoWs4A7gFlEAICe\\\n",
       "qKWZwJ3NDH+JSU41NTXrzNFZAVW/noj7NxVAAADiQsWaPXrvv/6hxsZm9T+9t2oOeUPLeO3gcMga\\\n",
       "O+hMcKi5yRfyGhua5XAef86QklISlJyS0K3b4qHjCIAAAMS44K3gDuyKvHxLa8z9gxfd9a61oPQ3\\\n",
       "/+OsgHD33L1rfOMHHYH7ESN2EAABAIhxIVvBnWTlb+j5WVaYSzhe7XOlJQbsELJxxQ41HQ+GrtRE\\\n",
       "wl+MYhYwAAAxzlwe5uIbhsmVdnK1HVdaYsDYPXPP4Qvyh1jHzNm6CUnOkOcQW6gAAgAQ4/z3Bzb3\\\n",
       "8G0Ph1MhYa6lPYcZ7xf7CIAAAMSRC/KH6K+//7+A9QAdjuO7gxiyxvVJvi7fqu2HlT2kj7UGX0vB\\\n",
       "LlwoRGwiAAIAEEeCQ5q5JExqryTdPH+cVj6/WZ9t2Gct1+I/gWTjih0EPJsgAAIAEMeCF1meeOuI\\\n",
       "gLF+/hNIsof0Cfse5uSP9nT9nsxr0H2YBAIAQBxrbfu4UZMGyXE8DVRtPxz2nJPZqo3t3Xo2KoAA\\\n",
       "ANiYGQz9q4QVa/ZYk0lOH3GK6uuarL2C24rt3Xo2toLrALaSAQDEI/+t5BxOyWiWevdz6eb549r9\\\n",
       "Xj2xK5j7N13AAAAgyKhJg+RKS5QrLVFnjs5S736uk67k0RXcM9EFDAAAAgTPJDareOZz7UFXcM9E\\\n",
       "AAQAAC1at2y7vEcbtfqVbZLaFwJZO7BnogsYAAC0jRF+p5GKNXv04gPvqWLNnig0CieDAAgAAFp0\\\n",
       "Qf4QyXHicXDgY5xf7InLAPid73xHp59+ulJSUpSTk6ObbrpJlZWVAefs2rVLV111ldLT05WZmam7\\\n",
       "775b9fX1UWoxAAA9V95Fp+ri64epdz+XLsgfEhL4Rk0a1KGJIuh+cTkG8JJLLtEDDzygnJwc7dmz\\\n",
       "R/fdd5+uueYavf/++5KkpqYmTZkyRf3799fatWv15ZdfaurUqTIMQwsXLoxy6wEA8aInLoFysoLH\\\n",
       "8vlP7GCcX+yxxTqAb7zxhvLz8+X1epWUlKS33npL3/72t7V7927l5uZKksrKyjRt2jTt37+/zWsC\\\n",
       "sY4QAKAl5np6J7uGHroG9+847QL2d/DgQf3nf/6nLrzwQiUlJUmSPvjgA+Xl5VnhT5KuuOIKeb1e\\\n",
       "bdiwIeJ7eb1eVVdXB3wBABAJXaPoqeI2AN5///1KT0/XKaecol27dulPf/qT9VxVVZWysrICzu/b\\\n",
       "t6+Sk5NVVVUV8T0XLFggt9ttfQ0cOLDL2g8AiH2t7cMLREvMBMCioiI5HI4Wvz7++GPr/B/96Ecq\\\n",
       "Ly/XypUrlZCQoJtvvln+vd0OhyPkMwzDCHvcNHv2bHk8Hutr9+7dnfuPBADYXrglVVhmBZ0tZiaB\\\n",
       "FBYWqqCgoMVzBg0aZP09MzNTmZmZOuusszR8+HANHDhQ69at09ixY5Wdna0PP/ww4LWHDh1SQ0ND\\\n",
       "SGXQn8vlksvl6tC/AwCAlvjPsDUrh+GOAR0RMwHQDHQnw6z8eb2+ja3Hjh2refPmae/evcrJyZEk\\\n",
       "rVy5Ui6XS6NHj+6cBgMAcBLCbZ3GdmrobHE3C/ijjz7SRx99pPHjx6tv37765z//qZ/97Gfau3ev\\\n",
       "Nm/eLJfLpaamJn3ta19TVlaWHn/8cR08eFDTpk1Tfn5+u5aBYRYRAACxh/t3DI0BbKvU1FT98Y9/\\\n",
       "1GWXXaZhw4bplltuUV5enlavXm113yYkJGj58uVKSUnRuHHjdN111yk/P19PPPFElFsPAADQ9eKu\\\n",
       "Atid+A0CAIDYw/07DiuAAAAAaBkBEAAAwGYIgAAAADZDAAQAALAZAiAAAIDNEAABAABshgAIAABg\\\n",
       "MwRAAAAAmyEAAgAA2AwBEAAAwGYIgAAAADaTGO0GxDJzG+Xq6uootwQAALSVed827+N2RADsgJqa\\\n",
       "GknSwIEDo9wSAADQXjU1NXK73dFuRlQ4DDvH3w5qbm5WZWWlevfuLYfD0eWfV11drYEDB2r37t3K\\\n",
       "yMjo8s+LN1y/juH6dQzXr2O4fiePaxfKMAzV1NQoNzdXTqc9R8NRAewAp9Op0047rds/NyMjg/+I\\\n",
       "O4Dr1zFcv47h+nUM1+/kce0C2bXyZ7Jn7AUAALAxAiAAAIDNEABjiMvl0ty5c+VyuaLdlJjE9esY\\\n",
       "rl/HcP06hut38rh2CIdJIAAAADZDBRAAAMBmCIAAAAA2QwAEAACwGQIgAACAzRAAY8COHTt06623\\\n",
       "avDgwUpNTdWQIUM0d+5c1dfXB5y3a9cuXXXVVUpPT1dmZqbuvvvukHPsat68ebrwwguVlpamPn36\\\n",
       "hD2H6xfZr3/9aw0ePFgpKSkaPXq0/vrXv0a7ST3SmjVrdNVVVyk3N1cOh0PLli0LeN4wDBUVFSk3\\\n",
       "N1epqamaMGGCNm/eHJ3G9kALFizQ+eefr969e2vAgAHKz8/Xtm3bAs7hGkb2zDPP6Nxzz7UWfB47\\\n",
       "dqzeeust63muHfwRAGPAp59+qubmZi1atEibN2/WU089pd/85jd64IEHrHOampo0ZcoU1dbWau3a\\\n",
       "tSorK9Mf/vAH/fCHP4xiy3uO+vp6XXvttbrjjjvCPs/1i+z3v/+9Zs2apTlz5qi8vFzf/OY3deWV\\\n",
       "V2rXrl3RblqPU1tbq/POO08lJSVhn3/sscf05JNPqqSkROvXr1d2drYuv/xya19xu1u9erVmzpyp\\\n",
       "devWadWqVWpsbNTEiRNVW1trncM1jOy0007TI488oo8//lgff/yxLr30Un33u9+1Qh7XDgEMxKTH\\\n",
       "HnvMGDx4sPX4zTffNJxOp7Fnzx7r2CuvvGK4XC7D4/FEo4k90gsvvGC43e6Q41y/yL7xjW8Yt99+\\\n",
       "e8Cxs88+2/jJT34SpRbFBknG66+/bj1ubm42srOzjUceecQ6VldXZ7jdbuM3v/lNFFrY8+3fv9+Q\\\n",
       "ZKxevdowDK7hyejbt6/x3HPPce0QggpgjPJ4POrXr5/1+IMPPlBeXp5yc3OtY1dccYW8Xq82bNgQ\\\n",
       "jSbGFK5fePX19dqwYYMmTpwYcHzixIl6//33o9Sq2PT555+rqqoq4Fq6XC5dfPHFXMsIPB6PJFk/\\\n",
       "67iGbdfU1KSysjLV1tZq7NixXDuEIADGoO3bt2vhwoW6/fbbrWNVVVXKysoKOK9v375KTk5WVVVV\\\n",
       "dzcx5nD9wvviiy/U1NQUcm2ysrJsfV1Ohnm9uJZtYxiG7r33Xo0fP155eXmSuIZtsWnTJvXq1Usu\\\n",
       "l0u33367Xn/9dZ1zzjlcO4QgAEZRUVGRHA5Hi18ff/xxwGsqKys1adIkXXvttZo+fXrAcw6HI+Qz\\\n",
       "DMMIezwenMz1a4ndrl97BF8DrsvJ41q2TWFhof7+97/rlVdeCXmOaxjZsGHD9Mknn2jdunW64447\\\n",
       "NHXqVG3ZssV6nmsHU2K0G2BnhYWFKigoaPGcQYMGWX+vrKzUJZdcorFjx2rx4sUB52VnZ+vDDz8M\\\n",
       "OHbo0CE1NDSE/MYXL9p7/Vpix+vXFpmZmUpISAipEOzfv9/W1+VkZGdnS/JVsXJycqzjXMtQd911\\\n",
       "l9544w2tWbNGp512mnWca9i65ORknXnmmZKkr3/961q/fr1++ctf6v7775fEtcMJVACjKDMzU2ef\\\n",
       "fXaLXykpKZKkPXv2aMKECRo1apReeOEFOZ2B/9eNHTtWFRUV2rt3r3Vs5cqVcrlcGj16dLf+u7pL\\\n",
       "e65fa+x4/doiOTlZo0eP1qpVqwKOr1q1ShdeeGGUWhWbBg8erOzs7IBrWV9fr9WrV3MtjzMMQ4WF\\\n",
       "hfrjH/+od955R4MHDw54nmvYfoZhyOv1cu0QKmrTT9Bme/bsMc4880zj0ksvNf71r38Ze/futb5M\\\n",
       "jY2NRl5ennHZZZcZGzduNP785z8bp512mlFYWBjFlvccO3fuNMrLy43i4mKjV69eRnl5uVFeXm7U\\\n",
       "1NQYhsH1a0lZWZmRlJRkPP/888aWLVuMWbNmGenp6caOHTui3bQep6amxvrekmQ8+eSTRnl5ubFz\\\n",
       "507DMAzjkUceMdxut/HHP/7R2LRpk3H99dcbOTk5RnV1dZRb3jPccccdhtvtNt59992An3NHjx61\\\n",
       "zuEaRjZ79mxjzZo1xueff278/e9/Nx544AHD6XQaK1euNAyDa4dABMAY8MILLxiSwn7527lzpzFl\\\n",
       "yhQjNTXV6Nevn1FYWGjU1dVFqdU9y9SpU8Nev7/85S/WOVy/yEpLS40zzjjDSE5ONkaNGmUty4FA\\\n",
       "f/nLX8J+n02dOtUwDN8yJnPnzjWys7MNl8tlXHTRRcamTZui2+geJNLPuRdeeME6h2sY2S233GL9\\\n",
       "d9q/f3/jsssus8KfYXDtEMhhGIbRjQVHAAAARBljAAEAAGyGAAgAAGAzBEAAAACbIQACAADYDAEQ\\\n",
       "AADAZgiAAAAANkMABAAAsBkCIAAAgM0QAAEAAGyGAAgAAGAzBEAAAACbIQACAADYDAEQAADAZgiA\\\n",
       "AAAANkMABAAAsBkCIAAAgM0QAAEAAGyGAAgAAGAzBEAAAACbIQACAADYDAEQAADAZgiAAAAANkMA\\\n",
       "BAAAsBkCIAAAgM0QAAEAAGyGAAgAAGAzBEAAAACbIQACAADYDAEQAADAZgiAAAAANkMABAAAsJn/\\\n",
       "D+4oRwWv+PAaAAAAAElFTkSuQmCC\\\n",
       "\"\n",
       "  frames[3] = \"data:image/png;base64,iVBORw0KGgoAAAANSUhEUgAAAoAAAAHgCAYAAAA10dzkAAAAOXRFWHRTb2Z0d2FyZQBNYXRwbG90\\\n",
       "bGliIHZlcnNpb24zLjcuMiwgaHR0cHM6Ly9tYXRwbG90bGliLm9yZy8pXeV/AAAACXBIWXMAAA9h\\\n",
       "AAAPYQGoP6dpAAA/90lEQVR4nO3de3iU9Z3//9eEwCQcMgQDCZFUWKQYGmUBTwEqCCWi1JrdL7qp\\\n",
       "rYZVKGqCxcMW0W+bSVsI4KlrkioIBbzcGllU2usL8oPVAsUjRyWAXJZyWkIES5xEhAkk9++PcW5m\\\n",
       "kpmQ8xzu56PXXGTu+57JJ3fj3K+8P4fbZhiGIQAAAFhGTKgbAAAAgM5FAAQAALAYAiAAAIDFEAAB\\\n",
       "AAAshgAIAABgMQRAAAAAiyEAAgAAWAwBEAAAwGIIgAAAABZDAAQAALAYAiAAAIDFEAABAAAshgAI\\\n",
       "AABgMQRAAAAAiyEAAgAAWAwBEAAAwGIIgAAAABZDAAQAALAYAiAAAIDFEAABAAAshgAIAABgMQRA\\\n",
       "AAAAiyEAAgAAWAwBEAAAwGIIgAAAABZDAAQAALAYAiAAAIDFEAABAAAshgAIAABgMQRAAAAAiyEA\\\n",
       "AgAAWAwBEAAAwGIIgAAAABZDAAQAALAYAiAAAIDFEAABAAAshgAIAABgMQRAAAAAiyEAAgAAWAwB\\\n",
       "EAAAwGIIgAAAABZDAAQAALAYAiAAAIDFEAABAAAshgAIAABgMQRAAAAAiyEAAgAAWAwBEAAAwGII\\\n",
       "gAAAABZDAAQAALAYAiAAAIDFEAABAAAshgAIAABgMQRAAAAAiyEAAgAAWAwBEAAAwGJiQ92ASFZf\\\n",
       "X6+Kigr16tVLNpst1M0BAADNYBiGampqlJqaqpgYa9bCCIBtUFFRobS0tFA3AwAAtMKxY8c0YMCA\\\n",
       "UDcjJAiAbdCrVy9Jnl+ghISEELcGAAA0R3V1tdLS0szruBVZIgAWFRXpySef1M9//nP97ne/k+Qp\\\n",
       "/xYWFmrJkiWqqqrSDTfcoNLSUn3ve99r9vt6u30TEhIIgAAARBgrD9+K+o7vbdu2acmSJbrmmmv8\\\n",
       "ti9atEjPPfecSkpKtG3bNqWkpGjSpEmqqakJUUsBAAA6R1QHwK+//lo/+clP9PLLLysxMdHcbhiG\\\n",
       "fve73+mpp57Sv/7rvyojI0MrV67UN998oz/+8Y8hbDEAAEDHi+oAmJeXpylTpugHP/iB3/ZDhw6p\\\n",
       "srJSWVlZ5ja73a5x48bp/fffD/p+brdb1dXVfg8AAIBIE7VjAMvKyrRz505t27at0b7KykpJUnJy\\\n",
       "st/25ORkHTlyJOh7FhUVqbCwsH0bCgAA0MmisgJ47Ngx/fznP9err76quLi4oMc1HPxpGEaTA0Ln\\\n",
       "zp0rl8tlPo4dO9ZubQYAAOgsUVkB3LFjh06ePKlRo0aZ2+rq6rRlyxaVlJTowIEDkjyVwP79+5vH\\\n",
       "nDx5slFV0Jfdbpfdbu+4hgMAAHSCqKwATpw4UXv27NHu3bvNx7XXXquf/OQn2r17t/7pn/5JKSkp\\\n",
       "2rhxo/ma2tpabd68WaNHjw5hywEAADpeVFYAe/XqpYyMDL9tPXr00GWXXWZunz17tubPn68hQ4Zo\\\n",
       "yJAhmj9/vrp376677747FE0GAADoNFEZAJvjF7/4hc6ePauHHnrIXAh6w4YNll4VHAAAWIPNMAwj\\\n",
       "1I2IVNXV1XI4HHK5XNwJBACACMH1O0rHAAIAACA4AiAAAIDFEACBSLBtmfR8hudfAADaiAAIRIKt\\\n",
       "z0uuY55/AQBoIwIgEAnGPiI50jz/AgDQRpZdBgaIKNfd73kAANAOqAACAABYDAEQAADAYgiAAAAA\\\n",
       "FkMABAAAsBgCIKxh2zJpwUBp4UDW0gMAWB4BENaw9XnpXJV0tkpa+6jkdHgWVpZYZBkAYDkEQFjD\\\n",
       "2EekuET/ba5jntDHIssAAIshAMIarrtfeuKwlDHVf/vW5ztkkWWn06nS0tImjyktLZXT6Wy37wkA\\\n",
       "QHOxEDSsZeoyz8Nb+Rv7SLsvsux0OlVYWGg+z8vLa3RMaWmp8vPz/V4DAEBnIQDCmgKFvm3LpHd/\\\n",
       "IxmSJv6yVaGwYfjzhjzfENgw/HmPJwQCADoLXcCA19bnPZNEzlW1ajxgw/DnlZ+fb3YHNwx/XoWF\\\n",
       "hQRAAECnIQACXmMfkeITPZNFWjgeMFj488rPz9ewYcMChj8vQiAAoLPQBQx4tWEsYN++fYPuy1CG\\\n",
       "ylWu/fv3+z1v6fsAANBeqAAC7SAvL08lJSWNtucqV8UqVo5yJEk5ylGxipWr3EbHlpSUBJwwAgBA\\\n",
       "e7MZhmGEuhGRqrq6Wg6HQy6XSwkJCaFuDsKA7xi/DGWoWMXmPpdccshhPp+lWWYlkPAHAJ2H6zcV\\\n",
       "QKBd+VYCy1WuxVps7vMNf4u1mPAHAAgZAiDQGk3cPi4vL0/p6emSpDKVySWX336XXCpTmSQpPT2d\\\n",
       "8AcA6HQEQKA1vLePW/uo9Nv+fkGwtLTUnPCRoxy/yp/kqQR6xwTu37//kncMAQCgvTELGGipbcsk\\\n",
       "1/9efH7hG+ntOdLW51V6Yrjyn/6jJM8YwJmaaR7mOwZwpmaq/Nv/BVosGgCAjkQFEGipd38jz+1C\\\n",
       "fNSfV+nGg2b4kzxjAFdohSTPmL9sZZtjAldohd9SML6LRQMA0NGoAAItFWDefOm2OuW/fa7R9pVa\\\n",
       "qR3aYYa9MpWZlb+GqAQCADoLFUCgpfoM9H+eOkKnUicEPdwb9rwTQ4ItAi1Jp06danPzAAC4FAIg\\\n",
       "0BKr75cqdvlv+9kmOV/+swoKCoK+rKSkRPv27Qu4WLRXQUEBt4IDAHQKAiDQXNuWSeWr/bfFdje/\\\n",
       "dDqdAUOg7zp/we4YQvgDcClOp/OSY4VLS0v5LEGzMAYQ1rZtmWdJl7GPNH0f4NX3Nw5/8YnShF/6\\\n",
       "bfJ+8BYWFkoKvMiz97l3zB/hD8ClOJ1O83NFCjxW2PdORN7XAMEQAGFt3vX8tj5/MQA2DIWBKn+S\\\n",
       "J/wFCI3eD92+ffsGndDh3X7q1Ck+pAE0qWH4CzRhrGH48x7P5wuC4V7AbcC9BKNAw7D3fIYnEDZH\\\n",
       "fKI053CHNg+AtTUMf768PQwNw5+vSO5hePXDI3px00E9OH6wfnrjFe363ly/CYBtwi9QBPAGvLQb\\\n",
       "pGMfeYKeJL3zG6nO7VnSpatdGjxROviOdLaq+e8d01XqlXLp7mMAaIWmwp9Xenq6eeehYCI1BI5Z\\\n",
       "8K6Of3VWl/eO13tPBF9poTW4fjMJBNGgifvyml28e9/y/LvuPzzh71yVdP4bz108zlZ59rck/ElS\\\n",
       "/XnPe777m/b5OQDAR9++fYPuy1CGJJnhz/u8pe8Tzh4cP1iX947Xg+MHh7opUYkAiMjQnJC39fnG\\\n",
       "+8Y+IjnSpO/9i2TrIhl1kk1SXKLUtbtnFm98omd/fKJk+/Y/CVvMxa9la7pt591t+ckAIKBgqwbk\\\n",
       "KlfFKjbvKZ6jHBWrWLnKbXRsoIlokeKnN16h956Y0O7dv/CgC7gNKCF3Iu/YPEea9EiDhZSbO5O3\\\n",
       "ucc1Zdsyz31/689f3OadDdzW9waAAMb/+xPavGKhJE+lr1jF5j7fe4xL0izNMhebj+Tw19G4flMB\\\n",
       "RKTwVvK8Y/h8XXe/JxReKng197hLvUevlG+f2DyVRG/4cx3zdC8vHCgtGBi4WgkAl/Dqh0c0ZsG7\\\n",
       "evXDI5Kk80Oz1GfSA5I8dxLy3lNckl/4W6zFhD80W9QGwBdffFHXXHONEhISlJCQoMzMTL399tvm\\\n",
       "fsMw5HQ6lZqaqvj4eI0fP1579+4NYYvRpPYIb+3FG0anPCs9cdjTJu82mzxjCc9VSWsf84TB9giC\\\n",
       "TXWBA4gqL246qONfndWLmw5K8oyFu2rCnUq8fJAkzz3FXXL5vcYll8pUJskzMYTwh0uJ2gA4YMAA\\\n",
       "LViwQNu3b9f27ds1YcIE3XHHHWbIW7RokZ577jmVlJRo27ZtSklJ0aRJk1RTUxPiliPsecOodDGU\\\n",
       "ebdN+KWnS1g2SYYnDPqOTdy2zFMdbGkwbGqcI4CoEmjyw5G/vqmq44ckecb8+Vb+JE8l0DsmcP/+\\\n",
       "/Ze8YwhgqTGAffr00dNPP6377rtPqampmj17tubMmSNJcrvdSk5O1sKFCzVz5sxmvR9jCCzuUuMS\\\n",
       "3/mNJwf6Lhjtu85gS8YOtsf4RQARacCUfB1f5wl0jAFsH1y/o7gC6Kuurk5lZWU6c+aMMjMzdejQ\\\n",
       "IVVWViorK8s8xm63a9y4cXr//fdD2FJEjG3LJPfXnhAXbFziE4c9C0X7Braxj8icVWyo+ZW9cOoC\\\n",
       "B9DuGo7788p9/Ddm+JM8YwBXaIUkz5i/bGWbYwJXaIUZ/iTPHUOoBCKYqL4V3J49e5SZmalz586p\\\n",
       "Z8+eeuuttzRs2DAz5CUnJ/sdn5ycrCNHjgR6K0meKqHbfXHJj+rq6o5pOMLf1uc94/wcaS0LZd5j\\\n",
       "vdW8hl8DsCTfcX/eZU9KS0v1yrO/anTsSq3UDu0ww16ZylT+7f8aCnTbOECK8gA4dOhQ7d69W199\\\n",
       "9ZXeeOMN5ebmavPmzeZ+m81/fTfDMBpt81VUVHTJVdlhEWMfaX1wu+5+/9BIVQ+wvAfHDzZve+Z1\\\n",
       "6tSpoMd7w573TiCBwl9z3gfWZakxgD/4wQ80ePBgzZkzR4MHD9bOnTs1YsQIc/8dd9yh3r17a+XK\\\n",
       "lQFfH6gCmJaWZukxBACA9ue9D+6Fba/r4zeXBDzm3sd+rZXP/DJq7wXckRgDGOUVwIYMw5Db7dag\\\n",
       "QYOUkpKijRs3mgGwtrZWmzdv1sKFC4O+3m63y263d1ZzAQAR4NUPj+iZ/++AJOnxW4a2+s4V3tB3\\\n",
       "WY9u+vS4Z5mX+GH/ogGuc/rfd17xO9Yb/qSL3bsNQyDhD02J2gD45JNP6tZbb1VaWppqampUVlam\\\n",
       "TZs2af369bLZbJo9e7bmz5+vIUOGaMiQIZo/f766d++uu+++O9RNBwCEqUBh78VNB/XVWc/dgf7v\\\n",
       "mnL93zUXu2O/XRBKMTap3rj4b1OOf3XW/Prs+Tp1ufYuOc6dl+u91yRJfSY9oL8ljfF7TcMQSPjD\\\n",
       "pURtAPziiy90zz336MSJE3I4HLrmmmu0fv16TZo0SZL0i1/8QmfPntVDDz2kqqoq3XDDDdqwYYN6\\\n",
       "9eoV4pYDAMKNtzp3+oxbZ8/XS5I5YePB8YP1yzXlCpTrvNu8oe9S4S+Y3mN/Iknq0t2hXiN/6DdW\\\n",
       "0MsbAk+dOkX4wyVZagxge2MMAQBYw5gF7+r4V2fNip4k/Wh4ql74sWcY0asfHlHhn/fqfGsTXgt0\\\n",
       "jbHp8/m3dfj3iWZcv6O4AggAQHvxztIddUWi1n5aoTpD2nGkytz/0xuv8Bv7N/CJta36Pr3jY+U6\\\n",
       "e0FxXWP01JRhfu/prUIGqv4BLUUABFqCO3IAluQb8K4f1OeSQSy+a4zZVSzJr3LY0G+zM5o1caRh\\\n",
       "yATawhJ3AgHaDffkBSzvpzdeofeemNBkGHtqyjD1ju+q3vFd9dvsDB1aMEXxXT2X3PiuMfrR8FTz\\\n",
       "2Bc3HezwNgMNUQEEWiLtBqm6wvMvAAQRqFr31JRhZuXwpzde0axKItBRmATSBgwitQhvt2+PJKli\\\n",
       "l2dbXKLnXr8AgIjD9Zsu4LBVVVamzydMVFVZWaibYk3blknPZ1wMf65jF8OfJLldoWsbAABtRAAM\\\n",
       "U18ueVkXKir05ZKXQ90Ua/Id6zf2EcmRJqVevG2gjPrgrwUAIMwRAMNU0s9mKDY1VUk/mxHqpkSk\\\n",
       "qrzr9fnIIar6aX9pdStm63pDn3e27yPl0s82XQyBvmEQAIAIwxjANmAMQfj6fOQQXfgmVrHdL2jI\\\n",
       "Hf+QCk6HukkAgDDB9ZsKIKJUUmaiYrtfUNKwr6Xv/UuomwMAQFhhGRhEpcTSj5UY6kYAABCmqAAC\\\n",
       "AABYDAEQAADAYgiAAAAAFkMABAAAsBgCIAAAgMUQAAEAACyGAAgAAGAxBEAAAACLIQACAABYDAEQ\\\n",
       "AADAYgiAaDWn06nS0tImjyktLZXT6eycBgEAgGbhXsBoFafTqcLCQvN5Xl5eo2NKS0uVn5/v9xoA\\\n",
       "ABB6VADRYg3DX35+fqNKYMPwV1hYSAAEACBMEADRIg3Dn5dvCGwY/rwIgQCiyasfHtGYBe/q1Q+P\\\n",
       "hLopQIvZDMMwQt2ISFVdXS2HwyGXy6WEhIRQN6fDBQt/vtLT07V///4mjykoKCAIAoh4Yxa8q+Nf\\\n",
       "ndXlveP13hMTQt0ctIDVrt+BUAFEs/Xt2zfovgxlSJIZ/rzPW/o+ABApHhw/WJf3jteD4weHuilA\\\n",
       "ixEA0Wx5eXkqKSlptD1XuSpWsXKUI0nKUY6KVaxc5TY6tqSkJOCEEQCIND+98Qq998QE/fTGK0Ld\\\n",
       "FKDFCIAwVZWV6fMJE1VVVhb0mIYhMEMZmqZpkqSZmqk1WqOZmilJmqZpfpVAwh8AAOGBAAjTl0te\\\n",
       "1oWKCn255OUmj/MNgeUq12ItNvc55DC/XqzFKle5pOaFv+YEUAAA0HYEQJiSfjZDsampSvrZjEse\\\n",
       "m5eXp/T0dElSmcrkkstvv0sulckT5NLT05tV+WtuAAUAAG1DAIQpMSdHQ959R4k5OZc8trS01Jzw\\\n",
       "kaMcv8qf5KkEescE7t+//5J3DJFaFkABAEDrsQxMG1h1GrnvOn8ZylCxis19Lrn8wuAszWpRNzAA\\\n",
       "AB3NqtdvX1QAo1zDcXVVZWX67J9HaP9V6frsn0e0eLxdw0Wey1WuFVohyTPmL1vZ5pjAFVphhj8p\\\n",
       "8B1DAABA56MC2AaR8BfE5xMm6kJFhWJTUxXbp4/OlZf77Y9xOBTTo4eSfjbD7PqtKivTl0te9tsm\\\n",
       "Bb/Dh+SpBPqGvYbPfVEJBACEUiRcvzsaFcAo5zuurmH4k6R6l0sXKipUWfhrsxoYbDLGqVOngn4f\\\n",
       "b9jzTgwJFv4u9T4AAKDjEQCjnO/EjriMb9fk69pVMQ7/SRsyDDMEBpuM4XQ6VVBQEPR7lZSUaN++\\\n",
       "fQEXi/biNnAAAIQeAdBCBq3+b8Wmpkrnz0uSbPHx/gcYhk4+/zu/0NhwDGGwEOjbrRvsjiGEPwAA\\\n",
       "wkPUBsCioiJdd9116tWrl/r166fs7GwdOHDA7xjDMOR0OpWamqr4+HiNHz9ee/fuDVGLO4e3utfv\\\n",
       "kdm6atfORvvrq6v9ngfqDm4YAgON6WsYAgl/AACEj9hQN6CjbN68WXl5ebruuut04cIFPfXUU8rK\\\n",
       "ytK+ffvUo0cPSdKiRYv03HPPacWKFfrud7+r3/72t5o0aZIOHDigXr16hfgn6BiJOTn+6/zFxkoX\\\n",
       "Llx8bhjaf1X6xeddu0o2m7qPGOH3Pt4w17dv36ATOrzbT506RfgDACCMWGYW8KlTp9SvXz9t3rxZ\\\n",
       "N910kwzDUGpqqmbPnq05c+ZIktxut5KTk7Vw4ULNnDnzku8Z6bOIqsrKVFn4a6mZvwIpzoJmLRIN\\\n",
       "AEA4i/Trd3uI2i7ghlwuz63K+vTpI0k6dOiQKisrlZWVZR5jt9s1btw4vf/++yFpY3u41P10vfuP\\\n",
       "P/a4Kn/z22aHP0mqdBZqf8bV3KsXAIAIF7VdwL4Mw9Cjjz6qsWPHKuPbmbCVlZWSpOTkZL9jk5OT\\\n",
       "deTIkYDv43a75Xa7zefVDcbLhQPfMXu+1Trv2n71Z86o3uVSdUVF677BhQv6csnL+mbbdlWvX6+E\\\n",
       "yZN1+bPPtFPrAQBAZ7BEBTA/P1+ffvqpXnvttUb7bDab33PDMBpt8yoqKpLD4TAfaWlpHdLetgi2\\\n",
       "hIs3GNZ/WwlttdhYJf1shqrXr5fq6lS9dq32Z1zteaQP0/HHHm/b+wMAgA4X9WMAZ82apTVr1mjL\\\n",
       "li0aNGiQuf3vf/+7Bg8erJ07d2qEzwSHO+64Q71799bKlSsbvVegCmBaWlpYjyE4NPVOzwLQNlvj\\\n",
       "7t5vt3nXBDRqa2Xr1k39HpltLgET6I4gknT8scdVvXZt4G/atatiunc33wcAgHDCGMAo7gI2DEOz\\\n",
       "Zs3SW2+9pU2bNvmFP0kaNGiQUlJStHHjRjMA1tbWavPmzVq4cGHA97Tb7bLb7R3e9tY4/tjjZpes\\\n",
       "pMbhrEH4i8vIUO+p/ydowJMCzBj24e32rV63TurSxX8m8fnzqne5VDlvPgEQAIAwFLUVwIceekh/\\\n",
       "/OMf9ac//UlDhw41tzscDsV/uwDywoULVVRUpOXLl2vIkCGaP3++Nm3a1OxlYMLpL4j938uQ6uoC\\\n",
       "V/q+ZYuLk81u75DKXLCKoC0uTobbrYTbbmOsIAAgLITT9TtUojYABhvHt3z5ck2bNk2Sp0pYWFio\\\n",
       "xYsXq6qqSjfccINKS0vNiSKXEk6/QMcfe9xTjQvwf6ctLk7JT8zptGqc2e3su8Zgly5K3xv8/sAA\\\n",
       "AHSWcLp+h0rUBsDOEE6/QFVlZZ5lXerqpC5dlPLL/xvy7teqsjJ9sWAhFUAAQFgJp+t3qBAA2yCc\\\n",
       "foE+nzBRFyoqwib8AQAQrsLp+h0qllgGxgq8y78Q/gAAwKVQAWwD/oIAACDycP2mAggAAGA5BEAA\\\n",
       "AACLIQACAABYDAEQAADAYgiAAAAAFkMABAAAsBgCIAAAgMUQACNMVVmZPp8wUVVlZaFuCgAAiFAE\\\n",
       "wAjz5ZKXdaGiQl8ueTnUTQEAABGKABhhvLd8S/rZjFA3pd1Q1QQAoHNxK7g24FYy7ePzCRN1oaJC\\\n",
       "sampGvLuO6FuDgAgynH9pgKIMBCNVU0AAMIZARAhl5iTY1b+6AoGAKDjEQARNpjgAgBA5yAAImzQ\\\n",
       "FQwAQOdgEkgbMIgUAIDIw/WbCiDQYqsOrFLW6iytOrAq1E0BAKBVCIBACy3ds1QnzpzQ0j1LQ90U\\\n",
       "AABahQAItND0q6erf4/+mn719FA3BQCAVmEMYBswhsBzF48vl7yspJ/NUGJOTqibAwDAJXH9pgKI\\\n",
       "NmLpFgAAIg8BEG0SqqVbmIgBAEDr0QXcBpSQQydrdZZOnDmh/j36a8PUDaFuDgAggnD9pgKICMVE\\\n",
       "DAAAWo8KYBvwFwQAAJGH6zcVQAAAAMuJDXUDAABA5Phk4zptLXtFMmwa++N7NHzSbaFuElqBCiAA\\\n",
       "AGi2rWWv6NzXX+vcmRp9vGZ1qJuDViIAAgCA5jNsnn9tNl2fPTW0bUGrEQABAECzjf3xPUpI6qcf\\\n",
       "3P8g3b8RjFnAbcAsIgAAIg/XbyqAAAAAlkMABAAAsBgCIAAAgMUQAAEAACyGAAhEgTlb5mj4K8M1\\\n",
       "Z8ucUDcFABABojYAbtmyRbfffrtSU1Nls9m0Zs0av/2GYcjpdCo1NVXx8fEaP3689u7dG5rGIuo5\\\n",
       "nU6VlpY2eUxpaamcTmer3n/94fWqN+q1/vB6rTqwSlmrs7TqwKpWvRcAIPpFbQA8c+aMhg8frpKS\\\n",
       "koD7Fy1apOeee04lJSXatm2bUlJSNGnSJNXU1HRySxHtnE6nCgsLlZ+fHzQElpaWKj8/X4WFha0K\\\n",
       "gZMHTlaMLUaTB07W0j1LdeLMCS3ds7SNLQcARC3DAiQZb731lvm8vr7eSElJMRYsWGBuO3funOFw\\\n",
       "OIyXXnqp2e/rcrkMSYbL5WrP5iKKFBQUGJL8HiUlJX7HlJSUNDqmoKCg1d/z9c9eNyb99yTj9c9e\\\n",
       "b2PrAXS23RvWGkse+ndj94a1oW6KqaCgoNHnVkMlJSVt+tzqbFy/DSM2RLkzpA4dOqTKykplZWWZ\\\n",
       "2+x2u8aNG6f3339fM2fODPg6t9stt9ttPq+uru7wtiJyeSt/DeXn50uS8vLyzMpfQ97XtaYaeNfQ\\\n",
       "u3TX0Lta/DoAoffxmtWq/vKkPl6zOizustHwcywvL6/RMQ0/x1o7lAWdK2q7gJtSWVkpSUpOTvbb\\\n",
       "npycbO4LpKioSA6Hw3ykpaV1aDsRuYKFP6/8/HwNGzYsYPjzam13MIDIdX32VCUk9QuLe+w2/BwL\\\n",
       "NIylYfjjcytyWDIAetlsNr/nhmE02uZr7ty5crlc5uPYsWMd3UREqL59+wbdl6EMSdL+/fv9nrf0\\\n",
       "fQBEn+GTbtOM0j+EvPrXVA+GNwQ21YNBCAx/lgyAKSkpktSo2nfy5MlGVUFfdrtdCQkJfg8gkLy8\\\n",
       "vIATkHKVq2IVK0c5kqQc5ahYxcpVbqNjS0pKAna3AEBHogfDGiwZAAcNGqSUlBRt3LjR3FZbW6vN\\\n",
       "mzdr9OjRIWwZoknDEJihDE3TNEnSTM3UGq3RTHnGm07TNL9KIOEPQEf6ZOM6vZx3nz7ZuK7RPnow\\\n",
       "rCFqA+DXX3+t3bt3a/fu3ZI8Ez92796to0ePymazafbs2Zo/f77eeustlZeXa9q0aerevbvuvvvu\\\n",
       "0DYcUcU3BJarXIu12NznkMP8erEWq1zlkgh/ADqe72SThjqjB+OTjev0/E+y9ey//VCvzp3d+h8E\\\n",
       "rWYzDMMIdSM6wqZNm3TzzTc32p6bm6sVK1bIMAwVFhZq8eLFqqqq0g033KDS0lJlZAT/a6ah6upq\\\n",
       "ORwOuVwuuoMtatWBVXp629Ny17l166BbtfCmhQGPGzZsmPkX8xqt8Qt/LrmUrWxJUnp6uvbt29fh\\\n",
       "7QYQmT7ZuE4fr1mt1KFXqeLAZ7o+e2qrxgt636ep1/uO8ctQhopVbO5zyeX3OTZLs5r9R+wnG9fp\\\n",
       "nT+8JKO+3tz22Ov/r8U/Q1tw/Y7iANgZ+AWytjlb5mjdoYvdJzG2GH1y7yeNjvP9EM1Rjtnt62ux\\\n",
       "FqtMZZKoAAII7uW8+1T95UnZYmJk1Ncr1m5X3fnzGpo5VlMe/kW7f7+O+Pzy/gxeyf90pX5a9Lv2\\\n",
       "a3QzcP2O4i5goKP5hj/JczeOhhr+Be374emSy/x6pmaaY2maumMIAGvzLhMzNHOsEpL66UJtrYz6\\\n",
       "en32/l+DjulrarzfpeTl5Sk9PV2SVKYyv88tyfM55g1/6enpzfrj1fsz/GD6Q3rs9f/X6eEPHlQA\\\n",
       "24C/IKLbqgOrtHTPUk2/enqjhZWHrxyuel3svrDJpk9zP/U7JtASCbnK1TRNM/9i9v5FvUIrtFIr\\\n",
       "/Y6lEgjgUta+sEgHPtiqLrFddaHWrYSkfppR+gdJF7t5a899o3Nffy3ZbIrr3lNjf3xPs7uNo7UH\\\n",
       "g+s3AbBN+AWKblmrs3TizAn179FfG6Zu8Nt39cqr/Z7/8sZf+oXEYOtjSZ5KoHesTKDnviLlwxRA\\\n",
       "aDUc07f2hUX67L0tkqTYbnbVXThvjrnzDYlN6agxgOGA6zddwLCIVQdWKWt1llYdWNXs10y/err6\\\n",
       "9+iv6VdP93uPrNVZfsf179G/UYXw1KlTQd/X+yHp7VYJFv4u9T4A4DV80m26PnuqPl6zWp9sXKcD\\\n",
       "H2w199XX18ke30OxdrvievRq1l1GGv4RW65yrdAKSZ6KX7ayzVUNVmiF3+cYw1giAxXANuAviMjR\\\n",
       "VDWvpe/R0J7cPQGPb2oxVe9fyE1VCgsKClhIFUCzeSdXJCT1U+rQq8wKoK+rxtx0yckiVujB4PpN\\\n",
       "BRAWsOrAKn1z/hsldEswq3ktfX3W6iz1ievTaN/3Lvte0Nc5nU4VFBQ02u77oRhsvS3CH4CW8r2P\\\n",
       "8JSHf6EfTH9ICUn9/I757P2/qvT+HJXe9+Ogk0LowbAGKoBtwF8QkaFh9a+pyR1NvT6QX974Sy3d\\\n",
       "s1Qj+o3QrpO7Ar6nbyUw2F/Evn9xE/4AtKclef+umi8bh7FYu13dezkCrgUY7T0YXL8JgG3CL1Bk\\\n",
       "aBj4Wtod3HC9v0BibDGqN+qDvqfT6VTfvn2b7A4pLS3VqVOnwvpDE0DkMGcBnz2rc2dqGh9gs0mG\\\n",
       "EXRSSKAQ2PCP2EAhMNzDn8T1WyIAtgm/QJHJNxBKalQNbLj/tx/+VoaC/2cSY4vR5IGTg1YAASAU\\\n",
       "vGMC43r2lAxboxAYExurbvb4JpeFidYeDK7fBMA24Rco8gWqBvpuqzpXpXN155p8j9sG3WbeAq6l\\\n",
       "3csA0FF8l4aRpHeWvSTDqA94bFOTQ6KxB4PrNwGwTfgFinyBApt3m6SgY/98BQqPCd0S1KNrD4Ig\\\n",
       "gA4X6L6+vvcMPvzJTs9C0E2wxcTo0df+3BnNDQtcv6XYUDcACKW7ht4VMKA1p/Ln5TuzePrV07V0\\\n",
       "z1J9c/4bnThzQkv3LPV7f9/AueOLHVp/eL2SuycHDJq+lUUACObjNatV/eVJfbxmtRkAvdt877nb\\\n",
       "FKO+Xs/+2w8leSaHjL/n/mbfLQSRiQpgG/AXRHRqatZvXJc4TfjOBG04vEEXjAuKUYy6demmbl26\\\n",
       "aezlY/Xu0XflrnNr2GXDdPrc6UaVxXkfzVO9Ua8YW4wMw7jk2MJP7v2kQ35GANEjWAXwnT+8ZN79\\\n",
       "o8VsNiVc1jfgDOFowPWbANgm/AJFp1UHVunpbU/LXefWrYNuDViFCxQSvTOBvV83DG8NXxPXJU61\\\n",
       "9bWSZL7OFxVAAJ9sXKetZa9Ihq1Z9/BtOO7v4zWrFZ+QoC/+/rdWfX/vBBLZDI3NuTdqwiDXb7qA\\\n",
       "gUaCdQv7mn71dP3nzv9UbZ0nwDWsAE4eOLnRa0b0G6EvDn+h9D7pftXBVQdW6YWdL8iQoZ+P/Dlj\\\n",
       "BgEL8ga9C7XnJZtnW2zXrt/O3vWM33vnDy9JUpMhzLc7eEbpHzR80m16Oe++gMd6J3743je4Id+x\\\n",
       "g5teWRY1ARBUANuEvyAQSLCZwO1xOzoA0cm7ZEtDcT17SpLOnTnT5Jp9XoG6gxsGvEst/9JU97H3\\\n",
       "TiORHgS5fnMrOKDdLd2z1JwAIl28ldyIfiPUv0f/Vt2ODkB0uz57quJ69lRsN7ti7Z5HXM+eGptz\\\n",
       "r/KWlekH9z9ohq+mDJ90m1n586o48JnfMUZ9vc6dqdHHa1YHfY+J9z3gCZ82m7k9tpvdrC4i8lEB\\\n",
       "bAP+gkAg3grgiH4j9N7x9+SqdUmSErol6L0fvxfi1gGwmrUvLNKBD7aq38B/0tnqaqUOvUoVBz5r\\\n",
       "ViWv4XIyzR2LGO64fjMGEGh33jGEWauzzPAnSTbZmngVALS/Tzau04EPtsqor9fZ6uomu48DGT7p\\\n",
       "NnMc4bmvv1ZCUr+ID3/woAsY6CAj+o2QTTbF2mKV0C1BD498ONRNAmAxH69ZLaO+XraYmEt2Hzfl\\\n",
       "+uypzeqCRuSgAgh0kF0nd8mQob7d+zLpA0BIXJ89tdGkkNbwVgKlwBNNEHmoACJqzdkyR8NfGa45\\\n",
       "W+aE5PtPv3o6kz4AhFSgSSFt5bvUDCIXARBRa/3h9ao36rX+8PqQfP+7ht6lDVM3sK4fgKhCd3B0\\\n",
       "oAsYUcc7Cze9T7r2n94fcFFmAEDr+HYHI3IRABE1vMHvm/PfmLNvO/Neur7Lv+w6uavRQtAAAIQL\\\n",
       "uoARNbwLMBsyQjL27oWdL+jEmRN6+9DbfgtBAwAQbqgAImpMv3p6wFuwdRZDnjXV7V3sSoxLZPIH\\\n",
       "ACBscSeQNmAlcfgKdg9gAEB44fpNAGwTfoGiH6EOAKIP12/GAAJN8o4rZDwfACCaEACBJrCYMwAg\\\n",
       "GtEF3AaUkBFu6LIGgEvj+k0FEIgqdFkDAJqDAAhEEbqsgaZ9snGdXs67T59sXBfqprTK2hcW6bkf\\\n",
       "/0hrX1gU6qYgwhEAgSjC/YeBpn28ZrWqvzypj9esDnVTWuXAB1tl1NfrwAdbQ90URDgCIADAMq7P\\\n",
       "nqqEpH66PntqqJvSKkMzx8oWE6OhmWND3RREOCaBtAGDSAEAiDxcv6kAAgAAWI7lA+Dvf/97DRo0\\\n",
       "SHFxcRo1apT++te/hrpJAAAAHcrSAfD111/X7Nmz9dRTT2nXrl36/ve/r1tvvVVHjx4NddMAAAA6\\\n",
       "jKXHAN5www0aOXKkXnzxRXNbenq6srOzVVRUdMnXM4YAAIDIw/XbwhXA2tpa7dixQ1lZWX7bs7Ky\\\n",
       "9P777wd8jdvtVnV1td8DAAAg0lg2AH755Zeqq6tTcnKy3/bk5GRVVlYGfE1RUZEcDof5SEtL64ym\\\n",
       "AgAAtCvLBkAvm83m99wwjEbbvObOnSuXy2U+jh071hlNBAAAaFexoW5AqCQlJalLly6Nqn0nT55s\\\n",
       "VBX0stvtstvtndE8AACADmPZCmC3bt00atQobdy40W/7xo0bNXr06BC1CgAAoONZtgIoSY8++qju\\\n",
       "ueceXXvttcrMzNSSJUt09OhRPfDAA6FuGgAAQIexdAD8t3/7N/3jH//Qr3/9a504cUIZGRlat26d\\\n",
       "rrjiilA3DQAAoMNYeh3AtmIdIQAAIg/XbwuPAQQAALAqAiAAAIDFEAABAAAshgAIAABgMQRAAAAA\\\n",
       "iyEAAgAAWAwBEAAAwGIIgAAAABZDAAQAALAYAiAAAIDFEAABAAAshgAIAABgMQRAAAAAiyEAAgAA\\\n",
       "WAwBEAAAwGIIgAAAABZDAAQAALAYAiAAAIDFEAABAAAshgAIAABgMQRAAAAAiyEAAgAAWAwBEAAA\\\n",
       "wGIIgAAAABZDAAQAALAYAiAAAIDFEAABAAAshgAIAABgMQRAAAAAiyEAAgAAWAwBEAAAwGIIgAAA\\\n",
       "ABZDAAQAALAYAiAAAIDFEAABAAAshgAIAABgMQRAAAAAiyEAAgAAWExUBsB58+Zp9OjR6t69u3r3\\\n",
       "7h3wmKNHj+r2229Xjx49lJSUpIcffli1tbWd21AAAIAQiA11AzpCbW2t7rzzTmVmZmrZsmWN9tfV\\\n",
       "1WnKlCnq27evtm7dqn/84x/Kzc2VYRgqLi4OQYsBAAA6T1QGwMLCQknSihUrAu7fsGGD9u3bp2PH\\\n",
       "jik1NVWS9Oyzz2ratGmaN2+eEhISOqupAAAAnS4qu4Av5YMPPlBGRoYZ/iTplltukdvt1o4dO0LY\\\n",
       "MgAAgI4XlRXAS6msrFRycrLftsTERHXr1k2VlZVBX+d2u+V2u83n1dXVHdZGAACAjhIxFUCn0ymb\\\n",
       "zdbkY/v27c1+P5vN1mibYRgBt3sVFRXJ4XCYj7S0tFb9LAAAAKEUMRXA/Px85eTkNHnMwIEDm/Ve\\\n",
       "KSkp+uijj/y2VVVV6fz5840qg77mzp2rRx991HxeXV1NCAQAABEnYgJgUlKSkpKS2uW9MjMzNW/e\\\n",
       "PJ04cUL9+/eX5JkYYrfbNWrUqKCvs9vtstvt7dIGAACAUImYANgSR48e1enTp3X06FHV1dVp9+7d\\\n",
       "kqQrr7xSPXv2VFZWloYNG6Z77rlHTz/9tE6fPq3HH39cM2bMYAYwAACIelEZAH/1q19p5cqV5vMR\\\n",
       "I0ZIkv7yl79o/Pjx6tKli9auXauHHnpIY8aMUXx8vO6++24988wzoWoyAABAp7EZhmGEuhGRqrq6\\\n",
       "Wg6HQy6Xi8ohAAARgut3BM0CBgAAQPsgAAIAAFgMARAAAMBiCIAAAAAWQwAEAACwGAIgAACAxRAA\\\n",
       "AQAALIYACAAAYDEEQAAAAIshAAIAAFgMARAAAMBiCIAAAAAWQwAEAACwGAIgAACAxRAAAQAALIYA\\\n",
       "CAAAYDEEQAAAAIshAAIAAFgMARAAAMBiCIAAAAAWQwAEAACwGAIgAACAxRAAAQAALIYACAAAYDEE\\\n",
       "QAAAAIshAAIAAFgMARAAAMBiCIAAAAAWQwAEAACwGAIgAACAxRAAAQAALIYACAAAYDEEQAAAAIsh\\\n",
       "AAIAAFgMARAAAMBiCIAAAEDlW47rlSffU/mW46FuCjoBARAAAGjn+sOqOe3WzvWHQ90UdAICIAAA\\\n",
       "0MjJA9Wrj10jJw8MdVPQCaIuAB4+fFj333+/Bg0apPj4eA0ePFgFBQWqra31O+7o0aO6/fbb1aNH\\\n",
       "DyUlJenhhx9udAwAAFaRcdPlunf+GGXcdHmom4JOEBvqBrS3zz77TPX19Vq8eLGuvPJKlZeXa8aM\\\n",
       "GTpz5oyeeeYZSVJdXZ2mTJmivn37auvWrfrHP/6h3NxcGYah4uLiEP8EAAAAHctmGIYR6kZ0tKef\\\n",
       "flovvvii/v73v0uS3n77bf3whz/UsWPHlJqaKkkqKyvTtGnTdPLkSSUkJDTrfaurq+VwOORyuZr9\\\n",
       "GgAAEFpcv6OwCzgQl8ulPn36mM8/+OADZWRkmOFPkm655Ra53W7t2LEjFE0EAADoNFHXBdzQwYMH\\\n",
       "VVxcrGeffdbcVllZqeTkZL/jEhMT1a1bN1VWVgZ9L7fbLbfbbT6vrq5u/wYDAAB0sIipADqdTtls\\\n",
       "tiYf27dv93tNRUWFJk+erDvvvFPTp0/322ez2Rp9D8MwAm73KioqksPhMB9paWnt88MBAAB0ooip\\\n",
       "AObn5ysnJ6fJYwYOHGh+XVFRoZtvvlmZmZlasmSJ33EpKSn66KOP/LZVVVXp/PnzjSqDvubOnatH\\\n",
       "H33UfF5dXU0IBAAAESdiAmBSUpKSkpKadezx48d18803a9SoUVq+fLliYvwLnZmZmZo3b55OnDih\\\n",
       "/v37S5I2bNggu92uUaNGBX1fu90uu93e+h8CAAAgDETdLOCKigqNGzdO3/nOd/TKK6+oS5cu5r6U\\\n",
       "lBRJnmVg/vmf/1nJycl6+umndfr0aU2bNk3Z2dktWgaGWUQAAEQert8RVAFsrg0bNuhvf/ub/va3\\\n",
       "v2nAgAF++7xZt0uXLlq7dq0eeughjRkzRvHx8br77rvNdQIBAACiWdRVADsTf0EAABB5uH5H0Cxg\\\n",
       "AAAAtA8CIAAAgMUQAAEAACyGAAgAAJrF6XSqtLS0yWNKS0vldDrN5+VbjuuVJ99T+ZbjHdw6tETU\\\n",
       "zQIGAADtz+l0qrCw0Hyel5fX6JjS0lLl5+f7vWbn+sOqOe3WzvWHlXHT5Z3SVlwaARAAADSpYfjz\\\n",
       "hjzfENgw/HmPnzp5hnauP6yRkwd2TmPRLARAAAAQVMPw5+UbAhuGPy/v65zznR3aRrQc6wC2AesI\\\n",
       "AQCiWbDw5ys9PV379+9v8pgHpz2iG/v/H42cPDAsuoG5fjMJBAAABNG3b9+g+zKUIUlm+PM+D+Tr\\\n",
       "CpnjABEeCIAAACCgvLw8lZSUNNqeq1wVq1g5ypEk5ShHxSpWrnIbHVtSUqJfPPWYevWxMw4wjNAF\\\n",
       "3AaUkAEAkah8y3FzYkZzumR9x/hlKEPFKjb3ueSSQw7z+SzNUrnKJXnC37irs1v0vToD128qgAAA\\\n",
       "RIWWrLfnuzRLc/hWAstVrsVabO7zDX+Ltdgv/OXl5enDNQdVc9qtD9ccbMFPg45GBbAN+AsCAKyp\\\n",
       "pRW0zvDKk++p5rRb9u4XF/i4MXuwJDVqa2vbP2zYMHPM3xqt8Qt/LrmUrWxJnokh+/btU/mW49r8\\\n",
       "xwOSpNiuMZpZPL4tP2K74fpNBRAAgBZraQWtM4ycPFC9+tglSe5vLsj9zQVt/uOBRm1tbfgrLS01\\\n",
       "w1+OcvzCn+SpBHrHBO7fv1+lpaV+Vb8uXYkc4YT/NwAAaCFv2AqnSQ0ZN12ue+ePMat+XjVVbskm\\\n",
       "pQzuLal14bXhGMCZmmnuc8llfj1TM83ZwPn5+XpnxxvmvobtQmgRAAEAaCFv2AqX7l9fjdpkeB5/\\\n",
       "2/GFyrccb3F4bbjIc7nKtUIrJHnG/GUr2xwTuEIrzDGAklS25QVtLl8je/fYsDxXVsadQAAAiDJD\\\n",
       "rkvW59u+8Ntm1Huqfy0JrsHu8LFSK7VDO8ywV6YylX/7v4b++71iDbkuWdJNLf9B0GGoAAIAEGVS\\\n",
       "h/RWrz52xXSx+W33dgM316lTp4Lu84a91MsG+j0PpKvjfIu+LzoeARAAgCjjHefX1d7Fb/vn277Q\\\n",
       "qqJtkpq3bIzT6VRBQUHQ/XeOnaUnpy7TnWNmBT2moKBATqezZT8AOhwBEACAKOMd5xdo4sWpIzVa\\\n",
       "+ugWv8kgG5bt1e8felcblu31O3bDsr3q+8VNmnJd4zt83DlmlsZ9L1uSNC4jO2AIJPyFL8YAAgAQ\\\n",
       "ZTJuutwc5/fef3+uC+fr/fZ7l4mRPHNEvOMFP9/+hVKH9DbX7vO6deS9qq839PaOVyR9G/4yss39\\\n",
       "PfvYtWrrCyotHWqOGST8hTcCIAAAUaxL15hGAdDX16fdF58YahT+vKZc66kC9oxz+IW/IdclK+v+\\\n",
       "70ny3DFE8owdJPyFN+4E0gasJA4ACHe+d+Noi9iuMYrv1TWs7n7SWly/GQMIAEBUa01Yi+0ao3F3\\\n",
       "DzXvLGKLkcbcOSRs1z5Ey9EFDACAxQ25LlmVB78KWN0Lt3seo30QAAEAiHJ9r+ilU0dqJHmqeVeO\\\n",
       "Stbn27+QDMnePdYcw9eQ72QSRBcCIAAAUe6uudc12pY6pLdZ3WuofMtxKn9RjgAIAIAFBarulW85\\\n",
       "rg/XHJT77AXJ8HT/EgCjEwEQAABI8gQ+7/qAUstvHYfIwSxgAAAgyXMHEXv3WOnbWwhXHvwqpO1B\\\n",
       "x6ECCAAAJF3sFvYdA4joRAAEAAB+mpr9ywSR6EAABAAAQXknhkjSjdmDtXP9YdWcdjNBJMIxBhAA\\\n",
       "AATlnRji/uaC3vvvzzVy8kD16mM3u4fLtxzXK0++p/Itx0PbULQIARAAAATlOw7wwoX6Rvt9K4KI\\\n",
       "HARAAAAQVMZNl2vIdcmyxUh9v9NLW8oO+AW+hhVBRAabYRhGqBsRqaqrq+VwOORyuZSQkBDq5gAA\\\n",
       "0KFeefI91Zx2yxYj3ZQzNGLHAHL9pgIIAACayVvti+TwBw9mAQMAgGZpankYRJaorAD+6Ec/0ne+\\\n",
       "8x3FxcWpf//+uueee1RRUeF3zNGjR3X77berR48eSkpK0sMPP6za2toQtRgAAKDzRGUAvPnmm7Vq\\\n",
       "1SodOHBAb7zxhg4ePKipU6ea++vq6jRlyhSdOXNGW7duVVlZmd544w099thjIWw1AABA57DEJJA/\\\n",
       "//nPys7OltvtVteuXfX222/rhz/8oY4dO6bU1FRJUllZmaZNm6aTJ082e0Aog0gBAC3FnTRCj+t3\\\n",
       "lFYAfZ0+fVr/9V//pdGjR6tr166SpA8++EAZGRlm+JOkW265RW63Wzt27Aj6Xm63W9XV1X4PAABa\\\n",
       "gnXzEA6iNgDOmTNHPXr00GWXXaajR4/qT3/6k7mvsrJSycnJfscnJiaqW7duqqysDPqeRUVFcjgc\\\n",
       "5iMtLa3D2g8AiE6B1s3zvZsGd9ZAZ4iYAOh0OmWz2Zp8bN++3Tz+P/7jP7Rr1y5t2LBBXbp00b33\\\n",
       "3ivf3m6bzdboexiGEXC719y5c+VyuczHsWPH2veHBABEvYybLte988f4df/6VgWpEKIzRMwyMPn5\\\n",
       "+crJyWnymIEDB5pfJyUlKSkpSd/97neVnp6utLQ0ffjhh8rMzFRKSoo++ugjv9dWVVXp/PnzjSqD\\\n",
       "vux2u+x2e5t+DgAAGho5eaA5LlCS39dAR4iYAOgNdK3hrfy53W5JUmZmpubNm6cTJ06of//+kqQN\\\n",
       "GzbIbrdr1KhR7dNgAACaqeH6ekwOQUeLmADYXB9//LE+/vhjjR07VomJifr73/+uX/3qVxo8eLAy\\\n",
       "MzMlSVlZWRo2bJjuuecePf300zp9+rQef/xxzZgxw7KzgQAAgHVEzBjA5oqPj9ebb76piRMnaujQ\\\n",
       "obrvvvuUkZGhzZs3m923Xbp00dq1axUXF6cxY8borrvuUnZ2tp555pkQtx4AAKDjWWIdwI7COkIA\\\n",
       "AEQert9RWAEEAABA0wiAAAAAFkMABAAAsBgCIAAAgMUQAAEAACyGAAgAAGAxBEAAAACLIQACAABY\\\n",
       "DAEQAADAYgiAAAAAFhMb6gZEMu9d9Kqrq0PcEgAA0Fze67aV74ZLAGyDmpoaSVJaWlqIWwIAAFqq\\\n",
       "pqZGDocj1M0ICZth5fjbRvX19aqoqFCvXr1ks9k6/PtVV1crLS1Nx44ds+zNq9uC89c2nL+24fy1\\\n",
       "Deev9Th3jRmGoZqaGqWmpiomxpqj4agAtkFMTIwGDBjQ6d83ISGB/4jbgPPXNpy/tuH8tQ3nr/U4\\\n",
       "d/6sWvnzsmbsBQAAsDACIAAAgMUQACOI3W5XQUGB7HZ7qJsSkTh/bcP5axvOX9tw/lqPc4dAmAQC\\\n",
       "AABgMVQAAQAALIYACAAAYDEEQAAAAIshAAIAAFgMATACHD58WPfff78GDRqk+Ph4DR48WAUFBaqt\\\n",
       "rfU77ujRo7r99tvVo0cPJSUl6eGHH250jFXNmzdPo0ePVvfu3dW7d++Ax3D+gvv973+vQYMGKS4u\\\n",
       "TqNGjdJf//rXUDcpLG3ZskW33367UlNTZbPZtGbNGr/9hmHI6XQqNTVV8fHxGj9+vPbu3Ruaxoah\\\n",
       "oqIiXXfdderVq5f69eun7OxsHThwwO8YzmFwL774oq655hpzwefMzEy9/fbb5n7OHXwRACPAZ599\\\n",
       "pvr6ei1evFh79+7V888/r5deeklPPvmkeUxdXZ2mTJmiM2fOaOvWrSorK9Mbb7yhxx57LIQtDx+1\\\n",
       "tbW688479eCDDwbcz/kL7vXXX9fs2bP11FNPadeuXfr+97+vW2+9VUePHg1108LOmTNnNHz4cJWU\\\n",
       "lATcv2jRIj333HMqKSnRtm3blJKSokmTJpn3Fbe6zZs3Ky8vTx9++KE2btyoCxcuKCsrS2fOnDGP\\\n",
       "4RwGN2DAAC1YsEDbt2/X9u3bNWHCBN1xxx1myOPcwY+BiLRo0SJj0KBB5vN169YZMTExxvHjx81t\\\n",
       "r732mmG32w2XyxWKJoal5cuXGw6Ho9F2zl9w119/vfHAAw/4bbvqqquMJ554IkQtigySjLfeest8\\\n",
       "Xl9fb6SkpBgLFiwwt507d85wOBzGSy+9FIIWhr+TJ08akozNmzcbhsE5bI3ExERj6dKlnDs0QgUw\\\n",
       "QrlcLvXp08d8/sEHHygjI0OpqanmtltuuUVut1s7duwIRRMjCucvsNraWu3YsUNZWVl+27OysvT+\\\n",
       "+++HqFWR6dChQ6qsrPQ7l3a7XePGjeNcBuFyuSTJ/KzjHDZfXV2dysrKdObMGWVmZnLu0AgBMAId\\\n",
       "PHhQxcXFeuCBB8xtlZWVSk5O9jsuMTFR3bp1U2VlZWc3MeJw/gL78ssvVVdX1+jcJCcnW/q8tIb3\\\n",
       "fHEum8cwDD366KMaO3asMjIyJHEOm2PPnj3q2bOn7Ha7HnjgAb311lsaNmwY5w6NEABDyOl0ymaz\\\n",
       "NfnYvn2732sqKio0efJk3XnnnZo+fbrfPpvN1uh7GIYRcHs0aM35a4rVzl9LNDwHnJfW41w2T35+\\\n",
       "vj799FO99tprjfZxDoMbOnSodu/erQ8//FAPPvigcnNztW/fPnM/5w5esaFugJXl5+crJyenyWMG\\\n",
       "Dhxofl1RUaGbb75ZmZmZWrJkid9xKSkp+uijj/y2VVVV6fz5843+4osWLT1/TbHi+WuOpKQkdenS\\\n",
       "pVGF4OTJk5Y+L62RkpIiyVPF6t+/v7mdc9nYrFmz9Oc//1lbtmzRgAEDzO2cw0vr1q2brrzySknS\\\n",
       "tddeq23btuk///M/NWfOHEmcO1xEBTCEkpKSdNVVVzX5iIuLkyQdP35c48eP18iRI7V8+XLFxPj/\\\n",
       "X5eZmany8nKdOHHC3LZhwwbZ7XaNGjWqU3+uztKS83cpVjx/zdGtWzeNGjVKGzdu9Nu+ceNGjR49\\\n",
       "OkStikyDBg1SSkqK37msra3V5s2bOZffMgxD+fn5evPNN/Xuu+9q0KBBfvs5hy1nGIbcbjfnDo2F\\\n",
       "bPoJmu348ePGlVdeaUyYMMH43//9X+PEiRPmw+vChQtGRkaGMXHiRGPnzp3G//zP/xgDBgww8vPz\\\n",
       "Q9jy8HHkyBFj165dRmFhodGzZ09j165dxq5du4yamhrDMDh/TSkrKzO6du1qLFu2zNi3b58xe/Zs\\\n",
       "o0ePHsbhw4dD3bSwU1NTY/5uSTKee+45Y9euXcaRI0cMwzCMBQsWGA6Hw3jzzTeNPXv2GD/+8Y+N\\\n",
       "/v37G9XV1SFueXh48MEHDYfDYWzatMnvc+6bb74xj+EcBjd37lxjy5YtxqFDh4xPP/3UePLJJ42Y\\\n",
       "mBhjw4YNhmFw7uCPABgBli9fbkgK+PB15MgRY8qUKUZ8fLzRp08fIz8/3zh37lyIWh1ecnNzA56/\\\n",
       "v/zlL+YxnL/gSktLjSuuuMLo1q2bMXLkSHNZDvj7y1/+EvD3LDc31zAMzzImBQUFRkpKimG3242b\\\n",
       "brrJ2LNnT2gbHUaCfc4tX77cPIZzGNx9991n/nfat29fY+LEiWb4MwzOHfzZDMMwOrHgCAAAgBBj\\\n",
       "DCAAAIDFEAABAAAshgAIAABgMQRAAAAAiyEAAgAAWAwBEAAAwGIIgAAAABZDAAQAALAYAiAAAIDF\\\n",
       "EAABAAAshgAIAABgMQRAAAAAiyEAAgAAWAwBEAAAwGIIgAAAABZDAAQAALAYAiAAAIDFEAABAAAs\\\n",
       "hgAIAABgMQRAAAAAiyEAAgAAWAwBEAAAwGIIgAAAABZDAAQAALAYAiAAAIDFEAABAAAshgAIAABg\\\n",
       "MQRAAAAAiyEAAgAAWAwBEAAAwGIIgAAAABbz/wOxGqRSMZ41LgAAAABJRU5ErkJggg==\\\n",
       "\"\n",
       "  frames[4] = \"data:image/png;base64,iVBORw0KGgoAAAANSUhEUgAAAoAAAAHgCAYAAAA10dzkAAAAOXRFWHRTb2Z0d2FyZQBNYXRwbG90\\\n",
       "bGliIHZlcnNpb24zLjcuMiwgaHR0cHM6Ly9tYXRwbG90bGliLm9yZy8pXeV/AAAACXBIWXMAAA9h\\\n",
       "AAAPYQGoP6dpAAA3V0lEQVR4nO3dfXhU1b328XtCZIhIRmhiXiQKFUrBqAWkGqCCcohY9DSnR21q\\\n",
       "a8NRECFB0fZI0VMzaYUAWrVNUgX1AF4eTX18oV6iPuEUJUVEAUEJQR5feEkJaYLQCUVNINnPH+ls\\\n",
       "M8lMSJhkJjPr++k1V9h7r5n82MXsO2uvtbbDsixLAAAAMEZMuAsAAABAaBEAAQAADEMABAAAMAwB\\\n",
       "EAAAwDAEQAAAAMMQAAEAAAxDAAQAADAMARAAAMAwBEAAAADDEAABAAAMQwAEAAAwDAEQAADAMARA\\\n",
       "AAAAwxAAAQAADEMABAAAMAwBEAAAwDAEQAAAAMMQAAEAAAxDAAQAADAMARAAAMAwBEAAAADDEAAB\\\n",
       "AAAMQwAEAAAwDAEQAADAMARAAAAAwxAAAQAADEMABAAAMAwBEAAAwDAEQAAAAMMQAAEAAAxDAAQA\\\n",
       "ADAMARAAAMAwBEAAAADDEAABAAAMQwAEAAAwDAEQAADAMARAAAAAwxAAAQAADEMABAAAMAwBEAAA\\\n",
       "wDAEQAAAAMMQAAEAAAxDAAQAADAMARAAAMAwBEAAAADDEAABAAAMQwAEAAAwDAEQAADAMARAAAAA\\\n",
       "wxAAAQAADEMABAAAMAwBEAAAwDAEQAAAAMMQAAEAAAxDAAQAADAMARAAAMAwseEuIJI1Nzerurpa\\\n",
       "AwYMkMPhCHc5AACgEyzL0rFjx5SamqqYGDP7wgiAQaiurlZaWlq4ywAAAKehqqpKgwcPDncZYUEA\\\n",
       "DMKAAQMktfwDio+PD3M1AACgM+rr65WWlmZfx01kRAAsLCzUvffeqzvvvFOPPvqopJbu34KCAq1Y\\\n",
       "sUJHjx7VZZddppKSEl144YWd/lzvbd/4+HgCIAAAEcbk4VtRf+N7y5YtWrFihS6++GKf/cuWLdPD\\\n",
       "Dz+s4uJibdmyRcnJyZo6daqOHTsWpkoBAABCI6oD4D/+8Q/95Cc/0RNPPKGBAwfa+y3L0qOPPqr7\\\n",
       "7rtPP/zhD5Wenq7Vq1friy++0LPPPhvGigEAAHpeVAfA3NxcTZ8+Xf/yL//is3/v3r2qqalRZmam\\\n",
       "vc/pdGrSpEnatGlTwM9raGhQfX29zwsAACDSRO0YwNLSUr3//vvasmVLu2M1NTWSpKSkJJ/9SUlJ\\\n",
       "2r9/f8DPLCwsVEFBQfcWCgAAEGJR2QNYVVWlO++8U88884z69esXsF3bwZ+WZXU4IHThwoXyeDz2\\\n",
       "q6qqqttqBgAACJWo7AHctm2bamtrNXbsWHtfU1OTysvLVVxcrD179khq6QlMSUmx29TW1rbrFWzN\\\n",
       "6XTK6XT2XOEAAAAhEJU9gFOmTNHOnTu1Y8cO+3XppZfqJz/5iXbs2KFvfvObSk5O1rp16+z3NDY2\\\n",
       "asOGDRo/fnwYKwcAAOh5UdkDOGDAAKWnp/vs69+/v77xjW/Y++fPn6/Fixdr+PDhGj58uBYvXqwz\\\n",
       "zzxTN910UzhKBgAACJmoDICdcc899+jLL7/U3Llz7YWgy8rKjF4VHAAAmMFhWZYV7iIiVX19vVwu\\\n",
       "lzweD08CAQAgQnD9jtIxgAAAAAiMAAgAAGAYAiAQCbY8JT2S3vIVAIAgEQCBSLDxEclT1fIVAIAg\\\n",
       "EQCBSDDxLsmV1vIVAIAgGbsMDBBRxt3a8gIAoBvQAwgAAGAYAiAAAIBhCIAAAACGIQACAAAYhgAI\\\n",
       "AABgGAIgzMOiygAAwxEAYR7vospr75bcZ4e7GgAAQo4ACPP4LKZs9UhvoNvtVklJSYdtSkpK5Ha7\\\n",
       "u/X7AgDQGSwEDfOMu1Va+3NJVsu2p0p67T+/PhYkt9utgoICezs3N7ddm5KSEuXl5fm8BwCAUKEH\\\n",
       "EGZy/11ye6TpD0uOPpLV1C3P2W0b/vLy8tr1BLYNfwUFBQRAAEBI0QMIs3l7/DY+EvRzdtuGPy9v\\\n",
       "2MvNzW0X/ry87yMIAgBCwWFZlhXuIiJVfX29XC6XPB6P4uPjw10OwihQ+Gtt5MiR2r17d4dt8vPz\\\n",
       "CYEA0MO4fnMLGOgWiYmJAY+lK12S7PDn3e7q5wAA0F0IgEA3yM3NVXFxcbv9OcpRkYqUrWxJUray\\\n",
       "VaQi5SinXdvi4mK/E0YAAOhu3AIOAl3IaKv1GL90patIRfYxjzxyyWVvz9M8VahCEuEPAEKJ6zc9\\\n",
       "gEC3at0TWKEKLddy+1jr8Ldcywl/AICwoQcwCPwGgUBGjRplj/lbozU+4c8jj7KUJallYkhlZWU4\\\n",
       "SgQAY3H9pgcQ6HYlJSV2+MtWtk/4k1p6Ar1jAnfv3n3KJ4YAANDdCIBAN2o7BnC2ZtvHPPLYf56t\\\n",
       "2fZsYH+LRQMA0JMIgEA3abvIc4UqtEqrJLWM+ctSlj0mcJVW2WMAJUIgACC0GAMYBMYQwCvQEz6k\\\n",
       "lp7A1mGv7XZrTAgBgJ7H9ZseQKBb1NXVBTzmDXsjR4702e7q5wAA0F0IgEA3cLvdys/PD3i8uLhY\\\n",
       "lZWVfheL9uIxcACAUCEAAl3xwq1SwaCWr20ECoGtb+sGemII4Q/Aqbjd7lOOFS4pKeFnCTolNtwF\\\n",
       "ABHj1wlS84mWP1e8KF3/VLsm3h+8BQUFkvyP6fNue8cMEv4AnIrb7bZ/rkjyO1a47Vhkfq6gIwRA\\\n",
       "oDPcvmv56Yy4wE3/+UM3MTEx4IQO7/66ujp+SAPoUNvw5w15rX++tA1/3vb8fEEgzAIOArOIotwL\\\n",
       "t0oVL/g/ljpauu2tkJYDwDxtw19r3jsMHa1CEMl3GJ7ZvF+PvfWp5ky+QD+9/Pxu/Wyu34wBBALb\\\n",
       "9XLgY9U7QlYGADN1FP6klp7AUaNGBQx/UktPYKQGwMfe+lQH//6lHnvr03CXEpUIgIhsW56SHklv\\\n",
       "+epvOxgX/lvgY7GBbwEDQHdITEwMeMz7JCHvYye92139nN5szuQLdO7ZcZoz+YJwlxKVuAUcBLqQ\\\n",
       "e4FH0iVPleRKk+6qaL/dnbY8Ja3/jWRJmvIraVz7mcAA0J383d7NUY5maIaWa7lKVapsZWu2ZmuV\\\n",
       "Vmm1Vvu0ZXF5/7h+EwCDwj+gXmDLU9LGR6SJd7UEsrbbABDh2j5jvEhF9jGPPHLp60lq8zTPXmye\\\n",
       "8BcY128CYFD4B4SAvEG0f4J06MOW28l+lo0BgM5IyJyjz9c9Lkl2j19b3h5BifB3Kly/o3gM4GOP\\\n",
       "PaaLL75Y8fHxio+PV0ZGhl5//XX7uGVZcrvdSk1NVVxcnCZPnqxdu3aFsWJElY2PtNyKrt4uWU2+\\\n",
       "E0q6c5wigKj3zOb9OmvMtTrjG2mSpFKVyiOPTxuPPHb4GzlyJOEPpxS1AXDw4MFasmSJtm7dqq1b\\\n",
       "t+qqq67SD37wAzvkLVu2TA8//LCKi4u1ZcsWJScna+rUqTp27FiYK0dUmHhXyzjE1NGSo4/vhBJv\\\n",
       "ONz4iO97CIYA2nhm837915oKHXv/VZ34vEpSSw9g69u+kuSSS9nKltQyMeRUTwwBjLoFPGjQID34\\\n",
       "4IO65ZZblJqaqvnz52vBggWSpIaGBiUlJWnp0qWaPbt917o/dCHjtAQap9iTE1gARJxnNu/Xr9ZU\\\n",
       "qP79V3Xkn7d/GQPYPbh+R3EPYGtNTU0qLS3V8ePHlZGRob1796qmpkaZmZl2G6fTqUmTJmnTpk1h\\\n",
       "rBRGGHdrS8BrO0nF22s48a7w1AWgV1m0ttIn/ElShSq0SqsktYz5y1KWlmu5JGmVVtnhT2pZJ5Ce\\\n",
       "QAQS1Y+C27lzpzIyMvTVV1/prLPO0ssvv6xRo0bZIS8pKcmnfVJSkvbv3x/w8xoaGtTQ0GBv19fX\\\n",
       "90zhMNO4W5m5DMBW++4rPuHPa7VWa5u22WGvVKWq+Of/2vL32DhAivIewBEjRmjHjh3avHmz5syZ\\\n",
       "o5ycHFVWVtrHHQ6HT3vLstrta62wsFAul8t+paWl9VjtAAAzPbN5v75TUCbry8CdDN6wN3LkSJ9t\\\n",
       "f+rq6rq3QESFqA6Affv21bBhw3TppZeqsLBQl1xyiX73u98pOTlZklRTU+PTvra2tl2vYGsLFy6U\\\n",
       "x+OxX1VVVT1aPwDAHM9s3q8JS9brof+7R3//8oTiJ9ykwVN+FrB9cXGxKisrVVxcHLBNJD8LGD0r\\\n",
       "qm8Bt2VZlhoaGjR06FAlJydr3bp1Gj16tCSpsbFRGzZs0NKlSwO+3+l0yul0hqpcAIAB7nhuu9Z+\\\n",
       "WK0Yh0MnmlvmZcadESNnbB/94oFf65OJQ9s9E7j1BA/v17ZPDCH8oSNRGwDvvfdeXXPNNUpLS9Ox\\\n",
       "Y8dUWlqqt956S2+88YYcDofmz5+vxYsXa/jw4Ro+fLgWL16sM888UzfddFO4SwcARDnv8i6tNbVa\\\n",
       "lGNQf6fe/uVVLRuXuyXJDoH+Zve2DYGEP5xK1AbAv/3tb7r55pt16NAhuVwuXXzxxXrjjTc0depU\\\n",
       "SdI999yjL7/8UnPnztXRo0d12WWXqaysTAMGDAhz5QCAaPHM5v166P/ukSQ1nGzSlyeaT/keh6Q5\\\n",
       "ky/w2ecNc4mJiQEndHj319XVEf5wSkatA9jdWEcIANCRCUvW6+Dfv+x0e4ek32Sl66eXn99zRYHr\\\n",
       "t6K4BxAAgHCbM/mCTvUA7lsyPZRlAfQABoPfIAAAiDxcv6N8GRgAAAC0RwAEAAAwDGMAgc74dYLU\\\n",
       "fKLlz+nXS9c/Fd56AAAIAj2AvdTR0lJ9fNUUHS0tDXcp5trylPRIestXb/iTpF0vh68mAAC6AQGw\\\n",
       "lzq84gmdrK7W4RVPhLsUc218RPJUtXyNOePr/Rf+W/hqAgCgG3ALuJdKuG2WDq94Qgm3zQp3KZFr\\\n",
       "y1PS6wt09P+docO7Byjhhqs18JdFnX//xLtawt/Eu6Rxt/ZcnQAAhBjLwASBaeS93CPpkqdKH79y\\\n",
       "jk5+EavYs6ThW3eHuyoAQJhx/eYWMKLZxLukmDOUMOofiu3fpITr/yXcFQEA0CtwCxjRa9yt0rhb\\\n",
       "NVDSwHDXAgBAL0IPIAAAgGEIgAAAAIYhAAIAABiGAAgAAGAYAiAAAIBhCIAAAACGIQACAAAYhgAI\\\n",
       "AABgGAIgAACAYQiAAAAAhiEA4rS53W6VlJR02KakpERutzs0BQEAgE7hWcA4LW63WwUFBfZ2bm5u\\\n",
       "uzYlJSXKy8vzeQ8AAAg/egDRZW3DX15eXruewLbhr6CggAAIAEAvQQBEl7QNf16tQ2Db8OdFCAQQ\\\n",
       "TZ7ZvF8TlqzXM5v3h7sUoMsclmVZ4S4iUtXX18vlcsnj8Sg+Pj7c5fS4QOGvtZEjR2r37t0dtsnP\\\n",
       "zycIAoh4E5as18G/f6lzz47T27+8KtzloAtMu377Qw8gOi0xMTHgsXSlS5Id/rzbXf0cAIgUcyZf\\\n",
       "oHPPjtOcyReEuxSgywiA6LTc3FwVFxe325+jHBWpSNnKliRlK1tFKlKOctq1LS4u9jthBAAizU8v\\\n",
       "P19v//Iq/fTy88NdCtBl3AIOgqldyK3H+KUrXUUqso955JFLLnt7nuapQhWSCH8AgN7B1Ot3a/QA\\\n",
       "osta9wRWqELLtdw+1jr8LdfyLoW/o6Wl+viqKTpaWtoDVQMAAC96AINg+m8Qo0aNssf8rdEan/Dn\\\n",
       "kUdZypLUMjGksrLylJ/38VVTdLK6WrGpqRq+/s89UjMAAKZfvyV6AHGaSkpK7PCXrWyf8Ce19AR6\\\n",
       "xwTu3r37lE8MkaSE22YpNjVVCbfN6v6CAQCAjR7AIJj6GwRjAAEAkczU63dr9ACiS9ou8lyhCq3S\\\n",
       "KkktY/6ylGWPCVylVXb4k/w/MQQAAIQePYBBMO03iEBP+JBaegJbh722263REwgACCfTrt/+0AOI\\\n",
       "Tqurqwt4zBv2Ro4c6bPd1c8BAAA9jwCITnO73crPzw94vLi4WJWVlX4Xi/biMXAAAIQfARBdEigE\\\n",
       "tr6tG+iJIYQ/AAB6BwIgJHVtEea2IdDfmL62IZDwBwBA7xEb7gJ6SmFhoV566SV99NFHiouL0/jx\\\n",
       "47V06VKNGDHCbmNZlgoKCrRixQodPXpUl112mUpKSnThhReGsfLQO1paqhp3gSSpxl2gL7Zs1bm/\\\n",
       "fajD93jDXGJiYsAJHd79dXV1hD8AAHqRqJ0FPG3aNGVnZ2vcuHE6efKk7rvvPu3cuVOVlZXq37+/\\\n",
       "JGnp0qVatGiRVq1apW9961t64IEHVF5erj179mjAgAGn/B7RMotoz2WXq9njaX8gJkbJ9/9KA7Oz\\\n",
       "Q18UAAA9JFqu38GI2gDYVl1dnc455xxt2LBBV1xxhSzLUmpqqubPn68FCxZIkhoaGpSUlKSlS5dq\\\n",
       "9uzZp/zMSP4HdPDnv1D92rWdaxwbK508KZ1xhpLvu5dACACIaJF8/e4uxowB9Pyzh2vQoEGSpL17\\\n",
       "96qmpkaZmZl2G6fTqUmTJmnTpk1+P6OhoUH19fU+r0jjHetX/9prnX/TyZMtX0+c0N+WLuv0WEEA\\\n",
       "ANA7GREALcvS3XffrYkTJyo9PV2SVFNTI0lKSkryaZuUlGQfa6uwsFAul8t+paWl9Wzh3ehoaak+\\\n",
       "+s5o1bgLdLK6Wg6ns12b+OnTNfKj3Rr50W4lu/OlPn1aDsR+PVTU+uornayuVu0jj2rPZZdrz2WX\\\n",
       "EwYBAIgwUTsJpLW8vDx9+OGH2rhxY7tjDofDZ9uyrHb7vBYuXKi7777b3q6vr4+IEHi0tFQ1v3lA\\\n",
       "amqy9yX9ckGHt3IHZmf7HD9aWqrDK57QmaNH64vt29V8/Lg9brD2kUd1eMUTSrhtFreHAQCIAFEf\\\n",
       "AOfNm6dXXnlF5eXlGjx4sL0/OTlZUktPYEpKir2/tra2Xa+gl9PplNNPz1lvd3jFE1+HP4dD8d//\\\n",
       "fpeDmr9AWPvIo/b2yepqHV7xBAEQAIAIELW3gC3LUl5enl566SWtX79eQ4cO9Tk+dOhQJScna926\\\n",
       "dfa+xsZGbdiwQePHjw91uT0q4bZZik1NVbI7XyN3V55yiZfOGJidrRHvbtaIdzfrnLvmKzY1VQm3\\\n",
       "zeqGagEAQE+L2lnAc+fO1bPPPqs//elPPmv/uVwuxcXFSWpZBqawsFArV67U8OHDtXjxYr311lvG\\\n",
       "LQMDAIBJuH5H8S3gxx57TJI0efJkn/0rV67UjBkzJEn33HOPvvzyS82dO9deCLqsrKxT4Q8AACBS\\\n",
       "RW0PYCjwGwQAAJGH63cUjwEEAACAfwRAAAAAwxAAAQAADEMABAAAMAwBEAAAwDAEQAAAAMMQAAEA\\\n",
       "AAxDAAQAADAMATDCHC0t1cdXTdHR0tJwlwIAACIUATDCHF7xhE5WV+vwiifCXQoAAIhQBMAIk3Db\\\n",
       "LMWmpirhtlnhLgUAAEQongUcBJ4lCABA5OH6TQ8gegnGNgIAEDoEQPQK3rGNNb95gBAIAEAPIwCi\\\n",
       "V0i4bZbUp4/U1MQEFwAAelhsuAsAJGlgdraklp5AJrgAANCzmAQSBAaRAgAQebh+cwsYAADAOARA\\\n",
       "oIue3/O8Ml/I1PN7ng93KQAAnBYCINBFT+58UoeOH9KTO58MdykAAJwWAiDQRTMvmqmU/imaedHM\\\n",
       "cJcCAMBpYRJIEBhE2rKAs3fmrncmLwAAvRnXb3oAESTvAs6hXLuPMXgAAASHAIigJNw2S7GpqSFd\\\n",
       "u48xeAAABIcAiKAMzM7W8PV/DuntX8bgAQAQHMYABoExBAAARB6u3/QAAgAAGIcACAAAYBgCIAAA\\\n",
       "gGFiw10AAACIHM8snK+/ffaJkr45TD8tfDTc5eA00QMIAAA67W+ffeLzFZGJAAgAADot6ZvDfL4i\\\n",
       "MnELGAAAdBq3faMDPYAAAACGIQACAAAYhgAIAABgGAIgAACAYQiAAAAAhonaAFheXq7rrrtOqamp\\\n",
       "cjgcWrNmjc9xy7LkdruVmpqquLg4TZ48Wbt27QpPsYh6brdbJSUlHbYpKSmR2+0+7e+R/Wq2Llp9\\\n",
       "kbJfzT7tzwAAmCFql4E5fvy4LrnkEv3Hf/yH/v3f/73d8WXLlunhhx/WqlWr9K1vfUsPPPCApk6d\\\n",
       "qj179mjAgAFhqBjRyu12q6CgwN7Ozc1t16akpER5eXk+7+mqXZ/v8vkKAEAgURsAr7nmGl1zzTV+\\\n",
       "j1mWpUcffVT33XeffvjDH0qSVq9eraSkJD377LOaPXt2KEtFFGsb/rwhr3UIbBv+vO27GgIv/MaF\\\n",
       "2vX5Ll34jQuDqBgAYIKoDYAd2bt3r2pqapSZmWnvczqdmjRpkjZt2hQwADY0NKihocHerq+v7/Fa\\\n",
       "Ebnahj+v1iGwbfjzOp0QWHpt6ekVCgAdcLvdSkxM9Hv3wqukpER1dXVBDWNBaBkZAGtqaiRJSUlJ\\\n",
       "PvuTkpK0f//+gO8rLCz0e0EH2goU/rzy8vJUUlKi3bt3B2xzuj2BANBdQjWEBaEXtZNAOsPhcPhs\\\n",
       "W5bVbl9rCxculMfjsV9VVVU9XSIiVGJiYsBj6UqXJDv8ebe7+jkAotsH617TE7m36IN1r4Xl+/sb\\\n",
       "wtJ2Mpu/ISwEwMhgZABMTk6W9HVPoFdtbW27XsHWnE6n4uPjfV6AP7m5uSouLm63P0c5KlKRstUy\\\n",
       "Uzdb2SpSkXKU065tcXFxh7dcAES399a8oPrDtXpvzQsh/94dDWHxhsCOhrAQAns/IwPg0KFDlZyc\\\n",
       "rHXr1tn7GhsbtWHDBo0fPz6MlSGatA2B6UrXDM2QJM3WbK3RGs1Wy3jTGZrh0xNI+APw3azrFZ9w\\\n",
       "jr6bdX1Iv29nhrCMGjXKb/jzIgT2flE7BvAf//iHPvnkE3t779692rFjhwYNGqTzzjtP8+fP1+LF\\\n",
       "izV8+HANHz5cixcv1plnnqmbbropjFUj2nhDXF5enipUoeVaboc+l1x2u+VargpVSCL8AWhxydTv\\\n",
       "65Kp3w/59z3VEJYKVfgMYfH+7OrK56zI/Q8dO1wnR0yMptxye1j+nqaL2h7ArVu3avTo0Ro9erQk\\\n",
       "6e6779bo0aN1//33S5LuuecezZ8/X3PnztWll16qgwcPqqysjDUA0e1yc3M1cuRISVKpSuWRx+e4\\\n",
       "Rx6VqmUG78iRIwl/AMIqFENYjh2ukyRZzc1hucUNyWFZlhXuIiJVfX29XC6XPB4P4wERUOtxMtnK\\\n",
       "tnsAW1uu5XYIpAcQQG/Q+mdXutJVpCL7mEcen7sY8zSvS3cxwt0DyPWbABgU/gHhVHryBygA9LRo\\\n",
       "/QWW63cU3wIGwq3tDLkKVWiVVklq+YGZpSwt13JJ0iqt8hlH42+5BQDoSE8sG8MQluhFAAR6QKDl\\\n",
       "EVZrteZpnv0Ds1Slmqd5Wq3V7doSAgF0hXfZmD//9+PdFgJbL1ifrWyfuxZSy2Q275jA3bt38zMr\\\n",
       "ghAAgR5QV1cX8Ji3p8/7W3WgGXSn+hwAaO27WdfLERMjq7lZG0uf1hO5t2jt75eddq9g2yEsrW//\\\n",
       "tu4JnK3Z9jJW/OIaOQiAQBctKF+gS56+RAvKFwRs43a7lZ+fH/B4cXGxKisr/c6088rPz2cdLQCd\\\n",
       "dsnU72vKLbcrPuEcyXKo/nCtPnq7/LQWk2YIS/RjEkgQGERqpotWX2T/eWfOzg7b+ltQte0gaX+3\\\n",
       "iwl/AILxwbrX9Of/flxWc7PkcKhf//6amP2zTs22DTSERWq/7l9H6wD25gkhXL/pAQS6pHX464y2\\\n",
       "PYH+fiC2XXOL8AcgWK17A/udeZa++sc/Ot0LyBAWM0Ttk0CAYD2/53k9ufNJjT5ntLbXbtegfoP8\\\n",
       "trlxxI0dfo43zCUmJgb8bdi7v66ujvAHoFt4nyTywbrX9N6aFzr9SDnvz6BAj4Pz/iLbUU8hv8j2\\\n",
       "ftwCDgJdyNEt84VMHTp+SDGOGDVbzX7bxChGH+R8EOLKAKDrnlk4X3/77BMlfXOYflr46CnbR/MQ\\\n",
       "Fq7f3AIGApp50Uyl9E/RtCHTlNI/xW+bZrUEw85MDAGAcPrbZ5/YX3/7o2v1zML5HbZnCEt0owcw\\\n",
       "CPwGYZbsV7O16/NdPvtS+qdo5kUz9ZvNv5EkxThi9MHPPrBvH8+8aOYpbxEDQCh4H7/W1s//+GqH\\\n",
       "73O73R0OYZFaegIjaQgL128CYFD4BwTp61vFkvT9od/X0iuWasJzE1TfWK/4vvGaeO5EvbHvDU0b\\\n",
       "Mk1Lr1ga5moBmOqJ3FtUf7i23f6Y2FhdNeO2kD+PN5y4fhMAg8I/IEjy29s37plx+qrpq069P9YR\\\n",
       "q4WXLaSnEEDQWk/4aBvofJaGaSM+4RzNKvnvUJUZdly/mQUMBO3GETe2C2/OPs5OB8CT1kk9ufNJ\\\n",
       "AiCAdryBLnXEt7Vvx3bJYdnr+bU+Vr3nI30363r7cXDvrXmhXQD0bv/5qcdltZrYFhMb2+kZwoge\\\n",
       "BECgB9wx5g4teW+JTjSfkCTF941XY1Oj31AY64jVzItmhrpEAL3c2t8v00dvl0uSjh05bPfcecOd\\\n",
       "N+x5j3l7/jpa8sW7NExHOupFRPQgAAI94MYRN+rJnU/ay8jcOeZOevgAdMmedzbafx6RMdHuAfSG\\\n",
       "O2/Ya90D2JmAdyod9SIiehAAgR4y86KZzAQGcNpGZEzUnnc2akTGRE2/4552x7sj7Plzql5ERAcm\\\n",
       "gQSBQaQAAEQert8sBA0AAGAcAiAAAIBhCIAAAACGIQAC3ez5Pc8r84VMPb/n+XCXAgCAXwRARKUF\\\n",
       "5Qt08eqLNe6ZcSELYt7g97v3f6dDxw/pyZ1PhuT7AgDQVQRARJ3n9zyv1/a+JkuWvmr6KmRB7Pfv\\\n",
       "/16Hjh9SY1OjUvqnsLgzAKDXYh1ARJ3Wga9fn34hC2KWWlZU6tunr8quLwvJ9wQA4HTQA4ioM/Oi\\\n",
       "mUrpn6JfXf4rbfnplpAtwnznmDuV0j9Fd465MyTfDwCA08VC0EFgIUkzPb/neZ7wAQARjOs3PYBA\\\n",
       "l3mf8cskDwBApCIAAl3kvcXMJA8AQKTiFnAQ6EIGACDycP2mBxAAAMA4BEAgivAUEgBAZxAAgSjC\\\n",
       "BBUAQGcQAIEowgQVILqt/f0yPfzjf9Xa3y8LdymIcARAIIrcOOJGlV1fxvqEQAAfrHtNT+Teog/W\\\n",
       "vRbuUk7Lnnc2ympu1p53Noa7FEQ4AiAAwBjvrXlB9Ydr9d6aF8JdymkZkTFRjpgYjciYGO5SEOFY\\\n",
       "BiYITCMHgMjywbrX9N6aF/TdrOt1ydTvh7schAnXbwJgUPgHBABA5OH6zS1g/eEPf9DQoUPVr18/\\\n",
       "jR07Vn/5y1/CXRIAAECPMjoA/vGPf9T8+fN13333afv27fre976na665RgcOHAh3aQAAAD3G6FvA\\\n",
       "l112mcaMGaPHHnvM3jdy5EhlZWWpsLDwlO+nCxkAgMjD9dvgHsDGxkZt27ZNmZmZPvszMzO1adOm\\\n",
       "MFUFAADQ82LDXUC4HD58WE1NTUpKSvLZn5SUpJqaGr/vaWhoUENDg71dX1/fozUCAAD0BGN7AL0c\\\n",
       "DofPtmVZ7fZ5FRYWyuVy2a+0tLRQlAgAANCtjA2ACQkJ6tOnT7vevtra2na9gl4LFy6Ux+OxX1VV\\\n",
       "VaEoFQAAoFsZGwD79u2rsWPHat26dT77161bp/Hjx/t9j9PpVHx8vM8LAAAg0hg7BlCS7r77bt18\\\n",
       "88269NJLlZGRoRUrVujAgQO6/fbbw10aAABAjzE6AP7oRz/S559/rl//+tc6dOiQ0tPT9dprr+n8\\\n",
       "888Pd2kAAAA9xuh1AIPFOkIAAEQert8GjwEEAAAwFQEQAADAMARAAAAAwxAAAQAADEMABAAAMAwB\\\n",
       "EAAAwDAEQAAAAMMQAAEAAAxDAAQAADAMARAAAMAwBEAAAADDEAABAAAMQwAEAAAwDAEQAADAMARA\\\n",
       "AAAAwxAAAQAADEMABAAAMAwBEAAAwDAEQAAAAMMQAAEAAAxDAAQAADAMARAAAMAwBEAAAADDEAAB\\\n",
       "AAAMQwAEAAAwDAEQAADAMARAAAAAwxAAAQAADEMABAAAMAwBEAAAwDAEQAAAAMMQAAEAAAxDAAQA\\\n",
       "ADAMARAAAMAwBEAAAADDEAABAAAMQwAEAAAwDAEQAADAMARAAAAAw0RlAFy0aJHGjx+vM888U2ef\\\n",
       "fbbfNgcOHNB1112n/v37KyEhQXfccYcaGxtDWygAAEAYxIa7gJ7Q2NioG264QRkZGXrqqafaHW9q\\\n",
       "atL06dOVmJiojRs36vPPP1dOTo4sy1JRUVEYKgYAAAidqAyABQUFkqRVq1b5PV5WVqbKykpVVVUp\\\n",
       "NTVVkvTb3/5WM2bM0KJFixQfHx+qUgEAAEIuKm8Bn8o777yj9PR0O/xJ0tVXX62GhgZt27Yt4Psa\\\n",
       "GhpUX1/v8wIAAIg0RgbAmpoaJSUl+ewbOHCg+vbtq5qamoDvKywslMvlsl9paWk9XSoAAEC3i5gA\\\n",
       "6Ha75XA4Onxt3bq105/ncDja7bMsy+9+r4ULF8rj8divqqqq0/q7AAAAhFPEjAHMy8tTdnZ2h22G\\\n",
       "DBnSqc9KTk7Wu+++67Pv6NGjOnHiRLuewdacTqecTmenvgcAAEBvFTEBMCEhQQkJCd3yWRkZGVq0\\\n",
       "aJEOHTqklJQUSS0TQ5xOp8aOHdst3wMAAKC3ipgA2BUHDhzQkSNHdODAATU1NWnHjh2SpGHDhums\\\n",
       "s85SZmamRo0apZtvvlkPPvigjhw5ol/84heaNWsWM4ABAEDUi8oAeP/992v16tX29ujRoyVJb775\\\n",
       "piZPnqw+ffpo7dq1mjt3riZMmKC4uDjddNNNeuihh8JVMgAAQMg4LMuywl1EpKqvr5fL5ZLH46Hn\\\n",
       "EACACMH1O4JmAQMAAKB7EAABAAAMQwAEAAAwDAEQAADAMARAAAAAwxAAAQAADEMABAAAMAwBEAAA\\\n",
       "wDAEQAAAAMMQAAEAAAxDAAQAADAMARAAAMAwBEAAAADDEAABAAAMQwAEAAAwDAEQAADAMARAAAAA\\\n",
       "wxAAAQAADEMABAAAMAwBEAAAwDAEQAAAAMMQAAEAAAxDAAQAADAMARAAAMAwBEAAAADDEAABAAAM\\\n",
       "QwAEAAAwDAEQAADAMARAAAAAwxAAAQAADEMABAAAMAwBEAAAwDAEQAAAAMMQAAEAAAxDAAQAAKoo\\\n",
       "P6in731bFeUHw10KQoAACAAA9P4b+3TsSIPef2NfuEtBCBAAAQCAxkwbogGDnBozbUi4S0EIxIa7\\\n",
       "AAAAEH7pV5yr9CvODXcZCJGo6wHct2+fbr31Vg0dOlRxcXG64IILlJ+fr8bGRp92Bw4c0HXXXaf+\\\n",
       "/fsrISFBd9xxR7s2AAAA0SjqegA/+ugjNTc3a/ny5Ro2bJgqKio0a9YsHT9+XA899JAkqampSdOn\\\n",
       "T1diYqI2btyozz//XDk5ObIsS0VFRWH+GwAAAPQsh2VZVriL6GkPPvigHnvsMX322WeSpNdff13X\\\n",
       "XnutqqqqlJqaKkkqLS3VjBkzVFtbq/j4+E59bn19vVwulzweT6ffAwAAwovrdxTeAvbH4/Fo0KBB\\\n",
       "9vY777yj9PR0O/xJ0tVXX62GhgZt27Yt4Oc0NDSovr7e5wUAABBpoj4AfvrppyoqKtLtt99u76up\\\n",
       "qVFSUpJPu4EDB6pv376qqakJ+FmFhYVyuVz2Ky0trcfqBgAA6CkREwDdbrccDkeHr61bt/q8p7q6\\\n",
       "WtOmTdMNN9ygmTNn+hxzOBztvodlWX73ey1cuFAej8d+VVVVdc9fDgAAIIQiZhJIXl6esrOzO2wz\\\n",
       "ZMgQ+8/V1dW68sorlZGRoRUrVvi0S05O1rvvvuuz7+jRozpx4kS7nsHWnE6nnE5n14sHAADoRSIm\\\n",
       "ACYkJCghIaFTbQ8ePKgrr7xSY8eO1cqVKxUT49vRmZGRoUWLFunQoUNKSUmRJJWVlcnpdGrs2LHd\\\n",
       "XjsAAEBvEnWzgKurqzVp0iSdd955evrpp9WnTx/7WHJysqSWZWC+853vKCkpSQ8++KCOHDmiGTNm\\\n",
       "KCsrq0vLwDCLCACAyMP1O4J6ADurrKxMn3zyiT755BMNHjzY55g36/bp00dr167V3LlzNWHCBMXF\\\n",
       "xemmm26y1wkEAACIZlHXAxhK/AYBAEDk4fodQbOAAQAA0D0IgAAAAIYhAAIAgE5xu90qKSnpsE1J\\\n",
       "SYncbndoCsJpi7pJIAAAoPu53W4VFBTY27m5ue3alJSUKC8vz+c96J3oAQQAAB1qG/7y8vLa9QS2\\\n",
       "DX8FBQUEwF6MAAgAAAJqG/68WofAtuHPixDYe7EMTBCYRg4AiGaBwl9rI0eO1O7duztsk5+f36uC\\\n",
       "INdvegABAEAAiYmJAY+lK12S7PDn3e7q5yA8CIAAAMCv3NxcFRcXt9ufoxwVqUjZypYkZStbRSpS\\\n",
       "jnLatb13/gMacPA7qig/2OP1ovMIgAAAIKC2ITBd6ZqhGZKk2ZqtNVqj2ZotSZqhGT49gcXFxRoR\\\n",
       "N1nHjjTo/Tf2hbJsnAIBEAAAdKh1CKxQhZZruX3MJZf95+VargpVSGoJf7m5uRozbYgGDHJqzLQh\\\n",
       "Ia0ZHWMSSBAYRAoAZqooP6j339inMdOGKP2Kc8NdTsiMGjXKHvO3Rmt8wp9HHmUpS1LLxJDKyspw\\\n",
       "lNgpXL/pAQQAoMvef2Ofcbc1S0pK7PCXrWyf8Ce19AR6xwTu3r1b9921SE/f+zZj/3opAiAAAF1k\\\n",
       "2m3N1uv8pSvdHvMntfT8ec3WbHsM4OJH/0uvlv/RqJAcSQiAAAB0UfoV5+pniycYcfu37SLPFarQ\\\n",
       "Kq2S1DLmL0tZ9pjAVVpljwGUpP/zdpH2fPlWKMtFJzEGMAiMIQAA9HbBjFcM9IQPqaUnsHXYa7vd\\\n",
       "mndCSG/B9ZseQAAAolow4xXr6uoCHvOGveSzz/PZ7urnIDwIgAAARDHveMV+A/rqD3PXq+ypXZ1+\\\n",
       "r9vtVn5+fsDjN0yYp//60UrdMGFewDa97TFwaMEt4CDQhQwAiBQlc9ZLra74iecP0I0LxwVsX1F+\\\n",
       "UOXP7ZFlSWu3rtbr2572OX7DhHmalJ5lf9af1j2rZ9981KdNbw1/XL+l2HAXAAAAel5sbIxOnmi2\\\n",
       "t+v2H1PJ7evbtYuJcUgOqbnp67Q4/dKWR7x5Q+C98x/Qj/9ths/YwhsXjtP4kmH2mMHeGv7QggAI\\\n",
       "AIABJtwwXBue3XPKds3N/m8MTr80R/1dfTX5h9+xJ3S0nVTi3V9XV0f46+W4BRwEupABAJGk7Kld\\\n",
       "+njL3zps07YH8FS3iiMR1296AAEAMEbmrRfq77VfqG7/Mb/HJ900woi1DUEABADAKK178yrKD+rt\\\n",
       "//OxTp5s1vBLkwh/BiEAAgBgqPQrziX0GYp1AAEAAAxDAAQAADAMARAAAPhVUX5QT9/7tirKD4a7\\\n",
       "FHQzAiAAAPDr7Rc+1rEjDXr7hY/DXQq6GQEQAAD4dbKx2ecrogcBEAAA+BXb9+uY8OTd5dwKjiIE\\\n",
       "QAAA4NeE64fL8c+k0PDFSW14bg8hMEoQAAEAgF/pV5yrK7JHSI5/7rCk99/YF86S0E1YCBoAAATk\\\n",
       "XSh685pPJUljpg0JYzXoLgRAAADQIZ4YEn24BQwAAGAYAiAAAIBhCIAAAACGicoA+K//+q8677zz\\\n",
       "1K9fP6WkpOjmm29WdXW1T5sDBw7ouuuuU//+/ZWQkKA77rhDjY2NYaoYAAAgdKIyAF555ZV6/vnn\\\n",
       "tWfPHr344ov69NNPdf3119vHm5qaNH36dB0/flwbN25UaWmpXnzxRf385z8PY9UAAACh4bAsywp3\\\n",
       "ET3tlVdeUVZWlhoaGnTGGWfo9ddf17XXXquqqiqlpqZKkkpLSzVjxgzV1tYqPj6+U59bX18vl8sl\\\n",
       "j8fT6fcAAIDw4vodpT2ArR05ckT/8z//o/Hjx+uMM86QJL3zzjtKT0+3w58kXX311WpoaNC2bdvC\\\n",
       "VSoAAEBIRO06gAsWLFBxcbG++OILXX755Xr11VftYzU1NUpKSvJpP3DgQPXt21c1NTUBP7OhoUEN\\\n",
       "DQ32dn19ffcXDgAwSkX5QW1e86maTjarT2yMLs+6gDX30OMipgfQ7XbL4XB0+Nq6davd/j//8z+1\\\n",
       "fft2lZWVqU+fPvrZz36m1ne7HQ5Hu+9hWZbf/V6FhYVyuVz2Ky0trXv/kgAA47z/xj41fHFSJxub\\\n",
       "1fDFSR61hpCImDGAhw8f1uHDhztsM2TIEPXr16/d/r/+9a9KS0vTpk2blJGRofvvv19/+tOf9MEH\\\n",
       "H9htjh49qkGDBmn9+vW68sor/X6+vx7AtLQ0o8cQAACCQw9g6DEGMIJuASckJCghIeG03uvNuN7w\\\n",
       "lpGRoUWLFunQoUNKSUmRJJWVlcnpdGrs2LEBP8fpdMrpdJ5WDQAA+MNj1hAOERMAO+u9997Te++9\\\n",
       "p4kTJ2rgwIH67LPPdP/99+uCCy5QRkaGJCkzM1OjRo3SzTffrAcffFBHjhzRL37xC82aNcvY3wQA\\\n",
       "AIA5ImYMYGfFxcXppZde0pQpUzRixAjdcsstSk9P14YNG+zeuz59+mjt2rXq16+fJkyYoBtvvFFZ\\\n",
       "WVl66KGHwlw9AABAz4uYMYC9EWMIAACIPFy/o7AHEAAAAB0jAAIAABiGAAgAAGAYAiAAAIBhCIAA\\\n",
       "AACGIQACAAAYhgAIAABgGAIgAACAYQiAAAAAhiEAAgAAGCY23AVEMu9T9Orr68NcCQAA6Czvddvk\\\n",
       "p+ESAINw7NgxSVJaWlqYKwEAAF117NgxuVyucJcRFg7L5PgbpObmZlVXV2vAgAFyOBw9/v3q6+uV\\\n",
       "lpamqqoqYx9eHQzOX3A4f8Hh/AWH83f6OHftWZalY8eOKTU1VTExZo6GowcwCDExMRo8eHDIv298\\\n",
       "fDz/EQeB8xcczl9wOH/B4fydPs6dL1N7/rzMjL0AAAAGIwACAAAYhgAYQZxOp/Lz8+V0OsNdSkTi\\\n",
       "/AWH8xcczl9wOH+nj3MHf5gEAgAAYBh6AAEAAAxDAAQAADAMARAAAMAwBEAAAADDEAAjwL59+3Tr\\\n",
       "rbdq6NChiouL0wUXXKD8/Hw1Njb6tDtw4ICuu+469e/fXwkJCbrjjjvatTHVokWLNH78eJ155pk6\\\n",
       "++yz/bbh/AX2hz/8QUOHDlW/fv00duxY/eUvfwl3Sb1SeXm5rrvuOqWmpsrhcGjNmjU+xy3Lktvt\\\n",
       "VmpqquLi4jR58mTt2rUrPMX2QoWFhRo3bpwGDBigc845R1lZWdqzZ49PG85hYI899pguvvhie8Hn\\\n",
       "jIwMvf766/Zxzh1aIwBGgI8++kjNzc1avny5du3apUceeUSPP/647r33XrtNU1OTpk+fruPHj2vj\\\n",
       "xo0qLS3Viy++qJ///OdhrLz3aGxs1A033KA5c+b4Pc75C+yPf/yj5s+fr/vuu0/bt2/X9773PV1z\\\n",
       "zTU6cOBAuEvrdY4fP65LLrlExcXFfo8vW7ZMDz/8sIqLi7VlyxYlJydr6tSp9nPFTbdhwwbl5uZq\\\n",
       "8+bNWrdunU6ePKnMzEwdP37cbsM5DGzw4MFasmSJtm7dqq1bt+qqq67SD37wAzvkce7gw0JEWrZs\\\n",
       "mTV06FB7+7XXXrNiYmKsgwcP2vuee+45y+l0Wh6PJxwl9korV660XC5Xu/2cv8C++93vWrfffrvP\\\n",
       "vm9/+9vWL3/5yzBVFBkkWS+//LK93dzcbCUnJ1tLliyx93311VeWy+WyHn/88TBU2PvV1tZakqwN\\\n",
       "GzZYlsU5PB0DBw60nnzySc4d2qEHMEJ5PB4NGjTI3n7nnXeUnp6u1NRUe9/VV1+thoYGbdu2LRwl\\\n",
       "RhTOn3+NjY3atm2bMjMzffZnZmZq06ZNYaoqMu3du1c1NTU+59LpdGrSpEmcywA8Ho8k2T/rOIed\\\n",
       "19TUpNLSUh0/flwZGRmcO7RDAIxAn376qYqKinT77bfb+2pqapSUlOTTbuDAgerbt69qampCXWLE\\\n",
       "4fz5d/jwYTU1NbU7N0lJSUafl9PhPV+cy86xLEt33323Jk6cqPT0dEmcw87YuXOnzjrrLDmdTt1+\\\n",
       "++16+eWXNWrUKM4d2iEAhpHb7ZbD4ejwtXXrVp/3VFdXa9q0abrhhhs0c+ZMn2MOh6Pd97Asy+/+\\\n",
       "aHA6568jpp2/rmh7Djgvp49z2Tl5eXn68MMP9dxzz7U7xjkMbMSIEdqxY4c2b96sOXPmKCcnR5WV\\\n",
       "lfZxzh28YsNdgMny8vKUnZ3dYZshQ4bYf66urtaVV16pjIwMrVixwqddcnKy3n33XZ99R48e1YkT\\\n",
       "J9r9xhctunr+OmLi+euMhIQE9enTp10PQW1trdHn5XQkJydLaunFSklJsfdzLtubN2+eXnnlFZWX\\\n",
       "l2vw4MH2fs7hqfXt21fDhg2TJF166aXasmWLfve732nBggWSOHf4Gj2AYZSQkKBvf/vbHb769esn\\\n",
       "STp48KAmT56sMWPGaOXKlYqJ8f2/LiMjQxUVFTp06JC9r6ysTE6nU2PHjg3p3ytUunL+TsXE89cZ\\\n",
       "ffv21dixY7Vu3Tqf/evWrdP48ePDVFVkGjp0qJKTk33OZWNjozZs2MC5/CfLspSXl6eXXnpJ69ev\\\n",
       "19ChQ32Ocw67zrIsNTQ0cO7QXtimn6DTDh48aA0bNsy66qqrrL/+9a/WoUOH7JfXyZMnrfT0dGvK\\\n",
       "lCnW+++/b/3v//6vNXjwYCsvLy+Mlfce+/fvt7Zv324VFBRYZ511lrV9+3Zr+/bt1rFjxyzL4vx1\\\n",
       "pLS01DrjjDOsp556yqqsrLTmz59v9e/f39q3b1+4S+t1jh07Zv/bkmQ9/PDD1vbt2639+/dblmVZ\\\n",
       "S5YssVwul/XSSy9ZO3futH784x9bKSkpVn19fZgr7x3mzJljuVwu66233vL5OffFF1/YbTiHgS1c\\\n",
       "uNAqLy+39u7da3344YfWvffea8XExFhlZWWWZXHu4IsAGAFWrlxpSfL7am3//v3W9OnTrbi4OGvQ\\\n",
       "oEFWXl6e9dVXX4Wp6t4lJyfH7/l788037Tacv8BKSkqs888/3+rbt681ZswYe1kO+HrzzTf9/jvL\\\n",
       "ycmxLKtlGZP8/HwrOTnZcjqd1hVXXGHt3LkzvEX3IoF+zq1cudJuwzkM7JZbbrH/O01MTLSmTJli\\\n",
       "hz/L4tzBl8OyLCuEHY4AAAAIM8YAAgAAGIYACAAAYBgCIAAAgGEIgAAAAIYhAAIAABiGAAgAAGAY\\\n",
       "AiAAAIBhCIAAAACGIQACAAAYhgAIAABgGAIgAACAYQiAAAAAhiEAAgAAGIYACAAAYBgCIAAAgGEI\\\n",
       "gAAAAIYhAAIAABiGAAgAAGAYAiAAAIBhCIAAAACGIQACAAAYhgAIAABgGAIgAACAYQiAAAAAhiEA\\\n",
       "AgAAGIYACAAAYBgCIAAAgGEIgAAAAIYhAAIAABiGAAgAAGAYAiAAAIBh/j+5ARK1bfvtigAAAABJ\\\n",
       "RU5ErkJggg==\\\n",
       "\"\n",
       "\n",
       "\n",
       "    /* set a timeout to make sure all the above elements are created before\n",
       "       the object is initialized. */\n",
       "    setTimeout(function() {\n",
       "        anime69eeea1b33f48428f3ce39c4a47b356 = new Animation(frames, img_id, slider_id, 500.0,\n",
       "                                 loop_select_id);\n",
       "    }, 0);\n",
       "  })()\n",
       "</script>\n"
      ],
      "text/plain": [
       "<IPython.core.display.HTML object>"
      ]
     },
     "execution_count": null,
     "metadata": {},
     "output_type": "execute_result"
    }
   ],
   "source": [
    "X = data.clone()\n",
    "fig, ax = plt.subplots()\n",
    "ani = FuncAnimation(fig, do_one, frames = 5, interval=500, repeat=False)\n",
    "plt.close()\n",
    "HTML(ani.to_jshtml())\n"
   ]
  },
  {
   "cell_type": "markdown",
   "id": "7cc59a64-a22c-422e-987c-2b437fb2cc1c",
   "metadata": {},
   "source": [
    "## GPU batched algorithm"
   ]
  },
  {
   "cell_type": "code",
   "execution_count": null,
   "id": "838f5fe9-e368-439e-9bdb-950b9e69c89e",
   "metadata": {},
   "outputs": [
    {
     "data": {
      "text/plain": [
       "(torch.Size([5, 2]), torch.Size([1500, 2]))"
      ]
     },
     "execution_count": null,
     "metadata": {},
     "output_type": "execute_result"
    }
   ],
   "source": [
    "bs = 5\n",
    "X = data.clone()\n",
    "x = X[:bs]\n",
    "x.shape, X.shape"
   ]
  },
  {
   "cell_type": "code",
   "execution_count": null,
   "id": "81e3bab5-1c62-4db9-9cf6-103b6a896ec3",
   "metadata": {},
   "outputs": [],
   "source": [
    "def dist_b(a, b):\n",
    "    return (((a[None] -b[:,None])**2).sum(2)).sqrt()"
   ]
  },
  {
   "cell_type": "code",
   "execution_count": null,
   "id": "a1a72e67-456b-4310-9cd1-5f507ee59500",
   "metadata": {},
   "outputs": [
    {
     "data": {
      "text/plain": [
       "tensor([[ 0.000,  3.899,  4.834,  ..., 17.628, 22.610, 21.617],\n",
       "        [ 3.899,  0.000,  4.978,  ..., 21.499, 26.508, 25.500],\n",
       "        [ 4.834,  4.978,  0.000,  ..., 19.373, 24.757, 23.396],\n",
       "        [ 3.726,  0.185,  4.969,  ..., 21.335, 26.336, 25.333],\n",
       "        [ 6.273,  5.547,  1.615,  ..., 20.775, 26.201, 24.785]])"
      ]
     },
     "execution_count": null,
     "metadata": {},
     "output_type": "execute_result"
    }
   ],
   "source": [
    "dist_b(X,x)"
   ]
  },
  {
   "cell_type": "code",
   "execution_count": null,
   "id": "b9b0de6e-8720-4569-aa42-3f285d81ed80",
   "metadata": {},
   "outputs": [
    {
     "data": {
      "text/plain": [
       "torch.Size([5, 1500])"
      ]
     },
     "execution_count": null,
     "metadata": {},
     "output_type": "execute_result"
    }
   ],
   "source": [
    "dist_b(X,x).shape"
   ]
  },
  {
   "cell_type": "code",
   "execution_count": null,
   "id": "899bb9ef-f3c0-4561-9bfe-d0fe2bf0625e",
   "metadata": {},
   "outputs": [
    {
     "data": {
      "text/plain": [
       "(torch.Size([1, 1500, 2]), torch.Size([5, 1, 2]), torch.Size([5, 1500, 2]))"
      ]
     },
     "execution_count": null,
     "metadata": {},
     "output_type": "execute_result"
    }
   ],
   "source": [
    "X[None,:].shape, x[:,None].shape, (X[None, :] - x[:, None]).shape"
   ]
  },
  {
   "cell_type": "code",
   "execution_count": null,
   "id": "c48b1de3-47d6-47fc-b45d-f87e368a7fc4",
   "metadata": {},
   "outputs": [
    {
     "data": {
      "text/plain": [
       "\u001b[0;31mSignature:\u001b[0m \u001b[0mgaussian\u001b[0m\u001b[0;34m(\u001b[0m\u001b[0md\u001b[0m\u001b[0;34m,\u001b[0m \u001b[0mbw\u001b[0m\u001b[0;34m)\u001b[0m\u001b[0;34m\u001b[0m\u001b[0;34m\u001b[0m\u001b[0m\n",
       "\u001b[0;31mDocstring:\u001b[0m <no docstring>\n",
       "\u001b[0;31mSource:\u001b[0m   \n",
       "\u001b[0;32mdef\u001b[0m \u001b[0mgaussian\u001b[0m\u001b[0;34m(\u001b[0m\u001b[0md\u001b[0m\u001b[0;34m,\u001b[0m \u001b[0mbw\u001b[0m\u001b[0;34m)\u001b[0m\u001b[0;34m:\u001b[0m\u001b[0;34m\u001b[0m\n",
       "\u001b[0;34m\u001b[0m    \u001b[0;32mreturn\u001b[0m \u001b[0mtorch\u001b[0m\u001b[0;34m.\u001b[0m\u001b[0mexp\u001b[0m\u001b[0;34m(\u001b[0m\u001b[0;34m-\u001b[0m\u001b[0;36m0.5\u001b[0m\u001b[0;34m*\u001b[0m\u001b[0;34m(\u001b[0m\u001b[0;34m(\u001b[0m\u001b[0md\u001b[0m\u001b[0;34m/\u001b[0m\u001b[0mbw\u001b[0m\u001b[0;34m)\u001b[0m\u001b[0;34m)\u001b[0m\u001b[0;34m**\u001b[0m\u001b[0;36m2\u001b[0m\u001b[0;34m)\u001b[0m \u001b[0;34m/\u001b[0m \u001b[0;34m(\u001b[0m\u001b[0mbw\u001b[0m \u001b[0;34m*\u001b[0m \u001b[0mmath\u001b[0m\u001b[0;34m.\u001b[0m\u001b[0msqrt\u001b[0m\u001b[0;34m(\u001b[0m\u001b[0;36m2\u001b[0m\u001b[0;34m*\u001b[0m\u001b[0mmath\u001b[0m\u001b[0;34m.\u001b[0m\u001b[0mpi\u001b[0m\u001b[0;34m)\u001b[0m\u001b[0;34m)\u001b[0m\u001b[0;34m\u001b[0m\u001b[0;34m\u001b[0m\u001b[0m\n",
       "\u001b[0;31mFile:\u001b[0m      /tmp/ipykernel_1054164/117635507.py\n",
       "\u001b[0;31mType:\u001b[0m      function"
      ]
     },
     "metadata": {},
     "output_type": "display_data"
    }
   ],
   "source": [
    "gaussian??"
   ]
  },
  {
   "cell_type": "code",
   "execution_count": null,
   "id": "3a9e53ba-b64c-40be-94b6-de572a141f8f",
   "metadata": {},
   "outputs": [],
   "source": [
    "weight = gaussian(dist_b(X,x),2)"
   ]
  },
  {
   "cell_type": "code",
   "execution_count": null,
   "id": "0e0a6fd8-a2d1-4aea-9440-c187e81a91bf",
   "metadata": {},
   "outputs": [
    {
     "data": {
      "text/plain": [
       "(torch.Size([5, 1500]), torch.Size([1500, 2]))"
      ]
     },
     "execution_count": null,
     "metadata": {},
     "output_type": "execute_result"
    }
   ],
   "source": [
    "weight.shape, X.shape"
   ]
  },
  {
   "cell_type": "code",
   "execution_count": null,
   "id": "60cd213b-359b-4cb3-af06-af1f5883f633",
   "metadata": {},
   "outputs": [
    {
     "data": {
      "text/plain": [
       "(torch.Size([5, 1500, 1]), torch.Size([1, 5, 2]))"
      ]
     },
     "execution_count": null,
     "metadata": {},
     "output_type": "execute_result"
    }
   ],
   "source": [
    "weight[..., None].shape, x[None].shape"
   ]
  },
  {
   "cell_type": "code",
   "execution_count": null,
   "id": "ba58e98e-f948-4c22-a4a9-7ba02c864a24",
   "metadata": {},
   "outputs": [
    {
     "data": {
      "text/plain": [
       "torch.Size([5, 2])"
      ]
     },
     "execution_count": null,
     "metadata": {},
     "output_type": "execute_result"
    }
   ],
   "source": [
    "num = (weight[...,None] * X[None]).sum(1)\n",
    "num.shape"
   ]
  },
  {
   "cell_type": "code",
   "execution_count": null,
   "id": "b5c1d294-921d-4212-8f64-129f0d888585",
   "metadata": {},
   "outputs": [
    {
     "data": {
      "text/plain": [
       "tensor([[367.870, 386.231],\n",
       "        [518.332, 588.680],\n",
       "        [329.665, 330.782],\n",
       "        [527.617, 598.217],\n",
       "        [231.302, 234.155]])"
      ]
     },
     "execution_count": null,
     "metadata": {},
     "output_type": "execute_result"
    }
   ],
   "source": [
    "num"
   ]
  },
  {
   "cell_type": "code",
   "execution_count": null,
   "id": "9040e3bd-69ba-4624-8eb0-c71424ca5095",
   "metadata": {},
   "outputs": [
    {
     "data": {
      "text/plain": [
       "tensor([[367.870, 386.231],\n",
       "        [518.332, 588.680],\n",
       "        [329.665, 330.782],\n",
       "        [527.617, 598.217],\n",
       "        [231.302, 234.155]])"
      ]
     },
     "execution_count": null,
     "metadata": {},
     "output_type": "execute_result"
    }
   ],
   "source": [
    "torch.einsum('ij,jk ->ik', weight, X)"
   ]
  },
  {
   "cell_type": "code",
   "execution_count": null,
   "id": "9b6d8734-d320-493b-82e3-5f4067db36ef",
   "metadata": {},
   "outputs": [
    {
     "data": {
      "text/plain": [
       "tensor([[367.870, 386.231],\n",
       "        [518.332, 588.680],\n",
       "        [329.665, 330.782],\n",
       "        [527.617, 598.217],\n",
       "        [231.302, 234.155]])"
      ]
     },
     "execution_count": null,
     "metadata": {},
     "output_type": "execute_result"
    }
   ],
   "source": [
    "weight@X"
   ]
  },
  {
   "cell_type": "code",
   "execution_count": null,
   "id": "bba48262-cb47-43fe-a5d8-d235e1ad2714",
   "metadata": {},
   "outputs": [
    {
     "data": {
      "text/plain": [
       "torch.Size([5, 1])"
      ]
     },
     "execution_count": null,
     "metadata": {},
     "output_type": "execute_result"
    }
   ],
   "source": [
    "div = weight.sum(1, keepdim = True)\n",
    "div.shape"
   ]
  },
  {
   "cell_type": "code",
   "execution_count": null,
   "id": "8e6fb9e0-4e41-453f-a51b-507c07cf6597",
   "metadata": {},
   "outputs": [
    {
     "data": {
      "text/plain": [
       "tensor([[26.376, 27.692],\n",
       "        [26.101, 29.643],\n",
       "        [28.892, 28.990],\n",
       "        [26.071, 29.559],\n",
       "        [29.323, 29.685]])"
      ]
     },
     "execution_count": null,
     "metadata": {},
     "output_type": "execute_result"
    }
   ],
   "source": [
    "num/div"
   ]
  },
  {
   "cell_type": "code",
   "execution_count": null,
   "id": "887e65d3-a809-4f66-a896-242246c82e46",
   "metadata": {},
   "outputs": [],
   "source": [
    "bs = 5"
   ]
  },
  {
   "cell_type": "code",
   "execution_count": null,
   "id": "5f779096-c1b0-4cb9-af92-eede8846abaa",
   "metadata": {},
   "outputs": [],
   "source": [
    "def meanshift(data, bs = 500):\n",
    "    n = len(data)\n",
    "    X = data.clone()\n",
    "    for it in range(5):\n",
    "        for i in range(0, n, bs):\n",
    "            s = slice(i, min(i+bs, n))\n",
    "            weight = gaussian(dist_b(X, X[s]), 2.5)\n",
    "            div = weight.sum(1, keepdim = True)\n",
    "            X[s] = weight@X/div\n",
    "\n",
    "    return X"
   ]
  },
  {
   "cell_type": "code",
   "execution_count": null,
   "id": "13a0da98-1906-408b-932e-96da027cfb94",
   "metadata": {},
   "outputs": [],
   "source": [
    "data = data.cuda()"
   ]
  },
  {
   "cell_type": "code",
   "execution_count": null,
   "id": "55b21d7a-a25b-4f70-a83d-7c2858f35d6f",
   "metadata": {},
   "outputs": [],
   "source": [
    "X = meanshift(data,bs).cpu()"
   ]
  },
  {
   "cell_type": "code",
   "execution_count": null,
   "id": "caee8918-04ed-46ec-a1ba-521e875cb7d1",
   "metadata": {},
   "outputs": [
    {
     "name": "stdout",
     "output_type": "stream",
     "text": [
      "17.7 ms ± 1.79 ms per loop (mean ± std. dev. of 7 runs, 5 loops each)\n"
     ]
    }
   ],
   "source": [
    "%timeit -n 5 _=meanshift(data,64).cpu()"
   ]
  },
  {
   "cell_type": "code",
   "execution_count": null,
   "id": "322c2927-c242-4c07-b518-4ff8202a6869",
   "metadata": {},
   "outputs": [
    {
     "name": "stdout",
     "output_type": "stream",
     "text": [
      "3.91 ms ± 11.2 µs per loop (mean ± std. dev. of 7 runs, 5 loops each)\n"
     ]
    }
   ],
   "source": [
    "%timeit -n 5 _=meanshift(data,1024).cpu()"
   ]
  },
  {
   "cell_type": "code",
   "execution_count": null,
   "id": "ff0a59d1-59ce-4521-b589-30d82e1f67fe",
   "metadata": {},
   "outputs": [
    {
     "name": "stdout",
     "output_type": "stream",
     "text": [
      "3.68 ms ± 8.66 µs per loop (mean ± std. dev. of 7 runs, 5 loops each)\n"
     ]
    }
   ],
   "source": [
    "%timeit -n 5 _=meanshift(data, 1500).cpu()"
   ]
  },
  {
   "cell_type": "code",
   "execution_count": null,
   "id": "56347da5-ce89-4293-9aa3-ccdd6b3e00c4",
   "metadata": {},
   "outputs": [
    {
     "data": {
      "image/png": "[encoded data removed]",
      "text/plain": [
       "<Figure size 640x480 with 1 Axes>"
      ]
     },
     "metadata": {},
     "output_type": "display_data"
    }
   ],
   "source": [
    "plot_data(centroids+2, X, n_samples)"
   ]
  },
  {
   "cell_type": "code",
   "execution_count": null,
   "id": "2e0d785f-73bb-4dc3-95c6-6e46a8f0efff",
   "metadata": {},
   "outputs": [],
   "source": []
  }
 ],
 "metadata": {
  "kernelspec": {
   "display_name": "python3",
   "language": "python",
   "name": "python3"
  }
 },
 "nbformat": 4,
 "nbformat_minor": 5
}
