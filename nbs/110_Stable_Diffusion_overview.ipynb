{
 "cells": [
  {
   "cell_type": "code",
   "execution_count": null,
   "id": "88e152a3-4df3-4c76-a7cc-f318c4d7a9e3",
   "metadata": {},
   "outputs": [],
   "source": [
    "%load_ext autoreload\n",
    "%autoreload 2"
   ]
  },
  {
   "cell_type": "markdown",
   "id": "881bd2fd-f9c1-486e-9c82-d5585027263e",
   "metadata": {},
   "source": [
    "# Stable Diffusion Overview\n",
    "\n",
    "> Stable Diffusion Overview"
   ]
  },
  {
   "cell_type": "code",
   "execution_count": null,
   "id": "5c360558-c642-44b8-a68d-7eddbb165cd7",
   "metadata": {},
   "outputs": [],
   "source": [
    "#| default_exp diffusion"
   ]
  },
  {
   "cell_type": "markdown",
   "id": "53b0e9fe-d492-4718-91a3-3671315cc77d",
   "metadata": {},
   "source": [
    "## Initial Checks"
   ]
  },
  {
   "cell_type": "code",
   "execution_count": null,
   "id": "b00cc65e-0e36-442b-b4d3-c669900806e4",
   "metadata": {},
   "outputs": [
    {
     "name": "stdout",
     "output_type": "stream",
     "text": [
      "pytorch                   2.0.1           py3.11_cuda11.8_cudnn8.7.0_0    pytorch\n",
      "pytorch-cuda              11.8                 h7e8668a_5    pytorch\n",
      "pytorch-ignite            0.4.12                   pypi_0    pypi\n",
      "pytorch-lightning         2.0.7                    pypi_0    pypi\n",
      "pytorch-mutex             1.0                        cuda    pytorch\n",
      "torchaudio                2.0.2               py311_cu118    pytorch\n",
      "torchtriton               2.0.0                     py311    pytorch\n",
      "torchvision               0.15.2              py311_cu118    pytorch\n"
     ]
    }
   ],
   "source": [
    "#|eval: false\n",
    "!conda list | grep \"pytorch\""
   ]
  },
  {
   "cell_type": "code",
   "execution_count": null,
   "id": "e439043c-e314-465f-9b64-0ca1d82e53b2",
   "metadata": {},
   "outputs": [
    {
     "name": "stdout",
     "output_type": "stream",
     "text": [
      "fastai                        2.7.12\n",
      "fastbook                      0.0.28\n",
      "ipywidgets                    8.1.0\n"
     ]
    }
   ],
   "source": [
    "#|eval: false\n",
    "!pip list | grep \"fastai\" \n",
    "!pip list | grep \"fastbook\"\n",
    "!pip list | grep \"ipywidgets\""
   ]
  },
  {
   "cell_type": "code",
   "execution_count": null,
   "id": "4641e0fe-08ac-42df-9945-7a4b7d4a1b95",
   "metadata": {},
   "outputs": [],
   "source": [
    "#|eval: false\n",
    "import torch"
   ]
  },
  {
   "cell_type": "code",
   "execution_count": null,
   "id": "aec84493-62cd-41ec-969e-e5fc66b92be1",
   "metadata": {},
   "outputs": [
    {
     "data": {
      "text/plain": [
       "True"
      ]
     },
     "execution_count": null,
     "metadata": {},
     "output_type": "execute_result"
    }
   ],
   "source": [
    "#|eval: false\n",
    "torch.cuda.is_available()"
   ]
  },
  {
   "cell_type": "markdown",
   "id": "5d95cb15-d711-4a90-9b25-2c84ea071798",
   "metadata": {},
   "source": [
    "## \"UNET\" "
   ]
  },
  {
   "cell_type": "markdown",
   "id": "1bb20f0d-9cbe-459f-9c60-595b526c03af",
   "metadata": {},
   "source": [
    "- input - somewhat noisy image\n",
    "- output - the noise\n",
    "\n",
    "image = image + noise  \n",
    "\n",
    "**Model trained to calculate noise in a image**\n"
   ]
  },
  {
   "cell_type": "markdown",
   "id": "15cf1a9f-df0e-46b5-8aaa-f31c40d8cbf3",
   "metadata": {},
   "source": [
    "## Autoencoder = \"VAE\""
   ]
  },
  {
   "cell_type": "markdown",
   "id": "52fa4ae2-6809-4196-92fd-3db122a7429e",
   "metadata": {},
   "source": [
    "- output = input\n",
    "\n",
    "**Model trained to compress and decompress images**"
   ]
  },
  {
   "cell_type": "markdown",
   "id": "40a49bfe-04ea-4734-b4a5-0f7ea978e26c",
   "metadata": {},
   "source": [
    "## Latents"
   ]
  },
  {
   "cell_type": "markdown",
   "id": "0b89fd14-6d02-42ec-a527-018dac0a671e",
   "metadata": {},
   "source": [
    "latents = Autoencoders middle output (compressed version of the image)"
   ]
  },
  {
   "cell_type": "markdown",
   "id": "d6f2d445-9617-408a-b955-89b643e08dcd",
   "metadata": {},
   "source": [
    "## CLIP"
   ]
  },
  {
   "cell_type": "markdown",
   "id": "08d4c426-1827-4da7-8ee8-31f171c40428",
   "metadata": {},
   "source": [
    "CL - Contrast loss\n",
    "\n",
    "**model trained to create image latents from text input**"
   ]
  },
  {
   "cell_type": "code",
   "execution_count": null,
   "id": "67544ec3-a26a-4e23-9f12-b4e9b26b9cda",
   "metadata": {},
   "outputs": [],
   "source": []
  }
 ],
 "metadata": {
  "kernelspec": {
   "display_name": "python3",
   "language": "python",
   "name": "python3"
  },
  "widgets": {
   "application/vnd.jupyter.widget-state+json": {
    "state": {},
    "version_major": 2,
    "version_minor": 0
   }
  }
 },
 "nbformat": 4,
 "nbformat_minor": 5
}
