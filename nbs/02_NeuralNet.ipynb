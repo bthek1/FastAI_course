{
 "cells": [
  {
   "cell_type": "code",
   "execution_count": null,
   "id": "4704c97a-fd91-4bab-a12b-4c2fbea598cf",
   "metadata": {},
   "outputs": [],
   "source": [
    "%load_ext autoreload\n",
    "%autoreload 2"
   ]
  },
  {
   "cell_type": "markdown",
   "id": "41db5c02-1dd8-49fe-aac2-a5ecb72841af",
   "metadata": {},
   "source": [
    "## Lession 3: Neural Net Foundations\n",
    "\n",
    "> mathematical foundations of deep learning: Stochastic gradient descent (SGD), and the flexibility of linear functions layered with non-linear activation functions. "
   ]
  },
  {
   "cell_type": "code",
   "execution_count": null,
   "id": "5c360558-c642-44b8-a68d-7eddbb165cd7",
   "metadata": {},
   "outputs": [],
   "source": [
    "#| default_exp neuralnet"
   ]
  },
  {
   "cell_type": "markdown",
   "id": "53b0e9fe-d492-4718-91a3-3671315cc77d",
   "metadata": {},
   "source": [
    "## Initial Checks"
   ]
  },
  {
   "cell_type": "code",
   "execution_count": null,
   "id": "b00cc65e-0e36-442b-b4d3-c669900806e4",
   "metadata": {},
   "outputs": [
    {
     "name": "stdout",
     "output_type": "stream",
     "text": [
      "ffmpeg                    4.3                  hf484d3e_0    pytorch\n",
      "pytorch                   2.0.1           py3.11_cuda11.8_cudnn8.7.0_0    pytorch\n",
      "pytorch-cuda              11.8                 h7e8668a_5    pytorch\n",
      "pytorch-ignite            0.4.12                   pypi_0    pypi\n",
      "pytorch-lightning         2.0.6                    pypi_0    pypi\n",
      "pytorch-mutex             1.0                        cuda    pytorch\n",
      "torchaudio                2.0.2               py311_cu118    pytorch\n",
      "torchtriton               2.0.0                     py311    pytorch\n",
      "torchvision               0.15.2              py311_cu118    pytorch\n"
     ]
    }
   ],
   "source": [
    "!conda list | grep \"pytorch\""
   ]
  },
  {
   "cell_type": "code",
   "execution_count": null,
   "id": "e439043c-e314-465f-9b64-0ca1d82e53b2",
   "metadata": {},
   "outputs": [
    {
     "name": "stdout",
     "output_type": "stream",
     "text": [
      "fastai                        2.7.12\n",
      "fastbook                      0.0.29\n",
      "ipywidgets                    7.7.5\n",
      "fastAIcourse                  0.0.1     /home/ben/BENEDICT_Only/Benedict_Projects/Benedict_ML/fastAIcourse\n"
     ]
    }
   ],
   "source": [
    "!pip list | grep \"fastai\" \n",
    "!pip list | grep \"fastbook\"\n",
    "!pip list | grep \"ipywidgets\"\n",
    "!pip list | grep \"fastAIcourse\""
   ]
  },
  {
   "cell_type": "code",
   "execution_count": null,
   "id": "4641e0fe-08ac-42df-9945-7a4b7d4a1b95",
   "metadata": {},
   "outputs": [],
   "source": [
    "import torch"
   ]
  },
  {
   "cell_type": "code",
   "execution_count": null,
   "id": "aec84493-62cd-41ec-969e-e5fc66b92be1",
   "metadata": {},
   "outputs": [
    {
     "data": {
      "text/plain": [
       "True"
      ]
     },
     "execution_count": null,
     "metadata": {},
     "output_type": "execute_result"
    }
   ],
   "source": [
    "torch.cuda.is_available()"
   ]
  },
  {
   "cell_type": "markdown",
   "id": "e9fc97aa-74ee-4702-bc38-d547b6675452",
   "metadata": {},
   "source": [
    "## Gather Data"
   ]
  },
  {
   "cell_type": "code",
   "execution_count": null,
   "id": "ed64299c-cd59-4bed-b5ac-d95c77d18f30",
   "metadata": {},
   "outputs": [],
   "source": [
    "from fastbook import search_images_ddg\n",
    "from fastdownload import download_url\n",
    "from fastai.vision.all import *\n",
    "import os"
   ]
  },
  {
   "cell_type": "code",
   "execution_count": null,
   "id": "248e5716-62ea-4025-9df8-a301a57ba304",
   "metadata": {},
   "outputs": [],
   "source": [
    "from fastAIcourse.intro import *"
   ]
  },
  {
   "cell_type": "code",
   "execution_count": null,
   "id": "c7f15f7a-eb9a-4728-8926-b7f5f7f4acdf",
   "metadata": {},
   "outputs": [],
   "source": []
  },
  {
   "cell_type": "code",
   "execution_count": null,
   "id": "fe854ac2-1b61-46d0-a01a-7cd7460fcf81",
   "metadata": {},
   "outputs": [],
   "source": []
  },
  {
   "cell_type": "code",
   "execution_count": null,
   "id": "70520e9d-cd0a-4ad3-b781-fa9d76b74ed4",
   "metadata": {},
   "outputs": [],
   "source": []
  },
  {
   "cell_type": "code",
   "execution_count": null,
   "id": "44db675e-714b-4e41-93d7-e594e05327f2",
   "metadata": {},
   "outputs": [],
   "source": [
    "!pip list | grep 'timm'"
   ]
  },
  {
   "cell_type": "code",
   "execution_count": null,
   "id": "14457360-73d3-43d3-aebb-22aec5ccdf11",
   "metadata": {},
   "outputs": [],
   "source": [
    "import timm "
   ]
  },
  {
   "cell_type": "code",
   "execution_count": null,
   "id": "472322e9-1ff3-4b11-a129-f228b869dda0",
   "metadata": {},
   "outputs": [],
   "source": [
    "timm.list_models('convnext*')"
   ]
  },
  {
   "cell_type": "code",
   "execution_count": null,
   "id": "459a498c-6cc0-40f7-807c-a0da41bf0ad1",
   "metadata": {},
   "outputs": [],
   "source": []
  }
 ],
 "metadata": {
  "kernelspec": {
   "display_name": "python3",
   "language": "python",
   "name": "python3"
  }
 },
 "nbformat": 4,
 "nbformat_minor": 5
}
