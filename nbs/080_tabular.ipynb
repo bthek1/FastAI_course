{
 "cells": [
  {
   "cell_type": "markdown",
   "metadata": {},
   "source": [
    "# Tabular Modeling Deep Dive\n",
    "\n",
    "\n",
    "- skip_showdoc: true\n",
    "- skip_exec: true"
   ]
  },
  {
   "cell_type": "code",
   "execution_count": null,
   "metadata": {
    "hide_input": false
   },
   "outputs": [],
   "source": [
    "#|hide\n",
    "import logging\n",
    "logging.getLogger('matplotlib.font_manager').setLevel(level=logging.CRITICAL)\n",
    "\n",
    "from fastbook import *\n",
    "from pandas.api.types import is_string_dtype, is_numeric_dtype, is_categorical_dtype\n",
    "from fastai.tabular.all import *\n",
    "from sklearn.ensemble import RandomForestRegressor\n",
    "from sklearn.tree import DecisionTreeRegressor\n",
    "from dtreeviz.trees import *\n",
    "from IPython.display import Image, display_svg, SVG\n",
    "\n",
    "pd.options.display.max_rows = 20\n",
    "pd.options.display.max_columns = 8"
   ]
  },
  {
   "cell_type": "code",
   "execution_count": null,
   "metadata": {},
   "outputs": [
    {
     "name": "stdout",
     "output_type": "stream",
     "text": [
      "fastbook                  0.0.28                     py_0    fastai\n",
      "fastkaggle                0.0.8                    pypi_0    pypi\n",
      "kaggle                    1.5.16                   pypi_0    pypi\n",
      "dtreeviz                  2.2.2                    pypi_0    pypi\n"
     ]
    }
   ],
   "source": [
    "#|hide\n",
    "!mamba list | grep fastbook\n",
    "!mamba list | grep kaggle\n",
    "!mamba list | grep waterfallcharts\n",
    "!mamba list | grep treeinterpreter\n",
    "!mamba list | grep dtreeviz\n"
   ]
  },
  {
   "cell_type": "markdown",
   "metadata": {},
   "source": [
    "Tabular modeling takes data in the form of a table (like a spreadsheet or CSV). The objective is to predict the value in one column based on the values in the other columns. In this chapter we will not only look at deep learning but also more general machine learning techniques like random forests, as they can give better results depending on your problem.\n",
    "\n",
    "We will look at how we should preprocess and clean the data as well as how to interpret the result of our models after training, but first, we will see how we can feed columns that contain categories into a model that expects numbers by using embeddings."
   ]
  },
  {
   "cell_type": "markdown",
   "metadata": {},
   "source": [
    "## Categorical Embeddings"
   ]
  },
  {
   "cell_type": "markdown",
   "metadata": {},
   "source": [
    "In tabular data some columns may contain numerical data, like \"age,\" while others contain string values, like \"sex.\" The numerical data can be directly fed to the model (with some optional preprocessing), but the other columns need to be converted to numbers. Since the values in those correspond to different categories, we often call this type of variables *categorical variables*. The first type are called *continuous variables*."
   ]
  },
  {
   "cell_type": "markdown",
   "metadata": {},
   "source": [
    "> jargon: Continuous and Categorical Variables: Continuous variables are numerical data, such as \"age,\" that can be directly fed to the model, since you can add and multiply them directly. Categorical variables contain a number of discrete levels, such as \"movie ID,\" for which addition and multiplication don't have meaning (even if they're stored as numbers)."
   ]
  },
  {
   "cell_type": "markdown",
   "metadata": {},
   "source": [
    "At the end of 2015, the [Rossmann sales competition](https://www.kaggle.com/c/rossmann-store-sales) ran on Kaggle. Competitors were given a wide range of information about various stores in Germany, and were tasked with trying to predict sales on a number of days. The goal was to help the company to manage stock properly and be able to satisfy demand without holding unnecessary inventory. The official training set provided a lot of information about the stores. It was also permitted for competitors to use additional data, as long as that data was made public and available to all participants.\n",
    "\n",
    "One of the gold medalists used deep learning, in one of the earliest known examples of a state-of-the-art deep learning tabular model. Their method involved far less feature engineering, based on domain knowledge, than those of the other gold medalists. The paper, [\"Entity Embeddings of Categorical Variables\"](https://arxiv.org/abs/1604.06737) describes their approach. In an online-only chapter on the [book's website](https://book.fast.ai/) we show how to replicate it from scratch and attain the same accuracy shown in the paper. In the abstract of the paper the authors (Cheng Guo and Felix Berkhahn) say:"
   ]
  },
  {
   "cell_type": "markdown",
   "metadata": {},
   "source": [
    "> : Entity embedding not only reduces memory usage and speeds up neural networks compared with one-hot encoding, but more importantly by mapping similar values close to each other in the embedding space it reveals the intrinsic properties of the categorical variables... [It] is especially useful for datasets with lots of high cardinality features, where other methods tend to overfit... As entity embedding defines a distance measure for categorical variables it can be used for visualizing categorical data and for data clustering."
   ]
  },
  {
   "cell_type": "markdown",
   "metadata": {},
   "source": [
    "We have already noticed all of these points when we built our collaborative filtering model. We can clearly see that these insights go far beyond just collaborative filtering, however.\n",
    "\n",
    "The paper also points out that (as we discussed in the last chapter) an embedding layer is exactly equivalent to placing an ordinary linear layer after every one-hot-encoded input layer. The authors used the diagram in <<entity_emb>> to show this equivalence. Note that \"dense layer\" is a term with the same meaning as \"linear layer,\" and the one-hot encoding layers represent inputs."
   ]
  },
  {
   "cell_type": "markdown",
   "metadata": {},
   "source": [
    "<img alt=\"Entity embeddings in a neural network\" width=\"600\" caption=\"Entity embeddings in a neural network (courtesy of Cheng Guo and Felix Berkhahn)\" id=\"entity_emb\" src=\"images/att_00018.png\">"
   ]
  },
  {
   "cell_type": "markdown",
   "metadata": {},
   "source": [
    "The insight is important because we already know how to train linear layers, so this shows that from the point of view of the architecture and our training algorithm the embedding layer is just another layer. We also saw this in practice in the last chapter, when we built a collaborative filtering neural network that looks exactly like this diagram.\n",
    "\n",
    "Where we analyzed the embedding weights for movie reviews, the authors of the entity embeddings paper analyzed the embedding weights for their sales prediction model. What they found was quite amazing, and illustrates their second key insight. This is that the embedding transforms the categorical variables into inputs that are both continuous and meaningful.\n",
    "\n",
    "The images in <<state_emb>> illustrate these ideas. They are based on the approaches used in the paper, along with some analysis we have added."
   ]
  },
  {
   "cell_type": "markdown",
   "metadata": {},
   "source": [
    "<img alt=\"State embeddings and map\" width=\"800\" caption=\"State embeddings and map (courtesy of Cheng Guo and Felix Berkhahn)\" id=\"state_emb\" src=\"images/att_00015.png\">"
   ]
  },
  {
   "cell_type": "markdown",
   "metadata": {},
   "source": [
    "On the left is a plot of the embedding matrix for the possible values of the `State` category. For a categorical variable we call the possible values of the variable its \"levels\" (or \"categories\" or \"classes\"), so here one level is \"Berlin,\" another is \"Hamburg,\" etc. On the right is a map of Germany. The actual physical locations of the German states were not part of the provided data, yet the model itself learned where they must be, based only on the behavior of store sales!\n",
    "\n",
    "Do you remember how we talked about *distance* between embeddings? The authors of the paper plotted the distance between store embeddings against the actual geographic distance between the stores (see <<store_emb>>). They found that they matched very closely!"
   ]
  },
  {
   "cell_type": "markdown",
   "metadata": {},
   "source": [
    "<img alt=\"Store distances\" width=\"600\" caption=\"Store distances (courtesy of Cheng Guo and Felix Berkhahn)\" id=\"store_emb\" src=\"images/att_00016.png\">"
   ]
  },
  {
   "cell_type": "markdown",
   "metadata": {},
   "source": [
    "We've even tried plotting the embeddings for days of the week and months of the year, and found that days and months that are near each other on the calendar ended up close as embeddings too, as shown in <<date_emb>>."
   ]
  },
  {
   "cell_type": "markdown",
   "metadata": {},
   "source": [
    "<img alt=\"Date embeddings\" width=\"900\" caption=\"Date embeddings\" id=\"date_emb\" src=\"images/att_00017.png\">"
   ]
  },
  {
   "cell_type": "markdown",
   "metadata": {},
   "source": [
    "What stands out in these two examples is that we provide the model fundamentally categorical data about discrete entities (e.g., German states or days of the week), and then the model learns an embedding for these entities that defines a continuous notion of distance between them. Because the embedding distance was learned based on real patterns in the data, that distance tends to match up with our intuitions.\n",
    "\n",
    "In addition, it is valuable in its own right that embeddings are continuous, because models are better at understanding continuous variables. This is unsurprising considering models are built of many continuous parameter weights and continuous activation values, which are updated via gradient descent (a learning algorithm for finding the minimums of continuous functions).\n",
    "\n",
    "Another benefit is that we can combine our continuous embedding values with truly continuous input data in a straightforward manner: we just concatenate the variables, and feed the concatenation into our first dense layer. In other words, the raw categorical data is transformed by an embedding layer before it interacts with the raw continuous input data. This is how fastai and Guo and Berkhahn handle tabular models containing continuous and categorical variables.\n",
    "\n",
    "An example using this concatenation approach is how Google does its recommendations on Google Play, as explained in the paper [\"Wide & Deep Learning for Recommender Systems\"](https://arxiv.org/abs/1606.07792). <<google_recsys>> illustrates."
   ]
  },
  {
   "cell_type": "markdown",
   "metadata": {},
   "source": [
    "<img alt=\"The Google Play recommendation system\" width=\"800\" caption=\"The Google Play recommendation system\" id=\"google_recsys\" src=\"images/att_00019.png\">"
   ]
  },
  {
   "cell_type": "markdown",
   "metadata": {},
   "source": [
    "Interestingly, the Google team actually combined both approaches we saw in the previous chapter: the dot product (which they call *cross product*) and neural network approaches.\n",
    "\n",
    "Let's pause for a moment. So far, the solution to all of our modeling problems has been: *train a deep learning model*. And indeed, that is a pretty good rule of thumb for complex unstructured data like images, sounds, natural language text, and so forth. Deep learning also works very well for collaborative filtering. But it is not always the best starting point for analyzing tabular data."
   ]
  },
  {
   "cell_type": "markdown",
   "metadata": {},
   "source": [
    "## Beyond Deep Learning"
   ]
  },
  {
   "cell_type": "markdown",
   "metadata": {},
   "source": [
    "Most machine learning courses will throw dozens of different algorithms at you, with a brief technical description of the math behind them and maybe a toy example. You're left confused by the enormous range of techniques shown and have little practical understanding of how to apply them.\n",
    "\n",
    "The good news is that modern machine learning can be distilled down to a couple of key techniques that are widely applicable. Recent studies have shown that the vast majority of datasets can be best modeled with just two methods:\n",
    "\n",
    "1. Ensembles of decision trees (i.e., random forests and gradient boosting machines), mainly for structured data (such as you might find in a database table at most companies)\n",
    "1. Multilayered neural networks learned with SGD (i.e., shallow and/or deep learning), mainly for unstructured data (such as audio, images, and natural language)"
   ]
  },
  {
   "cell_type": "markdown",
   "metadata": {},
   "source": [
    "Although deep learning is nearly always clearly superior for unstructured data, these two approaches tend to give quite similar results for many kinds of structured data. But ensembles of decision trees tend to train faster, are often easier to interpret, do not require special GPU hardware for inference at scale, and often require less hyperparameter tuning. They have also been popular for quite a lot longer than deep learning, so there is a more mature ecosystem of tooling and documentation around them.\n",
    "\n",
    "Most importantly, the critical step of interpreting a model of tabular data is significantly easier for decision tree ensembles. There are tools and methods for answering the pertinent questions, like: Which columns in the dataset were the most important for your predictions? How are they related to the dependent variable? How do they interact with each other? And which particular features were most important for some particular observation?\n",
    "\n",
    "Therefore, ensembles of decision trees are our first approach for analyzing a new tabular dataset.\n",
    "\n",
    "The exception to this guideline is when the dataset meets one of these conditions:\n",
    "\n",
    "- There are some high-cardinality categorical variables that are very important (\"cardinality\" refers to the number of discrete levels representing categories, so a high-cardinality categorical variable is something like a zip code, which can take on thousands of possible levels).\n",
    "- There are some columns that contain data that would be best understood with a neural network, such as plain text data.\n",
    "\n",
    "In practice, when we deal with datasets that meet these exceptional conditions, we always try both decision tree ensembles and deep learning to see which works best. It is likely that deep learning will be a useful approach in our example of collaborative filtering, as we have at least two high-cardinality categorical variables: the users and the movies. But in practice things tend to be less cut-and-dried, and there will often be a mixture of high- and low-cardinality categorical variables and continuous variables.\n",
    "\n",
    "Either way, it's clear that we are going to need to add decision tree ensembles to our modeling toolbox!"
   ]
  },
  {
   "cell_type": "markdown",
   "metadata": {},
   "source": [
    "Up to now we've used PyTorch and fastai for pretty much all of our heavy lifting. But these libraries are mainly designed for algorithms that do lots of matrix multiplication and derivatives (that is, stuff like deep learning!). Decision trees don't depend on these operations at all, so PyTorch isn't much use.\n",
    "\n",
    "Instead, we will be largely relying on a library called scikit-learn (also known as `sklearn`). Scikit-learn is a popular library for creating machine learning models, using approaches that are not covered by deep learning. In addition, we'll need to do some tabular data processing and querying, so we'll want to use the Pandas library. Finally, we'll also need NumPy, since that's the main numeric programming library that both sklearn and Pandas rely on.\n",
    "\n",
    "We don't have time to do a deep dive into all these libraries in this book, so we'll just be touching on some of the main parts of each. For a far more in depth discussion, we strongly suggest Wes McKinney's [Python for Data Analysis](http://shop.oreilly.com/product/0636920023784.do) (O'Reilly). Wes is the creator of Pandas, so you can be sure that the information is accurate!\n",
    "\n",
    "First, let's gather the data we will use."
   ]
  },
  {
   "cell_type": "markdown",
   "metadata": {},
   "source": [
    "## The Dataset"
   ]
  },
  {
   "cell_type": "markdown",
   "metadata": {},
   "source": [
    "The dataset we use in this chapter is from the Blue Book for Bulldozers Kaggle competition, which has the following description: \"The goal of the contest is to predict the sale price of a particular piece of heavy equipment at auction based on its usage, equipment type, and configuration.  The data is sourced from auction result postings and includes information on usage and equipment configurations.\"\n",
    "\n",
    "This is a very common type of dataset and prediction problem, similar to what you may see in your project or workplace. The dataset is available for download on Kaggle, a website that hosts data science competitions."
   ]
  },
  {
   "cell_type": "markdown",
   "metadata": {},
   "source": [
    "### Kaggle Competitions"
   ]
  },
  {
   "cell_type": "markdown",
   "metadata": {},
   "source": [
    "Kaggle is an awesome resource for aspiring data scientists or anyone looking to improve their machine learning skills.  There is nothing like getting hands-on practice and receiving real-time feedback to help you improve your skills.\n",
    "\n",
    "Kaggle provides:\n",
    "\n",
    "- Interesting datasets\n",
    "- Feedback on how you're doing\n",
    "- A leaderboard to see what's good, what's possible, and what's state-of-the-art\n",
    "- Blog posts by winning contestants sharing useful tips and techniques\n",
    "\n",
    "Until now all our datasets have been available to download through fastai's integrated dataset system. However, the dataset we will be using in this chapter is only available from Kaggle. Therefore, you will need to register on the site, then go to the [page for the competition](https://www.kaggle.com/c/bluebook-for-bulldozers). On that page click \"Rules,\" then \"I Understand and Accept.\" (Although the competition has finished, and you will not be entering it, you still have to agree to the rules to be allowed to download the data.)\n",
    "\n",
    "The easiest way to download Kaggle datasets is to use the Kaggle API. You can install this using `pip` by running this in a notebook cell:\n",
    "\n",
    "    !pip install kaggle\n",
    "\n",
    "You need an API key to use the Kaggle API; to get one, click on your profile picture on the Kaggle website, and choose My Account, then click Create New API Token. This will save a file called *kaggle.json* to your PC. You need to copy this key on your GPU server. To do so, open the file you downloaded, copy the contents, and paste them in the following cell in the notebook associated with this chapter (e.g., `creds = '{\"username\":\"xxx\",\"key\":\"xxx\"}'`):"
   ]
  },
  {
   "cell_type": "code",
   "execution_count": null,
   "metadata": {},
   "outputs": [],
   "source": [
    "creds = ''"
   ]
  },
  {
   "cell_type": "markdown",
   "metadata": {},
   "source": [
    "Then execute this cell (this only needs to be run once):"
   ]
  },
  {
   "cell_type": "code",
   "execution_count": null,
   "metadata": {},
   "outputs": [
    {
     "name": "stdout",
     "output_type": "stream",
     "text": [
      "kaggle account already exists\n"
     ]
    }
   ],
   "source": [
    "cred_path = Path('~/.kaggle/kaggle.json').expanduser()\n",
    "if not cred_path.exists():\n",
    "    cred_path.parent.mkdir(exist_ok=True)\n",
    "    cred_path.write_text(creds)\n",
    "    cred_path.chmod(0o600)\n",
    "else: \n",
    "    print(\"kaggle account already exists\")"
   ]
  },
  {
   "cell_type": "markdown",
   "metadata": {},
   "source": [
    "Now you can download datasets from Kaggle! Pick a path to download the dataset to:"
   ]
  },
  {
   "cell_type": "markdown",
   "metadata": {},
   "source": [
    "And use the Kaggle API to download the dataset to that path, and extract it:"
   ]
  },
  {
   "cell_type": "code",
   "execution_count": null,
   "metadata": {},
   "outputs": [],
   "source": [
    "import os\n",
    "from nbdevAuto.functions import kaggle_competition_download\n",
    "from pathlib import Path\n"
   ]
  },
  {
   "cell_type": "code",
   "execution_count": null,
   "metadata": {},
   "outputs": [
    {
     "name": "stdout",
     "output_type": "stream",
     "text": [
      "file exists\n"
     ]
    }
   ],
   "source": [
    "name = 'bluebook-for-bulldozers'\n",
    "datapath = Path('./Data')\n",
    "kaggle_competition_download(name, folderpath = datapath)"
   ]
  },
  {
   "cell_type": "code",
   "execution_count": null,
   "metadata": {},
   "outputs": [
    {
     "data": {
      "text/plain": [
       "'Data/bluebook-for-bulldozers'"
      ]
     },
     "execution_count": null,
     "metadata": {},
     "output_type": "execute_result"
    }
   ],
   "source": [
    "path = f'{datapath}/{name}'\n",
    "path"
   ]
  },
  {
   "cell_type": "markdown",
   "metadata": {},
   "source": [
    "Now that we have downloaded our dataset, let's take a look at it!"
   ]
  },
  {
   "cell_type": "markdown",
   "metadata": {},
   "source": [
    "### Look at the Data"
   ]
  },
  {
   "cell_type": "markdown",
   "metadata": {},
   "source": [
    "Kaggle provides information about some of the fields of our dataset. The [Data](https://www.kaggle.com/c/bluebook-for-bulldozers/data) explains that the key fields in *train.csv* are:\n",
    "\n",
    "- `SalesID`:: The unique identifier of the sale.\n",
    "- `MachineID`:: The unique identifier of a machine.  A machine can be sold multiple times.\n",
    "- `saleprice`:: What the machine sold for at auction (only provided in *train.csv*).\n",
    "- `saledate`:: The date of the sale.\n",
    "\n",
    "In any sort of data science work, it's important to *look at your data directly* to make sure you understand the format, how it's stored, what types of values it holds, etc. Even if you've read a description of the data, the actual data may not be what you expect. We'll start by reading the training set into a Pandas DataFrame. Generally it's a good idea to specify `low_memory=False` unless Pandas actually runs out of memory and returns an error. The `low_memory` parameter, which is `True` by default, tells Pandas to only look at a few rows of data at a time to figure out what type of data is in each column. This means that Pandas can actually end up using different data type for different rows, which generally leads to data processing errors or model training problems later.\n",
    "\n",
    "Let's load our data and have a look at the columns:"
   ]
  },
  {
   "cell_type": "code",
   "execution_count": null,
   "metadata": {},
   "outputs": [
    {
     "data": {
      "text/plain": [
       "Index(['SalesID', 'SalePrice', 'MachineID', 'ModelID', 'datasource',\n",
       "       'auctioneerID', 'YearMade', 'MachineHoursCurrentMeter', 'UsageBand',\n",
       "       'saledate', 'fiModelDesc', 'fiBaseModel', 'fiSecondaryDesc',\n",
       "       'fiModelSeries', 'fiModelDescriptor', 'ProductSize',\n",
       "       'fiProductClassDesc', 'state', 'ProductGroup', 'ProductGroupDesc',\n",
       "       'Drive_System', 'Enclosure', 'Forks', 'Pad_Type', 'Ride_Control',\n",
       "       'Stick', 'Transmission', 'Turbocharged', 'Blade_Extension',\n",
       "       'Blade_Width', 'Enclosure_Type', 'Engine_Horsepower', 'Hydraulics',\n",
       "       'Pushblock', 'Ripper', 'Scarifier', 'Tip_Control', 'Tire_Size',\n",
       "       'Coupler', 'Coupler_System', 'Grouser_Tracks', 'Hydraulics_Flow',\n",
       "       'Track_Type', 'Undercarriage_Pad_Width', 'Stick_Length', 'Thumb',\n",
       "       'Pattern_Changer', 'Grouser_Type', 'Backhoe_Mounting', 'Blade_Type',\n",
       "       'Travel_Controls', 'Differential_Type', 'Steering_Controls'],\n",
       "      dtype='object')"
      ]
     },
     "execution_count": null,
     "metadata": {},
     "output_type": "execute_result"
    }
   ],
   "source": [
    "df = pd.read_csv(f'{path}/TrainAndValid.csv', low_memory=False)\n",
    "df.columns"
   ]
  },
  {
   "cell_type": "markdown",
   "metadata": {},
   "source": [
    "That's a lot of columns for us to look at! Try looking through the dataset to get a sense of what kind of information is in each one. We'll shortly see how to \"zero in\" on the most interesting bits.\n",
    "\n",
    "At this point, a good next step is to handle *ordinal columns*. This refers to columns containing strings or similar, but where those strings have a natural ordering. For instance, here are the levels of `ProductSize`:"
   ]
  },
  {
   "cell_type": "code",
   "execution_count": null,
   "metadata": {},
   "outputs": [
    {
     "data": {
      "text/plain": [
       "array([nan, 'Medium', 'Small', 'Large / Medium', 'Mini', 'Large', 'Compact'], dtype=object)"
      ]
     },
     "execution_count": null,
     "metadata": {},
     "output_type": "execute_result"
    }
   ],
   "source": [
    "df['ProductSize'].unique()"
   ]
  },
  {
   "cell_type": "markdown",
   "metadata": {},
   "source": [
    "We can tell Pandas about a suitable ordering of these levels like so:"
   ]
  },
  {
   "cell_type": "code",
   "execution_count": null,
   "metadata": {},
   "outputs": [],
   "source": [
    "sizes = 'Large','Large / Medium','Medium','Small','Mini','Compact'"
   ]
  },
  {
   "cell_type": "code",
   "execution_count": null,
   "metadata": {},
   "outputs": [
    {
     "data": {
      "text/plain": [
       "0            NaN\n",
       "1         Medium\n",
       "2            NaN\n",
       "3          Small\n",
       "4            NaN\n",
       "           ...  \n",
       "412693      Mini\n",
       "412694      Mini\n",
       "412695      Mini\n",
       "412696      Mini\n",
       "412697      Mini\n",
       "Name: ProductSize, Length: 412698, dtype: category\n",
       "Categories (6, object): ['Large' < 'Large / Medium' < 'Medium' < 'Small' < 'Mini' < 'Compact']"
      ]
     },
     "execution_count": null,
     "metadata": {},
     "output_type": "execute_result"
    }
   ],
   "source": [
    "df['ProductSize'] = df['ProductSize'].astype('category')\n",
    "df['ProductSize'].cat.set_categories(sizes, ordered=True)"
   ]
  },
  {
   "cell_type": "markdown",
   "metadata": {},
   "source": [
    "The most important data column is the dependent variable—that is, the one we want to predict. Recall that a model's metric is a function that reflects how good the predictions are. It's important to note what metric is being used for a project. Generally, selecting the metric is an important part of the project setup. In many cases, choosing a good metric will require more than just selecting a variable that already exists. It is more like a design process. You should think carefully about which metric, or set of metrics, actually measures the notion of model quality that matters to you. If no variable represents that metric, you should see if you can build the metric from the variables that are available.\n",
    "\n",
    "However, in this case Kaggle tells us what metric to use: root mean squared log error (RMSLE) between the actual and predicted auction prices. We need do only a small amount of processing to use this: we take the log of the prices, so that `rmse` of that value will give us what we ultimately need:"
   ]
  },
  {
   "cell_type": "code",
   "execution_count": null,
   "metadata": {},
   "outputs": [],
   "source": [
    "dep_var = 'SalePrice'"
   ]
  },
  {
   "cell_type": "code",
   "execution_count": null,
   "metadata": {},
   "outputs": [],
   "source": [
    "df[dep_var] = np.log(df[dep_var])"
   ]
  },
  {
   "cell_type": "markdown",
   "metadata": {},
   "source": [
    "We are now ready to explore our first machine learning algorithm for tabular data: decision trees."
   ]
  },
  {
   "cell_type": "markdown",
   "metadata": {},
   "source": [
    "## Decision Trees"
   ]
  },
  {
   "cell_type": "markdown",
   "metadata": {},
   "source": [
    "Decision tree ensembles, as the name suggests, rely on decision trees. So let's start there! A decision tree asks a series of binary (that is, yes or no) questions about the data. After each question the data at that part of the tree is split between a \"yes\" and a \"no\" branch, as shown in <<decision_tree>>. After one or more questions, either a prediction can be made on the basis of all previous answers or another question is required."
   ]
  },
  {
   "cell_type": "markdown",
   "metadata": {},
   "source": [
    "<img alt=\"An example of decision tree\" width=\"600\" caption=\"An example of decision tree\" id=\"decision_tree\" src=\"images/decision_tree.PNG\">"
   ]
  },
  {
   "cell_type": "markdown",
   "metadata": {},
   "source": [
    "This sequence of questions is now a procedure for taking any data item, whether an item from the training set or a new one, and assigning that item to a group. Namely, after asking and answering the questions, we can say the item belongs to the same group as all the other training data items that yielded the same set of answers to the questions. But what good is this? The goal of our model is to predict values for items, not to assign them into groups from the training dataset. The value is that we can now assign a prediction value for each of these groups—for regression, we take the target mean of the items in the group.\n",
    "\n",
    "Let's consider how we find the right questions to ask. Of course, we wouldn't want to have to create all these questions ourselves—that's what computers are for! The basic steps to train a decision tree can be written down very easily:\n",
    "\n",
    "1. Loop through each column of the dataset in turn.\n",
    "1. For each column, loop through each possible level of that column in turn.\n",
    "1. Try splitting the data into two groups, based on whether they are greater than or less than that value (or if it is a categorical variable, based on whether they are equal to or not equal to that level of that categorical variable).\n",
    "1. Find the average sale price for each of those two groups, and see how close that is to the actual sale price of each of the items of equipment in that group. That is, treat this as a very simple \"model\" where our predictions are simply the average sale price of the item's group.\n",
    "1. After looping through all of the columns and all the possible levels for each, pick the split point that gave the best predictions using that simple model.\n",
    "1. We now have two different groups for our data, based on this selected split. Treat each of these as separate datasets, and find the best split for each by going back to step 1 for each group.\n",
    "1. Continue this process recursively, until you have reached some stopping criterion for each group—for instance, stop splitting a group further when it has only 20 items in it.\n",
    "\n",
    "Although this is an easy enough algorithm to implement yourself (and it is a good exercise to do so), we can save some time by using the implementation built into sklearn.\n",
    "\n",
    "First, however, we need to do a little data preparation."
   ]
  },
  {
   "cell_type": "markdown",
   "metadata": {},
   "source": [
    "> A: Here's a productive question to ponder. If you consider that the procedure for defining a decision tree essentially chooses one _sequence of splitting questions about variables_, you might ask yourself, how do we know this procedure chooses the _correct sequence_? The rule is to choose the splitting question that produces the best split (i.e., that most accurately separates the items into two distinct categories), and then to apply the same rule to the groups that split produces, and so on. This is known in computer science as a \"greedy\" approach. Can you imagine a scenario in which asking a “less powerful” splitting question would enable a better split down the road (or should I say down the trunk!) and lead to a better result overall?"
   ]
  },
  {
   "cell_type": "markdown",
   "metadata": {},
   "source": [
    "### Handling Dates"
   ]
  },
  {
   "cell_type": "markdown",
   "metadata": {},
   "source": [
    "The first piece of data preparation we need to do is to enrich our representation of dates. The fundamental basis of the decision tree that we just described is *bisection*— dividing a group into two. We look at the ordinal variables and divide up the dataset based on whether the variable's value is greater (or lower) than a threshold, and we look at the categorical variables and divide up the dataset based on whether the variable's level is a particular level. So this algorithm has a way of dividing up the dataset based on both ordinal and categorical data.\n",
    "\n",
    "But how does this apply to a common data type, the date? You might want to treat a date as an ordinal value, because it is meaningful to say that one date is greater than another. However, dates are a bit different from most ordinal values in that some dates are qualitatively different from others in a way that that is often relevant to the systems we are modeling.\n",
    "\n",
    "In order to help our algorithm handle dates intelligently, we'd like our model to know more than whether a date is more recent or less recent than another. We might want our model to make decisions based on that date's day of the week, on whether a day is a holiday, on what month it is in, and so forth. To do this, we replace every date column with a set of date metadata columns, such as holiday, day of week, and month. These columns provide categorical data that we suspect will be useful.\n",
    "\n",
    "fastai comes with a function that will do this for us—we just have to pass a column name that contains dates:"
   ]
  },
  {
   "cell_type": "code",
   "execution_count": null,
   "metadata": {},
   "outputs": [],
   "source": [
    "df = add_datepart(df, 'saledate')"
   ]
  },
  {
   "cell_type": "markdown",
   "metadata": {},
   "source": [
    "Let's do the same for the test set while we're there:"
   ]
  },
  {
   "cell_type": "code",
   "execution_count": null,
   "metadata": {},
   "outputs": [],
   "source": [
    "df_test = pd.read_csv(f'{path}/Test.csv', low_memory=False)\n",
    "df_test = add_datepart(df_test, 'saledate')"
   ]
  },
  {
   "cell_type": "markdown",
   "metadata": {},
   "source": [
    "We can see that there are now lots of new columns in our DataFrame:"
   ]
  },
  {
   "cell_type": "code",
   "execution_count": null,
   "metadata": {},
   "outputs": [
    {
     "data": {
      "text/plain": [
       "'saleYear saleMonth saleWeek saleDay saleDayofweek saleDayofyear saleIs_month_end saleIs_month_start saleIs_quarter_end saleIs_quarter_start saleIs_year_end saleIs_year_start saleElapsed'"
      ]
     },
     "execution_count": null,
     "metadata": {},
     "output_type": "execute_result"
    }
   ],
   "source": [
    "' '.join(o for o in df.columns if o.startswith('sale'))"
   ]
  },
  {
   "cell_type": "markdown",
   "metadata": {},
   "source": [
    "This is a good first step, but we will need to do a bit more cleaning. For this, we will use fastai objects called `TabularPandas` and `TabularProc`."
   ]
  },
  {
   "cell_type": "markdown",
   "metadata": {},
   "source": [
    "### Using TabularPandas and TabularProc"
   ]
  },
  {
   "cell_type": "markdown",
   "metadata": {},
   "source": [
    "A second piece of preparatory processing is to be sure we can handle strings and missing data. Out of the box, sklearn cannot do either. Instead we will use fastai's class `TabularPandas`, which wraps a Pandas DataFrame and provides a few conveniences. To populate a `TabularPandas`, we will use two  `TabularProc`s, `Categorify` and `FillMissing`. A `TabularProc` is like a regular `Transform`, except that:\n",
    "\n",
    "- It returns the exact same object that's passed to it, after modifying the object in place.\n",
    "- It runs the transform once, when data is first passed in, rather than lazily as the data is accessed.\n",
    "\n",
    "`Categorify` is a `TabularProc` that replaces a column with a numeric categorical column. `FillMissing` is a `TabularProc` that replaces missing values with the median of the column, and creates a new Boolean column that is set to `True` for any row where the value was missing. These two transforms are needed for nearly every tabular dataset you will use, so this is a good starting point for your data processing:"
   ]
  },
  {
   "cell_type": "code",
   "execution_count": null,
   "metadata": {},
   "outputs": [],
   "source": [
    "procs = [Categorify, FillMissing]"
   ]
  },
  {
   "cell_type": "markdown",
   "metadata": {},
   "source": [
    "`TabularPandas` will also handle splitting the dataset into training and validation sets for us. However we need to be very careful about our validation set. We want to design it so that it is like the *test set* Kaggle will use to judge the contest.\n",
    "\n",
    "Recall the distinction between a validation set and a test set, as discussed in <<chapter_intro>>. A validation set is data we hold back from training in order to ensure that the training process does not overfit on the training data. A test set is data that is held back even more deeply, from us ourselves, in order to ensure that *we* don't overfit on the validation data, as we explore various model architectures and hyperparameters.\n",
    "\n",
    "We don't get to see the test set. But we do want to define our validation data so that it has the same sort of relationship to the training data as the test set will have.\n",
    "\n",
    "In some cases, just randomly choosing a subset of your data points will do that. This is not one of those cases, because it is a time series.\n",
    "\n",
    "If you look at the date range represented in the test set, you will discover that it covers a six-month period from May 2012, which is later in time than any date in the training set. This is a good design, because the competition sponsor will want to ensure that a model is able to predict the future. But it means that if we are going to have a useful validation set, we also want the validation set to be later in time than the training set. The Kaggle training data ends in April 2012, so we will define a narrower training dataset which consists only of the Kaggle training data from before November 2011, and we'll define a validation set consisting of data from after November 2011.\n",
    "\n",
    "To do this we use `np.where`, a useful function that returns (as the first element of a tuple) the indices of all `True` values:"
   ]
  },
  {
   "cell_type": "code",
   "execution_count": null,
   "metadata": {},
   "outputs": [],
   "source": [
    "cond = (df.saleYear<2011) | (df.saleMonth<10)\n",
    "train_idx = np.where( cond)[0]\n",
    "valid_idx = np.where(~cond)[0]\n",
    "\n",
    "splits = (list(train_idx),list(valid_idx))"
   ]
  },
  {
   "cell_type": "markdown",
   "metadata": {},
   "source": [
    "`TabularPandas` needs to be told which columns are continuous and which are categorical. We can handle that automatically using the helper function `cont_cat_split`:"
   ]
  },
  {
   "cell_type": "code",
   "execution_count": null,
   "metadata": {},
   "outputs": [],
   "source": [
    "cont,cat = cont_cat_split(df, 1, dep_var=dep_var)"
   ]
  },
  {
   "cell_type": "code",
   "execution_count": null,
   "metadata": {},
   "outputs": [],
   "source": [
    "to = TabularPandas(df, procs, cat, cont, y_names=dep_var, splits=splits)"
   ]
  },
  {
   "cell_type": "markdown",
   "metadata": {},
   "source": [
    "A `TabularPandas` behaves a lot like a fastai `Datasets` object, including providing `train` and `valid` attributes:"
   ]
  },
  {
   "cell_type": "code",
   "execution_count": null,
   "metadata": {},
   "outputs": [
    {
     "data": {
      "text/plain": [
       "(404710, 7988)"
      ]
     },
     "execution_count": null,
     "metadata": {},
     "output_type": "execute_result"
    }
   ],
   "source": [
    "len(to.train),len(to.valid)"
   ]
  },
  {
   "cell_type": "markdown",
   "metadata": {},
   "source": [
    "We can see that the data is still displayed as strings for categories (we only show a few columns here because the full table is too big to fit on a page):"
   ]
  },
  {
   "cell_type": "code",
   "execution_count": null,
   "metadata": {},
   "outputs": [
    {
     "data": {
      "text/html": [
       "<table border=\"1\" class=\"dataframe\">\n",
       "  <thead>\n",
       "    <tr style=\"text-align: right;\">\n",
       "      <th></th>\n",
       "      <th>UsageBand</th>\n",
       "      <th>fiModelDesc</th>\n",
       "      <th>fiBaseModel</th>\n",
       "      <th>fiSecondaryDesc</th>\n",
       "      <th>fiModelSeries</th>\n",
       "      <th>fiModelDescriptor</th>\n",
       "      <th>ProductSize</th>\n",
       "      <th>fiProductClassDesc</th>\n",
       "      <th>state</th>\n",
       "      <th>ProductGroup</th>\n",
       "      <th>ProductGroupDesc</th>\n",
       "      <th>Drive_System</th>\n",
       "      <th>Enclosure</th>\n",
       "      <th>Forks</th>\n",
       "      <th>Pad_Type</th>\n",
       "      <th>Ride_Control</th>\n",
       "      <th>Stick</th>\n",
       "      <th>Transmission</th>\n",
       "      <th>Turbocharged</th>\n",
       "      <th>Blade_Extension</th>\n",
       "      <th>Blade_Width</th>\n",
       "      <th>Enclosure_Type</th>\n",
       "      <th>Engine_Horsepower</th>\n",
       "      <th>Hydraulics</th>\n",
       "      <th>Pushblock</th>\n",
       "      <th>Ripper</th>\n",
       "      <th>Scarifier</th>\n",
       "      <th>Tip_Control</th>\n",
       "      <th>Tire_Size</th>\n",
       "      <th>Coupler</th>\n",
       "      <th>Coupler_System</th>\n",
       "      <th>Grouser_Tracks</th>\n",
       "      <th>Hydraulics_Flow</th>\n",
       "      <th>Track_Type</th>\n",
       "      <th>Undercarriage_Pad_Width</th>\n",
       "      <th>Stick_Length</th>\n",
       "      <th>Thumb</th>\n",
       "      <th>Pattern_Changer</th>\n",
       "      <th>Grouser_Type</th>\n",
       "      <th>Backhoe_Mounting</th>\n",
       "      <th>Blade_Type</th>\n",
       "      <th>Travel_Controls</th>\n",
       "      <th>Differential_Type</th>\n",
       "      <th>Steering_Controls</th>\n",
       "      <th>saleIs_month_end</th>\n",
       "      <th>saleIs_month_start</th>\n",
       "      <th>saleIs_quarter_end</th>\n",
       "      <th>saleIs_quarter_start</th>\n",
       "      <th>saleIs_year_end</th>\n",
       "      <th>saleIs_year_start</th>\n",
       "      <th>auctioneerID_na</th>\n",
       "      <th>MachineHoursCurrentMeter_na</th>\n",
       "      <th>SalesID</th>\n",
       "      <th>MachineID</th>\n",
       "      <th>ModelID</th>\n",
       "      <th>datasource</th>\n",
       "      <th>auctioneerID</th>\n",
       "      <th>YearMade</th>\n",
       "      <th>MachineHoursCurrentMeter</th>\n",
       "      <th>saleYear</th>\n",
       "      <th>saleMonth</th>\n",
       "      <th>saleWeek</th>\n",
       "      <th>saleDay</th>\n",
       "      <th>saleDayofweek</th>\n",
       "      <th>saleDayofyear</th>\n",
       "      <th>saleElapsed</th>\n",
       "      <th>SalePrice</th>\n",
       "    </tr>\n",
       "  </thead>\n",
       "  <tbody>\n",
       "    <tr>\n",
       "      <th>0</th>\n",
       "      <td>Low</td>\n",
       "      <td>521D</td>\n",
       "      <td>521</td>\n",
       "      <td>D</td>\n",
       "      <td>#na#</td>\n",
       "      <td>#na#</td>\n",
       "      <td>#na#</td>\n",
       "      <td>Wheel Loader - 110.0 to 120.0 Horsepower</td>\n",
       "      <td>Alabama</td>\n",
       "      <td>WL</td>\n",
       "      <td>Wheel Loader</td>\n",
       "      <td>#na#</td>\n",
       "      <td>EROPS w AC</td>\n",
       "      <td>None or Unspecified</td>\n",
       "      <td>#na#</td>\n",
       "      <td>None or Unspecified</td>\n",
       "      <td>#na#</td>\n",
       "      <td>#na#</td>\n",
       "      <td>#na#</td>\n",
       "      <td>#na#</td>\n",
       "      <td>#na#</td>\n",
       "      <td>#na#</td>\n",
       "      <td>#na#</td>\n",
       "      <td>2 Valve</td>\n",
       "      <td>#na#</td>\n",
       "      <td>#na#</td>\n",
       "      <td>#na#</td>\n",
       "      <td>#na#</td>\n",
       "      <td>None or Unspecified</td>\n",
       "      <td>None or Unspecified</td>\n",
       "      <td>#na#</td>\n",
       "      <td>#na#</td>\n",
       "      <td>#na#</td>\n",
       "      <td>#na#</td>\n",
       "      <td>#na#</td>\n",
       "      <td>#na#</td>\n",
       "      <td>#na#</td>\n",
       "      <td>#na#</td>\n",
       "      <td>#na#</td>\n",
       "      <td>#na#</td>\n",
       "      <td>#na#</td>\n",
       "      <td>#na#</td>\n",
       "      <td>Standard</td>\n",
       "      <td>Conventional</td>\n",
       "      <td>False</td>\n",
       "      <td>False</td>\n",
       "      <td>False</td>\n",
       "      <td>False</td>\n",
       "      <td>False</td>\n",
       "      <td>False</td>\n",
       "      <td>False</td>\n",
       "      <td>False</td>\n",
       "      <td>1139246</td>\n",
       "      <td>999089</td>\n",
       "      <td>3157</td>\n",
       "      <td>121</td>\n",
       "      <td>3.0</td>\n",
       "      <td>2004</td>\n",
       "      <td>68.0</td>\n",
       "      <td>2006</td>\n",
       "      <td>11</td>\n",
       "      <td>46</td>\n",
       "      <td>16</td>\n",
       "      <td>3</td>\n",
       "      <td>320</td>\n",
       "      <td>1.163635e+09</td>\n",
       "      <td>11.097410</td>\n",
       "    </tr>\n",
       "    <tr>\n",
       "      <th>1</th>\n",
       "      <td>Low</td>\n",
       "      <td>950FII</td>\n",
       "      <td>950</td>\n",
       "      <td>F</td>\n",
       "      <td>II</td>\n",
       "      <td>#na#</td>\n",
       "      <td>Medium</td>\n",
       "      <td>Wheel Loader - 150.0 to 175.0 Horsepower</td>\n",
       "      <td>North Carolina</td>\n",
       "      <td>WL</td>\n",
       "      <td>Wheel Loader</td>\n",
       "      <td>#na#</td>\n",
       "      <td>EROPS w AC</td>\n",
       "      <td>None or Unspecified</td>\n",
       "      <td>#na#</td>\n",
       "      <td>None or Unspecified</td>\n",
       "      <td>#na#</td>\n",
       "      <td>#na#</td>\n",
       "      <td>#na#</td>\n",
       "      <td>#na#</td>\n",
       "      <td>#na#</td>\n",
       "      <td>#na#</td>\n",
       "      <td>#na#</td>\n",
       "      <td>2 Valve</td>\n",
       "      <td>#na#</td>\n",
       "      <td>#na#</td>\n",
       "      <td>#na#</td>\n",
       "      <td>#na#</td>\n",
       "      <td>23.5</td>\n",
       "      <td>None or Unspecified</td>\n",
       "      <td>#na#</td>\n",
       "      <td>#na#</td>\n",
       "      <td>#na#</td>\n",
       "      <td>#na#</td>\n",
       "      <td>#na#</td>\n",
       "      <td>#na#</td>\n",
       "      <td>#na#</td>\n",
       "      <td>#na#</td>\n",
       "      <td>#na#</td>\n",
       "      <td>#na#</td>\n",
       "      <td>#na#</td>\n",
       "      <td>#na#</td>\n",
       "      <td>Standard</td>\n",
       "      <td>Conventional</td>\n",
       "      <td>False</td>\n",
       "      <td>False</td>\n",
       "      <td>False</td>\n",
       "      <td>False</td>\n",
       "      <td>False</td>\n",
       "      <td>False</td>\n",
       "      <td>False</td>\n",
       "      <td>False</td>\n",
       "      <td>1139248</td>\n",
       "      <td>117657</td>\n",
       "      <td>77</td>\n",
       "      <td>121</td>\n",
       "      <td>3.0</td>\n",
       "      <td>1996</td>\n",
       "      <td>4640.0</td>\n",
       "      <td>2004</td>\n",
       "      <td>3</td>\n",
       "      <td>13</td>\n",
       "      <td>26</td>\n",
       "      <td>4</td>\n",
       "      <td>86</td>\n",
       "      <td>1.080259e+09</td>\n",
       "      <td>10.950807</td>\n",
       "    </tr>\n",
       "    <tr>\n",
       "      <th>2</th>\n",
       "      <td>High</td>\n",
       "      <td>226</td>\n",
       "      <td>226</td>\n",
       "      <td>#na#</td>\n",
       "      <td>#na#</td>\n",
       "      <td>#na#</td>\n",
       "      <td>#na#</td>\n",
       "      <td>Skid Steer Loader - 1351.0 to 1601.0 Lb Operating Capacity</td>\n",
       "      <td>New York</td>\n",
       "      <td>SSL</td>\n",
       "      <td>Skid Steer Loaders</td>\n",
       "      <td>#na#</td>\n",
       "      <td>OROPS</td>\n",
       "      <td>None or Unspecified</td>\n",
       "      <td>#na#</td>\n",
       "      <td>#na#</td>\n",
       "      <td>#na#</td>\n",
       "      <td>#na#</td>\n",
       "      <td>#na#</td>\n",
       "      <td>#na#</td>\n",
       "      <td>#na#</td>\n",
       "      <td>#na#</td>\n",
       "      <td>#na#</td>\n",
       "      <td>Auxiliary</td>\n",
       "      <td>#na#</td>\n",
       "      <td>#na#</td>\n",
       "      <td>#na#</td>\n",
       "      <td>#na#</td>\n",
       "      <td>#na#</td>\n",
       "      <td>None or Unspecified</td>\n",
       "      <td>None or Unspecified</td>\n",
       "      <td>None or Unspecified</td>\n",
       "      <td>Standard</td>\n",
       "      <td>#na#</td>\n",
       "      <td>#na#</td>\n",
       "      <td>#na#</td>\n",
       "      <td>#na#</td>\n",
       "      <td>#na#</td>\n",
       "      <td>#na#</td>\n",
       "      <td>#na#</td>\n",
       "      <td>#na#</td>\n",
       "      <td>#na#</td>\n",
       "      <td>#na#</td>\n",
       "      <td>#na#</td>\n",
       "      <td>False</td>\n",
       "      <td>False</td>\n",
       "      <td>False</td>\n",
       "      <td>False</td>\n",
       "      <td>False</td>\n",
       "      <td>False</td>\n",
       "      <td>False</td>\n",
       "      <td>False</td>\n",
       "      <td>1139249</td>\n",
       "      <td>434808</td>\n",
       "      <td>7009</td>\n",
       "      <td>121</td>\n",
       "      <td>3.0</td>\n",
       "      <td>2001</td>\n",
       "      <td>2838.0</td>\n",
       "      <td>2004</td>\n",
       "      <td>2</td>\n",
       "      <td>9</td>\n",
       "      <td>26</td>\n",
       "      <td>3</td>\n",
       "      <td>57</td>\n",
       "      <td>1.077754e+09</td>\n",
       "      <td>9.210340</td>\n",
       "    </tr>\n",
       "  </tbody>\n",
       "</table>"
      ],
      "text/plain": [
       "<IPython.core.display.HTML object>"
      ]
     },
     "metadata": {},
     "output_type": "display_data"
    }
   ],
   "source": [
    "to.show(3)"
   ]
  },
  {
   "cell_type": "code",
   "execution_count": null,
   "metadata": {},
   "outputs": [
    {
     "data": {
      "text/html": [
       "<table border=\"1\" class=\"dataframe\">\n",
       "  <thead>\n",
       "    <tr style=\"text-align: right;\">\n",
       "      <th></th>\n",
       "      <th>state</th>\n",
       "      <th>ProductGroup</th>\n",
       "      <th>Drive_System</th>\n",
       "      <th>Enclosure</th>\n",
       "      <th>SalePrice</th>\n",
       "    </tr>\n",
       "  </thead>\n",
       "  <tbody>\n",
       "    <tr>\n",
       "      <th>0</th>\n",
       "      <td>Alabama</td>\n",
       "      <td>WL</td>\n",
       "      <td>#na#</td>\n",
       "      <td>EROPS w AC</td>\n",
       "      <td>11.097410</td>\n",
       "    </tr>\n",
       "    <tr>\n",
       "      <th>1</th>\n",
       "      <td>North Carolina</td>\n",
       "      <td>WL</td>\n",
       "      <td>#na#</td>\n",
       "      <td>EROPS w AC</td>\n",
       "      <td>10.950807</td>\n",
       "    </tr>\n",
       "    <tr>\n",
       "      <th>2</th>\n",
       "      <td>New York</td>\n",
       "      <td>SSL</td>\n",
       "      <td>#na#</td>\n",
       "      <td>OROPS</td>\n",
       "      <td>9.210340</td>\n",
       "    </tr>\n",
       "  </tbody>\n",
       "</table>"
      ],
      "text/plain": [
       "<IPython.core.display.HTML object>"
      ]
     },
     "metadata": {},
     "output_type": "display_data"
    }
   ],
   "source": [
    "to1 = TabularPandas(df, procs, ['state', 'ProductGroup', 'Drive_System', 'Enclosure'], [], y_names=dep_var, splits=splits)\n",
    "to1.show(3)"
   ]
  },
  {
   "cell_type": "markdown",
   "metadata": {},
   "source": [
    "However, the underlying items are all numeric:"
   ]
  },
  {
   "cell_type": "code",
   "execution_count": null,
   "metadata": {},
   "outputs": [
    {
     "data": {
      "text/html": [
       "<div>\n",
       "<style scoped>\n",
       "    .dataframe tbody tr th:only-of-type {\n",
       "        vertical-align: middle;\n",
       "    }\n",
       "\n",
       "    .dataframe tbody tr th {\n",
       "        vertical-align: top;\n",
       "    }\n",
       "\n",
       "    .dataframe thead th {\n",
       "        text-align: right;\n",
       "    }\n",
       "</style>\n",
       "<table border=\"1\" class=\"dataframe\">\n",
       "  <thead>\n",
       "    <tr style=\"text-align: right;\">\n",
       "      <th></th>\n",
       "      <th>SalesID</th>\n",
       "      <th>SalePrice</th>\n",
       "      <th>MachineID</th>\n",
       "      <th>ModelID</th>\n",
       "      <th>...</th>\n",
       "      <th>saleIs_year_start</th>\n",
       "      <th>saleElapsed</th>\n",
       "      <th>auctioneerID_na</th>\n",
       "      <th>MachineHoursCurrentMeter_na</th>\n",
       "    </tr>\n",
       "  </thead>\n",
       "  <tbody>\n",
       "    <tr>\n",
       "      <th>0</th>\n",
       "      <td>1139246</td>\n",
       "      <td>11.097410</td>\n",
       "      <td>999089</td>\n",
       "      <td>3157</td>\n",
       "      <td>...</td>\n",
       "      <td>1</td>\n",
       "      <td>1.163635e+09</td>\n",
       "      <td>1</td>\n",
       "      <td>1</td>\n",
       "    </tr>\n",
       "    <tr>\n",
       "      <th>1</th>\n",
       "      <td>1139248</td>\n",
       "      <td>10.950807</td>\n",
       "      <td>117657</td>\n",
       "      <td>77</td>\n",
       "      <td>...</td>\n",
       "      <td>1</td>\n",
       "      <td>1.080259e+09</td>\n",
       "      <td>1</td>\n",
       "      <td>1</td>\n",
       "    </tr>\n",
       "    <tr>\n",
       "      <th>2</th>\n",
       "      <td>1139249</td>\n",
       "      <td>9.210340</td>\n",
       "      <td>434808</td>\n",
       "      <td>7009</td>\n",
       "      <td>...</td>\n",
       "      <td>1</td>\n",
       "      <td>1.077754e+09</td>\n",
       "      <td>1</td>\n",
       "      <td>1</td>\n",
       "    </tr>\n",
       "  </tbody>\n",
       "</table>\n",
       "<p>3 rows × 67 columns</p>\n",
       "</div>"
      ],
      "text/plain": [
       "   SalesID  SalePrice  MachineID  ModelID  ...  saleIs_year_start  \\\n",
       "0  1139246  11.097410     999089     3157  ...                  1   \n",
       "1  1139248  10.950807     117657       77  ...                  1   \n",
       "2  1139249   9.210340     434808     7009  ...                  1   \n",
       "\n",
       "    saleElapsed  auctioneerID_na  MachineHoursCurrentMeter_na  \n",
       "0  1.163635e+09                1                            1  \n",
       "1  1.080259e+09                1                            1  \n",
       "2  1.077754e+09                1                            1  \n",
       "\n",
       "[3 rows x 67 columns]"
      ]
     },
     "execution_count": null,
     "metadata": {},
     "output_type": "execute_result"
    }
   ],
   "source": [
    "to.items.head(3)"
   ]
  },
  {
   "cell_type": "code",
   "execution_count": null,
   "metadata": {},
   "outputs": [
    {
     "data": {
      "text/html": [
       "<div>\n",
       "<style scoped>\n",
       "    .dataframe tbody tr th:only-of-type {\n",
       "        vertical-align: middle;\n",
       "    }\n",
       "\n",
       "    .dataframe tbody tr th {\n",
       "        vertical-align: top;\n",
       "    }\n",
       "\n",
       "    .dataframe thead th {\n",
       "        text-align: right;\n",
       "    }\n",
       "</style>\n",
       "<table border=\"1\" class=\"dataframe\">\n",
       "  <thead>\n",
       "    <tr style=\"text-align: right;\">\n",
       "      <th></th>\n",
       "      <th>state</th>\n",
       "      <th>ProductGroup</th>\n",
       "      <th>Drive_System</th>\n",
       "      <th>Enclosure</th>\n",
       "    </tr>\n",
       "  </thead>\n",
       "  <tbody>\n",
       "    <tr>\n",
       "      <th>0</th>\n",
       "      <td>1</td>\n",
       "      <td>6</td>\n",
       "      <td>0</td>\n",
       "      <td>3</td>\n",
       "    </tr>\n",
       "    <tr>\n",
       "      <th>1</th>\n",
       "      <td>33</td>\n",
       "      <td>6</td>\n",
       "      <td>0</td>\n",
       "      <td>3</td>\n",
       "    </tr>\n",
       "    <tr>\n",
       "      <th>2</th>\n",
       "      <td>32</td>\n",
       "      <td>3</td>\n",
       "      <td>0</td>\n",
       "      <td>6</td>\n",
       "    </tr>\n",
       "  </tbody>\n",
       "</table>\n",
       "</div>"
      ],
      "text/plain": [
       "   state  ProductGroup  Drive_System  Enclosure\n",
       "0      1             6             0          3\n",
       "1     33             6             0          3\n",
       "2     32             3             0          6"
      ]
     },
     "execution_count": null,
     "metadata": {},
     "output_type": "execute_result"
    }
   ],
   "source": [
    "to1.items[['state', 'ProductGroup', 'Drive_System', 'Enclosure']].head(3)"
   ]
  },
  {
   "cell_type": "markdown",
   "metadata": {},
   "source": [
    "The conversion of categorical columns to numbers is done by simply replacing each unique level with a number. The numbers associated with the levels are chosen consecutively as they are seen in a column, so there's no particular meaning to the numbers in categorical columns after conversion. The exception is if you first convert a column to a Pandas ordered category (as we did for `ProductSize` earlier), in which case the ordering you chose is used. We can see the mapping by looking at the `classes` attribute:"
   ]
  },
  {
   "cell_type": "code",
   "execution_count": null,
   "metadata": {},
   "outputs": [
    {
     "data": {
      "text/plain": [
       "['#na#', 'Compact', 'Large', 'Large / Medium', 'Medium', 'Mini', 'Small']"
      ]
     },
     "execution_count": null,
     "metadata": {},
     "output_type": "execute_result"
    }
   ],
   "source": [
    "to.classes['ProductSize']"
   ]
  },
  {
   "cell_type": "markdown",
   "metadata": {},
   "source": [
    "Since it takes a minute or so to process the data to get to this point, we should save it—that way in the future we can continue our work from here without rerunning the previous steps. fastai provides a `save` method that uses Python's *pickle* system to save nearly any Python object:"
   ]
  },
  {
   "cell_type": "code",
   "execution_count": null,
   "metadata": {},
   "outputs": [],
   "source": [
    "save_pickle(f'{path}/to.pkl',to)"
   ]
  },
  {
   "cell_type": "markdown",
   "metadata": {},
   "source": [
    "To read this back later, you would type:\n",
    "\n",
    "```python\n",
    "to = (path/'to.pkl').load()\n",
    "```"
   ]
  },
  {
   "cell_type": "markdown",
   "metadata": {},
   "source": [
    "Now that all this preprocessing is done, we are ready to create a decision tree."
   ]
  },
  {
   "cell_type": "markdown",
   "metadata": {},
   "source": [
    "### Creating the Decision Tree"
   ]
  },
  {
   "cell_type": "markdown",
   "metadata": {},
   "source": [
    "To begin, we define our independent and dependent variables:"
   ]
  },
  {
   "cell_type": "code",
   "execution_count": null,
   "metadata": {},
   "outputs": [],
   "source": [
    "to = load_pickle(f'{path}/to.pkl')"
   ]
  },
  {
   "cell_type": "code",
   "execution_count": null,
   "metadata": {},
   "outputs": [],
   "source": [
    "xs,y = to.train.xs,to.train.y\n",
    "valid_xs,valid_y = to.valid.xs,to.valid.y"
   ]
  },
  {
   "cell_type": "markdown",
   "metadata": {},
   "source": [
    "Now that our data is all numeric, and there are no missing values, we can create a decision tree:"
   ]
  },
  {
   "cell_type": "code",
   "execution_count": null,
   "metadata": {},
   "outputs": [],
   "source": [
    "m = DecisionTreeRegressor(max_leaf_nodes=4)\n",
    "m.fit(xs.values, y);"
   ]
  },
  {
   "cell_type": "markdown",
   "metadata": {},
   "source": [
    "To keep it simple, we've told sklearn to just create four *leaf nodes*. To see what it's learned, we can display the tree:"
   ]
  },
  {
   "cell_type": "code",
   "execution_count": null,
   "metadata": {},
   "outputs": [
    {
     "data": {
      "image/svg+xml": [
       "<?xml version=\"1.0\" encoding=\"UTF-8\" standalone=\"no\"?>\n",
       "<!DOCTYPE svg PUBLIC \"-//W3C//DTD SVG 1.1//EN\"\n",
       " \"http://www.w3.org/Graphics/SVG/1.1/DTD/svg11.dtd\">\n",
       "<!-- Generated by graphviz version 7.1.0 (20230122.1345)\n",
       " -->\n",
       "<!-- Title: Tree Pages: 1 -->\n",
       "<svg width=\"720pt\" height=\"436pt\"\n",
       " viewBox=\"0.00 0.00 720.00 435.77\" xmlns=\"http://www.w3.org/2000/svg\" xmlns:xlink=\"http://www.w3.org/1999/xlink\">\n",
       "<g id=\"graph0\" class=\"graph\" transform=\"scale(0.99723 0.99723) rotate(0) translate(4 432.98)\">\n",
       "<title>Tree</title>\n",
       "<polygon fill=\"white\" stroke=\"none\" points=\"-4,4 -4,-432.98 718,-432.98 718,4 -4,4\"/>\n",
       "<!-- 0 -->\n",
       "<g id=\"node1\" class=\"node\">\n",
       "<title>0</title>\n",
       "<path fill=\"#eead7f\" stroke=\"black\" d=\"M614,-424C614,-424 465,-424 465,-424 459,-424 453,-418 453,-412 453,-412 453,-368 453,-368 453,-362 459,-356 465,-356 465,-356 614,-356 614,-356 620,-356 626,-362 626,-368 626,-368 626,-412 626,-412 626,-418 620,-424 614,-424\"/>\n",
       "<text text-anchor=\"start\" x=\"461\" y=\"-408.8\" font-family=\"Helvetica,sans-Serif\" font-size=\"14.00\">Coupler_System ≤ 0.5</text>\n",
       "<text text-anchor=\"start\" x=\"465\" y=\"-393.8\" font-family=\"Helvetica,sans-Serif\" font-size=\"14.00\">squared_error = 0.48</text>\n",
       "<text text-anchor=\"start\" x=\"473\" y=\"-378.8\" font-family=\"Helvetica,sans-Serif\" font-size=\"14.00\">samples = 404710</text>\n",
       "<text text-anchor=\"start\" x=\"494\" y=\"-363.8\" font-family=\"Helvetica,sans-Serif\" font-size=\"14.00\">value = 10.1</text>\n",
       "</g>\n",
       "<!-- 1 -->\n",
       "<g id=\"node2\" class=\"node\">\n",
       "<title>1</title>\n",
       "<path fill=\"#eca36f\" stroke=\"black\" d=\"M427,-304C427,-304 286,-304 286,-304 280,-304 274,-298 274,-292 274,-292 274,-248 274,-248 274,-242 280,-236 286,-236 286,-236 427,-236 427,-236 433,-236 439,-242 439,-248 439,-248 439,-292 439,-292 439,-298 433,-304 427,-304\"/>\n",
       "<text text-anchor=\"start\" x=\"287.5\" y=\"-288.8\" font-family=\"Helvetica,sans-Serif\" font-size=\"14.00\">YearMade ≤ 1991.5</text>\n",
       "<text text-anchor=\"start\" x=\"282\" y=\"-273.8\" font-family=\"Helvetica,sans-Serif\" font-size=\"14.00\">squared_error = 0.42</text>\n",
       "<text text-anchor=\"start\" x=\"290\" y=\"-258.8\" font-family=\"Helvetica,sans-Serif\" font-size=\"14.00\">samples = 360847</text>\n",
       "<text text-anchor=\"start\" x=\"306.5\" y=\"-243.8\" font-family=\"Helvetica,sans-Serif\" font-size=\"14.00\">value = 10.21</text>\n",
       "</g>\n",
       "<!-- 0&#45;&gt;1 -->\n",
       "<g id=\"edge1\" class=\"edge\">\n",
       "<title>0&#45;&gt;1</title>\n",
       "<path fill=\"none\" stroke=\"black\" d=\"M487.55,-355.5C465.82,-341.49 440.41,-325.1 417.77,-310.51\"/>\n",
       "<polygon fill=\"black\" stroke=\"black\" points=\"419.84,-307.68 409.54,-305.2 416.04,-313.56 419.84,-307.68\"/>\n",
       "<text text-anchor=\"middle\" x=\"413.54\" y=\"-325.11\" font-family=\"Helvetica,sans-Serif\" font-size=\"14.00\">True</text>\n",
       "</g>\n",
       "<!-- 2 -->\n",
       "<g id=\"node7\" class=\"node\">\n",
       "<title>2</title>\n",
       "<path fill=\"#ffffff\" stroke=\"black\" d=\"M702,-57.5C702,-57.5 561,-57.5 561,-57.5 555,-57.5 549,-51.5 549,-45.5 549,-45.5 549,-16.5 549,-16.5 549,-10.5 555,-4.5 561,-4.5 561,-4.5 702,-4.5 702,-4.5 708,-4.5 714,-10.5 714,-16.5 714,-16.5 714,-45.5 714,-45.5 714,-51.5 708,-57.5 702,-57.5\"/>\n",
       "<text text-anchor=\"start\" x=\"557\" y=\"-42.3\" font-family=\"Helvetica,sans-Serif\" font-size=\"14.00\">squared_error = 0.12</text>\n",
       "<text text-anchor=\"start\" x=\"569.5\" y=\"-27.3\" font-family=\"Helvetica,sans-Serif\" font-size=\"14.00\">samples = 43863</text>\n",
       "<text text-anchor=\"start\" x=\"586\" y=\"-12.3\" font-family=\"Helvetica,sans-Serif\" font-size=\"14.00\">value = 9.21</text>\n",
       "</g>\n",
       "<!-- 0&#45;&gt;2 -->\n",
       "<g id=\"edge6\" class=\"edge\">\n",
       "<title>0&#45;&gt;2</title>\n",
       "<path fill=\"none\" stroke=\"black\" d=\"M548.07,-355.73C565.31,-288.84 604.06,-138.47 622.03,-68.77\"/>\n",
       "<polygon fill=\"black\" stroke=\"black\" points=\"625.34,-69.93 624.45,-59.37 618.56,-68.18 625.34,-69.93\"/>\n",
       "<text text-anchor=\"middle\" x=\"637.53\" y=\"-75.73\" font-family=\"Helvetica,sans-Serif\" font-size=\"14.00\">False</text>\n",
       "</g>\n",
       "<!-- 3 -->\n",
       "<g id=\"node3\" class=\"node\">\n",
       "<title>3</title>\n",
       "<path fill=\"#f1ba92\" stroke=\"black\" d=\"M153,-57.5C153,-57.5 12,-57.5 12,-57.5 6,-57.5 0,-51.5 0,-45.5 0,-45.5 0,-16.5 0,-16.5 0,-10.5 6,-4.5 12,-4.5 12,-4.5 153,-4.5 153,-4.5 159,-4.5 165,-10.5 165,-16.5 165,-16.5 165,-45.5 165,-45.5 165,-51.5 159,-57.5 153,-57.5\"/>\n",
       "<text text-anchor=\"start\" x=\"8\" y=\"-42.3\" font-family=\"Helvetica,sans-Serif\" font-size=\"14.00\">squared_error = 0.37</text>\n",
       "<text text-anchor=\"start\" x=\"16\" y=\"-27.3\" font-family=\"Helvetica,sans-Serif\" font-size=\"14.00\">samples = 155724</text>\n",
       "<text text-anchor=\"start\" x=\"37\" y=\"-12.3\" font-family=\"Helvetica,sans-Serif\" font-size=\"14.00\">value = 9.97</text>\n",
       "</g>\n",
       "<!-- 1&#45;&gt;3 -->\n",
       "<g id=\"edge2\" class=\"edge\">\n",
       "<title>1&#45;&gt;3</title>\n",
       "<path fill=\"none\" stroke=\"black\" d=\"M313.34,-235.65C282.52,-211.84 246.5,-184 246.5,-184 246.5,-184 166.95,-110.27 118.66,-65.51\"/>\n",
       "<polygon fill=\"black\" stroke=\"black\" points=\"121.14,-63.04 111.43,-58.81 116.39,-68.18 121.14,-63.04\"/>\n",
       "</g>\n",
       "<!-- 4 -->\n",
       "<g id=\"node4\" class=\"node\">\n",
       "<title>4</title>\n",
       "<path fill=\"#e99355\" stroke=\"black\" d=\"M445,-184C445,-184 268,-184 268,-184 262,-184 256,-178 256,-172 256,-172 256,-128 256,-128 256,-122 262,-116 268,-116 268,-116 445,-116 445,-116 451,-116 457,-122 457,-128 457,-128 457,-172 457,-172 457,-178 451,-184 445,-184\"/>\n",
       "<text text-anchor=\"start\" x=\"264\" y=\"-168.8\" font-family=\"Helvetica,sans-Serif\" font-size=\"14.00\">fiProductClassDesc ≤ 13.5</text>\n",
       "<text text-anchor=\"start\" x=\"282\" y=\"-153.8\" font-family=\"Helvetica,sans-Serif\" font-size=\"14.00\">squared_error = 0.37</text>\n",
       "<text text-anchor=\"start\" x=\"290\" y=\"-138.8\" font-family=\"Helvetica,sans-Serif\" font-size=\"14.00\">samples = 205123</text>\n",
       "<text text-anchor=\"start\" x=\"311\" y=\"-123.8\" font-family=\"Helvetica,sans-Serif\" font-size=\"14.00\">value = 10.4</text>\n",
       "</g>\n",
       "<!-- 1&#45;&gt;4 -->\n",
       "<g id=\"edge3\" class=\"edge\">\n",
       "<title>1&#45;&gt;4</title>\n",
       "<path fill=\"none\" stroke=\"black\" d=\"M356.5,-235.5C356.5,-223.06 356.5,-208.76 356.5,-195.49\"/>\n",
       "<polygon fill=\"black\" stroke=\"black\" points=\"360,-195.69 356.5,-185.69 353,-195.69 360,-195.69\"/>\n",
       "</g>\n",
       "<!-- 5 -->\n",
       "<g id=\"node5\" class=\"node\">\n",
       "<title>5</title>\n",
       "<path fill=\"#eeae80\" stroke=\"black\" d=\"M336,-57.5C336,-57.5 195,-57.5 195,-57.5 189,-57.5 183,-51.5 183,-45.5 183,-45.5 183,-16.5 183,-16.5 183,-10.5 189,-4.5 195,-4.5 195,-4.5 336,-4.5 336,-4.5 342,-4.5 348,-10.5 348,-16.5 348,-16.5 348,-45.5 348,-45.5 348,-51.5 342,-57.5 336,-57.5\"/>\n",
       "<text text-anchor=\"start\" x=\"191\" y=\"-42.3\" font-family=\"Helvetica,sans-Serif\" font-size=\"14.00\">squared_error = 0.21</text>\n",
       "<text text-anchor=\"start\" x=\"203.5\" y=\"-27.3\" font-family=\"Helvetica,sans-Serif\" font-size=\"14.00\">samples = 79749</text>\n",
       "<text text-anchor=\"start\" x=\"215.5\" y=\"-12.3\" font-family=\"Helvetica,sans-Serif\" font-size=\"14.00\">value = 10.09</text>\n",
       "</g>\n",
       "<!-- 4&#45;&gt;5 -->\n",
       "<g id=\"edge4\" class=\"edge\">\n",
       "<title>4&#45;&gt;5</title>\n",
       "<path fill=\"none\" stroke=\"black\" d=\"M330.67,-115.79C318.72,-100.42 304.53,-82.18 292.45,-66.65\"/>\n",
       "<polygon fill=\"black\" stroke=\"black\" points=\"295.44,-64.8 286.54,-59.05 289.92,-69.09 295.44,-64.8\"/>\n",
       "</g>\n",
       "<!-- 6 -->\n",
       "<g id=\"node6\" class=\"node\">\n",
       "<title>6</title>\n",
       "<path fill=\"#e58139\" stroke=\"black\" d=\"M519,-57.5C519,-57.5 378,-57.5 378,-57.5 372,-57.5 366,-51.5 366,-45.5 366,-45.5 366,-16.5 366,-16.5 366,-10.5 372,-4.5 378,-4.5 378,-4.5 519,-4.5 519,-4.5 525,-4.5 531,-10.5 531,-16.5 531,-16.5 531,-45.5 531,-45.5 531,-51.5 525,-57.5 519,-57.5\"/>\n",
       "<text text-anchor=\"start\" x=\"374\" y=\"-42.3\" font-family=\"Helvetica,sans-Serif\" font-size=\"14.00\">squared_error = 0.38</text>\n",
       "<text text-anchor=\"start\" x=\"382\" y=\"-27.3\" font-family=\"Helvetica,sans-Serif\" font-size=\"14.00\">samples = 125374</text>\n",
       "<text text-anchor=\"start\" x=\"398.5\" y=\"-12.3\" font-family=\"Helvetica,sans-Serif\" font-size=\"14.00\">value = 10.59</text>\n",
       "</g>\n",
       "<!-- 4&#45;&gt;6 -->\n",
       "<g id=\"edge5\" class=\"edge\">\n",
       "<title>4&#45;&gt;6</title>\n",
       "<path fill=\"none\" stroke=\"black\" d=\"M382.62,-115.79C394.7,-100.42 409.04,-82.18 421.26,-66.65\"/>\n",
       "<polygon fill=\"black\" stroke=\"black\" points=\"423.8,-69.07 427.23,-59.05 418.3,-64.74 423.8,-69.07\"/>\n",
       "</g>\n",
       "</g>\n",
       "</svg>\n"
      ],
      "text/plain": [
       "<graphviz.sources.Source>"
      ]
     },
     "execution_count": null,
     "metadata": {},
     "output_type": "execute_result"
    }
   ],
   "source": [
    "draw_tree(m, xs, size=10, leaves_parallel=True, precision=2)"
   ]
  },
  {
   "cell_type": "markdown",
   "metadata": {},
   "source": [
    "Understanding this picture is one of the best ways to understand decision trees, so we will start at the top and explain each part step by step.\n",
    "\n",
    "The top node represents the *initial model* before any splits have been done, when all the data is in one group. This is the simplest possible model. It is the result of asking zero questions and will always predict the value to be the average value of the whole dataset. In this case, we can see it predicts a value of 10.10 for the logarithm of the sales price. It gives a mean squared error of 0.48. The square root of this is 0.69. (Remember that unless you see `m_rmse`, or a *root mean squared error*, then the value you are looking at is before taking the square root, so it is just the average of the square of the differences.) We can also see that there are 404,710 auction records in this group—that is the total size of our training set. The final piece of information shown here is the decision criterion for the best split that was found, which is to split based on the `coupler_system` column.\n",
    "\n",
    "Moving down and to the left, this node shows us that there were 360,847 auction records for equipment where `coupler_system` was less than 0.5. The average value of our dependent variable in this group is 10.21. Moving down and to the right from the initial model takes us to the records where `coupler_system` was greater than 0.5.\n",
    "\n",
    "The bottom row contains our *leaf nodes*: the nodes with no answers coming out of them, because there are no more questions to be answered. At the far right of this row is the node containing records where `coupler_system` was greater than 0.5. The average value here is 9.21, so we can see the decision tree algorithm did find a single binary decision that separated high-value from low-value auction results. Asking only about `coupler_system` predicts an average value of 9.21 versus 10.1.\n",
    "\n",
    "Returning back to the top node after the first decision point, we can see that a second binary decision split has been made, based on asking whether `YearMade` is less than or equal to 1991.5. For the group where this is true (remember, this is now following two binary decisions, based on `coupler_system` and `YearMade`) the average value is 9.97, and there are 155,724 auction records in this group. For the group of auctions where this decision is false, the average value is 10.4, and there are 205,123 records. So again, we can see that the decision tree algorithm has successfully split our more expensive auction records into two more groups which differ in value significantly."
   ]
  },
  {
   "cell_type": "markdown",
   "metadata": {},
   "source": [
    "We can show the same information using Terence Parr's powerful [dtreeviz](https://explained.ai/decision-tree-viz/) library:"
   ]
  },
  {
   "cell_type": "code",
   "execution_count": null,
   "metadata": {},
   "outputs": [],
   "source": [
    "import dtreeviz"
   ]
  },
  {
   "cell_type": "code",
   "execution_count": null,
   "metadata": {},
   "outputs": [],
   "source": [
    "samp_idx = np.random.permutation(len(y))[:500]\n",
    "m1 = dtreeviz.model(m, X_train=xs.iloc[samp_idx], y_train=y.iloc[samp_idx], feature_names=xs.columns, target_name=dep_var);\n",
    "m1.view();"
   ]
  },
  {
   "cell_type": "markdown",
   "metadata": {},
   "source": [
    "This shows a chart of the distribution of the data for each split point. We can clearly see that there's a problem with our `YearMade` data: there are bulldozers made in the year 1000, apparently! Presumably this is actually just a missing value code (a value that doesn't otherwise appear in the data and that is used as a placeholder in cases where a value is missing). For modeling purposes, 1000 is fine, but as you can see this outlier makes visualization of the values we are interested in more difficult. So, let's replace it with 1950:"
   ]
  },
  {
   "cell_type": "code",
   "execution_count": null,
   "metadata": {},
   "outputs": [],
   "source": [
    "xs.loc[xs['YearMade']<1900, 'YearMade'] = 1950\n",
    "valid_xs.loc[valid_xs['YearMade']<1900, 'YearMade'] = 1950"
   ]
  },
  {
   "cell_type": "markdown",
   "metadata": {},
   "source": [
    "That change makes the split much clearer in the tree visualization, even although it doesn't actually change the result of the model in any significant way. This is a great example of how resilient decision trees are to data issues!"
   ]
  },
  {
   "cell_type": "code",
   "execution_count": null,
   "metadata": {},
   "outputs": [
    {
     "data": {
      "text/plain": [
       "Index(['UsageBand', 'fiModelDesc', 'fiBaseModel', 'fiSecondaryDesc',\n",
       "       'fiModelSeries', 'fiModelDescriptor', 'ProductSize',\n",
       "       'fiProductClassDesc', 'state', 'ProductGroup', 'ProductGroupDesc',\n",
       "       'Drive_System', 'Enclosure', 'Forks', 'Pad_Type', 'Ride_Control',\n",
       "       'Stick', 'Transmission', 'Turbocharged', 'Blade_Extension',\n",
       "       'Blade_Width', 'Enclosure_Type', 'Engine_Horsepower', 'Hydraulics',\n",
       "       'Pushblock', 'Ripper', 'Scarifier', 'Tip_Control', 'Tire_Size',\n",
       "       'Coupler', 'Coupler_System', 'Grouser_Tracks', 'Hydraulics_Flow',\n",
       "       'Track_Type', 'Undercarriage_Pad_Width', 'Stick_Length', 'Thumb',\n",
       "       'Pattern_Changer', 'Grouser_Type', 'Backhoe_Mounting', 'Blade_Type',\n",
       "       'Travel_Controls', 'Differential_Type', 'Steering_Controls',\n",
       "       'saleIs_month_end', 'saleIs_month_start', 'saleIs_quarter_end',\n",
       "       'saleIs_quarter_start', 'saleIs_year_end', 'saleIs_year_start',\n",
       "       'auctioneerID_na', 'MachineHoursCurrentMeter_na', 'SalesID',\n",
       "       'MachineID', 'ModelID', 'datasource', 'auctioneerID', 'YearMade',\n",
       "       'MachineHoursCurrentMeter', 'saleYear', 'saleMonth', 'saleWeek',\n",
       "       'saleDay', 'saleDayofweek', 'saleDayofyear', 'saleElapsed'],\n",
       "      dtype='object')"
      ]
     },
     "execution_count": null,
     "metadata": {},
     "output_type": "execute_result"
    }
   ],
   "source": [
    "xs.columns"
   ]
  },
  {
   "cell_type": "code",
   "execution_count": null,
   "metadata": {},
   "outputs": [
    {
     "data": {
      "image/svg+xml": [
       "<svg xmlns=\"http://www.w3.org/2000/svg\" xmlns:dc=\"http://purl.org/dc/elements/1.1/\" xmlns:ns2=\"http://creativecommons.org/ns#\" xmlns:rdf=\"http://www.w3.org/1999/02/22-rdf-syntax-ns#\" xmlns:xlink=\"http://www.w3.org/1999/xlink\" width=\"263.0\" height=\"378.0\" viewBox=\"0.0 0.0 263.0 378.0\">\n",
       "<g id=\"graph0\" class=\"graph\" transform=\"scale(1.0 1.0) rotate(0) translate(4 374)\">\n",
       "<title>G</title>\n",
       "<polygon fill=\"white\" stroke=\"none\" points=\"-4,4 -4,-374 259,-374 259,4 -4,4\" />\n",
       "\n",
       "<g id=\"node1\" class=\"node\">\n",
       "<title>node4</title>\n",
       "<svg width=\"124px\" height=\"73px\" viewBox=\"0 0 165.58625 97.673604\" version=\"1.1\" preserveAspectRatio=\"xMinYMin meet\" x=\"94.5\" y=\"-155.5\">\n",
       " <metadata>\n",
       "  <rdf:RDF>\n",
       "   <ns2:Work>\n",
       "    <dc:type rdf:resource=\"http://purl.org/dc/dcmitype/StillImage\" />\n",
       "    <dc:date>2024-01-02T17:57:06.032032</dc:date>\n",
       "    <dc:format>image/svg+xml</dc:format>\n",
       "    <dc:creator>\n",
       "     <ns2:Agent>\n",
       "      <dc:title>Matplotlib v3.7.2, https://matplotlib.org/</dc:title>\n",
       "     </ns2:Agent>\n",
       "    </dc:creator>\n",
       "   </ns2:Work>\n",
       "  </rdf:RDF>\n",
       " </metadata>\n",
       " <defs>\n",
       "  <style type=\"text/css\">*{stroke-linejoin: round; stroke-linecap: butt}</style>\n",
       " </defs>\n",
       " <g id=\"figure_1\">\n",
       "  <g id=\"patch_1\">\n",
       "   <path d=\"M 0 97.673604  L 165.58625 97.673604  L 165.58625 0  L 0 0  z \" style=\"fill: #ffffff\" />\n",
       "  </g>\n",
       "  <g id=\"axes_1\">\n",
       "   <g id=\"patch_2\">\n",
       "    <path d=\"M 17.18 62.817354  L 156.68 62.817354  L 156.68 1.833354  L 17.18 1.833354  z \" style=\"fill: #ffffff\" />\n",
       "   </g>\n",
       "   <g id=\"PathCollection_1\">\n",
       "    <defs>\n",
       "     <path id=\"m2c3cb17383\" d=\"M 0 1.118034  C 0.296506 1.118034 0.580908 1.000231 0.790569 0.790569  C 1.000231 0.580908 1.118034 0.296506 1.118034 0  C 1.118034 -0.296506 1.000231 -0.580908 0.790569 -0.790569  C 0.580908 -1.000231 0.296506 -1.118034 0 -1.118034  C -0.296506 -1.118034 -0.580908 -1.000231 -0.790569 -0.790569  C -1.000231 -0.580908 -1.118034 -0.296506 -1.118034 0  C -1.118034 0.296506 -1.000231 0.580908 -0.790569 0.790569  C -0.580908 1.000231 -0.296506 1.118034 0 1.118034  z \" style=\"stroke: #4575b4; stroke-opacity: 0.7; stroke-width: 0.3\" />\n",
       "    </defs>\n",
       "    <g clip-path=\"url(#pe62e63e3ff)\">\n",
       "     <use xlink:href=\"#m2c3cb17383\" x=\"19.1175\" y=\"34.1118\" style=\"fill: #4575b4; fill-opacity: 0.7; stroke: #4575b4; stroke-opacity: 0.7; stroke-width: 0.3\" />\n",
       "     <use xlink:href=\"#m2c3cb17383\" x=\"135.3675\" y=\"23.421031\" style=\"fill: #4575b4; fill-opacity: 0.7; stroke: #4575b4; stroke-opacity: 0.7; stroke-width: 0.3\" />\n",
       "     <use xlink:href=\"#m2c3cb17383\" x=\"19.1175\" y=\"40.840535\" style=\"fill: #4575b4; fill-opacity: 0.7; stroke: #4575b4; stroke-opacity: 0.7; stroke-width: 0.3\" />\n",
       "     <use xlink:href=\"#m2c3cb17383\" x=\"119.8675\" y=\"29.84892\" style=\"fill: #4575b4; fill-opacity: 0.7; stroke: #4575b4; stroke-opacity: 0.7; stroke-width: 0.3\" />\n",
       "     <use xlink:href=\"#m2c3cb17383\" x=\"57.8675\" y=\"24.836774\" style=\"fill: #4575b4; fill-opacity: 0.7; stroke: #4575b4; stroke-opacity: 0.7; stroke-width: 0.3\" />\n",
       "     <use xlink:href=\"#m2c3cb17383\" x=\"40.43\" y=\"54.511565\" style=\"fill: #4575b4; fill-opacity: 0.7; stroke: #4575b4; stroke-opacity: 0.7; stroke-width: 0.3\" />\n",
       "     <use xlink:href=\"#m2c3cb17383\" x=\"44.305\" y=\"23.251232\" style=\"fill: #4575b4; fill-opacity: 0.7; stroke: #4575b4; stroke-opacity: 0.7; stroke-width: 0.3\" />\n",
       "     <use xlink:href=\"#m2c3cb17383\" x=\"156.68\" y=\"25.586039\" style=\"fill: #4575b4; fill-opacity: 0.7; stroke: #4575b4; stroke-opacity: 0.7; stroke-width: 0.3\" />\n",
       "     <use xlink:href=\"#m2c3cb17383\" x=\"108.2425\" y=\"29.145639\" style=\"fill: #4575b4; fill-opacity: 0.7; stroke: #4575b4; stroke-opacity: 0.7; stroke-width: 0.3\" />\n",
       "     <use xlink:href=\"#m2c3cb17383\" x=\"106.305\" y=\"31.081856\" style=\"fill: #4575b4; fill-opacity: 0.7; stroke: #4575b4; stroke-opacity: 0.7; stroke-width: 0.3\" />\n",
       "     <use xlink:href=\"#m2c3cb17383\" x=\"135.3675\" y=\"21.170941\" style=\"fill: #4575b4; fill-opacity: 0.7; stroke: #4575b4; stroke-opacity: 0.7; stroke-width: 0.3\" />\n",
       "     <use xlink:href=\"#m2c3cb17383\" x=\"143.1175\" y=\"23.765256\" style=\"fill: #4575b4; fill-opacity: 0.7; stroke: #4575b4; stroke-opacity: 0.7; stroke-width: 0.3\" />\n",
       "     <use xlink:href=\"#m2c3cb17383\" x=\"57.8675\" y=\"18.487791\" style=\"fill: #4575b4; fill-opacity: 0.7; stroke: #4575b4; stroke-opacity: 0.7; stroke-width: 0.3\" />\n",
       "     <use xlink:href=\"#m2c3cb17383\" x=\"19.1175\" y=\"42.158553\" style=\"fill: #4575b4; fill-opacity: 0.7; stroke: #4575b4; stroke-opacity: 0.7; stroke-width: 0.3\" />\n",
       "     <use xlink:href=\"#m2c3cb17383\" x=\"125.68\" y=\"31.86171\" style=\"fill: #4575b4; fill-opacity: 0.7; stroke: #4575b4; stroke-opacity: 0.7; stroke-width: 0.3\" />\n",
       "     <use xlink:href=\"#m2c3cb17383\" x=\"19.1175\" y=\"45.103415\" style=\"fill: #4575b4; fill-opacity: 0.7; stroke: #4575b4; stroke-opacity: 0.7; stroke-width: 0.3\" />\n",
       "     <use xlink:href=\"#m2c3cb17383\" x=\"30.7425\" y=\"41.709042\" style=\"fill: #4575b4; fill-opacity: 0.7; stroke: #4575b4; stroke-opacity: 0.7; stroke-width: 0.3\" />\n",
       "     <use xlink:href=\"#m2c3cb17383\" x=\"53.9925\" y=\"59.43708\" style=\"fill: #4575b4; fill-opacity: 0.7; stroke: #4575b4; stroke-opacity: 0.7; stroke-width: 0.3\" />\n",
       "     <use xlink:href=\"#m2c3cb17383\" x=\"42.3675\" y=\"47.353523\" style=\"fill: #4575b4; fill-opacity: 0.7; stroke: #4575b4; stroke-opacity: 0.7; stroke-width: 0.3\" />\n",
       "     <use xlink:href=\"#m2c3cb17383\" x=\"131.4925\" y=\"30.828816\" style=\"fill: #4575b4; fill-opacity: 0.7; stroke: #4575b4; stroke-opacity: 0.7; stroke-width: 0.3\" />\n",
       "     <use xlink:href=\"#m2c3cb17383\" x=\"21.055\" y=\"39.213709\" style=\"fill: #4575b4; fill-opacity: 0.7; stroke: #4575b4; stroke-opacity: 0.7; stroke-width: 0.3\" />\n",
       "     <use xlink:href=\"#m2c3cb17383\" x=\"52.055\" y=\"21.787245\" style=\"fill: #4575b4; fill-opacity: 0.7; stroke: #4575b4; stroke-opacity: 0.7; stroke-width: 0.3\" />\n",
       "     <use xlink:href=\"#m2c3cb17383\" x=\"63.68\" y=\"40.420665\" style=\"fill: #4575b4; fill-opacity: 0.7; stroke: #4575b4; stroke-opacity: 0.7; stroke-width: 0.3\" />\n",
       "     <use xlink:href=\"#m2c3cb17383\" x=\"137.305\" y=\"38.078498\" style=\"fill: #4575b4; fill-opacity: 0.7; stroke: #4575b4; stroke-opacity: 0.7; stroke-width: 0.3\" />\n",
       "     <use xlink:href=\"#m2c3cb17383\" x=\"21.055\" y=\"44.57999\" style=\"fill: #4575b4; fill-opacity: 0.7; stroke: #4575b4; stroke-opacity: 0.7; stroke-width: 0.3\" />\n",
       "     <use xlink:href=\"#m2c3cb17383\" x=\"19.1175\" y=\"43.090643\" style=\"fill: #4575b4; fill-opacity: 0.7; stroke: #4575b4; stroke-opacity: 0.7; stroke-width: 0.3\" />\n",
       "     <use xlink:href=\"#m2c3cb17383\" x=\"52.055\" y=\"29.84892\" style=\"fill: #4575b4; fill-opacity: 0.7; stroke: #4575b4; stroke-opacity: 0.7; stroke-width: 0.3\" />\n",
       "     <use xlink:href=\"#m2c3cb17383\" x=\"135.3675\" y=\"31.081856\" style=\"fill: #4575b4; fill-opacity: 0.7; stroke: #4575b4; stroke-opacity: 0.7; stroke-width: 0.3\" />\n",
       "     <use xlink:href=\"#m2c3cb17383\" x=\"137.305\" y=\"36.662754\" style=\"fill: #4575b4; fill-opacity: 0.7; stroke: #4575b4; stroke-opacity: 0.7; stroke-width: 0.3\" />\n",
       "     <use xlink:href=\"#m2c3cb17383\" x=\"40.43\" y=\"41.709042\" style=\"fill: #4575b4; fill-opacity: 0.7; stroke: #4575b4; stroke-opacity: 0.7; stroke-width: 0.3\" />\n",
       "     <use xlink:href=\"#m2c3cb17383\" x=\"75.305\" y=\"22.103013\" style=\"fill: #4575b4; fill-opacity: 0.7; stroke: #4575b4; stroke-opacity: 0.7; stroke-width: 0.3\" />\n",
       "     <use xlink:href=\"#m2c3cb17383\" x=\"119.8675\" y=\"34.718321\" style=\"fill: #4575b4; fill-opacity: 0.7; stroke: #4575b4; stroke-opacity: 0.7; stroke-width: 0.3\" />\n",
       "     <use xlink:href=\"#m2c3cb17383\" x=\"117.93\" y=\"43.090643\" style=\"fill: #4575b4; fill-opacity: 0.7; stroke: #4575b4; stroke-opacity: 0.7; stroke-width: 0.3\" />\n",
       "     <use xlink:href=\"#m2c3cb17383\" x=\"19.1175\" y=\"41.26986\" style=\"fill: #4575b4; fill-opacity: 0.7; stroke: #4575b4; stroke-opacity: 0.7; stroke-width: 0.3\" />\n",
       "     <use xlink:href=\"#m2c3cb17383\" x=\"19.1175\" y=\"49.90446\" style=\"fill: #4575b4; fill-opacity: 0.7; stroke: #4575b4; stroke-opacity: 0.7; stroke-width: 0.3\" />\n",
       "     <use xlink:href=\"#m2c3cb17383\" x=\"40.43\" y=\"57.312244\" style=\"fill: #4575b4; fill-opacity: 0.7; stroke: #4575b4; stroke-opacity: 0.7; stroke-width: 0.3\" />\n",
       "     <use xlink:href=\"#m2c3cb17383\" x=\"52.055\" y=\"25.207745\" style=\"fill: #4575b4; fill-opacity: 0.7; stroke: #4575b4; stroke-opacity: 0.7; stroke-width: 0.3\" />\n",
       "     <use xlink:href=\"#m2c3cb17383\" x=\"131.4925\" y=\"48.586442\" style=\"fill: #4575b4; fill-opacity: 0.7; stroke: #4575b4; stroke-opacity: 0.7; stroke-width: 0.3\" />\n",
       "     <use xlink:href=\"#m2c3cb17383\" x=\"19.1175\" y=\"45.103415\" style=\"fill: #4575b4; fill-opacity: 0.7; stroke: #4575b4; stroke-opacity: 0.7; stroke-width: 0.3\" />\n",
       "     <use xlink:href=\"#m2c3cb17383\" x=\"19.1175\" y=\"35.344736\" style=\"fill: #4575b4; fill-opacity: 0.7; stroke: #4575b4; stroke-opacity: 0.7; stroke-width: 0.3\" />\n",
       "     <use xlink:href=\"#m2c3cb17383\" x=\"131.4925\" y=\"34.1118\" style=\"fill: #4575b4; fill-opacity: 0.7; stroke: #4575b4; stroke-opacity: 0.7; stroke-width: 0.3\" />\n",
       "     <use xlink:href=\"#m2c3cb17383\" x=\"44.305\" y=\"25.586039\" style=\"fill: #4575b4; fill-opacity: 0.7; stroke: #4575b4; stroke-opacity: 0.7; stroke-width: 0.3\" />\n",
       "     <use xlink:href=\"#m2c3cb17383\" x=\"137.305\" y=\"23.765256\" style=\"fill: #4575b4; fill-opacity: 0.7; stroke: #4575b4; stroke-opacity: 0.7; stroke-width: 0.3\" />\n",
       "     <use xlink:href=\"#m2c3cb17383\" x=\"19.1175\" y=\"33.523953\" style=\"fill: #4575b4; fill-opacity: 0.7; stroke: #4575b4; stroke-opacity: 0.7; stroke-width: 0.3\" />\n",
       "     <use xlink:href=\"#m2c3cb17383\" x=\"40.43\" y=\"46.195357\" style=\"fill: #4575b4; fill-opacity: 0.7; stroke: #4575b4; stroke-opacity: 0.7; stroke-width: 0.3\" />\n",
       "     <use xlink:href=\"#m2c3cb17383\" x=\"17.18\" y=\"39.607617\" style=\"fill: #4575b4; fill-opacity: 0.7; stroke: #4575b4; stroke-opacity: 0.7; stroke-width: 0.3\" />\n",
       "     <use xlink:href=\"#m2c3cb17383\" x=\"119.8675\" y=\"31.598194\" style=\"fill: #4575b4; fill-opacity: 0.7; stroke: #4575b4; stroke-opacity: 0.7; stroke-width: 0.3\" />\n",
       "     <use xlink:href=\"#m2c3cb17383\" x=\"112.1175\" y=\"25.586039\" style=\"fill: #4575b4; fill-opacity: 0.7; stroke: #4575b4; stroke-opacity: 0.7; stroke-width: 0.3\" />\n",
       "     <use xlink:href=\"#m2c3cb17383\" x=\"30.7425\" y=\"36.662754\" style=\"fill: #4575b4; fill-opacity: 0.7; stroke: #4575b4; stroke-opacity: 0.7; stroke-width: 0.3\" />\n",
       "     <use xlink:href=\"#m2c3cb17383\" x=\"22.9925\" y=\"37.714596\" style=\"fill: #4575b4; fill-opacity: 0.7; stroke: #4575b4; stroke-opacity: 0.7; stroke-width: 0.3\" />\n",
       "     <use xlink:href=\"#m2c3cb17383\" x=\"131.4925\" y=\"21.476615\" style=\"fill: #4575b4; fill-opacity: 0.7; stroke: #4575b4; stroke-opacity: 0.7; stroke-width: 0.3\" />\n",
       "     <use xlink:href=\"#m2c3cb17383\" x=\"79.18\" y=\"8.545522\" style=\"fill: #4575b4; fill-opacity: 0.7; stroke: #4575b4; stroke-opacity: 0.7; stroke-width: 0.3\" />\n",
       "     <use xlink:href=\"#m2c3cb17383\" x=\"135.3675\" y=\"20.573894\" style=\"fill: #4575b4; fill-opacity: 0.7; stroke: #4575b4; stroke-opacity: 0.7; stroke-width: 0.3\" />\n",
       "     <use xlink:href=\"#m2c3cb17383\" x=\"22.9925\" y=\"37.00698\" style=\"fill: #4575b4; fill-opacity: 0.7; stroke: #4575b4; stroke-opacity: 0.7; stroke-width: 0.3\" />\n",
       "     <use xlink:href=\"#m2c3cb17383\" x=\"40.43\" y=\"45.103415\" style=\"fill: #4575b4; fill-opacity: 0.7; stroke: #4575b4; stroke-opacity: 0.7; stroke-width: 0.3\" />\n",
       "     <use xlink:href=\"#m2c3cb17383\" x=\"57.8675\" y=\"19.158151\" style=\"fill: #4575b4; fill-opacity: 0.7; stroke: #4575b4; stroke-opacity: 0.7; stroke-width: 0.3\" />\n",
       "     <use xlink:href=\"#m2c3cb17383\" x=\"17.18\" y=\"31.86171\" style=\"fill: #4575b4; fill-opacity: 0.7; stroke: #4575b4; stroke-opacity: 0.7; stroke-width: 0.3\" />\n",
       "     <use xlink:href=\"#m2c3cb17383\" x=\"19.1175\" y=\"44.57999\" style=\"fill: #4575b4; fill-opacity: 0.7; stroke: #4575b4; stroke-opacity: 0.7; stroke-width: 0.3\" />\n",
       "     <use xlink:href=\"#m2c3cb17383\" x=\"53.9925\" y=\"37.357509\" style=\"fill: #4575b4; fill-opacity: 0.7; stroke: #4575b4; stroke-opacity: 0.7; stroke-width: 0.3\" />\n",
       "     <use xlink:href=\"#m2c3cb17383\" x=\"19.1175\" y=\"34.718321\" style=\"fill: #4575b4; fill-opacity: 0.7; stroke: #4575b4; stroke-opacity: 0.7; stroke-width: 0.3\" />\n",
       "     <use xlink:href=\"#m2c3cb17383\" x=\"137.305\" y=\"13.833681\" style=\"fill: #4575b4; fill-opacity: 0.7; stroke: #4575b4; stroke-opacity: 0.7; stroke-width: 0.3\" />\n",
       "     <use xlink:href=\"#m2c3cb17383\" x=\"30.7425\" y=\"31.86171\" style=\"fill: #4575b4; fill-opacity: 0.7; stroke: #4575b4; stroke-opacity: 0.7; stroke-width: 0.3\" />\n",
       "     <use xlink:href=\"#m2c3cb17383\" x=\"46.2425\" y=\"20.573894\" style=\"fill: #4575b4; fill-opacity: 0.7; stroke: #4575b4; stroke-opacity: 0.7; stroke-width: 0.3\" />\n",
       "     <use xlink:href=\"#m2c3cb17383\" x=\"19.1175\" y=\"43.820796\" style=\"fill: #4575b4; fill-opacity: 0.7; stroke: #4575b4; stroke-opacity: 0.7; stroke-width: 0.3\" />\n",
       "     <use xlink:href=\"#m2c3cb17383\" x=\"38.4925\" y=\"42.158553\" style=\"fill: #4575b4; fill-opacity: 0.7; stroke: #4575b4; stroke-opacity: 0.7; stroke-width: 0.3\" />\n",
       "     <use xlink:href=\"#m2c3cb17383\" x=\"114.055\" y=\"42.853325\" style=\"fill: #4575b4; fill-opacity: 0.7; stroke: #4575b4; stroke-opacity: 0.7; stroke-width: 0.3\" />\n",
       "     <use xlink:href=\"#m2c3cb17383\" x=\"46.2425\" y=\"31.598194\" style=\"fill: #4575b4; fill-opacity: 0.7; stroke: #4575b4; stroke-opacity: 0.7; stroke-width: 0.3\" />\n",
       "     <use xlink:href=\"#m2c3cb17383\" x=\"48.18\" y=\"50.599232\" style=\"fill: #4575b4; fill-opacity: 0.7; stroke: #4575b4; stroke-opacity: 0.7; stroke-width: 0.3\" />\n",
       "     <use xlink:href=\"#m2c3cb17383\" x=\"57.8675\" y=\"22.4241\" style=\"fill: #4575b4; fill-opacity: 0.7; stroke: #4575b4; stroke-opacity: 0.7; stroke-width: 0.3\" />\n",
       "     <use xlink:href=\"#m2c3cb17383\" x=\"119.8675\" y=\"54.511565\" style=\"fill: #4575b4; fill-opacity: 0.7; stroke: #4575b4; stroke-opacity: 0.7; stroke-width: 0.3\" />\n",
       "     <use xlink:href=\"#m2c3cb17383\" x=\"19.1175\" y=\"38.078498\" style=\"fill: #4575b4; fill-opacity: 0.7; stroke: #4575b4; stroke-opacity: 0.7; stroke-width: 0.3\" />\n",
       "     <use xlink:href=\"#m2c3cb17383\" x=\"139.2425\" y=\"37.00698\" style=\"fill: #4575b4; fill-opacity: 0.7; stroke: #4575b4; stroke-opacity: 0.7; stroke-width: 0.3\" />\n",
       "     <use xlink:href=\"#m2c3cb17383\" x=\"32.68\" y=\"27.59883\" style=\"fill: #4575b4; fill-opacity: 0.7; stroke: #4575b4; stroke-opacity: 0.7; stroke-width: 0.3\" />\n",
       "     <use xlink:href=\"#m2c3cb17383\" x=\"110.18\" y=\"21.787245\" style=\"fill: #4575b4; fill-opacity: 0.7; stroke: #4575b4; stroke-opacity: 0.7; stroke-width: 0.3\" />\n",
       "     <use xlink:href=\"#m2c3cb17383\" x=\"139.2425\" y=\"14.89527\" style=\"fill: #4575b4; fill-opacity: 0.7; stroke: #4575b4; stroke-opacity: 0.7; stroke-width: 0.3\" />\n",
       "     <use xlink:href=\"#m2c3cb17383\" x=\"152.805\" y=\"54.511565\" style=\"fill: #4575b4; fill-opacity: 0.7; stroke: #4575b4; stroke-opacity: 0.7; stroke-width: 0.3\" />\n",
       "     <use xlink:href=\"#m2c3cb17383\" x=\"46.2425\" y=\"18.487791\" style=\"fill: #4575b4; fill-opacity: 0.7; stroke: #4575b4; stroke-opacity: 0.7; stroke-width: 0.3\" />\n",
       "     <use xlink:href=\"#m2c3cb17383\" x=\"133.43\" y=\"38.827763\" style=\"fill: #4575b4; fill-opacity: 0.7; stroke: #4575b4; stroke-opacity: 0.7; stroke-width: 0.3\" />\n",
       "     <use xlink:href=\"#m2c3cb17383\" x=\"40.43\" y=\"57.312244\" style=\"fill: #4575b4; fill-opacity: 0.7; stroke: #4575b4; stroke-opacity: 0.7; stroke-width: 0.3\" />\n",
       "     <use xlink:href=\"#m2c3cb17383\" x=\"135.3675\" y=\"19.158151\" style=\"fill: #4575b4; fill-opacity: 0.7; stroke: #4575b4; stroke-opacity: 0.7; stroke-width: 0.3\" />\n",
       "     <use xlink:href=\"#m2c3cb17383\" x=\"40.43\" y=\"59.43708\" style=\"fill: #4575b4; fill-opacity: 0.7; stroke: #4575b4; stroke-opacity: 0.7; stroke-width: 0.3\" />\n",
       "     <use xlink:href=\"#m2c3cb17383\" x=\"26.8675\" y=\"54.511565\" style=\"fill: #4575b4; fill-opacity: 0.7; stroke: #4575b4; stroke-opacity: 0.7; stroke-width: 0.3\" />\n",
       "     <use xlink:href=\"#m2c3cb17383\" x=\"19.1175\" y=\"41.26986\" style=\"fill: #4575b4; fill-opacity: 0.7; stroke: #4575b4; stroke-opacity: 0.7; stroke-width: 0.3\" />\n",
       "     <use xlink:href=\"#m2c3cb17383\" x=\"30.7425\" y=\"24.115803\" style=\"fill: #4575b4; fill-opacity: 0.7; stroke: #4575b4; stroke-opacity: 0.7; stroke-width: 0.3\" />\n",
       "     <use xlink:href=\"#m2c3cb17383\" x=\"125.68\" y=\"42.158553\" style=\"fill: #4575b4; fill-opacity: 0.7; stroke: #4575b4; stroke-opacity: 0.7; stroke-width: 0.3\" />\n",
       "     <use xlink:href=\"#m2c3cb17383\" x=\"152.805\" y=\"55.2192\" style=\"fill: #4575b4; fill-opacity: 0.7; stroke: #4575b4; stroke-opacity: 0.7; stroke-width: 0.3\" />\n",
       "     <use xlink:href=\"#m2c3cb17383\" x=\"119.8675\" y=\"22.262883\" style=\"fill: #4575b4; fill-opacity: 0.7; stroke: #4575b4; stroke-opacity: 0.7; stroke-width: 0.3\" />\n",
       "     <use xlink:href=\"#m2c3cb17383\" x=\"110.18\" y=\"21.323159\" style=\"fill: #4575b4; fill-opacity: 0.7; stroke: #4575b4; stroke-opacity: 0.7; stroke-width: 0.3\" />\n",
       "     <use xlink:href=\"#m2c3cb17383\" x=\"139.2425\" y=\"57.312244\" style=\"fill: #4575b4; fill-opacity: 0.7; stroke: #4575b4; stroke-opacity: 0.7; stroke-width: 0.3\" />\n",
       "     <use xlink:href=\"#m2c3cb17383\" x=\"110.18\" y=\"15.675124\" style=\"fill: #4575b4; fill-opacity: 0.7; stroke: #4575b4; stroke-opacity: 0.7; stroke-width: 0.3\" />\n",
       "     <use xlink:href=\"#m2c3cb17383\" x=\"19.1175\" y=\"32.953652\" style=\"fill: #4575b4; fill-opacity: 0.7; stroke: #4575b4; stroke-opacity: 0.7; stroke-width: 0.3\" />\n",
       "     <use xlink:href=\"#m2c3cb17383\" x=\"19.1175\" y=\"47.960044\" style=\"fill: #4575b4; fill-opacity: 0.7; stroke: #4575b4; stroke-opacity: 0.7; stroke-width: 0.3\" />\n",
       "     <use xlink:href=\"#m2c3cb17383\" x=\"55.93\" y=\"51.320203\" style=\"fill: #4575b4; fill-opacity: 0.7; stroke: #4575b4; stroke-opacity: 0.7; stroke-width: 0.3\" />\n",
       "     <use xlink:href=\"#m2c3cb17383\" x=\"17.18\" y=\"32.399874\" style=\"fill: #4575b4; fill-opacity: 0.7; stroke: #4575b4; stroke-opacity: 0.7; stroke-width: 0.3\" />\n",
       "     <use xlink:href=\"#m2c3cb17383\" x=\"119.8675\" y=\"22.750672\" style=\"fill: #4575b4; fill-opacity: 0.7; stroke: #4575b4; stroke-opacity: 0.7; stroke-width: 0.3\" />\n",
       "     <use xlink:href=\"#m2c3cb17383\" x=\"19.1175\" y=\"39.607617\" style=\"fill: #4575b4; fill-opacity: 0.7; stroke: #4575b4; stroke-opacity: 0.7; stroke-width: 0.3\" />\n",
       "     <use xlink:href=\"#m2c3cb17383\" x=\"24.93\" y=\"44.070539\" style=\"fill: #4575b4; fill-opacity: 0.7; stroke: #4575b4; stroke-opacity: 0.7; stroke-width: 0.3\" />\n",
       "     <use xlink:href=\"#m2c3cb17383\" x=\"26.8675\" y=\"60.595229\" style=\"fill: #4575b4; fill-opacity: 0.7; stroke: #4575b4; stroke-opacity: 0.7; stroke-width: 0.3\" />\n",
       "     <use xlink:href=\"#m2c3cb17383\" x=\"19.1175\" y=\"35.992377\" style=\"fill: #4575b4; fill-opacity: 0.7; stroke: #4575b4; stroke-opacity: 0.7; stroke-width: 0.3\" />\n",
       "     <use xlink:href=\"#m2c3cb17383\" x=\"30.7425\" y=\"29.84892\" style=\"fill: #4575b4; fill-opacity: 0.7; stroke: #4575b4; stroke-opacity: 0.7; stroke-width: 0.3\" />\n",
       "     <use xlink:href=\"#m2c3cb17383\" x=\"52.055\" y=\"26.365893\" style=\"fill: #4575b4; fill-opacity: 0.7; stroke: #4575b4; stroke-opacity: 0.7; stroke-width: 0.3\" />\n",
       "     <use xlink:href=\"#m2c3cb17383\" x=\"119.8675\" y=\"30.332591\" style=\"fill: #4575b4; fill-opacity: 0.7; stroke: #4575b4; stroke-opacity: 0.7; stroke-width: 0.3\" />\n",
       "     <use xlink:href=\"#m2c3cb17383\" x=\"137.305\" y=\"14.146024\" style=\"fill: #4575b4; fill-opacity: 0.7; stroke: #4575b4; stroke-opacity: 0.7; stroke-width: 0.3\" />\n",
       "     <use xlink:href=\"#m2c3cb17383\" x=\"19.1175\" y=\"34.1118\" style=\"fill: #4575b4; fill-opacity: 0.7; stroke: #4575b4; stroke-opacity: 0.7; stroke-width: 0.3\" />\n",
       "     <use xlink:href=\"#m2c3cb17383\" x=\"114.055\" y=\"33.523953\" style=\"fill: #4575b4; fill-opacity: 0.7; stroke: #4575b4; stroke-opacity: 0.7; stroke-width: 0.3\" />\n",
       "     <use xlink:href=\"#m2c3cb17383\" x=\"19.1175\" y=\"40.840535\" style=\"fill: #4575b4; fill-opacity: 0.7; stroke: #4575b4; stroke-opacity: 0.7; stroke-width: 0.3\" />\n",
       "     <use xlink:href=\"#m2c3cb17383\" x=\"38.4925\" y=\"26.565935\" style=\"fill: #4575b4; fill-opacity: 0.7; stroke: #4575b4; stroke-opacity: 0.7; stroke-width: 0.3\" />\n",
       "     <use xlink:href=\"#m2c3cb17383\" x=\"119.8675\" y=\"31.081856\" style=\"fill: #4575b4; fill-opacity: 0.7; stroke: #4575b4; stroke-opacity: 0.7; stroke-width: 0.3\" />\n",
       "     <use xlink:href=\"#m2c3cb17383\" x=\"19.1175\" y=\"41.26986\" style=\"fill: #4575b4; fill-opacity: 0.7; stroke: #4575b4; stroke-opacity: 0.7; stroke-width: 0.3\" />\n",
       "     <use xlink:href=\"#m2c3cb17383\" x=\"19.1175\" y=\"38.44945\" style=\"fill: #4575b4; fill-opacity: 0.7; stroke: #4575b4; stroke-opacity: 0.7; stroke-width: 0.3\" />\n",
       "     <use xlink:href=\"#m2c3cb17383\" x=\"19.1175\" y=\"44.57999\" style=\"fill: #4575b4; fill-opacity: 0.7; stroke: #4575b4; stroke-opacity: 0.7; stroke-width: 0.3\" />\n",
       "     <use xlink:href=\"#m2c3cb17383\" x=\"19.1175\" y=\"39.213709\" style=\"fill: #4575b4; fill-opacity: 0.7; stroke: #4575b4; stroke-opacity: 0.7; stroke-width: 0.3\" />\n",
       "     <use xlink:href=\"#m2c3cb17383\" x=\"44.305\" y=\"35.992377\" style=\"fill: #4575b4; fill-opacity: 0.7; stroke: #4575b4; stroke-opacity: 0.7; stroke-width: 0.3\" />\n",
       "     <use xlink:href=\"#m2c3cb17383\" x=\"38.4925\" y=\"25.586039\" style=\"fill: #4575b4; fill-opacity: 0.7; stroke: #4575b4; stroke-opacity: 0.7; stroke-width: 0.3\" />\n",
       "     <use xlink:href=\"#m2c3cb17383\" x=\"137.305\" y=\"38.827763\" style=\"fill: #4575b4; fill-opacity: 0.7; stroke: #4575b4; stroke-opacity: 0.7; stroke-width: 0.3\" />\n",
       "     <use xlink:href=\"#m2c3cb17383\" x=\"119.8675\" y=\"35.992377\" style=\"fill: #4575b4; fill-opacity: 0.7; stroke: #4575b4; stroke-opacity: 0.7; stroke-width: 0.3\" />\n",
       "     <use xlink:href=\"#m2c3cb17383\" x=\"77.2425\" y=\"23.765256\" style=\"fill: #4575b4; fill-opacity: 0.7; stroke: #4575b4; stroke-opacity: 0.7; stroke-width: 0.3\" />\n",
       "     <use xlink:href=\"#m2c3cb17383\" x=\"135.3675\" y=\"44.070539\" style=\"fill: #4575b4; fill-opacity: 0.7; stroke: #4575b4; stroke-opacity: 0.7; stroke-width: 0.3\" />\n",
       "     <use xlink:href=\"#m2c3cb17383\" x=\"52.055\" y=\"22.750672\" style=\"fill: #4575b4; fill-opacity: 0.7; stroke: #4575b4; stroke-opacity: 0.7; stroke-width: 0.3\" />\n",
       "     <use xlink:href=\"#m2c3cb17383\" x=\"79.18\" y=\"17.213735\" style=\"fill: #4575b4; fill-opacity: 0.7; stroke: #4575b4; stroke-opacity: 0.7; stroke-width: 0.3\" />\n",
       "     <use xlink:href=\"#m2c3cb17383\" x=\"125.68\" y=\"44.070539\" style=\"fill: #4575b4; fill-opacity: 0.7; stroke: #4575b4; stroke-opacity: 0.7; stroke-width: 0.3\" />\n",
       "     <use xlink:href=\"#m2c3cb17383\" x=\"32.68\" y=\"45.103415\" style=\"fill: #4575b4; fill-opacity: 0.7; stroke: #4575b4; stroke-opacity: 0.7; stroke-width: 0.3\" />\n",
       "     <use xlink:href=\"#m2c3cb17383\" x=\"152.805\" y=\"52.849322\" style=\"fill: #4575b4; fill-opacity: 0.7; stroke: #4575b4; stroke-opacity: 0.7; stroke-width: 0.3\" />\n",
       "     <use xlink:href=\"#m2c3cb17383\" x=\"17.18\" y=\"44.57999\" style=\"fill: #4575b4; fill-opacity: 0.7; stroke: #4575b4; stroke-opacity: 0.7; stroke-width: 0.3\" />\n",
       "     <use xlink:href=\"#m2c3cb17383\" x=\"19.1175\" y=\"47.353523\" style=\"fill: #4575b4; fill-opacity: 0.7; stroke: #4575b4; stroke-opacity: 0.7; stroke-width: 0.3\" />\n",
       "     <use xlink:href=\"#m2c3cb17383\" x=\"22.9925\" y=\"46.765659\" style=\"fill: #4575b4; fill-opacity: 0.7; stroke: #4575b4; stroke-opacity: 0.7; stroke-width: 0.3\" />\n",
       "     <use xlink:href=\"#m2c3cb17383\" x=\"141.18\" y=\"38.827763\" style=\"fill: #4575b4; fill-opacity: 0.7; stroke: #4575b4; stroke-opacity: 0.7; stroke-width: 0.3\" />\n",
       "     <use xlink:href=\"#m2c3cb17383\" x=\"117.93\" y=\"52.849322\" style=\"fill: #4575b4; fill-opacity: 0.7; stroke: #4575b4; stroke-opacity: 0.7; stroke-width: 0.3\" />\n",
       "     <use xlink:href=\"#m2c3cb17383\" x=\"133.43\" y=\"15.225613\" style=\"fill: #4575b4; fill-opacity: 0.7; stroke: #4575b4; stroke-opacity: 0.7; stroke-width: 0.3\" />\n",
       "     <use xlink:href=\"#m2c3cb17383\" x=\"21.055\" y=\"40.420665\" style=\"fill: #4575b4; fill-opacity: 0.7; stroke: #4575b4; stroke-opacity: 0.7; stroke-width: 0.3\" />\n",
       "     <use xlink:href=\"#m2c3cb17383\" x=\"19.1175\" y=\"37.357509\" style=\"fill: #4575b4; fill-opacity: 0.7; stroke: #4575b4; stroke-opacity: 0.7; stroke-width: 0.3\" />\n",
       "     <use xlink:href=\"#m2c3cb17383\" x=\"79.18\" y=\"12.344334\" style=\"fill: #4575b4; fill-opacity: 0.7; stroke: #4575b4; stroke-opacity: 0.7; stroke-width: 0.3\" />\n",
       "     <use xlink:href=\"#m2c3cb17383\" x=\"46.2425\" y=\"15.004765\" style=\"fill: #4575b4; fill-opacity: 0.7; stroke: #4575b4; stroke-opacity: 0.7; stroke-width: 0.3\" />\n",
       "     <use xlink:href=\"#m2c3cb17383\" x=\"63.68\" y=\"39.607617\" style=\"fill: #4575b4; fill-opacity: 0.7; stroke: #4575b4; stroke-opacity: 0.7; stroke-width: 0.3\" />\n",
       "     <use xlink:href=\"#m2c3cb17383\" x=\"21.055\" y=\"49.90446\" style=\"fill: #4575b4; fill-opacity: 0.7; stroke: #4575b4; stroke-opacity: 0.7; stroke-width: 0.3\" />\n",
       "     <use xlink:href=\"#m2c3cb17383\" x=\"117.93\" y=\"22.4241\" style=\"fill: #4575b4; fill-opacity: 0.7; stroke: #4575b4; stroke-opacity: 0.7; stroke-width: 0.3\" />\n",
       "     <use xlink:href=\"#m2c3cb17383\" x=\"42.3675\" y=\"34.1118\" style=\"fill: #4575b4; fill-opacity: 0.7; stroke: #4575b4; stroke-opacity: 0.7; stroke-width: 0.3\" />\n",
       "     <use xlink:href=\"#m2c3cb17383\" x=\"19.1175\" y=\"34.718321\" style=\"fill: #4575b4; fill-opacity: 0.7; stroke: #4575b4; stroke-opacity: 0.7; stroke-width: 0.3\" />\n",
       "     <use xlink:href=\"#m2c3cb17383\" x=\"19.1175\" y=\"35.028951\" style=\"fill: #4575b4; fill-opacity: 0.7; stroke: #4575b4; stroke-opacity: 0.7; stroke-width: 0.3\" />\n",
       "     <use xlink:href=\"#m2c3cb17383\" x=\"21.055\" y=\"38.078498\" style=\"fill: #4575b4; fill-opacity: 0.7; stroke: #4575b4; stroke-opacity: 0.7; stroke-width: 0.3\" />\n",
       "     <use xlink:href=\"#m2c3cb17383\" x=\"114.055\" y=\"40.009814\" style=\"fill: #4575b4; fill-opacity: 0.7; stroke: #4575b4; stroke-opacity: 0.7; stroke-width: 0.3\" />\n",
       "     <use xlink:href=\"#m2c3cb17383\" x=\"21.055\" y=\"38.078498\" style=\"fill: #4575b4; fill-opacity: 0.7; stroke: #4575b4; stroke-opacity: 0.7; stroke-width: 0.3\" />\n",
       "     <use xlink:href=\"#m2c3cb17383\" x=\"30.7425\" y=\"27.59883\" style=\"fill: #4575b4; fill-opacity: 0.7; stroke: #4575b4; stroke-opacity: 0.7; stroke-width: 0.3\" />\n",
       "     <use xlink:href=\"#m2c3cb17383\" x=\"19.1175\" y=\"35.344736\" style=\"fill: #4575b4; fill-opacity: 0.7; stroke: #4575b4; stroke-opacity: 0.7; stroke-width: 0.3\" />\n",
       "     <use xlink:href=\"#m2c3cb17383\" x=\"38.4925\" y=\"35.344736\" style=\"fill: #4575b4; fill-opacity: 0.7; stroke: #4575b4; stroke-opacity: 0.7; stroke-width: 0.3\" />\n",
       "     <use xlink:href=\"#m2c3cb17383\" x=\"106.305\" y=\"38.827763\" style=\"fill: #4575b4; fill-opacity: 0.7; stroke: #4575b4; stroke-opacity: 0.7; stroke-width: 0.3\" />\n",
       "     <use xlink:href=\"#m2c3cb17383\" x=\"24.93\" y=\"47.353523\" style=\"fill: #4575b4; fill-opacity: 0.7; stroke: #4575b4; stroke-opacity: 0.7; stroke-width: 0.3\" />\n",
       "     <use xlink:href=\"#m2c3cb17383\" x=\"59.805\" y=\"36.662754\" style=\"fill: #4575b4; fill-opacity: 0.7; stroke: #4575b4; stroke-opacity: 0.7; stroke-width: 0.3\" />\n",
       "     <use xlink:href=\"#m2c3cb17383\" x=\"48.18\" y=\"50.599232\" style=\"fill: #4575b4; fill-opacity: 0.7; stroke: #4575b4; stroke-opacity: 0.7; stroke-width: 0.3\" />\n",
       "     <use xlink:href=\"#m2c3cb17383\" x=\"117.93\" y=\"32.953652\" style=\"fill: #4575b4; fill-opacity: 0.7; stroke: #4575b4; stroke-opacity: 0.7; stroke-width: 0.3\" />\n",
       "     <use xlink:href=\"#m2c3cb17383\" x=\"19.1175\" y=\"35.992377\" style=\"fill: #4575b4; fill-opacity: 0.7; stroke: #4575b4; stroke-opacity: 0.7; stroke-width: 0.3\" />\n",
       "     <use xlink:href=\"#m2c3cb17383\" x=\"44.305\" y=\"23.765256\" style=\"fill: #4575b4; fill-opacity: 0.7; stroke: #4575b4; stroke-opacity: 0.7; stroke-width: 0.3\" />\n",
       "     <use xlink:href=\"#m2c3cb17383\" x=\"19.1175\" y=\"43.090643\" style=\"fill: #4575b4; fill-opacity: 0.7; stroke: #4575b4; stroke-opacity: 0.7; stroke-width: 0.3\" />\n",
       "     <use xlink:href=\"#m2c3cb17383\" x=\"119.8675\" y=\"28.028137\" style=\"fill: #4575b4; fill-opacity: 0.7; stroke: #4575b4; stroke-opacity: 0.7; stroke-width: 0.3\" />\n",
       "     <use xlink:href=\"#m2c3cb17383\" x=\"131.4925\" y=\"31.338285\" style=\"fill: #4575b4; fill-opacity: 0.7; stroke: #4575b4; stroke-opacity: 0.7; stroke-width: 0.3\" />\n",
       "     <use xlink:href=\"#m2c3cb17383\" x=\"119.8675\" y=\"29.84892\" style=\"fill: #4575b4; fill-opacity: 0.7; stroke: #4575b4; stroke-opacity: 0.7; stroke-width: 0.3\" />\n",
       "     <use xlink:href=\"#m2c3cb17383\" x=\"67.555\" y=\"41.709042\" style=\"fill: #4575b4; fill-opacity: 0.7; stroke: #4575b4; stroke-opacity: 0.7; stroke-width: 0.3\" />\n",
       "     <use xlink:href=\"#m2c3cb17383\" x=\"48.18\" y=\"60.595229\" style=\"fill: #4575b4; fill-opacity: 0.7; stroke: #4575b4; stroke-opacity: 0.7; stroke-width: 0.3\" />\n",
       "     <use xlink:href=\"#m2c3cb17383\" x=\"145.055\" y=\"19.711928\" style=\"fill: #4575b4; fill-opacity: 0.7; stroke: #4575b4; stroke-opacity: 0.7; stroke-width: 0.3\" />\n",
       "     <use xlink:href=\"#m2c3cb17383\" x=\"119.8675\" y=\"19.852923\" style=\"fill: #4575b4; fill-opacity: 0.7; stroke: #4575b4; stroke-opacity: 0.7; stroke-width: 0.3\" />\n",
       "     <use xlink:href=\"#m2c3cb17383\" x=\"19.1175\" y=\"49.2341\" style=\"fill: #4575b4; fill-opacity: 0.7; stroke: #4575b4; stroke-opacity: 0.7; stroke-width: 0.3\" />\n",
       "     <use xlink:href=\"#m2c3cb17383\" x=\"131.4925\" y=\"34.1118\" style=\"fill: #4575b4; fill-opacity: 0.7; stroke: #4575b4; stroke-opacity: 0.7; stroke-width: 0.3\" />\n",
       "     <use xlink:href=\"#m2c3cb17383\" x=\"36.555\" y=\"14.357106\" style=\"fill: #4575b4; fill-opacity: 0.7; stroke: #4575b4; stroke-opacity: 0.7; stroke-width: 0.3\" />\n",
       "     <use xlink:href=\"#m2c3cb17383\" x=\"137.305\" y=\"17.840133\" style=\"fill: #4575b4; fill-opacity: 0.7; stroke: #4575b4; stroke-opacity: 0.7; stroke-width: 0.3\" />\n",
       "     <use xlink:href=\"#m2c3cb17383\" x=\"19.1175\" y=\"34.1118\" style=\"fill: #4575b4; fill-opacity: 0.7; stroke: #4575b4; stroke-opacity: 0.7; stroke-width: 0.3\" />\n",
       "     <use xlink:href=\"#m2c3cb17383\" x=\"131.4925\" y=\"28.690771\" style=\"fill: #4575b4; fill-opacity: 0.7; stroke: #4575b4; stroke-opacity: 0.7; stroke-width: 0.3\" />\n",
       "     <use xlink:href=\"#m2c3cb17383\" x=\"57.8675\" y=\"22.103013\" style=\"fill: #4575b4; fill-opacity: 0.7; stroke: #4575b4; stroke-opacity: 0.7; stroke-width: 0.3\" />\n",
       "     <use xlink:href=\"#m2c3cb17383\" x=\"108.2425\" y=\"19.158151\" style=\"fill: #4575b4; fill-opacity: 0.7; stroke: #4575b4; stroke-opacity: 0.7; stroke-width: 0.3\" />\n",
       "     <use xlink:href=\"#m2c3cb17383\" x=\"19.1175\" y=\"46.765659\" style=\"fill: #4575b4; fill-opacity: 0.7; stroke: #4575b4; stroke-opacity: 0.7; stroke-width: 0.3\" />\n",
       "     <use xlink:href=\"#m2c3cb17383\" x=\"137.305\" y=\"27.59883\" style=\"fill: #4575b4; fill-opacity: 0.7; stroke: #4575b4; stroke-opacity: 0.7; stroke-width: 0.3\" />\n",
       "     <use xlink:href=\"#m2c3cb17383\" x=\"42.3675\" y=\"43.090643\" style=\"fill: #4575b4; fill-opacity: 0.7; stroke: #4575b4; stroke-opacity: 0.7; stroke-width: 0.3\" />\n",
       "     <use xlink:href=\"#m2c3cb17383\" x=\"106.305\" y=\"27.59883\" style=\"fill: #4575b4; fill-opacity: 0.7; stroke: #4575b4; stroke-opacity: 0.7; stroke-width: 0.3\" />\n",
       "     <use xlink:href=\"#m2c3cb17383\" x=\"44.305\" y=\"10.87408\" style=\"fill: #4575b4; fill-opacity: 0.7; stroke: #4575b4; stroke-opacity: 0.7; stroke-width: 0.3\" />\n",
       "     <use xlink:href=\"#m2c3cb17383\" x=\"30.7425\" y=\"51.320203\" style=\"fill: #4575b4; fill-opacity: 0.7; stroke: #4575b4; stroke-opacity: 0.7; stroke-width: 0.3\" />\n",
       "     <use xlink:href=\"#m2c3cb17383\" x=\"117.93\" y=\"34.1118\" style=\"fill: #4575b4; fill-opacity: 0.7; stroke: #4575b4; stroke-opacity: 0.7; stroke-width: 0.3\" />\n",
       "     <use xlink:href=\"#m2c3cb17383\" x=\"19.1175\" y=\"35.344736\" style=\"fill: #4575b4; fill-opacity: 0.7; stroke: #4575b4; stroke-opacity: 0.7; stroke-width: 0.3\" />\n",
       "     <use xlink:href=\"#m2c3cb17383\" x=\"19.1175\" y=\"43.090643\" style=\"fill: #4575b4; fill-opacity: 0.7; stroke: #4575b4; stroke-opacity: 0.7; stroke-width: 0.3\" />\n",
       "     <use xlink:href=\"#m2c3cb17383\" x=\"19.1175\" y=\"40.840535\" style=\"fill: #4575b4; fill-opacity: 0.7; stroke: #4575b4; stroke-opacity: 0.7; stroke-width: 0.3\" />\n",
       "     <use xlink:href=\"#m2c3cb17383\" x=\"61.7425\" y=\"25.586039\" style=\"fill: #4575b4; fill-opacity: 0.7; stroke: #4575b4; stroke-opacity: 0.7; stroke-width: 0.3\" />\n",
       "     <use xlink:href=\"#m2c3cb17383\" x=\"152.805\" y=\"58.345139\" style=\"fill: #4575b4; fill-opacity: 0.7; stroke: #4575b4; stroke-opacity: 0.7; stroke-width: 0.3\" />\n",
       "     <use xlink:href=\"#m2c3cb17383\" x=\"22.9925\" y=\"49.90446\" style=\"fill: #4575b4; fill-opacity: 0.7; stroke: #4575b4; stroke-opacity: 0.7; stroke-width: 0.3\" />\n",
       "     <use xlink:href=\"#m2c3cb17383\" x=\"108.2425\" y=\"12.344334\" style=\"fill: #4575b4; fill-opacity: 0.7; stroke: #4575b4; stroke-opacity: 0.7; stroke-width: 0.3\" />\n",
       "     <use xlink:href=\"#m2c3cb17383\" x=\"17.18\" y=\"58.345139\" style=\"fill: #4575b4; fill-opacity: 0.7; stroke: #4575b4; stroke-opacity: 0.7; stroke-width: 0.3\" />\n",
       "     <use xlink:href=\"#m2c3cb17383\" x=\"19.1175\" y=\"44.57999\" style=\"fill: #4575b4; fill-opacity: 0.7; stroke: #4575b4; stroke-opacity: 0.7; stroke-width: 0.3\" />\n",
       "     <use xlink:href=\"#m2c3cb17383\" x=\"32.68\" y=\"32.399874\" style=\"fill: #4575b4; fill-opacity: 0.7; stroke: #4575b4; stroke-opacity: 0.7; stroke-width: 0.3\" />\n",
       "     <use xlink:href=\"#m2c3cb17383\" x=\"44.305\" y=\"28.690771\" style=\"fill: #4575b4; fill-opacity: 0.7; stroke: #4575b4; stroke-opacity: 0.7; stroke-width: 0.3\" />\n",
       "     <use xlink:href=\"#m2c3cb17383\" x=\"117.93\" y=\"31.338285\" style=\"fill: #4575b4; fill-opacity: 0.7; stroke: #4575b4; stroke-opacity: 0.7; stroke-width: 0.3\" />\n",
       "     <use xlink:href=\"#m2c3cb17383\" x=\"19.1175\" y=\"43.090643\" style=\"fill: #4575b4; fill-opacity: 0.7; stroke: #4575b4; stroke-opacity: 0.7; stroke-width: 0.3\" />\n",
       "     <use xlink:href=\"#m2c3cb17383\" x=\"131.4925\" y=\"24.472891\" style=\"fill: #4575b4; fill-opacity: 0.7; stroke: #4575b4; stroke-opacity: 0.7; stroke-width: 0.3\" />\n",
       "     <use xlink:href=\"#m2c3cb17383\" x=\"19.1175\" y=\"37.00698\" style=\"fill: #4575b4; fill-opacity: 0.7; stroke: #4575b4; stroke-opacity: 0.7; stroke-width: 0.3\" />\n",
       "     <use xlink:href=\"#m2c3cb17383\" x=\"57.8675\" y=\"40.009814\" style=\"fill: #4575b4; fill-opacity: 0.7; stroke: #4575b4; stroke-opacity: 0.7; stroke-width: 0.3\" />\n",
       "     <use xlink:href=\"#m2c3cb17383\" x=\"21.055\" y=\"41.26986\" style=\"fill: #4575b4; fill-opacity: 0.7; stroke: #4575b4; stroke-opacity: 0.7; stroke-width: 0.3\" />\n",
       "     <use xlink:href=\"#m2c3cb17383\" x=\"119.8675\" y=\"23.082909\" style=\"fill: #4575b4; fill-opacity: 0.7; stroke: #4575b4; stroke-opacity: 0.7; stroke-width: 0.3\" />\n",
       "     <use xlink:href=\"#m2c3cb17383\" x=\"57.8675\" y=\"32.399874\" style=\"fill: #4575b4; fill-opacity: 0.7; stroke: #4575b4; stroke-opacity: 0.7; stroke-width: 0.3\" />\n",
       "     <use xlink:href=\"#m2c3cb17383\" x=\"19.1175\" y=\"38.827763\" style=\"fill: #4575b4; fill-opacity: 0.7; stroke: #4575b4; stroke-opacity: 0.7; stroke-width: 0.3\" />\n",
       "     <use xlink:href=\"#m2c3cb17383\" x=\"135.3675\" y=\"27.178942\" style=\"fill: #4575b4; fill-opacity: 0.7; stroke: #4575b4; stroke-opacity: 0.7; stroke-width: 0.3\" />\n",
       "     <use xlink:href=\"#m2c3cb17383\" x=\"67.555\" y=\"35.344736\" style=\"fill: #4575b4; fill-opacity: 0.7; stroke: #4575b4; stroke-opacity: 0.7; stroke-width: 0.3\" />\n",
       "     <use xlink:href=\"#m2c3cb17383\" x=\"46.2425\" y=\"34.412646\" style=\"fill: #4575b4; fill-opacity: 0.7; stroke: #4575b4; stroke-opacity: 0.7; stroke-width: 0.3\" />\n",
       "     <use xlink:href=\"#m2c3cb17383\" x=\"48.18\" y=\"50.599232\" style=\"fill: #4575b4; fill-opacity: 0.7; stroke: #4575b4; stroke-opacity: 0.7; stroke-width: 0.3\" />\n",
       "     <use xlink:href=\"#m2c3cb17383\" x=\"22.9925\" y=\"43.574297\" style=\"fill: #4575b4; fill-opacity: 0.7; stroke: #4575b4; stroke-opacity: 0.7; stroke-width: 0.3\" />\n",
       "     <use xlink:href=\"#m2c3cb17383\" x=\"40.43\" y=\"47.353523\" style=\"fill: #4575b4; fill-opacity: 0.7; stroke: #4575b4; stroke-opacity: 0.7; stroke-width: 0.3\" />\n",
       "     <use xlink:href=\"#m2c3cb17383\" x=\"106.305\" y=\"22.916062\" style=\"fill: #4575b4; fill-opacity: 0.7; stroke: #4575b4; stroke-opacity: 0.7; stroke-width: 0.3\" />\n",
       "     <use xlink:href=\"#m2c3cb17383\" x=\"117.93\" y=\"45.103415\" style=\"fill: #4575b4; fill-opacity: 0.7; stroke: #4575b4; stroke-opacity: 0.7; stroke-width: 0.3\" />\n",
       "     <use xlink:href=\"#m2c3cb17383\" x=\"152.805\" y=\"27.387729\" style=\"fill: #4575b4; fill-opacity: 0.7; stroke: #4575b4; stroke-opacity: 0.7; stroke-width: 0.3\" />\n",
       "     <use xlink:href=\"#m2c3cb17383\" x=\"112.1175\" y=\"25.207745\" style=\"fill: #4575b4; fill-opacity: 0.7; stroke: #4575b4; stroke-opacity: 0.7; stroke-width: 0.3\" />\n",
       "     <use xlink:href=\"#m2c3cb17383\" x=\"36.555\" y=\"22.488959\" style=\"fill: #4575b4; fill-opacity: 0.7; stroke: #4575b4; stroke-opacity: 0.7; stroke-width: 0.3\" />\n",
       "     <use xlink:href=\"#m2c3cb17383\" x=\"145.055\" y=\"16.607214\" style=\"fill: #4575b4; fill-opacity: 0.7; stroke: #4575b4; stroke-opacity: 0.7; stroke-width: 0.3\" />\n",
       "     <use xlink:href=\"#m2c3cb17383\" x=\"19.1175\" y=\"31.081856\" style=\"fill: #4575b4; fill-opacity: 0.7; stroke: #4575b4; stroke-opacity: 0.7; stroke-width: 0.3\" />\n",
       "     <use xlink:href=\"#m2c3cb17383\" x=\"30.7425\" y=\"33.815618\" style=\"fill: #4575b4; fill-opacity: 0.7; stroke: #4575b4; stroke-opacity: 0.7; stroke-width: 0.3\" />\n",
       "     <use xlink:href=\"#m2c3cb17383\" x=\"131.4925\" y=\"27.178942\" style=\"fill: #4575b4; fill-opacity: 0.7; stroke: #4575b4; stroke-opacity: 0.7; stroke-width: 0.3\" />\n",
       "     <use xlink:href=\"#m2c3cb17383\" x=\"63.68\" y=\"37.357509\" style=\"fill: #4575b4; fill-opacity: 0.7; stroke: #4575b4; stroke-opacity: 0.7; stroke-width: 0.3\" />\n",
       "     <use xlink:href=\"#m2c3cb17383\" x=\"19.1175\" y=\"47.353523\" style=\"fill: #4575b4; fill-opacity: 0.7; stroke: #4575b4; stroke-opacity: 0.7; stroke-width: 0.3\" />\n",
       "     <use xlink:href=\"#m2c3cb17383\" x=\"24.93\" y=\"46.195357\" style=\"fill: #4575b4; fill-opacity: 0.7; stroke: #4575b4; stroke-opacity: 0.7; stroke-width: 0.3\" />\n",
       "     <use xlink:href=\"#m2c3cb17383\" x=\"19.1175\" y=\"46.195357\" style=\"fill: #4575b4; fill-opacity: 0.7; stroke: #4575b4; stroke-opacity: 0.7; stroke-width: 0.3\" />\n",
       "     <use xlink:href=\"#m2c3cb17383\" x=\"152.805\" y=\"50.599232\" style=\"fill: #4575b4; fill-opacity: 0.7; stroke: #4575b4; stroke-opacity: 0.7; stroke-width: 0.3\" />\n",
       "     <use xlink:href=\"#m2c3cb17383\" x=\"114.055\" y=\"39.607617\" style=\"fill: #4575b4; fill-opacity: 0.7; stroke: #4575b4; stroke-opacity: 0.7; stroke-width: 0.3\" />\n",
       "     <use xlink:href=\"#m2c3cb17383\" x=\"77.2425\" y=\"11.872614\" style=\"fill: #4575b4; fill-opacity: 0.7; stroke: #4575b4; stroke-opacity: 0.7; stroke-width: 0.3\" />\n",
       "     <use xlink:href=\"#m2c3cb17383\" x=\"46.2425\" y=\"15.449048\" style=\"fill: #4575b4; fill-opacity: 0.7; stroke: #4575b4; stroke-opacity: 0.7; stroke-width: 0.3\" />\n",
       "     <use xlink:href=\"#m2c3cb17383\" x=\"133.43\" y=\"31.86171\" style=\"fill: #4575b4; fill-opacity: 0.7; stroke: #4575b4; stroke-opacity: 0.7; stroke-width: 0.3\" />\n",
       "     <use xlink:href=\"#m2c3cb17383\" x=\"19.1175\" y=\"41.26986\" style=\"fill: #4575b4; fill-opacity: 0.7; stroke: #4575b4; stroke-opacity: 0.7; stroke-width: 0.3\" />\n",
       "     <use xlink:href=\"#m2c3cb17383\" x=\"38.4925\" y=\"32.399874\" style=\"fill: #4575b4; fill-opacity: 0.7; stroke: #4575b4; stroke-opacity: 0.7; stroke-width: 0.3\" />\n",
       "     <use xlink:href=\"#m2c3cb17383\" x=\"131.4925\" y=\"38.078498\" style=\"fill: #4575b4; fill-opacity: 0.7; stroke: #4575b4; stroke-opacity: 0.7; stroke-width: 0.3\" />\n",
       "     <use xlink:href=\"#m2c3cb17383\" x=\"19.1175\" y=\"37.357509\" style=\"fill: #4575b4; fill-opacity: 0.7; stroke: #4575b4; stroke-opacity: 0.7; stroke-width: 0.3\" />\n",
       "     <use xlink:href=\"#m2c3cb17383\" x=\"63.68\" y=\"40.840535\" style=\"fill: #4575b4; fill-opacity: 0.7; stroke: #4575b4; stroke-opacity: 0.7; stroke-width: 0.3\" />\n",
       "     <use xlink:href=\"#m2c3cb17383\" x=\"152.805\" y=\"53.662371\" style=\"fill: #4575b4; fill-opacity: 0.7; stroke: #4575b4; stroke-opacity: 0.7; stroke-width: 0.3\" />\n",
       "     <use xlink:href=\"#m2c3cb17383\" x=\"42.3675\" y=\"22.916062\" style=\"fill: #4575b4; fill-opacity: 0.7; stroke: #4575b4; stroke-opacity: 0.7; stroke-width: 0.3\" />\n",
       "     <use xlink:href=\"#m2c3cb17383\" x=\"119.8675\" y=\"31.86171\" style=\"fill: #4575b4; fill-opacity: 0.7; stroke: #4575b4; stroke-opacity: 0.7; stroke-width: 0.3\" />\n",
       "     <use xlink:href=\"#m2c3cb17383\" x=\"119.8675\" y=\"28.467318\" style=\"fill: #4575b4; fill-opacity: 0.7; stroke: #4575b4; stroke-opacity: 0.7; stroke-width: 0.3\" />\n",
       "     <use xlink:href=\"#m2c3cb17383\" x=\"42.3675\" y=\"35.344736\" style=\"fill: #4575b4; fill-opacity: 0.7; stroke: #4575b4; stroke-opacity: 0.7; stroke-width: 0.3\" />\n",
       "     <use xlink:href=\"#m2c3cb17383\" x=\"110.18\" y=\"27.59883\" style=\"fill: #4575b4; fill-opacity: 0.7; stroke: #4575b4; stroke-opacity: 0.7; stroke-width: 0.3\" />\n",
       "     <use xlink:href=\"#m2c3cb17383\" x=\"52.055\" y=\"25.586039\" style=\"fill: #4575b4; fill-opacity: 0.7; stroke: #4575b4; stroke-opacity: 0.7; stroke-width: 0.3\" />\n",
       "     <use xlink:href=\"#m2c3cb17383\" x=\"40.43\" y=\"53.662371\" style=\"fill: #4575b4; fill-opacity: 0.7; stroke: #4575b4; stroke-opacity: 0.7; stroke-width: 0.3\" />\n",
       "     <use xlink:href=\"#m2c3cb17383\" x=\"22.9925\" y=\"42.158553\" style=\"fill: #4575b4; fill-opacity: 0.7; stroke: #4575b4; stroke-opacity: 0.7; stroke-width: 0.3\" />\n",
       "     <use xlink:href=\"#m2c3cb17383\" x=\"137.305\" y=\"19.295101\" style=\"fill: #4575b4; fill-opacity: 0.7; stroke: #4575b4; stroke-opacity: 0.7; stroke-width: 0.3\" />\n",
       "     <use xlink:href=\"#m2c3cb17383\" x=\"110.18\" y=\"10.523551\" style=\"fill: #4575b4; fill-opacity: 0.7; stroke: #4575b4; stroke-opacity: 0.7; stroke-width: 0.3\" />\n",
       "     <use xlink:href=\"#m2c3cb17383\" x=\"21.055\" y=\"46.195357\" style=\"fill: #4575b4; fill-opacity: 0.7; stroke: #4575b4; stroke-opacity: 0.7; stroke-width: 0.3\" />\n",
       "     <use xlink:href=\"#m2c3cb17383\" x=\"114.055\" y=\"21.476615\" style=\"fill: #4575b4; fill-opacity: 0.7; stroke: #4575b4; stroke-opacity: 0.7; stroke-width: 0.3\" />\n",
       "     <use xlink:href=\"#m2c3cb17383\" x=\"135.3675\" y=\"16.607214\" style=\"fill: #4575b4; fill-opacity: 0.7; stroke: #4575b4; stroke-opacity: 0.7; stroke-width: 0.3\" />\n",
       "     <use xlink:href=\"#m2c3cb17383\" x=\"52.055\" y=\"21.476615\" style=\"fill: #4575b4; fill-opacity: 0.7; stroke: #4575b4; stroke-opacity: 0.7; stroke-width: 0.3\" />\n",
       "     <use xlink:href=\"#m2c3cb17383\" x=\"131.4925\" y=\"15.449048\" style=\"fill: #4575b4; fill-opacity: 0.7; stroke: #4575b4; stroke-opacity: 0.7; stroke-width: 0.3\" />\n",
       "     <use xlink:href=\"#m2c3cb17383\" x=\"119.8675\" y=\"35.992377\" style=\"fill: #4575b4; fill-opacity: 0.7; stroke: #4575b4; stroke-opacity: 0.7; stroke-width: 0.3\" />\n",
       "     <use xlink:href=\"#m2c3cb17383\" x=\"137.305\" y=\"16.607214\" style=\"fill: #4575b4; fill-opacity: 0.7; stroke: #4575b4; stroke-opacity: 0.7; stroke-width: 0.3\" />\n",
       "    </g>\n",
       "   </g>\n",
       "   <g id=\"patch_3\">\n",
       "    <path d=\"M 41.39875 62.817354  L 38.88775 68.915754  L 43.90975 68.915754  z \" style=\"fill: #444443\" />\n",
       "   </g>\n",
       "   <g id=\"matplotlib.axis_1\">\n",
       "    <g id=\"xtick_1\">\n",
       "     <g id=\"line2d_1\">\n",
       "      <defs>\n",
       "       <path id=\"m307f97ac1d\" d=\"M 0 0  L 0 3.5  \" style=\"stroke: #000000; stroke-width: 0.3\" />\n",
       "      </defs>\n",
       "      <g>\n",
       "       <use xlink:href=\"#m307f97ac1d\" x=\"17.18\" y=\"62.817354\" style=\"stroke: #000000; stroke-width: 0.3\" />\n",
       "      </g>\n",
       "     </g>\n",
       "     <g id=\"text_1\">\n",
       "      \n",
       "      <g style=\"fill: #444443\" transform=\"translate(10.81875 80.396104) scale(0.08 -0.08)\">\n",
       "       <defs>\n",
       "        <path id=\"DejaVuSans-31\" d=\"M 794 531  L 1825 531  L 1825 4091  L 703 3866  L 703 4441  L 1819 4666  L 2450 4666  L 2450 531  L 3481 531  L 3481 0  L 794 0  L 794 531  z \" transform=\"scale(0.015625)\" />\n",
       "        <path id=\"DejaVuSans-2e\" d=\"M 684 794  L 1344 794  L 1344 0  L 684 0  L 684 794  z \" transform=\"scale(0.015625)\" />\n",
       "        <path id=\"DejaVuSans-30\" d=\"M 2034 4250  Q 1547 4250 1301 3770  Q 1056 3291 1056 2328  Q 1056 1369 1301 889  Q 1547 409 2034 409  Q 2525 409 2770 889  Q 3016 1369 3016 2328  Q 3016 3291 2770 3770  Q 2525 4250 2034 4250  z M 2034 4750  Q 2819 4750 3233 4129  Q 3647 3509 3647 2328  Q 3647 1150 3233 529  Q 2819 -91 2034 -91  Q 1250 -91 836 529  Q 422 1150 422 2328  Q 422 3509 836 4129  Q 1250 4750 2034 4750  z \" transform=\"scale(0.015625)\" />\n",
       "       </defs>\n",
       "       <use xlink:href=\"#DejaVuSans-31\" />\n",
       "       <use xlink:href=\"#DejaVuSans-2e\" x=\"63.623047\" />\n",
       "       <use xlink:href=\"#DejaVuSans-30\" x=\"95.410156\" />\n",
       "      </g>\n",
       "     </g>\n",
       "    </g>\n",
       "    <g id=\"xtick_2\">\n",
       "     <g id=\"line2d_2\">\n",
       "      <g>\n",
       "       <use xlink:href=\"#m307f97ac1d\" x=\"41.39875\" y=\"62.817354\" style=\"stroke: #000000; stroke-width: 0.3\" />\n",
       "      </g>\n",
       "     </g>\n",
       "     <g id=\"text_2\">\n",
       "      \n",
       "      <g style=\"fill: #444443\" transform=\"translate(32.4925 80.396104) scale(0.08 -0.08)\">\n",
       "       <defs>\n",
       "        <path id=\"DejaVuSans-33\" d=\"M 2597 2516  Q 3050 2419 3304 2112  Q 3559 1806 3559 1356  Q 3559 666 3084 287  Q 2609 -91 1734 -91  Q 1441 -91 1130 -33  Q 819 25 488 141  L 488 750  Q 750 597 1062 519  Q 1375 441 1716 441  Q 2309 441 2620 675  Q 2931 909 2931 1356  Q 2931 1769 2642 2001  Q 2353 2234 1838 2234  L 1294 2234  L 1294 2753  L 1863 2753  Q 2328 2753 2575 2939  Q 2822 3125 2822 3475  Q 2822 3834 2567 4026  Q 2313 4219 1838 4219  Q 1578 4219 1281 4162  Q 984 4106 628 3988  L 628 4550  Q 988 4650 1302 4700  Q 1616 4750 1894 4750  Q 2613 4750 3031 4423  Q 3450 4097 3450 3541  Q 3450 3153 3228 2886  Q 3006 2619 2597 2516  z \" transform=\"scale(0.015625)\" />\n",
       "        <path id=\"DejaVuSans-35\" d=\"M 691 4666  L 3169 4666  L 3169 4134  L 1269 4134  L 1269 2991  Q 1406 3038 1543 3061  Q 1681 3084 1819 3084  Q 2600 3084 3056 2656  Q 3513 2228 3513 1497  Q 3513 744 3044 326  Q 2575 -91 1722 -91  Q 1428 -91 1123 -41  Q 819 9 494 109  L 494 744  Q 775 591 1075 516  Q 1375 441 1709 441  Q 2250 441 2565 725  Q 2881 1009 2881 1497  Q 2881 1984 2565 2268  Q 2250 2553 1709 2553  Q 1456 2553 1204 2497  Q 953 2441 691 2322  L 691 4666  z \" transform=\"scale(0.015625)\" />\n",
       "       </defs>\n",
       "       <use xlink:href=\"#DejaVuSans-31\" />\n",
       "       <use xlink:href=\"#DejaVuSans-33\" x=\"63.623047\" />\n",
       "       <use xlink:href=\"#DejaVuSans-2e\" x=\"127.246094\" />\n",
       "       <use xlink:href=\"#DejaVuSans-35\" x=\"159.033203\" />\n",
       "      </g>\n",
       "     </g>\n",
       "    </g>\n",
       "    <g id=\"xtick_3\">\n",
       "     <g id=\"line2d_3\">\n",
       "      <g>\n",
       "       <use xlink:href=\"#m307f97ac1d\" x=\"156.68\" y=\"62.817354\" style=\"stroke: #000000; stroke-width: 0.3\" />\n",
       "      </g>\n",
       "     </g>\n",
       "     <g id=\"text_3\">\n",
       "      \n",
       "      <g style=\"fill: #444443\" transform=\"translate(147.77375 80.396104) scale(0.08 -0.08)\">\n",
       "       <defs>\n",
       "        <path id=\"DejaVuSans-37\" d=\"M 525 4666  L 3525 4666  L 3525 4397  L 1831 0  L 1172 0  L 2766 4134  L 525 4134  L 525 4666  z \" transform=\"scale(0.015625)\" />\n",
       "       </defs>\n",
       "       <use xlink:href=\"#DejaVuSans-37\" />\n",
       "       <use xlink:href=\"#DejaVuSans-33\" x=\"63.623047\" />\n",
       "       <use xlink:href=\"#DejaVuSans-2e\" x=\"127.246094\" />\n",
       "       <use xlink:href=\"#DejaVuSans-30\" x=\"159.033203\" />\n",
       "      </g>\n",
       "     </g>\n",
       "    </g>\n",
       "    <g id=\"text_4\">\n",
       "     \n",
       "     <g style=\"fill: #444443\" transform=\"translate(29.85125 95.177979) scale(0.12 -0.12)\">\n",
       "      <defs>\n",
       "       <path id=\"DejaVuSans-66\" d=\"M 2375 4863  L 2375 4384  L 1825 4384  Q 1516 4384 1395 4259  Q 1275 4134 1275 3809  L 1275 3500  L 2222 3500  L 2222 3053  L 1275 3053  L 1275 0  L 697 0  L 697 3053  L 147 3053  L 147 3500  L 697 3500  L 697 3744  Q 697 4328 969 4595  Q 1241 4863 1831 4863  L 2375 4863  z \" transform=\"scale(0.015625)\" />\n",
       "       <path id=\"DejaVuSans-69\" d=\"M 603 3500  L 1178 3500  L 1178 0  L 603 0  L 603 3500  z M 603 4863  L 1178 4863  L 1178 4134  L 603 4134  L 603 4863  z \" transform=\"scale(0.015625)\" />\n",
       "       <path id=\"DejaVuSans-50\" d=\"M 1259 4147  L 1259 2394  L 2053 2394  Q 2494 2394 2734 2622  Q 2975 2850 2975 3272  Q 2975 3691 2734 3919  Q 2494 4147 2053 4147  L 1259 4147  z M 628 4666  L 2053 4666  Q 2838 4666 3239 4311  Q 3641 3956 3641 3272  Q 3641 2581 3239 2228  Q 2838 1875 2053 1875  L 1259 1875  L 1259 0  L 628 0  L 628 4666  z \" transform=\"scale(0.015625)\" />\n",
       "       <path id=\"DejaVuSans-72\" d=\"M 2631 2963  Q 2534 3019 2420 3045  Q 2306 3072 2169 3072  Q 1681 3072 1420 2755  Q 1159 2438 1159 1844  L 1159 0  L 581 0  L 581 3500  L 1159 3500  L 1159 2956  Q 1341 3275 1631 3429  Q 1922 3584 2338 3584  Q 2397 3584 2469 3576  Q 2541 3569 2628 3553  L 2631 2963  z \" transform=\"scale(0.015625)\" />\n",
       "       <path id=\"DejaVuSans-6f\" d=\"M 1959 3097  Q 1497 3097 1228 2736  Q 959 2375 959 1747  Q 959 1119 1226 758  Q 1494 397 1959 397  Q 2419 397 2687 759  Q 2956 1122 2956 1747  Q 2956 2369 2687 2733  Q 2419 3097 1959 3097  z M 1959 3584  Q 2709 3584 3137 3096  Q 3566 2609 3566 1747  Q 3566 888 3137 398  Q 2709 -91 1959 -91  Q 1206 -91 779 398  Q 353 888 353 1747  Q 353 2609 779 3096  Q 1206 3584 1959 3584  z \" transform=\"scale(0.015625)\" />\n",
       "       <path id=\"DejaVuSans-64\" d=\"M 2906 2969  L 2906 4863  L 3481 4863  L 3481 0  L 2906 0  L 2906 525  Q 2725 213 2448 61  Q 2172 -91 1784 -91  Q 1150 -91 751 415  Q 353 922 353 1747  Q 353 2572 751 3078  Q 1150 3584 1784 3584  Q 2172 3584 2448 3432  Q 2725 3281 2906 2969  z M 947 1747  Q 947 1113 1208 752  Q 1469 391 1925 391  Q 2381 391 2643 752  Q 2906 1113 2906 1747  Q 2906 2381 2643 2742  Q 2381 3103 1925 3103  Q 1469 3103 1208 2742  Q 947 2381 947 1747  z \" transform=\"scale(0.015625)\" />\n",
       "       <path id=\"DejaVuSans-75\" d=\"M 544 1381  L 544 3500  L 1119 3500  L 1119 1403  Q 1119 906 1312 657  Q 1506 409 1894 409  Q 2359 409 2629 706  Q 2900 1003 2900 1516  L 2900 3500  L 3475 3500  L 3475 0  L 2900 0  L 2900 538  Q 2691 219 2414 64  Q 2138 -91 1772 -91  Q 1169 -91 856 284  Q 544 659 544 1381  z M 1991 3584  L 1991 3584  z \" transform=\"scale(0.015625)\" />\n",
       "       <path id=\"DejaVuSans-63\" d=\"M 3122 3366  L 3122 2828  Q 2878 2963 2633 3030  Q 2388 3097 2138 3097  Q 1578 3097 1268 2742  Q 959 2388 959 1747  Q 959 1106 1268 751  Q 1578 397 2138 397  Q 2388 397 2633 464  Q 2878 531 3122 666  L 3122 134  Q 2881 22 2623 -34  Q 2366 -91 2075 -91  Q 1284 -91 818 406  Q 353 903 353 1747  Q 353 2603 823 3093  Q 1294 3584 2113 3584  Q 2378 3584 2631 3529  Q 2884 3475 3122 3366  z \" transform=\"scale(0.015625)\" />\n",
       "       <path id=\"DejaVuSans-74\" d=\"M 1172 4494  L 1172 3500  L 2356 3500  L 2356 3053  L 1172 3053  L 1172 1153  Q 1172 725 1289 603  Q 1406 481 1766 481  L 2356 481  L 2356 0  L 1766 0  Q 1100 0 847 248  Q 594 497 594 1153  L 594 3053  L 172 3053  L 172 3500  L 594 3500  L 594 4494  L 1172 4494  z \" transform=\"scale(0.015625)\" />\n",
       "       <path id=\"DejaVuSans-43\" d=\"M 4122 4306  L 4122 3641  Q 3803 3938 3442 4084  Q 3081 4231 2675 4231  Q 1875 4231 1450 3742  Q 1025 3253 1025 2328  Q 1025 1406 1450 917  Q 1875 428 2675 428  Q 3081 428 3442 575  Q 3803 722 4122 1019  L 4122 359  Q 3791 134 3420 21  Q 3050 -91 2638 -91  Q 1578 -91 968 557  Q 359 1206 359 2328  Q 359 3453 968 4101  Q 1578 4750 2638 4750  Q 3056 4750 3426 4639  Q 3797 4528 4122 4306  z \" transform=\"scale(0.015625)\" />\n",
       "       <path id=\"DejaVuSans-6c\" d=\"M 603 4863  L 1178 4863  L 1178 0  L 603 0  L 603 4863  z \" transform=\"scale(0.015625)\" />\n",
       "       <path id=\"DejaVuSans-61\" d=\"M 2194 1759  Q 1497 1759 1228 1600  Q 959 1441 959 1056  Q 959 750 1161 570  Q 1363 391 1709 391  Q 2188 391 2477 730  Q 2766 1069 2766 1631  L 2766 1759  L 2194 1759  z M 3341 1997  L 3341 0  L 2766 0  L 2766 531  Q 2569 213 2275 61  Q 1981 -91 1556 -91  Q 1019 -91 701 211  Q 384 513 384 1019  Q 384 1609 779 1909  Q 1175 2209 1959 2209  L 2766 2209  L 2766 2266  Q 2766 2663 2505 2880  Q 2244 3097 1772 3097  Q 1472 3097 1187 3025  Q 903 2953 641 2809  L 641 3341  Q 956 3463 1253 3523  Q 1550 3584 1831 3584  Q 2591 3584 2966 3190  Q 3341 2797 3341 1997  z \" transform=\"scale(0.015625)\" />\n",
       "       <path id=\"DejaVuSans-73\" d=\"M 2834 3397  L 2834 2853  Q 2591 2978 2328 3040  Q 2066 3103 1784 3103  Q 1356 3103 1142 2972  Q 928 2841 928 2578  Q 928 2378 1081 2264  Q 1234 2150 1697 2047  L 1894 2003  Q 2506 1872 2764 1633  Q 3022 1394 3022 966  Q 3022 478 2636 193  Q 2250 -91 1575 -91  Q 1294 -91 989 -36  Q 684 19 347 128  L 347 722  Q 666 556 975 473  Q 1284 391 1588 391  Q 1994 391 2212 530  Q 2431 669 2431 922  Q 2431 1156 2273 1281  Q 2116 1406 1581 1522  L 1381 1569  Q 847 1681 609 1914  Q 372 2147 372 2553  Q 372 3047 722 3315  Q 1072 3584 1716 3584  Q 2034 3584 2315 3537  Q 2597 3491 2834 3397  z \" transform=\"scale(0.015625)\" />\n",
       "       <path id=\"DejaVuSans-44\" d=\"M 1259 4147  L 1259 519  L 2022 519  Q 2988 519 3436 956  Q 3884 1394 3884 2338  Q 3884 3275 3436 3711  Q 2988 4147 2022 4147  L 1259 4147  z M 628 4666  L 1925 4666  Q 3281 4666 3915 4102  Q 4550 3538 4550 2338  Q 4550 1131 3912 565  Q 3275 0 1925 0  L 628 0  L 628 4666  z \" transform=\"scale(0.015625)\" />\n",
       "       <path id=\"DejaVuSans-65\" d=\"M 3597 1894  L 3597 1613  L 953 1613  Q 991 1019 1311 708  Q 1631 397 2203 397  Q 2534 397 2845 478  Q 3156 559 3463 722  L 3463 178  Q 3153 47 2828 -22  Q 2503 -91 2169 -91  Q 1331 -91 842 396  Q 353 884 353 1716  Q 353 2575 817 3079  Q 1281 3584 2069 3584  Q 2775 3584 3186 3129  Q 3597 2675 3597 1894  z M 3022 2063  Q 3016 2534 2758 2815  Q 2500 3097 2075 3097  Q 1594 3097 1305 2825  Q 1016 2553 972 2059  L 3022 2063  z \" transform=\"scale(0.015625)\" />\n",
       "      </defs>\n",
       "      <use xlink:href=\"#DejaVuSans-66\" />\n",
       "      <use xlink:href=\"#DejaVuSans-69\" x=\"35.205078\" />\n",
       "      <use xlink:href=\"#DejaVuSans-50\" x=\"62.988281\" />\n",
       "      <use xlink:href=\"#DejaVuSans-72\" x=\"121.541016\" />\n",
       "      <use xlink:href=\"#DejaVuSans-6f\" x=\"160.404297\" />\n",
       "      <use xlink:href=\"#DejaVuSans-64\" x=\"221.585938\" />\n",
       "      <use xlink:href=\"#DejaVuSans-75\" x=\"285.0625\" />\n",
       "      <use xlink:href=\"#DejaVuSans-63\" x=\"348.441406\" />\n",
       "      <use xlink:href=\"#DejaVuSans-74\" x=\"403.421875\" />\n",
       "      <use xlink:href=\"#DejaVuSans-43\" x=\"442.630859\" />\n",
       "      <use xlink:href=\"#DejaVuSans-6c\" x=\"512.455078\" />\n",
       "      <use xlink:href=\"#DejaVuSans-61\" x=\"540.238281\" />\n",
       "      <use xlink:href=\"#DejaVuSans-73\" x=\"601.517578\" />\n",
       "      <use xlink:href=\"#DejaVuSans-73\" x=\"653.617188\" />\n",
       "      <use xlink:href=\"#DejaVuSans-44\" x=\"705.716797\" />\n",
       "      <use xlink:href=\"#DejaVuSans-65\" x=\"782.71875\" />\n",
       "      <use xlink:href=\"#DejaVuSans-73\" x=\"844.242188\" />\n",
       "      <use xlink:href=\"#DejaVuSans-63\" x=\"896.341797\" />\n",
       "     </g>\n",
       "    </g>\n",
       "   </g>\n",
       "   <g id=\"matplotlib.axis_2\">\n",
       "    <g id=\"ytick_1\">\n",
       "     <g id=\"line2d_4\">\n",
       "      <defs>\n",
       "       <path id=\"m310f8d05e3\" d=\"M 0 0  L -3.5 0  \" style=\"stroke: #000000; stroke-width: 0.3\" />\n",
       "      </defs>\n",
       "      <g>\n",
       "       <use xlink:href=\"#m310f8d05e3\" x=\"17.18\" y=\"41.246886\" style=\"stroke: #000000; stroke-width: 0.3\" />\n",
       "      </g>\n",
       "     </g>\n",
       "     <g id=\"text_5\">\n",
       "      \n",
       "      <g style=\"fill: #444443\" transform=\"translate(0 44.286261) scale(0.08 -0.08)\">\n",
       "       <use xlink:href=\"#DejaVuSans-31\" />\n",
       "       <use xlink:href=\"#DejaVuSans-30\" x=\"63.623047\" />\n",
       "      </g>\n",
       "     </g>\n",
       "    </g>\n",
       "    <g id=\"ytick_2\">\n",
       "     <g id=\"line2d_5\">\n",
       "      <g>\n",
       "       <use xlink:href=\"#m310f8d05e3\" x=\"17.18\" y=\"3.039375\" style=\"stroke: #000000; stroke-width: 0.3\" />\n",
       "      </g>\n",
       "     </g>\n",
       "     <g id=\"text_6\">\n",
       "      \n",
       "      <g style=\"fill: #444443\" transform=\"translate(0 6.07875) scale(0.08 -0.08)\">\n",
       "       <defs>\n",
       "        <path id=\"DejaVuSans-32\" d=\"M 1228 531  L 3431 531  L 3431 0  L 469 0  L 469 531  Q 828 903 1448 1529  Q 2069 2156 2228 2338  Q 2531 2678 2651 2914  Q 2772 3150 2772 3378  Q 2772 3750 2511 3984  Q 2250 4219 1831 4219  Q 1534 4219 1204 4116  Q 875 4013 500 3803  L 500 4441  Q 881 4594 1212 4672  Q 1544 4750 1819 4750  Q 2544 4750 2975 4387  Q 3406 4025 3406 3419  Q 3406 3131 3298 2873  Q 3191 2616 2906 2266  Q 2828 2175 2409 1742  Q 1991 1309 1228 531  z \" transform=\"scale(0.015625)\" />\n",
       "       </defs>\n",
       "       <use xlink:href=\"#DejaVuSans-31\" />\n",
       "       <use xlink:href=\"#DejaVuSans-32\" x=\"63.623047\" />\n",
       "      </g>\n",
       "     </g>\n",
       "    </g>\n",
       "   </g>\n",
       "   <g id=\"line2d_6\">\n",
       "    <path d=\"M 17.18 40.723006  L 41.39875 40.723006  \" clip-path=\"url(#pe62e63e3ff)\" style=\"fill: none; stroke-dasharray: 3.7,1.6; stroke-dashoffset: 0; stroke: #444443\" />\n",
       "   </g>\n",
       "   <g id=\"line2d_7\">\n",
       "    <path d=\"M 41.39875 62.817354  L 41.39875 1.833354  \" clip-path=\"url(#pe62e63e3ff)\" style=\"fill: none; stroke-dasharray: 3.7,1.6; stroke-dashoffset: 0; stroke: #444443\" />\n",
       "   </g>\n",
       "   <g id=\"line2d_8\">\n",
       "    <path d=\"M 41.39875 30.595215  L 156.68 30.595215  \" clip-path=\"url(#pe62e63e3ff)\" style=\"fill: none; stroke-dasharray: 3.7,1.6; stroke-dashoffset: 0; stroke: #444443\" />\n",
       "   </g>\n",
       "   <g id=\"patch_4\">\n",
       "    <path d=\"M 17.18 62.817354  L 17.18 1.833354  \" style=\"fill: none; stroke: #444443; stroke-width: 0.3; stroke-linejoin: miter; stroke-linecap: square\" />\n",
       "   </g>\n",
       "   <g id=\"patch_5\">\n",
       "    <path d=\"M 17.18 62.817354  L 156.68 62.817354  \" style=\"fill: none; stroke: #444443; stroke-width: 0.3; stroke-linejoin: miter; stroke-linecap: square\" />\n",
       "   </g>\n",
       "  </g>\n",
       " </g>\n",
       " <defs>\n",
       "  <clipPath id=\"pe62e63e3ff\">\n",
       "   <rect x=\"17.18\" y=\"1.833354\" width=\"139.5\" height=\"60.984\" />\n",
       "  </clipPath>\n",
       " </defs>\n",
       "</svg></g>\n",
       "\n",
       "<g id=\"node4\" class=\"node\">\n",
       "<title>leaf5</title>\n",
       "<polygon fill=\"none\" stroke=\"#444443\" stroke-width=\"0\" points=\"139.5,-62 57.5,-62 57.5,0 139.5,0 139.5,-62\" />\n",
       "<svg width=\"74px\" height=\"54px\" viewBox=\"0 0 99.373125 73.315394\" version=\"1.1\" preserveAspectRatio=\"xMinYMin meet\" x=\"61.5\" y=\"-58\">\n",
       " <metadata>\n",
       "  <rdf:RDF>\n",
       "   <ns2:Work>\n",
       "    <dc:type rdf:resource=\"http://purl.org/dc/dcmitype/StillImage\" />\n",
       "    <dc:date>2024-01-02T17:57:06.351686</dc:date>\n",
       "    <dc:format>image/svg+xml</dc:format>\n",
       "    <dc:creator>\n",
       "     <ns2:Agent>\n",
       "      <dc:title>Matplotlib v3.7.2, https://matplotlib.org/</dc:title>\n",
       "     </ns2:Agent>\n",
       "    </dc:creator>\n",
       "   </ns2:Work>\n",
       "  </rdf:RDF>\n",
       " </metadata>\n",
       " <defs>\n",
       "  <style type=\"text/css\">*{stroke-linejoin: round; stroke-linecap: butt}</style>\n",
       " </defs>\n",
       " <g id=\"figure_1\">\n",
       "  <g id=\"patch_1\">\n",
       "   <path d=\"M 0 73.315394  L 99.373125 73.315394  L 99.373125 0  L 0 0  z \" style=\"fill: #ffffff\" />\n",
       "  </g>\n",
       "  <g id=\"axes_1\">\n",
       "   <g id=\"patch_2\">\n",
       "    <path d=\"M 28.261562 46.514269  L 70.111562 46.514269  L 70.111562 2.162269  L 28.261562 2.162269  z \" style=\"fill: #ffffff\" />\n",
       "   </g>\n",
       "   <g id=\"PathCollection_1\">\n",
       "    <defs>\n",
       "     <path id=\"m74f707f696\" d=\"M 0 1.118034  C 0.296506 1.118034 0.580908 1.000231 0.790569 0.790569  C 1.000231 0.580908 1.118034 0.296506 1.118034 0  C 1.118034 -0.296506 1.000231 -0.580908 0.790569 -0.790569  C 0.580908 -1.000231 0.296506 -1.118034 0 -1.118034  C -0.296506 -1.118034 -0.580908 -1.000231 -0.790569 -0.790569  C -1.000231 -0.580908 -1.118034 -0.296506 -1.118034 0  C -1.118034 0.296506 -1.000231 0.580908 -0.790569 0.790569  C -0.580908 1.000231 -0.296506 1.118034 0 1.118034  z \" style=\"stroke: #4575b4; stroke-opacity: 0.7; stroke-width: 0.3\" />\n",
       "    </defs>\n",
       "    <g clip-path=\"url(#pd730d8db9b)\">\n",
       "     <use xlink:href=\"#m74f707f696\" x=\"49.453656\" y=\"25.637502\" style=\"fill: #4575b4; fill-opacity: 0.7; stroke: #4575b4; stroke-opacity: 0.7; stroke-width: 0.3\" />\n",
       "     <use xlink:href=\"#m74f707f696\" x=\"52.651496\" y=\"30.531128\" style=\"fill: #4575b4; fill-opacity: 0.7; stroke: #4575b4; stroke-opacity: 0.7; stroke-width: 0.3\" />\n",
       "     <use xlink:href=\"#m74f707f696\" x=\"54.546008\" y=\"40.473695\" style=\"fill: #4575b4; fill-opacity: 0.7; stroke: #4575b4; stroke-opacity: 0.7; stroke-width: 0.3\" />\n",
       "     <use xlink:href=\"#m74f707f696\" x=\"48.743908\" y=\"31.489686\" style=\"fill: #4575b4; fill-opacity: 0.7; stroke: #4575b4; stroke-opacity: 0.7; stroke-width: 0.3\" />\n",
       "     <use xlink:href=\"#m74f707f696\" x=\"50.512779\" y=\"33.631404\" style=\"fill: #4575b4; fill-opacity: 0.7; stroke: #4575b4; stroke-opacity: 0.7; stroke-width: 0.3\" />\n",
       "     <use xlink:href=\"#m74f707f696\" x=\"47.125287\" y=\"31.162769\" style=\"fill: #4575b4; fill-opacity: 0.7; stroke: #4575b4; stroke-opacity: 0.7; stroke-width: 0.3\" />\n",
       "     <use xlink:href=\"#m74f707f696\" x=\"52.054696\" y=\"29.347981\" style=\"fill: #4575b4; fill-opacity: 0.7; stroke: #4575b4; stroke-opacity: 0.7; stroke-width: 0.3\" />\n",
       "     <use xlink:href=\"#m74f707f696\" x=\"49.497488\" y=\"33.250732\" style=\"fill: #4575b4; fill-opacity: 0.7; stroke: #4575b4; stroke-opacity: 0.7; stroke-width: 0.3\" />\n",
       "     <use xlink:href=\"#m74f707f696\" x=\"49.639661\" y=\"32.16757\" style=\"fill: #4575b4; fill-opacity: 0.7; stroke: #4575b4; stroke-opacity: 0.7; stroke-width: 0.3\" />\n",
       "     <use xlink:href=\"#m74f707f696\" x=\"48.841727\" y=\"31.162769\" style=\"fill: #4575b4; fill-opacity: 0.7; stroke: #4575b4; stroke-opacity: 0.7; stroke-width: 0.3\" />\n",
       "     <use xlink:href=\"#m74f707f696\" x=\"48.844364\" y=\"30.843364\" style=\"fill: #4575b4; fill-opacity: 0.7; stroke: #4575b4; stroke-opacity: 0.7; stroke-width: 0.3\" />\n",
       "     <use xlink:href=\"#m74f707f696\" x=\"46.551278\" y=\"37.123073\" style=\"fill: #4575b4; fill-opacity: 0.7; stroke: #4575b4; stroke-opacity: 0.7; stroke-width: 0.3\" />\n",
       "     <use xlink:href=\"#m74f707f696\" x=\"49.840478\" y=\"42.510553\" style=\"fill: #4575b4; fill-opacity: 0.7; stroke: #4575b4; stroke-opacity: 0.7; stroke-width: 0.3\" />\n",
       "     <use xlink:href=\"#m74f707f696\" x=\"50.379699\" y=\"33.631404\" style=\"fill: #4575b4; fill-opacity: 0.7; stroke: #4575b4; stroke-opacity: 0.7; stroke-width: 0.3\" />\n",
       "     <use xlink:href=\"#m74f707f696\" x=\"52.572932\" y=\"26.534183\" style=\"fill: #4575b4; fill-opacity: 0.7; stroke: #4575b4; stroke-opacity: 0.7; stroke-width: 0.3\" />\n",
       "     <use xlink:href=\"#m74f707f696\" x=\"45.727866\" y=\"25.209977\" style=\"fill: #4575b4; fill-opacity: 0.7; stroke: #4575b4; stroke-opacity: 0.7; stroke-width: 0.3\" />\n",
       "     <use xlink:href=\"#m74f707f696\" x=\"44.184857\" y=\"34.425544\" style=\"fill: #4575b4; fill-opacity: 0.7; stroke: #4575b4; stroke-opacity: 0.7; stroke-width: 0.3\" />\n",
       "     <use xlink:href=\"#m74f707f696\" x=\"48.22286\" y=\"29.63446\" style=\"fill: #4575b4; fill-opacity: 0.7; stroke: #4575b4; stroke-opacity: 0.7; stroke-width: 0.3\" />\n",
       "     <use xlink:href=\"#m74f707f696\" x=\"56.010355\" y=\"27.492742\" style=\"fill: #4575b4; fill-opacity: 0.7; stroke: #4575b4; stroke-opacity: 0.7; stroke-width: 0.3\" />\n",
       "     <use xlink:href=\"#m74f707f696\" x=\"47.700042\" y=\"28.257718\" style=\"fill: #4575b4; fill-opacity: 0.7; stroke: #4575b4; stroke-opacity: 0.7; stroke-width: 0.3\" />\n",
       "     <use xlink:href=\"#m74f707f696\" x=\"48.234068\" y=\"27.743088\" style=\"fill: #4575b4; fill-opacity: 0.7; stroke: #4575b4; stroke-opacity: 0.7; stroke-width: 0.3\" />\n",
       "     <use xlink:href=\"#m74f707f696\" x=\"48.782764\" y=\"33.631404\" style=\"fill: #4575b4; fill-opacity: 0.7; stroke: #4575b4; stroke-opacity: 0.7; stroke-width: 0.3\" />\n",
       "     <use xlink:href=\"#m74f707f696\" x=\"44.47525\" y=\"24.001073\" style=\"fill: #4575b4; fill-opacity: 0.7; stroke: #4575b4; stroke-opacity: 0.7; stroke-width: 0.3\" />\n",
       "     <use xlink:href=\"#m74f707f696\" x=\"49.975007\" y=\"33.250732\" style=\"fill: #4575b4; fill-opacity: 0.7; stroke: #4575b4; stroke-opacity: 0.7; stroke-width: 0.3\" />\n",
       "     <use xlink:href=\"#m74f707f696\" x=\"49.209361\" y=\"26.078608\" style=\"fill: #4575b4; fill-opacity: 0.7; stroke: #4575b4; stroke-opacity: 0.7; stroke-width: 0.3\" />\n",
       "     <use xlink:href=\"#m74f707f696\" x=\"50.362183\" y=\"24.001073\" style=\"fill: #4575b4; fill-opacity: 0.7; stroke: #4575b4; stroke-opacity: 0.7; stroke-width: 0.3\" />\n",
       "     <use xlink:href=\"#m74f707f696\" x=\"47.378063\" y=\"32.698591\" style=\"fill: #4575b4; fill-opacity: 0.7; stroke: #4575b4; stroke-opacity: 0.7; stroke-width: 0.3\" />\n",
       "     <use xlink:href=\"#m74f707f696\" x=\"50.535805\" y=\"31.489686\" style=\"fill: #4575b4; fill-opacity: 0.7; stroke: #4575b4; stroke-opacity: 0.7; stroke-width: 0.3\" />\n",
       "     <use xlink:href=\"#m74f707f696\" x=\"47.937838\" y=\"28.522373\" style=\"fill: #4575b4; fill-opacity: 0.7; stroke: #4575b4; stroke-opacity: 0.7; stroke-width: 0.3\" />\n",
       "     <use xlink:href=\"#m74f707f696\" x=\"42.735404\" y=\"20.900797\" style=\"fill: #4575b4; fill-opacity: 0.7; stroke: #4575b4; stroke-opacity: 0.7; stroke-width: 0.3\" />\n",
       "     <use xlink:href=\"#m74f707f696\" x=\"46.325698\" y=\"42.510553\" style=\"fill: #4575b4; fill-opacity: 0.7; stroke: #4575b4; stroke-opacity: 0.7; stroke-width: 0.3\" />\n",
       "     <use xlink:href=\"#m74f707f696\" x=\"51.48434\" y=\"44.055888\" style=\"fill: #4575b4; fill-opacity: 0.7; stroke: #4575b4; stroke-opacity: 0.7; stroke-width: 0.3\" />\n",
       "     <use xlink:href=\"#m74f707f696\" x=\"47.970405\" y=\"40.473695\" style=\"fill: #4575b4; fill-opacity: 0.7; stroke: #4575b4; stroke-opacity: 0.7; stroke-width: 0.3\" />\n",
       "     <use xlink:href=\"#m74f707f696\" x=\"47.693472\" y=\"30.843364\" style=\"fill: #4575b4; fill-opacity: 0.7; stroke: #4575b4; stroke-opacity: 0.7; stroke-width: 0.3\" />\n",
       "     <use xlink:href=\"#m74f707f696\" x=\"54.378674\" y=\"18.367687\" style=\"fill: #4575b4; fill-opacity: 0.7; stroke: #4575b4; stroke-opacity: 0.7; stroke-width: 0.3\" />\n",
       "     <use xlink:href=\"#m74f707f696\" x=\"51.83742\" y=\"24.795212\" style=\"fill: #4575b4; fill-opacity: 0.7; stroke: #4575b4; stroke-opacity: 0.7; stroke-width: 0.3\" />\n",
       "     <use xlink:href=\"#m74f707f696\" x=\"47.674946\" y=\"35.708953\" style=\"fill: #4575b4; fill-opacity: 0.7; stroke: #4575b4; stroke-opacity: 0.7; stroke-width: 0.3\" />\n",
       "     <use xlink:href=\"#m74f707f696\" x=\"49.831016\" y=\"24.392465\" style=\"fill: #4575b4; fill-opacity: 0.7; stroke: #4575b4; stroke-opacity: 0.7; stroke-width: 0.3\" />\n",
       "     <use xlink:href=\"#m74f707f696\" x=\"48.07571\" y=\"29.63446\" style=\"fill: #4575b4; fill-opacity: 0.7; stroke: #4575b4; stroke-opacity: 0.7; stroke-width: 0.3\" />\n",
       "     <use xlink:href=\"#m74f707f696\" x=\"55.993454\" y=\"32.880222\" style=\"fill: #4575b4; fill-opacity: 0.7; stroke: #4575b4; stroke-opacity: 0.7; stroke-width: 0.3\" />\n",
       "     <use xlink:href=\"#m74f707f696\" x=\"49.709976\" y=\"44.898178\" style=\"fill: #4575b4; fill-opacity: 0.7; stroke: #4575b4; stroke-opacity: 0.7; stroke-width: 0.3\" />\n",
       "     <use xlink:href=\"#m74f707f696\" x=\"42.82966\" y=\"27.005195\" style=\"fill: #4575b4; fill-opacity: 0.7; stroke: #4575b4; stroke-opacity: 0.7; stroke-width: 0.3\" />\n",
       "     <use xlink:href=\"#m74f707f696\" x=\"50.147717\" y=\"22.537226\" style=\"fill: #4575b4; fill-opacity: 0.7; stroke: #4575b4; stroke-opacity: 0.7; stroke-width: 0.3\" />\n",
       "     <use xlink:href=\"#m74f707f696\" x=\"46.539734\" y=\"25.637502\" style=\"fill: #4575b4; fill-opacity: 0.7; stroke: #4575b4; stroke-opacity: 0.7; stroke-width: 0.3\" />\n",
       "     <use xlink:href=\"#m74f707f696\" x=\"52.167928\" y=\"30.531128\" style=\"fill: #4575b4; fill-opacity: 0.7; stroke: #4575b4; stroke-opacity: 0.7; stroke-width: 0.3\" />\n",
       "     <use xlink:href=\"#m74f707f696\" x=\"45.620866\" y=\"20.149601\" style=\"fill: #4575b4; fill-opacity: 0.7; stroke: #4575b4; stroke-opacity: 0.7; stroke-width: 0.3\" />\n",
       "     <use xlink:href=\"#m74f707f696\" x=\"48.177188\" y=\"30.843364\" style=\"fill: #4575b4; fill-opacity: 0.7; stroke: #4575b4; stroke-opacity: 0.7; stroke-width: 0.3\" />\n",
       "     <use xlink:href=\"#m74f707f696\" x=\"47.626478\" y=\"28.792157\" style=\"fill: #4575b4; fill-opacity: 0.7; stroke: #4575b4; stroke-opacity: 0.7; stroke-width: 0.3\" />\n",
       "     <use xlink:href=\"#m74f707f696\" x=\"48.07828\" y=\"33.250732\" style=\"fill: #4575b4; fill-opacity: 0.7; stroke: #4575b4; stroke-opacity: 0.7; stroke-width: 0.3\" />\n",
       "     <use xlink:href=\"#m74f707f696\" x=\"50.713793\" y=\"29.347981\" style=\"fill: #4575b4; fill-opacity: 0.7; stroke: #4575b4; stroke-opacity: 0.7; stroke-width: 0.3\" />\n",
       "     <use xlink:href=\"#m74f707f696\" x=\"51.98618\" y=\"19.436949\" style=\"fill: #4575b4; fill-opacity: 0.7; stroke: #4575b4; stroke-opacity: 0.7; stroke-width: 0.3\" />\n",
       "     <use xlink:href=\"#m74f707f696\" x=\"50.856248\" y=\"33.631404\" style=\"fill: #4575b4; fill-opacity: 0.7; stroke: #4575b4; stroke-opacity: 0.7; stroke-width: 0.3\" />\n",
       "     <use xlink:href=\"#m74f707f696\" x=\"50.385901\" y=\"33.250732\" style=\"fill: #4575b4; fill-opacity: 0.7; stroke: #4575b4; stroke-opacity: 0.7; stroke-width: 0.3\" />\n",
       "     <use xlink:href=\"#m74f707f696\" x=\"52.9246\" y=\"35.267847\" style=\"fill: #4575b4; fill-opacity: 0.7; stroke: #4575b4; stroke-opacity: 0.7; stroke-width: 0.3\" />\n",
       "     <use xlink:href=\"#m74f707f696\" x=\"53.684318\" y=\"34.840309\" style=\"fill: #4575b4; fill-opacity: 0.7; stroke: #4575b4; stroke-opacity: 0.7; stroke-width: 0.3\" />\n",
       "     <use xlink:href=\"#m74f707f696\" x=\"52.586063\" y=\"30.225768\" style=\"fill: #4575b4; fill-opacity: 0.7; stroke: #4575b4; stroke-opacity: 0.7; stroke-width: 0.3\" />\n",
       "     <use xlink:href=\"#m74f707f696\" x=\"50.1096\" y=\"27.998018\" style=\"fill: #4575b4; fill-opacity: 0.7; stroke: #4575b4; stroke-opacity: 0.7; stroke-width: 0.3\" />\n",
       "     <use xlink:href=\"#m74f707f696\" x=\"54.814962\" y=\"37.123073\" style=\"fill: #4575b4; fill-opacity: 0.7; stroke: #4575b4; stroke-opacity: 0.7; stroke-width: 0.3\" />\n",
       "     <use xlink:href=\"#m74f707f696\" x=\"46.861403\" y=\"26.078608\" style=\"fill: #4575b4; fill-opacity: 0.7; stroke: #4575b4; stroke-opacity: 0.7; stroke-width: 0.3\" />\n",
       "     <use xlink:href=\"#m74f707f696\" x=\"49.194685\" y=\"26.304521\" style=\"fill: #4575b4; fill-opacity: 0.7; stroke: #4575b4; stroke-opacity: 0.7; stroke-width: 0.3\" />\n",
       "     <use xlink:href=\"#m74f707f696\" x=\"52.94469\" y=\"28.522373\" style=\"fill: #4575b4; fill-opacity: 0.7; stroke: #4575b4; stroke-opacity: 0.7; stroke-width: 0.3\" />\n",
       "     <use xlink:href=\"#m74f707f696\" x=\"48.412815\" y=\"28.522373\" style=\"fill: #4575b4; fill-opacity: 0.7; stroke: #4575b4; stroke-opacity: 0.7; stroke-width: 0.3\" />\n",
       "     <use xlink:href=\"#m74f707f696\" x=\"46.25781\" y=\"20.900797\" style=\"fill: #4575b4; fill-opacity: 0.7; stroke: #4575b4; stroke-opacity: 0.7; stroke-width: 0.3\" />\n",
       "     <use xlink:href=\"#m74f707f696\" x=\"53.048085\" y=\"26.534183\" style=\"fill: #4575b4; fill-opacity: 0.7; stroke: #4575b4; stroke-opacity: 0.7; stroke-width: 0.3\" />\n",
       "     <use xlink:href=\"#m74f707f696\" x=\"46.690594\" y=\"26.534183\" style=\"fill: #4575b4; fill-opacity: 0.7; stroke: #4575b4; stroke-opacity: 0.7; stroke-width: 0.3\" />\n",
       "     <use xlink:href=\"#m74f707f696\" x=\"51.198133\" y=\"35.267847\" style=\"fill: #4575b4; fill-opacity: 0.7; stroke: #4575b4; stroke-opacity: 0.7; stroke-width: 0.3\" />\n",
       "     <use xlink:href=\"#m74f707f696\" x=\"50.877311\" y=\"27.005195\" style=\"fill: #4575b4; fill-opacity: 0.7; stroke: #4575b4; stroke-opacity: 0.7; stroke-width: 0.3\" />\n",
       "     <use xlink:href=\"#m74f707f696\" x=\"50.00947\" y=\"32.16757\" style=\"fill: #4575b4; fill-opacity: 0.7; stroke: #4575b4; stroke-opacity: 0.7; stroke-width: 0.3\" />\n",
       "     <use xlink:href=\"#m74f707f696\" x=\"50.183165\" y=\"36.635539\" style=\"fill: #4575b4; fill-opacity: 0.7; stroke: #4575b4; stroke-opacity: 0.7; stroke-width: 0.3\" />\n",
       "     <use xlink:href=\"#m74f707f696\" x=\"50.110604\" y=\"11.270452\" style=\"fill: #4575b4; fill-opacity: 0.7; stroke: #4575b4; stroke-opacity: 0.7; stroke-width: 0.3\" />\n",
       "     <use xlink:href=\"#m74f707f696\" x=\"45.060844\" y=\"25.637502\" style=\"fill: #4575b4; fill-opacity: 0.7; stroke: #4575b4; stroke-opacity: 0.7; stroke-width: 0.3\" />\n",
       "     <use xlink:href=\"#m74f707f696\" x=\"50.488038\" y=\"34.840309\" style=\"fill: #4575b4; fill-opacity: 0.7; stroke: #4575b4; stroke-opacity: 0.7; stroke-width: 0.3\" />\n",
       "     <use xlink:href=\"#m74f707f696\" x=\"50.130586\" y=\"38.152705\" style=\"fill: #4575b4; fill-opacity: 0.7; stroke: #4575b4; stroke-opacity: 0.7; stroke-width: 0.3\" />\n",
       "     <use xlink:href=\"#m74f707f696\" x=\"56.052344\" y=\"26.534183\" style=\"fill: #4575b4; fill-opacity: 0.7; stroke: #4575b4; stroke-opacity: 0.7; stroke-width: 0.3\" />\n",
       "     <use xlink:href=\"#m74f707f696\" x=\"49.007589\" y=\"32.16757\" style=\"fill: #4575b4; fill-opacity: 0.7; stroke: #4575b4; stroke-opacity: 0.7; stroke-width: 0.3\" />\n",
       "     <use xlink:href=\"#m74f707f696\" x=\"50.56682\" y=\"30.531128\" style=\"fill: #4575b4; fill-opacity: 0.7; stroke: #4575b4; stroke-opacity: 0.7; stroke-width: 0.3\" />\n",
       "     <use xlink:href=\"#m74f707f696\" x=\"48.988778\" y=\"37.123073\" style=\"fill: #4575b4; fill-opacity: 0.7; stroke: #4575b4; stroke-opacity: 0.7; stroke-width: 0.3\" />\n",
       "     <use xlink:href=\"#m74f707f696\" x=\"49.838979\" y=\"43.261749\" style=\"fill: #4575b4; fill-opacity: 0.7; stroke: #4575b4; stroke-opacity: 0.7; stroke-width: 0.3\" />\n",
       "     <use xlink:href=\"#m74f707f696\" x=\"50.296737\" y=\"33.250732\" style=\"fill: #4575b4; fill-opacity: 0.7; stroke: #4575b4; stroke-opacity: 0.7; stroke-width: 0.3\" />\n",
       "     <use xlink:href=\"#m74f707f696\" x=\"52.116863\" y=\"24.392465\" style=\"fill: #4575b4; fill-opacity: 0.7; stroke: #4575b4; stroke-opacity: 0.7; stroke-width: 0.3\" />\n",
       "     <use xlink:href=\"#m74f707f696\" x=\"51.001199\" y=\"32.16757\" style=\"fill: #4575b4; fill-opacity: 0.7; stroke: #4575b4; stroke-opacity: 0.7; stroke-width: 0.3\" />\n",
       "     <use xlink:href=\"#m74f707f696\" x=\"48.478365\" y=\"27.743088\" style=\"fill: #4575b4; fill-opacity: 0.7; stroke: #4575b4; stroke-opacity: 0.7; stroke-width: 0.3\" />\n",
       "     <use xlink:href=\"#m74f707f696\" x=\"48.608777\" y=\"30.843364\" style=\"fill: #4575b4; fill-opacity: 0.7; stroke: #4575b4; stroke-opacity: 0.7; stroke-width: 0.3\" />\n",
       "     <use xlink:href=\"#m74f707f696\" x=\"47.377763\" y=\"29.067293\" style=\"fill: #4575b4; fill-opacity: 0.7; stroke: #4575b4; stroke-opacity: 0.7; stroke-width: 0.3\" />\n",
       "     <use xlink:href=\"#m74f707f696\" x=\"48.796943\" y=\"32.519318\" style=\"fill: #4575b4; fill-opacity: 0.7; stroke: #4575b4; stroke-opacity: 0.7; stroke-width: 0.3\" />\n",
       "     <use xlink:href=\"#m74f707f696\" x=\"44.135778\" y=\"35.267847\" style=\"fill: #4575b4; fill-opacity: 0.7; stroke: #4575b4; stroke-opacity: 0.7; stroke-width: 0.3\" />\n",
       "     <use xlink:href=\"#m74f707f696\" x=\"47.340527\" y=\"17.184527\" style=\"fill: #4575b4; fill-opacity: 0.7; stroke: #4575b4; stroke-opacity: 0.7; stroke-width: 0.3\" />\n",
       "     <use xlink:href=\"#m74f707f696\" x=\"53.752562\" y=\"23.433907\" style=\"fill: #4575b4; fill-opacity: 0.7; stroke: #4575b4; stroke-opacity: 0.7; stroke-width: 0.3\" />\n",
       "     <use xlink:href=\"#m74f707f696\" x=\"52.414875\" y=\"25.422097\" style=\"fill: #4575b4; fill-opacity: 0.7; stroke: #4575b4; stroke-opacity: 0.7; stroke-width: 0.3\" />\n",
       "     <use xlink:href=\"#m74f707f696\" x=\"53.284359\" y=\"35.267847\" style=\"fill: #4575b4; fill-opacity: 0.7; stroke: #4575b4; stroke-opacity: 0.7; stroke-width: 0.3\" />\n",
       "     <use xlink:href=\"#m74f707f696\" x=\"46.079249\" y=\"34.425544\" style=\"fill: #4575b4; fill-opacity: 0.7; stroke: #4575b4; stroke-opacity: 0.7; stroke-width: 0.3\" />\n",
       "     <use xlink:href=\"#m74f707f696\" x=\"50.045787\" y=\"34.425544\" style=\"fill: #4575b4; fill-opacity: 0.7; stroke: #4575b4; stroke-opacity: 0.7; stroke-width: 0.3\" />\n",
       "     <use xlink:href=\"#m74f707f696\" x=\"48.910593\" y=\"30.843364\" style=\"fill: #4575b4; fill-opacity: 0.7; stroke: #4575b4; stroke-opacity: 0.7; stroke-width: 0.3\" />\n",
       "     <use xlink:href=\"#m74f707f696\" x=\"52.691908\" y=\"24.392465\" style=\"fill: #4575b4; fill-opacity: 0.7; stroke: #4575b4; stroke-opacity: 0.7; stroke-width: 0.3\" />\n",
       "     <use xlink:href=\"#m74f707f696\" x=\"49.763394\" y=\"27.998018\" style=\"fill: #4575b4; fill-opacity: 0.7; stroke: #4575b4; stroke-opacity: 0.7; stroke-width: 0.3\" />\n",
       "     <use xlink:href=\"#m74f707f696\" x=\"48.372841\" y=\"39.856099\" style=\"fill: #4575b4; fill-opacity: 0.7; stroke: #4575b4; stroke-opacity: 0.7; stroke-width: 0.3\" />\n",
       "     <use xlink:href=\"#m74f707f696\" x=\"46.302042\" y=\"31.489686\" style=\"fill: #4575b4; fill-opacity: 0.7; stroke: #4575b4; stroke-opacity: 0.7; stroke-width: 0.3\" />\n",
       "     <use xlink:href=\"#m74f707f696\" x=\"52.74594\" y=\"34.425544\" style=\"fill: #4575b4; fill-opacity: 0.7; stroke: #4575b4; stroke-opacity: 0.7; stroke-width: 0.3\" />\n",
       "    </g>\n",
       "   </g>\n",
       "   <g id=\"matplotlib.axis_1\" />\n",
       "   <g id=\"matplotlib.axis_2\">\n",
       "    <g id=\"ytick_1\">\n",
       "     <g id=\"line2d_1\">\n",
       "      <defs>\n",
       "       <path id=\"m8559192e22\" d=\"M 0 0  L -3.5 0  \" style=\"stroke: #000000; stroke-width: 0.3\" />\n",
       "      </defs>\n",
       "      <g>\n",
       "       <use xlink:href=\"#m8559192e22\" x=\"28.261562\" y=\"30.826656\" style=\"stroke: #000000; stroke-width: 0.3\" />\n",
       "      </g>\n",
       "     </g>\n",
       "     <g id=\"text_1\">\n",
       "      \n",
       "      <g style=\"fill: #444443\" transform=\"translate(11.081562 33.866031) scale(0.08 -0.08)\">\n",
       "       <defs>\n",
       "        <path id=\"DejaVuSans-31\" d=\"M 794 531  L 1825 531  L 1825 4091  L 703 3866  L 703 4441  L 1819 4666  L 2450 4666  L 2450 531  L 3481 531  L 3481 0  L 794 0  L 794 531  z \" transform=\"scale(0.015625)\" />\n",
       "        <path id=\"DejaVuSans-30\" d=\"M 2034 4250  Q 1547 4250 1301 3770  Q 1056 3291 1056 2328  Q 1056 1369 1301 889  Q 1547 409 2034 409  Q 2525 409 2770 889  Q 3016 1369 3016 2328  Q 3016 3291 2770 3770  Q 2525 4250 2034 4250  z M 2034 4750  Q 2819 4750 3233 4129  Q 3647 3509 3647 2328  Q 3647 1150 3233 529  Q 2819 -91 2034 -91  Q 1250 -91 836 529  Q 422 1150 422 2328  Q 422 3509 836 4129  Q 1250 4750 2034 4750  z \" transform=\"scale(0.015625)\" />\n",
       "       </defs>\n",
       "       <use xlink:href=\"#DejaVuSans-31\" />\n",
       "       <use xlink:href=\"#DejaVuSans-30\" x=\"63.623047\" />\n",
       "      </g>\n",
       "     </g>\n",
       "    </g>\n",
       "    <g id=\"ytick_2\">\n",
       "     <g id=\"line2d_2\">\n",
       "      <g>\n",
       "       <use xlink:href=\"#m8559192e22\" x=\"28.261562\" y=\"3.039375\" style=\"stroke: #000000; stroke-width: 0.3\" />\n",
       "      </g>\n",
       "     </g>\n",
       "     <g id=\"text_2\">\n",
       "      \n",
       "      <g style=\"fill: #444443\" transform=\"translate(11.081562 6.07875) scale(0.08 -0.08)\">\n",
       "       <defs>\n",
       "        <path id=\"DejaVuSans-32\" d=\"M 1228 531  L 3431 531  L 3431 0  L 469 0  L 469 531  Q 828 903 1448 1529  Q 2069 2156 2228 2338  Q 2531 2678 2651 2914  Q 2772 3150 2772 3378  Q 2772 3750 2511 3984  Q 2250 4219 1831 4219  Q 1534 4219 1204 4116  Q 875 4013 500 3803  L 500 4441  Q 881 4594 1212 4672  Q 1544 4750 1819 4750  Q 2544 4750 2975 4387  Q 3406 4025 3406 3419  Q 3406 3131 3298 2873  Q 3191 2616 2906 2266  Q 2828 2175 2409 1742  Q 1991 1309 1228 531  z \" transform=\"scale(0.015625)\" />\n",
       "       </defs>\n",
       "       <use xlink:href=\"#DejaVuSans-31\" />\n",
       "       <use xlink:href=\"#DejaVuSans-32\" x=\"63.623047\" />\n",
       "      </g>\n",
       "     </g>\n",
       "    </g>\n",
       "   </g>\n",
       "   <g id=\"line2d_3\">\n",
       "    <path d=\"M 28.261562 29.510567  L 100.373125 29.510567  \" clip-path=\"url(#pd730d8db9b)\" style=\"fill: none; stroke-dasharray: 3.7,1.6; stroke-dashoffset: 0; stroke: #444443\" />\n",
       "   </g>\n",
       "   <g id=\"patch_3\">\n",
       "    <path d=\"M 28.261562 46.514269  L 28.261562 2.162269  \" style=\"fill: none; stroke: #444443; stroke-width: 0.3; stroke-linejoin: miter; stroke-linecap: square\" />\n",
       "   </g>\n",
       "   <g id=\"text_3\">\n",
       "    \n",
       "    <g style=\"fill: #444443\" transform=\"translate(-0 57.382394) scale(0.12 -0.12)\">\n",
       "     <defs>\n",
       "      <path id=\"DejaVuSans-53\" d=\"M 3425 4513  L 3425 3897  Q 3066 4069 2747 4153  Q 2428 4238 2131 4238  Q 1616 4238 1336 4038  Q 1056 3838 1056 3469  Q 1056 3159 1242 3001  Q 1428 2844 1947 2747  L 2328 2669  Q 3034 2534 3370 2195  Q 3706 1856 3706 1288  Q 3706 609 3251 259  Q 2797 -91 1919 -91  Q 1588 -91 1214 -16  Q 841 59 441 206  L 441 856  Q 825 641 1194 531  Q 1563 422 1919 422  Q 2459 422 2753 634  Q 3047 847 3047 1241  Q 3047 1584 2836 1778  Q 2625 1972 2144 2069  L 1759 2144  Q 1053 2284 737 2584  Q 422 2884 422 3419  Q 422 4038 858 4394  Q 1294 4750 2059 4750  Q 2388 4750 2728 4690  Q 3069 4631 3425 4513  z \" transform=\"scale(0.015625)\" />\n",
       "      <path id=\"DejaVuSans-61\" d=\"M 2194 1759  Q 1497 1759 1228 1600  Q 959 1441 959 1056  Q 959 750 1161 570  Q 1363 391 1709 391  Q 2188 391 2477 730  Q 2766 1069 2766 1631  L 2766 1759  L 2194 1759  z M 3341 1997  L 3341 0  L 2766 0  L 2766 531  Q 2569 213 2275 61  Q 1981 -91 1556 -91  Q 1019 -91 701 211  Q 384 513 384 1019  Q 384 1609 779 1909  Q 1175 2209 1959 2209  L 2766 2209  L 2766 2266  Q 2766 2663 2505 2880  Q 2244 3097 1772 3097  Q 1472 3097 1187 3025  Q 903 2953 641 2809  L 641 3341  Q 956 3463 1253 3523  Q 1550 3584 1831 3584  Q 2591 3584 2966 3190  Q 3341 2797 3341 1997  z \" transform=\"scale(0.015625)\" />\n",
       "      <path id=\"DejaVuSans-6c\" d=\"M 603 4863  L 1178 4863  L 1178 0  L 603 0  L 603 4863  z \" transform=\"scale(0.015625)\" />\n",
       "      <path id=\"DejaVuSans-65\" d=\"M 3597 1894  L 3597 1613  L 953 1613  Q 991 1019 1311 708  Q 1631 397 2203 397  Q 2534 397 2845 478  Q 3156 559 3463 722  L 3463 178  Q 3153 47 2828 -22  Q 2503 -91 2169 -91  Q 1331 -91 842 396  Q 353 884 353 1716  Q 353 2575 817 3079  Q 1281 3584 2069 3584  Q 2775 3584 3186 3129  Q 3597 2675 3597 1894  z M 3022 2063  Q 3016 2534 2758 2815  Q 2500 3097 2075 3097  Q 1594 3097 1305 2825  Q 1016 2553 972 2059  L 3022 2063  z \" transform=\"scale(0.015625)\" />\n",
       "      <path id=\"DejaVuSans-50\" d=\"M 1259 4147  L 1259 2394  L 2053 2394  Q 2494 2394 2734 2622  Q 2975 2850 2975 3272  Q 2975 3691 2734 3919  Q 2494 4147 2053 4147  L 1259 4147  z M 628 4666  L 2053 4666  Q 2838 4666 3239 4311  Q 3641 3956 3641 3272  Q 3641 2581 3239 2228  Q 2838 1875 2053 1875  L 1259 1875  L 1259 0  L 628 0  L 628 4666  z \" transform=\"scale(0.015625)\" />\n",
       "      <path id=\"DejaVuSans-72\" d=\"M 2631 2963  Q 2534 3019 2420 3045  Q 2306 3072 2169 3072  Q 1681 3072 1420 2755  Q 1159 2438 1159 1844  L 1159 0  L 581 0  L 581 3500  L 1159 3500  L 1159 2956  Q 1341 3275 1631 3429  Q 1922 3584 2338 3584  Q 2397 3584 2469 3576  Q 2541 3569 2628 3553  L 2631 2963  z \" transform=\"scale(0.015625)\" />\n",
       "      <path id=\"DejaVuSans-69\" d=\"M 603 3500  L 1178 3500  L 1178 0  L 603 0  L 603 3500  z M 603 4863  L 1178 4863  L 1178 4134  L 603 4134  L 603 4863  z \" transform=\"scale(0.015625)\" />\n",
       "      <path id=\"DejaVuSans-63\" d=\"M 3122 3366  L 3122 2828  Q 2878 2963 2633 3030  Q 2388 3097 2138 3097  Q 1578 3097 1268 2742  Q 959 2388 959 1747  Q 959 1106 1268 751  Q 1578 397 2138 397  Q 2388 397 2633 464  Q 2878 531 3122 666  L 3122 134  Q 2881 22 2623 -34  Q 2366 -91 2075 -91  Q 1284 -91 818 406  Q 353 903 353 1747  Q 353 2603 823 3093  Q 1294 3584 2113 3584  Q 2378 3584 2631 3529  Q 2884 3475 3122 3366  z \" transform=\"scale(0.015625)\" />\n",
       "      <path id=\"DejaVuSans-3d\" d=\"M 678 2906  L 4684 2906  L 4684 2381  L 678 2381  L 678 2906  z M 678 1631  L 4684 1631  L 4684 1100  L 678 1100  L 678 1631  z \" transform=\"scale(0.015625)\" />\n",
       "      <path id=\"DejaVuSans-2e\" d=\"M 684 794  L 1344 794  L 1344 0  L 684 0  L 684 794  z \" transform=\"scale(0.015625)\" />\n",
       "      <path id=\"DejaVuSans-39\" d=\"M 703 97  L 703 672  Q 941 559 1184 500  Q 1428 441 1663 441  Q 2288 441 2617 861  Q 2947 1281 2994 2138  Q 2813 1869 2534 1725  Q 2256 1581 1919 1581  Q 1219 1581 811 2004  Q 403 2428 403 3163  Q 403 3881 828 4315  Q 1253 4750 1959 4750  Q 2769 4750 3195 4129  Q 3622 3509 3622 2328  Q 3622 1225 3098 567  Q 2575 -91 1691 -91  Q 1453 -91 1209 -44  Q 966 3 703 97  z M 1959 2075  Q 2384 2075 2632 2365  Q 2881 2656 2881 3163  Q 2881 3666 2632 3958  Q 2384 4250 1959 4250  Q 1534 4250 1286 3958  Q 1038 3666 1038 3163  Q 1038 2656 1286 2365  Q 1534 2075 1959 2075  z \" transform=\"scale(0.015625)\" />\n",
       "     </defs>\n",
       "     <use xlink:href=\"#DejaVuSans-53\" />\n",
       "     <use xlink:href=\"#DejaVuSans-61\" x=\"63.476562\" />\n",
       "     <use xlink:href=\"#DejaVuSans-6c\" x=\"124.755859\" />\n",
       "     <use xlink:href=\"#DejaVuSans-65\" x=\"152.539062\" />\n",
       "     <use xlink:href=\"#DejaVuSans-50\" x=\"214.0625\" />\n",
       "     <use xlink:href=\"#DejaVuSans-72\" x=\"272.615234\" />\n",
       "     <use xlink:href=\"#DejaVuSans-69\" x=\"313.728516\" />\n",
       "     <use xlink:href=\"#DejaVuSans-63\" x=\"341.511719\" />\n",
       "     <use xlink:href=\"#DejaVuSans-65\" x=\"396.492188\" />\n",
       "     <use xlink:href=\"#DejaVuSans-3d\" x=\"458.015625\" />\n",
       "     <use xlink:href=\"#DejaVuSans-31\" x=\"541.804688\" />\n",
       "     <use xlink:href=\"#DejaVuSans-30\" x=\"605.427734\" />\n",
       "     <use xlink:href=\"#DejaVuSans-2e\" x=\"669.050781\" />\n",
       "     <use xlink:href=\"#DejaVuSans-30\" x=\"700.837891\" />\n",
       "     <use xlink:href=\"#DejaVuSans-39\" x=\"764.460938\" />\n",
       "    </g>\n",
       "    \n",
       "    <g style=\"fill: #444443\" transform=\"translate(33.22125 70.819769) scale(0.12 -0.12)\">\n",
       "     <defs>\n",
       "      <path id=\"DejaVuSans-6e\" d=\"M 3513 2113  L 3513 0  L 2938 0  L 2938 2094  Q 2938 2591 2744 2837  Q 2550 3084 2163 3084  Q 1697 3084 1428 2787  Q 1159 2491 1159 1978  L 1159 0  L 581 0  L 581 3500  L 1159 3500  L 1159 2956  Q 1366 3272 1645 3428  Q 1925 3584 2291 3584  Q 2894 3584 3203 3211  Q 3513 2838 3513 2113  z \" transform=\"scale(0.015625)\" />\n",
       "      <path id=\"DejaVuSans-38\" d=\"M 2034 2216  Q 1584 2216 1326 1975  Q 1069 1734 1069 1313  Q 1069 891 1326 650  Q 1584 409 2034 409  Q 2484 409 2743 651  Q 3003 894 3003 1313  Q 3003 1734 2745 1975  Q 2488 2216 2034 2216  z M 1403 2484  Q 997 2584 770 2862  Q 544 3141 544 3541  Q 544 4100 942 4425  Q 1341 4750 2034 4750  Q 2731 4750 3128 4425  Q 3525 4100 3525 3541  Q 3525 3141 3298 2862  Q 3072 2584 2669 2484  Q 3125 2378 3379 2068  Q 3634 1759 3634 1313  Q 3634 634 3220 271  Q 2806 -91 2034 -91  Q 1263 -91 848 271  Q 434 634 434 1313  Q 434 1759 690 2068  Q 947 2378 1403 2484  z M 1172 3481  Q 1172 3119 1398 2916  Q 1625 2713 2034 2713  Q 2441 2713 2670 2916  Q 2900 3119 2900 3481  Q 2900 3844 2670 4047  Q 2441 4250 2034 4250  Q 1625 4250 1398 4047  Q 1172 3844 1172 3481  z \" transform=\"scale(0.015625)\" />\n",
       "     </defs>\n",
       "     <use xlink:href=\"#DejaVuSans-6e\" />\n",
       "     <use xlink:href=\"#DejaVuSans-3d\" x=\"63.378906\" />\n",
       "     <use xlink:href=\"#DejaVuSans-39\" x=\"147.167969\" />\n",
       "     <use xlink:href=\"#DejaVuSans-38\" x=\"210.791016\" />\n",
       "    </g>\n",
       "   </g>\n",
       "  </g>\n",
       " </g>\n",
       " <defs>\n",
       "  <clipPath id=\"pd730d8db9b\">\n",
       "   <rect x=\"28.261562\" y=\"2.162269\" width=\"41.85\" height=\"44.352\" />\n",
       "  </clipPath>\n",
       " </defs>\n",
       "</svg></g>\n",
       "\n",
       "<g id=\"edge1\" class=\"edge\">\n",
       "<title>node4-&gt;leaf5</title>\n",
       "<path fill=\"none\" stroke=\"#444443\" stroke-width=\"0.3\" d=\"M130.05,-79.05C127.01,-74.52 123.94,-69.94 120.96,-65.5\" />\n",
       "<polygon fill=\"#444443\" stroke=\"#444443\" stroke-width=\"0.3\" points=\"122.13,-64.73 118.74,-62.19 119.81,-66.29 122.13,-64.73\" />\n",
       "</g>\n",
       "\n",
       "<g id=\"node5\" class=\"node\">\n",
       "<title>leaf6</title>\n",
       "<polygon fill=\"none\" stroke=\"#444443\" stroke-width=\"0\" points=\"235.5,-62 153.5,-62 153.5,0 235.5,0 235.5,-62\" />\n",
       "<svg width=\"74px\" height=\"54px\" viewBox=\"0 0 99.373125 73.315394\" version=\"1.1\" preserveAspectRatio=\"xMinYMin meet\" x=\"157.5\" y=\"-58\">\n",
       " <metadata>\n",
       "  <rdf:RDF>\n",
       "   <ns2:Work>\n",
       "    <dc:type rdf:resource=\"http://purl.org/dc/dcmitype/StillImage\" />\n",
       "    <dc:date>2024-01-02T17:57:06.414531</dc:date>\n",
       "    <dc:format>image/svg+xml</dc:format>\n",
       "    <dc:creator>\n",
       "     <ns2:Agent>\n",
       "      <dc:title>Matplotlib v3.7.2, https://matplotlib.org/</dc:title>\n",
       "     </ns2:Agent>\n",
       "    </dc:creator>\n",
       "   </ns2:Work>\n",
       "  </rdf:RDF>\n",
       " </metadata>\n",
       " <defs>\n",
       "  <style type=\"text/css\">*{stroke-linejoin: round; stroke-linecap: butt}</style>\n",
       " </defs>\n",
       " <g id=\"figure_1\">\n",
       "  <g id=\"patch_1\">\n",
       "   <path d=\"M 0 73.315394  L 99.373125 73.315394  L 99.373125 0  L 0 0  z \" style=\"fill: #ffffff\" />\n",
       "  </g>\n",
       "  <g id=\"axes_1\">\n",
       "   <g id=\"patch_2\">\n",
       "    <path d=\"M 28.261562 46.514269  L 70.111562 46.514269  L 70.111562 2.162269  L 28.261562 2.162269  z \" style=\"fill: #ffffff\" />\n",
       "   </g>\n",
       "   <g id=\"PathCollection_1\">\n",
       "    <defs>\n",
       "     <path id=\"m8776a05e89\" d=\"M 0 1.118034  C 0.296506 1.118034 0.580908 1.000231 0.790569 0.790569  C 1.000231 0.580908 1.118034 0.296506 1.118034 0  C 1.118034 -0.296506 1.000231 -0.580908 0.790569 -0.790569  C 0.580908 -1.000231 0.296506 -1.118034 0 -1.118034  C -0.296506 -1.118034 -0.580908 -1.000231 -0.790569 -0.790569  C -1.000231 -0.580908 -1.118034 -0.296506 -1.118034 0  C -1.118034 0.296506 -1.000231 0.580908 -0.790569 0.790569  C -0.580908 1.000231 -0.296506 1.118034 0 1.118034  z \" style=\"stroke: #4575b4; stroke-opacity: 0.7; stroke-width: 0.3\" />\n",
       "    </defs>\n",
       "    <g clip-path=\"url(#pb6dfd320c5)\">\n",
       "     <use xlink:href=\"#m8776a05e89\" x=\"50.607852\" y=\"17.862398\" style=\"fill: #4575b4; fill-opacity: 0.7; stroke: #4575b4; stroke-opacity: 0.7; stroke-width: 0.3\" />\n",
       "     <use xlink:href=\"#m8776a05e89\" x=\"50.982327\" y=\"22.537226\" style=\"fill: #4575b4; fill-opacity: 0.7; stroke: #4575b4; stroke-opacity: 0.7; stroke-width: 0.3\" />\n",
       "     <use xlink:href=\"#m8776a05e89\" x=\"51.136056\" y=\"18.892029\" style=\"fill: #4575b4; fill-opacity: 0.7; stroke: #4575b4; stroke-opacity: 0.7; stroke-width: 0.3\" />\n",
       "     <use xlink:href=\"#m8776a05e89\" x=\"52.236947\" y=\"17.738907\" style=\"fill: #4575b4; fill-opacity: 0.7; stroke: #4575b4; stroke-opacity: 0.7; stroke-width: 0.3\" />\n",
       "     <use xlink:href=\"#m8776a05e89\" x=\"52.959899\" y=\"19.436949\" style=\"fill: #4575b4; fill-opacity: 0.7; stroke: #4575b4; stroke-opacity: 0.7; stroke-width: 0.3\" />\n",
       "     <use xlink:href=\"#m8776a05e89\" x=\"47.709712\" y=\"22.025749\" style=\"fill: #4575b4; fill-opacity: 0.7; stroke: #4575b4; stroke-opacity: 0.7; stroke-width: 0.3\" />\n",
       "     <use xlink:href=\"#m8776a05e89\" x=\"46.464975\" y=\"23.433907\" style=\"fill: #4575b4; fill-opacity: 0.7; stroke: #4575b4; stroke-opacity: 0.7; stroke-width: 0.3\" />\n",
       "     <use xlink:href=\"#m8776a05e89\" x=\"46.2648\" y=\"16.225969\" style=\"fill: #4575b4; fill-opacity: 0.7; stroke: #4575b4; stroke-opacity: 0.7; stroke-width: 0.3\" />\n",
       "     <use xlink:href=\"#m8776a05e89\" x=\"48.290323\" y=\"18.112743\" style=\"fill: #4575b4; fill-opacity: 0.7; stroke: #4575b4; stroke-opacity: 0.7; stroke-width: 0.3\" />\n",
       "     <use xlink:href=\"#m8776a05e89\" x=\"50.963248\" y=\"14.274587\" style=\"fill: #4575b4; fill-opacity: 0.7; stroke: #4575b4; stroke-opacity: 0.7; stroke-width: 0.3\" />\n",
       "     <use xlink:href=\"#m8776a05e89\" x=\"55.315214\" y=\"24.001073\" style=\"fill: #4575b4; fill-opacity: 0.7; stroke: #4575b4; stroke-opacity: 0.7; stroke-width: 0.3\" />\n",
       "     <use xlink:href=\"#m8776a05e89\" x=\"50.227543\" y=\"44.055888\" style=\"fill: #4575b4; fill-opacity: 0.7; stroke: #4575b4; stroke-opacity: 0.7; stroke-width: 0.3\" />\n",
       "     <use xlink:href=\"#m8776a05e89\" x=\"54.114761\" y=\"35.267847\" style=\"fill: #4575b4; fill-opacity: 0.7; stroke: #4575b4; stroke-opacity: 0.7; stroke-width: 0.3\" />\n",
       "     <use xlink:href=\"#m8776a05e89\" x=\"47.605703\" y=\"23.249877\" style=\"fill: #4575b4; fill-opacity: 0.7; stroke: #4575b4; stroke-opacity: 0.7; stroke-width: 0.3\" />\n",
       "     <use xlink:href=\"#m8776a05e89\" x=\"54.517491\" y=\"16.67419\" style=\"fill: #4575b4; fill-opacity: 0.7; stroke: #4575b4; stroke-opacity: 0.7; stroke-width: 0.3\" />\n",
       "     <use xlink:href=\"#m8776a05e89\" x=\"52.176644\" y=\"30.225768\" style=\"fill: #4575b4; fill-opacity: 0.7; stroke: #4575b4; stroke-opacity: 0.7; stroke-width: 0.3\" />\n",
       "     <use xlink:href=\"#m8776a05e89\" x=\"46.085783\" y=\"28.522373\" style=\"fill: #4575b4; fill-opacity: 0.7; stroke: #4575b4; stroke-opacity: 0.7; stroke-width: 0.3\" />\n",
       "     <use xlink:href=\"#m8776a05e89\" x=\"51.792838\" y=\"22.537226\" style=\"fill: #4575b4; fill-opacity: 0.7; stroke: #4575b4; stroke-opacity: 0.7; stroke-width: 0.3\" />\n",
       "     <use xlink:href=\"#m8776a05e89\" x=\"53.1847\" y=\"23.433907\" style=\"fill: #4575b4; fill-opacity: 0.7; stroke: #4575b4; stroke-opacity: 0.7; stroke-width: 0.3\" />\n",
       "     <use xlink:href=\"#m8776a05e89\" x=\"50.299694\" y=\"27.492742\" style=\"fill: #4575b4; fill-opacity: 0.7; stroke: #4575b4; stroke-opacity: 0.7; stroke-width: 0.3\" />\n",
       "     <use xlink:href=\"#m8776a05e89\" x=\"50.733446\" y=\"16.903839\" style=\"fill: #4575b4; fill-opacity: 0.7; stroke: #4575b4; stroke-opacity: 0.7; stroke-width: 0.3\" />\n",
       "     <use xlink:href=\"#m8776a05e89\" x=\"51.262591\" y=\"26.078608\" style=\"fill: #4575b4; fill-opacity: 0.7; stroke: #4575b4; stroke-opacity: 0.7; stroke-width: 0.3\" />\n",
       "     <use xlink:href=\"#m8776a05e89\" x=\"47.607088\" y=\"32.16757\" style=\"fill: #4575b4; fill-opacity: 0.7; stroke: #4575b4; stroke-opacity: 0.7; stroke-width: 0.3\" />\n",
       "     <use xlink:href=\"#m8776a05e89\" x=\"50.26891\" y=\"19.161826\" style=\"fill: #4575b4; fill-opacity: 0.7; stroke: #4575b4; stroke-opacity: 0.7; stroke-width: 0.3\" />\n",
       "     <use xlink:href=\"#m8776a05e89\" x=\"44.095241\" y=\"36.164514\" style=\"fill: #4575b4; fill-opacity: 0.7; stroke: #4575b4; stroke-opacity: 0.7; stroke-width: 0.3\" />\n",
       "     <use xlink:href=\"#m8776a05e89\" x=\"48.90827\" y=\"25.637502\" style=\"fill: #4575b4; fill-opacity: 0.7; stroke: #4575b4; stroke-opacity: 0.7; stroke-width: 0.3\" />\n",
       "     <use xlink:href=\"#m8776a05e89\" x=\"50.887284\" y=\"19.436949\" style=\"fill: #4575b4; fill-opacity: 0.7; stroke: #4575b4; stroke-opacity: 0.7; stroke-width: 0.3\" />\n",
       "     <use xlink:href=\"#m8776a05e89\" x=\"52.168453\" y=\"18.112743\" style=\"fill: #4575b4; fill-opacity: 0.7; stroke: #4575b4; stroke-opacity: 0.7; stroke-width: 0.3\" />\n",
       "     <use xlink:href=\"#m8776a05e89\" x=\"43.7285\" y=\"23.809425\" style=\"fill: #4575b4; fill-opacity: 0.7; stroke: #4575b4; stroke-opacity: 0.7; stroke-width: 0.3\" />\n",
       "     <use xlink:href=\"#m8776a05e89\" x=\"51.179243\" y=\"19.436949\" style=\"fill: #4575b4; fill-opacity: 0.7; stroke: #4575b4; stroke-opacity: 0.7; stroke-width: 0.3\" />\n",
       "     <use xlink:href=\"#m8776a05e89\" x=\"45.306826\" y=\"16.448277\" style=\"fill: #4575b4; fill-opacity: 0.7; stroke: #4575b4; stroke-opacity: 0.7; stroke-width: 0.3\" />\n",
       "     <use xlink:href=\"#m8776a05e89\" x=\"50.896665\" y=\"7.043845\" style=\"fill: #4575b4; fill-opacity: 0.7; stroke: #4575b4; stroke-opacity: 0.7; stroke-width: 0.3\" />\n",
       "     <use xlink:href=\"#m8776a05e89\" x=\"52.721967\" y=\"15.791753\" style=\"fill: #4575b4; fill-opacity: 0.7; stroke: #4575b4; stroke-opacity: 0.7; stroke-width: 0.3\" />\n",
       "     <use xlink:href=\"#m8776a05e89\" x=\"40.164117\" y=\"14.762121\" style=\"fill: #4575b4; fill-opacity: 0.7; stroke: #4575b4; stroke-opacity: 0.7; stroke-width: 0.3\" />\n",
       "     <use xlink:href=\"#m8776a05e89\" x=\"48.915554\" y=\"27.998018\" style=\"fill: #4575b4; fill-opacity: 0.7; stroke: #4575b4; stroke-opacity: 0.7; stroke-width: 0.3\" />\n",
       "     <use xlink:href=\"#m8776a05e89\" x=\"52.010407\" y=\"10.88978\" style=\"fill: #4575b4; fill-opacity: 0.7; stroke: #4575b4; stroke-opacity: 0.7; stroke-width: 0.3\" />\n",
       "     <use xlink:href=\"#m8776a05e89\" x=\"49.716156\" y=\"15.791753\" style=\"fill: #4575b4; fill-opacity: 0.7; stroke: #4575b4; stroke-opacity: 0.7; stroke-width: 0.3\" />\n",
       "     <use xlink:href=\"#m8776a05e89\" x=\"49.828059\" y=\"31.994975\" style=\"fill: #4575b4; fill-opacity: 0.7; stroke: #4575b4; stroke-opacity: 0.7; stroke-width: 0.3\" />\n",
       "     <use xlink:href=\"#m8776a05e89\" x=\"54.406303\" y=\"23.809425\" style=\"fill: #4575b4; fill-opacity: 0.7; stroke: #4575b4; stroke-opacity: 0.7; stroke-width: 0.3\" />\n",
       "     <use xlink:href=\"#m8776a05e89\" x=\"51.081863\" y=\"37.628362\" style=\"fill: #4575b4; fill-opacity: 0.7; stroke: #4575b4; stroke-opacity: 0.7; stroke-width: 0.3\" />\n",
       "     <use xlink:href=\"#m8776a05e89\" x=\"53.560291\" y=\"17.137357\" style=\"fill: #4575b4; fill-opacity: 0.7; stroke: #4575b4; stroke-opacity: 0.7; stroke-width: 0.3\" />\n",
       "     <use xlink:href=\"#m8776a05e89\" x=\"45.863461\" y=\"40.473695\" style=\"fill: #4575b4; fill-opacity: 0.7; stroke: #4575b4; stroke-opacity: 0.7; stroke-width: 0.3\" />\n",
       "     <use xlink:href=\"#m8776a05e89\" x=\"47.046483\" y=\"27.743088\" style=\"fill: #4575b4; fill-opacity: 0.7; stroke: #4575b4; stroke-opacity: 0.7; stroke-width: 0.3\" />\n",
       "     <use xlink:href=\"#m8776a05e89\" x=\"52.277366\" y=\"16.67419\" style=\"fill: #4575b4; fill-opacity: 0.7; stroke: #4575b4; stroke-opacity: 0.7; stroke-width: 0.3\" />\n",
       "     <use xlink:href=\"#m8776a05e89\" x=\"48.359624\" y=\"11.661844\" style=\"fill: #4575b4; fill-opacity: 0.7; stroke: #4575b4; stroke-opacity: 0.7; stroke-width: 0.3\" />\n",
       "     <use xlink:href=\"#m8776a05e89\" x=\"47.712289\" y=\"40.473695\" style=\"fill: #4575b4; fill-opacity: 0.7; stroke: #4575b4; stroke-opacity: 0.7; stroke-width: 0.3\" />\n",
       "     <use xlink:href=\"#m8776a05e89\" x=\"50.88611\" y=\"14.274587\" style=\"fill: #4575b4; fill-opacity: 0.7; stroke: #4575b4; stroke-opacity: 0.7; stroke-width: 0.3\" />\n",
       "     <use xlink:href=\"#m8776a05e89\" x=\"47.065856\" y=\"29.067293\" style=\"fill: #4575b4; fill-opacity: 0.7; stroke: #4575b4; stroke-opacity: 0.7; stroke-width: 0.3\" />\n",
       "     <use xlink:href=\"#m8776a05e89\" x=\"51.230266\" y=\"14.762121\" style=\"fill: #4575b4; fill-opacity: 0.7; stroke: #4575b4; stroke-opacity: 0.7; stroke-width: 0.3\" />\n",
       "     <use xlink:href=\"#m8776a05e89\" x=\"52.126277\" y=\"31.489686\" style=\"fill: #4575b4; fill-opacity: 0.7; stroke: #4575b4; stroke-opacity: 0.7; stroke-width: 0.3\" />\n",
       "     <use xlink:href=\"#m8776a05e89\" x=\"45.821657\" y=\"40.988339\" style=\"fill: #4575b4; fill-opacity: 0.7; stroke: #4575b4; stroke-opacity: 0.7; stroke-width: 0.3\" />\n",
       "     <use xlink:href=\"#m8776a05e89\" x=\"50.596905\" y=\"17.020108\" style=\"fill: #4575b4; fill-opacity: 0.7; stroke: #4575b4; stroke-opacity: 0.7; stroke-width: 0.3\" />\n",
       "     <use xlink:href=\"#m8776a05e89\" x=\"49.349571\" y=\"16.336672\" style=\"fill: #4575b4; fill-opacity: 0.7; stroke: #4575b4; stroke-opacity: 0.7; stroke-width: 0.3\" />\n",
       "     <use xlink:href=\"#m8776a05e89\" x=\"49.170278\" y=\"42.510553\" style=\"fill: #4575b4; fill-opacity: 0.7; stroke: #4575b4; stroke-opacity: 0.7; stroke-width: 0.3\" />\n",
       "     <use xlink:href=\"#m8776a05e89\" x=\"50.306131\" y=\"12.229011\" style=\"fill: #4575b4; fill-opacity: 0.7; stroke: #4575b4; stroke-opacity: 0.7; stroke-width: 0.3\" />\n",
       "     <use xlink:href=\"#m8776a05e89\" x=\"43.37593\" y=\"38.152705\" style=\"fill: #4575b4; fill-opacity: 0.7; stroke: #4575b4; stroke-opacity: 0.7; stroke-width: 0.3\" />\n",
       "     <use xlink:href=\"#m8776a05e89\" x=\"42.733517\" y=\"17.374863\" style=\"fill: #4575b4; fill-opacity: 0.7; stroke: #4575b4; stroke-opacity: 0.7; stroke-width: 0.3\" />\n",
       "     <use xlink:href=\"#m8776a05e89\" x=\"52.617689\" y=\"20.004116\" style=\"fill: #4575b4; fill-opacity: 0.7; stroke: #4575b4; stroke-opacity: 0.7; stroke-width: 0.3\" />\n",
       "     <use xlink:href=\"#m8776a05e89\" x=\"50.464362\" y=\"22.888987\" style=\"fill: #4575b4; fill-opacity: 0.7; stroke: #4575b4; stroke-opacity: 0.7; stroke-width: 0.3\" />\n",
       "     <use xlink:href=\"#m8776a05e89\" x=\"46.268692\" y=\"11.116938\" style=\"fill: #4575b4; fill-opacity: 0.7; stroke: #4575b4; stroke-opacity: 0.7; stroke-width: 0.3\" />\n",
       "     <use xlink:href=\"#m8776a05e89\" x=\"46.698233\" y=\"25.209977\" style=\"fill: #4575b4; fill-opacity: 0.7; stroke: #4575b4; stroke-opacity: 0.7; stroke-width: 0.3\" />\n",
       "     <use xlink:href=\"#m8776a05e89\" x=\"46.774842\" y=\"23.433907\" style=\"fill: #4575b4; fill-opacity: 0.7; stroke: #4575b4; stroke-opacity: 0.7; stroke-width: 0.3\" />\n",
       "     <use xlink:href=\"#m8776a05e89\" x=\"45.638646\" y=\"27.005195\" style=\"fill: #4575b4; fill-opacity: 0.7; stroke: #4575b4; stroke-opacity: 0.7; stroke-width: 0.3\" />\n",
       "     <use xlink:href=\"#m8776a05e89\" x=\"49.810556\" y=\"29.067293\" style=\"fill: #4575b4; fill-opacity: 0.7; stroke: #4575b4; stroke-opacity: 0.7; stroke-width: 0.3\" />\n",
       "     <use xlink:href=\"#m8776a05e89\" x=\"52.389983\" y=\"27.005195\" style=\"fill: #4575b4; fill-opacity: 0.7; stroke: #4575b4; stroke-opacity: 0.7; stroke-width: 0.3\" />\n",
       "     <use xlink:href=\"#m8776a05e89\" x=\"51.180642\" y=\"18.112743\" style=\"fill: #4575b4; fill-opacity: 0.7; stroke: #4575b4; stroke-opacity: 0.7; stroke-width: 0.3\" />\n",
       "     <use xlink:href=\"#m8776a05e89\" x=\"55.395246\" y=\"32.880222\" style=\"fill: #4575b4; fill-opacity: 0.7; stroke: #4575b4; stroke-opacity: 0.7; stroke-width: 0.3\" />\n",
       "     <use xlink:href=\"#m8776a05e89\" x=\"52.941986\" y=\"17.374863\" style=\"fill: #4575b4; fill-opacity: 0.7; stroke: #4575b4; stroke-opacity: 0.7; stroke-width: 0.3\" />\n",
       "     <use xlink:href=\"#m8776a05e89\" x=\"54.827104\" y=\"13.348001\" style=\"fill: #4575b4; fill-opacity: 0.7; stroke: #4575b4; stroke-opacity: 0.7; stroke-width: 0.3\" />\n",
       "     <use xlink:href=\"#m8776a05e89\" x=\"52.286334\" y=\"32.880222\" style=\"fill: #4575b4; fill-opacity: 0.7; stroke: #4575b4; stroke-opacity: 0.7; stroke-width: 0.3\" />\n",
       "     <use xlink:href=\"#m8776a05e89\" x=\"48.771857\" y=\"39.264791\" style=\"fill: #4575b4; fill-opacity: 0.7; stroke: #4575b4; stroke-opacity: 0.7; stroke-width: 0.3\" />\n",
       "     <use xlink:href=\"#m8776a05e89\" x=\"46.69612\" y=\"29.067293\" style=\"fill: #4575b4; fill-opacity: 0.7; stroke: #4575b4; stroke-opacity: 0.7; stroke-width: 0.3\" />\n",
       "     <use xlink:href=\"#m8776a05e89\" x=\"48.821664\" y=\"39.264791\" style=\"fill: #4575b4; fill-opacity: 0.7; stroke: #4575b4; stroke-opacity: 0.7; stroke-width: 0.3\" />\n",
       "     <use xlink:href=\"#m8776a05e89\" x=\"47.223678\" y=\"11.902093\" style=\"fill: #4575b4; fill-opacity: 0.7; stroke: #4575b4; stroke-opacity: 0.7; stroke-width: 0.3\" />\n",
       "     <use xlink:href=\"#m8776a05e89\" x=\"47.807869\" y=\"9.806618\" style=\"fill: #4575b4; fill-opacity: 0.7; stroke: #4575b4; stroke-opacity: 0.7; stroke-width: 0.3\" />\n",
       "     <use xlink:href=\"#m8776a05e89\" x=\"49.534322\" y=\"11.741477\" style=\"fill: #4575b4; fill-opacity: 0.7; stroke: #4575b4; stroke-opacity: 0.7; stroke-width: 0.3\" />\n",
       "     <use xlink:href=\"#m8776a05e89\" x=\"43.746915\" y=\"29.63446\" style=\"fill: #4575b4; fill-opacity: 0.7; stroke: #4575b4; stroke-opacity: 0.7; stroke-width: 0.3\" />\n",
       "     <use xlink:href=\"#m8776a05e89\" x=\"42.943018\" y=\"17.137357\" style=\"fill: #4575b4; fill-opacity: 0.7; stroke: #4575b4; stroke-opacity: 0.7; stroke-width: 0.3\" />\n",
       "     <use xlink:href=\"#m8776a05e89\" x=\"51.645501\" y=\"25.637502\" style=\"fill: #4575b4; fill-opacity: 0.7; stroke: #4575b4; stroke-opacity: 0.7; stroke-width: 0.3\" />\n",
       "     <use xlink:href=\"#m8776a05e89\" x=\"53.512748\" y=\"29.926967\" style=\"fill: #4575b4; fill-opacity: 0.7; stroke: #4575b4; stroke-opacity: 0.7; stroke-width: 0.3\" />\n",
       "     <use xlink:href=\"#m8776a05e89\" x=\"52.717557\" y=\"29.067293\" style=\"fill: #4575b4; fill-opacity: 0.7; stroke: #4575b4; stroke-opacity: 0.7; stroke-width: 0.3\" />\n",
       "     <use xlink:href=\"#m8776a05e89\" x=\"48.465538\" y=\"27.492742\" style=\"fill: #4575b4; fill-opacity: 0.7; stroke: #4575b4; stroke-opacity: 0.7; stroke-width: 0.3\" />\n",
       "     <use xlink:href=\"#m8776a05e89\" x=\"52.586044\" y=\"37.628362\" style=\"fill: #4575b4; fill-opacity: 0.7; stroke: #4575b4; stroke-opacity: 0.7; stroke-width: 0.3\" />\n",
       "     <use xlink:href=\"#m8776a05e89\" x=\"48.124459\" y=\"24.795212\" style=\"fill: #4575b4; fill-opacity: 0.7; stroke: #4575b4; stroke-opacity: 0.7; stroke-width: 0.3\" />\n",
       "     <use xlink:href=\"#m8776a05e89\" x=\"45.964091\" y=\"18.112743\" style=\"fill: #4575b4; fill-opacity: 0.7; stroke: #4575b4; stroke-opacity: 0.7; stroke-width: 0.3\" />\n",
       "     <use xlink:href=\"#m8776a05e89\" x=\"46.824408\" y=\"21.21302\" style=\"fill: #4575b4; fill-opacity: 0.7; stroke: #4575b4; stroke-opacity: 0.7; stroke-width: 0.3\" />\n",
       "     <use xlink:href=\"#m8776a05e89\" x=\"48.640145\" y=\"23.620401\" style=\"fill: #4575b4; fill-opacity: 0.7; stroke: #4575b4; stroke-opacity: 0.7; stroke-width: 0.3\" />\n",
       "     <use xlink:href=\"#m8776a05e89\" x=\"50.078616\" y=\"22.537226\" style=\"fill: #4575b4; fill-opacity: 0.7; stroke: #4575b4; stroke-opacity: 0.7; stroke-width: 0.3\" />\n",
       "     <use xlink:href=\"#m8776a05e89\" x=\"47.97821\" y=\"31.162769\" style=\"fill: #4575b4; fill-opacity: 0.7; stroke: #4575b4; stroke-opacity: 0.7; stroke-width: 0.3\" />\n",
       "     <use xlink:href=\"#m8776a05e89\" x=\"52.677435\" y=\"44.898178\" style=\"fill: #4575b4; fill-opacity: 0.7; stroke: #4575b4; stroke-opacity: 0.7; stroke-width: 0.3\" />\n",
       "     <use xlink:href=\"#m8776a05e89\" x=\"49.637648\" y=\"15.164868\" style=\"fill: #4575b4; fill-opacity: 0.7; stroke: #4575b4; stroke-opacity: 0.7; stroke-width: 0.3\" />\n",
       "     <use xlink:href=\"#m8776a05e89\" x=\"54.999508\" y=\"15.26741\" style=\"fill: #4575b4; fill-opacity: 0.7; stroke: #4575b4; stroke-opacity: 0.7; stroke-width: 0.3\" />\n",
       "     <use xlink:href=\"#m8776a05e89\" x=\"46.010395\" y=\"25.637502\" style=\"fill: #4575b4; fill-opacity: 0.7; stroke: #4575b4; stroke-opacity: 0.7; stroke-width: 0.3\" />\n",
       "     <use xlink:href=\"#m8776a05e89\" x=\"52.318268\" y=\"13.803562\" style=\"fill: #4575b4; fill-opacity: 0.7; stroke: #4575b4; stroke-opacity: 0.7; stroke-width: 0.3\" />\n",
       "     <use xlink:href=\"#m8776a05e89\" x=\"42.732018\" y=\"21.694936\" style=\"fill: #4575b4; fill-opacity: 0.7; stroke: #4575b4; stroke-opacity: 0.7; stroke-width: 0.3\" />\n",
       "     <use xlink:href=\"#m8776a05e89\" x=\"49.158248\" y=\"16.903839\" style=\"fill: #4575b4; fill-opacity: 0.7; stroke: #4575b4; stroke-opacity: 0.7; stroke-width: 0.3\" />\n",
       "     <use xlink:href=\"#m8776a05e89\" x=\"49.216361\" y=\"14.762121\" style=\"fill: #4575b4; fill-opacity: 0.7; stroke: #4575b4; stroke-opacity: 0.7; stroke-width: 0.3\" />\n",
       "     <use xlink:href=\"#m8776a05e89\" x=\"50.355587\" y=\"20.900797\" style=\"fill: #4575b4; fill-opacity: 0.7; stroke: #4575b4; stroke-opacity: 0.7; stroke-width: 0.3\" />\n",
       "     <use xlink:href=\"#m8776a05e89\" x=\"46.538178\" y=\"32.16757\" style=\"fill: #4575b4; fill-opacity: 0.7; stroke: #4575b4; stroke-opacity: 0.7; stroke-width: 0.3\" />\n",
       "     <use xlink:href=\"#m8776a05e89\" x=\"47.180636\" y=\"20.900797\" style=\"fill: #4575b4; fill-opacity: 0.7; stroke: #4575b4; stroke-opacity: 0.7; stroke-width: 0.3\" />\n",
       "     <use xlink:href=\"#m8776a05e89\" x=\"50.980826\" y=\"8.737342\" style=\"fill: #4575b4; fill-opacity: 0.7; stroke: #4575b4; stroke-opacity: 0.7; stroke-width: 0.3\" />\n",
       "     <use xlink:href=\"#m8776a05e89\" x=\"50.643281\" y=\"25.637502\" style=\"fill: #4575b4; fill-opacity: 0.7; stroke: #4575b4; stroke-opacity: 0.7; stroke-width: 0.3\" />\n",
       "     <use xlink:href=\"#m8776a05e89\" x=\"50.712817\" y=\"19.436949\" style=\"fill: #4575b4; fill-opacity: 0.7; stroke: #4575b4; stroke-opacity: 0.7; stroke-width: 0.3\" />\n",
       "     <use xlink:href=\"#m8776a05e89\" x=\"49.510265\" y=\"43.261749\" style=\"fill: #4575b4; fill-opacity: 0.7; stroke: #4575b4; stroke-opacity: 0.7; stroke-width: 0.3\" />\n",
       "     <use xlink:href=\"#m8776a05e89\" x=\"48.992225\" y=\"9.806618\" style=\"fill: #4575b4; fill-opacity: 0.7; stroke: #4575b4; stroke-opacity: 0.7; stroke-width: 0.3\" />\n",
       "     <use xlink:href=\"#m8776a05e89\" x=\"49.525902\" y=\"21.694936\" style=\"fill: #4575b4; fill-opacity: 0.7; stroke: #4575b4; stroke-opacity: 0.7; stroke-width: 0.3\" />\n",
       "     <use xlink:href=\"#m8776a05e89\" x=\"48.055503\" y=\"23.620401\" style=\"fill: #4575b4; fill-opacity: 0.7; stroke: #4575b4; stroke-opacity: 0.7; stroke-width: 0.3\" />\n",
       "     <use xlink:href=\"#m8776a05e89\" x=\"45.881436\" y=\"18.627387\" style=\"fill: #4575b4; fill-opacity: 0.7; stroke: #4575b4; stroke-opacity: 0.7; stroke-width: 0.3\" />\n",
       "     <use xlink:href=\"#m8776a05e89\" x=\"50.809462\" y=\"29.926967\" style=\"fill: #4575b4; fill-opacity: 0.7; stroke: #4575b4; stroke-opacity: 0.7; stroke-width: 0.3\" />\n",
       "     <use xlink:href=\"#m8776a05e89\" x=\"42.152381\" y=\"17.616491\" style=\"fill: #4575b4; fill-opacity: 0.7; stroke: #4575b4; stroke-opacity: 0.7; stroke-width: 0.3\" />\n",
       "     <use xlink:href=\"#m8776a05e89\" x=\"48.886866\" y=\"24.392465\" style=\"fill: #4575b4; fill-opacity: 0.7; stroke: #4575b4; stroke-opacity: 0.7; stroke-width: 0.3\" />\n",
       "     <use xlink:href=\"#m8776a05e89\" x=\"51.107495\" y=\"20.595424\" style=\"fill: #4575b4; fill-opacity: 0.7; stroke: #4575b4; stroke-opacity: 0.7; stroke-width: 0.3\" />\n",
       "     <use xlink:href=\"#m8776a05e89\" x=\"52.572648\" y=\"26.534183\" style=\"fill: #4575b4; fill-opacity: 0.7; stroke: #4575b4; stroke-opacity: 0.7; stroke-width: 0.3\" />\n",
       "     <use xlink:href=\"#m8776a05e89\" x=\"46.087654\" y=\"25.8563\" style=\"fill: #4575b4; fill-opacity: 0.7; stroke: #4575b4; stroke-opacity: 0.7; stroke-width: 0.3\" />\n",
       "     <use xlink:href=\"#m8776a05e89\" x=\"49.781091\" y=\"37.628362\" style=\"fill: #4575b4; fill-opacity: 0.7; stroke: #4575b4; stroke-opacity: 0.7; stroke-width: 0.3\" />\n",
       "     <use xlink:href=\"#m8776a05e89\" x=\"48.976274\" y=\"17.495147\" style=\"fill: #4575b4; fill-opacity: 0.7; stroke: #4575b4; stroke-opacity: 0.7; stroke-width: 0.3\" />\n",
       "     <use xlink:href=\"#m8776a05e89\" x=\"41.731109\" y=\"33.631404\" style=\"fill: #4575b4; fill-opacity: 0.7; stroke: #4575b4; stroke-opacity: 0.7; stroke-width: 0.3\" />\n",
       "     <use xlink:href=\"#m8776a05e89\" x=\"45.29738\" y=\"20.747269\" style=\"fill: #4575b4; fill-opacity: 0.7; stroke: #4575b4; stroke-opacity: 0.7; stroke-width: 0.3\" />\n",
       "     <use xlink:href=\"#m8776a05e89\" x=\"45.773399\" y=\"19.161826\" style=\"fill: #4575b4; fill-opacity: 0.7; stroke: #4575b4; stroke-opacity: 0.7; stroke-width: 0.3\" />\n",
       "     <use xlink:href=\"#m8776a05e89\" x=\"46.116951\" y=\"12.906894\" style=\"fill: #4575b4; fill-opacity: 0.7; stroke: #4575b4; stroke-opacity: 0.7; stroke-width: 0.3\" />\n",
       "     <use xlink:href=\"#m8776a05e89\" x=\"50.507817\" y=\"20.595424\" style=\"fill: #4575b4; fill-opacity: 0.7; stroke: #4575b4; stroke-opacity: 0.7; stroke-width: 0.3\" />\n",
       "     <use xlink:href=\"#m8776a05e89\" x=\"58.237422\" y=\"27.998018\" style=\"fill: #4575b4; fill-opacity: 0.7; stroke: #4575b4; stroke-opacity: 0.7; stroke-width: 0.3\" />\n",
       "     <use xlink:href=\"#m8776a05e89\" x=\"49.202843\" y=\"37.628362\" style=\"fill: #4575b4; fill-opacity: 0.7; stroke: #4575b4; stroke-opacity: 0.7; stroke-width: 0.3\" />\n",
       "     <use xlink:href=\"#m8776a05e89\" x=\"46.146592\" y=\"29.63446\" style=\"fill: #4575b4; fill-opacity: 0.7; stroke: #4575b4; stroke-opacity: 0.7; stroke-width: 0.3\" />\n",
       "     <use xlink:href=\"#m8776a05e89\" x=\"45.497872\" y=\"9.463549\" style=\"fill: #4575b4; fill-opacity: 0.7; stroke: #4575b4; stroke-opacity: 0.7; stroke-width: 0.3\" />\n",
       "     <use xlink:href=\"#m8776a05e89\" x=\"53.741914\" y=\"12.064591\" style=\"fill: #4575b4; fill-opacity: 0.7; stroke: #4575b4; stroke-opacity: 0.7; stroke-width: 0.3\" />\n",
       "     <use xlink:href=\"#m8776a05e89\" x=\"51.474703\" y=\"24.001073\" style=\"fill: #4575b4; fill-opacity: 0.7; stroke: #4575b4; stroke-opacity: 0.7; stroke-width: 0.3\" />\n",
       "     <use xlink:href=\"#m8776a05e89\" x=\"50.432553\" y=\"28.522373\" style=\"fill: #4575b4; fill-opacity: 0.7; stroke: #4575b4; stroke-opacity: 0.7; stroke-width: 0.3\" />\n",
       "     <use xlink:href=\"#m8776a05e89\" x=\"55.024665\" y=\"30.531128\" style=\"fill: #4575b4; fill-opacity: 0.7; stroke: #4575b4; stroke-opacity: 0.7; stroke-width: 0.3\" />\n",
       "     <use xlink:href=\"#m8776a05e89\" x=\"52.050167\" y=\"39.856099\" style=\"fill: #4575b4; fill-opacity: 0.7; stroke: #4575b4; stroke-opacity: 0.7; stroke-width: 0.3\" />\n",
       "     <use xlink:href=\"#m8776a05e89\" x=\"42.898892\" y=\"17.495147\" style=\"fill: #4575b4; fill-opacity: 0.7; stroke: #4575b4; stroke-opacity: 0.7; stroke-width: 0.3\" />\n",
       "     <use xlink:href=\"#m8776a05e89\" x=\"50.423304\" y=\"24.001073\" style=\"fill: #4575b4; fill-opacity: 0.7; stroke: #4575b4; stroke-opacity: 0.7; stroke-width: 0.3\" />\n",
       "     <use xlink:href=\"#m8776a05e89\" x=\"50.764758\" y=\"21.532424\" style=\"fill: #4575b4; fill-opacity: 0.7; stroke: #4575b4; stroke-opacity: 0.7; stroke-width: 0.3\" />\n",
       "     <use xlink:href=\"#m8776a05e89\" x=\"51.78197\" y=\"26.534183\" style=\"fill: #4575b4; fill-opacity: 0.7; stroke: #4575b4; stroke-opacity: 0.7; stroke-width: 0.3\" />\n",
       "     <use xlink:href=\"#m8776a05e89\" x=\"53.048235\" y=\"20.900797\" style=\"fill: #4575b4; fill-opacity: 0.7; stroke: #4575b4; stroke-opacity: 0.7; stroke-width: 0.3\" />\n",
       "     <use xlink:href=\"#m8776a05e89\" x=\"52.361341\" y=\"19.436949\" style=\"fill: #4575b4; fill-opacity: 0.7; stroke: #4575b4; stroke-opacity: 0.7; stroke-width: 0.3\" />\n",
       "     <use xlink:href=\"#m8776a05e89\" x=\"47.810241\" y=\"14.861721\" style=\"fill: #4575b4; fill-opacity: 0.7; stroke: #4575b4; stroke-opacity: 0.7; stroke-width: 0.3\" />\n",
       "     <use xlink:href=\"#m8776a05e89\" x=\"54.251343\" y=\"8.482412\" style=\"fill: #4575b4; fill-opacity: 0.7; stroke: #4575b4; stroke-opacity: 0.7; stroke-width: 0.3\" />\n",
       "     <use xlink:href=\"#m8776a05e89\" x=\"46.891026\" y=\"16.448277\" style=\"fill: #4575b4; fill-opacity: 0.7; stroke: #4575b4; stroke-opacity: 0.7; stroke-width: 0.3\" />\n",
       "     <use xlink:href=\"#m8776a05e89\" x=\"46.51151\" y=\"12.906894\" style=\"fill: #4575b4; fill-opacity: 0.7; stroke: #4575b4; stroke-opacity: 0.7; stroke-width: 0.3\" />\n",
       "     <use xlink:href=\"#m8776a05e89\" x=\"46.458516\" y=\"16.448277\" style=\"fill: #4575b4; fill-opacity: 0.7; stroke: #4575b4; stroke-opacity: 0.7; stroke-width: 0.3\" />\n",
       "     <use xlink:href=\"#m8776a05e89\" x=\"46.606542\" y=\"12.064591\" style=\"fill: #4575b4; fill-opacity: 0.7; stroke: #4575b4; stroke-opacity: 0.7; stroke-width: 0.3\" />\n",
       "     <use xlink:href=\"#m8776a05e89\" x=\"47.365423\" y=\"27.005195\" style=\"fill: #4575b4; fill-opacity: 0.7; stroke: #4575b4; stroke-opacity: 0.7; stroke-width: 0.3\" />\n",
       "     <use xlink:href=\"#m8776a05e89\" x=\"45.229078\" y=\"12.906894\" style=\"fill: #4575b4; fill-opacity: 0.7; stroke: #4575b4; stroke-opacity: 0.7; stroke-width: 0.3\" />\n",
       "    </g>\n",
       "   </g>\n",
       "   <g id=\"matplotlib.axis_1\" />\n",
       "   <g id=\"matplotlib.axis_2\">\n",
       "    <g id=\"ytick_1\">\n",
       "     <g id=\"line2d_1\">\n",
       "      <defs>\n",
       "       <path id=\"mb32280e755\" d=\"M 0 0  L -3.5 0  \" style=\"stroke: #000000; stroke-width: 0.3\" />\n",
       "      </defs>\n",
       "      <g>\n",
       "       <use xlink:href=\"#mb32280e755\" x=\"28.261562\" y=\"30.826656\" style=\"stroke: #000000; stroke-width: 0.3\" />\n",
       "      </g>\n",
       "     </g>\n",
       "     <g id=\"text_1\">\n",
       "      \n",
       "      <g style=\"fill: #444443\" transform=\"translate(11.081562 33.866031) scale(0.08 -0.08)\">\n",
       "       <defs>\n",
       "        <path id=\"DejaVuSans-31\" d=\"M 794 531  L 1825 531  L 1825 4091  L 703 3866  L 703 4441  L 1819 4666  L 2450 4666  L 2450 531  L 3481 531  L 3481 0  L 794 0  L 794 531  z \" transform=\"scale(0.015625)\" />\n",
       "        <path id=\"DejaVuSans-30\" d=\"M 2034 4250  Q 1547 4250 1301 3770  Q 1056 3291 1056 2328  Q 1056 1369 1301 889  Q 1547 409 2034 409  Q 2525 409 2770 889  Q 3016 1369 3016 2328  Q 3016 3291 2770 3770  Q 2525 4250 2034 4250  z M 2034 4750  Q 2819 4750 3233 4129  Q 3647 3509 3647 2328  Q 3647 1150 3233 529  Q 2819 -91 2034 -91  Q 1250 -91 836 529  Q 422 1150 422 2328  Q 422 3509 836 4129  Q 1250 4750 2034 4750  z \" transform=\"scale(0.015625)\" />\n",
       "       </defs>\n",
       "       <use xlink:href=\"#DejaVuSans-31\" />\n",
       "       <use xlink:href=\"#DejaVuSans-30\" x=\"63.623047\" />\n",
       "      </g>\n",
       "     </g>\n",
       "    </g>\n",
       "    <g id=\"ytick_2\">\n",
       "     <g id=\"line2d_2\">\n",
       "      <g>\n",
       "       <use xlink:href=\"#mb32280e755\" x=\"28.261562\" y=\"3.039375\" style=\"stroke: #000000; stroke-width: 0.3\" />\n",
       "      </g>\n",
       "     </g>\n",
       "     <g id=\"text_2\">\n",
       "      \n",
       "      <g style=\"fill: #444443\" transform=\"translate(11.081562 6.07875) scale(0.08 -0.08)\">\n",
       "       <defs>\n",
       "        <path id=\"DejaVuSans-32\" d=\"M 1228 531  L 3431 531  L 3431 0  L 469 0  L 469 531  Q 828 903 1448 1529  Q 2069 2156 2228 2338  Q 2531 2678 2651 2914  Q 2772 3150 2772 3378  Q 2772 3750 2511 3984  Q 2250 4219 1831 4219  Q 1534 4219 1204 4116  Q 875 4013 500 3803  L 500 4441  Q 881 4594 1212 4672  Q 1544 4750 1819 4750  Q 2544 4750 2975 4387  Q 3406 4025 3406 3419  Q 3406 3131 3298 2873  Q 3191 2616 2906 2266  Q 2828 2175 2409 1742  Q 1991 1309 1228 531  z \" transform=\"scale(0.015625)\" />\n",
       "       </defs>\n",
       "       <use xlink:href=\"#DejaVuSans-31\" />\n",
       "       <use xlink:href=\"#DejaVuSans-32\" x=\"63.623047\" />\n",
       "      </g>\n",
       "     </g>\n",
       "    </g>\n",
       "   </g>\n",
       "   <g id=\"line2d_3\">\n",
       "    <path d=\"M 28.261562 22.60653  L 100.373125 22.60653  \" clip-path=\"url(#pb6dfd320c5)\" style=\"fill: none; stroke-dasharray: 3.7,1.6; stroke-dashoffset: 0; stroke: #444443\" />\n",
       "   </g>\n",
       "   <g id=\"patch_3\">\n",
       "    <path d=\"M 28.261562 46.514269  L 28.261562 2.162269  \" style=\"fill: none; stroke: #444443; stroke-width: 0.3; stroke-linejoin: miter; stroke-linecap: square\" />\n",
       "   </g>\n",
       "   <g id=\"text_3\">\n",
       "    \n",
       "    <g style=\"fill: #444443\" transform=\"translate(-0 57.382394) scale(0.12 -0.12)\">\n",
       "     <defs>\n",
       "      <path id=\"DejaVuSans-53\" d=\"M 3425 4513  L 3425 3897  Q 3066 4069 2747 4153  Q 2428 4238 2131 4238  Q 1616 4238 1336 4038  Q 1056 3838 1056 3469  Q 1056 3159 1242 3001  Q 1428 2844 1947 2747  L 2328 2669  Q 3034 2534 3370 2195  Q 3706 1856 3706 1288  Q 3706 609 3251 259  Q 2797 -91 1919 -91  Q 1588 -91 1214 -16  Q 841 59 441 206  L 441 856  Q 825 641 1194 531  Q 1563 422 1919 422  Q 2459 422 2753 634  Q 3047 847 3047 1241  Q 3047 1584 2836 1778  Q 2625 1972 2144 2069  L 1759 2144  Q 1053 2284 737 2584  Q 422 2884 422 3419  Q 422 4038 858 4394  Q 1294 4750 2059 4750  Q 2388 4750 2728 4690  Q 3069 4631 3425 4513  z \" transform=\"scale(0.015625)\" />\n",
       "      <path id=\"DejaVuSans-61\" d=\"M 2194 1759  Q 1497 1759 1228 1600  Q 959 1441 959 1056  Q 959 750 1161 570  Q 1363 391 1709 391  Q 2188 391 2477 730  Q 2766 1069 2766 1631  L 2766 1759  L 2194 1759  z M 3341 1997  L 3341 0  L 2766 0  L 2766 531  Q 2569 213 2275 61  Q 1981 -91 1556 -91  Q 1019 -91 701 211  Q 384 513 384 1019  Q 384 1609 779 1909  Q 1175 2209 1959 2209  L 2766 2209  L 2766 2266  Q 2766 2663 2505 2880  Q 2244 3097 1772 3097  Q 1472 3097 1187 3025  Q 903 2953 641 2809  L 641 3341  Q 956 3463 1253 3523  Q 1550 3584 1831 3584  Q 2591 3584 2966 3190  Q 3341 2797 3341 1997  z \" transform=\"scale(0.015625)\" />\n",
       "      <path id=\"DejaVuSans-6c\" d=\"M 603 4863  L 1178 4863  L 1178 0  L 603 0  L 603 4863  z \" transform=\"scale(0.015625)\" />\n",
       "      <path id=\"DejaVuSans-65\" d=\"M 3597 1894  L 3597 1613  L 953 1613  Q 991 1019 1311 708  Q 1631 397 2203 397  Q 2534 397 2845 478  Q 3156 559 3463 722  L 3463 178  Q 3153 47 2828 -22  Q 2503 -91 2169 -91  Q 1331 -91 842 396  Q 353 884 353 1716  Q 353 2575 817 3079  Q 1281 3584 2069 3584  Q 2775 3584 3186 3129  Q 3597 2675 3597 1894  z M 3022 2063  Q 3016 2534 2758 2815  Q 2500 3097 2075 3097  Q 1594 3097 1305 2825  Q 1016 2553 972 2059  L 3022 2063  z \" transform=\"scale(0.015625)\" />\n",
       "      <path id=\"DejaVuSans-50\" d=\"M 1259 4147  L 1259 2394  L 2053 2394  Q 2494 2394 2734 2622  Q 2975 2850 2975 3272  Q 2975 3691 2734 3919  Q 2494 4147 2053 4147  L 1259 4147  z M 628 4666  L 2053 4666  Q 2838 4666 3239 4311  Q 3641 3956 3641 3272  Q 3641 2581 3239 2228  Q 2838 1875 2053 1875  L 1259 1875  L 1259 0  L 628 0  L 628 4666  z \" transform=\"scale(0.015625)\" />\n",
       "      <path id=\"DejaVuSans-72\" d=\"M 2631 2963  Q 2534 3019 2420 3045  Q 2306 3072 2169 3072  Q 1681 3072 1420 2755  Q 1159 2438 1159 1844  L 1159 0  L 581 0  L 581 3500  L 1159 3500  L 1159 2956  Q 1341 3275 1631 3429  Q 1922 3584 2338 3584  Q 2397 3584 2469 3576  Q 2541 3569 2628 3553  L 2631 2963  z \" transform=\"scale(0.015625)\" />\n",
       "      <path id=\"DejaVuSans-69\" d=\"M 603 3500  L 1178 3500  L 1178 0  L 603 0  L 603 3500  z M 603 4863  L 1178 4863  L 1178 4134  L 603 4134  L 603 4863  z \" transform=\"scale(0.015625)\" />\n",
       "      <path id=\"DejaVuSans-63\" d=\"M 3122 3366  L 3122 2828  Q 2878 2963 2633 3030  Q 2388 3097 2138 3097  Q 1578 3097 1268 2742  Q 959 2388 959 1747  Q 959 1106 1268 751  Q 1578 397 2138 397  Q 2388 397 2633 464  Q 2878 531 3122 666  L 3122 134  Q 2881 22 2623 -34  Q 2366 -91 2075 -91  Q 1284 -91 818 406  Q 353 903 353 1747  Q 353 2603 823 3093  Q 1294 3584 2113 3584  Q 2378 3584 2631 3529  Q 2884 3475 3122 3366  z \" transform=\"scale(0.015625)\" />\n",
       "      <path id=\"DejaVuSans-3d\" d=\"M 678 2906  L 4684 2906  L 4684 2381  L 678 2381  L 678 2906  z M 678 1631  L 4684 1631  L 4684 1100  L 678 1100  L 678 1631  z \" transform=\"scale(0.015625)\" />\n",
       "      <path id=\"DejaVuSans-2e\" d=\"M 684 794  L 1344 794  L 1344 0  L 684 0  L 684 794  z \" transform=\"scale(0.015625)\" />\n",
       "      <path id=\"DejaVuSans-35\" d=\"M 691 4666  L 3169 4666  L 3169 4134  L 1269 4134  L 1269 2991  Q 1406 3038 1543 3061  Q 1681 3084 1819 3084  Q 2600 3084 3056 2656  Q 3513 2228 3513 1497  Q 3513 744 3044 326  Q 2575 -91 1722 -91  Q 1428 -91 1123 -41  Q 819 9 494 109  L 494 744  Q 775 591 1075 516  Q 1375 441 1709 441  Q 2250 441 2565 725  Q 2881 1009 2881 1497  Q 2881 1984 2565 2268  Q 2250 2553 1709 2553  Q 1456 2553 1204 2497  Q 953 2441 691 2322  L 691 4666  z \" transform=\"scale(0.015625)\" />\n",
       "      <path id=\"DejaVuSans-39\" d=\"M 703 97  L 703 672  Q 941 559 1184 500  Q 1428 441 1663 441  Q 2288 441 2617 861  Q 2947 1281 2994 2138  Q 2813 1869 2534 1725  Q 2256 1581 1919 1581  Q 1219 1581 811 2004  Q 403 2428 403 3163  Q 403 3881 828 4315  Q 1253 4750 1959 4750  Q 2769 4750 3195 4129  Q 3622 3509 3622 2328  Q 3622 1225 3098 567  Q 2575 -91 1691 -91  Q 1453 -91 1209 -44  Q 966 3 703 97  z M 1959 2075  Q 2384 2075 2632 2365  Q 2881 2656 2881 3163  Q 2881 3666 2632 3958  Q 2384 4250 1959 4250  Q 1534 4250 1286 3958  Q 1038 3666 1038 3163  Q 1038 2656 1286 2365  Q 1534 2075 1959 2075  z \" transform=\"scale(0.015625)\" />\n",
       "     </defs>\n",
       "     <use xlink:href=\"#DejaVuSans-53\" />\n",
       "     <use xlink:href=\"#DejaVuSans-61\" x=\"63.476562\" />\n",
       "     <use xlink:href=\"#DejaVuSans-6c\" x=\"124.755859\" />\n",
       "     <use xlink:href=\"#DejaVuSans-65\" x=\"152.539062\" />\n",
       "     <use xlink:href=\"#DejaVuSans-50\" x=\"214.0625\" />\n",
       "     <use xlink:href=\"#DejaVuSans-72\" x=\"272.615234\" />\n",
       "     <use xlink:href=\"#DejaVuSans-69\" x=\"313.728516\" />\n",
       "     <use xlink:href=\"#DejaVuSans-63\" x=\"341.511719\" />\n",
       "     <use xlink:href=\"#DejaVuSans-65\" x=\"396.492188\" />\n",
       "     <use xlink:href=\"#DejaVuSans-3d\" x=\"458.015625\" />\n",
       "     <use xlink:href=\"#DejaVuSans-31\" x=\"541.804688\" />\n",
       "     <use xlink:href=\"#DejaVuSans-30\" x=\"605.427734\" />\n",
       "     <use xlink:href=\"#DejaVuSans-2e\" x=\"669.050781\" />\n",
       "     <use xlink:href=\"#DejaVuSans-35\" x=\"700.837891\" />\n",
       "     <use xlink:href=\"#DejaVuSans-39\" x=\"764.460938\" />\n",
       "    </g>\n",
       "    \n",
       "    <g style=\"fill: #444443\" transform=\"translate(29.40375 70.819769) scale(0.12 -0.12)\">\n",
       "     <defs>\n",
       "      <path id=\"DejaVuSans-6e\" d=\"M 3513 2113  L 3513 0  L 2938 0  L 2938 2094  Q 2938 2591 2744 2837  Q 2550 3084 2163 3084  Q 1697 3084 1428 2787  Q 1159 2491 1159 1978  L 1159 0  L 581 0  L 581 3500  L 1159 3500  L 1159 2956  Q 1366 3272 1645 3428  Q 1925 3584 2291 3584  Q 2894 3584 3203 3211  Q 3513 2838 3513 2113  z \" transform=\"scale(0.015625)\" />\n",
       "      <path id=\"DejaVuSans-34\" d=\"M 2419 4116  L 825 1625  L 2419 1625  L 2419 4116  z M 2253 4666  L 3047 4666  L 3047 1625  L 3713 1625  L 3713 1100  L 3047 1100  L 3047 0  L 2419 0  L 2419 1100  L 313 1100  L 313 1709  L 2253 4666  z \" transform=\"scale(0.015625)\" />\n",
       "     </defs>\n",
       "     <use xlink:href=\"#DejaVuSans-6e\" />\n",
       "     <use xlink:href=\"#DejaVuSans-3d\" x=\"63.378906\" />\n",
       "     <use xlink:href=\"#DejaVuSans-31\" x=\"147.167969\" />\n",
       "     <use xlink:href=\"#DejaVuSans-34\" x=\"210.791016\" />\n",
       "     <use xlink:href=\"#DejaVuSans-34\" x=\"274.414062\" />\n",
       "    </g>\n",
       "   </g>\n",
       "  </g>\n",
       " </g>\n",
       " <defs>\n",
       "  <clipPath id=\"pb6dfd320c5\">\n",
       "   <rect x=\"28.261562\" y=\"2.162269\" width=\"41.85\" height=\"44.352\" />\n",
       "  </clipPath>\n",
       " </defs>\n",
       "</svg></g>\n",
       "\n",
       "<g id=\"edge2\" class=\"edge\">\n",
       "<title>node4-&gt;leaf6</title>\n",
       "<path fill=\"none\" stroke=\"#444443\" stroke-width=\"0.3\" d=\"M173.83,-79.05C175.78,-74.61 177.75,-70.12 179.66,-65.77\" />\n",
       "<polygon fill=\"#444443\" stroke=\"#444443\" stroke-width=\"0.3\" points=\"180.89,-66.46 181.22,-62.23 178.33,-65.33 180.89,-66.46\" />\n",
       "</g>\n",
       "\n",
       "<g id=\"node2\" class=\"node\">\n",
       "<title>node1</title>\n",
       "<svg width=\"128px\" height=\"73px\" viewBox=\"0 0 170.67625 97.673604\" version=\"1.1\" preserveAspectRatio=\"xMinYMin meet\" x=\"32.5\" y=\"-253.5\">\n",
       " <metadata>\n",
       "  <rdf:RDF>\n",
       "   <ns2:Work>\n",
       "    <dc:type rdf:resource=\"http://purl.org/dc/dcmitype/StillImage\" />\n",
       "    <dc:date>2024-01-02T17:57:06.105007</dc:date>\n",
       "    <dc:format>image/svg+xml</dc:format>\n",
       "    <dc:creator>\n",
       "     <ns2:Agent>\n",
       "      <dc:title>Matplotlib v3.7.2, https://matplotlib.org/</dc:title>\n",
       "     </ns2:Agent>\n",
       "    </dc:creator>\n",
       "   </ns2:Work>\n",
       "  </rdf:RDF>\n",
       " </metadata>\n",
       " <defs>\n",
       "  <style type=\"text/css\">*{stroke-linejoin: round; stroke-linecap: butt}</style>\n",
       " </defs>\n",
       " <g id=\"figure_1\">\n",
       "  <g id=\"patch_1\">\n",
       "   <path d=\"M 0 97.673604  L 170.67625 97.673604  L 170.67625 0  L 0 0  z \" style=\"fill: #ffffff\" />\n",
       "  </g>\n",
       "  <g id=\"axes_1\">\n",
       "   <g id=\"patch_2\">\n",
       "    <path d=\"M 17.18 62.817354  L 156.68 62.817354  L 156.68 1.833354  L 17.18 1.833354  z \" style=\"fill: #ffffff\" />\n",
       "   </g>\n",
       "   <g id=\"PathCollection_1\">\n",
       "    <defs>\n",
       "     <path id=\"m1b89d81405\" d=\"M 0 1.118034  C 0.296506 1.118034 0.580908 1.000231 0.790569 0.790569  C 1.000231 0.580908 1.118034 0.296506 1.118034 0  C 1.118034 -0.296506 1.000231 -0.580908 0.790569 -0.790569  C 0.580908 -1.000231 0.296506 -1.118034 0 -1.118034  C -0.296506 -1.118034 -0.580908 -1.000231 -0.790569 -0.790569  C -1.000231 -0.580908 -1.118034 -0.296506 -1.118034 0  C -1.118034 0.296506 -1.000231 0.580908 -0.790569 0.790569  C -0.580908 1.000231 -0.296506 1.118034 0 1.118034  z \" style=\"stroke: #4575b4; stroke-opacity: 0.7; stroke-width: 0.3\" />\n",
       "    </defs>\n",
       "    <g clip-path=\"url(#pc848e0c794)\">\n",
       "     <use xlink:href=\"#m1b89d81405\" x=\"132.628276\" y=\"34.1118\" style=\"fill: #4575b4; fill-opacity: 0.7; stroke: #4575b4; stroke-opacity: 0.7; stroke-width: 0.3\" />\n",
       "     <use xlink:href=\"#m1b89d81405\" x=\"142.248966\" y=\"23.421031\" style=\"fill: #4575b4; fill-opacity: 0.7; stroke: #4575b4; stroke-opacity: 0.7; stroke-width: 0.3\" />\n",
       "     <use xlink:href=\"#m1b89d81405\" x=\"106.171379\" y=\"23.421031\" style=\"fill: #4575b4; fill-opacity: 0.7; stroke: #4575b4; stroke-opacity: 0.7; stroke-width: 0.3\" />\n",
       "     <use xlink:href=\"#m1b89d81405\" x=\"135.033448\" y=\"40.840535\" style=\"fill: #4575b4; fill-opacity: 0.7; stroke: #4575b4; stroke-opacity: 0.7; stroke-width: 0.3\" />\n",
       "     <use xlink:href=\"#m1b89d81405\" x=\"17.18\" y=\"57.312244\" style=\"fill: #4575b4; fill-opacity: 0.7; stroke: #4575b4; stroke-opacity: 0.7; stroke-width: 0.3\" />\n",
       "     <use xlink:href=\"#m1b89d81405\" x=\"84.524828\" y=\"30.332591\" style=\"fill: #4575b4; fill-opacity: 0.7; stroke: #4575b4; stroke-opacity: 0.7; stroke-width: 0.3\" />\n",
       "     <use xlink:href=\"#m1b89d81405\" x=\"118.197241\" y=\"29.84892\" style=\"fill: #4575b4; fill-opacity: 0.7; stroke: #4575b4; stroke-opacity: 0.7; stroke-width: 0.3\" />\n",
       "     <use xlink:href=\"#m1b89d81405\" x=\"101.361034\" y=\"35.344736\" style=\"fill: #4575b4; fill-opacity: 0.7; stroke: #4575b4; stroke-opacity: 0.7; stroke-width: 0.3\" />\n",
       "     <use xlink:href=\"#m1b89d81405\" x=\"70.093793\" y=\"35.992377\" style=\"fill: #4575b4; fill-opacity: 0.7; stroke: #4575b4; stroke-opacity: 0.7; stroke-width: 0.3\" />\n",
       "     <use xlink:href=\"#m1b89d81405\" x=\"17.18\" y=\"38.827763\" style=\"fill: #4575b4; fill-opacity: 0.7; stroke: #4575b4; stroke-opacity: 0.7; stroke-width: 0.3\" />\n",
       "     <use xlink:href=\"#m1b89d81405\" x=\"139.843793\" y=\"24.836774\" style=\"fill: #4575b4; fill-opacity: 0.7; stroke: #4575b4; stroke-opacity: 0.7; stroke-width: 0.3\" />\n",
       "     <use xlink:href=\"#m1b89d81405\" x=\"149.464483\" y=\"54.511565\" style=\"fill: #4575b4; fill-opacity: 0.7; stroke: #4575b4; stroke-opacity: 0.7; stroke-width: 0.3\" />\n",
       "     <use xlink:href=\"#m1b89d81405\" x=\"151.869655\" y=\"23.251232\" style=\"fill: #4575b4; fill-opacity: 0.7; stroke: #4575b4; stroke-opacity: 0.7; stroke-width: 0.3\" />\n",
       "     <use xlink:href=\"#m1b89d81405\" x=\"120.602414\" y=\"25.586039\" style=\"fill: #4575b4; fill-opacity: 0.7; stroke: #4575b4; stroke-opacity: 0.7; stroke-width: 0.3\" />\n",
       "     <use xlink:href=\"#m1b89d81405\" x=\"144.654138\" y=\"29.145639\" style=\"fill: #4575b4; fill-opacity: 0.7; stroke: #4575b4; stroke-opacity: 0.7; stroke-width: 0.3\" />\n",
       "     <use xlink:href=\"#m1b89d81405\" x=\"139.843793\" y=\"31.081856\" style=\"fill: #4575b4; fill-opacity: 0.7; stroke: #4575b4; stroke-opacity: 0.7; stroke-width: 0.3\" />\n",
       "     <use xlink:href=\"#m1b89d81405\" x=\"101.361034\" y=\"49.90446\" style=\"fill: #4575b4; fill-opacity: 0.7; stroke: #4575b4; stroke-opacity: 0.7; stroke-width: 0.3\" />\n",
       "     <use xlink:href=\"#m1b89d81405\" x=\"108.576552\" y=\"40.629452\" style=\"fill: #4575b4; fill-opacity: 0.7; stroke: #4575b4; stroke-opacity: 0.7; stroke-width: 0.3\" />\n",
       "     <use xlink:href=\"#m1b89d81405\" x=\"130.223103\" y=\"21.170941\" style=\"fill: #4575b4; fill-opacity: 0.7; stroke: #4575b4; stroke-opacity: 0.7; stroke-width: 0.3\" />\n",
       "     <use xlink:href=\"#m1b89d81405\" x=\"65.283448\" y=\"45.103415\" style=\"fill: #4575b4; fill-opacity: 0.7; stroke: #4575b4; stroke-opacity: 0.7; stroke-width: 0.3\" />\n",
       "     <use xlink:href=\"#m1b89d81405\" x=\"115.792069\" y=\"29.84892\" style=\"fill: #4575b4; fill-opacity: 0.7; stroke: #4575b4; stroke-opacity: 0.7; stroke-width: 0.3\" />\n",
       "     <use xlink:href=\"#m1b89d81405\" x=\"142.248966\" y=\"23.765256\" style=\"fill: #4575b4; fill-opacity: 0.7; stroke: #4575b4; stroke-opacity: 0.7; stroke-width: 0.3\" />\n",
       "     <use xlink:href=\"#m1b89d81405\" x=\"144.654138\" y=\"18.487791\" style=\"fill: #4575b4; fill-opacity: 0.7; stroke: #4575b4; stroke-opacity: 0.7; stroke-width: 0.3\" />\n",
       "     <use xlink:href=\"#m1b89d81405\" x=\"132.628276\" y=\"42.158553\" style=\"fill: #4575b4; fill-opacity: 0.7; stroke: #4575b4; stroke-opacity: 0.7; stroke-width: 0.3\" />\n",
       "     <use xlink:href=\"#m1b89d81405\" x=\"79.714483\" y=\"36.662754\" style=\"fill: #4575b4; fill-opacity: 0.7; stroke: #4575b4; stroke-opacity: 0.7; stroke-width: 0.3\" />\n",
       "     <use xlink:href=\"#m1b89d81405\" x=\"135.033448\" y=\"31.86171\" style=\"fill: #4575b4; fill-opacity: 0.7; stroke: #4575b4; stroke-opacity: 0.7; stroke-width: 0.3\" />\n",
       "     <use xlink:href=\"#m1b89d81405\" x=\"113.386897\" y=\"34.718321\" style=\"fill: #4575b4; fill-opacity: 0.7; stroke: #4575b4; stroke-opacity: 0.7; stroke-width: 0.3\" />\n",
       "     <use xlink:href=\"#m1b89d81405\" x=\"120.602414\" y=\"45.103415\" style=\"fill: #4575b4; fill-opacity: 0.7; stroke: #4575b4; stroke-opacity: 0.7; stroke-width: 0.3\" />\n",
       "     <use xlink:href=\"#m1b89d81405\" x=\"62.878276\" y=\"35.344736\" style=\"fill: #4575b4; fill-opacity: 0.7; stroke: #4575b4; stroke-opacity: 0.7; stroke-width: 0.3\" />\n",
       "     <use xlink:href=\"#m1b89d81405\" x=\"115.792069\" y=\"29.377199\" style=\"fill: #4575b4; fill-opacity: 0.7; stroke: #4575b4; stroke-opacity: 0.7; stroke-width: 0.3\" />\n",
       "     <use xlink:href=\"#m1b89d81405\" x=\"130.223103\" y=\"41.709042\" style=\"fill: #4575b4; fill-opacity: 0.7; stroke: #4575b4; stroke-opacity: 0.7; stroke-width: 0.3\" />\n",
       "     <use xlink:href=\"#m1b89d81405\" x=\"60.473103\" y=\"58.883303\" style=\"fill: #4575b4; fill-opacity: 0.7; stroke: #4575b4; stroke-opacity: 0.7; stroke-width: 0.3\" />\n",
       "     <use xlink:href=\"#m1b89d81405\" x=\"137.438621\" y=\"59.43708\" style=\"fill: #4575b4; fill-opacity: 0.7; stroke: #4575b4; stroke-opacity: 0.7; stroke-width: 0.3\" />\n",
       "     <use xlink:href=\"#m1b89d81405\" x=\"113.386897\" y=\"54.511565\" style=\"fill: #4575b4; fill-opacity: 0.7; stroke: #4575b4; stroke-opacity: 0.7; stroke-width: 0.3\" />\n",
       "     <use xlink:href=\"#m1b89d81405\" x=\"127.817931\" y=\"47.353523\" style=\"fill: #4575b4; fill-opacity: 0.7; stroke: #4575b4; stroke-opacity: 0.7; stroke-width: 0.3\" />\n",
       "     <use xlink:href=\"#m1b89d81405\" x=\"149.464483\" y=\"30.828816\" style=\"fill: #4575b4; fill-opacity: 0.7; stroke: #4575b4; stroke-opacity: 0.7; stroke-width: 0.3\" />\n",
       "     <use xlink:href=\"#m1b89d81405\" x=\"139.843793\" y=\"39.213709\" style=\"fill: #4575b4; fill-opacity: 0.7; stroke: #4575b4; stroke-opacity: 0.7; stroke-width: 0.3\" />\n",
       "     <use xlink:href=\"#m1b89d81405\" x=\"144.654138\" y=\"21.787245\" style=\"fill: #4575b4; fill-opacity: 0.7; stroke: #4575b4; stroke-opacity: 0.7; stroke-width: 0.3\" />\n",
       "     <use xlink:href=\"#m1b89d81405\" x=\"125.412759\" y=\"40.420665\" style=\"fill: #4575b4; fill-opacity: 0.7; stroke: #4575b4; stroke-opacity: 0.7; stroke-width: 0.3\" />\n",
       "     <use xlink:href=\"#m1b89d81405\" x=\"132.628276\" y=\"38.078498\" style=\"fill: #4575b4; fill-opacity: 0.7; stroke: #4575b4; stroke-opacity: 0.7; stroke-width: 0.3\" />\n",
       "     <use xlink:href=\"#m1b89d81405\" x=\"17.18\" y=\"52.069468\" style=\"fill: #4575b4; fill-opacity: 0.7; stroke: #4575b4; stroke-opacity: 0.7; stroke-width: 0.3\" />\n",
       "     <use xlink:href=\"#m1b89d81405\" x=\"130.223103\" y=\"44.57999\" style=\"fill: #4575b4; fill-opacity: 0.7; stroke: #4575b4; stroke-opacity: 0.7; stroke-width: 0.3\" />\n",
       "     <use xlink:href=\"#m1b89d81405\" x=\"125.412759\" y=\"43.090643\" style=\"fill: #4575b4; fill-opacity: 0.7; stroke: #4575b4; stroke-opacity: 0.7; stroke-width: 0.3\" />\n",
       "     <use xlink:href=\"#m1b89d81405\" x=\"108.576552\" y=\"44.57999\" style=\"fill: #4575b4; fill-opacity: 0.7; stroke: #4575b4; stroke-opacity: 0.7; stroke-width: 0.3\" />\n",
       "     <use xlink:href=\"#m1b89d81405\" x=\"147.05931\" y=\"29.84892\" style=\"fill: #4575b4; fill-opacity: 0.7; stroke: #4575b4; stroke-opacity: 0.7; stroke-width: 0.3\" />\n",
       "     <use xlink:href=\"#m1b89d81405\" x=\"118.197241\" y=\"31.081856\" style=\"fill: #4575b4; fill-opacity: 0.7; stroke: #4575b4; stroke-opacity: 0.7; stroke-width: 0.3\" />\n",
       "     <use xlink:href=\"#m1b89d81405\" x=\"17.18\" y=\"28.690771\" style=\"fill: #4575b4; fill-opacity: 0.7; stroke: #4575b4; stroke-opacity: 0.7; stroke-width: 0.3\" />\n",
       "     <use xlink:href=\"#m1b89d81405\" x=\"120.602414\" y=\"36.662754\" style=\"fill: #4575b4; fill-opacity: 0.7; stroke: #4575b4; stroke-opacity: 0.7; stroke-width: 0.3\" />\n",
       "     <use xlink:href=\"#m1b89d81405\" x=\"149.464483\" y=\"41.709042\" style=\"fill: #4575b4; fill-opacity: 0.7; stroke: #4575b4; stroke-opacity: 0.7; stroke-width: 0.3\" />\n",
       "     <use xlink:href=\"#m1b89d81405\" x=\"132.628276\" y=\"22.103013\" style=\"fill: #4575b4; fill-opacity: 0.7; stroke: #4575b4; stroke-opacity: 0.7; stroke-width: 0.3\" />\n",
       "     <use xlink:href=\"#m1b89d81405\" x=\"106.171379\" y=\"22.103013\" style=\"fill: #4575b4; fill-opacity: 0.7; stroke: #4575b4; stroke-opacity: 0.7; stroke-width: 0.3\" />\n",
       "     <use xlink:href=\"#m1b89d81405\" x=\"86.93\" y=\"34.718321\" style=\"fill: #4575b4; fill-opacity: 0.7; stroke: #4575b4; stroke-opacity: 0.7; stroke-width: 0.3\" />\n",
       "     <use xlink:href=\"#m1b89d81405\" x=\"135.033448\" y=\"34.718321\" style=\"fill: #4575b4; fill-opacity: 0.7; stroke: #4575b4; stroke-opacity: 0.7; stroke-width: 0.3\" />\n",
       "     <use xlink:href=\"#m1b89d81405\" x=\"132.628276\" y=\"43.090643\" style=\"fill: #4575b4; fill-opacity: 0.7; stroke: #4575b4; stroke-opacity: 0.7; stroke-width: 0.3\" />\n",
       "     <use xlink:href=\"#m1b89d81405\" x=\"113.386897\" y=\"43.574297\" style=\"fill: #4575b4; fill-opacity: 0.7; stroke: #4575b4; stroke-opacity: 0.7; stroke-width: 0.3\" />\n",
       "     <use xlink:href=\"#m1b89d81405\" x=\"98.955862\" y=\"43.090643\" style=\"fill: #4575b4; fill-opacity: 0.7; stroke: #4575b4; stroke-opacity: 0.7; stroke-width: 0.3\" />\n",
       "     <use xlink:href=\"#m1b89d81405\" x=\"17.18\" y=\"38.44945\" style=\"fill: #4575b4; fill-opacity: 0.7; stroke: #4575b4; stroke-opacity: 0.7; stroke-width: 0.3\" />\n",
       "     <use xlink:href=\"#m1b89d81405\" x=\"110.981724\" y=\"18.356489\" style=\"fill: #4575b4; fill-opacity: 0.7; stroke: #4575b4; stroke-opacity: 0.7; stroke-width: 0.3\" />\n",
       "     <use xlink:href=\"#m1b89d81405\" x=\"130.223103\" y=\"41.26986\" style=\"fill: #4575b4; fill-opacity: 0.7; stroke: #4575b4; stroke-opacity: 0.7; stroke-width: 0.3\" />\n",
       "     <use xlink:href=\"#m1b89d81405\" x=\"123.007586\" y=\"49.90446\" style=\"fill: #4575b4; fill-opacity: 0.7; stroke: #4575b4; stroke-opacity: 0.7; stroke-width: 0.3\" />\n",
       "     <use xlink:href=\"#m1b89d81405\" x=\"137.438621\" y=\"57.312244\" style=\"fill: #4575b4; fill-opacity: 0.7; stroke: #4575b4; stroke-opacity: 0.7; stroke-width: 0.3\" />\n",
       "     <use xlink:href=\"#m1b89d81405\" x=\"86.93\" y=\"47.353523\" style=\"fill: #4575b4; fill-opacity: 0.7; stroke: #4575b4; stroke-opacity: 0.7; stroke-width: 0.3\" />\n",
       "     <use xlink:href=\"#m1b89d81405\" x=\"130.223103\" y=\"25.207745\" style=\"fill: #4575b4; fill-opacity: 0.7; stroke: #4575b4; stroke-opacity: 0.7; stroke-width: 0.3\" />\n",
       "     <use xlink:href=\"#m1b89d81405\" x=\"120.602414\" y=\"48.586442\" style=\"fill: #4575b4; fill-opacity: 0.7; stroke: #4575b4; stroke-opacity: 0.7; stroke-width: 0.3\" />\n",
       "     <use xlink:href=\"#m1b89d81405\" x=\"130.223103\" y=\"45.103415\" style=\"fill: #4575b4; fill-opacity: 0.7; stroke: #4575b4; stroke-opacity: 0.7; stroke-width: 0.3\" />\n",
       "     <use xlink:href=\"#m1b89d81405\" x=\"82.119655\" y=\"36.662754\" style=\"fill: #4575b4; fill-opacity: 0.7; stroke: #4575b4; stroke-opacity: 0.7; stroke-width: 0.3\" />\n",
       "     <use xlink:href=\"#m1b89d81405\" x=\"17.18\" y=\"41.26986\" style=\"fill: #4575b4; fill-opacity: 0.7; stroke: #4575b4; stroke-opacity: 0.7; stroke-width: 0.3\" />\n",
       "     <use xlink:href=\"#m1b89d81405\" x=\"84.524828\" y=\"42.158553\" style=\"fill: #4575b4; fill-opacity: 0.7; stroke: #4575b4; stroke-opacity: 0.7; stroke-width: 0.3\" />\n",
       "     <use xlink:href=\"#m1b89d81405\" x=\"17.18\" y=\"37.357509\" style=\"fill: #4575b4; fill-opacity: 0.7; stroke: #4575b4; stroke-opacity: 0.7; stroke-width: 0.3\" />\n",
       "     <use xlink:href=\"#m1b89d81405\" x=\"144.654138\" y=\"35.344736\" style=\"fill: #4575b4; fill-opacity: 0.7; stroke: #4575b4; stroke-opacity: 0.7; stroke-width: 0.3\" />\n",
       "     <use xlink:href=\"#m1b89d81405\" x=\"101.361034\" y=\"26.365893\" style=\"fill: #4575b4; fill-opacity: 0.7; stroke: #4575b4; stroke-opacity: 0.7; stroke-width: 0.3\" />\n",
       "     <use xlink:href=\"#m1b89d81405\" x=\"103.766207\" y=\"34.1118\" style=\"fill: #4575b4; fill-opacity: 0.7; stroke: #4575b4; stroke-opacity: 0.7; stroke-width: 0.3\" />\n",
       "     <use xlink:href=\"#m1b89d81405\" x=\"127.817931\" y=\"34.1118\" style=\"fill: #4575b4; fill-opacity: 0.7; stroke: #4575b4; stroke-opacity: 0.7; stroke-width: 0.3\" />\n",
       "     <use xlink:href=\"#m1b89d81405\" x=\"123.007586\" y=\"25.586039\" style=\"fill: #4575b4; fill-opacity: 0.7; stroke: #4575b4; stroke-opacity: 0.7; stroke-width: 0.3\" />\n",
       "     <use xlink:href=\"#m1b89d81405\" x=\"151.869655\" y=\"23.765256\" style=\"fill: #4575b4; fill-opacity: 0.7; stroke: #4575b4; stroke-opacity: 0.7; stroke-width: 0.3\" />\n",
       "     <use xlink:href=\"#m1b89d81405\" x=\"82.119655\" y=\"19.711928\" style=\"fill: #4575b4; fill-opacity: 0.7; stroke: #4575b4; stroke-opacity: 0.7; stroke-width: 0.3\" />\n",
       "     <use xlink:href=\"#m1b89d81405\" x=\"149.464483\" y=\"33.523953\" style=\"fill: #4575b4; fill-opacity: 0.7; stroke: #4575b4; stroke-opacity: 0.7; stroke-width: 0.3\" />\n",
       "     <use xlink:href=\"#m1b89d81405\" x=\"108.576552\" y=\"21.323159\" style=\"fill: #4575b4; fill-opacity: 0.7; stroke: #4575b4; stroke-opacity: 0.7; stroke-width: 0.3\" />\n",
       "     <use xlink:href=\"#m1b89d81405\" x=\"74.904138\" y=\"46.765659\" style=\"fill: #4575b4; fill-opacity: 0.7; stroke: #4575b4; stroke-opacity: 0.7; stroke-width: 0.3\" />\n",
       "     <use xlink:href=\"#m1b89d81405\" x=\"147.05931\" y=\"46.195357\" style=\"fill: #4575b4; fill-opacity: 0.7; stroke: #4575b4; stroke-opacity: 0.7; stroke-width: 0.3\" />\n",
       "     <use xlink:href=\"#m1b89d81405\" x=\"144.654138\" y=\"39.607617\" style=\"fill: #4575b4; fill-opacity: 0.7; stroke: #4575b4; stroke-opacity: 0.7; stroke-width: 0.3\" />\n",
       "     <use xlink:href=\"#m1b89d81405\" x=\"137.438621\" y=\"31.598194\" style=\"fill: #4575b4; fill-opacity: 0.7; stroke: #4575b4; stroke-opacity: 0.7; stroke-width: 0.3\" />\n",
       "     <use xlink:href=\"#m1b89d81405\" x=\"142.248966\" y=\"25.586039\" style=\"fill: #4575b4; fill-opacity: 0.7; stroke: #4575b4; stroke-opacity: 0.7; stroke-width: 0.3\" />\n",
       "     <use xlink:href=\"#m1b89d81405\" x=\"123.007586\" y=\"36.662754\" style=\"fill: #4575b4; fill-opacity: 0.7; stroke: #4575b4; stroke-opacity: 0.7; stroke-width: 0.3\" />\n",
       "     <use xlink:href=\"#m1b89d81405\" x=\"86.93\" y=\"34.1118\" style=\"fill: #4575b4; fill-opacity: 0.7; stroke: #4575b4; stroke-opacity: 0.7; stroke-width: 0.3\" />\n",
       "     <use xlink:href=\"#m1b89d81405\" x=\"151.869655\" y=\"37.714596\" style=\"fill: #4575b4; fill-opacity: 0.7; stroke: #4575b4; stroke-opacity: 0.7; stroke-width: 0.3\" />\n",
       "     <use xlink:href=\"#m1b89d81405\" x=\"86.93\" y=\"52.849322\" style=\"fill: #4575b4; fill-opacity: 0.7; stroke: #4575b4; stroke-opacity: 0.7; stroke-width: 0.3\" />\n",
       "     <use xlink:href=\"#m1b89d81405\" x=\"103.766207\" y=\"33.523953\" style=\"fill: #4575b4; fill-opacity: 0.7; stroke: #4575b4; stroke-opacity: 0.7; stroke-width: 0.3\" />\n",
       "     <use xlink:href=\"#m1b89d81405\" x=\"91.740345\" y=\"30.332591\" style=\"fill: #4575b4; fill-opacity: 0.7; stroke: #4575b4; stroke-opacity: 0.7; stroke-width: 0.3\" />\n",
       "     <use xlink:href=\"#m1b89d81405\" x=\"127.817931\" y=\"21.476615\" style=\"fill: #4575b4; fill-opacity: 0.7; stroke: #4575b4; stroke-opacity: 0.7; stroke-width: 0.3\" />\n",
       "     <use xlink:href=\"#m1b89d81405\" x=\"17.18\" y=\"51.320203\" style=\"fill: #4575b4; fill-opacity: 0.7; stroke: #4575b4; stroke-opacity: 0.7; stroke-width: 0.3\" />\n",
       "     <use xlink:href=\"#m1b89d81405\" x=\"139.843793\" y=\"8.545522\" style=\"fill: #4575b4; fill-opacity: 0.7; stroke: #4575b4; stroke-opacity: 0.7; stroke-width: 0.3\" />\n",
       "     <use xlink:href=\"#m1b89d81405\" x=\"17.18\" y=\"58.345139\" style=\"fill: #4575b4; fill-opacity: 0.7; stroke: #4575b4; stroke-opacity: 0.7; stroke-width: 0.3\" />\n",
       "     <use xlink:href=\"#m1b89d81405\" x=\"103.766207\" y=\"48.907529\" style=\"fill: #4575b4; fill-opacity: 0.7; stroke: #4575b4; stroke-opacity: 0.7; stroke-width: 0.3\" />\n",
       "     <use xlink:href=\"#m1b89d81405\" x=\"108.576552\" y=\"22.916062\" style=\"fill: #4575b4; fill-opacity: 0.7; stroke: #4575b4; stroke-opacity: 0.7; stroke-width: 0.3\" />\n",
       "     <use xlink:href=\"#m1b89d81405\" x=\"125.412759\" y=\"20.573894\" style=\"fill: #4575b4; fill-opacity: 0.7; stroke: #4575b4; stroke-opacity: 0.7; stroke-width: 0.3\" />\n",
       "     <use xlink:href=\"#m1b89d81405\" x=\"130.223103\" y=\"37.00698\" style=\"fill: #4575b4; fill-opacity: 0.7; stroke: #4575b4; stroke-opacity: 0.7; stroke-width: 0.3\" />\n",
       "     <use xlink:href=\"#m1b89d81405\" x=\"17.18\" y=\"56.332348\" style=\"fill: #4575b4; fill-opacity: 0.7; stroke: #4575b4; stroke-opacity: 0.7; stroke-width: 0.3\" />\n",
       "     <use xlink:href=\"#m1b89d81405\" x=\"17.18\" y=\"43.090643\" style=\"fill: #4575b4; fill-opacity: 0.7; stroke: #4575b4; stroke-opacity: 0.7; stroke-width: 0.3\" />\n",
       "     <use xlink:href=\"#m1b89d81405\" x=\"113.386897\" y=\"56.332348\" style=\"fill: #4575b4; fill-opacity: 0.7; stroke: #4575b4; stroke-opacity: 0.7; stroke-width: 0.3\" />\n",
       "     <use xlink:href=\"#m1b89d81405\" x=\"149.464483\" y=\"45.103415\" style=\"fill: #4575b4; fill-opacity: 0.7; stroke: #4575b4; stroke-opacity: 0.7; stroke-width: 0.3\" />\n",
       "     <use xlink:href=\"#m1b89d81405\" x=\"137.438621\" y=\"19.158151\" style=\"fill: #4575b4; fill-opacity: 0.7; stroke: #4575b4; stroke-opacity: 0.7; stroke-width: 0.3\" />\n",
       "     <use xlink:href=\"#m1b89d81405\" x=\"149.464483\" y=\"31.86171\" style=\"fill: #4575b4; fill-opacity: 0.7; stroke: #4575b4; stroke-opacity: 0.7; stroke-width: 0.3\" />\n",
       "     <use xlink:href=\"#m1b89d81405\" x=\"17.18\" y=\"25.586039\" style=\"fill: #4575b4; fill-opacity: 0.7; stroke: #4575b4; stroke-opacity: 0.7; stroke-width: 0.3\" />\n",
       "     <use xlink:href=\"#m1b89d81405\" x=\"106.171379\" y=\"22.750672\" style=\"fill: #4575b4; fill-opacity: 0.7; stroke: #4575b4; stroke-opacity: 0.7; stroke-width: 0.3\" />\n",
       "     <use xlink:href=\"#m1b89d81405\" x=\"147.05931\" y=\"44.57999\" style=\"fill: #4575b4; fill-opacity: 0.7; stroke: #4575b4; stroke-opacity: 0.7; stroke-width: 0.3\" />\n",
       "     <use xlink:href=\"#m1b89d81405\" x=\"113.386897\" y=\"18.356489\" style=\"fill: #4575b4; fill-opacity: 0.7; stroke: #4575b4; stroke-opacity: 0.7; stroke-width: 0.3\" />\n",
       "     <use xlink:href=\"#m1b89d81405\" x=\"139.843793\" y=\"37.357509\" style=\"fill: #4575b4; fill-opacity: 0.7; stroke: #4575b4; stroke-opacity: 0.7; stroke-width: 0.3\" />\n",
       "     <use xlink:href=\"#m1b89d81405\" x=\"151.869655\" y=\"34.718321\" style=\"fill: #4575b4; fill-opacity: 0.7; stroke: #4575b4; stroke-opacity: 0.7; stroke-width: 0.3\" />\n",
       "     <use xlink:href=\"#m1b89d81405\" x=\"149.464483\" y=\"13.833681\" style=\"fill: #4575b4; fill-opacity: 0.7; stroke: #4575b4; stroke-opacity: 0.7; stroke-width: 0.3\" />\n",
       "     <use xlink:href=\"#m1b89d81405\" x=\"120.602414\" y=\"31.86171\" style=\"fill: #4575b4; fill-opacity: 0.7; stroke: #4575b4; stroke-opacity: 0.7; stroke-width: 0.3\" />\n",
       "     <use xlink:href=\"#m1b89d81405\" x=\"132.628276\" y=\"20.573894\" style=\"fill: #4575b4; fill-opacity: 0.7; stroke: #4575b4; stroke-opacity: 0.7; stroke-width: 0.3\" />\n",
       "     <use xlink:href=\"#m1b89d81405\" x=\"120.602414\" y=\"43.820796\" style=\"fill: #4575b4; fill-opacity: 0.7; stroke: #4575b4; stroke-opacity: 0.7; stroke-width: 0.3\" />\n",
       "     <use xlink:href=\"#m1b89d81405\" x=\"98.955862\" y=\"52.069468\" style=\"fill: #4575b4; fill-opacity: 0.7; stroke: #4575b4; stroke-opacity: 0.7; stroke-width: 0.3\" />\n",
       "     <use xlink:href=\"#m1b89d81405\" x=\"130.223103\" y=\"42.158553\" style=\"fill: #4575b4; fill-opacity: 0.7; stroke: #4575b4; stroke-opacity: 0.7; stroke-width: 0.3\" />\n",
       "     <use xlink:href=\"#m1b89d81405\" x=\"130.223103\" y=\"42.853325\" style=\"fill: #4575b4; fill-opacity: 0.7; stroke: #4575b4; stroke-opacity: 0.7; stroke-width: 0.3\" />\n",
       "     <use xlink:href=\"#m1b89d81405\" x=\"86.93\" y=\"40.009814\" style=\"fill: #4575b4; fill-opacity: 0.7; stroke: #4575b4; stroke-opacity: 0.7; stroke-width: 0.3\" />\n",
       "     <use xlink:href=\"#m1b89d81405\" x=\"98.955862\" y=\"28.916848\" style=\"fill: #4575b4; fill-opacity: 0.7; stroke: #4575b4; stroke-opacity: 0.7; stroke-width: 0.3\" />\n",
       "     <use xlink:href=\"#m1b89d81405\" x=\"113.386897\" y=\"27.178942\" style=\"fill: #4575b4; fill-opacity: 0.7; stroke: #4575b4; stroke-opacity: 0.7; stroke-width: 0.3\" />\n",
       "     <use xlink:href=\"#m1b89d81405\" x=\"120.602414\" y=\"31.598194\" style=\"fill: #4575b4; fill-opacity: 0.7; stroke: #4575b4; stroke-opacity: 0.7; stroke-width: 0.3\" />\n",
       "     <use xlink:href=\"#m1b89d81405\" x=\"113.386897\" y=\"34.1118\" style=\"fill: #4575b4; fill-opacity: 0.7; stroke: #4575b4; stroke-opacity: 0.7; stroke-width: 0.3\" />\n",
       "     <use xlink:href=\"#m1b89d81405\" x=\"89.335172\" y=\"30.332591\" style=\"fill: #4575b4; fill-opacity: 0.7; stroke: #4575b4; stroke-opacity: 0.7; stroke-width: 0.3\" />\n",
       "     <use xlink:href=\"#m1b89d81405\" x=\"149.464483\" y=\"50.599232\" style=\"fill: #4575b4; fill-opacity: 0.7; stroke: #4575b4; stroke-opacity: 0.7; stroke-width: 0.3\" />\n",
       "     <use xlink:href=\"#m1b89d81405\" x=\"142.248966\" y=\"22.4241\" style=\"fill: #4575b4; fill-opacity: 0.7; stroke: #4575b4; stroke-opacity: 0.7; stroke-width: 0.3\" />\n",
       "     <use xlink:href=\"#m1b89d81405\" x=\"137.438621\" y=\"54.511565\" style=\"fill: #4575b4; fill-opacity: 0.7; stroke: #4575b4; stroke-opacity: 0.7; stroke-width: 0.3\" />\n",
       "     <use xlink:href=\"#m1b89d81405\" x=\"125.412759\" y=\"38.078498\" style=\"fill: #4575b4; fill-opacity: 0.7; stroke: #4575b4; stroke-opacity: 0.7; stroke-width: 0.3\" />\n",
       "     <use xlink:href=\"#m1b89d81405\" x=\"84.524828\" y=\"52.069468\" style=\"fill: #4575b4; fill-opacity: 0.7; stroke: #4575b4; stroke-opacity: 0.7; stroke-width: 0.3\" />\n",
       "     <use xlink:href=\"#m1b89d81405\" x=\"79.714483\" y=\"45.103415\" style=\"fill: #4575b4; fill-opacity: 0.7; stroke: #4575b4; stroke-opacity: 0.7; stroke-width: 0.3\" />\n",
       "     <use xlink:href=\"#m1b89d81405\" x=\"127.817931\" y=\"37.00698\" style=\"fill: #4575b4; fill-opacity: 0.7; stroke: #4575b4; stroke-opacity: 0.7; stroke-width: 0.3\" />\n",
       "     <use xlink:href=\"#m1b89d81405\" x=\"139.843793\" y=\"27.59883\" style=\"fill: #4575b4; fill-opacity: 0.7; stroke: #4575b4; stroke-opacity: 0.7; stroke-width: 0.3\" />\n",
       "     <use xlink:href=\"#m1b89d81405\" x=\"17.18\" y=\"21.944473\" style=\"fill: #4575b4; fill-opacity: 0.7; stroke: #4575b4; stroke-opacity: 0.7; stroke-width: 0.3\" />\n",
       "     <use xlink:href=\"#m1b89d81405\" x=\"135.033448\" y=\"21.787245\" style=\"fill: #4575b4; fill-opacity: 0.7; stroke: #4575b4; stroke-opacity: 0.7; stroke-width: 0.3\" />\n",
       "     <use xlink:href=\"#m1b89d81405\" x=\"130.223103\" y=\"14.89527\" style=\"fill: #4575b4; fill-opacity: 0.7; stroke: #4575b4; stroke-opacity: 0.7; stroke-width: 0.3\" />\n",
       "     <use xlink:href=\"#m1b89d81405\" x=\"98.955862\" y=\"54.082258\" style=\"fill: #4575b4; fill-opacity: 0.7; stroke: #4575b4; stroke-opacity: 0.7; stroke-width: 0.3\" />\n",
       "     <use xlink:href=\"#m1b89d81405\" x=\"139.843793\" y=\"54.511565\" style=\"fill: #4575b4; fill-opacity: 0.7; stroke: #4575b4; stroke-opacity: 0.7; stroke-width: 0.3\" />\n",
       "     <use xlink:href=\"#m1b89d81405\" x=\"108.576552\" y=\"35.992377\" style=\"fill: #4575b4; fill-opacity: 0.7; stroke: #4575b4; stroke-opacity: 0.7; stroke-width: 0.3\" />\n",
       "     <use xlink:href=\"#m1b89d81405\" x=\"149.464483\" y=\"18.487791\" style=\"fill: #4575b4; fill-opacity: 0.7; stroke: #4575b4; stroke-opacity: 0.7; stroke-width: 0.3\" />\n",
       "     <use xlink:href=\"#m1b89d81405\" x=\"125.412759\" y=\"38.827763\" style=\"fill: #4575b4; fill-opacity: 0.7; stroke: #4575b4; stroke-opacity: 0.7; stroke-width: 0.3\" />\n",
       "     <use xlink:href=\"#m1b89d81405\" x=\"17.18\" y=\"48.586442\" style=\"fill: #4575b4; fill-opacity: 0.7; stroke: #4575b4; stroke-opacity: 0.7; stroke-width: 0.3\" />\n",
       "     <use xlink:href=\"#m1b89d81405\" x=\"137.438621\" y=\"57.312244\" style=\"fill: #4575b4; fill-opacity: 0.7; stroke: #4575b4; stroke-opacity: 0.7; stroke-width: 0.3\" />\n",
       "     <use xlink:href=\"#m1b89d81405\" x=\"115.792069\" y=\"47.960044\" style=\"fill: #4575b4; fill-opacity: 0.7; stroke: #4575b4; stroke-opacity: 0.7; stroke-width: 0.3\" />\n",
       "     <use xlink:href=\"#m1b89d81405\" x=\"91.740345\" y=\"56.332348\" style=\"fill: #4575b4; fill-opacity: 0.7; stroke: #4575b4; stroke-opacity: 0.7; stroke-width: 0.3\" />\n",
       "     <use xlink:href=\"#m1b89d81405\" x=\"151.869655\" y=\"19.158151\" style=\"fill: #4575b4; fill-opacity: 0.7; stroke: #4575b4; stroke-opacity: 0.7; stroke-width: 0.3\" />\n",
       "     <use xlink:href=\"#m1b89d81405\" x=\"103.766207\" y=\"24.836774\" style=\"fill: #4575b4; fill-opacity: 0.7; stroke: #4575b4; stroke-opacity: 0.7; stroke-width: 0.3\" />\n",
       "     <use xlink:href=\"#m1b89d81405\" x=\"101.361034\" y=\"31.338285\" style=\"fill: #4575b4; fill-opacity: 0.7; stroke: #4575b4; stroke-opacity: 0.7; stroke-width: 0.3\" />\n",
       "     <use xlink:href=\"#m1b89d81405\" x=\"17.18\" y=\"59.43708\" style=\"fill: #4575b4; fill-opacity: 0.7; stroke: #4575b4; stroke-opacity: 0.7; stroke-width: 0.3\" />\n",
       "     <use xlink:href=\"#m1b89d81405\" x=\"17.18\" y=\"56.332348\" style=\"fill: #4575b4; fill-opacity: 0.7; stroke: #4575b4; stroke-opacity: 0.7; stroke-width: 0.3\" />\n",
       "     <use xlink:href=\"#m1b89d81405\" x=\"103.766207\" y=\"19.711928\" style=\"fill: #4575b4; fill-opacity: 0.7; stroke: #4575b4; stroke-opacity: 0.7; stroke-width: 0.3\" />\n",
       "     <use xlink:href=\"#m1b89d81405\" x=\"110.981724\" y=\"37.357509\" style=\"fill: #4575b4; fill-opacity: 0.7; stroke: #4575b4; stroke-opacity: 0.7; stroke-width: 0.3\" />\n",
       "     <use xlink:href=\"#m1b89d81405\" x=\"135.033448\" y=\"59.43708\" style=\"fill: #4575b4; fill-opacity: 0.7; stroke: #4575b4; stroke-opacity: 0.7; stroke-width: 0.3\" />\n",
       "     <use xlink:href=\"#m1b89d81405\" x=\"142.248966\" y=\"54.511565\" style=\"fill: #4575b4; fill-opacity: 0.7; stroke: #4575b4; stroke-opacity: 0.7; stroke-width: 0.3\" />\n",
       "     <use xlink:href=\"#m1b89d81405\" x=\"110.981724\" y=\"25.971985\" style=\"fill: #4575b4; fill-opacity: 0.7; stroke: #4575b4; stroke-opacity: 0.7; stroke-width: 0.3\" />\n",
       "     <use xlink:href=\"#m1b89d81405\" x=\"98.955862\" y=\"34.412646\" style=\"fill: #4575b4; fill-opacity: 0.7; stroke: #4575b4; stroke-opacity: 0.7; stroke-width: 0.3\" />\n",
       "     <use xlink:href=\"#m1b89d81405\" x=\"106.171379\" y=\"23.421031\" style=\"fill: #4575b4; fill-opacity: 0.7; stroke: #4575b4; stroke-opacity: 0.7; stroke-width: 0.3\" />\n",
       "     <use xlink:href=\"#m1b89d81405\" x=\"89.335172\" y=\"51.320203\" style=\"fill: #4575b4; fill-opacity: 0.7; stroke: #4575b4; stroke-opacity: 0.7; stroke-width: 0.3\" />\n",
       "     <use xlink:href=\"#m1b89d81405\" x=\"149.464483\" y=\"41.26986\" style=\"fill: #4575b4; fill-opacity: 0.7; stroke: #4575b4; stroke-opacity: 0.7; stroke-width: 0.3\" />\n",
       "     <use xlink:href=\"#m1b89d81405\" x=\"154.274828\" y=\"24.115803\" style=\"fill: #4575b4; fill-opacity: 0.7; stroke: #4575b4; stroke-opacity: 0.7; stroke-width: 0.3\" />\n",
       "     <use xlink:href=\"#m1b89d81405\" x=\"17.18\" y=\"45.103415\" style=\"fill: #4575b4; fill-opacity: 0.7; stroke: #4575b4; stroke-opacity: 0.7; stroke-width: 0.3\" />\n",
       "     <use xlink:href=\"#m1b89d81405\" x=\"101.361034\" y=\"26.365893\" style=\"fill: #4575b4; fill-opacity: 0.7; stroke: #4575b4; stroke-opacity: 0.7; stroke-width: 0.3\" />\n",
       "     <use xlink:href=\"#m1b89d81405\" x=\"120.602414\" y=\"42.158553\" style=\"fill: #4575b4; fill-opacity: 0.7; stroke: #4575b4; stroke-opacity: 0.7; stroke-width: 0.3\" />\n",
       "     <use xlink:href=\"#m1b89d81405\" x=\"98.955862\" y=\"60.595229\" style=\"fill: #4575b4; fill-opacity: 0.7; stroke: #4575b4; stroke-opacity: 0.7; stroke-width: 0.3\" />\n",
       "     <use xlink:href=\"#m1b89d81405\" x=\"60.473103\" y=\"52.069468\" style=\"fill: #4575b4; fill-opacity: 0.7; stroke: #4575b4; stroke-opacity: 0.7; stroke-width: 0.3\" />\n",
       "     <use xlink:href=\"#m1b89d81405\" x=\"113.386897\" y=\"37.714596\" style=\"fill: #4575b4; fill-opacity: 0.7; stroke: #4575b4; stroke-opacity: 0.7; stroke-width: 0.3\" />\n",
       "     <use xlink:href=\"#m1b89d81405\" x=\"132.628276\" y=\"55.2192\" style=\"fill: #4575b4; fill-opacity: 0.7; stroke: #4575b4; stroke-opacity: 0.7; stroke-width: 0.3\" />\n",
       "     <use xlink:href=\"#m1b89d81405\" x=\"62.878276\" y=\"53.662371\" style=\"fill: #4575b4; fill-opacity: 0.7; stroke: #4575b4; stroke-opacity: 0.7; stroke-width: 0.3\" />\n",
       "     <use xlink:href=\"#m1b89d81405\" x=\"154.274828\" y=\"22.262883\" style=\"fill: #4575b4; fill-opacity: 0.7; stroke: #4575b4; stroke-opacity: 0.7; stroke-width: 0.3\" />\n",
       "     <use xlink:href=\"#m1b89d81405\" x=\"84.524828\" y=\"39.607617\" style=\"fill: #4575b4; fill-opacity: 0.7; stroke: #4575b4; stroke-opacity: 0.7; stroke-width: 0.3\" />\n",
       "     <use xlink:href=\"#m1b89d81405\" x=\"137.438621\" y=\"21.323159\" style=\"fill: #4575b4; fill-opacity: 0.7; stroke: #4575b4; stroke-opacity: 0.7; stroke-width: 0.3\" />\n",
       "     <use xlink:href=\"#m1b89d81405\" x=\"125.412759\" y=\"57.312244\" style=\"fill: #4575b4; fill-opacity: 0.7; stroke: #4575b4; stroke-opacity: 0.7; stroke-width: 0.3\" />\n",
       "     <use xlink:href=\"#m1b89d81405\" x=\"86.93\" y=\"48.586442\" style=\"fill: #4575b4; fill-opacity: 0.7; stroke: #4575b4; stroke-opacity: 0.7; stroke-width: 0.3\" />\n",
       "     <use xlink:href=\"#m1b89d81405\" x=\"130.223103\" y=\"15.675124\" style=\"fill: #4575b4; fill-opacity: 0.7; stroke: #4575b4; stroke-opacity: 0.7; stroke-width: 0.3\" />\n",
       "     <use xlink:href=\"#m1b89d81405\" x=\"135.033448\" y=\"32.953652\" style=\"fill: #4575b4; fill-opacity: 0.7; stroke: #4575b4; stroke-opacity: 0.7; stroke-width: 0.3\" />\n",
       "     <use xlink:href=\"#m1b89d81405\" x=\"110.981724\" y=\"35.344736\" style=\"fill: #4575b4; fill-opacity: 0.7; stroke: #4575b4; stroke-opacity: 0.7; stroke-width: 0.3\" />\n",
       "     <use xlink:href=\"#m1b89d81405\" x=\"65.283448\" y=\"48.586442\" style=\"fill: #4575b4; fill-opacity: 0.7; stroke: #4575b4; stroke-opacity: 0.7; stroke-width: 0.3\" />\n",
       "     <use xlink:href=\"#m1b89d81405\" x=\"132.628276\" y=\"47.960044\" style=\"fill: #4575b4; fill-opacity: 0.7; stroke: #4575b4; stroke-opacity: 0.7; stroke-width: 0.3\" />\n",
       "     <use xlink:href=\"#m1b89d81405\" x=\"130.223103\" y=\"51.320203\" style=\"fill: #4575b4; fill-opacity: 0.7; stroke: #4575b4; stroke-opacity: 0.7; stroke-width: 0.3\" />\n",
       "     <use xlink:href=\"#m1b89d81405\" x=\"113.386897\" y=\"42.158553\" style=\"fill: #4575b4; fill-opacity: 0.7; stroke: #4575b4; stroke-opacity: 0.7; stroke-width: 0.3\" />\n",
       "     <use xlink:href=\"#m1b89d81405\" x=\"149.464483\" y=\"32.399874\" style=\"fill: #4575b4; fill-opacity: 0.7; stroke: #4575b4; stroke-opacity: 0.7; stroke-width: 0.3\" />\n",
       "     <use xlink:href=\"#m1b89d81405\" x=\"17.18\" y=\"60.123509\" style=\"fill: #4575b4; fill-opacity: 0.7; stroke: #4575b4; stroke-opacity: 0.7; stroke-width: 0.3\" />\n",
       "     <use xlink:href=\"#m1b89d81405\" x=\"139.843793\" y=\"22.750672\" style=\"fill: #4575b4; fill-opacity: 0.7; stroke: #4575b4; stroke-opacity: 0.7; stroke-width: 0.3\" />\n",
       "     <use xlink:href=\"#m1b89d81405\" x=\"132.628276\" y=\"39.607617\" style=\"fill: #4575b4; fill-opacity: 0.7; stroke: #4575b4; stroke-opacity: 0.7; stroke-width: 0.3\" />\n",
       "     <use xlink:href=\"#m1b89d81405\" x=\"113.386897\" y=\"32.399874\" style=\"fill: #4575b4; fill-opacity: 0.7; stroke: #4575b4; stroke-opacity: 0.7; stroke-width: 0.3\" />\n",
       "     <use xlink:href=\"#m1b89d81405\" x=\"17.18\" y=\"33.523953\" style=\"fill: #4575b4; fill-opacity: 0.7; stroke: #4575b4; stroke-opacity: 0.7; stroke-width: 0.3\" />\n",
       "     <use xlink:href=\"#m1b89d81405\" x=\"79.714483\" y=\"54.511565\" style=\"fill: #4575b4; fill-opacity: 0.7; stroke: #4575b4; stroke-opacity: 0.7; stroke-width: 0.3\" />\n",
       "     <use xlink:href=\"#m1b89d81405\" x=\"130.223103\" y=\"44.070539\" style=\"fill: #4575b4; fill-opacity: 0.7; stroke: #4575b4; stroke-opacity: 0.7; stroke-width: 0.3\" />\n",
       "     <use xlink:href=\"#m1b89d81405\" x=\"108.576552\" y=\"20.870095\" style=\"fill: #4575b4; fill-opacity: 0.7; stroke: #4575b4; stroke-opacity: 0.7; stroke-width: 0.3\" />\n",
       "     <use xlink:href=\"#m1b89d81405\" x=\"147.05931\" y=\"60.595229\" style=\"fill: #4575b4; fill-opacity: 0.7; stroke: #4575b4; stroke-opacity: 0.7; stroke-width: 0.3\" />\n",
       "     <use xlink:href=\"#m1b89d81405\" x=\"108.576552\" y=\"39.213709\" style=\"fill: #4575b4; fill-opacity: 0.7; stroke: #4575b4; stroke-opacity: 0.7; stroke-width: 0.3\" />\n",
       "     <use xlink:href=\"#m1b89d81405\" x=\"135.033448\" y=\"35.992377\" style=\"fill: #4575b4; fill-opacity: 0.7; stroke: #4575b4; stroke-opacity: 0.7; stroke-width: 0.3\" />\n",
       "     <use xlink:href=\"#m1b89d81405\" x=\"130.223103\" y=\"29.84892\" style=\"fill: #4575b4; fill-opacity: 0.7; stroke: #4575b4; stroke-opacity: 0.7; stroke-width: 0.3\" />\n",
       "     <use xlink:href=\"#m1b89d81405\" x=\"70.093793\" y=\"59.43708\" style=\"fill: #4575b4; fill-opacity: 0.7; stroke: #4575b4; stroke-opacity: 0.7; stroke-width: 0.3\" />\n",
       "     <use xlink:href=\"#m1b89d81405\" x=\"135.033448\" y=\"26.365893\" style=\"fill: #4575b4; fill-opacity: 0.7; stroke: #4575b4; stroke-opacity: 0.7; stroke-width: 0.3\" />\n",
       "     <use xlink:href=\"#m1b89d81405\" x=\"110.981724\" y=\"22.103013\" style=\"fill: #4575b4; fill-opacity: 0.7; stroke: #4575b4; stroke-opacity: 0.7; stroke-width: 0.3\" />\n",
       "     <use xlink:href=\"#m1b89d81405\" x=\"62.878276\" y=\"46.195357\" style=\"fill: #4575b4; fill-opacity: 0.7; stroke: #4575b4; stroke-opacity: 0.7; stroke-width: 0.3\" />\n",
       "     <use xlink:href=\"#m1b89d81405\" x=\"149.464483\" y=\"30.332591\" style=\"fill: #4575b4; fill-opacity: 0.7; stroke: #4575b4; stroke-opacity: 0.7; stroke-width: 0.3\" />\n",
       "     <use xlink:href=\"#m1b89d81405\" x=\"151.869655\" y=\"14.146024\" style=\"fill: #4575b4; fill-opacity: 0.7; stroke: #4575b4; stroke-opacity: 0.7; stroke-width: 0.3\" />\n",
       "     <use xlink:href=\"#m1b89d81405\" x=\"149.464483\" y=\"34.1118\" style=\"fill: #4575b4; fill-opacity: 0.7; stroke: #4575b4; stroke-opacity: 0.7; stroke-width: 0.3\" />\n",
       "     <use xlink:href=\"#m1b89d81405\" x=\"17.18\" y=\"55.400277\" style=\"fill: #4575b4; fill-opacity: 0.7; stroke: #4575b4; stroke-opacity: 0.7; stroke-width: 0.3\" />\n",
       "     <use xlink:href=\"#m1b89d81405\" x=\"60.473103\" y=\"35.344736\" style=\"fill: #4575b4; fill-opacity: 0.7; stroke: #4575b4; stroke-opacity: 0.7; stroke-width: 0.3\" />\n",
       "     <use xlink:href=\"#m1b89d81405\" x=\"149.464483\" y=\"33.523953\" style=\"fill: #4575b4; fill-opacity: 0.7; stroke: #4575b4; stroke-opacity: 0.7; stroke-width: 0.3\" />\n",
       "     <use xlink:href=\"#m1b89d81405\" x=\"17.18\" y=\"54.511565\" style=\"fill: #4575b4; fill-opacity: 0.7; stroke: #4575b4; stroke-opacity: 0.7; stroke-width: 0.3\" />\n",
       "     <use xlink:href=\"#m1b89d81405\" x=\"139.843793\" y=\"40.840535\" style=\"fill: #4575b4; fill-opacity: 0.7; stroke: #4575b4; stroke-opacity: 0.7; stroke-width: 0.3\" />\n",
       "     <use xlink:href=\"#m1b89d81405\" x=\"77.30931\" y=\"58.345139\" style=\"fill: #4575b4; fill-opacity: 0.7; stroke: #4575b4; stroke-opacity: 0.7; stroke-width: 0.3\" />\n",
       "     <use xlink:href=\"#m1b89d81405\" x=\"147.05931\" y=\"26.565935\" style=\"fill: #4575b4; fill-opacity: 0.7; stroke: #4575b4; stroke-opacity: 0.7; stroke-width: 0.3\" />\n",
       "     <use xlink:href=\"#m1b89d81405\" x=\"149.464483\" y=\"31.081856\" style=\"fill: #4575b4; fill-opacity: 0.7; stroke: #4575b4; stroke-opacity: 0.7; stroke-width: 0.3\" />\n",
       "     <use xlink:href=\"#m1b89d81405\" x=\"147.05931\" y=\"41.26986\" style=\"fill: #4575b4; fill-opacity: 0.7; stroke: #4575b4; stroke-opacity: 0.7; stroke-width: 0.3\" />\n",
       "     <use xlink:href=\"#m1b89d81405\" x=\"137.438621\" y=\"38.44945\" style=\"fill: #4575b4; fill-opacity: 0.7; stroke: #4575b4; stroke-opacity: 0.7; stroke-width: 0.3\" />\n",
       "     <use xlink:href=\"#m1b89d81405\" x=\"130.223103\" y=\"44.57999\" style=\"fill: #4575b4; fill-opacity: 0.7; stroke: #4575b4; stroke-opacity: 0.7; stroke-width: 0.3\" />\n",
       "     <use xlink:href=\"#m1b89d81405\" x=\"17.18\" y=\"44.57999\" style=\"fill: #4575b4; fill-opacity: 0.7; stroke: #4575b4; stroke-opacity: 0.7; stroke-width: 0.3\" />\n",
       "     <use xlink:href=\"#m1b89d81405\" x=\"84.524828\" y=\"49.90446\" style=\"fill: #4575b4; fill-opacity: 0.7; stroke: #4575b4; stroke-opacity: 0.7; stroke-width: 0.3\" />\n",
       "     <use xlink:href=\"#m1b89d81405\" x=\"132.628276\" y=\"39.213709\" style=\"fill: #4575b4; fill-opacity: 0.7; stroke: #4575b4; stroke-opacity: 0.7; stroke-width: 0.3\" />\n",
       "     <use xlink:href=\"#m1b89d81405\" x=\"144.654138\" y=\"35.992377\" style=\"fill: #4575b4; fill-opacity: 0.7; stroke: #4575b4; stroke-opacity: 0.7; stroke-width: 0.3\" />\n",
       "     <use xlink:href=\"#m1b89d81405\" x=\"108.576552\" y=\"25.586039\" style=\"fill: #4575b4; fill-opacity: 0.7; stroke: #4575b4; stroke-opacity: 0.7; stroke-width: 0.3\" />\n",
       "     <use xlink:href=\"#m1b89d81405\" x=\"113.386897\" y=\"39.607617\" style=\"fill: #4575b4; fill-opacity: 0.7; stroke: #4575b4; stroke-opacity: 0.7; stroke-width: 0.3\" />\n",
       "     <use xlink:href=\"#m1b89d81405\" x=\"139.843793\" y=\"25.586039\" style=\"fill: #4575b4; fill-opacity: 0.7; stroke: #4575b4; stroke-opacity: 0.7; stroke-width: 0.3\" />\n",
       "     <use xlink:href=\"#m1b89d81405\" x=\"132.628276\" y=\"38.827763\" style=\"fill: #4575b4; fill-opacity: 0.7; stroke: #4575b4; stroke-opacity: 0.7; stroke-width: 0.3\" />\n",
       "     <use xlink:href=\"#m1b89d81405\" x=\"123.007586\" y=\"35.992377\" style=\"fill: #4575b4; fill-opacity: 0.7; stroke: #4575b4; stroke-opacity: 0.7; stroke-width: 0.3\" />\n",
       "     <use xlink:href=\"#m1b89d81405\" x=\"130.223103\" y=\"23.765256\" style=\"fill: #4575b4; fill-opacity: 0.7; stroke: #4575b4; stroke-opacity: 0.7; stroke-width: 0.3\" />\n",
       "     <use xlink:href=\"#m1b89d81405\" x=\"98.955862\" y=\"23.765256\" style=\"fill: #4575b4; fill-opacity: 0.7; stroke: #4575b4; stroke-opacity: 0.7; stroke-width: 0.3\" />\n",
       "     <use xlink:href=\"#m1b89d81405\" x=\"82.119655\" y=\"38.827763\" style=\"fill: #4575b4; fill-opacity: 0.7; stroke: #4575b4; stroke-opacity: 0.7; stroke-width: 0.3\" />\n",
       "     <use xlink:href=\"#m1b89d81405\" x=\"120.602414\" y=\"44.070539\" style=\"fill: #4575b4; fill-opacity: 0.7; stroke: #4575b4; stroke-opacity: 0.7; stroke-width: 0.3\" />\n",
       "     <use xlink:href=\"#m1b89d81405\" x=\"123.007586\" y=\"22.750672\" style=\"fill: #4575b4; fill-opacity: 0.7; stroke: #4575b4; stroke-opacity: 0.7; stroke-width: 0.3\" />\n",
       "     <use xlink:href=\"#m1b89d81405\" x=\"84.524828\" y=\"19.295101\" style=\"fill: #4575b4; fill-opacity: 0.7; stroke: #4575b4; stroke-opacity: 0.7; stroke-width: 0.3\" />\n",
       "     <use xlink:href=\"#m1b89d81405\" x=\"17.18\" y=\"41.26986\" style=\"fill: #4575b4; fill-opacity: 0.7; stroke: #4575b4; stroke-opacity: 0.7; stroke-width: 0.3\" />\n",
       "     <use xlink:href=\"#m1b89d81405\" x=\"144.654138\" y=\"17.213735\" style=\"fill: #4575b4; fill-opacity: 0.7; stroke: #4575b4; stroke-opacity: 0.7; stroke-width: 0.3\" />\n",
       "     <use xlink:href=\"#m1b89d81405\" x=\"118.197241\" y=\"44.070539\" style=\"fill: #4575b4; fill-opacity: 0.7; stroke: #4575b4; stroke-opacity: 0.7; stroke-width: 0.3\" />\n",
       "     <use xlink:href=\"#m1b89d81405\" x=\"77.30931\" y=\"52.849322\" style=\"fill: #4575b4; fill-opacity: 0.7; stroke: #4575b4; stroke-opacity: 0.7; stroke-width: 0.3\" />\n",
       "     <use xlink:href=\"#m1b89d81405\" x=\"132.628276\" y=\"45.103415\" style=\"fill: #4575b4; fill-opacity: 0.7; stroke: #4575b4; stroke-opacity: 0.7; stroke-width: 0.3\" />\n",
       "     <use xlink:href=\"#m1b89d81405\" x=\"113.386897\" y=\"50.599232\" style=\"fill: #4575b4; fill-opacity: 0.7; stroke: #4575b4; stroke-opacity: 0.7; stroke-width: 0.3\" />\n",
       "     <use xlink:href=\"#m1b89d81405\" x=\"139.843793\" y=\"52.849322\" style=\"fill: #4575b4; fill-opacity: 0.7; stroke: #4575b4; stroke-opacity: 0.7; stroke-width: 0.3\" />\n",
       "     <use xlink:href=\"#m1b89d81405\" x=\"147.05931\" y=\"44.57999\" style=\"fill: #4575b4; fill-opacity: 0.7; stroke: #4575b4; stroke-opacity: 0.7; stroke-width: 0.3\" />\n",
       "     <use xlink:href=\"#m1b89d81405\" x=\"96.55069\" y=\"22.103013\" style=\"fill: #4575b4; fill-opacity: 0.7; stroke: #4575b4; stroke-opacity: 0.7; stroke-width: 0.3\" />\n",
       "     <use xlink:href=\"#m1b89d81405\" x=\"132.628276\" y=\"47.353523\" style=\"fill: #4575b4; fill-opacity: 0.7; stroke: #4575b4; stroke-opacity: 0.7; stroke-width: 0.3\" />\n",
       "     <use xlink:href=\"#m1b89d81405\" x=\"74.904138\" y=\"56.332348\" style=\"fill: #4575b4; fill-opacity: 0.7; stroke: #4575b4; stroke-opacity: 0.7; stroke-width: 0.3\" />\n",
       "     <use xlink:href=\"#m1b89d81405\" x=\"79.714483\" y=\"36.662754\" style=\"fill: #4575b4; fill-opacity: 0.7; stroke: #4575b4; stroke-opacity: 0.7; stroke-width: 0.3\" />\n",
       "     <use xlink:href=\"#m1b89d81405\" x=\"132.628276\" y=\"46.765659\" style=\"fill: #4575b4; fill-opacity: 0.7; stroke: #4575b4; stroke-opacity: 0.7; stroke-width: 0.3\" />\n",
       "     <use xlink:href=\"#m1b89d81405\" x=\"84.524828\" y=\"20.573894\" style=\"fill: #4575b4; fill-opacity: 0.7; stroke: #4575b4; stroke-opacity: 0.7; stroke-width: 0.3\" />\n",
       "     <use xlink:href=\"#m1b89d81405\" x=\"108.576552\" y=\"27.178942\" style=\"fill: #4575b4; fill-opacity: 0.7; stroke: #4575b4; stroke-opacity: 0.7; stroke-width: 0.3\" />\n",
       "     <use xlink:href=\"#m1b89d81405\" x=\"135.033448\" y=\"38.827763\" style=\"fill: #4575b4; fill-opacity: 0.7; stroke: #4575b4; stroke-opacity: 0.7; stroke-width: 0.3\" />\n",
       "     <use xlink:href=\"#m1b89d81405\" x=\"17.18\" y=\"49.2341\" style=\"fill: #4575b4; fill-opacity: 0.7; stroke: #4575b4; stroke-opacity: 0.7; stroke-width: 0.3\" />\n",
       "     <use xlink:href=\"#m1b89d81405\" x=\"125.412759\" y=\"52.849322\" style=\"fill: #4575b4; fill-opacity: 0.7; stroke: #4575b4; stroke-opacity: 0.7; stroke-width: 0.3\" />\n",
       "     <use xlink:href=\"#m1b89d81405\" x=\"17.18\" y=\"34.1118\" style=\"fill: #4575b4; fill-opacity: 0.7; stroke: #4575b4; stroke-opacity: 0.7; stroke-width: 0.3\" />\n",
       "     <use xlink:href=\"#m1b89d81405\" x=\"17.18\" y=\"52.849322\" style=\"fill: #4575b4; fill-opacity: 0.7; stroke: #4575b4; stroke-opacity: 0.7; stroke-width: 0.3\" />\n",
       "     <use xlink:href=\"#m1b89d81405\" x=\"120.602414\" y=\"15.225613\" style=\"fill: #4575b4; fill-opacity: 0.7; stroke: #4575b4; stroke-opacity: 0.7; stroke-width: 0.3\" />\n",
       "     <use xlink:href=\"#m1b89d81405\" x=\"137.438621\" y=\"40.420665\" style=\"fill: #4575b4; fill-opacity: 0.7; stroke: #4575b4; stroke-opacity: 0.7; stroke-width: 0.3\" />\n",
       "     <use xlink:href=\"#m1b89d81405\" x=\"137.438621\" y=\"37.357509\" style=\"fill: #4575b4; fill-opacity: 0.7; stroke: #4575b4; stroke-opacity: 0.7; stroke-width: 0.3\" />\n",
       "     <use xlink:href=\"#m1b89d81405\" x=\"108.576552\" y=\"34.1118\" style=\"fill: #4575b4; fill-opacity: 0.7; stroke: #4575b4; stroke-opacity: 0.7; stroke-width: 0.3\" />\n",
       "     <use xlink:href=\"#m1b89d81405\" x=\"91.740345\" y=\"41.26986\" style=\"fill: #4575b4; fill-opacity: 0.7; stroke: #4575b4; stroke-opacity: 0.7; stroke-width: 0.3\" />\n",
       "     <use xlink:href=\"#m1b89d81405\" x=\"103.766207\" y=\"32.674759\" style=\"fill: #4575b4; fill-opacity: 0.7; stroke: #4575b4; stroke-opacity: 0.7; stroke-width: 0.3\" />\n",
       "     <use xlink:href=\"#m1b89d81405\" x=\"125.412759\" y=\"12.344334\" style=\"fill: #4575b4; fill-opacity: 0.7; stroke: #4575b4; stroke-opacity: 0.7; stroke-width: 0.3\" />\n",
       "     <use xlink:href=\"#m1b89d81405\" x=\"151.869655\" y=\"15.004765\" style=\"fill: #4575b4; fill-opacity: 0.7; stroke: #4575b4; stroke-opacity: 0.7; stroke-width: 0.3\" />\n",
       "     <use xlink:href=\"#m1b89d81405\" x=\"125.412759\" y=\"39.607617\" style=\"fill: #4575b4; fill-opacity: 0.7; stroke: #4575b4; stroke-opacity: 0.7; stroke-width: 0.3\" />\n",
       "     <use xlink:href=\"#m1b89d81405\" x=\"127.817931\" y=\"49.90446\" style=\"fill: #4575b4; fill-opacity: 0.7; stroke: #4575b4; stroke-opacity: 0.7; stroke-width: 0.3\" />\n",
       "     <use xlink:href=\"#m1b89d81405\" x=\"147.05931\" y=\"22.4241\" style=\"fill: #4575b4; fill-opacity: 0.7; stroke: #4575b4; stroke-opacity: 0.7; stroke-width: 0.3\" />\n",
       "     <use xlink:href=\"#m1b89d81405\" x=\"127.817931\" y=\"34.1118\" style=\"fill: #4575b4; fill-opacity: 0.7; stroke: #4575b4; stroke-opacity: 0.7; stroke-width: 0.3\" />\n",
       "     <use xlink:href=\"#m1b89d81405\" x=\"108.576552\" y=\"59.43708\" style=\"fill: #4575b4; fill-opacity: 0.7; stroke: #4575b4; stroke-opacity: 0.7; stroke-width: 0.3\" />\n",
       "     <use xlink:href=\"#m1b89d81405\" x=\"62.878276\" y=\"41.709042\" style=\"fill: #4575b4; fill-opacity: 0.7; stroke: #4575b4; stroke-opacity: 0.7; stroke-width: 0.3\" />\n",
       "     <use xlink:href=\"#m1b89d81405\" x=\"139.843793\" y=\"34.718321\" style=\"fill: #4575b4; fill-opacity: 0.7; stroke: #4575b4; stroke-opacity: 0.7; stroke-width: 0.3\" />\n",
       "     <use xlink:href=\"#m1b89d81405\" x=\"127.817931\" y=\"35.028951\" style=\"fill: #4575b4; fill-opacity: 0.7; stroke: #4575b4; stroke-opacity: 0.7; stroke-width: 0.3\" />\n",
       "     <use xlink:href=\"#m1b89d81405\" x=\"130.223103\" y=\"38.078498\" style=\"fill: #4575b4; fill-opacity: 0.7; stroke: #4575b4; stroke-opacity: 0.7; stroke-width: 0.3\" />\n",
       "     <use xlink:href=\"#m1b89d81405\" x=\"17.18\" y=\"46.765659\" style=\"fill: #4575b4; fill-opacity: 0.7; stroke: #4575b4; stroke-opacity: 0.7; stroke-width: 0.3\" />\n",
       "     <use xlink:href=\"#m1b89d81405\" x=\"132.628276\" y=\"40.009814\" style=\"fill: #4575b4; fill-opacity: 0.7; stroke: #4575b4; stroke-opacity: 0.7; stroke-width: 0.3\" />\n",
       "     <use xlink:href=\"#m1b89d81405\" x=\"17.18\" y=\"52.069468\" style=\"fill: #4575b4; fill-opacity: 0.7; stroke: #4575b4; stroke-opacity: 0.7; stroke-width: 0.3\" />\n",
       "     <use xlink:href=\"#m1b89d81405\" x=\"17.18\" y=\"30.828816\" style=\"fill: #4575b4; fill-opacity: 0.7; stroke: #4575b4; stroke-opacity: 0.7; stroke-width: 0.3\" />\n",
       "     <use xlink:href=\"#m1b89d81405\" x=\"135.033448\" y=\"38.078498\" style=\"fill: #4575b4; fill-opacity: 0.7; stroke: #4575b4; stroke-opacity: 0.7; stroke-width: 0.3\" />\n",
       "     <use xlink:href=\"#m1b89d81405\" x=\"137.438621\" y=\"27.59883\" style=\"fill: #4575b4; fill-opacity: 0.7; stroke: #4575b4; stroke-opacity: 0.7; stroke-width: 0.3\" />\n",
       "     <use xlink:href=\"#m1b89d81405\" x=\"149.464483\" y=\"35.344736\" style=\"fill: #4575b4; fill-opacity: 0.7; stroke: #4575b4; stroke-opacity: 0.7; stroke-width: 0.3\" />\n",
       "     <use xlink:href=\"#m1b89d81405\" x=\"17.18\" y=\"39.607617\" style=\"fill: #4575b4; fill-opacity: 0.7; stroke: #4575b4; stroke-opacity: 0.7; stroke-width: 0.3\" />\n",
       "     <use xlink:href=\"#m1b89d81405\" x=\"101.361034\" y=\"52.849322\" style=\"fill: #4575b4; fill-opacity: 0.7; stroke: #4575b4; stroke-opacity: 0.7; stroke-width: 0.3\" />\n",
       "     <use xlink:href=\"#m1b89d81405\" x=\"135.033448\" y=\"35.344736\" style=\"fill: #4575b4; fill-opacity: 0.7; stroke: #4575b4; stroke-opacity: 0.7; stroke-width: 0.3\" />\n",
       "     <use xlink:href=\"#m1b89d81405\" x=\"98.955862\" y=\"44.070539\" style=\"fill: #4575b4; fill-opacity: 0.7; stroke: #4575b4; stroke-opacity: 0.7; stroke-width: 0.3\" />\n",
       "     <use xlink:href=\"#m1b89d81405\" x=\"144.654138\" y=\"38.827763\" style=\"fill: #4575b4; fill-opacity: 0.7; stroke: #4575b4; stroke-opacity: 0.7; stroke-width: 0.3\" />\n",
       "     <use xlink:href=\"#m1b89d81405\" x=\"135.033448\" y=\"47.353523\" style=\"fill: #4575b4; fill-opacity: 0.7; stroke: #4575b4; stroke-opacity: 0.7; stroke-width: 0.3\" />\n",
       "     <use xlink:href=\"#m1b89d81405\" x=\"147.05931\" y=\"36.662754\" style=\"fill: #4575b4; fill-opacity: 0.7; stroke: #4575b4; stroke-opacity: 0.7; stroke-width: 0.3\" />\n",
       "     <use xlink:href=\"#m1b89d81405\" x=\"135.033448\" y=\"50.599232\" style=\"fill: #4575b4; fill-opacity: 0.7; stroke: #4575b4; stroke-opacity: 0.7; stroke-width: 0.3\" />\n",
       "     <use xlink:href=\"#m1b89d81405\" x=\"108.576552\" y=\"42.618923\" style=\"fill: #4575b4; fill-opacity: 0.7; stroke: #4575b4; stroke-opacity: 0.7; stroke-width: 0.3\" />\n",
       "     <use xlink:href=\"#m1b89d81405\" x=\"151.869655\" y=\"32.953652\" style=\"fill: #4575b4; fill-opacity: 0.7; stroke: #4575b4; stroke-opacity: 0.7; stroke-width: 0.3\" />\n",
       "     <use xlink:href=\"#m1b89d81405\" x=\"106.171379\" y=\"39.213709\" style=\"fill: #4575b4; fill-opacity: 0.7; stroke: #4575b4; stroke-opacity: 0.7; stroke-width: 0.3\" />\n",
       "     <use xlink:href=\"#m1b89d81405\" x=\"108.576552\" y=\"31.86171\" style=\"fill: #4575b4; fill-opacity: 0.7; stroke: #4575b4; stroke-opacity: 0.7; stroke-width: 0.3\" />\n",
       "     <use xlink:href=\"#m1b89d81405\" x=\"130.223103\" y=\"35.992377\" style=\"fill: #4575b4; fill-opacity: 0.7; stroke: #4575b4; stroke-opacity: 0.7; stroke-width: 0.3\" />\n",
       "     <use xlink:href=\"#m1b89d81405\" x=\"86.93\" y=\"46.195357\" style=\"fill: #4575b4; fill-opacity: 0.7; stroke: #4575b4; stroke-opacity: 0.7; stroke-width: 0.3\" />\n",
       "     <use xlink:href=\"#m1b89d81405\" x=\"149.464483\" y=\"23.765256\" style=\"fill: #4575b4; fill-opacity: 0.7; stroke: #4575b4; stroke-opacity: 0.7; stroke-width: 0.3\" />\n",
       "     <use xlink:href=\"#m1b89d81405\" x=\"130.223103\" y=\"43.090643\" style=\"fill: #4575b4; fill-opacity: 0.7; stroke: #4575b4; stroke-opacity: 0.7; stroke-width: 0.3\" />\n",
       "     <use xlink:href=\"#m1b89d81405\" x=\"17.18\" y=\"60.007382\" style=\"fill: #4575b4; fill-opacity: 0.7; stroke: #4575b4; stroke-opacity: 0.7; stroke-width: 0.3\" />\n",
       "     <use xlink:href=\"#m1b89d81405\" x=\"127.817931\" y=\"28.028137\" style=\"fill: #4575b4; fill-opacity: 0.7; stroke: #4575b4; stroke-opacity: 0.7; stroke-width: 0.3\" />\n",
       "     <use xlink:href=\"#m1b89d81405\" x=\"91.740345\" y=\"43.090643\" style=\"fill: #4575b4; fill-opacity: 0.7; stroke: #4575b4; stroke-opacity: 0.7; stroke-width: 0.3\" />\n",
       "     <use xlink:href=\"#m1b89d81405\" x=\"106.171379\" y=\"41.26986\" style=\"fill: #4575b4; fill-opacity: 0.7; stroke: #4575b4; stroke-opacity: 0.7; stroke-width: 0.3\" />\n",
       "     <use xlink:href=\"#m1b89d81405\" x=\"127.817931\" y=\"31.338285\" style=\"fill: #4575b4; fill-opacity: 0.7; stroke: #4575b4; stroke-opacity: 0.7; stroke-width: 0.3\" />\n",
       "     <use xlink:href=\"#m1b89d81405\" x=\"103.766207\" y=\"26.565935\" style=\"fill: #4575b4; fill-opacity: 0.7; stroke: #4575b4; stroke-opacity: 0.7; stroke-width: 0.3\" />\n",
       "     <use xlink:href=\"#m1b89d81405\" x=\"84.524828\" y=\"20.573894\" style=\"fill: #4575b4; fill-opacity: 0.7; stroke: #4575b4; stroke-opacity: 0.7; stroke-width: 0.3\" />\n",
       "     <use xlink:href=\"#m1b89d81405\" x=\"130.223103\" y=\"29.84892\" style=\"fill: #4575b4; fill-opacity: 0.7; stroke: #4575b4; stroke-opacity: 0.7; stroke-width: 0.3\" />\n",
       "     <use xlink:href=\"#m1b89d81405\" x=\"108.576552\" y=\"50.248685\" style=\"fill: #4575b4; fill-opacity: 0.7; stroke: #4575b4; stroke-opacity: 0.7; stroke-width: 0.3\" />\n",
       "     <use xlink:href=\"#m1b89d81405\" x=\"98.955862\" y=\"51.320203\" style=\"fill: #4575b4; fill-opacity: 0.7; stroke: #4575b4; stroke-opacity: 0.7; stroke-width: 0.3\" />\n",
       "     <use xlink:href=\"#m1b89d81405\" x=\"110.981724\" y=\"44.57999\" style=\"fill: #4575b4; fill-opacity: 0.7; stroke: #4575b4; stroke-opacity: 0.7; stroke-width: 0.3\" />\n",
       "     <use xlink:href=\"#m1b89d81405\" x=\"108.576552\" y=\"33.523953\" style=\"fill: #4575b4; fill-opacity: 0.7; stroke: #4575b4; stroke-opacity: 0.7; stroke-width: 0.3\" />\n",
       "     <use xlink:href=\"#m1b89d81405\" x=\"139.843793\" y=\"41.709042\" style=\"fill: #4575b4; fill-opacity: 0.7; stroke: #4575b4; stroke-opacity: 0.7; stroke-width: 0.3\" />\n",
       "     <use xlink:href=\"#m1b89d81405\" x=\"98.955862\" y=\"45.103415\" style=\"fill: #4575b4; fill-opacity: 0.7; stroke: #4575b4; stroke-opacity: 0.7; stroke-width: 0.3\" />\n",
       "     <use xlink:href=\"#m1b89d81405\" x=\"125.412759\" y=\"60.595229\" style=\"fill: #4575b4; fill-opacity: 0.7; stroke: #4575b4; stroke-opacity: 0.7; stroke-width: 0.3\" />\n",
       "     <use xlink:href=\"#m1b89d81405\" x=\"120.602414\" y=\"19.711928\" style=\"fill: #4575b4; fill-opacity: 0.7; stroke: #4575b4; stroke-opacity: 0.7; stroke-width: 0.3\" />\n",
       "     <use xlink:href=\"#m1b89d81405\" x=\"101.361034\" y=\"41.26986\" style=\"fill: #4575b4; fill-opacity: 0.7; stroke: #4575b4; stroke-opacity: 0.7; stroke-width: 0.3\" />\n",
       "     <use xlink:href=\"#m1b89d81405\" x=\"154.274828\" y=\"19.852923\" style=\"fill: #4575b4; fill-opacity: 0.7; stroke: #4575b4; stroke-opacity: 0.7; stroke-width: 0.3\" />\n",
       "     <use xlink:href=\"#m1b89d81405\" x=\"118.197241\" y=\"49.2341\" style=\"fill: #4575b4; fill-opacity: 0.7; stroke: #4575b4; stroke-opacity: 0.7; stroke-width: 0.3\" />\n",
       "     <use xlink:href=\"#m1b89d81405\" x=\"147.05931\" y=\"34.1118\" style=\"fill: #4575b4; fill-opacity: 0.7; stroke: #4575b4; stroke-opacity: 0.7; stroke-width: 0.3\" />\n",
       "     <use xlink:href=\"#m1b89d81405\" x=\"151.869655\" y=\"14.357106\" style=\"fill: #4575b4; fill-opacity: 0.7; stroke: #4575b4; stroke-opacity: 0.7; stroke-width: 0.3\" />\n",
       "     <use xlink:href=\"#m1b89d81405\" x=\"103.766207\" y=\"31.338285\" style=\"fill: #4575b4; fill-opacity: 0.7; stroke: #4575b4; stroke-opacity: 0.7; stroke-width: 0.3\" />\n",
       "     <use xlink:href=\"#m1b89d81405\" x=\"103.766207\" y=\"29.84892\" style=\"fill: #4575b4; fill-opacity: 0.7; stroke: #4575b4; stroke-opacity: 0.7; stroke-width: 0.3\" />\n",
       "     <use xlink:href=\"#m1b89d81405\" x=\"151.869655\" y=\"17.840133\" style=\"fill: #4575b4; fill-opacity: 0.7; stroke: #4575b4; stroke-opacity: 0.7; stroke-width: 0.3\" />\n",
       "     <use xlink:href=\"#m1b89d81405\" x=\"98.955862\" y=\"48.586442\" style=\"fill: #4575b4; fill-opacity: 0.7; stroke: #4575b4; stroke-opacity: 0.7; stroke-width: 0.3\" />\n",
       "     <use xlink:href=\"#m1b89d81405\" x=\"130.223103\" y=\"34.1118\" style=\"fill: #4575b4; fill-opacity: 0.7; stroke: #4575b4; stroke-opacity: 0.7; stroke-width: 0.3\" />\n",
       "     <use xlink:href=\"#m1b89d81405\" x=\"17.18\" y=\"40.420665\" style=\"fill: #4575b4; fill-opacity: 0.7; stroke: #4575b4; stroke-opacity: 0.7; stroke-width: 0.3\" />\n",
       "     <use xlink:href=\"#m1b89d81405\" x=\"147.05931\" y=\"28.690771\" style=\"fill: #4575b4; fill-opacity: 0.7; stroke: #4575b4; stroke-opacity: 0.7; stroke-width: 0.3\" />\n",
       "     <use xlink:href=\"#m1b89d81405\" x=\"135.033448\" y=\"22.103013\" style=\"fill: #4575b4; fill-opacity: 0.7; stroke: #4575b4; stroke-opacity: 0.7; stroke-width: 0.3\" />\n",
       "     <use xlink:href=\"#m1b89d81405\" x=\"149.464483\" y=\"19.158151\" style=\"fill: #4575b4; fill-opacity: 0.7; stroke: #4575b4; stroke-opacity: 0.7; stroke-width: 0.3\" />\n",
       "     <use xlink:href=\"#m1b89d81405\" x=\"17.18\" y=\"31.338285\" style=\"fill: #4575b4; fill-opacity: 0.7; stroke: #4575b4; stroke-opacity: 0.7; stroke-width: 0.3\" />\n",
       "     <use xlink:href=\"#m1b89d81405\" x=\"113.386897\" y=\"25.586039\" style=\"fill: #4575b4; fill-opacity: 0.7; stroke: #4575b4; stroke-opacity: 0.7; stroke-width: 0.3\" />\n",
       "     <use xlink:href=\"#m1b89d81405\" x=\"70.093793\" y=\"52.849322\" style=\"fill: #4575b4; fill-opacity: 0.7; stroke: #4575b4; stroke-opacity: 0.7; stroke-width: 0.3\" />\n",
       "     <use xlink:href=\"#m1b89d81405\" x=\"17.18\" y=\"34.1118\" style=\"fill: #4575b4; fill-opacity: 0.7; stroke: #4575b4; stroke-opacity: 0.7; stroke-width: 0.3\" />\n",
       "     <use xlink:href=\"#m1b89d81405\" x=\"137.438621\" y=\"46.765659\" style=\"fill: #4575b4; fill-opacity: 0.7; stroke: #4575b4; stroke-opacity: 0.7; stroke-width: 0.3\" />\n",
       "     <use xlink:href=\"#m1b89d81405\" x=\"123.007586\" y=\"27.59883\" style=\"fill: #4575b4; fill-opacity: 0.7; stroke: #4575b4; stroke-opacity: 0.7; stroke-width: 0.3\" />\n",
       "     <use xlink:href=\"#m1b89d81405\" x=\"101.361034\" y=\"43.574297\" style=\"fill: #4575b4; fill-opacity: 0.7; stroke: #4575b4; stroke-opacity: 0.7; stroke-width: 0.3\" />\n",
       "     <use xlink:href=\"#m1b89d81405\" x=\"17.18\" y=\"17.337368\" style=\"fill: #4575b4; fill-opacity: 0.7; stroke: #4575b4; stroke-opacity: 0.7; stroke-width: 0.3\" />\n",
       "     <use xlink:href=\"#m1b89d81405\" x=\"120.602414\" y=\"43.090643\" style=\"fill: #4575b4; fill-opacity: 0.7; stroke: #4575b4; stroke-opacity: 0.7; stroke-width: 0.3\" />\n",
       "     <use xlink:href=\"#m1b89d81405\" x=\"89.335172\" y=\"47.353523\" style=\"fill: #4575b4; fill-opacity: 0.7; stroke: #4575b4; stroke-opacity: 0.7; stroke-width: 0.3\" />\n",
       "     <use xlink:href=\"#m1b89d81405\" x=\"130.223103\" y=\"27.59883\" style=\"fill: #4575b4; fill-opacity: 0.7; stroke: #4575b4; stroke-opacity: 0.7; stroke-width: 0.3\" />\n",
       "     <use xlink:href=\"#m1b89d81405\" x=\"147.05931\" y=\"10.87408\" style=\"fill: #4575b4; fill-opacity: 0.7; stroke: #4575b4; stroke-opacity: 0.7; stroke-width: 0.3\" />\n",
       "     <use xlink:href=\"#m1b89d81405\" x=\"72.498966\" y=\"60.595229\" style=\"fill: #4575b4; fill-opacity: 0.7; stroke: #4575b4; stroke-opacity: 0.7; stroke-width: 0.3\" />\n",
       "     <use xlink:href=\"#m1b89d81405\" x=\"106.171379\" y=\"28.028137\" style=\"fill: #4575b4; fill-opacity: 0.7; stroke: #4575b4; stroke-opacity: 0.7; stroke-width: 0.3\" />\n",
       "     <use xlink:href=\"#m1b89d81405\" x=\"17.18\" y=\"37.00698\" style=\"fill: #4575b4; fill-opacity: 0.7; stroke: #4575b4; stroke-opacity: 0.7; stroke-width: 0.3\" />\n",
       "     <use xlink:href=\"#m1b89d81405\" x=\"77.30931\" y=\"37.00698\" style=\"fill: #4575b4; fill-opacity: 0.7; stroke: #4575b4; stroke-opacity: 0.7; stroke-width: 0.3\" />\n",
       "     <use xlink:href=\"#m1b89d81405\" x=\"123.007586\" y=\"51.320203\" style=\"fill: #4575b4; fill-opacity: 0.7; stroke: #4575b4; stroke-opacity: 0.7; stroke-width: 0.3\" />\n",
       "     <use xlink:href=\"#m1b89d81405\" x=\"149.464483\" y=\"34.1118\" style=\"fill: #4575b4; fill-opacity: 0.7; stroke: #4575b4; stroke-opacity: 0.7; stroke-width: 0.3\" />\n",
       "     <use xlink:href=\"#m1b89d81405\" x=\"125.412759\" y=\"35.344736\" style=\"fill: #4575b4; fill-opacity: 0.7; stroke: #4575b4; stroke-opacity: 0.7; stroke-width: 0.3\" />\n",
       "     <use xlink:href=\"#m1b89d81405\" x=\"101.361034\" y=\"31.86171\" style=\"fill: #4575b4; fill-opacity: 0.7; stroke: #4575b4; stroke-opacity: 0.7; stroke-width: 0.3\" />\n",
       "     <use xlink:href=\"#m1b89d81405\" x=\"65.283448\" y=\"49.2341\" style=\"fill: #4575b4; fill-opacity: 0.7; stroke: #4575b4; stroke-opacity: 0.7; stroke-width: 0.3\" />\n",
       "     <use xlink:href=\"#m1b89d81405\" x=\"115.792069\" y=\"25.971985\" style=\"fill: #4575b4; fill-opacity: 0.7; stroke: #4575b4; stroke-opacity: 0.7; stroke-width: 0.3\" />\n",
       "     <use xlink:href=\"#m1b89d81405\" x=\"132.628276\" y=\"43.090643\" style=\"fill: #4575b4; fill-opacity: 0.7; stroke: #4575b4; stroke-opacity: 0.7; stroke-width: 0.3\" />\n",
       "     <use xlink:href=\"#m1b89d81405\" x=\"137.438621\" y=\"40.840535\" style=\"fill: #4575b4; fill-opacity: 0.7; stroke: #4575b4; stroke-opacity: 0.7; stroke-width: 0.3\" />\n",
       "     <use xlink:href=\"#m1b89d81405\" x=\"120.602414\" y=\"25.586039\" style=\"fill: #4575b4; fill-opacity: 0.7; stroke: #4575b4; stroke-opacity: 0.7; stroke-width: 0.3\" />\n",
       "     <use xlink:href=\"#m1b89d81405\" x=\"67.688621\" y=\"49.90446\" style=\"fill: #4575b4; fill-opacity: 0.7; stroke: #4575b4; stroke-opacity: 0.7; stroke-width: 0.3\" />\n",
       "     <use xlink:href=\"#m1b89d81405\" x=\"17.18\" y=\"47.960044\" style=\"fill: #4575b4; fill-opacity: 0.7; stroke: #4575b4; stroke-opacity: 0.7; stroke-width: 0.3\" />\n",
       "     <use xlink:href=\"#m1b89d81405\" x=\"144.654138\" y=\"58.345139\" style=\"fill: #4575b4; fill-opacity: 0.7; stroke: #4575b4; stroke-opacity: 0.7; stroke-width: 0.3\" />\n",
       "     <use xlink:href=\"#m1b89d81405\" x=\"113.386897\" y=\"56.332348\" style=\"fill: #4575b4; fill-opacity: 0.7; stroke: #4575b4; stroke-opacity: 0.7; stroke-width: 0.3\" />\n",
       "     <use xlink:href=\"#m1b89d81405\" x=\"106.171379\" y=\"42.158553\" style=\"fill: #4575b4; fill-opacity: 0.7; stroke: #4575b4; stroke-opacity: 0.7; stroke-width: 0.3\" />\n",
       "     <use xlink:href=\"#m1b89d81405\" x=\"125.412759\" y=\"49.90446\" style=\"fill: #4575b4; fill-opacity: 0.7; stroke: #4575b4; stroke-opacity: 0.7; stroke-width: 0.3\" />\n",
       "     <use xlink:href=\"#m1b89d81405\" x=\"154.274828\" y=\"12.344334\" style=\"fill: #4575b4; fill-opacity: 0.7; stroke: #4575b4; stroke-opacity: 0.7; stroke-width: 0.3\" />\n",
       "     <use xlink:href=\"#m1b89d81405\" x=\"108.576552\" y=\"41.26986\" style=\"fill: #4575b4; fill-opacity: 0.7; stroke: #4575b4; stroke-opacity: 0.7; stroke-width: 0.3\" />\n",
       "     <use xlink:href=\"#m1b89d81405\" x=\"132.628276\" y=\"58.345139\" style=\"fill: #4575b4; fill-opacity: 0.7; stroke: #4575b4; stroke-opacity: 0.7; stroke-width: 0.3\" />\n",
       "     <use xlink:href=\"#m1b89d81405\" x=\"144.654138\" y=\"44.57999\" style=\"fill: #4575b4; fill-opacity: 0.7; stroke: #4575b4; stroke-opacity: 0.7; stroke-width: 0.3\" />\n",
       "     <use xlink:href=\"#m1b89d81405\" x=\"132.628276\" y=\"32.399874\" style=\"fill: #4575b4; fill-opacity: 0.7; stroke: #4575b4; stroke-opacity: 0.7; stroke-width: 0.3\" />\n",
       "     <use xlink:href=\"#m1b89d81405\" x=\"86.93\" y=\"16.607214\" style=\"fill: #4575b4; fill-opacity: 0.7; stroke: #4575b4; stroke-opacity: 0.7; stroke-width: 0.3\" />\n",
       "     <use xlink:href=\"#m1b89d81405\" x=\"17.18\" y=\"40.840535\" style=\"fill: #4575b4; fill-opacity: 0.7; stroke: #4575b4; stroke-opacity: 0.7; stroke-width: 0.3\" />\n",
       "     <use xlink:href=\"#m1b89d81405\" x=\"127.817931\" y=\"28.690771\" style=\"fill: #4575b4; fill-opacity: 0.7; stroke: #4575b4; stroke-opacity: 0.7; stroke-width: 0.3\" />\n",
       "     <use xlink:href=\"#m1b89d81405\" x=\"139.843793\" y=\"31.338285\" style=\"fill: #4575b4; fill-opacity: 0.7; stroke: #4575b4; stroke-opacity: 0.7; stroke-width: 0.3\" />\n",
       "     <use xlink:href=\"#m1b89d81405\" x=\"127.817931\" y=\"43.090643\" style=\"fill: #4575b4; fill-opacity: 0.7; stroke: #4575b4; stroke-opacity: 0.7; stroke-width: 0.3\" />\n",
       "     <use xlink:href=\"#m1b89d81405\" x=\"103.766207\" y=\"27.178942\" style=\"fill: #4575b4; fill-opacity: 0.7; stroke: #4575b4; stroke-opacity: 0.7; stroke-width: 0.3\" />\n",
       "     <use xlink:href=\"#m1b89d81405\" x=\"151.869655\" y=\"24.472891\" style=\"fill: #4575b4; fill-opacity: 0.7; stroke: #4575b4; stroke-opacity: 0.7; stroke-width: 0.3\" />\n",
       "     <use xlink:href=\"#m1b89d81405\" x=\"17.18\" y=\"28.916848\" style=\"fill: #4575b4; fill-opacity: 0.7; stroke: #4575b4; stroke-opacity: 0.7; stroke-width: 0.3\" />\n",
       "     <use xlink:href=\"#m1b89d81405\" x=\"144.654138\" y=\"37.00698\" style=\"fill: #4575b4; fill-opacity: 0.7; stroke: #4575b4; stroke-opacity: 0.7; stroke-width: 0.3\" />\n",
       "     <use xlink:href=\"#m1b89d81405\" x=\"151.869655\" y=\"40.009814\" style=\"fill: #4575b4; fill-opacity: 0.7; stroke: #4575b4; stroke-opacity: 0.7; stroke-width: 0.3\" />\n",
       "     <use xlink:href=\"#m1b89d81405\" x=\"132.628276\" y=\"41.26986\" style=\"fill: #4575b4; fill-opacity: 0.7; stroke: #4575b4; stroke-opacity: 0.7; stroke-width: 0.3\" />\n",
       "     <use xlink:href=\"#m1b89d81405\" x=\"120.602414\" y=\"23.082909\" style=\"fill: #4575b4; fill-opacity: 0.7; stroke: #4575b4; stroke-opacity: 0.7; stroke-width: 0.3\" />\n",
       "     <use xlink:href=\"#m1b89d81405\" x=\"113.386897\" y=\"57.312244\" style=\"fill: #4575b4; fill-opacity: 0.7; stroke: #4575b4; stroke-opacity: 0.7; stroke-width: 0.3\" />\n",
       "     <use xlink:href=\"#m1b89d81405\" x=\"17.18\" y=\"25.971985\" style=\"fill: #4575b4; fill-opacity: 0.7; stroke: #4575b4; stroke-opacity: 0.7; stroke-width: 0.3\" />\n",
       "     <use xlink:href=\"#m1b89d81405\" x=\"118.197241\" y=\"32.399874\" style=\"fill: #4575b4; fill-opacity: 0.7; stroke: #4575b4; stroke-opacity: 0.7; stroke-width: 0.3\" />\n",
       "     <use xlink:href=\"#m1b89d81405\" x=\"17.18\" y=\"55.400277\" style=\"fill: #4575b4; fill-opacity: 0.7; stroke: #4575b4; stroke-opacity: 0.7; stroke-width: 0.3\" />\n",
       "     <use xlink:href=\"#m1b89d81405\" x=\"144.654138\" y=\"38.827763\" style=\"fill: #4575b4; fill-opacity: 0.7; stroke: #4575b4; stroke-opacity: 0.7; stroke-width: 0.3\" />\n",
       "     <use xlink:href=\"#m1b89d81405\" x=\"106.171379\" y=\"49.2341\" style=\"fill: #4575b4; fill-opacity: 0.7; stroke: #4575b4; stroke-opacity: 0.7; stroke-width: 0.3\" />\n",
       "     <use xlink:href=\"#m1b89d81405\" x=\"115.792069\" y=\"35.344736\" style=\"fill: #4575b4; fill-opacity: 0.7; stroke: #4575b4; stroke-opacity: 0.7; stroke-width: 0.3\" />\n",
       "     <use xlink:href=\"#m1b89d81405\" x=\"130.223103\" y=\"27.178942\" style=\"fill: #4575b4; fill-opacity: 0.7; stroke: #4575b4; stroke-opacity: 0.7; stroke-width: 0.3\" />\n",
       "     <use xlink:href=\"#m1b89d81405\" x=\"17.18\" y=\"39.607617\" style=\"fill: #4575b4; fill-opacity: 0.7; stroke: #4575b4; stroke-opacity: 0.7; stroke-width: 0.3\" />\n",
       "     <use xlink:href=\"#m1b89d81405\" x=\"151.869655\" y=\"35.344736\" style=\"fill: #4575b4; fill-opacity: 0.7; stroke: #4575b4; stroke-opacity: 0.7; stroke-width: 0.3\" />\n",
       "     <use xlink:href=\"#m1b89d81405\" x=\"123.007586\" y=\"34.412646\" style=\"fill: #4575b4; fill-opacity: 0.7; stroke: #4575b4; stroke-opacity: 0.7; stroke-width: 0.3\" />\n",
       "     <use xlink:href=\"#m1b89d81405\" x=\"149.464483\" y=\"50.599232\" style=\"fill: #4575b4; fill-opacity: 0.7; stroke: #4575b4; stroke-opacity: 0.7; stroke-width: 0.3\" />\n",
       "     <use xlink:href=\"#m1b89d81405\" x=\"127.817931\" y=\"43.574297\" style=\"fill: #4575b4; fill-opacity: 0.7; stroke: #4575b4; stroke-opacity: 0.7; stroke-width: 0.3\" />\n",
       "     <use xlink:href=\"#m1b89d81405\" x=\"149.464483\" y=\"47.353523\" style=\"fill: #4575b4; fill-opacity: 0.7; stroke: #4575b4; stroke-opacity: 0.7; stroke-width: 0.3\" />\n",
       "     <use xlink:href=\"#m1b89d81405\" x=\"154.274828\" y=\"22.916062\" style=\"fill: #4575b4; fill-opacity: 0.7; stroke: #4575b4; stroke-opacity: 0.7; stroke-width: 0.3\" />\n",
       "     <use xlink:href=\"#m1b89d81405\" x=\"17.18\" y=\"38.827763\" style=\"fill: #4575b4; fill-opacity: 0.7; stroke: #4575b4; stroke-opacity: 0.7; stroke-width: 0.3\" />\n",
       "     <use xlink:href=\"#m1b89d81405\" x=\"17.18\" y=\"54.511565\" style=\"fill: #4575b4; fill-opacity: 0.7; stroke: #4575b4; stroke-opacity: 0.7; stroke-width: 0.3\" />\n",
       "     <use xlink:href=\"#m1b89d81405\" x=\"127.817931\" y=\"45.103415\" style=\"fill: #4575b4; fill-opacity: 0.7; stroke: #4575b4; stroke-opacity: 0.7; stroke-width: 0.3\" />\n",
       "     <use xlink:href=\"#m1b89d81405\" x=\"137.438621\" y=\"27.387729\" style=\"fill: #4575b4; fill-opacity: 0.7; stroke: #4575b4; stroke-opacity: 0.7; stroke-width: 0.3\" />\n",
       "     <use xlink:href=\"#m1b89d81405\" x=\"118.197241\" y=\"25.207745\" style=\"fill: #4575b4; fill-opacity: 0.7; stroke: #4575b4; stroke-opacity: 0.7; stroke-width: 0.3\" />\n",
       "     <use xlink:href=\"#m1b89d81405\" x=\"106.171379\" y=\"49.90446\" style=\"fill: #4575b4; fill-opacity: 0.7; stroke: #4575b4; stroke-opacity: 0.7; stroke-width: 0.3\" />\n",
       "     <use xlink:href=\"#m1b89d81405\" x=\"115.792069\" y=\"26.365893\" style=\"fill: #4575b4; fill-opacity: 0.7; stroke: #4575b4; stroke-opacity: 0.7; stroke-width: 0.3\" />\n",
       "     <use xlink:href=\"#m1b89d81405\" x=\"149.464483\" y=\"22.488959\" style=\"fill: #4575b4; fill-opacity: 0.7; stroke: #4575b4; stroke-opacity: 0.7; stroke-width: 0.3\" />\n",
       "     <use xlink:href=\"#m1b89d81405\" x=\"17.18\" y=\"48.586442\" style=\"fill: #4575b4; fill-opacity: 0.7; stroke: #4575b4; stroke-opacity: 0.7; stroke-width: 0.3\" />\n",
       "     <use xlink:href=\"#m1b89d81405\" x=\"125.412759\" y=\"16.607214\" style=\"fill: #4575b4; fill-opacity: 0.7; stroke: #4575b4; stroke-opacity: 0.7; stroke-width: 0.3\" />\n",
       "     <use xlink:href=\"#m1b89d81405\" x=\"118.197241\" y=\"31.081856\" style=\"fill: #4575b4; fill-opacity: 0.7; stroke: #4575b4; stroke-opacity: 0.7; stroke-width: 0.3\" />\n",
       "     <use xlink:href=\"#m1b89d81405\" x=\"120.602414\" y=\"33.815618\" style=\"fill: #4575b4; fill-opacity: 0.7; stroke: #4575b4; stroke-opacity: 0.7; stroke-width: 0.3\" />\n",
       "     <use xlink:href=\"#m1b89d81405\" x=\"137.438621\" y=\"27.178942\" style=\"fill: #4575b4; fill-opacity: 0.7; stroke: #4575b4; stroke-opacity: 0.7; stroke-width: 0.3\" />\n",
       "     <use xlink:href=\"#m1b89d81405\" x=\"110.981724\" y=\"44.57999\" style=\"fill: #4575b4; fill-opacity: 0.7; stroke: #4575b4; stroke-opacity: 0.7; stroke-width: 0.3\" />\n",
       "     <use xlink:href=\"#m1b89d81405\" x=\"127.817931\" y=\"37.357509\" style=\"fill: #4575b4; fill-opacity: 0.7; stroke: #4575b4; stroke-opacity: 0.7; stroke-width: 0.3\" />\n",
       "     <use xlink:href=\"#m1b89d81405\" x=\"130.223103\" y=\"47.353523\" style=\"fill: #4575b4; fill-opacity: 0.7; stroke: #4575b4; stroke-opacity: 0.7; stroke-width: 0.3\" />\n",
       "     <use xlink:href=\"#m1b89d81405\" x=\"113.386897\" y=\"43.090643\" style=\"fill: #4575b4; fill-opacity: 0.7; stroke: #4575b4; stroke-opacity: 0.7; stroke-width: 0.3\" />\n",
       "     <use xlink:href=\"#m1b89d81405\" x=\"72.498966\" y=\"44.57999\" style=\"fill: #4575b4; fill-opacity: 0.7; stroke: #4575b4; stroke-opacity: 0.7; stroke-width: 0.3\" />\n",
       "     <use xlink:href=\"#m1b89d81405\" x=\"130.223103\" y=\"46.195357\" style=\"fill: #4575b4; fill-opacity: 0.7; stroke: #4575b4; stroke-opacity: 0.7; stroke-width: 0.3\" />\n",
       "     <use xlink:href=\"#m1b89d81405\" x=\"74.904138\" y=\"38.078498\" style=\"fill: #4575b4; fill-opacity: 0.7; stroke: #4575b4; stroke-opacity: 0.7; stroke-width: 0.3\" />\n",
       "     <use xlink:href=\"#m1b89d81405\" x=\"123.007586\" y=\"46.195357\" style=\"fill: #4575b4; fill-opacity: 0.7; stroke: #4575b4; stroke-opacity: 0.7; stroke-width: 0.3\" />\n",
       "     <use xlink:href=\"#m1b89d81405\" x=\"103.766207\" y=\"29.377199\" style=\"fill: #4575b4; fill-opacity: 0.7; stroke: #4575b4; stroke-opacity: 0.7; stroke-width: 0.3\" />\n",
       "     <use xlink:href=\"#m1b89d81405\" x=\"147.05931\" y=\"50.599232\" style=\"fill: #4575b4; fill-opacity: 0.7; stroke: #4575b4; stroke-opacity: 0.7; stroke-width: 0.3\" />\n",
       "     <use xlink:href=\"#m1b89d81405\" x=\"149.464483\" y=\"39.607617\" style=\"fill: #4575b4; fill-opacity: 0.7; stroke: #4575b4; stroke-opacity: 0.7; stroke-width: 0.3\" />\n",
       "     <use xlink:href=\"#m1b89d81405\" x=\"98.955862\" y=\"38.078498\" style=\"fill: #4575b4; fill-opacity: 0.7; stroke: #4575b4; stroke-opacity: 0.7; stroke-width: 0.3\" />\n",
       "     <use xlink:href=\"#m1b89d81405\" x=\"108.576552\" y=\"45.103415\" style=\"fill: #4575b4; fill-opacity: 0.7; stroke: #4575b4; stroke-opacity: 0.7; stroke-width: 0.3\" />\n",
       "     <use xlink:href=\"#m1b89d81405\" x=\"108.576552\" y=\"34.412646\" style=\"fill: #4575b4; fill-opacity: 0.7; stroke: #4575b4; stroke-opacity: 0.7; stroke-width: 0.3\" />\n",
       "     <use xlink:href=\"#m1b89d81405\" x=\"142.248966\" y=\"11.872614\" style=\"fill: #4575b4; fill-opacity: 0.7; stroke: #4575b4; stroke-opacity: 0.7; stroke-width: 0.3\" />\n",
       "     <use xlink:href=\"#m1b89d81405\" x=\"151.869655\" y=\"15.449048\" style=\"fill: #4575b4; fill-opacity: 0.7; stroke: #4575b4; stroke-opacity: 0.7; stroke-width: 0.3\" />\n",
       "     <use xlink:href=\"#m1b89d81405\" x=\"72.498966\" y=\"44.57999\" style=\"fill: #4575b4; fill-opacity: 0.7; stroke: #4575b4; stroke-opacity: 0.7; stroke-width: 0.3\" />\n",
       "     <use xlink:href=\"#m1b89d81405\" x=\"101.361034\" y=\"35.504588\" style=\"fill: #4575b4; fill-opacity: 0.7; stroke: #4575b4; stroke-opacity: 0.7; stroke-width: 0.3\" />\n",
       "     <use xlink:href=\"#m1b89d81405\" x=\"106.171379\" y=\"46.195357\" style=\"fill: #4575b4; fill-opacity: 0.7; stroke: #4575b4; stroke-opacity: 0.7; stroke-width: 0.3\" />\n",
       "     <use xlink:href=\"#m1b89d81405\" x=\"113.386897\" y=\"13.32423\" style=\"fill: #4575b4; fill-opacity: 0.7; stroke: #4575b4; stroke-opacity: 0.7; stroke-width: 0.3\" />\n",
       "     <use xlink:href=\"#m1b89d81405\" x=\"135.033448\" y=\"31.86171\" style=\"fill: #4575b4; fill-opacity: 0.7; stroke: #4575b4; stroke-opacity: 0.7; stroke-width: 0.3\" />\n",
       "     <use xlink:href=\"#m1b89d81405\" x=\"147.05931\" y=\"41.26986\" style=\"fill: #4575b4; fill-opacity: 0.7; stroke: #4575b4; stroke-opacity: 0.7; stroke-width: 0.3\" />\n",
       "     <use xlink:href=\"#m1b89d81405\" x=\"137.438621\" y=\"32.399874\" style=\"fill: #4575b4; fill-opacity: 0.7; stroke: #4575b4; stroke-opacity: 0.7; stroke-width: 0.3\" />\n",
       "     <use xlink:href=\"#m1b89d81405\" x=\"110.981724\" y=\"43.574297\" style=\"fill: #4575b4; fill-opacity: 0.7; stroke: #4575b4; stroke-opacity: 0.7; stroke-width: 0.3\" />\n",
       "     <use xlink:href=\"#m1b89d81405\" x=\"132.628276\" y=\"38.078498\" style=\"fill: #4575b4; fill-opacity: 0.7; stroke: #4575b4; stroke-opacity: 0.7; stroke-width: 0.3\" />\n",
       "     <use xlink:href=\"#m1b89d81405\" x=\"94.145517\" y=\"60.007382\" style=\"fill: #4575b4; fill-opacity: 0.7; stroke: #4575b4; stroke-opacity: 0.7; stroke-width: 0.3\" />\n",
       "     <use xlink:href=\"#m1b89d81405\" x=\"144.654138\" y=\"37.357509\" style=\"fill: #4575b4; fill-opacity: 0.7; stroke: #4575b4; stroke-opacity: 0.7; stroke-width: 0.3\" />\n",
       "     <use xlink:href=\"#m1b89d81405\" x=\"103.766207\" y=\"23.765256\" style=\"fill: #4575b4; fill-opacity: 0.7; stroke: #4575b4; stroke-opacity: 0.7; stroke-width: 0.3\" />\n",
       "     <use xlink:href=\"#m1b89d81405\" x=\"17.18\" y=\"20.573894\" style=\"fill: #4575b4; fill-opacity: 0.7; stroke: #4575b4; stroke-opacity: 0.7; stroke-width: 0.3\" />\n",
       "     <use xlink:href=\"#m1b89d81405\" x=\"147.05931\" y=\"40.840535\" style=\"fill: #4575b4; fill-opacity: 0.7; stroke: #4575b4; stroke-opacity: 0.7; stroke-width: 0.3\" />\n",
       "     <use xlink:href=\"#m1b89d81405\" x=\"137.438621\" y=\"53.662371\" style=\"fill: #4575b4; fill-opacity: 0.7; stroke: #4575b4; stroke-opacity: 0.7; stroke-width: 0.3\" />\n",
       "     <use xlink:href=\"#m1b89d81405\" x=\"125.412759\" y=\"22.916062\" style=\"fill: #4575b4; fill-opacity: 0.7; stroke: #4575b4; stroke-opacity: 0.7; stroke-width: 0.3\" />\n",
       "     <use xlink:href=\"#m1b89d81405\" x=\"149.464483\" y=\"31.86171\" style=\"fill: #4575b4; fill-opacity: 0.7; stroke: #4575b4; stroke-opacity: 0.7; stroke-width: 0.3\" />\n",
       "     <use xlink:href=\"#m1b89d81405\" x=\"17.18\" y=\"35.344736\" style=\"fill: #4575b4; fill-opacity: 0.7; stroke: #4575b4; stroke-opacity: 0.7; stroke-width: 0.3\" />\n",
       "     <use xlink:href=\"#m1b89d81405\" x=\"127.817931\" y=\"28.467318\" style=\"fill: #4575b4; fill-opacity: 0.7; stroke: #4575b4; stroke-opacity: 0.7; stroke-width: 0.3\" />\n",
       "     <use xlink:href=\"#m1b89d81405\" x=\"120.602414\" y=\"35.344736\" style=\"fill: #4575b4; fill-opacity: 0.7; stroke: #4575b4; stroke-opacity: 0.7; stroke-width: 0.3\" />\n",
       "     <use xlink:href=\"#m1b89d81405\" x=\"118.197241\" y=\"27.59883\" style=\"fill: #4575b4; fill-opacity: 0.7; stroke: #4575b4; stroke-opacity: 0.7; stroke-width: 0.3\" />\n",
       "     <use xlink:href=\"#m1b89d81405\" x=\"125.412759\" y=\"25.586039\" style=\"fill: #4575b4; fill-opacity: 0.7; stroke: #4575b4; stroke-opacity: 0.7; stroke-width: 0.3\" />\n",
       "     <use xlink:href=\"#m1b89d81405\" x=\"151.869655\" y=\"53.662371\" style=\"fill: #4575b4; fill-opacity: 0.7; stroke: #4575b4; stroke-opacity: 0.7; stroke-width: 0.3\" />\n",
       "     <use xlink:href=\"#m1b89d81405\" x=\"120.602414\" y=\"42.158553\" style=\"fill: #4575b4; fill-opacity: 0.7; stroke: #4575b4; stroke-opacity: 0.7; stroke-width: 0.3\" />\n",
       "     <use xlink:href=\"#m1b89d81405\" x=\"132.628276\" y=\"19.295101\" style=\"fill: #4575b4; fill-opacity: 0.7; stroke: #4575b4; stroke-opacity: 0.7; stroke-width: 0.3\" />\n",
       "     <use xlink:href=\"#m1b89d81405\" x=\"106.171379\" y=\"27.59883\" style=\"fill: #4575b4; fill-opacity: 0.7; stroke: #4575b4; stroke-opacity: 0.7; stroke-width: 0.3\" />\n",
       "     <use xlink:href=\"#m1b89d81405\" x=\"147.05931\" y=\"10.523551\" style=\"fill: #4575b4; fill-opacity: 0.7; stroke: #4575b4; stroke-opacity: 0.7; stroke-width: 0.3\" />\n",
       "     <use xlink:href=\"#m1b89d81405\" x=\"125.412759\" y=\"46.195357\" style=\"fill: #4575b4; fill-opacity: 0.7; stroke: #4575b4; stroke-opacity: 0.7; stroke-width: 0.3\" />\n",
       "     <use xlink:href=\"#m1b89d81405\" x=\"86.93\" y=\"28.916848\" style=\"fill: #4575b4; fill-opacity: 0.7; stroke: #4575b4; stroke-opacity: 0.7; stroke-width: 0.3\" />\n",
       "     <use xlink:href=\"#m1b89d81405\" x=\"151.869655\" y=\"21.476615\" style=\"fill: #4575b4; fill-opacity: 0.7; stroke: #4575b4; stroke-opacity: 0.7; stroke-width: 0.3\" />\n",
       "     <use xlink:href=\"#m1b89d81405\" x=\"137.438621\" y=\"16.607214\" style=\"fill: #4575b4; fill-opacity: 0.7; stroke: #4575b4; stroke-opacity: 0.7; stroke-width: 0.3\" />\n",
       "     <use xlink:href=\"#m1b89d81405\" x=\"132.628276\" y=\"21.476615\" style=\"fill: #4575b4; fill-opacity: 0.7; stroke: #4575b4; stroke-opacity: 0.7; stroke-width: 0.3\" />\n",
       "     <use xlink:href=\"#m1b89d81405\" x=\"89.335172\" y=\"47.353523\" style=\"fill: #4575b4; fill-opacity: 0.7; stroke: #4575b4; stroke-opacity: 0.7; stroke-width: 0.3\" />\n",
       "     <use xlink:href=\"#m1b89d81405\" x=\"101.361034\" y=\"47.353523\" style=\"fill: #4575b4; fill-opacity: 0.7; stroke: #4575b4; stroke-opacity: 0.7; stroke-width: 0.3\" />\n",
       "     <use xlink:href=\"#m1b89d81405\" x=\"151.869655\" y=\"15.449048\" style=\"fill: #4575b4; fill-opacity: 0.7; stroke: #4575b4; stroke-opacity: 0.7; stroke-width: 0.3\" />\n",
       "     <use xlink:href=\"#m1b89d81405\" x=\"137.438621\" y=\"35.992377\" style=\"fill: #4575b4; fill-opacity: 0.7; stroke: #4575b4; stroke-opacity: 0.7; stroke-width: 0.3\" />\n",
       "     <use xlink:href=\"#m1b89d81405\" x=\"17.18\" y=\"51.320203\" style=\"fill: #4575b4; fill-opacity: 0.7; stroke: #4575b4; stroke-opacity: 0.7; stroke-width: 0.3\" />\n",
       "     <use xlink:href=\"#m1b89d81405\" x=\"89.335172\" y=\"55.400277\" style=\"fill: #4575b4; fill-opacity: 0.7; stroke: #4575b4; stroke-opacity: 0.7; stroke-width: 0.3\" />\n",
       "     <use xlink:href=\"#m1b89d81405\" x=\"142.248966\" y=\"16.607214\" style=\"fill: #4575b4; fill-opacity: 0.7; stroke: #4575b4; stroke-opacity: 0.7; stroke-width: 0.3\" />\n",
       "    </g>\n",
       "   </g>\n",
       "   <g id=\"patch_3\">\n",
       "    <path d=\"M 116.994655 62.817354  L 114.483655 68.915754  L 119.505655 68.915754  z \" style=\"fill: #444443\" />\n",
       "   </g>\n",
       "   <g id=\"matplotlib.axis_1\">\n",
       "    <g id=\"xtick_1\">\n",
       "     <g id=\"line2d_1\">\n",
       "      <defs>\n",
       "       <path id=\"m68a12cd736\" d=\"M 0 0  L 0 3.5  \" style=\"stroke: #000000; stroke-width: 0.3\" />\n",
       "      </defs>\n",
       "      <g>\n",
       "       <use xlink:href=\"#m68a12cd736\" x=\"17.18\" y=\"62.817354\" style=\"stroke: #000000; stroke-width: 0.3\" />\n",
       "      </g>\n",
       "     </g>\n",
       "     <g id=\"text_1\">\n",
       "      \n",
       "      <g style=\"fill: #444443\" transform=\"translate(3.18375 80.396104) scale(0.08 -0.08)\">\n",
       "       <defs>\n",
       "        <path id=\"DejaVuSans-31\" d=\"M 794 531  L 1825 531  L 1825 4091  L 703 3866  L 703 4441  L 1819 4666  L 2450 4666  L 2450 531  L 3481 531  L 3481 0  L 794 0  L 794 531  z \" transform=\"scale(0.015625)\" />\n",
       "        <path id=\"DejaVuSans-39\" d=\"M 703 97  L 703 672  Q 941 559 1184 500  Q 1428 441 1663 441  Q 2288 441 2617 861  Q 2947 1281 2994 2138  Q 2813 1869 2534 1725  Q 2256 1581 1919 1581  Q 1219 1581 811 2004  Q 403 2428 403 3163  Q 403 3881 828 4315  Q 1253 4750 1959 4750  Q 2769 4750 3195 4129  Q 3622 3509 3622 2328  Q 3622 1225 3098 567  Q 2575 -91 1691 -91  Q 1453 -91 1209 -44  Q 966 3 703 97  z M 1959 2075  Q 2384 2075 2632 2365  Q 2881 2656 2881 3163  Q 2881 3666 2632 3958  Q 2384 4250 1959 4250  Q 1534 4250 1286 3958  Q 1038 3666 1038 3163  Q 1038 2656 1286 2365  Q 1534 2075 1959 2075  z \" transform=\"scale(0.015625)\" />\n",
       "        <path id=\"DejaVuSans-35\" d=\"M 691 4666  L 3169 4666  L 3169 4134  L 1269 4134  L 1269 2991  Q 1406 3038 1543 3061  Q 1681 3084 1819 3084  Q 2600 3084 3056 2656  Q 3513 2228 3513 1497  Q 3513 744 3044 326  Q 2575 -91 1722 -91  Q 1428 -91 1123 -41  Q 819 9 494 109  L 494 744  Q 775 591 1075 516  Q 1375 441 1709 441  Q 2250 441 2565 725  Q 2881 1009 2881 1497  Q 2881 1984 2565 2268  Q 2250 2553 1709 2553  Q 1456 2553 1204 2497  Q 953 2441 691 2322  L 691 4666  z \" transform=\"scale(0.015625)\" />\n",
       "        <path id=\"DejaVuSans-30\" d=\"M 2034 4250  Q 1547 4250 1301 3770  Q 1056 3291 1056 2328  Q 1056 1369 1301 889  Q 1547 409 2034 409  Q 2525 409 2770 889  Q 3016 1369 3016 2328  Q 3016 3291 2770 3770  Q 2525 4250 2034 4250  z M 2034 4750  Q 2819 4750 3233 4129  Q 3647 3509 3647 2328  Q 3647 1150 3233 529  Q 2819 -91 2034 -91  Q 1250 -91 836 529  Q 422 1150 422 2328  Q 422 3509 836 4129  Q 1250 4750 2034 4750  z \" transform=\"scale(0.015625)\" />\n",
       "        <path id=\"DejaVuSans-2e\" d=\"M 684 794  L 1344 794  L 1344 0  L 684 0  L 684 794  z \" transform=\"scale(0.015625)\" />\n",
       "       </defs>\n",
       "       <use xlink:href=\"#DejaVuSans-31\" />\n",
       "       <use xlink:href=\"#DejaVuSans-39\" x=\"63.623047\" />\n",
       "       <use xlink:href=\"#DejaVuSans-35\" x=\"127.246094\" />\n",
       "       <use xlink:href=\"#DejaVuSans-30\" x=\"190.869141\" />\n",
       "       <use xlink:href=\"#DejaVuSans-2e\" x=\"254.492188\" />\n",
       "       <use xlink:href=\"#DejaVuSans-30\" x=\"286.279297\" />\n",
       "      </g>\n",
       "     </g>\n",
       "    </g>\n",
       "    <g id=\"xtick_2\">\n",
       "     <g id=\"line2d_2\">\n",
       "      <g>\n",
       "       <use xlink:href=\"#m68a12cd736\" x=\"116.994655\" y=\"62.817354\" style=\"stroke: #000000; stroke-width: 0.3\" />\n",
       "      </g>\n",
       "     </g>\n",
       "     <g id=\"text_2\">\n",
       "      \n",
       "      <g style=\"fill: #444443\" transform=\"translate(102.998405 80.396104) scale(0.08 -0.08)\">\n",
       "       <use xlink:href=\"#DejaVuSans-31\" />\n",
       "       <use xlink:href=\"#DejaVuSans-39\" x=\"63.623047\" />\n",
       "       <use xlink:href=\"#DejaVuSans-39\" x=\"127.246094\" />\n",
       "       <use xlink:href=\"#DejaVuSans-31\" x=\"190.869141\" />\n",
       "       <use xlink:href=\"#DejaVuSans-2e\" x=\"254.492188\" />\n",
       "       <use xlink:href=\"#DejaVuSans-35\" x=\"286.279297\" />\n",
       "      </g>\n",
       "     </g>\n",
       "    </g>\n",
       "    <g id=\"xtick_3\">\n",
       "     <g id=\"line2d_3\">\n",
       "      <g>\n",
       "       <use xlink:href=\"#m68a12cd736\" x=\"156.68\" y=\"62.817354\" style=\"stroke: #000000; stroke-width: 0.3\" />\n",
       "      </g>\n",
       "     </g>\n",
       "     <g id=\"text_3\">\n",
       "      \n",
       "      <g style=\"fill: #444443\" transform=\"translate(142.68375 80.396104) scale(0.08 -0.08)\">\n",
       "       <defs>\n",
       "        <path id=\"DejaVuSans-32\" d=\"M 1228 531  L 3431 531  L 3431 0  L 469 0  L 469 531  Q 828 903 1448 1529  Q 2069 2156 2228 2338  Q 2531 2678 2651 2914  Q 2772 3150 2772 3378  Q 2772 3750 2511 3984  Q 2250 4219 1831 4219  Q 1534 4219 1204 4116  Q 875 4013 500 3803  L 500 4441  Q 881 4594 1212 4672  Q 1544 4750 1819 4750  Q 2544 4750 2975 4387  Q 3406 4025 3406 3419  Q 3406 3131 3298 2873  Q 3191 2616 2906 2266  Q 2828 2175 2409 1742  Q 1991 1309 1228 531  z \" transform=\"scale(0.015625)\" />\n",
       "        <path id=\"DejaVuSans-38\" d=\"M 2034 2216  Q 1584 2216 1326 1975  Q 1069 1734 1069 1313  Q 1069 891 1326 650  Q 1584 409 2034 409  Q 2484 409 2743 651  Q 3003 894 3003 1313  Q 3003 1734 2745 1975  Q 2488 2216 2034 2216  z M 1403 2484  Q 997 2584 770 2862  Q 544 3141 544 3541  Q 544 4100 942 4425  Q 1341 4750 2034 4750  Q 2731 4750 3128 4425  Q 3525 4100 3525 3541  Q 3525 3141 3298 2862  Q 3072 2584 2669 2484  Q 3125 2378 3379 2068  Q 3634 1759 3634 1313  Q 3634 634 3220 271  Q 2806 -91 2034 -91  Q 1263 -91 848 271  Q 434 634 434 1313  Q 434 1759 690 2068  Q 947 2378 1403 2484  z M 1172 3481  Q 1172 3119 1398 2916  Q 1625 2713 2034 2713  Q 2441 2713 2670 2916  Q 2900 3119 2900 3481  Q 2900 3844 2670 4047  Q 2441 4250 2034 4250  Q 1625 4250 1398 4047  Q 1172 3844 1172 3481  z \" transform=\"scale(0.015625)\" />\n",
       "       </defs>\n",
       "       <use xlink:href=\"#DejaVuSans-32\" />\n",
       "       <use xlink:href=\"#DejaVuSans-30\" x=\"63.623047\" />\n",
       "       <use xlink:href=\"#DejaVuSans-30\" x=\"127.246094\" />\n",
       "       <use xlink:href=\"#DejaVuSans-38\" x=\"190.869141\" />\n",
       "       <use xlink:href=\"#DejaVuSans-2e\" x=\"254.492188\" />\n",
       "       <use xlink:href=\"#DejaVuSans-30\" x=\"286.279297\" />\n",
       "      </g>\n",
       "     </g>\n",
       "    </g>\n",
       "    <g id=\"text_4\">\n",
       "     \n",
       "     <g style=\"fill: #444443\" transform=\"translate(57.870313 95.177979) scale(0.12 -0.12)\">\n",
       "      <defs>\n",
       "       <path id=\"DejaVuSans-59\" d=\"M -13 4666  L 666 4666  L 1959 2747  L 3244 4666  L 3922 4666  L 2272 2222  L 2272 0  L 1638 0  L 1638 2222  L -13 4666  z \" transform=\"scale(0.015625)\" />\n",
       "       <path id=\"DejaVuSans-65\" d=\"M 3597 1894  L 3597 1613  L 953 1613  Q 991 1019 1311 708  Q 1631 397 2203 397  Q 2534 397 2845 478  Q 3156 559 3463 722  L 3463 178  Q 3153 47 2828 -22  Q 2503 -91 2169 -91  Q 1331 -91 842 396  Q 353 884 353 1716  Q 353 2575 817 3079  Q 1281 3584 2069 3584  Q 2775 3584 3186 3129  Q 3597 2675 3597 1894  z M 3022 2063  Q 3016 2534 2758 2815  Q 2500 3097 2075 3097  Q 1594 3097 1305 2825  Q 1016 2553 972 2059  L 3022 2063  z \" transform=\"scale(0.015625)\" />\n",
       "       <path id=\"DejaVuSans-61\" d=\"M 2194 1759  Q 1497 1759 1228 1600  Q 959 1441 959 1056  Q 959 750 1161 570  Q 1363 391 1709 391  Q 2188 391 2477 730  Q 2766 1069 2766 1631  L 2766 1759  L 2194 1759  z M 3341 1997  L 3341 0  L 2766 0  L 2766 531  Q 2569 213 2275 61  Q 1981 -91 1556 -91  Q 1019 -91 701 211  Q 384 513 384 1019  Q 384 1609 779 1909  Q 1175 2209 1959 2209  L 2766 2209  L 2766 2266  Q 2766 2663 2505 2880  Q 2244 3097 1772 3097  Q 1472 3097 1187 3025  Q 903 2953 641 2809  L 641 3341  Q 956 3463 1253 3523  Q 1550 3584 1831 3584  Q 2591 3584 2966 3190  Q 3341 2797 3341 1997  z \" transform=\"scale(0.015625)\" />\n",
       "       <path id=\"DejaVuSans-72\" d=\"M 2631 2963  Q 2534 3019 2420 3045  Q 2306 3072 2169 3072  Q 1681 3072 1420 2755  Q 1159 2438 1159 1844  L 1159 0  L 581 0  L 581 3500  L 1159 3500  L 1159 2956  Q 1341 3275 1631 3429  Q 1922 3584 2338 3584  Q 2397 3584 2469 3576  Q 2541 3569 2628 3553  L 2631 2963  z \" transform=\"scale(0.015625)\" />\n",
       "       <path id=\"DejaVuSans-4d\" d=\"M 628 4666  L 1569 4666  L 2759 1491  L 3956 4666  L 4897 4666  L 4897 0  L 4281 0  L 4281 4097  L 3078 897  L 2444 897  L 1241 4097  L 1241 0  L 628 0  L 628 4666  z \" transform=\"scale(0.015625)\" />\n",
       "       <path id=\"DejaVuSans-64\" d=\"M 2906 2969  L 2906 4863  L 3481 4863  L 3481 0  L 2906 0  L 2906 525  Q 2725 213 2448 61  Q 2172 -91 1784 -91  Q 1150 -91 751 415  Q 353 922 353 1747  Q 353 2572 751 3078  Q 1150 3584 1784 3584  Q 2172 3584 2448 3432  Q 2725 3281 2906 2969  z M 947 1747  Q 947 1113 1208 752  Q 1469 391 1925 391  Q 2381 391 2643 752  Q 2906 1113 2906 1747  Q 2906 2381 2643 2742  Q 2381 3103 1925 3103  Q 1469 3103 1208 2742  Q 947 2381 947 1747  z \" transform=\"scale(0.015625)\" />\n",
       "      </defs>\n",
       "      <use xlink:href=\"#DejaVuSans-59\" />\n",
       "      <use xlink:href=\"#DejaVuSans-65\" x=\"47.833984\" />\n",
       "      <use xlink:href=\"#DejaVuSans-61\" x=\"109.357422\" />\n",
       "      <use xlink:href=\"#DejaVuSans-72\" x=\"170.636719\" />\n",
       "      <use xlink:href=\"#DejaVuSans-4d\" x=\"211.75\" />\n",
       "      <use xlink:href=\"#DejaVuSans-61\" x=\"298.029297\" />\n",
       "      <use xlink:href=\"#DejaVuSans-64\" x=\"359.308594\" />\n",
       "      <use xlink:href=\"#DejaVuSans-65\" x=\"422.785156\" />\n",
       "     </g>\n",
       "    </g>\n",
       "   </g>\n",
       "   <g id=\"matplotlib.axis_2\">\n",
       "    <g id=\"ytick_1\">\n",
       "     <g id=\"line2d_4\">\n",
       "      <defs>\n",
       "       <path id=\"mc48b9c63b8\" d=\"M 0 0  L -3.5 0  \" style=\"stroke: #000000; stroke-width: 0.3\" />\n",
       "      </defs>\n",
       "      <g>\n",
       "       <use xlink:href=\"#mc48b9c63b8\" x=\"17.18\" y=\"41.246886\" style=\"stroke: #000000; stroke-width: 0.3\" />\n",
       "      </g>\n",
       "     </g>\n",
       "     <g id=\"text_5\">\n",
       "      \n",
       "      <g style=\"fill: #444443\" transform=\"translate(0 44.286261) scale(0.08 -0.08)\">\n",
       "       <use xlink:href=\"#DejaVuSans-31\" />\n",
       "       <use xlink:href=\"#DejaVuSans-30\" x=\"63.623047\" />\n",
       "      </g>\n",
       "     </g>\n",
       "    </g>\n",
       "    <g id=\"ytick_2\">\n",
       "     <g id=\"line2d_5\">\n",
       "      <g>\n",
       "       <use xlink:href=\"#mc48b9c63b8\" x=\"17.18\" y=\"3.039375\" style=\"stroke: #000000; stroke-width: 0.3\" />\n",
       "      </g>\n",
       "     </g>\n",
       "     <g id=\"text_6\">\n",
       "      \n",
       "      <g style=\"fill: #444443\" transform=\"translate(0 6.07875) scale(0.08 -0.08)\">\n",
       "       <use xlink:href=\"#DejaVuSans-31\" />\n",
       "       <use xlink:href=\"#DejaVuSans-32\" x=\"63.623047\" />\n",
       "      </g>\n",
       "     </g>\n",
       "    </g>\n",
       "   </g>\n",
       "   <g id=\"line2d_6\">\n",
       "    <path d=\"M 17.18 39.855738  L 116.994655 39.855738  \" clip-path=\"url(#pc848e0c794)\" style=\"fill: none; stroke-dasharray: 3.7,1.6; stroke-dashoffset: 0; stroke: #444443\" />\n",
       "   </g>\n",
       "   <g id=\"line2d_7\">\n",
       "    <path d=\"M 116.994655 62.817354  L 116.994655 1.833354  \" clip-path=\"url(#pc848e0c794)\" style=\"fill: none; stroke-dasharray: 3.7,1.6; stroke-dashoffset: 0; stroke: #444443\" />\n",
       "   </g>\n",
       "   <g id=\"line2d_8\">\n",
       "    <path d=\"M 116.994655 34.696549  L 156.68 34.696549  \" clip-path=\"url(#pc848e0c794)\" style=\"fill: none; stroke-dasharray: 3.7,1.6; stroke-dashoffset: 0; stroke: #444443\" />\n",
       "   </g>\n",
       "   <g id=\"patch_4\">\n",
       "    <path d=\"M 17.18 62.817354  L 17.18 1.833354  \" style=\"fill: none; stroke: #444443; stroke-width: 0.3; stroke-linejoin: miter; stroke-linecap: square\" />\n",
       "   </g>\n",
       "   <g id=\"patch_5\">\n",
       "    <path d=\"M 17.18 62.817354  L 156.68 62.817354  \" style=\"fill: none; stroke: #444443; stroke-width: 0.3; stroke-linejoin: miter; stroke-linecap: square\" />\n",
       "   </g>\n",
       "  </g>\n",
       " </g>\n",
       " <defs>\n",
       "  <clipPath id=\"pc848e0c794\">\n",
       "   <rect x=\"17.18\" y=\"1.833354\" width=\"139.5\" height=\"60.984\" />\n",
       "  </clipPath>\n",
       " </defs>\n",
       "</svg></g>\n",
       "\n",
       "<g id=\"edge5\" class=\"edge\">\n",
       "<title>node1-&gt;node4</title>\n",
       "<path fill=\"none\" stroke=\"#444443\" stroke-width=\"0.3\" d=\"M121.08,-177.18C123.86,-172.73 126.7,-168.17 129.51,-163.68\" />\n",
       "<polygon fill=\"#444443\" stroke=\"#444443\" stroke-width=\"0.3\" points=\"130.69,-164.44 131.62,-160.3 128.32,-162.95 130.69,-164.44\" />\n",
       "</g>\n",
       "\n",
       "<g id=\"node6\" class=\"node\">\n",
       "<title>leaf3</title>\n",
       "<polygon fill=\"none\" stroke=\"#444443\" stroke-width=\"0\" points=\"77,-150.5 0,-150.5 0,-88.5 77,-88.5 77,-150.5\" />\n",
       "<svg width=\"69px\" height=\"54px\" viewBox=\"0 0 91.738125 73.315394\" version=\"1.1\" preserveAspectRatio=\"xMinYMin meet\" x=\"4.5\" y=\"-146.5\">\n",
       " <metadata>\n",
       "  <rdf:RDF>\n",
       "   <ns2:Work>\n",
       "    <dc:type rdf:resource=\"http://purl.org/dc/dcmitype/StillImage\" />\n",
       "    <dc:date>2024-01-02T17:57:06.285811</dc:date>\n",
       "    <dc:format>image/svg+xml</dc:format>\n",
       "    <dc:creator>\n",
       "     <ns2:Agent>\n",
       "      <dc:title>Matplotlib v3.7.2, https://matplotlib.org/</dc:title>\n",
       "     </ns2:Agent>\n",
       "    </dc:creator>\n",
       "   </ns2:Work>\n",
       "  </rdf:RDF>\n",
       " </metadata>\n",
       " <defs>\n",
       "  <style type=\"text/css\">*{stroke-linejoin: round; stroke-linecap: butt}</style>\n",
       " </defs>\n",
       " <g id=\"figure_1\">\n",
       "  <g id=\"patch_1\">\n",
       "   <path d=\"M 0 73.315394  L 91.738125 73.315394  L 91.738125 0  L 0 0  z \" style=\"fill: #ffffff\" />\n",
       "  </g>\n",
       "  <g id=\"axes_1\">\n",
       "   <g id=\"patch_2\">\n",
       "    <path d=\"M 24.444062 46.514269  L 66.294062 46.514269  L 66.294062 2.162269  L 24.444062 2.162269  z \" style=\"fill: #ffffff\" />\n",
       "   </g>\n",
       "   <g id=\"PathCollection_1\">\n",
       "    <defs>\n",
       "     <path id=\"m05779e8657\" d=\"M 0 1.118034  C 0.296506 1.118034 0.580908 1.000231 0.790569 0.790569  C 1.000231 0.580908 1.118034 0.296506 1.118034 0  C 1.118034 -0.296506 1.000231 -0.580908 0.790569 -0.790569  C 0.580908 -1.000231 0.296506 -1.118034 0 -1.118034  C -0.296506 -1.118034 -0.580908 -1.000231 -0.790569 -0.790569  C -1.000231 -0.580908 -1.118034 -0.296506 -1.118034 0  C -1.118034 0.296506 -1.000231 0.580908 -0.790569 0.790569  C -0.580908 1.000231 -0.296506 1.118034 0 1.118034  z \" style=\"stroke: #4575b4; stroke-opacity: 0.7; stroke-width: 0.3\" />\n",
       "    </defs>\n",
       "    <g clip-path=\"url(#pbea87df781)\">\n",
       "     <use xlink:href=\"#m05779e8657\" x=\"42.690905\" y=\"17.862398\" style=\"fill: #4575b4; fill-opacity: 0.7; stroke: #4575b4; stroke-opacity: 0.7; stroke-width: 0.3\" />\n",
       "     <use xlink:href=\"#m05779e8657\" x=\"46.807405\" y=\"42.510553\" style=\"fill: #4575b4; fill-opacity: 0.7; stroke: #4575b4; stroke-opacity: 0.7; stroke-width: 0.3\" />\n",
       "     <use xlink:href=\"#m05779e8657\" x=\"46.917345\" y=\"22.888987\" style=\"fill: #4575b4; fill-opacity: 0.7; stroke: #4575b4; stroke-opacity: 0.7; stroke-width: 0.3\" />\n",
       "     <use xlink:href=\"#m05779e8657\" x=\"47.547357\" y=\"26.534183\" style=\"fill: #4575b4; fill-opacity: 0.7; stroke: #4575b4; stroke-opacity: 0.7; stroke-width: 0.3\" />\n",
       "     <use xlink:href=\"#m05779e8657\" x=\"49.878754\" y=\"27.005195\" style=\"fill: #4575b4; fill-opacity: 0.7; stroke: #4575b4; stroke-opacity: 0.7; stroke-width: 0.3\" />\n",
       "     <use xlink:href=\"#m05779e8657\" x=\"47.104724\" y=\"29.067293\" style=\"fill: #4575b4; fill-opacity: 0.7; stroke: #4575b4; stroke-opacity: 0.7; stroke-width: 0.3\" />\n",
       "     <use xlink:href=\"#m05779e8657\" x=\"44.205778\" y=\"37.123073\" style=\"fill: #4575b4; fill-opacity: 0.7; stroke: #4575b4; stroke-opacity: 0.7; stroke-width: 0.3\" />\n",
       "     <use xlink:href=\"#m05779e8657\" x=\"52.844794\" y=\"30.377613\" style=\"fill: #4575b4; fill-opacity: 0.7; stroke: #4575b4; stroke-opacity: 0.7; stroke-width: 0.3\" />\n",
       "     <use xlink:href=\"#m05779e8657\" x=\"48.091705\" y=\"33.631404\" style=\"fill: #4575b4; fill-opacity: 0.7; stroke: #4575b4; stroke-opacity: 0.7; stroke-width: 0.3\" />\n",
       "     <use xlink:href=\"#m05779e8657\" x=\"41.259669\" y=\"22.537226\" style=\"fill: #4575b4; fill-opacity: 0.7; stroke: #4575b4; stroke-opacity: 0.7; stroke-width: 0.3\" />\n",
       "     <use xlink:href=\"#m05779e8657\" x=\"36.980414\" y=\"27.492742\" style=\"fill: #4575b4; fill-opacity: 0.7; stroke: #4575b4; stroke-opacity: 0.7; stroke-width: 0.3\" />\n",
       "     <use xlink:href=\"#m05779e8657\" x=\"44.899331\" y=\"26.078608\" style=\"fill: #4575b4; fill-opacity: 0.7; stroke: #4575b4; stroke-opacity: 0.7; stroke-width: 0.3\" />\n",
       "     <use xlink:href=\"#m05779e8657\" x=\"51.292804\" y=\"26.534183\" style=\"fill: #4575b4; fill-opacity: 0.7; stroke: #4575b4; stroke-opacity: 0.7; stroke-width: 0.3\" />\n",
       "     <use xlink:href=\"#m05779e8657\" x=\"39.614128\" y=\"22.194156\" style=\"fill: #4575b4; fill-opacity: 0.7; stroke: #4575b4; stroke-opacity: 0.7; stroke-width: 0.3\" />\n",
       "     <use xlink:href=\"#m05779e8657\" x=\"44.9269\" y=\"43.653141\" style=\"fill: #4575b4; fill-opacity: 0.7; stroke: #4575b4; stroke-opacity: 0.7; stroke-width: 0.3\" />\n",
       "     <use xlink:href=\"#m05779e8657\" x=\"51.850864\" y=\"40.473695\" style=\"fill: #4575b4; fill-opacity: 0.7; stroke: #4575b4; stroke-opacity: 0.7; stroke-width: 0.3\" />\n",
       "     <use xlink:href=\"#m05779e8657\" x=\"44.167046\" y=\"38.697624\" style=\"fill: #4575b4; fill-opacity: 0.7; stroke: #4575b4; stroke-opacity: 0.7; stroke-width: 0.3\" />\n",
       "     <use xlink:href=\"#m05779e8657\" x=\"45.667177\" y=\"33.250732\" style=\"fill: #4575b4; fill-opacity: 0.7; stroke: #4575b4; stroke-opacity: 0.7; stroke-width: 0.3\" />\n",
       "     <use xlink:href=\"#m05779e8657\" x=\"44.441872\" y=\"21.694936\" style=\"fill: #4575b4; fill-opacity: 0.7; stroke: #4575b4; stroke-opacity: 0.7; stroke-width: 0.3\" />\n",
       "     <use xlink:href=\"#m05779e8657\" x=\"49.174285\" y=\"16.903839\" style=\"fill: #4575b4; fill-opacity: 0.7; stroke: #4575b4; stroke-opacity: 0.7; stroke-width: 0.3\" />\n",
       "     <use xlink:href=\"#m05779e8657\" x=\"43.945016\" y=\"26.078608\" style=\"fill: #4575b4; fill-opacity: 0.7; stroke: #4575b4; stroke-opacity: 0.7; stroke-width: 0.3\" />\n",
       "     <use xlink:href=\"#m05779e8657\" x=\"40.319203\" y=\"32.519318\" style=\"fill: #4575b4; fill-opacity: 0.7; stroke: #4575b4; stroke-opacity: 0.7; stroke-width: 0.3\" />\n",
       "     <use xlink:href=\"#m05779e8657\" x=\"45.222671\" y=\"32.16757\" style=\"fill: #4575b4; fill-opacity: 0.7; stroke: #4575b4; stroke-opacity: 0.7; stroke-width: 0.3\" />\n",
       "     <use xlink:href=\"#m05779e8657\" x=\"48.75656\" y=\"28.792157\" style=\"fill: #4575b4; fill-opacity: 0.7; stroke: #4575b4; stroke-opacity: 0.7; stroke-width: 0.3\" />\n",
       "     <use xlink:href=\"#m05779e8657\" x=\"49.220462\" y=\"14.179094\" style=\"fill: #4575b4; fill-opacity: 0.7; stroke: #4575b4; stroke-opacity: 0.7; stroke-width: 0.3\" />\n",
       "     <use xlink:href=\"#m05779e8657\" x=\"46.906103\" y=\"35.267847\" style=\"fill: #4575b4; fill-opacity: 0.7; stroke: #4575b4; stroke-opacity: 0.7; stroke-width: 0.3\" />\n",
       "     <use xlink:href=\"#m05779e8657\" x=\"51.010232\" y=\"27.492742\" style=\"fill: #4575b4; fill-opacity: 0.7; stroke: #4575b4; stroke-opacity: 0.7; stroke-width: 0.3\" />\n",
       "     <use xlink:href=\"#m05779e8657\" x=\"44.752459\" y=\"30.843364\" style=\"fill: #4575b4; fill-opacity: 0.7; stroke: #4575b4; stroke-opacity: 0.7; stroke-width: 0.3\" />\n",
       "     <use xlink:href=\"#m05779e8657\" x=\"50.43846\" y=\"31.489686\" style=\"fill: #4575b4; fill-opacity: 0.7; stroke: #4575b4; stroke-opacity: 0.7; stroke-width: 0.3\" />\n",
       "     <use xlink:href=\"#m05779e8657\" x=\"45.689801\" y=\"27.998018\" style=\"fill: #4575b4; fill-opacity: 0.7; stroke: #4575b4; stroke-opacity: 0.7; stroke-width: 0.3\" />\n",
       "     <use xlink:href=\"#m05779e8657\" x=\"41.401161\" y=\"20.004116\" style=\"fill: #4575b4; fill-opacity: 0.7; stroke: #4575b4; stroke-opacity: 0.7; stroke-width: 0.3\" />\n",
       "     <use xlink:href=\"#m05779e8657\" x=\"48.994026\" y=\"25.637502\" style=\"fill: #4575b4; fill-opacity: 0.7; stroke: #4575b4; stroke-opacity: 0.7; stroke-width: 0.3\" />\n",
       "     <use xlink:href=\"#m05779e8657\" x=\"45.538494\" y=\"15.164868\" style=\"fill: #4575b4; fill-opacity: 0.7; stroke: #4575b4; stroke-opacity: 0.7; stroke-width: 0.3\" />\n",
       "     <use xlink:href=\"#m05779e8657\" x=\"44.192539\" y=\"16.336672\" style=\"fill: #4575b4; fill-opacity: 0.7; stroke: #4575b4; stroke-opacity: 0.7; stroke-width: 0.3\" />\n",
       "     <use xlink:href=\"#m05779e8657\" x=\"44.844024\" y=\"34.840309\" style=\"fill: #4575b4; fill-opacity: 0.7; stroke: #4575b4; stroke-opacity: 0.7; stroke-width: 0.3\" />\n",
       "     <use xlink:href=\"#m05779e8657\" x=\"42.213264\" y=\"25.637502\" style=\"fill: #4575b4; fill-opacity: 0.7; stroke: #4575b4; stroke-opacity: 0.7; stroke-width: 0.3\" />\n",
       "     <use xlink:href=\"#m05779e8657\" x=\"41.604152\" y=\"39.264791\" style=\"fill: #4575b4; fill-opacity: 0.7; stroke: #4575b4; stroke-opacity: 0.7; stroke-width: 0.3\" />\n",
       "     <use xlink:href=\"#m05779e8657\" x=\"42.945355\" y=\"25.209977\" style=\"fill: #4575b4; fill-opacity: 0.7; stroke: #4575b4; stroke-opacity: 0.7; stroke-width: 0.3\" />\n",
       "     <use xlink:href=\"#m05779e8657\" x=\"50.261007\" y=\"22.888987\" style=\"fill: #4575b4; fill-opacity: 0.7; stroke: #4575b4; stroke-opacity: 0.7; stroke-width: 0.3\" />\n",
       "     <use xlink:href=\"#m05779e8657\" x=\"43.557682\" y=\"38.152705\" style=\"fill: #4575b4; fill-opacity: 0.7; stroke: #4575b4; stroke-opacity: 0.7; stroke-width: 0.3\" />\n",
       "     <use xlink:href=\"#m05779e8657\" x=\"44.400058\" y=\"43.261749\" style=\"fill: #4575b4; fill-opacity: 0.7; stroke: #4575b4; stroke-opacity: 0.7; stroke-width: 0.3\" />\n",
       "     <use xlink:href=\"#m05779e8657\" x=\"48.839556\" y=\"36.398033\" style=\"fill: #4575b4; fill-opacity: 0.7; stroke: #4575b4; stroke-opacity: 0.7; stroke-width: 0.3\" />\n",
       "     <use xlink:href=\"#m05779e8657\" x=\"46.411556\" y=\"17.495147\" style=\"fill: #4575b4; fill-opacity: 0.7; stroke: #4575b4; stroke-opacity: 0.7; stroke-width: 0.3\" />\n",
       "     <use xlink:href=\"#m05779e8657\" x=\"46.01248\" y=\"41.797901\" style=\"fill: #4575b4; fill-opacity: 0.7; stroke: #4575b4; stroke-opacity: 0.7; stroke-width: 0.3\" />\n",
       "     <use xlink:href=\"#m05779e8657\" x=\"44.945453\" y=\"32.16757\" style=\"fill: #4575b4; fill-opacity: 0.7; stroke: #4575b4; stroke-opacity: 0.7; stroke-width: 0.3\" />\n",
       "     <use xlink:href=\"#m05779e8657\" x=\"44.405871\" y=\"41.797901\" style=\"fill: #4575b4; fill-opacity: 0.7; stroke: #4575b4; stroke-opacity: 0.7; stroke-width: 0.3\" />\n",
       "     <use xlink:href=\"#m05779e8657\" x=\"40.564591\" y=\"19.436949\" style=\"fill: #4575b4; fill-opacity: 0.7; stroke: #4575b4; stroke-opacity: 0.7; stroke-width: 0.3\" />\n",
       "     <use xlink:href=\"#m05779e8657\" x=\"47.184549\" y=\"17.374863\" style=\"fill: #4575b4; fill-opacity: 0.7; stroke: #4575b4; stroke-opacity: 0.7; stroke-width: 0.3\" />\n",
       "     <use xlink:href=\"#m05779e8657\" x=\"42.690882\" y=\"14.179094\" style=\"fill: #4575b4; fill-opacity: 0.7; stroke: #4575b4; stroke-opacity: 0.7; stroke-width: 0.3\" />\n",
       "     <use xlink:href=\"#m05779e8657\" x=\"50.916509\" y=\"38.697624\" style=\"fill: #4575b4; fill-opacity: 0.7; stroke: #4575b4; stroke-opacity: 0.7; stroke-width: 0.3\" />\n",
       "     <use xlink:href=\"#m05779e8657\" x=\"44.514359\" y=\"29.926967\" style=\"fill: #4575b4; fill-opacity: 0.7; stroke: #4575b4; stroke-opacity: 0.7; stroke-width: 0.3\" />\n",
       "     <use xlink:href=\"#m05779e8657\" x=\"47.099356\" y=\"21.859355\" style=\"fill: #4575b4; fill-opacity: 0.7; stroke: #4575b4; stroke-opacity: 0.7; stroke-width: 0.3\" />\n",
       "     <use xlink:href=\"#m05779e8657\" x=\"45.359075\" y=\"20.595424\" style=\"fill: #4575b4; fill-opacity: 0.7; stroke: #4575b4; stroke-opacity: 0.7; stroke-width: 0.3\" />\n",
       "     <use xlink:href=\"#m05779e8657\" x=\"44.494021\" y=\"25.637502\" style=\"fill: #4575b4; fill-opacity: 0.7; stroke: #4575b4; stroke-opacity: 0.7; stroke-width: 0.3\" />\n",
       "     <use xlink:href=\"#m05779e8657\" x=\"49.192713\" y=\"22.888987\" style=\"fill: #4575b4; fill-opacity: 0.7; stroke: #4575b4; stroke-opacity: 0.7; stroke-width: 0.3\" />\n",
       "     <use xlink:href=\"#m05779e8657\" x=\"44.296863\" y=\"38.697624\" style=\"fill: #4575b4; fill-opacity: 0.7; stroke: #4575b4; stroke-opacity: 0.7; stroke-width: 0.3\" />\n",
       "     <use xlink:href=\"#m05779e8657\" x=\"56.262575\" y=\"33.631404\" style=\"fill: #4575b4; fill-opacity: 0.7; stroke: #4575b4; stroke-opacity: 0.7; stroke-width: 0.3\" />\n",
       "     <use xlink:href=\"#m05779e8657\" x=\"42.955174\" y=\"16.788537\" style=\"fill: #4575b4; fill-opacity: 0.7; stroke: #4575b4; stroke-opacity: 0.7; stroke-width: 0.3\" />\n",
       "     <use xlink:href=\"#m05779e8657\" x=\"46.328883\" y=\"40.161472\" style=\"fill: #4575b4; fill-opacity: 0.7; stroke: #4575b4; stroke-opacity: 0.7; stroke-width: 0.3\" />\n",
       "     <use xlink:href=\"#m05779e8657\" x=\"43.397821\" y=\"27.005195\" style=\"fill: #4575b4; fill-opacity: 0.7; stroke: #4575b4; stroke-opacity: 0.7; stroke-width: 0.3\" />\n",
       "     <use xlink:href=\"#m05779e8657\" x=\"42.432286\" y=\"36.164514\" style=\"fill: #4575b4; fill-opacity: 0.7; stroke: #4575b4; stroke-opacity: 0.7; stroke-width: 0.3\" />\n",
       "     <use xlink:href=\"#m05779e8657\" x=\"46.898299\" y=\"35.708953\" style=\"fill: #4575b4; fill-opacity: 0.7; stroke: #4575b4; stroke-opacity: 0.7; stroke-width: 0.3\" />\n",
       "     <use xlink:href=\"#m05779e8657\" x=\"40.449553\" y=\"41.797901\" style=\"fill: #4575b4; fill-opacity: 0.7; stroke: #4575b4; stroke-opacity: 0.7; stroke-width: 0.3\" />\n",
       "     <use xlink:href=\"#m05779e8657\" x=\"46.479772\" y=\"18.892029\" style=\"fill: #4575b4; fill-opacity: 0.7; stroke: #4575b4; stroke-opacity: 0.7; stroke-width: 0.3\" />\n",
       "     <use xlink:href=\"#m05779e8657\" x=\"42.216028\" y=\"23.620401\" style=\"fill: #4575b4; fill-opacity: 0.7; stroke: #4575b4; stroke-opacity: 0.7; stroke-width: 0.3\" />\n",
       "     <use xlink:href=\"#m05779e8657\" x=\"40.831471\" y=\"44.055888\" style=\"fill: #4575b4; fill-opacity: 0.7; stroke: #4575b4; stroke-opacity: 0.7; stroke-width: 0.3\" />\n",
       "     <use xlink:href=\"#m05779e8657\" x=\"45.626857\" y=\"41.797901\" style=\"fill: #4575b4; fill-opacity: 0.7; stroke: #4575b4; stroke-opacity: 0.7; stroke-width: 0.3\" />\n",
       "     <use xlink:href=\"#m05779e8657\" x=\"41.378061\" y=\"15.164868\" style=\"fill: #4575b4; fill-opacity: 0.7; stroke: #4575b4; stroke-opacity: 0.7; stroke-width: 0.3\" />\n",
       "     <use xlink:href=\"#m05779e8657\" x=\"48.180217\" y=\"27.998018\" style=\"fill: #4575b4; fill-opacity: 0.7; stroke: #4575b4; stroke-opacity: 0.7; stroke-width: 0.3\" />\n",
       "     <use xlink:href=\"#m05779e8657\" x=\"46.642372\" y=\"19.717637\" style=\"fill: #4575b4; fill-opacity: 0.7; stroke: #4575b4; stroke-opacity: 0.7; stroke-width: 0.3\" />\n",
       "     <use xlink:href=\"#m05779e8657\" x=\"50.419719\" y=\"25.8563\" style=\"fill: #4575b4; fill-opacity: 0.7; stroke: #4575b4; stroke-opacity: 0.7; stroke-width: 0.3\" />\n",
       "     <use xlink:href=\"#m05779e8657\" x=\"50.325921\" y=\"17.862398\" style=\"fill: #4575b4; fill-opacity: 0.7; stroke: #4575b4; stroke-opacity: 0.7; stroke-width: 0.3\" />\n",
       "     <use xlink:href=\"#m05779e8657\" x=\"48.065319\" y=\"38.152705\" style=\"fill: #4575b4; fill-opacity: 0.7; stroke: #4575b4; stroke-opacity: 0.7; stroke-width: 0.3\" />\n",
       "     <use xlink:href=\"#m05779e8657\" x=\"53.832288\" y=\"33.631404\" style=\"fill: #4575b4; fill-opacity: 0.7; stroke: #4575b4; stroke-opacity: 0.7; stroke-width: 0.3\" />\n",
       "     <use xlink:href=\"#m05779e8657\" x=\"40.503487\" y=\"20.004116\" style=\"fill: #4575b4; fill-opacity: 0.7; stroke: #4575b4; stroke-opacity: 0.7; stroke-width: 0.3\" />\n",
       "     <use xlink:href=\"#m05779e8657\" x=\"44.392158\" y=\"44.898178\" style=\"fill: #4575b4; fill-opacity: 0.7; stroke: #4575b4; stroke-opacity: 0.7; stroke-width: 0.3\" />\n",
       "     <use xlink:href=\"#m05779e8657\" x=\"45.400782\" y=\"38.697624\" style=\"fill: #4575b4; fill-opacity: 0.7; stroke: #4575b4; stroke-opacity: 0.7; stroke-width: 0.3\" />\n",
       "     <use xlink:href=\"#m05779e8657\" x=\"47.756241\" y=\"28.257718\" style=\"fill: #4575b4; fill-opacity: 0.7; stroke: #4575b4; stroke-opacity: 0.7; stroke-width: 0.3\" />\n",
       "     <use xlink:href=\"#m05779e8657\" x=\"44.59391\" y=\"39.856099\" style=\"fill: #4575b4; fill-opacity: 0.7; stroke: #4575b4; stroke-opacity: 0.7; stroke-width: 0.3\" />\n",
       "     <use xlink:href=\"#m05779e8657\" x=\"42.390952\" y=\"29.63446\" style=\"fill: #4575b4; fill-opacity: 0.7; stroke: #4575b4; stroke-opacity: 0.7; stroke-width: 0.3\" />\n",
       "     <use xlink:href=\"#m05779e8657\" x=\"48.529942\" y=\"36.164514\" style=\"fill: #4575b4; fill-opacity: 0.7; stroke: #4575b4; stroke-opacity: 0.7; stroke-width: 0.3\" />\n",
       "     <use xlink:href=\"#m05779e8657\" x=\"41.369776\" y=\"26.534183\" style=\"fill: #4575b4; fill-opacity: 0.7; stroke: #4575b4; stroke-opacity: 0.7; stroke-width: 0.3\" />\n",
       "     <use xlink:href=\"#m05779e8657\" x=\"39.716521\" y=\"36.164514\" style=\"fill: #4575b4; fill-opacity: 0.7; stroke: #4575b4; stroke-opacity: 0.7; stroke-width: 0.3\" />\n",
       "     <use xlink:href=\"#m05779e8657\" x=\"44.720212\" y=\"31.489686\" style=\"fill: #4575b4; fill-opacity: 0.7; stroke: #4575b4; stroke-opacity: 0.7; stroke-width: 0.3\" />\n",
       "     <use xlink:href=\"#m05779e8657\" x=\"42.690326\" y=\"44.555108\" style=\"fill: #4575b4; fill-opacity: 0.7; stroke: #4575b4; stroke-opacity: 0.7; stroke-width: 0.3\" />\n",
       "     <use xlink:href=\"#m05779e8657\" x=\"48.829526\" y=\"24.392465\" style=\"fill: #4575b4; fill-opacity: 0.7; stroke: #4575b4; stroke-opacity: 0.7; stroke-width: 0.3\" />\n",
       "     <use xlink:href=\"#m05779e8657\" x=\"47.291912\" y=\"25.209977\" style=\"fill: #4575b4; fill-opacity: 0.7; stroke: #4575b4; stroke-opacity: 0.7; stroke-width: 0.3\" />\n",
       "     <use xlink:href=\"#m05779e8657\" x=\"44.562975\" y=\"40.473695\" style=\"fill: #4575b4; fill-opacity: 0.7; stroke: #4575b4; stroke-opacity: 0.7; stroke-width: 0.3\" />\n",
       "     <use xlink:href=\"#m05779e8657\" x=\"50.462279\" y=\"16.007171\" style=\"fill: #4575b4; fill-opacity: 0.7; stroke: #4575b4; stroke-opacity: 0.7; stroke-width: 0.3\" />\n",
       "     <use xlink:href=\"#m05779e8657\" x=\"52.854218\" y=\"29.347981\" style=\"fill: #4575b4; fill-opacity: 0.7; stroke: #4575b4; stroke-opacity: 0.7; stroke-width: 0.3\" />\n",
       "     <use xlink:href=\"#m05779e8657\" x=\"45.316349\" y=\"44.055888\" style=\"fill: #4575b4; fill-opacity: 0.7; stroke: #4575b4; stroke-opacity: 0.7; stroke-width: 0.3\" />\n",
       "     <use xlink:href=\"#m05779e8657\" x=\"39.140337\" y=\"16.903839\" style=\"fill: #4575b4; fill-opacity: 0.7; stroke: #4575b4; stroke-opacity: 0.7; stroke-width: 0.3\" />\n",
       "     <use xlink:href=\"#m05779e8657\" x=\"42.329747\" y=\"34.425544\" style=\"fill: #4575b4; fill-opacity: 0.7; stroke: #4575b4; stroke-opacity: 0.7; stroke-width: 0.3\" />\n",
       "     <use xlink:href=\"#m05779e8657\" x=\"45.540183\" y=\"41.120031\" style=\"fill: #4575b4; fill-opacity: 0.7; stroke: #4575b4; stroke-opacity: 0.7; stroke-width: 0.3\" />\n",
       "     <use xlink:href=\"#m05779e8657\" x=\"43.948801\" y=\"26.534183\" style=\"fill: #4575b4; fill-opacity: 0.7; stroke: #4575b4; stroke-opacity: 0.7; stroke-width: 0.3\" />\n",
       "     <use xlink:href=\"#m05779e8657\" x=\"43.869081\" y=\"40.473695\" style=\"fill: #4575b4; fill-opacity: 0.7; stroke: #4575b4; stroke-opacity: 0.7; stroke-width: 0.3\" />\n",
       "     <use xlink:href=\"#m05779e8657\" x=\"40.116875\" y=\"43.261749\" style=\"fill: #4575b4; fill-opacity: 0.7; stroke: #4575b4; stroke-opacity: 0.7; stroke-width: 0.3\" />\n",
       "     <use xlink:href=\"#m05779e8657\" x=\"48.508016\" y=\"33.250732\" style=\"fill: #4575b4; fill-opacity: 0.7; stroke: #4575b4; stroke-opacity: 0.7; stroke-width: 0.3\" />\n",
       "     <use xlink:href=\"#m05779e8657\" x=\"48.240504\" y=\"37.123073\" style=\"fill: #4575b4; fill-opacity: 0.7; stroke: #4575b4; stroke-opacity: 0.7; stroke-width: 0.3\" />\n",
       "     <use xlink:href=\"#m05779e8657\" x=\"39.126531\" y=\"19.436949\" style=\"fill: #4575b4; fill-opacity: 0.7; stroke: #4575b4; stroke-opacity: 0.7; stroke-width: 0.3\" />\n",
       "     <use xlink:href=\"#m05779e8657\" x=\"47.787643\" y=\"29.63446\" style=\"fill: #4575b4; fill-opacity: 0.7; stroke: #4575b4; stroke-opacity: 0.7; stroke-width: 0.3\" />\n",
       "     <use xlink:href=\"#m05779e8657\" x=\"40.664875\" y=\"18.112743\" style=\"fill: #4575b4; fill-opacity: 0.7; stroke: #4575b4; stroke-opacity: 0.7; stroke-width: 0.3\" />\n",
       "     <use xlink:href=\"#m05779e8657\" x=\"43.77999\" y=\"29.067293\" style=\"fill: #4575b4; fill-opacity: 0.7; stroke: #4575b4; stroke-opacity: 0.7; stroke-width: 0.3\" />\n",
       "     <use xlink:href=\"#m05779e8657\" x=\"50.697566\" y=\"14.861721\" style=\"fill: #4575b4; fill-opacity: 0.7; stroke: #4575b4; stroke-opacity: 0.7; stroke-width: 0.3\" />\n",
       "     <use xlink:href=\"#m05779e8657\" x=\"42.326194\" y=\"30.843364\" style=\"fill: #4575b4; fill-opacity: 0.7; stroke: #4575b4; stroke-opacity: 0.7; stroke-width: 0.3\" />\n",
       "     <use xlink:href=\"#m05779e8657\" x=\"47.371829\" y=\"39.264791\" style=\"fill: #4575b4; fill-opacity: 0.7; stroke: #4575b4; stroke-opacity: 0.7; stroke-width: 0.3\" />\n",
       "     <use xlink:href=\"#m05779e8657\" x=\"42.835543\" y=\"37.628362\" style=\"fill: #4575b4; fill-opacity: 0.7; stroke: #4575b4; stroke-opacity: 0.7; stroke-width: 0.3\" />\n",
       "     <use xlink:href=\"#m05779e8657\" x=\"46.063427\" y=\"16.903839\" style=\"fill: #4575b4; fill-opacity: 0.7; stroke: #4575b4; stroke-opacity: 0.7; stroke-width: 0.3\" />\n",
       "     <use xlink:href=\"#m05779e8657\" x=\"43.373754\" y=\"41.797901\" style=\"fill: #4575b4; fill-opacity: 0.7; stroke: #4575b4; stroke-opacity: 0.7; stroke-width: 0.3\" />\n",
       "     <use xlink:href=\"#m05779e8657\" x=\"45.335181\" y=\"27.492742\" style=\"fill: #4575b4; fill-opacity: 0.7; stroke: #4575b4; stroke-opacity: 0.7; stroke-width: 0.3\" />\n",
       "     <use xlink:href=\"#m05779e8657\" x=\"49.846258\" y=\"15.791753\" style=\"fill: #4575b4; fill-opacity: 0.7; stroke: #4575b4; stroke-opacity: 0.7; stroke-width: 0.3\" />\n",
       "     <use xlink:href=\"#m05779e8657\" x=\"48.307925\" y=\"20.595424\" style=\"fill: #4575b4; fill-opacity: 0.7; stroke: #4575b4; stroke-opacity: 0.7; stroke-width: 0.3\" />\n",
       "     <use xlink:href=\"#m05779e8657\" x=\"45.093452\" y=\"36.635539\" style=\"fill: #4575b4; fill-opacity: 0.7; stroke: #4575b4; stroke-opacity: 0.7; stroke-width: 0.3\" />\n",
       "     <use xlink:href=\"#m05779e8657\" x=\"50.848643\" y=\"25.637502\" style=\"fill: #4575b4; fill-opacity: 0.7; stroke: #4575b4; stroke-opacity: 0.7; stroke-width: 0.3\" />\n",
       "     <use xlink:href=\"#m05779e8657\" x=\"46.366573\" y=\"39.264791\" style=\"fill: #4575b4; fill-opacity: 0.7; stroke: #4575b4; stroke-opacity: 0.7; stroke-width: 0.3\" />\n",
       "     <use xlink:href=\"#m05779e8657\" x=\"46.141663\" y=\"25.637502\" style=\"fill: #4575b4; fill-opacity: 0.7; stroke: #4575b4; stroke-opacity: 0.7; stroke-width: 0.3\" />\n",
       "     <use xlink:href=\"#m05779e8657\" x=\"41.592206\" y=\"30.843364\" style=\"fill: #4575b4; fill-opacity: 0.7; stroke: #4575b4; stroke-opacity: 0.7; stroke-width: 0.3\" />\n",
       "     <use xlink:href=\"#m05779e8657\" x=\"41.531957\" y=\"24.592381\" style=\"fill: #4575b4; fill-opacity: 0.7; stroke: #4575b4; stroke-opacity: 0.7; stroke-width: 0.3\" />\n",
       "     <use xlink:href=\"#m05779e8657\" x=\"43.837483\" y=\"44.055888\" style=\"fill: #4575b4; fill-opacity: 0.7; stroke: #4575b4; stroke-opacity: 0.7; stroke-width: 0.3\" />\n",
       "     <use xlink:href=\"#m05779e8657\" x=\"43.359633\" y=\"31.162769\" style=\"fill: #4575b4; fill-opacity: 0.7; stroke: #4575b4; stroke-opacity: 0.7; stroke-width: 0.3\" />\n",
       "     <use xlink:href=\"#m05779e8657\" x=\"44.824949\" y=\"34.840309\" style=\"fill: #4575b4; fill-opacity: 0.7; stroke: #4575b4; stroke-opacity: 0.7; stroke-width: 0.3\" />\n",
       "     <use xlink:href=\"#m05779e8657\" x=\"49.551962\" y=\"38.697624\" style=\"fill: #4575b4; fill-opacity: 0.7; stroke: #4575b4; stroke-opacity: 0.7; stroke-width: 0.3\" />\n",
       "     <use xlink:href=\"#m05779e8657\" x=\"39.940735\" y=\"23.249877\" style=\"fill: #4575b4; fill-opacity: 0.7; stroke: #4575b4; stroke-opacity: 0.7; stroke-width: 0.3\" />\n",
       "     <use xlink:href=\"#m05779e8657\" x=\"43.848885\" y=\"29.63446\" style=\"fill: #4575b4; fill-opacity: 0.7; stroke: #4575b4; stroke-opacity: 0.7; stroke-width: 0.3\" />\n",
       "     <use xlink:href=\"#m05779e8657\" x=\"43.804125\" y=\"39.264791\" style=\"fill: #4575b4; fill-opacity: 0.7; stroke: #4575b4; stroke-opacity: 0.7; stroke-width: 0.3\" />\n",
       "     <use xlink:href=\"#m05779e8657\" x=\"43.674909\" y=\"32.880222\" style=\"fill: #4575b4; fill-opacity: 0.7; stroke: #4575b4; stroke-opacity: 0.7; stroke-width: 0.3\" />\n",
       "     <use xlink:href=\"#m05779e8657\" x=\"50.463187\" y=\"31.824501\" style=\"fill: #4575b4; fill-opacity: 0.7; stroke: #4575b4; stroke-opacity: 0.7; stroke-width: 0.3\" />\n",
       "     <use xlink:href=\"#m05779e8657\" x=\"42.347154\" y=\"29.347981\" style=\"fill: #4575b4; fill-opacity: 0.7; stroke: #4575b4; stroke-opacity: 0.7; stroke-width: 0.3\" />\n",
       "     <use xlink:href=\"#m05779e8657\" x=\"38.15749\" y=\"24.001073\" style=\"fill: #4575b4; fill-opacity: 0.7; stroke: #4575b4; stroke-opacity: 0.7; stroke-width: 0.3\" />\n",
       "     <use xlink:href=\"#m05779e8657\" x=\"44.94478\" y=\"34.425544\" style=\"fill: #4575b4; fill-opacity: 0.7; stroke: #4575b4; stroke-opacity: 0.7; stroke-width: 0.3\" />\n",
       "     <use xlink:href=\"#m05779e8657\" x=\"44.772269\" y=\"44.470653\" style=\"fill: #4575b4; fill-opacity: 0.7; stroke: #4575b4; stroke-opacity: 0.7; stroke-width: 0.3\" />\n",
       "     <use xlink:href=\"#m05779e8657\" x=\"41.874158\" y=\"32.16757\" style=\"fill: #4575b4; fill-opacity: 0.7; stroke: #4575b4; stroke-opacity: 0.7; stroke-width: 0.3\" />\n",
       "     <use xlink:href=\"#m05779e8657\" x=\"43.354022\" y=\"30.843364\" style=\"fill: #4575b4; fill-opacity: 0.7; stroke: #4575b4; stroke-opacity: 0.7; stroke-width: 0.3\" />\n",
       "     <use xlink:href=\"#m05779e8657\" x=\"45.933988\" y=\"20.149601\" style=\"fill: #4575b4; fill-opacity: 0.7; stroke: #4575b4; stroke-opacity: 0.7; stroke-width: 0.3\" />\n",
       "     <use xlink:href=\"#m05779e8657\" x=\"46.123481\" y=\"15.791753\" style=\"fill: #4575b4; fill-opacity: 0.7; stroke: #4575b4; stroke-opacity: 0.7; stroke-width: 0.3\" />\n",
       "     <use xlink:href=\"#m05779e8657\" x=\"46.074772\" y=\"37.373419\" style=\"fill: #4575b4; fill-opacity: 0.7; stroke: #4575b4; stroke-opacity: 0.7; stroke-width: 0.3\" />\n",
       "     <use xlink:href=\"#m05779e8657\" x=\"46.658553\" y=\"38.152705\" style=\"fill: #4575b4; fill-opacity: 0.7; stroke: #4575b4; stroke-opacity: 0.7; stroke-width: 0.3\" />\n",
       "     <use xlink:href=\"#m05779e8657\" x=\"41.81498\" y=\"33.250732\" style=\"fill: #4575b4; fill-opacity: 0.7; stroke: #4575b4; stroke-opacity: 0.7; stroke-width: 0.3\" />\n",
       "     <use xlink:href=\"#m05779e8657\" x=\"46.712371\" y=\"25.209977\" style=\"fill: #4575b4; fill-opacity: 0.7; stroke: #4575b4; stroke-opacity: 0.7; stroke-width: 0.3\" />\n",
       "     <use xlink:href=\"#m05779e8657\" x=\"43.65602\" y=\"33.631404\" style=\"fill: #4575b4; fill-opacity: 0.7; stroke: #4575b4; stroke-opacity: 0.7; stroke-width: 0.3\" />\n",
       "     <use xlink:href=\"#m05779e8657\" x=\"48.071151\" y=\"30.843364\" style=\"fill: #4575b4; fill-opacity: 0.7; stroke: #4575b4; stroke-opacity: 0.7; stroke-width: 0.3\" />\n",
       "     <use xlink:href=\"#m05779e8657\" x=\"45.867701\" y=\"23.620401\" style=\"fill: #4575b4; fill-opacity: 0.7; stroke: #4575b4; stroke-opacity: 0.7; stroke-width: 0.3\" />\n",
       "     <use xlink:href=\"#m05779e8657\" x=\"43.927479\" y=\"22.537226\" style=\"fill: #4575b4; fill-opacity: 0.7; stroke: #4575b4; stroke-opacity: 0.7; stroke-width: 0.3\" />\n",
       "     <use xlink:href=\"#m05779e8657\" x=\"41.844807\" y=\"36.164514\" style=\"fill: #4575b4; fill-opacity: 0.7; stroke: #4575b4; stroke-opacity: 0.7; stroke-width: 0.3\" />\n",
       "     <use xlink:href=\"#m05779e8657\" x=\"42.27481\" y=\"30.225768\" style=\"fill: #4575b4; fill-opacity: 0.7; stroke: #4575b4; stroke-opacity: 0.7; stroke-width: 0.3\" />\n",
       "     <use xlink:href=\"#m05779e8657\" x=\"45.663857\" y=\"23.620401\" style=\"fill: #4575b4; fill-opacity: 0.7; stroke: #4575b4; stroke-opacity: 0.7; stroke-width: 0.3\" />\n",
       "     <use xlink:href=\"#m05779e8657\" x=\"45.092984\" y=\"19.436949\" style=\"fill: #4575b4; fill-opacity: 0.7; stroke: #4575b4; stroke-opacity: 0.7; stroke-width: 0.3\" />\n",
       "     <use xlink:href=\"#m05779e8657\" x=\"47.689262\" y=\"39.264791\" style=\"fill: #4575b4; fill-opacity: 0.7; stroke: #4575b4; stroke-opacity: 0.7; stroke-width: 0.3\" />\n",
       "     <use xlink:href=\"#m05779e8657\" x=\"43.459033\" y=\"25.637502\" style=\"fill: #4575b4; fill-opacity: 0.7; stroke: #4575b4; stroke-opacity: 0.7; stroke-width: 0.3\" />\n",
       "     <use xlink:href=\"#m05779e8657\" x=\"46.339558\" y=\"32.519318\" style=\"fill: #4575b4; fill-opacity: 0.7; stroke: #4575b4; stroke-opacity: 0.7; stroke-width: 0.3\" />\n",
       "     <use xlink:href=\"#m05779e8657\" x=\"43.940789\" y=\"13.437915\" style=\"fill: #4575b4; fill-opacity: 0.7; stroke: #4575b4; stroke-opacity: 0.7; stroke-width: 0.3\" />\n",
       "     <use xlink:href=\"#m05779e8657\" x=\"50.470761\" y=\"35.267847\" style=\"fill: #4575b4; fill-opacity: 0.7; stroke: #4575b4; stroke-opacity: 0.7; stroke-width: 0.3\" />\n",
       "     <use xlink:href=\"#m05779e8657\" x=\"45.166939\" y=\"44.898178\" style=\"fill: #4575b4; fill-opacity: 0.7; stroke: #4575b4; stroke-opacity: 0.7; stroke-width: 0.3\" />\n",
       "     <use xlink:href=\"#m05779e8657\" x=\"46.369035\" y=\"21.21302\" style=\"fill: #4575b4; fill-opacity: 0.7; stroke: #4575b4; stroke-opacity: 0.7; stroke-width: 0.3\" />\n",
       "     <use xlink:href=\"#m05779e8657\" x=\"39.45566\" y=\"27.743088\" style=\"fill: #4575b4; fill-opacity: 0.7; stroke: #4575b4; stroke-opacity: 0.7; stroke-width: 0.3\" />\n",
       "     <use xlink:href=\"#m05779e8657\" x=\"45.957109\" y=\"27.743088\" style=\"fill: #4575b4; fill-opacity: 0.7; stroke: #4575b4; stroke-opacity: 0.7; stroke-width: 0.3\" />\n",
       "     <use xlink:href=\"#m05779e8657\" x=\"48.254946\" y=\"24.001073\" style=\"fill: #4575b4; fill-opacity: 0.7; stroke: #4575b4; stroke-opacity: 0.7; stroke-width: 0.3\" />\n",
       "     <use xlink:href=\"#m05779e8657\" x=\"44.913299\" y=\"36.635539\" style=\"fill: #4575b4; fill-opacity: 0.7; stroke: #4575b4; stroke-opacity: 0.7; stroke-width: 0.3\" />\n",
       "     <use xlink:href=\"#m05779e8657\" x=\"47.282763\" y=\"19.717637\" style=\"fill: #4575b4; fill-opacity: 0.7; stroke: #4575b4; stroke-opacity: 0.7; stroke-width: 0.3\" />\n",
       "     <use xlink:href=\"#m05779e8657\" x=\"45.797298\" y=\"37.123073\" style=\"fill: #4575b4; fill-opacity: 0.7; stroke: #4575b4; stroke-opacity: 0.7; stroke-width: 0.3\" />\n",
       "     <use xlink:href=\"#m05779e8657\" x=\"34.859313\" y=\"35.708953\" style=\"fill: #4575b4; fill-opacity: 0.7; stroke: #4575b4; stroke-opacity: 0.7; stroke-width: 0.3\" />\n",
       "     <use xlink:href=\"#m05779e8657\" x=\"44.772649\" y=\"41.797901\" style=\"fill: #4575b4; fill-opacity: 0.7; stroke: #4575b4; stroke-opacity: 0.7; stroke-width: 0.3\" />\n",
       "     <use xlink:href=\"#m05779e8657\" x=\"50.014802\" y=\"31.489686\" style=\"fill: #4575b4; fill-opacity: 0.7; stroke: #4575b4; stroke-opacity: 0.7; stroke-width: 0.3\" />\n",
       "     <use xlink:href=\"#m05779e8657\" x=\"46.391596\" y=\"30.843364\" style=\"fill: #4575b4; fill-opacity: 0.7; stroke: #4575b4; stroke-opacity: 0.7; stroke-width: 0.3\" />\n",
       "     <use xlink:href=\"#m05779e8657\" x=\"40.838285\" y=\"12.906894\" style=\"fill: #4575b4; fill-opacity: 0.7; stroke: #4575b4; stroke-opacity: 0.7; stroke-width: 0.3\" />\n",
       "     <use xlink:href=\"#m05779e8657\" x=\"49.027261\" y=\"30.531128\" style=\"fill: #4575b4; fill-opacity: 0.7; stroke: #4575b4; stroke-opacity: 0.7; stroke-width: 0.3\" />\n",
       "     <use xlink:href=\"#m05779e8657\" x=\"44.653845\" y=\"20.595424\" style=\"fill: #4575b4; fill-opacity: 0.7; stroke: #4575b4; stroke-opacity: 0.7; stroke-width: 0.3\" />\n",
       "     <use xlink:href=\"#m05779e8657\" x=\"43.321427\" y=\"21.859355\" style=\"fill: #4575b4; fill-opacity: 0.7; stroke: #4575b4; stroke-opacity: 0.7; stroke-width: 0.3\" />\n",
       "     <use xlink:href=\"#m05779e8657\" x=\"52.619541\" y=\"42.510553\" style=\"fill: #4575b4; fill-opacity: 0.7; stroke: #4575b4; stroke-opacity: 0.7; stroke-width: 0.3\" />\n",
       "     <use xlink:href=\"#m05779e8657\" x=\"43.923163\" y=\"19.717637\" style=\"fill: #4575b4; fill-opacity: 0.7; stroke: #4575b4; stroke-opacity: 0.7; stroke-width: 0.3\" />\n",
       "     <use xlink:href=\"#m05779e8657\" x=\"45.894212\" y=\"41.120031\" style=\"fill: #4575b4; fill-opacity: 0.7; stroke: #4575b4; stroke-opacity: 0.7; stroke-width: 0.3\" />\n",
       "     <use xlink:href=\"#m05779e8657\" x=\"45.512036\" y=\"36.635539\" style=\"fill: #4575b4; fill-opacity: 0.7; stroke: #4575b4; stroke-opacity: 0.7; stroke-width: 0.3\" />\n",
       "     <use xlink:href=\"#m05779e8657\" x=\"49.379121\" y=\"26.534183\" style=\"fill: #4575b4; fill-opacity: 0.7; stroke: #4575b4; stroke-opacity: 0.7; stroke-width: 0.3\" />\n",
       "     <use xlink:href=\"#m05779e8657\" x=\"45.091843\" y=\"29.63446\" style=\"fill: #4575b4; fill-opacity: 0.7; stroke: #4575b4; stroke-opacity: 0.7; stroke-width: 0.3\" />\n",
       "     <use xlink:href=\"#m05779e8657\" x=\"47.784044\" y=\"29.067293\" style=\"fill: #4575b4; fill-opacity: 0.7; stroke: #4575b4; stroke-opacity: 0.7; stroke-width: 0.3\" />\n",
       "     <use xlink:href=\"#m05779e8657\" x=\"47.645021\" y=\"40.473695\" style=\"fill: #4575b4; fill-opacity: 0.7; stroke: #4575b4; stroke-opacity: 0.7; stroke-width: 0.3\" />\n",
       "     <use xlink:href=\"#m05779e8657\" x=\"53.941412\" y=\"37.123073\" style=\"fill: #4575b4; fill-opacity: 0.7; stroke: #4575b4; stroke-opacity: 0.7; stroke-width: 0.3\" />\n",
       "     <use xlink:href=\"#m05779e8657\" x=\"51.430042\" y=\"20.004116\" style=\"fill: #4575b4; fill-opacity: 0.7; stroke: #4575b4; stroke-opacity: 0.7; stroke-width: 0.3\" />\n",
       "     <use xlink:href=\"#m05779e8657\" x=\"42.580609\" y=\"36.164514\" style=\"fill: #4575b4; fill-opacity: 0.7; stroke: #4575b4; stroke-opacity: 0.7; stroke-width: 0.3\" />\n",
       "     <use xlink:href=\"#m05779e8657\" x=\"52.984475\" y=\"33.250732\" style=\"fill: #4575b4; fill-opacity: 0.7; stroke: #4575b4; stroke-opacity: 0.7; stroke-width: 0.3\" />\n",
       "     <use xlink:href=\"#m05779e8657\" x=\"47.422908\" y=\"32.16757\" style=\"fill: #4575b4; fill-opacity: 0.7; stroke: #4575b4; stroke-opacity: 0.7; stroke-width: 0.3\" />\n",
       "     <use xlink:href=\"#m05779e8657\" x=\"41.600955\" y=\"33.250732\" style=\"fill: #4575b4; fill-opacity: 0.7; stroke: #4575b4; stroke-opacity: 0.7; stroke-width: 0.3\" />\n",
       "     <use xlink:href=\"#m05779e8657\" x=\"43.559864\" y=\"28.522373\" style=\"fill: #4575b4; fill-opacity: 0.7; stroke: #4575b4; stroke-opacity: 0.7; stroke-width: 0.3\" />\n",
       "     <use xlink:href=\"#m05779e8657\" x=\"49.284261\" y=\"22.194156\" style=\"fill: #4575b4; fill-opacity: 0.7; stroke: #4575b4; stroke-opacity: 0.7; stroke-width: 0.3\" />\n",
       "     <use xlink:href=\"#m05779e8657\" x=\"43.711331\" y=\"28.522373\" style=\"fill: #4575b4; fill-opacity: 0.7; stroke: #4575b4; stroke-opacity: 0.7; stroke-width: 0.3\" />\n",
       "     <use xlink:href=\"#m05779e8657\" x=\"44.341032\" y=\"33.631404\" style=\"fill: #4575b4; fill-opacity: 0.7; stroke: #4575b4; stroke-opacity: 0.7; stroke-width: 0.3\" />\n",
       "     <use xlink:href=\"#m05779e8657\" x=\"40.230566\" y=\"25.8563\" style=\"fill: #4575b4; fill-opacity: 0.7; stroke: #4575b4; stroke-opacity: 0.7; stroke-width: 0.3\" />\n",
       "     <use xlink:href=\"#m05779e8657\" x=\"42.843312\" y=\"33.250732\" style=\"fill: #4575b4; fill-opacity: 0.7; stroke: #4575b4; stroke-opacity: 0.7; stroke-width: 0.3\" />\n",
       "     <use xlink:href=\"#m05779e8657\" x=\"41.552709\" y=\"26.650439\" style=\"fill: #4575b4; fill-opacity: 0.7; stroke: #4575b4; stroke-opacity: 0.7; stroke-width: 0.3\" />\n",
       "     <use xlink:href=\"#m05779e8657\" x=\"45.969827\" y=\"34.425544\" style=\"fill: #4575b4; fill-opacity: 0.7; stroke: #4575b4; stroke-opacity: 0.7; stroke-width: 0.3\" />\n",
       "     <use xlink:href=\"#m05779e8657\" x=\"45.609086\" y=\"10.51927\" style=\"fill: #4575b4; fill-opacity: 0.7; stroke: #4575b4; stroke-opacity: 0.7; stroke-width: 0.3\" />\n",
       "     <use xlink:href=\"#m05779e8657\" x=\"49.045878\" y=\"32.519318\" style=\"fill: #4575b4; fill-opacity: 0.7; stroke: #4575b4; stroke-opacity: 0.7; stroke-width: 0.3\" />\n",
       "     <use xlink:href=\"#m05779e8657\" x=\"48.76731\" y=\"44.470653\" style=\"fill: #4575b4; fill-opacity: 0.7; stroke: #4575b4; stroke-opacity: 0.7; stroke-width: 0.3\" />\n",
       "     <use xlink:href=\"#m05779e8657\" x=\"42.650274\" y=\"18.112743\" style=\"fill: #4575b4; fill-opacity: 0.7; stroke: #4575b4; stroke-opacity: 0.7; stroke-width: 0.3\" />\n",
       "     <use xlink:href=\"#m05779e8657\" x=\"50.720792\" y=\"15.791753\" style=\"fill: #4575b4; fill-opacity: 0.7; stroke: #4575b4; stroke-opacity: 0.7; stroke-width: 0.3\" />\n",
       "     <use xlink:href=\"#m05779e8657\" x=\"45.306884\" y=\"26.534183\" style=\"fill: #4575b4; fill-opacity: 0.7; stroke: #4575b4; stroke-opacity: 0.7; stroke-width: 0.3\" />\n",
       "     <use xlink:href=\"#m05779e8657\" x=\"49.406433\" y=\"20.900797\" style=\"fill: #4575b4; fill-opacity: 0.7; stroke: #4575b4; stroke-opacity: 0.7; stroke-width: 0.3\" />\n",
       "     <use xlink:href=\"#m05779e8657\" x=\"47.3865\" y=\"21.859355\" style=\"fill: #4575b4; fill-opacity: 0.7; stroke: #4575b4; stroke-opacity: 0.7; stroke-width: 0.3\" />\n",
       "     <use xlink:href=\"#m05779e8657\" x=\"47.448408\" y=\"35.267847\" style=\"fill: #4575b4; fill-opacity: 0.7; stroke: #4575b4; stroke-opacity: 0.7; stroke-width: 0.3\" />\n",
       "     <use xlink:href=\"#m05779e8657\" x=\"46.718335\" y=\"35.267847\" style=\"fill: #4575b4; fill-opacity: 0.7; stroke: #4575b4; stroke-opacity: 0.7; stroke-width: 0.3\" />\n",
       "     <use xlink:href=\"#m05779e8657\" x=\"50.283212\" y=\"38.152705\" style=\"fill: #4575b4; fill-opacity: 0.7; stroke: #4575b4; stroke-opacity: 0.7; stroke-width: 0.3\" />\n",
       "     <use xlink:href=\"#m05779e8657\" x=\"40.900682\" y=\"41.120031\" style=\"fill: #4575b4; fill-opacity: 0.7; stroke: #4575b4; stroke-opacity: 0.7; stroke-width: 0.3\" />\n",
       "    </g>\n",
       "   </g>\n",
       "   <g id=\"matplotlib.axis_1\" />\n",
       "   <g id=\"matplotlib.axis_2\">\n",
       "    <g id=\"ytick_1\">\n",
       "     <g id=\"line2d_1\">\n",
       "      <defs>\n",
       "       <path id=\"ma11288a572\" d=\"M 0 0  L -3.5 0  \" style=\"stroke: #000000; stroke-width: 0.3\" />\n",
       "      </defs>\n",
       "      <g>\n",
       "       <use xlink:href=\"#ma11288a572\" x=\"24.444062\" y=\"30.826656\" style=\"stroke: #000000; stroke-width: 0.3\" />\n",
       "      </g>\n",
       "     </g>\n",
       "     <g id=\"text_1\">\n",
       "      \n",
       "      <g style=\"fill: #444443\" transform=\"translate(7.264062 33.866031) scale(0.08 -0.08)\">\n",
       "       <defs>\n",
       "        <path id=\"DejaVuSans-31\" d=\"M 794 531  L 1825 531  L 1825 4091  L 703 3866  L 703 4441  L 1819 4666  L 2450 4666  L 2450 531  L 3481 531  L 3481 0  L 794 0  L 794 531  z \" transform=\"scale(0.015625)\" />\n",
       "        <path id=\"DejaVuSans-30\" d=\"M 2034 4250  Q 1547 4250 1301 3770  Q 1056 3291 1056 2328  Q 1056 1369 1301 889  Q 1547 409 2034 409  Q 2525 409 2770 889  Q 3016 1369 3016 2328  Q 3016 3291 2770 3770  Q 2525 4250 2034 4250  z M 2034 4750  Q 2819 4750 3233 4129  Q 3647 3509 3647 2328  Q 3647 1150 3233 529  Q 2819 -91 2034 -91  Q 1250 -91 836 529  Q 422 1150 422 2328  Q 422 3509 836 4129  Q 1250 4750 2034 4750  z \" transform=\"scale(0.015625)\" />\n",
       "       </defs>\n",
       "       <use xlink:href=\"#DejaVuSans-31\" />\n",
       "       <use xlink:href=\"#DejaVuSans-30\" x=\"63.623047\" />\n",
       "      </g>\n",
       "     </g>\n",
       "    </g>\n",
       "    <g id=\"ytick_2\">\n",
       "     <g id=\"line2d_2\">\n",
       "      <g>\n",
       "       <use xlink:href=\"#ma11288a572\" x=\"24.444062\" y=\"3.039375\" style=\"stroke: #000000; stroke-width: 0.3\" />\n",
       "      </g>\n",
       "     </g>\n",
       "     <g id=\"text_2\">\n",
       "      \n",
       "      <g style=\"fill: #444443\" transform=\"translate(7.264062 6.07875) scale(0.08 -0.08)\">\n",
       "       <defs>\n",
       "        <path id=\"DejaVuSans-32\" d=\"M 1228 531  L 3431 531  L 3431 0  L 469 0  L 469 531  Q 828 903 1448 1529  Q 2069 2156 2228 2338  Q 2531 2678 2651 2914  Q 2772 3150 2772 3378  Q 2772 3750 2511 3984  Q 2250 4219 1831 4219  Q 1534 4219 1204 4116  Q 875 4013 500 3803  L 500 4441  Q 881 4594 1212 4672  Q 1544 4750 1819 4750  Q 2544 4750 2975 4387  Q 3406 4025 3406 3419  Q 3406 3131 3298 2873  Q 3191 2616 2906 2266  Q 2828 2175 2409 1742  Q 1991 1309 1228 531  z \" transform=\"scale(0.015625)\" />\n",
       "       </defs>\n",
       "       <use xlink:href=\"#DejaVuSans-31\" />\n",
       "       <use xlink:href=\"#DejaVuSans-32\" x=\"63.623047\" />\n",
       "      </g>\n",
       "     </g>\n",
       "    </g>\n",
       "   </g>\n",
       "   <g id=\"line2d_3\">\n",
       "    <path d=\"M 24.444062 31.250842  L 92.738125 31.250842  \" clip-path=\"url(#pbea87df781)\" style=\"fill: none; stroke-dasharray: 3.7,1.6; stroke-dashoffset: 0; stroke: #444443\" />\n",
       "   </g>\n",
       "   <g id=\"patch_3\">\n",
       "    <path d=\"M 24.444062 46.514269  L 24.444062 2.162269  \" style=\"fill: none; stroke: #444443; stroke-width: 0.3; stroke-linejoin: miter; stroke-linecap: square\" />\n",
       "   </g>\n",
       "   <g id=\"text_3\">\n",
       "    \n",
       "    <g style=\"fill: #444443\" transform=\"translate(0 57.382394) scale(0.12 -0.12)\">\n",
       "     <defs>\n",
       "      <path id=\"DejaVuSans-53\" d=\"M 3425 4513  L 3425 3897  Q 3066 4069 2747 4153  Q 2428 4238 2131 4238  Q 1616 4238 1336 4038  Q 1056 3838 1056 3469  Q 1056 3159 1242 3001  Q 1428 2844 1947 2747  L 2328 2669  Q 3034 2534 3370 2195  Q 3706 1856 3706 1288  Q 3706 609 3251 259  Q 2797 -91 1919 -91  Q 1588 -91 1214 -16  Q 841 59 441 206  L 441 856  Q 825 641 1194 531  Q 1563 422 1919 422  Q 2459 422 2753 634  Q 3047 847 3047 1241  Q 3047 1584 2836 1778  Q 2625 1972 2144 2069  L 1759 2144  Q 1053 2284 737 2584  Q 422 2884 422 3419  Q 422 4038 858 4394  Q 1294 4750 2059 4750  Q 2388 4750 2728 4690  Q 3069 4631 3425 4513  z \" transform=\"scale(0.015625)\" />\n",
       "      <path id=\"DejaVuSans-61\" d=\"M 2194 1759  Q 1497 1759 1228 1600  Q 959 1441 959 1056  Q 959 750 1161 570  Q 1363 391 1709 391  Q 2188 391 2477 730  Q 2766 1069 2766 1631  L 2766 1759  L 2194 1759  z M 3341 1997  L 3341 0  L 2766 0  L 2766 531  Q 2569 213 2275 61  Q 1981 -91 1556 -91  Q 1019 -91 701 211  Q 384 513 384 1019  Q 384 1609 779 1909  Q 1175 2209 1959 2209  L 2766 2209  L 2766 2266  Q 2766 2663 2505 2880  Q 2244 3097 1772 3097  Q 1472 3097 1187 3025  Q 903 2953 641 2809  L 641 3341  Q 956 3463 1253 3523  Q 1550 3584 1831 3584  Q 2591 3584 2966 3190  Q 3341 2797 3341 1997  z \" transform=\"scale(0.015625)\" />\n",
       "      <path id=\"DejaVuSans-6c\" d=\"M 603 4863  L 1178 4863  L 1178 0  L 603 0  L 603 4863  z \" transform=\"scale(0.015625)\" />\n",
       "      <path id=\"DejaVuSans-65\" d=\"M 3597 1894  L 3597 1613  L 953 1613  Q 991 1019 1311 708  Q 1631 397 2203 397  Q 2534 397 2845 478  Q 3156 559 3463 722  L 3463 178  Q 3153 47 2828 -22  Q 2503 -91 2169 -91  Q 1331 -91 842 396  Q 353 884 353 1716  Q 353 2575 817 3079  Q 1281 3584 2069 3584  Q 2775 3584 3186 3129  Q 3597 2675 3597 1894  z M 3022 2063  Q 3016 2534 2758 2815  Q 2500 3097 2075 3097  Q 1594 3097 1305 2825  Q 1016 2553 972 2059  L 3022 2063  z \" transform=\"scale(0.015625)\" />\n",
       "      <path id=\"DejaVuSans-50\" d=\"M 1259 4147  L 1259 2394  L 2053 2394  Q 2494 2394 2734 2622  Q 2975 2850 2975 3272  Q 2975 3691 2734 3919  Q 2494 4147 2053 4147  L 1259 4147  z M 628 4666  L 2053 4666  Q 2838 4666 3239 4311  Q 3641 3956 3641 3272  Q 3641 2581 3239 2228  Q 2838 1875 2053 1875  L 1259 1875  L 1259 0  L 628 0  L 628 4666  z \" transform=\"scale(0.015625)\" />\n",
       "      <path id=\"DejaVuSans-72\" d=\"M 2631 2963  Q 2534 3019 2420 3045  Q 2306 3072 2169 3072  Q 1681 3072 1420 2755  Q 1159 2438 1159 1844  L 1159 0  L 581 0  L 581 3500  L 1159 3500  L 1159 2956  Q 1341 3275 1631 3429  Q 1922 3584 2338 3584  Q 2397 3584 2469 3576  Q 2541 3569 2628 3553  L 2631 2963  z \" transform=\"scale(0.015625)\" />\n",
       "      <path id=\"DejaVuSans-69\" d=\"M 603 3500  L 1178 3500  L 1178 0  L 603 0  L 603 3500  z M 603 4863  L 1178 4863  L 1178 4134  L 603 4134  L 603 4863  z \" transform=\"scale(0.015625)\" />\n",
       "      <path id=\"DejaVuSans-63\" d=\"M 3122 3366  L 3122 2828  Q 2878 2963 2633 3030  Q 2388 3097 2138 3097  Q 1578 3097 1268 2742  Q 959 2388 959 1747  Q 959 1106 1268 751  Q 1578 397 2138 397  Q 2388 397 2633 464  Q 2878 531 3122 666  L 3122 134  Q 2881 22 2623 -34  Q 2366 -91 2075 -91  Q 1284 -91 818 406  Q 353 903 353 1747  Q 353 2603 823 3093  Q 1294 3584 2113 3584  Q 2378 3584 2631 3529  Q 2884 3475 3122 3366  z \" transform=\"scale(0.015625)\" />\n",
       "      <path id=\"DejaVuSans-3d\" d=\"M 678 2906  L 4684 2906  L 4684 2381  L 678 2381  L 678 2906  z M 678 1631  L 4684 1631  L 4684 1100  L 678 1100  L 678 1631  z \" transform=\"scale(0.015625)\" />\n",
       "      <path id=\"DejaVuSans-39\" d=\"M 703 97  L 703 672  Q 941 559 1184 500  Q 1428 441 1663 441  Q 2288 441 2617 861  Q 2947 1281 2994 2138  Q 2813 1869 2534 1725  Q 2256 1581 1919 1581  Q 1219 1581 811 2004  Q 403 2428 403 3163  Q 403 3881 828 4315  Q 1253 4750 1959 4750  Q 2769 4750 3195 4129  Q 3622 3509 3622 2328  Q 3622 1225 3098 567  Q 2575 -91 1691 -91  Q 1453 -91 1209 -44  Q 966 3 703 97  z M 1959 2075  Q 2384 2075 2632 2365  Q 2881 2656 2881 3163  Q 2881 3666 2632 3958  Q 2384 4250 1959 4250  Q 1534 4250 1286 3958  Q 1038 3666 1038 3163  Q 1038 2656 1286 2365  Q 1534 2075 1959 2075  z \" transform=\"scale(0.015625)\" />\n",
       "      <path id=\"DejaVuSans-2e\" d=\"M 684 794  L 1344 794  L 1344 0  L 684 0  L 684 794  z \" transform=\"scale(0.015625)\" />\n",
       "      <path id=\"DejaVuSans-37\" d=\"M 525 4666  L 3525 4666  L 3525 4397  L 1831 0  L 1172 0  L 2766 4134  L 525 4134  L 525 4666  z \" transform=\"scale(0.015625)\" />\n",
       "     </defs>\n",
       "     <use xlink:href=\"#DejaVuSans-53\" />\n",
       "     <use xlink:href=\"#DejaVuSans-61\" x=\"63.476562\" />\n",
       "     <use xlink:href=\"#DejaVuSans-6c\" x=\"124.755859\" />\n",
       "     <use xlink:href=\"#DejaVuSans-65\" x=\"152.539062\" />\n",
       "     <use xlink:href=\"#DejaVuSans-50\" x=\"214.0625\" />\n",
       "     <use xlink:href=\"#DejaVuSans-72\" x=\"272.615234\" />\n",
       "     <use xlink:href=\"#DejaVuSans-69\" x=\"313.728516\" />\n",
       "     <use xlink:href=\"#DejaVuSans-63\" x=\"341.511719\" />\n",
       "     <use xlink:href=\"#DejaVuSans-65\" x=\"396.492188\" />\n",
       "     <use xlink:href=\"#DejaVuSans-3d\" x=\"458.015625\" />\n",
       "     <use xlink:href=\"#DejaVuSans-39\" x=\"541.804688\" />\n",
       "     <use xlink:href=\"#DejaVuSans-2e\" x=\"605.427734\" />\n",
       "     <use xlink:href=\"#DejaVuSans-39\" x=\"637.214844\" />\n",
       "     <use xlink:href=\"#DejaVuSans-37\" x=\"700.837891\" />\n",
       "    </g>\n",
       "    \n",
       "    <g style=\"fill: #444443\" transform=\"translate(25.58625 70.819769) scale(0.12 -0.12)\">\n",
       "     <defs>\n",
       "      <path id=\"DejaVuSans-6e\" d=\"M 3513 2113  L 3513 0  L 2938 0  L 2938 2094  Q 2938 2591 2744 2837  Q 2550 3084 2163 3084  Q 1697 3084 1428 2787  Q 1159 2491 1159 1978  L 1159 0  L 581 0  L 581 3500  L 1159 3500  L 1159 2956  Q 1366 3272 1645 3428  Q 1925 3584 2291 3584  Q 2894 3584 3203 3211  Q 3513 2838 3513 2113  z \" transform=\"scale(0.015625)\" />\n",
       "     </defs>\n",
       "     <use xlink:href=\"#DejaVuSans-6e\" />\n",
       "     <use xlink:href=\"#DejaVuSans-3d\" x=\"63.378906\" />\n",
       "     <use xlink:href=\"#DejaVuSans-32\" x=\"147.167969\" />\n",
       "     <use xlink:href=\"#DejaVuSans-30\" x=\"210.791016\" />\n",
       "     <use xlink:href=\"#DejaVuSans-32\" x=\"274.414062\" />\n",
       "    </g>\n",
       "   </g>\n",
       "  </g>\n",
       " </g>\n",
       " <defs>\n",
       "  <clipPath id=\"pbea87df781\">\n",
       "   <rect x=\"24.444062\" y=\"2.162269\" width=\"41.85\" height=\"44.352\" />\n",
       "  </clipPath>\n",
       " </defs>\n",
       "</svg></g>\n",
       "\n",
       "<g id=\"edge4\" class=\"edge\">\n",
       "<title>node1-&gt;leaf3</title>\n",
       "<path fill=\"none\" stroke=\"#444443\" stroke-width=\"0.3\" d=\"M72.74,-177.18C68.06,-169.43 63.2,-161.38 58.65,-153.86\" />\n",
       "<polygon fill=\"#444443\" stroke=\"#444443\" stroke-width=\"0.3\" points=\"59.95,-153.3 56.68,-150.6 57.55,-154.74 59.95,-153.3\" />\n",
       "</g>\n",
       "\n",
       "<g id=\"node7\" class=\"node\">\n",
       "<title>leaf2</title>\n",
       "<polygon fill=\"none\" stroke=\"#444443\" stroke-width=\"0\" points=\"255,-248.5 178,-248.5 178,-186.5 255,-186.5 255,-248.5\" />\n",
       "<svg width=\"69px\" height=\"54px\" viewBox=\"0 0 91.738125 73.315394\" version=\"1.1\" preserveAspectRatio=\"xMinYMin meet\" x=\"182.5\" y=\"-244.5\">\n",
       " <metadata>\n",
       "  <rdf:RDF>\n",
       "   <ns2:Work>\n",
       "    <dc:type rdf:resource=\"http://purl.org/dc/dcmitype/StillImage\" />\n",
       "    <dc:date>2024-01-02T17:57:06.483252</dc:date>\n",
       "    <dc:format>image/svg+xml</dc:format>\n",
       "    <dc:creator>\n",
       "     <ns2:Agent>\n",
       "      <dc:title>Matplotlib v3.7.2, https://matplotlib.org/</dc:title>\n",
       "     </ns2:Agent>\n",
       "    </dc:creator>\n",
       "   </ns2:Work>\n",
       "  </rdf:RDF>\n",
       " </metadata>\n",
       " <defs>\n",
       "  <style type=\"text/css\">*{stroke-linejoin: round; stroke-linecap: butt}</style>\n",
       " </defs>\n",
       " <g id=\"figure_1\">\n",
       "  <g id=\"patch_1\">\n",
       "   <path d=\"M 0 73.315394  L 91.738125 73.315394  L 91.738125 0  L 0 0  z \" style=\"fill: #ffffff\" />\n",
       "  </g>\n",
       "  <g id=\"axes_1\">\n",
       "   <g id=\"patch_2\">\n",
       "    <path d=\"M 24.444062 46.514269  L 66.294062 46.514269  L 66.294062 2.162269  L 24.444062 2.162269  z \" style=\"fill: #ffffff\" />\n",
       "   </g>\n",
       "   <g id=\"PathCollection_1\">\n",
       "    <defs>\n",
       "     <path id=\"mafda48c391\" d=\"M 0 1.118034  C 0.296506 1.118034 0.580908 1.000231 0.790569 0.790569  C 1.000231 0.580908 1.118034 0.296506 1.118034 0  C 1.118034 -0.296506 1.000231 -0.580908 0.790569 -0.790569  C 0.580908 -1.000231 0.296506 -1.118034 0 -1.118034  C -0.296506 -1.118034 -0.580908 -1.000231 -0.790569 -0.790569  C -1.000231 -0.580908 -1.118034 -0.296506 -1.118034 0  C -1.118034 0.296506 -1.000231 0.580908 -0.790569 0.790569  C -0.580908 1.000231 -0.296506 1.118034 0 1.118034  z \" style=\"stroke: #4575b4; stroke-opacity: 0.7; stroke-width: 0.3\" />\n",
       "    </defs>\n",
       "    <g clip-path=\"url(#pac92f0ac94)\">\n",
       "     <use xlink:href=\"#mafda48c391\" x=\"48.994814\" y=\"41.797901\" style=\"fill: #4575b4; fill-opacity: 0.7; stroke: #4575b4; stroke-opacity: 0.7; stroke-width: 0.3\" />\n",
       "     <use xlink:href=\"#mafda48c391\" x=\"47.846038\" y=\"34.425544\" style=\"fill: #4575b4; fill-opacity: 0.7; stroke: #4575b4; stroke-opacity: 0.7; stroke-width: 0.3\" />\n",
       "     <use xlink:href=\"#mafda48c391\" x=\"44.106257\" y=\"39.856099\" style=\"fill: #4575b4; fill-opacity: 0.7; stroke: #4575b4; stroke-opacity: 0.7; stroke-width: 0.3\" />\n",
       "     <use xlink:href=\"#mafda48c391\" x=\"43.948644\" y=\"48.895135\" style=\"fill: #4575b4; fill-opacity: 0.7; stroke: #4575b4; stroke-opacity: 0.7; stroke-width: 0.3\" />\n",
       "     <use xlink:href=\"#mafda48c391\" x=\"47.810426\" y=\"50.10404\" style=\"fill: #4575b4; fill-opacity: 0.7; stroke: #4575b4; stroke-opacity: 0.7; stroke-width: 0.3\" />\n",
       "     <use xlink:href=\"#mafda48c391\" x=\"49.875529\" y=\"46.26587\" style=\"fill: #4575b4; fill-opacity: 0.7; stroke: #4575b4; stroke-opacity: 0.7; stroke-width: 0.3\" />\n",
       "     <use xlink:href=\"#mafda48c391\" x=\"48.200718\" y=\"41.797901\" style=\"fill: #4575b4; fill-opacity: 0.7; stroke: #4575b4; stroke-opacity: 0.7; stroke-width: 0.3\" />\n",
       "     <use xlink:href=\"#mafda48c391\" x=\"49.098564\" y=\"44.898178\" style=\"fill: #4575b4; fill-opacity: 0.7; stroke: #4575b4; stroke-opacity: 0.7; stroke-width: 0.3\" />\n",
       "     <use xlink:href=\"#mafda48c391\" x=\"43.000225\" y=\"47.783049\" style=\"fill: #4575b4; fill-opacity: 0.7; stroke: #4575b4; stroke-opacity: 0.7; stroke-width: 0.3\" />\n",
       "     <use xlink:href=\"#mafda48c391\" x=\"51.722602\" y=\"44.055888\" style=\"fill: #4575b4; fill-opacity: 0.7; stroke: #4575b4; stroke-opacity: 0.7; stroke-width: 0.3\" />\n",
       "     <use xlink:href=\"#mafda48c391\" x=\"42.87657\" y=\"34.425544\" style=\"fill: #4575b4; fill-opacity: 0.7; stroke: #4575b4; stroke-opacity: 0.7; stroke-width: 0.3\" />\n",
       "     <use xlink:href=\"#mafda48c391\" x=\"47.118972\" y=\"39.264791\" style=\"fill: #4575b4; fill-opacity: 0.7; stroke: #4575b4; stroke-opacity: 0.7; stroke-width: 0.3\" />\n",
       "     <use xlink:href=\"#mafda48c391\" x=\"45.806971\" y=\"38.152705\" style=\"fill: #4575b4; fill-opacity: 0.7; stroke: #4575b4; stroke-opacity: 0.7; stroke-width: 0.3\" />\n",
       "     <use xlink:href=\"#mafda48c391\" x=\"43.870062\" y=\"36.164514\" style=\"fill: #4575b4; fill-opacity: 0.7; stroke: #4575b4; stroke-opacity: 0.7; stroke-width: 0.3\" />\n",
       "     <use xlink:href=\"#mafda48c391\" x=\"45.51585\" y=\"38.697624\" style=\"fill: #4575b4; fill-opacity: 0.7; stroke: #4575b4; stroke-opacity: 0.7; stroke-width: 0.3\" />\n",
       "     <use xlink:href=\"#mafda48c391\" x=\"48.000083\" y=\"34.425544\" style=\"fill: #4575b4; fill-opacity: 0.7; stroke: #4575b4; stroke-opacity: 0.7; stroke-width: 0.3\" />\n",
       "     <use xlink:href=\"#mafda48c391\" x=\"40.82108\" y=\"38.368123\" style=\"fill: #4575b4; fill-opacity: 0.7; stroke: #4575b4; stroke-opacity: 0.7; stroke-width: 0.3\" />\n",
       "     <use xlink:href=\"#mafda48c391\" x=\"42.474753\" y=\"39.264791\" style=\"fill: #4575b4; fill-opacity: 0.7; stroke: #4575b4; stroke-opacity: 0.7; stroke-width: 0.3\" />\n",
       "     <use xlink:href=\"#mafda48c391\" x=\"48.609082\" y=\"43.261749\" style=\"fill: #4575b4; fill-opacity: 0.7; stroke: #4575b4; stroke-opacity: 0.7; stroke-width: 0.3\" />\n",
       "     <use xlink:href=\"#mafda48c391\" x=\"46.519422\" y=\"45.794859\" style=\"fill: #4575b4; fill-opacity: 0.7; stroke: #4575b4; stroke-opacity: 0.7; stroke-width: 0.3\" />\n",
       "     <use xlink:href=\"#mafda48c391\" x=\"49.892633\" y=\"40.473695\" style=\"fill: #4575b4; fill-opacity: 0.7; stroke: #4575b4; stroke-opacity: 0.7; stroke-width: 0.3\" />\n",
       "     <use xlink:href=\"#mafda48c391\" x=\"49.515901\" y=\"44.898178\" style=\"fill: #4575b4; fill-opacity: 0.7; stroke: #4575b4; stroke-opacity: 0.7; stroke-width: 0.3\" />\n",
       "     <use xlink:href=\"#mafda48c391\" x=\"47.538063\" y=\"43.261749\" style=\"fill: #4575b4; fill-opacity: 0.7; stroke: #4575b4; stroke-opacity: 0.7; stroke-width: 0.3\" />\n",
       "     <use xlink:href=\"#mafda48c391\" x=\"46.091966\" y=\"44.055888\" style=\"fill: #4575b4; fill-opacity: 0.7; stroke: #4575b4; stroke-opacity: 0.7; stroke-width: 0.3\" />\n",
       "     <use xlink:href=\"#mafda48c391\" x=\"46.906647\" y=\"44.898178\" style=\"fill: #4575b4; fill-opacity: 0.7; stroke: #4575b4; stroke-opacity: 0.7; stroke-width: 0.3\" />\n",
       "     <use xlink:href=\"#mafda48c391\" x=\"47.265808\" y=\"39.264791\" style=\"fill: #4575b4; fill-opacity: 0.7; stroke: #4575b4; stroke-opacity: 0.7; stroke-width: 0.3\" />\n",
       "     <use xlink:href=\"#mafda48c391\" x=\"47.76586\" y=\"48.895135\" style=\"fill: #4575b4; fill-opacity: 0.7; stroke: #4575b4; stroke-opacity: 0.7; stroke-width: 0.3\" />\n",
       "     <use xlink:href=\"#mafda48c391\" x=\"40.325011\" y=\"50.10404\" style=\"fill: #4575b4; fill-opacity: 0.7; stroke: #4575b4; stroke-opacity: 0.7; stroke-width: 0.3\" />\n",
       "     <use xlink:href=\"#mafda48c391\" x=\"41.170718\" y=\"43.261749\" style=\"fill: #4575b4; fill-opacity: 0.7; stroke: #4575b4; stroke-opacity: 0.7; stroke-width: 0.3\" />\n",
       "     <use xlink:href=\"#mafda48c391\" x=\"49.875634\" y=\"41.120031\" style=\"fill: #4575b4; fill-opacity: 0.7; stroke: #4575b4; stroke-opacity: 0.7; stroke-width: 0.3\" />\n",
       "     <use xlink:href=\"#mafda48c391\" x=\"48.441153\" y=\"44.055888\" style=\"fill: #4575b4; fill-opacity: 0.7; stroke: #4575b4; stroke-opacity: 0.7; stroke-width: 0.3\" />\n",
       "     <use xlink:href=\"#mafda48c391\" x=\"41.110398\" y=\"48.895135\" style=\"fill: #4575b4; fill-opacity: 0.7; stroke: #4575b4; stroke-opacity: 0.7; stroke-width: 0.3\" />\n",
       "     <use xlink:href=\"#mafda48c391\" x=\"47.867555\" y=\"45.794859\" style=\"fill: #4575b4; fill-opacity: 0.7; stroke: #4575b4; stroke-opacity: 0.7; stroke-width: 0.3\" />\n",
       "     <use xlink:href=\"#mafda48c391\" x=\"43.153681\" y=\"38.697624\" style=\"fill: #4575b4; fill-opacity: 0.7; stroke: #4575b4; stroke-opacity: 0.7; stroke-width: 0.3\" />\n",
       "     <use xlink:href=\"#mafda48c391\" x=\"48.842934\" y=\"47.783049\" style=\"fill: #4575b4; fill-opacity: 0.7; stroke: #4575b4; stroke-opacity: 0.7; stroke-width: 0.3\" />\n",
       "     <use xlink:href=\"#mafda48c391\" x=\"48.463644\" y=\"40.473695\" style=\"fill: #4575b4; fill-opacity: 0.7; stroke: #4575b4; stroke-opacity: 0.7; stroke-width: 0.3\" />\n",
       "     <use xlink:href=\"#mafda48c391\" x=\"48.137772\" y=\"41.120031\" style=\"fill: #4575b4; fill-opacity: 0.7; stroke: #4575b4; stroke-opacity: 0.7; stroke-width: 0.3\" />\n",
       "     <use xlink:href=\"#mafda48c391\" x=\"55.236044\" y=\"44.898178\" style=\"fill: #4575b4; fill-opacity: 0.7; stroke: #4575b4; stroke-opacity: 0.7; stroke-width: 0.3\" />\n",
       "     <use xlink:href=\"#mafda48c391\" x=\"45.634964\" y=\"44.898178\" style=\"fill: #4575b4; fill-opacity: 0.7; stroke: #4575b4; stroke-opacity: 0.7; stroke-width: 0.3\" />\n",
       "     <use xlink:href=\"#mafda48c391\" x=\"39.694671\" y=\"43.653141\" style=\"fill: #4575b4; fill-opacity: 0.7; stroke: #4575b4; stroke-opacity: 0.7; stroke-width: 0.3\" />\n",
       "     <use xlink:href=\"#mafda48c391\" x=\"45.354879\" y=\"37.123073\" style=\"fill: #4575b4; fill-opacity: 0.7; stroke: #4575b4; stroke-opacity: 0.7; stroke-width: 0.3\" />\n",
       "     <use xlink:href=\"#mafda48c391\" x=\"47.597444\" y=\"44.898178\" style=\"fill: #4575b4; fill-opacity: 0.7; stroke: #4575b4; stroke-opacity: 0.7; stroke-width: 0.3\" />\n",
       "     <use xlink:href=\"#mafda48c391\" x=\"41.005174\" y=\"46.753417\" style=\"fill: #4575b4; fill-opacity: 0.7; stroke: #4575b4; stroke-opacity: 0.7; stroke-width: 0.3\" />\n",
       "     <use xlink:href=\"#mafda48c391\" x=\"50.636423\" y=\"44.898178\" style=\"fill: #4575b4; fill-opacity: 0.7; stroke: #4575b4; stroke-opacity: 0.7; stroke-width: 0.3\" />\n",
       "     <use xlink:href=\"#mafda48c391\" x=\"47.635386\" y=\"38.152705\" style=\"fill: #4575b4; fill-opacity: 0.7; stroke: #4575b4; stroke-opacity: 0.7; stroke-width: 0.3\" />\n",
       "     <use xlink:href=\"#mafda48c391\" x=\"43.720331\" y=\"38.152705\" style=\"fill: #4575b4; fill-opacity: 0.7; stroke: #4575b4; stroke-opacity: 0.7; stroke-width: 0.3\" />\n",
       "     <use xlink:href=\"#mafda48c391\" x=\"46.293983\" y=\"34.425544\" style=\"fill: #4575b4; fill-opacity: 0.7; stroke: #4575b4; stroke-opacity: 0.7; stroke-width: 0.3\" />\n",
       "     <use xlink:href=\"#mafda48c391\" x=\"46.32213\" y=\"38.697624\" style=\"fill: #4575b4; fill-opacity: 0.7; stroke: #4575b4; stroke-opacity: 0.7; stroke-width: 0.3\" />\n",
       "     <use xlink:href=\"#mafda48c391\" x=\"51.825523\" y=\"41.797901\" style=\"fill: #4575b4; fill-opacity: 0.7; stroke: #4575b4; stroke-opacity: 0.7; stroke-width: 0.3\" />\n",
       "     <use xlink:href=\"#mafda48c391\" x=\"49.509351\" y=\"38.152705\" style=\"fill: #4575b4; fill-opacity: 0.7; stroke: #4575b4; stroke-opacity: 0.7; stroke-width: 0.3\" />\n",
       "     <use xlink:href=\"#mafda48c391\" x=\"51.358769\" y=\"43.653141\" style=\"fill: #4575b4; fill-opacity: 0.7; stroke: #4575b4; stroke-opacity: 0.7; stroke-width: 0.3\" />\n",
       "     <use xlink:href=\"#mafda48c391\" x=\"42.92196\" y=\"42.510553\" style=\"fill: #4575b4; fill-opacity: 0.7; stroke: #4575b4; stroke-opacity: 0.7; stroke-width: 0.3\" />\n",
       "     <use xlink:href=\"#mafda48c391\" x=\"48.514944\" y=\"46.556337\" style=\"fill: #4575b4; fill-opacity: 0.7; stroke: #4575b4; stroke-opacity: 0.7; stroke-width: 0.3\" />\n",
       "     <use xlink:href=\"#mafda48c391\" x=\"45.335045\" y=\"43.261749\" style=\"fill: #4575b4; fill-opacity: 0.7; stroke: #4575b4; stroke-opacity: 0.7; stroke-width: 0.3\" />\n",
       "     <use xlink:href=\"#mafda48c391\" x=\"41.887821\" y=\"43.261749\" style=\"fill: #4575b4; fill-opacity: 0.7; stroke: #4575b4; stroke-opacity: 0.7; stroke-width: 0.3\" />\n",
       "     <use xlink:href=\"#mafda48c391\" x=\"42.430784\" y=\"44.898178\" style=\"fill: #4575b4; fill-opacity: 0.7; stroke: #4575b4; stroke-opacity: 0.7; stroke-width: 0.3\" />\n",
       "    </g>\n",
       "   </g>\n",
       "   <g id=\"matplotlib.axis_1\" />\n",
       "   <g id=\"matplotlib.axis_2\">\n",
       "    <g id=\"ytick_1\">\n",
       "     <g id=\"line2d_1\">\n",
       "      <defs>\n",
       "       <path id=\"m3d1b80b29b\" d=\"M 0 0  L -3.5 0  \" style=\"stroke: #000000; stroke-width: 0.3\" />\n",
       "      </defs>\n",
       "      <g>\n",
       "       <use xlink:href=\"#m3d1b80b29b\" x=\"24.444062\" y=\"30.826656\" style=\"stroke: #000000; stroke-width: 0.3\" />\n",
       "      </g>\n",
       "     </g>\n",
       "     <g id=\"text_1\">\n",
       "      \n",
       "      <g style=\"fill: #444443\" transform=\"translate(7.264062 33.866031) scale(0.08 -0.08)\">\n",
       "       <defs>\n",
       "        <path id=\"DejaVuSans-31\" d=\"M 794 531  L 1825 531  L 1825 4091  L 703 3866  L 703 4441  L 1819 4666  L 2450 4666  L 2450 531  L 3481 531  L 3481 0  L 794 0  L 794 531  z \" transform=\"scale(0.015625)\" />\n",
       "        <path id=\"DejaVuSans-30\" d=\"M 2034 4250  Q 1547 4250 1301 3770  Q 1056 3291 1056 2328  Q 1056 1369 1301 889  Q 1547 409 2034 409  Q 2525 409 2770 889  Q 3016 1369 3016 2328  Q 3016 3291 2770 3770  Q 2525 4250 2034 4250  z M 2034 4750  Q 2819 4750 3233 4129  Q 3647 3509 3647 2328  Q 3647 1150 3233 529  Q 2819 -91 2034 -91  Q 1250 -91 836 529  Q 422 1150 422 2328  Q 422 3509 836 4129  Q 1250 4750 2034 4750  z \" transform=\"scale(0.015625)\" />\n",
       "       </defs>\n",
       "       <use xlink:href=\"#DejaVuSans-31\" />\n",
       "       <use xlink:href=\"#DejaVuSans-30\" x=\"63.623047\" />\n",
       "      </g>\n",
       "     </g>\n",
       "    </g>\n",
       "    <g id=\"ytick_2\">\n",
       "     <g id=\"line2d_2\">\n",
       "      <g>\n",
       "       <use xlink:href=\"#m3d1b80b29b\" x=\"24.444062\" y=\"3.039375\" style=\"stroke: #000000; stroke-width: 0.3\" />\n",
       "      </g>\n",
       "     </g>\n",
       "     <g id=\"text_2\">\n",
       "      \n",
       "      <g style=\"fill: #444443\" transform=\"translate(7.264062 6.07875) scale(0.08 -0.08)\">\n",
       "       <defs>\n",
       "        <path id=\"DejaVuSans-32\" d=\"M 1228 531  L 3431 531  L 3431 0  L 469 0  L 469 531  Q 828 903 1448 1529  Q 2069 2156 2228 2338  Q 2531 2678 2651 2914  Q 2772 3150 2772 3378  Q 2772 3750 2511 3984  Q 2250 4219 1831 4219  Q 1534 4219 1204 4116  Q 875 4013 500 3803  L 500 4441  Q 881 4594 1212 4672  Q 1544 4750 1819 4750  Q 2544 4750 2975 4387  Q 3406 4025 3406 3419  Q 3406 3131 3298 2873  Q 3191 2616 2906 2266  Q 2828 2175 2409 1742  Q 1991 1309 1228 531  z \" transform=\"scale(0.015625)\" />\n",
       "       </defs>\n",
       "       <use xlink:href=\"#DejaVuSans-31\" />\n",
       "       <use xlink:href=\"#DejaVuSans-32\" x=\"63.623047\" />\n",
       "      </g>\n",
       "     </g>\n",
       "    </g>\n",
       "   </g>\n",
       "   <g id=\"line2d_3\">\n",
       "    <path d=\"M 24.444062 41.83267  L 92.738125 41.83267  \" clip-path=\"url(#pac92f0ac94)\" style=\"fill: none; stroke-dasharray: 3.7,1.6; stroke-dashoffset: 0; stroke: #444443\" />\n",
       "   </g>\n",
       "   <g id=\"patch_3\">\n",
       "    <path d=\"M 24.444062 46.514269  L 24.444062 2.162269  \" style=\"fill: none; stroke: #444443; stroke-width: 0.3; stroke-linejoin: miter; stroke-linecap: square\" />\n",
       "   </g>\n",
       "   <g id=\"text_3\">\n",
       "    \n",
       "    <g style=\"fill: #444443\" transform=\"translate(0 57.382394) scale(0.12 -0.12)\">\n",
       "     <defs>\n",
       "      <path id=\"DejaVuSans-53\" d=\"M 3425 4513  L 3425 3897  Q 3066 4069 2747 4153  Q 2428 4238 2131 4238  Q 1616 4238 1336 4038  Q 1056 3838 1056 3469  Q 1056 3159 1242 3001  Q 1428 2844 1947 2747  L 2328 2669  Q 3034 2534 3370 2195  Q 3706 1856 3706 1288  Q 3706 609 3251 259  Q 2797 -91 1919 -91  Q 1588 -91 1214 -16  Q 841 59 441 206  L 441 856  Q 825 641 1194 531  Q 1563 422 1919 422  Q 2459 422 2753 634  Q 3047 847 3047 1241  Q 3047 1584 2836 1778  Q 2625 1972 2144 2069  L 1759 2144  Q 1053 2284 737 2584  Q 422 2884 422 3419  Q 422 4038 858 4394  Q 1294 4750 2059 4750  Q 2388 4750 2728 4690  Q 3069 4631 3425 4513  z \" transform=\"scale(0.015625)\" />\n",
       "      <path id=\"DejaVuSans-61\" d=\"M 2194 1759  Q 1497 1759 1228 1600  Q 959 1441 959 1056  Q 959 750 1161 570  Q 1363 391 1709 391  Q 2188 391 2477 730  Q 2766 1069 2766 1631  L 2766 1759  L 2194 1759  z M 3341 1997  L 3341 0  L 2766 0  L 2766 531  Q 2569 213 2275 61  Q 1981 -91 1556 -91  Q 1019 -91 701 211  Q 384 513 384 1019  Q 384 1609 779 1909  Q 1175 2209 1959 2209  L 2766 2209  L 2766 2266  Q 2766 2663 2505 2880  Q 2244 3097 1772 3097  Q 1472 3097 1187 3025  Q 903 2953 641 2809  L 641 3341  Q 956 3463 1253 3523  Q 1550 3584 1831 3584  Q 2591 3584 2966 3190  Q 3341 2797 3341 1997  z \" transform=\"scale(0.015625)\" />\n",
       "      <path id=\"DejaVuSans-6c\" d=\"M 603 4863  L 1178 4863  L 1178 0  L 603 0  L 603 4863  z \" transform=\"scale(0.015625)\" />\n",
       "      <path id=\"DejaVuSans-65\" d=\"M 3597 1894  L 3597 1613  L 953 1613  Q 991 1019 1311 708  Q 1631 397 2203 397  Q 2534 397 2845 478  Q 3156 559 3463 722  L 3463 178  Q 3153 47 2828 -22  Q 2503 -91 2169 -91  Q 1331 -91 842 396  Q 353 884 353 1716  Q 353 2575 817 3079  Q 1281 3584 2069 3584  Q 2775 3584 3186 3129  Q 3597 2675 3597 1894  z M 3022 2063  Q 3016 2534 2758 2815  Q 2500 3097 2075 3097  Q 1594 3097 1305 2825  Q 1016 2553 972 2059  L 3022 2063  z \" transform=\"scale(0.015625)\" />\n",
       "      <path id=\"DejaVuSans-50\" d=\"M 1259 4147  L 1259 2394  L 2053 2394  Q 2494 2394 2734 2622  Q 2975 2850 2975 3272  Q 2975 3691 2734 3919  Q 2494 4147 2053 4147  L 1259 4147  z M 628 4666  L 2053 4666  Q 2838 4666 3239 4311  Q 3641 3956 3641 3272  Q 3641 2581 3239 2228  Q 2838 1875 2053 1875  L 1259 1875  L 1259 0  L 628 0  L 628 4666  z \" transform=\"scale(0.015625)\" />\n",
       "      <path id=\"DejaVuSans-72\" d=\"M 2631 2963  Q 2534 3019 2420 3045  Q 2306 3072 2169 3072  Q 1681 3072 1420 2755  Q 1159 2438 1159 1844  L 1159 0  L 581 0  L 581 3500  L 1159 3500  L 1159 2956  Q 1341 3275 1631 3429  Q 1922 3584 2338 3584  Q 2397 3584 2469 3576  Q 2541 3569 2628 3553  L 2631 2963  z \" transform=\"scale(0.015625)\" />\n",
       "      <path id=\"DejaVuSans-69\" d=\"M 603 3500  L 1178 3500  L 1178 0  L 603 0  L 603 3500  z M 603 4863  L 1178 4863  L 1178 4134  L 603 4134  L 603 4863  z \" transform=\"scale(0.015625)\" />\n",
       "      <path id=\"DejaVuSans-63\" d=\"M 3122 3366  L 3122 2828  Q 2878 2963 2633 3030  Q 2388 3097 2138 3097  Q 1578 3097 1268 2742  Q 959 2388 959 1747  Q 959 1106 1268 751  Q 1578 397 2138 397  Q 2388 397 2633 464  Q 2878 531 3122 666  L 3122 134  Q 2881 22 2623 -34  Q 2366 -91 2075 -91  Q 1284 -91 818 406  Q 353 903 353 1747  Q 353 2603 823 3093  Q 1294 3584 2113 3584  Q 2378 3584 2631 3529  Q 2884 3475 3122 3366  z \" transform=\"scale(0.015625)\" />\n",
       "      <path id=\"DejaVuSans-3d\" d=\"M 678 2906  L 4684 2906  L 4684 2381  L 678 2381  L 678 2906  z M 678 1631  L 4684 1631  L 4684 1100  L 678 1100  L 678 1631  z \" transform=\"scale(0.015625)\" />\n",
       "      <path id=\"DejaVuSans-39\" d=\"M 703 97  L 703 672  Q 941 559 1184 500  Q 1428 441 1663 441  Q 2288 441 2617 861  Q 2947 1281 2994 2138  Q 2813 1869 2534 1725  Q 2256 1581 1919 1581  Q 1219 1581 811 2004  Q 403 2428 403 3163  Q 403 3881 828 4315  Q 1253 4750 1959 4750  Q 2769 4750 3195 4129  Q 3622 3509 3622 2328  Q 3622 1225 3098 567  Q 2575 -91 1691 -91  Q 1453 -91 1209 -44  Q 966 3 703 97  z M 1959 2075  Q 2384 2075 2632 2365  Q 2881 2656 2881 3163  Q 2881 3666 2632 3958  Q 2384 4250 1959 4250  Q 1534 4250 1286 3958  Q 1038 3666 1038 3163  Q 1038 2656 1286 2365  Q 1534 2075 1959 2075  z \" transform=\"scale(0.015625)\" />\n",
       "      <path id=\"DejaVuSans-2e\" d=\"M 684 794  L 1344 794  L 1344 0  L 684 0  L 684 794  z \" transform=\"scale(0.015625)\" />\n",
       "     </defs>\n",
       "     <use xlink:href=\"#DejaVuSans-53\" />\n",
       "     <use xlink:href=\"#DejaVuSans-61\" x=\"63.476562\" />\n",
       "     <use xlink:href=\"#DejaVuSans-6c\" x=\"124.755859\" />\n",
       "     <use xlink:href=\"#DejaVuSans-65\" x=\"152.539062\" />\n",
       "     <use xlink:href=\"#DejaVuSans-50\" x=\"214.0625\" />\n",
       "     <use xlink:href=\"#DejaVuSans-72\" x=\"272.615234\" />\n",
       "     <use xlink:href=\"#DejaVuSans-69\" x=\"313.728516\" />\n",
       "     <use xlink:href=\"#DejaVuSans-63\" x=\"341.511719\" />\n",
       "     <use xlink:href=\"#DejaVuSans-65\" x=\"396.492188\" />\n",
       "     <use xlink:href=\"#DejaVuSans-3d\" x=\"458.015625\" />\n",
       "     <use xlink:href=\"#DejaVuSans-39\" x=\"541.804688\" />\n",
       "     <use xlink:href=\"#DejaVuSans-2e\" x=\"605.427734\" />\n",
       "     <use xlink:href=\"#DejaVuSans-32\" x=\"637.214844\" />\n",
       "     <use xlink:href=\"#DejaVuSans-31\" x=\"700.837891\" />\n",
       "    </g>\n",
       "    \n",
       "    <g style=\"fill: #444443\" transform=\"translate(29.40375 70.819769) scale(0.12 -0.12)\">\n",
       "     <defs>\n",
       "      <path id=\"DejaVuSans-6e\" d=\"M 3513 2113  L 3513 0  L 2938 0  L 2938 2094  Q 2938 2591 2744 2837  Q 2550 3084 2163 3084  Q 1697 3084 1428 2787  Q 1159 2491 1159 1978  L 1159 0  L 581 0  L 581 3500  L 1159 3500  L 1159 2956  Q 1366 3272 1645 3428  Q 1925 3584 2291 3584  Q 2894 3584 3203 3211  Q 3513 2838 3513 2113  z \" transform=\"scale(0.015625)\" />\n",
       "      <path id=\"DejaVuSans-35\" d=\"M 691 4666  L 3169 4666  L 3169 4134  L 1269 4134  L 1269 2991  Q 1406 3038 1543 3061  Q 1681 3084 1819 3084  Q 2600 3084 3056 2656  Q 3513 2228 3513 1497  Q 3513 744 3044 326  Q 2575 -91 1722 -91  Q 1428 -91 1123 -41  Q 819 9 494 109  L 494 744  Q 775 591 1075 516  Q 1375 441 1709 441  Q 2250 441 2565 725  Q 2881 1009 2881 1497  Q 2881 1984 2565 2268  Q 2250 2553 1709 2553  Q 1456 2553 1204 2497  Q 953 2441 691 2322  L 691 4666  z \" transform=\"scale(0.015625)\" />\n",
       "      <path id=\"DejaVuSans-36\" d=\"M 2113 2584  Q 1688 2584 1439 2293  Q 1191 2003 1191 1497  Q 1191 994 1439 701  Q 1688 409 2113 409  Q 2538 409 2786 701  Q 3034 994 3034 1497  Q 3034 2003 2786 2293  Q 2538 2584 2113 2584  z M 3366 4563  L 3366 3988  Q 3128 4100 2886 4159  Q 2644 4219 2406 4219  Q 1781 4219 1451 3797  Q 1122 3375 1075 2522  Q 1259 2794 1537 2939  Q 1816 3084 2150 3084  Q 2853 3084 3261 2657  Q 3669 2231 3669 1497  Q 3669 778 3244 343  Q 2819 -91 2113 -91  Q 1303 -91 875 529  Q 447 1150 447 2328  Q 447 3434 972 4092  Q 1497 4750 2381 4750  Q 2619 4750 2861 4703  Q 3103 4656 3366 4563  z \" transform=\"scale(0.015625)\" />\n",
       "     </defs>\n",
       "     <use xlink:href=\"#DejaVuSans-6e\" />\n",
       "     <use xlink:href=\"#DejaVuSans-3d\" x=\"63.378906\" />\n",
       "     <use xlink:href=\"#DejaVuSans-35\" x=\"147.167969\" />\n",
       "     <use xlink:href=\"#DejaVuSans-36\" x=\"210.791016\" />\n",
       "    </g>\n",
       "   </g>\n",
       "  </g>\n",
       " </g>\n",
       " <defs>\n",
       "  <clipPath id=\"pac92f0ac94\">\n",
       "   <rect x=\"24.444062\" y=\"2.162269\" width=\"41.85\" height=\"44.352\" />\n",
       "  </clipPath>\n",
       " </defs>\n",
       "</svg></g>\n",
       "\n",
       "\n",
       "<g id=\"node3\" class=\"node\">\n",
       "<title>node0</title>\n",
       "<svg width=\"134px\" height=\"73px\" viewBox=\"0 0 178.655 98.007354\" version=\"1.1\" preserveAspectRatio=\"xMinYMin meet\" x=\"89.5\" y=\"-365.5\">\n",
       " <metadata>\n",
       "  <rdf:RDF>\n",
       "   <ns2:Work>\n",
       "    <dc:type rdf:resource=\"http://purl.org/dc/dcmitype/StillImage\" />\n",
       "    <dc:date>2024-01-02T17:57:06.196119</dc:date>\n",
       "    <dc:format>image/svg+xml</dc:format>\n",
       "    <dc:creator>\n",
       "     <ns2:Agent>\n",
       "      <dc:title>Matplotlib v3.7.2, https://matplotlib.org/</dc:title>\n",
       "     </ns2:Agent>\n",
       "    </dc:creator>\n",
       "   </ns2:Work>\n",
       "  </rdf:RDF>\n",
       " </metadata>\n",
       " <defs>\n",
       "  <style type=\"text/css\">*{stroke-linejoin: round; stroke-linecap: butt}</style>\n",
       " </defs>\n",
       " <g id=\"figure_1\">\n",
       "  <g id=\"patch_1\">\n",
       "   <path d=\"M 0 98.007354  L 178.655 98.007354  L 178.655 0  L 0 0  z \" style=\"fill: #ffffff\" />\n",
       "  </g>\n",
       "  <g id=\"axes_1\">\n",
       "   <g id=\"patch_2\">\n",
       "    <path d=\"M 32.79375 62.817354  L 172.29375 62.817354  L 172.29375 1.833354  L 32.79375 1.833354  z \" style=\"fill: #ffffff\" />\n",
       "   </g>\n",
       "   <g id=\"PathCollection_1\">\n",
       "    <defs>\n",
       "     <path id=\"m1a3aed406b\" d=\"M 0 1.118034  C 0.296506 1.118034 0.580908 1.000231 0.790569 0.790569  C 1.000231 0.580908 1.118034 0.296506 1.118034 0  C 1.118034 -0.296506 1.000231 -0.580908 0.790569 -0.790569  C 0.580908 -1.000231 0.296506 -1.118034 0 -1.118034  C -0.296506 -1.118034 -0.580908 -1.000231 -0.790569 -0.790569  C -1.000231 -0.580908 -1.118034 -0.296506 -1.118034 0  C -1.118034 0.296506 -1.000231 0.580908 -0.790569 0.790569  C -0.580908 1.000231 -0.296506 1.118034 0 1.118034  z \" style=\"stroke: #4575b4; stroke-opacity: 0.7; stroke-width: 0.3\" />\n",
       "    </defs>\n",
       "    <g clip-path=\"url(#p398b56b94d)\">\n",
       "     <use xlink:href=\"#m1a3aed406b\" x=\"32.79375\" y=\"34.1118\" style=\"fill: #4575b4; fill-opacity: 0.7; stroke: #4575b4; stroke-opacity: 0.7; stroke-width: 0.3\" />\n",
       "     <use xlink:href=\"#m1a3aed406b\" x=\"32.79375\" y=\"23.421031\" style=\"fill: #4575b4; fill-opacity: 0.7; stroke: #4575b4; stroke-opacity: 0.7; stroke-width: 0.3\" />\n",
       "     <use xlink:href=\"#m1a3aed406b\" x=\"32.79375\" y=\"23.421031\" style=\"fill: #4575b4; fill-opacity: 0.7; stroke: #4575b4; stroke-opacity: 0.7; stroke-width: 0.3\" />\n",
       "     <use xlink:href=\"#m1a3aed406b\" x=\"32.79375\" y=\"40.840535\" style=\"fill: #4575b4; fill-opacity: 0.7; stroke: #4575b4; stroke-opacity: 0.7; stroke-width: 0.3\" />\n",
       "     <use xlink:href=\"#m1a3aed406b\" x=\"32.79375\" y=\"57.312244\" style=\"fill: #4575b4; fill-opacity: 0.7; stroke: #4575b4; stroke-opacity: 0.7; stroke-width: 0.3\" />\n",
       "     <use xlink:href=\"#m1a3aed406b\" x=\"32.79375\" y=\"30.332591\" style=\"fill: #4575b4; fill-opacity: 0.7; stroke: #4575b4; stroke-opacity: 0.7; stroke-width: 0.3\" />\n",
       "     <use xlink:href=\"#m1a3aed406b\" x=\"32.79375\" y=\"29.84892\" style=\"fill: #4575b4; fill-opacity: 0.7; stroke: #4575b4; stroke-opacity: 0.7; stroke-width: 0.3\" />\n",
       "     <use xlink:href=\"#m1a3aed406b\" x=\"32.79375\" y=\"35.344736\" style=\"fill: #4575b4; fill-opacity: 0.7; stroke: #4575b4; stroke-opacity: 0.7; stroke-width: 0.3\" />\n",
       "     <use xlink:href=\"#m1a3aed406b\" x=\"32.79375\" y=\"35.992377\" style=\"fill: #4575b4; fill-opacity: 0.7; stroke: #4575b4; stroke-opacity: 0.7; stroke-width: 0.3\" />\n",
       "     <use xlink:href=\"#m1a3aed406b\" x=\"32.79375\" y=\"38.827763\" style=\"fill: #4575b4; fill-opacity: 0.7; stroke: #4575b4; stroke-opacity: 0.7; stroke-width: 0.3\" />\n",
       "     <use xlink:href=\"#m1a3aed406b\" x=\"32.79375\" y=\"24.836774\" style=\"fill: #4575b4; fill-opacity: 0.7; stroke: #4575b4; stroke-opacity: 0.7; stroke-width: 0.3\" />\n",
       "     <use xlink:href=\"#m1a3aed406b\" x=\"32.79375\" y=\"54.511565\" style=\"fill: #4575b4; fill-opacity: 0.7; stroke: #4575b4; stroke-opacity: 0.7; stroke-width: 0.3\" />\n",
       "     <use xlink:href=\"#m1a3aed406b\" x=\"102.54375\" y=\"56.332348\" style=\"fill: #4575b4; fill-opacity: 0.7; stroke: #4575b4; stroke-opacity: 0.7; stroke-width: 0.3\" />\n",
       "     <use xlink:href=\"#m1a3aed406b\" x=\"32.79375\" y=\"23.251232\" style=\"fill: #4575b4; fill-opacity: 0.7; stroke: #4575b4; stroke-opacity: 0.7; stroke-width: 0.3\" />\n",
       "     <use xlink:href=\"#m1a3aed406b\" x=\"32.79375\" y=\"25.586039\" style=\"fill: #4575b4; fill-opacity: 0.7; stroke: #4575b4; stroke-opacity: 0.7; stroke-width: 0.3\" />\n",
       "     <use xlink:href=\"#m1a3aed406b\" x=\"32.79375\" y=\"29.145639\" style=\"fill: #4575b4; fill-opacity: 0.7; stroke: #4575b4; stroke-opacity: 0.7; stroke-width: 0.3\" />\n",
       "     <use xlink:href=\"#m1a3aed406b\" x=\"32.79375\" y=\"31.081856\" style=\"fill: #4575b4; fill-opacity: 0.7; stroke: #4575b4; stroke-opacity: 0.7; stroke-width: 0.3\" />\n",
       "     <use xlink:href=\"#m1a3aed406b\" x=\"102.54375\" y=\"46.195357\" style=\"fill: #4575b4; fill-opacity: 0.7; stroke: #4575b4; stroke-opacity: 0.7; stroke-width: 0.3\" />\n",
       "     <use xlink:href=\"#m1a3aed406b\" x=\"32.79375\" y=\"49.90446\" style=\"fill: #4575b4; fill-opacity: 0.7; stroke: #4575b4; stroke-opacity: 0.7; stroke-width: 0.3\" />\n",
       "     <use xlink:href=\"#m1a3aed406b\" x=\"32.79375\" y=\"40.629452\" style=\"fill: #4575b4; fill-opacity: 0.7; stroke: #4575b4; stroke-opacity: 0.7; stroke-width: 0.3\" />\n",
       "     <use xlink:href=\"#m1a3aed406b\" x=\"32.79375\" y=\"21.170941\" style=\"fill: #4575b4; fill-opacity: 0.7; stroke: #4575b4; stroke-opacity: 0.7; stroke-width: 0.3\" />\n",
       "     <use xlink:href=\"#m1a3aed406b\" x=\"32.79375\" y=\"45.103415\" style=\"fill: #4575b4; fill-opacity: 0.7; stroke: #4575b4; stroke-opacity: 0.7; stroke-width: 0.3\" />\n",
       "     <use xlink:href=\"#m1a3aed406b\" x=\"32.79375\" y=\"29.84892\" style=\"fill: #4575b4; fill-opacity: 0.7; stroke: #4575b4; stroke-opacity: 0.7; stroke-width: 0.3\" />\n",
       "     <use xlink:href=\"#m1a3aed406b\" x=\"32.79375\" y=\"23.765256\" style=\"fill: #4575b4; fill-opacity: 0.7; stroke: #4575b4; stroke-opacity: 0.7; stroke-width: 0.3\" />\n",
       "     <use xlink:href=\"#m1a3aed406b\" x=\"32.79375\" y=\"18.487791\" style=\"fill: #4575b4; fill-opacity: 0.7; stroke: #4575b4; stroke-opacity: 0.7; stroke-width: 0.3\" />\n",
       "     <use xlink:href=\"#m1a3aed406b\" x=\"32.79375\" y=\"42.158553\" style=\"fill: #4575b4; fill-opacity: 0.7; stroke: #4575b4; stroke-opacity: 0.7; stroke-width: 0.3\" />\n",
       "     <use xlink:href=\"#m1a3aed406b\" x=\"102.54375\" y=\"53.662371\" style=\"fill: #4575b4; fill-opacity: 0.7; stroke: #4575b4; stroke-opacity: 0.7; stroke-width: 0.3\" />\n",
       "     <use xlink:href=\"#m1a3aed406b\" x=\"102.54375\" y=\"66.091046\" style=\"fill: #4575b4; fill-opacity: 0.7; stroke: #4575b4; stroke-opacity: 0.7; stroke-width: 0.3\" />\n",
       "     <use xlink:href=\"#m1a3aed406b\" x=\"32.79375\" y=\"36.662754\" style=\"fill: #4575b4; fill-opacity: 0.7; stroke: #4575b4; stroke-opacity: 0.7; stroke-width: 0.3\" />\n",
       "     <use xlink:href=\"#m1a3aed406b\" x=\"32.79375\" y=\"31.86171\" style=\"fill: #4575b4; fill-opacity: 0.7; stroke: #4575b4; stroke-opacity: 0.7; stroke-width: 0.3\" />\n",
       "     <use xlink:href=\"#m1a3aed406b\" x=\"32.79375\" y=\"34.718321\" style=\"fill: #4575b4; fill-opacity: 0.7; stroke: #4575b4; stroke-opacity: 0.7; stroke-width: 0.3\" />\n",
       "     <use xlink:href=\"#m1a3aed406b\" x=\"102.54375\" y=\"67.753289\" style=\"fill: #4575b4; fill-opacity: 0.7; stroke: #4575b4; stroke-opacity: 0.7; stroke-width: 0.3\" />\n",
       "     <use xlink:href=\"#m1a3aed406b\" x=\"32.79375\" y=\"45.103415\" style=\"fill: #4575b4; fill-opacity: 0.7; stroke: #4575b4; stroke-opacity: 0.7; stroke-width: 0.3\" />\n",
       "     <use xlink:href=\"#m1a3aed406b\" x=\"32.79375\" y=\"35.344736\" style=\"fill: #4575b4; fill-opacity: 0.7; stroke: #4575b4; stroke-opacity: 0.7; stroke-width: 0.3\" />\n",
       "     <use xlink:href=\"#m1a3aed406b\" x=\"32.79375\" y=\"29.377199\" style=\"fill: #4575b4; fill-opacity: 0.7; stroke: #4575b4; stroke-opacity: 0.7; stroke-width: 0.3\" />\n",
       "     <use xlink:href=\"#m1a3aed406b\" x=\"102.54375\" y=\"62.475806\" style=\"fill: #4575b4; fill-opacity: 0.7; stroke: #4575b4; stroke-opacity: 0.7; stroke-width: 0.3\" />\n",
       "     <use xlink:href=\"#m1a3aed406b\" x=\"32.79375\" y=\"41.709042\" style=\"fill: #4575b4; fill-opacity: 0.7; stroke: #4575b4; stroke-opacity: 0.7; stroke-width: 0.3\" />\n",
       "     <use xlink:href=\"#m1a3aed406b\" x=\"172.29375\" y=\"56.332348\" style=\"fill: #4575b4; fill-opacity: 0.7; stroke: #4575b4; stroke-opacity: 0.7; stroke-width: 0.3\" />\n",
       "     <use xlink:href=\"#m1a3aed406b\" x=\"102.54375\" y=\"60.595229\" style=\"fill: #4575b4; fill-opacity: 0.7; stroke: #4575b4; stroke-opacity: 0.7; stroke-width: 0.3\" />\n",
       "     <use xlink:href=\"#m1a3aed406b\" x=\"32.79375\" y=\"58.883303\" style=\"fill: #4575b4; fill-opacity: 0.7; stroke: #4575b4; stroke-opacity: 0.7; stroke-width: 0.3\" />\n",
       "     <use xlink:href=\"#m1a3aed406b\" x=\"32.79375\" y=\"59.43708\" style=\"fill: #4575b4; fill-opacity: 0.7; stroke: #4575b4; stroke-opacity: 0.7; stroke-width: 0.3\" />\n",
       "     <use xlink:href=\"#m1a3aed406b\" x=\"32.79375\" y=\"54.511565\" style=\"fill: #4575b4; fill-opacity: 0.7; stroke: #4575b4; stroke-opacity: 0.7; stroke-width: 0.3\" />\n",
       "     <use xlink:href=\"#m1a3aed406b\" x=\"32.79375\" y=\"47.353523\" style=\"fill: #4575b4; fill-opacity: 0.7; stroke: #4575b4; stroke-opacity: 0.7; stroke-width: 0.3\" />\n",
       "     <use xlink:href=\"#m1a3aed406b\" x=\"32.79375\" y=\"30.828816\" style=\"fill: #4575b4; fill-opacity: 0.7; stroke: #4575b4; stroke-opacity: 0.7; stroke-width: 0.3\" />\n",
       "     <use xlink:href=\"#m1a3aed406b\" x=\"32.79375\" y=\"39.213709\" style=\"fill: #4575b4; fill-opacity: 0.7; stroke: #4575b4; stroke-opacity: 0.7; stroke-width: 0.3\" />\n",
       "     <use xlink:href=\"#m1a3aed406b\" x=\"32.79375\" y=\"21.787245\" style=\"fill: #4575b4; fill-opacity: 0.7; stroke: #4575b4; stroke-opacity: 0.7; stroke-width: 0.3\" />\n",
       "     <use xlink:href=\"#m1a3aed406b\" x=\"32.79375\" y=\"40.420665\" style=\"fill: #4575b4; fill-opacity: 0.7; stroke: #4575b4; stroke-opacity: 0.7; stroke-width: 0.3\" />\n",
       "     <use xlink:href=\"#m1a3aed406b\" x=\"32.79375\" y=\"38.078498\" style=\"fill: #4575b4; fill-opacity: 0.7; stroke: #4575b4; stroke-opacity: 0.7; stroke-width: 0.3\" />\n",
       "     <use xlink:href=\"#m1a3aed406b\" x=\"102.54375\" y=\"64.561927\" style=\"fill: #4575b4; fill-opacity: 0.7; stroke: #4575b4; stroke-opacity: 0.7; stroke-width: 0.3\" />\n",
       "     <use xlink:href=\"#m1a3aed406b\" x=\"32.79375\" y=\"52.069468\" style=\"fill: #4575b4; fill-opacity: 0.7; stroke: #4575b4; stroke-opacity: 0.7; stroke-width: 0.3\" />\n",
       "     <use xlink:href=\"#m1a3aed406b\" x=\"32.79375\" y=\"44.57999\" style=\"fill: #4575b4; fill-opacity: 0.7; stroke: #4575b4; stroke-opacity: 0.7; stroke-width: 0.3\" />\n",
       "     <use xlink:href=\"#m1a3aed406b\" x=\"102.54375\" y=\"59.43708\" style=\"fill: #4575b4; fill-opacity: 0.7; stroke: #4575b4; stroke-opacity: 0.7; stroke-width: 0.3\" />\n",
       "     <use xlink:href=\"#m1a3aed406b\" x=\"32.79375\" y=\"43.090643\" style=\"fill: #4575b4; fill-opacity: 0.7; stroke: #4575b4; stroke-opacity: 0.7; stroke-width: 0.3\" />\n",
       "     <use xlink:href=\"#m1a3aed406b\" x=\"32.79375\" y=\"44.57999\" style=\"fill: #4575b4; fill-opacity: 0.7; stroke: #4575b4; stroke-opacity: 0.7; stroke-width: 0.3\" />\n",
       "     <use xlink:href=\"#m1a3aed406b\" x=\"32.79375\" y=\"29.84892\" style=\"fill: #4575b4; fill-opacity: 0.7; stroke: #4575b4; stroke-opacity: 0.7; stroke-width: 0.3\" />\n",
       "     <use xlink:href=\"#m1a3aed406b\" x=\"32.79375\" y=\"31.081856\" style=\"fill: #4575b4; fill-opacity: 0.7; stroke: #4575b4; stroke-opacity: 0.7; stroke-width: 0.3\" />\n",
       "     <use xlink:href=\"#m1a3aed406b\" x=\"32.79375\" y=\"28.690771\" style=\"fill: #4575b4; fill-opacity: 0.7; stroke: #4575b4; stroke-opacity: 0.7; stroke-width: 0.3\" />\n",
       "     <use xlink:href=\"#m1a3aed406b\" x=\"172.29375\" y=\"46.195357\" style=\"fill: #4575b4; fill-opacity: 0.7; stroke: #4575b4; stroke-opacity: 0.7; stroke-width: 0.3\" />\n",
       "     <use xlink:href=\"#m1a3aed406b\" x=\"32.79375\" y=\"36.662754\" style=\"fill: #4575b4; fill-opacity: 0.7; stroke: #4575b4; stroke-opacity: 0.7; stroke-width: 0.3\" />\n",
       "     <use xlink:href=\"#m1a3aed406b\" x=\"32.79375\" y=\"41.709042\" style=\"fill: #4575b4; fill-opacity: 0.7; stroke: #4575b4; stroke-opacity: 0.7; stroke-width: 0.3\" />\n",
       "     <use xlink:href=\"#m1a3aed406b\" x=\"32.79375\" y=\"22.103013\" style=\"fill: #4575b4; fill-opacity: 0.7; stroke: #4575b4; stroke-opacity: 0.7; stroke-width: 0.3\" />\n",
       "     <use xlink:href=\"#m1a3aed406b\" x=\"32.79375\" y=\"22.103013\" style=\"fill: #4575b4; fill-opacity: 0.7; stroke: #4575b4; stroke-opacity: 0.7; stroke-width: 0.3\" />\n",
       "     <use xlink:href=\"#m1a3aed406b\" x=\"32.79375\" y=\"34.718321\" style=\"fill: #4575b4; fill-opacity: 0.7; stroke: #4575b4; stroke-opacity: 0.7; stroke-width: 0.3\" />\n",
       "     <use xlink:href=\"#m1a3aed406b\" x=\"32.79375\" y=\"34.718321\" style=\"fill: #4575b4; fill-opacity: 0.7; stroke: #4575b4; stroke-opacity: 0.7; stroke-width: 0.3\" />\n",
       "     <use xlink:href=\"#m1a3aed406b\" x=\"102.54375\" y=\"52.849322\" style=\"fill: #4575b4; fill-opacity: 0.7; stroke: #4575b4; stroke-opacity: 0.7; stroke-width: 0.3\" />\n",
       "     <use xlink:href=\"#m1a3aed406b\" x=\"32.79375\" y=\"43.090643\" style=\"fill: #4575b4; fill-opacity: 0.7; stroke: #4575b4; stroke-opacity: 0.7; stroke-width: 0.3\" />\n",
       "     <use xlink:href=\"#m1a3aed406b\" x=\"32.79375\" y=\"43.574297\" style=\"fill: #4575b4; fill-opacity: 0.7; stroke: #4575b4; stroke-opacity: 0.7; stroke-width: 0.3\" />\n",
       "     <use xlink:href=\"#m1a3aed406b\" x=\"32.79375\" y=\"43.090643\" style=\"fill: #4575b4; fill-opacity: 0.7; stroke: #4575b4; stroke-opacity: 0.7; stroke-width: 0.3\" />\n",
       "     <use xlink:href=\"#m1a3aed406b\" x=\"102.54375\" y=\"51.320203\" style=\"fill: #4575b4; fill-opacity: 0.7; stroke: #4575b4; stroke-opacity: 0.7; stroke-width: 0.3\" />\n",
       "     <use xlink:href=\"#m1a3aed406b\" x=\"32.79375\" y=\"38.44945\" style=\"fill: #4575b4; fill-opacity: 0.7; stroke: #4575b4; stroke-opacity: 0.7; stroke-width: 0.3\" />\n",
       "     <use xlink:href=\"#m1a3aed406b\" x=\"32.79375\" y=\"18.356489\" style=\"fill: #4575b4; fill-opacity: 0.7; stroke: #4575b4; stroke-opacity: 0.7; stroke-width: 0.3\" />\n",
       "     <use xlink:href=\"#m1a3aed406b\" x=\"32.79375\" y=\"41.26986\" style=\"fill: #4575b4; fill-opacity: 0.7; stroke: #4575b4; stroke-opacity: 0.7; stroke-width: 0.3\" />\n",
       "     <use xlink:href=\"#m1a3aed406b\" x=\"32.79375\" y=\"49.90446\" style=\"fill: #4575b4; fill-opacity: 0.7; stroke: #4575b4; stroke-opacity: 0.7; stroke-width: 0.3\" />\n",
       "     <use xlink:href=\"#m1a3aed406b\" x=\"32.79375\" y=\"57.312244\" style=\"fill: #4575b4; fill-opacity: 0.7; stroke: #4575b4; stroke-opacity: 0.7; stroke-width: 0.3\" />\n",
       "     <use xlink:href=\"#m1a3aed406b\" x=\"32.79375\" y=\"47.353523\" style=\"fill: #4575b4; fill-opacity: 0.7; stroke: #4575b4; stroke-opacity: 0.7; stroke-width: 0.3\" />\n",
       "     <use xlink:href=\"#m1a3aed406b\" x=\"32.79375\" y=\"25.207745\" style=\"fill: #4575b4; fill-opacity: 0.7; stroke: #4575b4; stroke-opacity: 0.7; stroke-width: 0.3\" />\n",
       "     <use xlink:href=\"#m1a3aed406b\" x=\"32.79375\" y=\"48.586442\" style=\"fill: #4575b4; fill-opacity: 0.7; stroke: #4575b4; stroke-opacity: 0.7; stroke-width: 0.3\" />\n",
       "     <use xlink:href=\"#m1a3aed406b\" x=\"32.79375\" y=\"45.103415\" style=\"fill: #4575b4; fill-opacity: 0.7; stroke: #4575b4; stroke-opacity: 0.7; stroke-width: 0.3\" />\n",
       "     <use xlink:href=\"#m1a3aed406b\" x=\"32.79375\" y=\"36.662754\" style=\"fill: #4575b4; fill-opacity: 0.7; stroke: #4575b4; stroke-opacity: 0.7; stroke-width: 0.3\" />\n",
       "     <use xlink:href=\"#m1a3aed406b\" x=\"32.79375\" y=\"41.26986\" style=\"fill: #4575b4; fill-opacity: 0.7; stroke: #4575b4; stroke-opacity: 0.7; stroke-width: 0.3\" />\n",
       "     <use xlink:href=\"#m1a3aed406b\" x=\"32.79375\" y=\"42.158553\" style=\"fill: #4575b4; fill-opacity: 0.7; stroke: #4575b4; stroke-opacity: 0.7; stroke-width: 0.3\" />\n",
       "     <use xlink:href=\"#m1a3aed406b\" x=\"32.79375\" y=\"37.357509\" style=\"fill: #4575b4; fill-opacity: 0.7; stroke: #4575b4; stroke-opacity: 0.7; stroke-width: 0.3\" />\n",
       "     <use xlink:href=\"#m1a3aed406b\" x=\"102.54375\" y=\"48.586442\" style=\"fill: #4575b4; fill-opacity: 0.7; stroke: #4575b4; stroke-opacity: 0.7; stroke-width: 0.3\" />\n",
       "     <use xlink:href=\"#m1a3aed406b\" x=\"102.54375\" y=\"52.069468\" style=\"fill: #4575b4; fill-opacity: 0.7; stroke: #4575b4; stroke-opacity: 0.7; stroke-width: 0.3\" />\n",
       "     <use xlink:href=\"#m1a3aed406b\" x=\"32.79375\" y=\"35.344736\" style=\"fill: #4575b4; fill-opacity: 0.7; stroke: #4575b4; stroke-opacity: 0.7; stroke-width: 0.3\" />\n",
       "     <use xlink:href=\"#m1a3aed406b\" x=\"102.54375\" y=\"46.195357\" style=\"fill: #4575b4; fill-opacity: 0.7; stroke: #4575b4; stroke-opacity: 0.7; stroke-width: 0.3\" />\n",
       "     <use xlink:href=\"#m1a3aed406b\" x=\"32.79375\" y=\"26.365893\" style=\"fill: #4575b4; fill-opacity: 0.7; stroke: #4575b4; stroke-opacity: 0.7; stroke-width: 0.3\" />\n",
       "     <use xlink:href=\"#m1a3aed406b\" x=\"32.79375\" y=\"34.1118\" style=\"fill: #4575b4; fill-opacity: 0.7; stroke: #4575b4; stroke-opacity: 0.7; stroke-width: 0.3\" />\n",
       "     <use xlink:href=\"#m1a3aed406b\" x=\"32.79375\" y=\"34.1118\" style=\"fill: #4575b4; fill-opacity: 0.7; stroke: #4575b4; stroke-opacity: 0.7; stroke-width: 0.3\" />\n",
       "     <use xlink:href=\"#m1a3aed406b\" x=\"32.79375\" y=\"25.586039\" style=\"fill: #4575b4; fill-opacity: 0.7; stroke: #4575b4; stroke-opacity: 0.7; stroke-width: 0.3\" />\n",
       "     <use xlink:href=\"#m1a3aed406b\" x=\"32.79375\" y=\"23.765256\" style=\"fill: #4575b4; fill-opacity: 0.7; stroke: #4575b4; stroke-opacity: 0.7; stroke-width: 0.3\" />\n",
       "     <use xlink:href=\"#m1a3aed406b\" x=\"32.79375\" y=\"19.711928\" style=\"fill: #4575b4; fill-opacity: 0.7; stroke: #4575b4; stroke-opacity: 0.7; stroke-width: 0.3\" />\n",
       "     <use xlink:href=\"#m1a3aed406b\" x=\"32.79375\" y=\"33.523953\" style=\"fill: #4575b4; fill-opacity: 0.7; stroke: #4575b4; stroke-opacity: 0.7; stroke-width: 0.3\" />\n",
       "     <use xlink:href=\"#m1a3aed406b\" x=\"32.79375\" y=\"21.323159\" style=\"fill: #4575b4; fill-opacity: 0.7; stroke: #4575b4; stroke-opacity: 0.7; stroke-width: 0.3\" />\n",
       "     <use xlink:href=\"#m1a3aed406b\" x=\"32.79375\" y=\"46.765659\" style=\"fill: #4575b4; fill-opacity: 0.7; stroke: #4575b4; stroke-opacity: 0.7; stroke-width: 0.3\" />\n",
       "     <use xlink:href=\"#m1a3aed406b\" x=\"32.79375\" y=\"46.195357\" style=\"fill: #4575b4; fill-opacity: 0.7; stroke: #4575b4; stroke-opacity: 0.7; stroke-width: 0.3\" />\n",
       "     <use xlink:href=\"#m1a3aed406b\" x=\"32.79375\" y=\"39.607617\" style=\"fill: #4575b4; fill-opacity: 0.7; stroke: #4575b4; stroke-opacity: 0.7; stroke-width: 0.3\" />\n",
       "     <use xlink:href=\"#m1a3aed406b\" x=\"32.79375\" y=\"31.598194\" style=\"fill: #4575b4; fill-opacity: 0.7; stroke: #4575b4; stroke-opacity: 0.7; stroke-width: 0.3\" />\n",
       "     <use xlink:href=\"#m1a3aed406b\" x=\"32.79375\" y=\"25.586039\" style=\"fill: #4575b4; fill-opacity: 0.7; stroke: #4575b4; stroke-opacity: 0.7; stroke-width: 0.3\" />\n",
       "     <use xlink:href=\"#m1a3aed406b\" x=\"32.79375\" y=\"36.662754\" style=\"fill: #4575b4; fill-opacity: 0.7; stroke: #4575b4; stroke-opacity: 0.7; stroke-width: 0.3\" />\n",
       "     <use xlink:href=\"#m1a3aed406b\" x=\"32.79375\" y=\"34.1118\" style=\"fill: #4575b4; fill-opacity: 0.7; stroke: #4575b4; stroke-opacity: 0.7; stroke-width: 0.3\" />\n",
       "     <use xlink:href=\"#m1a3aed406b\" x=\"102.54375\" y=\"51.616404\" style=\"fill: #4575b4; fill-opacity: 0.7; stroke: #4575b4; stroke-opacity: 0.7; stroke-width: 0.3\" />\n",
       "     <use xlink:href=\"#m1a3aed406b\" x=\"32.79375\" y=\"37.714596\" style=\"fill: #4575b4; fill-opacity: 0.7; stroke: #4575b4; stroke-opacity: 0.7; stroke-width: 0.3\" />\n",
       "     <use xlink:href=\"#m1a3aed406b\" x=\"32.79375\" y=\"52.849322\" style=\"fill: #4575b4; fill-opacity: 0.7; stroke: #4575b4; stroke-opacity: 0.7; stroke-width: 0.3\" />\n",
       "     <use xlink:href=\"#m1a3aed406b\" x=\"32.79375\" y=\"33.523953\" style=\"fill: #4575b4; fill-opacity: 0.7; stroke: #4575b4; stroke-opacity: 0.7; stroke-width: 0.3\" />\n",
       "     <use xlink:href=\"#m1a3aed406b\" x=\"32.79375\" y=\"30.332591\" style=\"fill: #4575b4; fill-opacity: 0.7; stroke: #4575b4; stroke-opacity: 0.7; stroke-width: 0.3\" />\n",
       "     <use xlink:href=\"#m1a3aed406b\" x=\"32.79375\" y=\"21.476615\" style=\"fill: #4575b4; fill-opacity: 0.7; stroke: #4575b4; stroke-opacity: 0.7; stroke-width: 0.3\" />\n",
       "     <use xlink:href=\"#m1a3aed406b\" x=\"32.79375\" y=\"51.320203\" style=\"fill: #4575b4; fill-opacity: 0.7; stroke: #4575b4; stroke-opacity: 0.7; stroke-width: 0.3\" />\n",
       "     <use xlink:href=\"#m1a3aed406b\" x=\"32.79375\" y=\"8.545522\" style=\"fill: #4575b4; fill-opacity: 0.7; stroke: #4575b4; stroke-opacity: 0.7; stroke-width: 0.3\" />\n",
       "     <use xlink:href=\"#m1a3aed406b\" x=\"32.79375\" y=\"58.345139\" style=\"fill: #4575b4; fill-opacity: 0.7; stroke: #4575b4; stroke-opacity: 0.7; stroke-width: 0.3\" />\n",
       "     <use xlink:href=\"#m1a3aed406b\" x=\"32.79375\" y=\"48.907529\" style=\"fill: #4575b4; fill-opacity: 0.7; stroke: #4575b4; stroke-opacity: 0.7; stroke-width: 0.3\" />\n",
       "     <use xlink:href=\"#m1a3aed406b\" x=\"32.79375\" y=\"22.916062\" style=\"fill: #4575b4; fill-opacity: 0.7; stroke: #4575b4; stroke-opacity: 0.7; stroke-width: 0.3\" />\n",
       "     <use xlink:href=\"#m1a3aed406b\" x=\"32.79375\" y=\"20.573894\" style=\"fill: #4575b4; fill-opacity: 0.7; stroke: #4575b4; stroke-opacity: 0.7; stroke-width: 0.3\" />\n",
       "     <use xlink:href=\"#m1a3aed406b\" x=\"32.79375\" y=\"37.00698\" style=\"fill: #4575b4; fill-opacity: 0.7; stroke: #4575b4; stroke-opacity: 0.7; stroke-width: 0.3\" />\n",
       "     <use xlink:href=\"#m1a3aed406b\" x=\"32.79375\" y=\"56.332348\" style=\"fill: #4575b4; fill-opacity: 0.7; stroke: #4575b4; stroke-opacity: 0.7; stroke-width: 0.3\" />\n",
       "     <use xlink:href=\"#m1a3aed406b\" x=\"32.79375\" y=\"43.090643\" style=\"fill: #4575b4; fill-opacity: 0.7; stroke: #4575b4; stroke-opacity: 0.7; stroke-width: 0.3\" />\n",
       "     <use xlink:href=\"#m1a3aed406b\" x=\"32.79375\" y=\"56.332348\" style=\"fill: #4575b4; fill-opacity: 0.7; stroke: #4575b4; stroke-opacity: 0.7; stroke-width: 0.3\" />\n",
       "     <use xlink:href=\"#m1a3aed406b\" x=\"102.54375\" y=\"52.849322\" style=\"fill: #4575b4; fill-opacity: 0.7; stroke: #4575b4; stroke-opacity: 0.7; stroke-width: 0.3\" />\n",
       "     <use xlink:href=\"#m1a3aed406b\" x=\"32.79375\" y=\"45.103415\" style=\"fill: #4575b4; fill-opacity: 0.7; stroke: #4575b4; stroke-opacity: 0.7; stroke-width: 0.3\" />\n",
       "     <use xlink:href=\"#m1a3aed406b\" x=\"32.79375\" y=\"19.158151\" style=\"fill: #4575b4; fill-opacity: 0.7; stroke: #4575b4; stroke-opacity: 0.7; stroke-width: 0.3\" />\n",
       "     <use xlink:href=\"#m1a3aed406b\" x=\"32.79375\" y=\"31.86171\" style=\"fill: #4575b4; fill-opacity: 0.7; stroke: #4575b4; stroke-opacity: 0.7; stroke-width: 0.3\" />\n",
       "     <use xlink:href=\"#m1a3aed406b\" x=\"102.54375\" y=\"58.345139\" style=\"fill: #4575b4; fill-opacity: 0.7; stroke: #4575b4; stroke-opacity: 0.7; stroke-width: 0.3\" />\n",
       "     <use xlink:href=\"#m1a3aed406b\" x=\"32.79375\" y=\"25.586039\" style=\"fill: #4575b4; fill-opacity: 0.7; stroke: #4575b4; stroke-opacity: 0.7; stroke-width: 0.3\" />\n",
       "     <use xlink:href=\"#m1a3aed406b\" x=\"32.79375\" y=\"22.750672\" style=\"fill: #4575b4; fill-opacity: 0.7; stroke: #4575b4; stroke-opacity: 0.7; stroke-width: 0.3\" />\n",
       "     <use xlink:href=\"#m1a3aed406b\" x=\"102.54375\" y=\"61.828165\" style=\"fill: #4575b4; fill-opacity: 0.7; stroke: #4575b4; stroke-opacity: 0.7; stroke-width: 0.3\" />\n",
       "     <use xlink:href=\"#m1a3aed406b\" x=\"32.79375\" y=\"44.57999\" style=\"fill: #4575b4; fill-opacity: 0.7; stroke: #4575b4; stroke-opacity: 0.7; stroke-width: 0.3\" />\n",
       "     <use xlink:href=\"#m1a3aed406b\" x=\"32.79375\" y=\"18.356489\" style=\"fill: #4575b4; fill-opacity: 0.7; stroke: #4575b4; stroke-opacity: 0.7; stroke-width: 0.3\" />\n",
       "     <use xlink:href=\"#m1a3aed406b\" x=\"32.79375\" y=\"37.357509\" style=\"fill: #4575b4; fill-opacity: 0.7; stroke: #4575b4; stroke-opacity: 0.7; stroke-width: 0.3\" />\n",
       "     <use xlink:href=\"#m1a3aed406b\" x=\"32.79375\" y=\"34.718321\" style=\"fill: #4575b4; fill-opacity: 0.7; stroke: #4575b4; stroke-opacity: 0.7; stroke-width: 0.3\" />\n",
       "     <use xlink:href=\"#m1a3aed406b\" x=\"32.79375\" y=\"13.833681\" style=\"fill: #4575b4; fill-opacity: 0.7; stroke: #4575b4; stroke-opacity: 0.7; stroke-width: 0.3\" />\n",
       "     <use xlink:href=\"#m1a3aed406b\" x=\"32.79375\" y=\"31.86171\" style=\"fill: #4575b4; fill-opacity: 0.7; stroke: #4575b4; stroke-opacity: 0.7; stroke-width: 0.3\" />\n",
       "     <use xlink:href=\"#m1a3aed406b\" x=\"32.79375\" y=\"20.573894\" style=\"fill: #4575b4; fill-opacity: 0.7; stroke: #4575b4; stroke-opacity: 0.7; stroke-width: 0.3\" />\n",
       "     <use xlink:href=\"#m1a3aed406b\" x=\"32.79375\" y=\"43.820796\" style=\"fill: #4575b4; fill-opacity: 0.7; stroke: #4575b4; stroke-opacity: 0.7; stroke-width: 0.3\" />\n",
       "     <use xlink:href=\"#m1a3aed406b\" x=\"32.79375\" y=\"52.069468\" style=\"fill: #4575b4; fill-opacity: 0.7; stroke: #4575b4; stroke-opacity: 0.7; stroke-width: 0.3\" />\n",
       "     <use xlink:href=\"#m1a3aed406b\" x=\"32.79375\" y=\"42.158553\" style=\"fill: #4575b4; fill-opacity: 0.7; stroke: #4575b4; stroke-opacity: 0.7; stroke-width: 0.3\" />\n",
       "     <use xlink:href=\"#m1a3aed406b\" x=\"32.79375\" y=\"42.853325\" style=\"fill: #4575b4; fill-opacity: 0.7; stroke: #4575b4; stroke-opacity: 0.7; stroke-width: 0.3\" />\n",
       "     <use xlink:href=\"#m1a3aed406b\" x=\"32.79375\" y=\"40.009814\" style=\"fill: #4575b4; fill-opacity: 0.7; stroke: #4575b4; stroke-opacity: 0.7; stroke-width: 0.3\" />\n",
       "     <use xlink:href=\"#m1a3aed406b\" x=\"32.79375\" y=\"28.916848\" style=\"fill: #4575b4; fill-opacity: 0.7; stroke: #4575b4; stroke-opacity: 0.7; stroke-width: 0.3\" />\n",
       "     <use xlink:href=\"#m1a3aed406b\" x=\"32.79375\" y=\"27.178942\" style=\"fill: #4575b4; fill-opacity: 0.7; stroke: #4575b4; stroke-opacity: 0.7; stroke-width: 0.3\" />\n",
       "     <use xlink:href=\"#m1a3aed406b\" x=\"32.79375\" y=\"31.598194\" style=\"fill: #4575b4; fill-opacity: 0.7; stroke: #4575b4; stroke-opacity: 0.7; stroke-width: 0.3\" />\n",
       "     <use xlink:href=\"#m1a3aed406b\" x=\"32.79375\" y=\"34.1118\" style=\"fill: #4575b4; fill-opacity: 0.7; stroke: #4575b4; stroke-opacity: 0.7; stroke-width: 0.3\" />\n",
       "     <use xlink:href=\"#m1a3aed406b\" x=\"32.79375\" y=\"30.332591\" style=\"fill: #4575b4; fill-opacity: 0.7; stroke: #4575b4; stroke-opacity: 0.7; stroke-width: 0.3\" />\n",
       "     <use xlink:href=\"#m1a3aed406b\" x=\"102.54375\" y=\"54.511565\" style=\"fill: #4575b4; fill-opacity: 0.7; stroke: #4575b4; stroke-opacity: 0.7; stroke-width: 0.3\" />\n",
       "     <use xlink:href=\"#m1a3aed406b\" x=\"32.79375\" y=\"50.599232\" style=\"fill: #4575b4; fill-opacity: 0.7; stroke: #4575b4; stroke-opacity: 0.7; stroke-width: 0.3\" />\n",
       "     <use xlink:href=\"#m1a3aed406b\" x=\"32.79375\" y=\"22.4241\" style=\"fill: #4575b4; fill-opacity: 0.7; stroke: #4575b4; stroke-opacity: 0.7; stroke-width: 0.3\" />\n",
       "     <use xlink:href=\"#m1a3aed406b\" x=\"32.79375\" y=\"54.511565\" style=\"fill: #4575b4; fill-opacity: 0.7; stroke: #4575b4; stroke-opacity: 0.7; stroke-width: 0.3\" />\n",
       "     <use xlink:href=\"#m1a3aed406b\" x=\"32.79375\" y=\"38.078498\" style=\"fill: #4575b4; fill-opacity: 0.7; stroke: #4575b4; stroke-opacity: 0.7; stroke-width: 0.3\" />\n",
       "     <use xlink:href=\"#m1a3aed406b\" x=\"32.79375\" y=\"52.069468\" style=\"fill: #4575b4; fill-opacity: 0.7; stroke: #4575b4; stroke-opacity: 0.7; stroke-width: 0.3\" />\n",
       "     <use xlink:href=\"#m1a3aed406b\" x=\"32.79375\" y=\"45.103415\" style=\"fill: #4575b4; fill-opacity: 0.7; stroke: #4575b4; stroke-opacity: 0.7; stroke-width: 0.3\" />\n",
       "     <use xlink:href=\"#m1a3aed406b\" x=\"32.79375\" y=\"37.00698\" style=\"fill: #4575b4; fill-opacity: 0.7; stroke: #4575b4; stroke-opacity: 0.7; stroke-width: 0.3\" />\n",
       "     <use xlink:href=\"#m1a3aed406b\" x=\"32.79375\" y=\"27.59883\" style=\"fill: #4575b4; fill-opacity: 0.7; stroke: #4575b4; stroke-opacity: 0.7; stroke-width: 0.3\" />\n",
       "     <use xlink:href=\"#m1a3aed406b\" x=\"102.54375\" y=\"60.595229\" style=\"fill: #4575b4; fill-opacity: 0.7; stroke: #4575b4; stroke-opacity: 0.7; stroke-width: 0.3\" />\n",
       "     <use xlink:href=\"#m1a3aed406b\" x=\"32.79375\" y=\"21.944473\" style=\"fill: #4575b4; fill-opacity: 0.7; stroke: #4575b4; stroke-opacity: 0.7; stroke-width: 0.3\" />\n",
       "     <use xlink:href=\"#m1a3aed406b\" x=\"32.79375\" y=\"21.787245\" style=\"fill: #4575b4; fill-opacity: 0.7; stroke: #4575b4; stroke-opacity: 0.7; stroke-width: 0.3\" />\n",
       "     <use xlink:href=\"#m1a3aed406b\" x=\"102.54375\" y=\"58.345139\" style=\"fill: #4575b4; fill-opacity: 0.7; stroke: #4575b4; stroke-opacity: 0.7; stroke-width: 0.3\" />\n",
       "     <use xlink:href=\"#m1a3aed406b\" x=\"32.79375\" y=\"14.89527\" style=\"fill: #4575b4; fill-opacity: 0.7; stroke: #4575b4; stroke-opacity: 0.7; stroke-width: 0.3\" />\n",
       "     <use xlink:href=\"#m1a3aed406b\" x=\"32.79375\" y=\"54.082258\" style=\"fill: #4575b4; fill-opacity: 0.7; stroke: #4575b4; stroke-opacity: 0.7; stroke-width: 0.3\" />\n",
       "     <use xlink:href=\"#m1a3aed406b\" x=\"32.79375\" y=\"54.511565\" style=\"fill: #4575b4; fill-opacity: 0.7; stroke: #4575b4; stroke-opacity: 0.7; stroke-width: 0.3\" />\n",
       "     <use xlink:href=\"#m1a3aed406b\" x=\"102.54375\" y=\"59.43708\" style=\"fill: #4575b4; fill-opacity: 0.7; stroke: #4575b4; stroke-opacity: 0.7; stroke-width: 0.3\" />\n",
       "     <use xlink:href=\"#m1a3aed406b\" x=\"32.79375\" y=\"35.992377\" style=\"fill: #4575b4; fill-opacity: 0.7; stroke: #4575b4; stroke-opacity: 0.7; stroke-width: 0.3\" />\n",
       "     <use xlink:href=\"#m1a3aed406b\" x=\"32.79375\" y=\"18.487791\" style=\"fill: #4575b4; fill-opacity: 0.7; stroke: #4575b4; stroke-opacity: 0.7; stroke-width: 0.3\" />\n",
       "     <use xlink:href=\"#m1a3aed406b\" x=\"102.54375\" y=\"60.595229\" style=\"fill: #4575b4; fill-opacity: 0.7; stroke: #4575b4; stroke-opacity: 0.7; stroke-width: 0.3\" />\n",
       "     <use xlink:href=\"#m1a3aed406b\" x=\"32.79375\" y=\"38.827763\" style=\"fill: #4575b4; fill-opacity: 0.7; stroke: #4575b4; stroke-opacity: 0.7; stroke-width: 0.3\" />\n",
       "     <use xlink:href=\"#m1a3aed406b\" x=\"32.79375\" y=\"48.586442\" style=\"fill: #4575b4; fill-opacity: 0.7; stroke: #4575b4; stroke-opacity: 0.7; stroke-width: 0.3\" />\n",
       "     <use xlink:href=\"#m1a3aed406b\" x=\"32.79375\" y=\"57.312244\" style=\"fill: #4575b4; fill-opacity: 0.7; stroke: #4575b4; stroke-opacity: 0.7; stroke-width: 0.3\" />\n",
       "     <use xlink:href=\"#m1a3aed406b\" x=\"32.79375\" y=\"47.960044\" style=\"fill: #4575b4; fill-opacity: 0.7; stroke: #4575b4; stroke-opacity: 0.7; stroke-width: 0.3\" />\n",
       "     <use xlink:href=\"#m1a3aed406b\" x=\"32.79375\" y=\"56.332348\" style=\"fill: #4575b4; fill-opacity: 0.7; stroke: #4575b4; stroke-opacity: 0.7; stroke-width: 0.3\" />\n",
       "     <use xlink:href=\"#m1a3aed406b\" x=\"32.79375\" y=\"19.158151\" style=\"fill: #4575b4; fill-opacity: 0.7; stroke: #4575b4; stroke-opacity: 0.7; stroke-width: 0.3\" />\n",
       "     <use xlink:href=\"#m1a3aed406b\" x=\"32.79375\" y=\"24.836774\" style=\"fill: #4575b4; fill-opacity: 0.7; stroke: #4575b4; stroke-opacity: 0.7; stroke-width: 0.3\" />\n",
       "     <use xlink:href=\"#m1a3aed406b\" x=\"32.79375\" y=\"31.338285\" style=\"fill: #4575b4; fill-opacity: 0.7; stroke: #4575b4; stroke-opacity: 0.7; stroke-width: 0.3\" />\n",
       "     <use xlink:href=\"#m1a3aed406b\" x=\"32.79375\" y=\"59.43708\" style=\"fill: #4575b4; fill-opacity: 0.7; stroke: #4575b4; stroke-opacity: 0.7; stroke-width: 0.3\" />\n",
       "     <use xlink:href=\"#m1a3aed406b\" x=\"32.79375\" y=\"56.332348\" style=\"fill: #4575b4; fill-opacity: 0.7; stroke: #4575b4; stroke-opacity: 0.7; stroke-width: 0.3\" />\n",
       "     <use xlink:href=\"#m1a3aed406b\" x=\"32.79375\" y=\"19.711928\" style=\"fill: #4575b4; fill-opacity: 0.7; stroke: #4575b4; stroke-opacity: 0.7; stroke-width: 0.3\" />\n",
       "     <use xlink:href=\"#m1a3aed406b\" x=\"102.54375\" y=\"52.849322\" style=\"fill: #4575b4; fill-opacity: 0.7; stroke: #4575b4; stroke-opacity: 0.7; stroke-width: 0.3\" />\n",
       "     <use xlink:href=\"#m1a3aed406b\" x=\"102.54375\" y=\"66.091046\" style=\"fill: #4575b4; fill-opacity: 0.7; stroke: #4575b4; stroke-opacity: 0.7; stroke-width: 0.3\" />\n",
       "     <use xlink:href=\"#m1a3aed406b\" x=\"32.79375\" y=\"37.357509\" style=\"fill: #4575b4; fill-opacity: 0.7; stroke: #4575b4; stroke-opacity: 0.7; stroke-width: 0.3\" />\n",
       "     <use xlink:href=\"#m1a3aed406b\" x=\"32.79375\" y=\"59.43708\" style=\"fill: #4575b4; fill-opacity: 0.7; stroke: #4575b4; stroke-opacity: 0.7; stroke-width: 0.3\" />\n",
       "     <use xlink:href=\"#m1a3aed406b\" x=\"32.79375\" y=\"54.511565\" style=\"fill: #4575b4; fill-opacity: 0.7; stroke: #4575b4; stroke-opacity: 0.7; stroke-width: 0.3\" />\n",
       "     <use xlink:href=\"#m1a3aed406b\" x=\"32.79375\" y=\"25.971985\" style=\"fill: #4575b4; fill-opacity: 0.7; stroke: #4575b4; stroke-opacity: 0.7; stroke-width: 0.3\" />\n",
       "     <use xlink:href=\"#m1a3aed406b\" x=\"32.79375\" y=\"34.412646\" style=\"fill: #4575b4; fill-opacity: 0.7; stroke: #4575b4; stroke-opacity: 0.7; stroke-width: 0.3\" />\n",
       "     <use xlink:href=\"#m1a3aed406b\" x=\"32.79375\" y=\"23.421031\" style=\"fill: #4575b4; fill-opacity: 0.7; stroke: #4575b4; stroke-opacity: 0.7; stroke-width: 0.3\" />\n",
       "     <use xlink:href=\"#m1a3aed406b\" x=\"32.79375\" y=\"51.320203\" style=\"fill: #4575b4; fill-opacity: 0.7; stroke: #4575b4; stroke-opacity: 0.7; stroke-width: 0.3\" />\n",
       "     <use xlink:href=\"#m1a3aed406b\" x=\"32.79375\" y=\"41.26986\" style=\"fill: #4575b4; fill-opacity: 0.7; stroke: #4575b4; stroke-opacity: 0.7; stroke-width: 0.3\" />\n",
       "     <use xlink:href=\"#m1a3aed406b\" x=\"102.54375\" y=\"67.753289\" style=\"fill: #4575b4; fill-opacity: 0.7; stroke: #4575b4; stroke-opacity: 0.7; stroke-width: 0.3\" />\n",
       "     <use xlink:href=\"#m1a3aed406b\" x=\"32.79375\" y=\"24.115803\" style=\"fill: #4575b4; fill-opacity: 0.7; stroke: #4575b4; stroke-opacity: 0.7; stroke-width: 0.3\" />\n",
       "     <use xlink:href=\"#m1a3aed406b\" x=\"32.79375\" y=\"45.103415\" style=\"fill: #4575b4; fill-opacity: 0.7; stroke: #4575b4; stroke-opacity: 0.7; stroke-width: 0.3\" />\n",
       "     <use xlink:href=\"#m1a3aed406b\" x=\"32.79375\" y=\"26.365893\" style=\"fill: #4575b4; fill-opacity: 0.7; stroke: #4575b4; stroke-opacity: 0.7; stroke-width: 0.3\" />\n",
       "     <use xlink:href=\"#m1a3aed406b\" x=\"32.79375\" y=\"42.158553\" style=\"fill: #4575b4; fill-opacity: 0.7; stroke: #4575b4; stroke-opacity: 0.7; stroke-width: 0.3\" />\n",
       "     <use xlink:href=\"#m1a3aed406b\" x=\"32.79375\" y=\"60.595229\" style=\"fill: #4575b4; fill-opacity: 0.7; stroke: #4575b4; stroke-opacity: 0.7; stroke-width: 0.3\" />\n",
       "     <use xlink:href=\"#m1a3aed406b\" x=\"32.79375\" y=\"52.069468\" style=\"fill: #4575b4; fill-opacity: 0.7; stroke: #4575b4; stroke-opacity: 0.7; stroke-width: 0.3\" />\n",
       "     <use xlink:href=\"#m1a3aed406b\" x=\"32.79375\" y=\"37.714596\" style=\"fill: #4575b4; fill-opacity: 0.7; stroke: #4575b4; stroke-opacity: 0.7; stroke-width: 0.3\" />\n",
       "     <use xlink:href=\"#m1a3aed406b\" x=\"32.79375\" y=\"55.2192\" style=\"fill: #4575b4; fill-opacity: 0.7; stroke: #4575b4; stroke-opacity: 0.7; stroke-width: 0.3\" />\n",
       "     <use xlink:href=\"#m1a3aed406b\" x=\"32.79375\" y=\"53.662371\" style=\"fill: #4575b4; fill-opacity: 0.7; stroke: #4575b4; stroke-opacity: 0.7; stroke-width: 0.3\" />\n",
       "     <use xlink:href=\"#m1a3aed406b\" x=\"32.79375\" y=\"22.262883\" style=\"fill: #4575b4; fill-opacity: 0.7; stroke: #4575b4; stroke-opacity: 0.7; stroke-width: 0.3\" />\n",
       "     <use xlink:href=\"#m1a3aed406b\" x=\"32.79375\" y=\"39.607617\" style=\"fill: #4575b4; fill-opacity: 0.7; stroke: #4575b4; stroke-opacity: 0.7; stroke-width: 0.3\" />\n",
       "     <use xlink:href=\"#m1a3aed406b\" x=\"102.54375\" y=\"58.345139\" style=\"fill: #4575b4; fill-opacity: 0.7; stroke: #4575b4; stroke-opacity: 0.7; stroke-width: 0.3\" />\n",
       "     <use xlink:href=\"#m1a3aed406b\" x=\"32.79375\" y=\"21.323159\" style=\"fill: #4575b4; fill-opacity: 0.7; stroke: #4575b4; stroke-opacity: 0.7; stroke-width: 0.3\" />\n",
       "     <use xlink:href=\"#m1a3aed406b\" x=\"32.79375\" y=\"57.312244\" style=\"fill: #4575b4; fill-opacity: 0.7; stroke: #4575b4; stroke-opacity: 0.7; stroke-width: 0.3\" />\n",
       "     <use xlink:href=\"#m1a3aed406b\" x=\"32.79375\" y=\"48.586442\" style=\"fill: #4575b4; fill-opacity: 0.7; stroke: #4575b4; stroke-opacity: 0.7; stroke-width: 0.3\" />\n",
       "     <use xlink:href=\"#m1a3aed406b\" x=\"32.79375\" y=\"15.675124\" style=\"fill: #4575b4; fill-opacity: 0.7; stroke: #4575b4; stroke-opacity: 0.7; stroke-width: 0.3\" />\n",
       "     <use xlink:href=\"#m1a3aed406b\" x=\"32.79375\" y=\"32.953652\" style=\"fill: #4575b4; fill-opacity: 0.7; stroke: #4575b4; stroke-opacity: 0.7; stroke-width: 0.3\" />\n",
       "     <use xlink:href=\"#m1a3aed406b\" x=\"32.79375\" y=\"35.344736\" style=\"fill: #4575b4; fill-opacity: 0.7; stroke: #4575b4; stroke-opacity: 0.7; stroke-width: 0.3\" />\n",
       "     <use xlink:href=\"#m1a3aed406b\" x=\"32.79375\" y=\"48.586442\" style=\"fill: #4575b4; fill-opacity: 0.7; stroke: #4575b4; stroke-opacity: 0.7; stroke-width: 0.3\" />\n",
       "     <use xlink:href=\"#m1a3aed406b\" x=\"32.79375\" y=\"47.960044\" style=\"fill: #4575b4; fill-opacity: 0.7; stroke: #4575b4; stroke-opacity: 0.7; stroke-width: 0.3\" />\n",
       "     <use xlink:href=\"#m1a3aed406b\" x=\"32.79375\" y=\"51.320203\" style=\"fill: #4575b4; fill-opacity: 0.7; stroke: #4575b4; stroke-opacity: 0.7; stroke-width: 0.3\" />\n",
       "     <use xlink:href=\"#m1a3aed406b\" x=\"32.79375\" y=\"42.158553\" style=\"fill: #4575b4; fill-opacity: 0.7; stroke: #4575b4; stroke-opacity: 0.7; stroke-width: 0.3\" />\n",
       "     <use xlink:href=\"#m1a3aed406b\" x=\"32.79375\" y=\"32.399874\" style=\"fill: #4575b4; fill-opacity: 0.7; stroke: #4575b4; stroke-opacity: 0.7; stroke-width: 0.3\" />\n",
       "     <use xlink:href=\"#m1a3aed406b\" x=\"32.79375\" y=\"60.123509\" style=\"fill: #4575b4; fill-opacity: 0.7; stroke: #4575b4; stroke-opacity: 0.7; stroke-width: 0.3\" />\n",
       "     <use xlink:href=\"#m1a3aed406b\" x=\"32.79375\" y=\"22.750672\" style=\"fill: #4575b4; fill-opacity: 0.7; stroke: #4575b4; stroke-opacity: 0.7; stroke-width: 0.3\" />\n",
       "     <use xlink:href=\"#m1a3aed406b\" x=\"102.54375\" y=\"55.400277\" style=\"fill: #4575b4; fill-opacity: 0.7; stroke: #4575b4; stroke-opacity: 0.7; stroke-width: 0.3\" />\n",
       "     <use xlink:href=\"#m1a3aed406b\" x=\"32.79375\" y=\"39.607617\" style=\"fill: #4575b4; fill-opacity: 0.7; stroke: #4575b4; stroke-opacity: 0.7; stroke-width: 0.3\" />\n",
       "     <use xlink:href=\"#m1a3aed406b\" x=\"32.79375\" y=\"32.399874\" style=\"fill: #4575b4; fill-opacity: 0.7; stroke: #4575b4; stroke-opacity: 0.7; stroke-width: 0.3\" />\n",
       "     <use xlink:href=\"#m1a3aed406b\" x=\"32.79375\" y=\"33.523953\" style=\"fill: #4575b4; fill-opacity: 0.7; stroke: #4575b4; stroke-opacity: 0.7; stroke-width: 0.3\" />\n",
       "     <use xlink:href=\"#m1a3aed406b\" x=\"32.79375\" y=\"54.511565\" style=\"fill: #4575b4; fill-opacity: 0.7; stroke: #4575b4; stroke-opacity: 0.7; stroke-width: 0.3\" />\n",
       "     <use xlink:href=\"#m1a3aed406b\" x=\"32.79375\" y=\"44.070539\" style=\"fill: #4575b4; fill-opacity: 0.7; stroke: #4575b4; stroke-opacity: 0.7; stroke-width: 0.3\" />\n",
       "     <use xlink:href=\"#m1a3aed406b\" x=\"32.79375\" y=\"20.870095\" style=\"fill: #4575b4; fill-opacity: 0.7; stroke: #4575b4; stroke-opacity: 0.7; stroke-width: 0.3\" />\n",
       "     <use xlink:href=\"#m1a3aed406b\" x=\"32.79375\" y=\"60.595229\" style=\"fill: #4575b4; fill-opacity: 0.7; stroke: #4575b4; stroke-opacity: 0.7; stroke-width: 0.3\" />\n",
       "     <use xlink:href=\"#m1a3aed406b\" x=\"32.79375\" y=\"39.213709\" style=\"fill: #4575b4; fill-opacity: 0.7; stroke: #4575b4; stroke-opacity: 0.7; stroke-width: 0.3\" />\n",
       "     <use xlink:href=\"#m1a3aed406b\" x=\"32.79375\" y=\"35.992377\" style=\"fill: #4575b4; fill-opacity: 0.7; stroke: #4575b4; stroke-opacity: 0.7; stroke-width: 0.3\" />\n",
       "     <use xlink:href=\"#m1a3aed406b\" x=\"32.79375\" y=\"29.84892\" style=\"fill: #4575b4; fill-opacity: 0.7; stroke: #4575b4; stroke-opacity: 0.7; stroke-width: 0.3\" />\n",
       "     <use xlink:href=\"#m1a3aed406b\" x=\"32.79375\" y=\"59.43708\" style=\"fill: #4575b4; fill-opacity: 0.7; stroke: #4575b4; stroke-opacity: 0.7; stroke-width: 0.3\" />\n",
       "     <use xlink:href=\"#m1a3aed406b\" x=\"32.79375\" y=\"26.365893\" style=\"fill: #4575b4; fill-opacity: 0.7; stroke: #4575b4; stroke-opacity: 0.7; stroke-width: 0.3\" />\n",
       "     <use xlink:href=\"#m1a3aed406b\" x=\"32.79375\" y=\"22.103013\" style=\"fill: #4575b4; fill-opacity: 0.7; stroke: #4575b4; stroke-opacity: 0.7; stroke-width: 0.3\" />\n",
       "     <use xlink:href=\"#m1a3aed406b\" x=\"32.79375\" y=\"46.195357\" style=\"fill: #4575b4; fill-opacity: 0.7; stroke: #4575b4; stroke-opacity: 0.7; stroke-width: 0.3\" />\n",
       "     <use xlink:href=\"#m1a3aed406b\" x=\"32.79375\" y=\"30.332591\" style=\"fill: #4575b4; fill-opacity: 0.7; stroke: #4575b4; stroke-opacity: 0.7; stroke-width: 0.3\" />\n",
       "     <use xlink:href=\"#m1a3aed406b\" x=\"32.79375\" y=\"14.146024\" style=\"fill: #4575b4; fill-opacity: 0.7; stroke: #4575b4; stroke-opacity: 0.7; stroke-width: 0.3\" />\n",
       "     <use xlink:href=\"#m1a3aed406b\" x=\"32.79375\" y=\"34.1118\" style=\"fill: #4575b4; fill-opacity: 0.7; stroke: #4575b4; stroke-opacity: 0.7; stroke-width: 0.3\" />\n",
       "     <use xlink:href=\"#m1a3aed406b\" x=\"32.79375\" y=\"55.400277\" style=\"fill: #4575b4; fill-opacity: 0.7; stroke: #4575b4; stroke-opacity: 0.7; stroke-width: 0.3\" />\n",
       "     <use xlink:href=\"#m1a3aed406b\" x=\"32.79375\" y=\"35.344736\" style=\"fill: #4575b4; fill-opacity: 0.7; stroke: #4575b4; stroke-opacity: 0.7; stroke-width: 0.3\" />\n",
       "     <use xlink:href=\"#m1a3aed406b\" x=\"32.79375\" y=\"33.523953\" style=\"fill: #4575b4; fill-opacity: 0.7; stroke: #4575b4; stroke-opacity: 0.7; stroke-width: 0.3\" />\n",
       "     <use xlink:href=\"#m1a3aed406b\" x=\"32.79375\" y=\"54.511565\" style=\"fill: #4575b4; fill-opacity: 0.7; stroke: #4575b4; stroke-opacity: 0.7; stroke-width: 0.3\" />\n",
       "     <use xlink:href=\"#m1a3aed406b\" x=\"32.79375\" y=\"40.840535\" style=\"fill: #4575b4; fill-opacity: 0.7; stroke: #4575b4; stroke-opacity: 0.7; stroke-width: 0.3\" />\n",
       "     <use xlink:href=\"#m1a3aed406b\" x=\"32.79375\" y=\"58.345139\" style=\"fill: #4575b4; fill-opacity: 0.7; stroke: #4575b4; stroke-opacity: 0.7; stroke-width: 0.3\" />\n",
       "     <use xlink:href=\"#m1a3aed406b\" x=\"32.79375\" y=\"26.565935\" style=\"fill: #4575b4; fill-opacity: 0.7; stroke: #4575b4; stroke-opacity: 0.7; stroke-width: 0.3\" />\n",
       "     <use xlink:href=\"#m1a3aed406b\" x=\"32.79375\" y=\"31.081856\" style=\"fill: #4575b4; fill-opacity: 0.7; stroke: #4575b4; stroke-opacity: 0.7; stroke-width: 0.3\" />\n",
       "     <use xlink:href=\"#m1a3aed406b\" x=\"32.79375\" y=\"41.26986\" style=\"fill: #4575b4; fill-opacity: 0.7; stroke: #4575b4; stroke-opacity: 0.7; stroke-width: 0.3\" />\n",
       "     <use xlink:href=\"#m1a3aed406b\" x=\"32.79375\" y=\"38.44945\" style=\"fill: #4575b4; fill-opacity: 0.7; stroke: #4575b4; stroke-opacity: 0.7; stroke-width: 0.3\" />\n",
       "     <use xlink:href=\"#m1a3aed406b\" x=\"102.54375\" y=\"59.43708\" style=\"fill: #4575b4; fill-opacity: 0.7; stroke: #4575b4; stroke-opacity: 0.7; stroke-width: 0.3\" />\n",
       "     <use xlink:href=\"#m1a3aed406b\" x=\"32.79375\" y=\"44.57999\" style=\"fill: #4575b4; fill-opacity: 0.7; stroke: #4575b4; stroke-opacity: 0.7; stroke-width: 0.3\" />\n",
       "     <use xlink:href=\"#m1a3aed406b\" x=\"32.79375\" y=\"44.57999\" style=\"fill: #4575b4; fill-opacity: 0.7; stroke: #4575b4; stroke-opacity: 0.7; stroke-width: 0.3\" />\n",
       "     <use xlink:href=\"#m1a3aed406b\" x=\"32.79375\" y=\"49.90446\" style=\"fill: #4575b4; fill-opacity: 0.7; stroke: #4575b4; stroke-opacity: 0.7; stroke-width: 0.3\" />\n",
       "     <use xlink:href=\"#m1a3aed406b\" x=\"32.79375\" y=\"39.213709\" style=\"fill: #4575b4; fill-opacity: 0.7; stroke: #4575b4; stroke-opacity: 0.7; stroke-width: 0.3\" />\n",
       "     <use xlink:href=\"#m1a3aed406b\" x=\"32.79375\" y=\"35.992377\" style=\"fill: #4575b4; fill-opacity: 0.7; stroke: #4575b4; stroke-opacity: 0.7; stroke-width: 0.3\" />\n",
       "     <use xlink:href=\"#m1a3aed406b\" x=\"32.79375\" y=\"25.586039\" style=\"fill: #4575b4; fill-opacity: 0.7; stroke: #4575b4; stroke-opacity: 0.7; stroke-width: 0.3\" />\n",
       "     <use xlink:href=\"#m1a3aed406b\" x=\"102.54375\" y=\"66.091046\" style=\"fill: #4575b4; fill-opacity: 0.7; stroke: #4575b4; stroke-opacity: 0.7; stroke-width: 0.3\" />\n",
       "     <use xlink:href=\"#m1a3aed406b\" x=\"102.54375\" y=\"61.828165\" style=\"fill: #4575b4; fill-opacity: 0.7; stroke: #4575b4; stroke-opacity: 0.7; stroke-width: 0.3\" />\n",
       "     <use xlink:href=\"#m1a3aed406b\" x=\"32.79375\" y=\"39.607617\" style=\"fill: #4575b4; fill-opacity: 0.7; stroke: #4575b4; stroke-opacity: 0.7; stroke-width: 0.3\" />\n",
       "     <use xlink:href=\"#m1a3aed406b\" x=\"32.79375\" y=\"25.586039\" style=\"fill: #4575b4; fill-opacity: 0.7; stroke: #4575b4; stroke-opacity: 0.7; stroke-width: 0.3\" />\n",
       "     <use xlink:href=\"#m1a3aed406b\" x=\"32.79375\" y=\"38.827763\" style=\"fill: #4575b4; fill-opacity: 0.7; stroke: #4575b4; stroke-opacity: 0.7; stroke-width: 0.3\" />\n",
       "     <use xlink:href=\"#m1a3aed406b\" x=\"32.79375\" y=\"35.992377\" style=\"fill: #4575b4; fill-opacity: 0.7; stroke: #4575b4; stroke-opacity: 0.7; stroke-width: 0.3\" />\n",
       "     <use xlink:href=\"#m1a3aed406b\" x=\"32.79375\" y=\"23.765256\" style=\"fill: #4575b4; fill-opacity: 0.7; stroke: #4575b4; stroke-opacity: 0.7; stroke-width: 0.3\" />\n",
       "     <use xlink:href=\"#m1a3aed406b\" x=\"32.79375\" y=\"23.765256\" style=\"fill: #4575b4; fill-opacity: 0.7; stroke: #4575b4; stroke-opacity: 0.7; stroke-width: 0.3\" />\n",
       "     <use xlink:href=\"#m1a3aed406b\" x=\"32.79375\" y=\"38.827763\" style=\"fill: #4575b4; fill-opacity: 0.7; stroke: #4575b4; stroke-opacity: 0.7; stroke-width: 0.3\" />\n",
       "     <use xlink:href=\"#m1a3aed406b\" x=\"32.79375\" y=\"44.070539\" style=\"fill: #4575b4; fill-opacity: 0.7; stroke: #4575b4; stroke-opacity: 0.7; stroke-width: 0.3\" />\n",
       "     <use xlink:href=\"#m1a3aed406b\" x=\"32.79375\" y=\"22.750672\" style=\"fill: #4575b4; fill-opacity: 0.7; stroke: #4575b4; stroke-opacity: 0.7; stroke-width: 0.3\" />\n",
       "     <use xlink:href=\"#m1a3aed406b\" x=\"32.79375\" y=\"19.295101\" style=\"fill: #4575b4; fill-opacity: 0.7; stroke: #4575b4; stroke-opacity: 0.7; stroke-width: 0.3\" />\n",
       "     <use xlink:href=\"#m1a3aed406b\" x=\"32.79375\" y=\"41.26986\" style=\"fill: #4575b4; fill-opacity: 0.7; stroke: #4575b4; stroke-opacity: 0.7; stroke-width: 0.3\" />\n",
       "     <use xlink:href=\"#m1a3aed406b\" x=\"102.54375\" y=\"52.069468\" style=\"fill: #4575b4; fill-opacity: 0.7; stroke: #4575b4; stroke-opacity: 0.7; stroke-width: 0.3\" />\n",
       "     <use xlink:href=\"#m1a3aed406b\" x=\"32.79375\" y=\"17.213735\" style=\"fill: #4575b4; fill-opacity: 0.7; stroke: #4575b4; stroke-opacity: 0.7; stroke-width: 0.3\" />\n",
       "     <use xlink:href=\"#m1a3aed406b\" x=\"32.79375\" y=\"44.070539\" style=\"fill: #4575b4; fill-opacity: 0.7; stroke: #4575b4; stroke-opacity: 0.7; stroke-width: 0.3\" />\n",
       "     <use xlink:href=\"#m1a3aed406b\" x=\"32.79375\" y=\"52.849322\" style=\"fill: #4575b4; fill-opacity: 0.7; stroke: #4575b4; stroke-opacity: 0.7; stroke-width: 0.3\" />\n",
       "     <use xlink:href=\"#m1a3aed406b\" x=\"32.79375\" y=\"45.103415\" style=\"fill: #4575b4; fill-opacity: 0.7; stroke: #4575b4; stroke-opacity: 0.7; stroke-width: 0.3\" />\n",
       "     <use xlink:href=\"#m1a3aed406b\" x=\"32.79375\" y=\"50.599232\" style=\"fill: #4575b4; fill-opacity: 0.7; stroke: #4575b4; stroke-opacity: 0.7; stroke-width: 0.3\" />\n",
       "     <use xlink:href=\"#m1a3aed406b\" x=\"32.79375\" y=\"52.849322\" style=\"fill: #4575b4; fill-opacity: 0.7; stroke: #4575b4; stroke-opacity: 0.7; stroke-width: 0.3\" />\n",
       "     <use xlink:href=\"#m1a3aed406b\" x=\"102.54375\" y=\"64.561927\" style=\"fill: #4575b4; fill-opacity: 0.7; stroke: #4575b4; stroke-opacity: 0.7; stroke-width: 0.3\" />\n",
       "     <use xlink:href=\"#m1a3aed406b\" x=\"32.79375\" y=\"44.57999\" style=\"fill: #4575b4; fill-opacity: 0.7; stroke: #4575b4; stroke-opacity: 0.7; stroke-width: 0.3\" />\n",
       "     <use xlink:href=\"#m1a3aed406b\" x=\"32.79375\" y=\"22.103013\" style=\"fill: #4575b4; fill-opacity: 0.7; stroke: #4575b4; stroke-opacity: 0.7; stroke-width: 0.3\" />\n",
       "     <use xlink:href=\"#m1a3aed406b\" x=\"32.79375\" y=\"47.353523\" style=\"fill: #4575b4; fill-opacity: 0.7; stroke: #4575b4; stroke-opacity: 0.7; stroke-width: 0.3\" />\n",
       "     <use xlink:href=\"#m1a3aed406b\" x=\"32.79375\" y=\"56.332348\" style=\"fill: #4575b4; fill-opacity: 0.7; stroke: #4575b4; stroke-opacity: 0.7; stroke-width: 0.3\" />\n",
       "     <use xlink:href=\"#m1a3aed406b\" x=\"32.79375\" y=\"36.662754\" style=\"fill: #4575b4; fill-opacity: 0.7; stroke: #4575b4; stroke-opacity: 0.7; stroke-width: 0.3\" />\n",
       "     <use xlink:href=\"#m1a3aed406b\" x=\"32.79375\" y=\"46.765659\" style=\"fill: #4575b4; fill-opacity: 0.7; stroke: #4575b4; stroke-opacity: 0.7; stroke-width: 0.3\" />\n",
       "     <use xlink:href=\"#m1a3aed406b\" x=\"32.79375\" y=\"20.573894\" style=\"fill: #4575b4; fill-opacity: 0.7; stroke: #4575b4; stroke-opacity: 0.7; stroke-width: 0.3\" />\n",
       "     <use xlink:href=\"#m1a3aed406b\" x=\"32.79375\" y=\"27.178942\" style=\"fill: #4575b4; fill-opacity: 0.7; stroke: #4575b4; stroke-opacity: 0.7; stroke-width: 0.3\" />\n",
       "     <use xlink:href=\"#m1a3aed406b\" x=\"32.79375\" y=\"38.827763\" style=\"fill: #4575b4; fill-opacity: 0.7; stroke: #4575b4; stroke-opacity: 0.7; stroke-width: 0.3\" />\n",
       "     <use xlink:href=\"#m1a3aed406b\" x=\"32.79375\" y=\"49.2341\" style=\"fill: #4575b4; fill-opacity: 0.7; stroke: #4575b4; stroke-opacity: 0.7; stroke-width: 0.3\" />\n",
       "     <use xlink:href=\"#m1a3aed406b\" x=\"32.79375\" y=\"52.849322\" style=\"fill: #4575b4; fill-opacity: 0.7; stroke: #4575b4; stroke-opacity: 0.7; stroke-width: 0.3\" />\n",
       "     <use xlink:href=\"#m1a3aed406b\" x=\"32.79375\" y=\"34.1118\" style=\"fill: #4575b4; fill-opacity: 0.7; stroke: #4575b4; stroke-opacity: 0.7; stroke-width: 0.3\" />\n",
       "     <use xlink:href=\"#m1a3aed406b\" x=\"32.79375\" y=\"52.849322\" style=\"fill: #4575b4; fill-opacity: 0.7; stroke: #4575b4; stroke-opacity: 0.7; stroke-width: 0.3\" />\n",
       "     <use xlink:href=\"#m1a3aed406b\" x=\"32.79375\" y=\"15.225613\" style=\"fill: #4575b4; fill-opacity: 0.7; stroke: #4575b4; stroke-opacity: 0.7; stroke-width: 0.3\" />\n",
       "     <use xlink:href=\"#m1a3aed406b\" x=\"32.79375\" y=\"40.420665\" style=\"fill: #4575b4; fill-opacity: 0.7; stroke: #4575b4; stroke-opacity: 0.7; stroke-width: 0.3\" />\n",
       "     <use xlink:href=\"#m1a3aed406b\" x=\"32.79375\" y=\"37.357509\" style=\"fill: #4575b4; fill-opacity: 0.7; stroke: #4575b4; stroke-opacity: 0.7; stroke-width: 0.3\" />\n",
       "     <use xlink:href=\"#m1a3aed406b\" x=\"32.79375\" y=\"34.1118\" style=\"fill: #4575b4; fill-opacity: 0.7; stroke: #4575b4; stroke-opacity: 0.7; stroke-width: 0.3\" />\n",
       "     <use xlink:href=\"#m1a3aed406b\" x=\"32.79375\" y=\"41.26986\" style=\"fill: #4575b4; fill-opacity: 0.7; stroke: #4575b4; stroke-opacity: 0.7; stroke-width: 0.3\" />\n",
       "     <use xlink:href=\"#m1a3aed406b\" x=\"32.79375\" y=\"32.674759\" style=\"fill: #4575b4; fill-opacity: 0.7; stroke: #4575b4; stroke-opacity: 0.7; stroke-width: 0.3\" />\n",
       "     <use xlink:href=\"#m1a3aed406b\" x=\"32.79375\" y=\"12.344334\" style=\"fill: #4575b4; fill-opacity: 0.7; stroke: #4575b4; stroke-opacity: 0.7; stroke-width: 0.3\" />\n",
       "     <use xlink:href=\"#m1a3aed406b\" x=\"32.79375\" y=\"15.004765\" style=\"fill: #4575b4; fill-opacity: 0.7; stroke: #4575b4; stroke-opacity: 0.7; stroke-width: 0.3\" />\n",
       "     <use xlink:href=\"#m1a3aed406b\" x=\"32.79375\" y=\"39.607617\" style=\"fill: #4575b4; fill-opacity: 0.7; stroke: #4575b4; stroke-opacity: 0.7; stroke-width: 0.3\" />\n",
       "     <use xlink:href=\"#m1a3aed406b\" x=\"32.79375\" y=\"49.90446\" style=\"fill: #4575b4; fill-opacity: 0.7; stroke: #4575b4; stroke-opacity: 0.7; stroke-width: 0.3\" />\n",
       "     <use xlink:href=\"#m1a3aed406b\" x=\"32.79375\" y=\"22.4241\" style=\"fill: #4575b4; fill-opacity: 0.7; stroke: #4575b4; stroke-opacity: 0.7; stroke-width: 0.3\" />\n",
       "     <use xlink:href=\"#m1a3aed406b\" x=\"102.54375\" y=\"54.511565\" style=\"fill: #4575b4; fill-opacity: 0.7; stroke: #4575b4; stroke-opacity: 0.7; stroke-width: 0.3\" />\n",
       "     <use xlink:href=\"#m1a3aed406b\" x=\"32.79375\" y=\"34.1118\" style=\"fill: #4575b4; fill-opacity: 0.7; stroke: #4575b4; stroke-opacity: 0.7; stroke-width: 0.3\" />\n",
       "     <use xlink:href=\"#m1a3aed406b\" x=\"32.79375\" y=\"59.43708\" style=\"fill: #4575b4; fill-opacity: 0.7; stroke: #4575b4; stroke-opacity: 0.7; stroke-width: 0.3\" />\n",
       "     <use xlink:href=\"#m1a3aed406b\" x=\"32.79375\" y=\"41.709042\" style=\"fill: #4575b4; fill-opacity: 0.7; stroke: #4575b4; stroke-opacity: 0.7; stroke-width: 0.3\" />\n",
       "     <use xlink:href=\"#m1a3aed406b\" x=\"32.79375\" y=\"34.718321\" style=\"fill: #4575b4; fill-opacity: 0.7; stroke: #4575b4; stroke-opacity: 0.7; stroke-width: 0.3\" />\n",
       "     <use xlink:href=\"#m1a3aed406b\" x=\"32.79375\" y=\"35.028951\" style=\"fill: #4575b4; fill-opacity: 0.7; stroke: #4575b4; stroke-opacity: 0.7; stroke-width: 0.3\" />\n",
       "     <use xlink:href=\"#m1a3aed406b\" x=\"32.79375\" y=\"38.078498\" style=\"fill: #4575b4; fill-opacity: 0.7; stroke: #4575b4; stroke-opacity: 0.7; stroke-width: 0.3\" />\n",
       "     <use xlink:href=\"#m1a3aed406b\" x=\"32.79375\" y=\"46.765659\" style=\"fill: #4575b4; fill-opacity: 0.7; stroke: #4575b4; stroke-opacity: 0.7; stroke-width: 0.3\" />\n",
       "     <use xlink:href=\"#m1a3aed406b\" x=\"32.79375\" y=\"40.009814\" style=\"fill: #4575b4; fill-opacity: 0.7; stroke: #4575b4; stroke-opacity: 0.7; stroke-width: 0.3\" />\n",
       "     <use xlink:href=\"#m1a3aed406b\" x=\"32.79375\" y=\"52.069468\" style=\"fill: #4575b4; fill-opacity: 0.7; stroke: #4575b4; stroke-opacity: 0.7; stroke-width: 0.3\" />\n",
       "     <use xlink:href=\"#m1a3aed406b\" x=\"32.79375\" y=\"30.828816\" style=\"fill: #4575b4; fill-opacity: 0.7; stroke: #4575b4; stroke-opacity: 0.7; stroke-width: 0.3\" />\n",
       "     <use xlink:href=\"#m1a3aed406b\" x=\"32.79375\" y=\"38.078498\" style=\"fill: #4575b4; fill-opacity: 0.7; stroke: #4575b4; stroke-opacity: 0.7; stroke-width: 0.3\" />\n",
       "     <use xlink:href=\"#m1a3aed406b\" x=\"32.79375\" y=\"27.59883\" style=\"fill: #4575b4; fill-opacity: 0.7; stroke: #4575b4; stroke-opacity: 0.7; stroke-width: 0.3\" />\n",
       "     <use xlink:href=\"#m1a3aed406b\" x=\"102.54375\" y=\"55.400277\" style=\"fill: #4575b4; fill-opacity: 0.7; stroke: #4575b4; stroke-opacity: 0.7; stroke-width: 0.3\" />\n",
       "     <use xlink:href=\"#m1a3aed406b\" x=\"32.79375\" y=\"35.344736\" style=\"fill: #4575b4; fill-opacity: 0.7; stroke: #4575b4; stroke-opacity: 0.7; stroke-width: 0.3\" />\n",
       "     <use xlink:href=\"#m1a3aed406b\" x=\"32.79375\" y=\"39.607617\" style=\"fill: #4575b4; fill-opacity: 0.7; stroke: #4575b4; stroke-opacity: 0.7; stroke-width: 0.3\" />\n",
       "     <use xlink:href=\"#m1a3aed406b\" x=\"32.79375\" y=\"52.849322\" style=\"fill: #4575b4; fill-opacity: 0.7; stroke: #4575b4; stroke-opacity: 0.7; stroke-width: 0.3\" />\n",
       "     <use xlink:href=\"#m1a3aed406b\" x=\"32.79375\" y=\"35.344736\" style=\"fill: #4575b4; fill-opacity: 0.7; stroke: #4575b4; stroke-opacity: 0.7; stroke-width: 0.3\" />\n",
       "     <use xlink:href=\"#m1a3aed406b\" x=\"32.79375\" y=\"44.070539\" style=\"fill: #4575b4; fill-opacity: 0.7; stroke: #4575b4; stroke-opacity: 0.7; stroke-width: 0.3\" />\n",
       "     <use xlink:href=\"#m1a3aed406b\" x=\"32.79375\" y=\"38.827763\" style=\"fill: #4575b4; fill-opacity: 0.7; stroke: #4575b4; stroke-opacity: 0.7; stroke-width: 0.3\" />\n",
       "     <use xlink:href=\"#m1a3aed406b\" x=\"32.79375\" y=\"47.353523\" style=\"fill: #4575b4; fill-opacity: 0.7; stroke: #4575b4; stroke-opacity: 0.7; stroke-width: 0.3\" />\n",
       "     <use xlink:href=\"#m1a3aed406b\" x=\"32.79375\" y=\"36.662754\" style=\"fill: #4575b4; fill-opacity: 0.7; stroke: #4575b4; stroke-opacity: 0.7; stroke-width: 0.3\" />\n",
       "     <use xlink:href=\"#m1a3aed406b\" x=\"32.79375\" y=\"50.599232\" style=\"fill: #4575b4; fill-opacity: 0.7; stroke: #4575b4; stroke-opacity: 0.7; stroke-width: 0.3\" />\n",
       "     <use xlink:href=\"#m1a3aed406b\" x=\"32.79375\" y=\"42.618923\" style=\"fill: #4575b4; fill-opacity: 0.7; stroke: #4575b4; stroke-opacity: 0.7; stroke-width: 0.3\" />\n",
       "     <use xlink:href=\"#m1a3aed406b\" x=\"32.79375\" y=\"32.953652\" style=\"fill: #4575b4; fill-opacity: 0.7; stroke: #4575b4; stroke-opacity: 0.7; stroke-width: 0.3\" />\n",
       "     <use xlink:href=\"#m1a3aed406b\" x=\"32.79375\" y=\"39.213709\" style=\"fill: #4575b4; fill-opacity: 0.7; stroke: #4575b4; stroke-opacity: 0.7; stroke-width: 0.3\" />\n",
       "     <use xlink:href=\"#m1a3aed406b\" x=\"32.79375\" y=\"31.86171\" style=\"fill: #4575b4; fill-opacity: 0.7; stroke: #4575b4; stroke-opacity: 0.7; stroke-width: 0.3\" />\n",
       "     <use xlink:href=\"#m1a3aed406b\" x=\"32.79375\" y=\"35.992377\" style=\"fill: #4575b4; fill-opacity: 0.7; stroke: #4575b4; stroke-opacity: 0.7; stroke-width: 0.3\" />\n",
       "     <use xlink:href=\"#m1a3aed406b\" x=\"32.79375\" y=\"46.195357\" style=\"fill: #4575b4; fill-opacity: 0.7; stroke: #4575b4; stroke-opacity: 0.7; stroke-width: 0.3\" />\n",
       "     <use xlink:href=\"#m1a3aed406b\" x=\"32.79375\" y=\"23.765256\" style=\"fill: #4575b4; fill-opacity: 0.7; stroke: #4575b4; stroke-opacity: 0.7; stroke-width: 0.3\" />\n",
       "     <use xlink:href=\"#m1a3aed406b\" x=\"102.54375\" y=\"60.595229\" style=\"fill: #4575b4; fill-opacity: 0.7; stroke: #4575b4; stroke-opacity: 0.7; stroke-width: 0.3\" />\n",
       "     <use xlink:href=\"#m1a3aed406b\" x=\"102.54375\" y=\"60.595229\" style=\"fill: #4575b4; fill-opacity: 0.7; stroke: #4575b4; stroke-opacity: 0.7; stroke-width: 0.3\" />\n",
       "     <use xlink:href=\"#m1a3aed406b\" x=\"32.79375\" y=\"43.090643\" style=\"fill: #4575b4; fill-opacity: 0.7; stroke: #4575b4; stroke-opacity: 0.7; stroke-width: 0.3\" />\n",
       "     <use xlink:href=\"#m1a3aed406b\" x=\"32.79375\" y=\"60.007382\" style=\"fill: #4575b4; fill-opacity: 0.7; stroke: #4575b4; stroke-opacity: 0.7; stroke-width: 0.3\" />\n",
       "     <use xlink:href=\"#m1a3aed406b\" x=\"32.79375\" y=\"28.028137\" style=\"fill: #4575b4; fill-opacity: 0.7; stroke: #4575b4; stroke-opacity: 0.7; stroke-width: 0.3\" />\n",
       "     <use xlink:href=\"#m1a3aed406b\" x=\"32.79375\" y=\"43.090643\" style=\"fill: #4575b4; fill-opacity: 0.7; stroke: #4575b4; stroke-opacity: 0.7; stroke-width: 0.3\" />\n",
       "     <use xlink:href=\"#m1a3aed406b\" x=\"32.79375\" y=\"41.26986\" style=\"fill: #4575b4; fill-opacity: 0.7; stroke: #4575b4; stroke-opacity: 0.7; stroke-width: 0.3\" />\n",
       "     <use xlink:href=\"#m1a3aed406b\" x=\"32.79375\" y=\"31.338285\" style=\"fill: #4575b4; fill-opacity: 0.7; stroke: #4575b4; stroke-opacity: 0.7; stroke-width: 0.3\" />\n",
       "     <use xlink:href=\"#m1a3aed406b\" x=\"32.79375\" y=\"26.565935\" style=\"fill: #4575b4; fill-opacity: 0.7; stroke: #4575b4; stroke-opacity: 0.7; stroke-width: 0.3\" />\n",
       "     <use xlink:href=\"#m1a3aed406b\" x=\"172.29375\" y=\"58.883303\" style=\"fill: #4575b4; fill-opacity: 0.7; stroke: #4575b4; stroke-opacity: 0.7; stroke-width: 0.3\" />\n",
       "     <use xlink:href=\"#m1a3aed406b\" x=\"102.54375\" y=\"49.90446\" style=\"fill: #4575b4; fill-opacity: 0.7; stroke: #4575b4; stroke-opacity: 0.7; stroke-width: 0.3\" />\n",
       "     <use xlink:href=\"#m1a3aed406b\" x=\"32.79375\" y=\"20.573894\" style=\"fill: #4575b4; fill-opacity: 0.7; stroke: #4575b4; stroke-opacity: 0.7; stroke-width: 0.3\" />\n",
       "     <use xlink:href=\"#m1a3aed406b\" x=\"32.79375\" y=\"29.84892\" style=\"fill: #4575b4; fill-opacity: 0.7; stroke: #4575b4; stroke-opacity: 0.7; stroke-width: 0.3\" />\n",
       "     <use xlink:href=\"#m1a3aed406b\" x=\"32.79375\" y=\"50.248685\" style=\"fill: #4575b4; fill-opacity: 0.7; stroke: #4575b4; stroke-opacity: 0.7; stroke-width: 0.3\" />\n",
       "     <use xlink:href=\"#m1a3aed406b\" x=\"32.79375\" y=\"51.320203\" style=\"fill: #4575b4; fill-opacity: 0.7; stroke: #4575b4; stroke-opacity: 0.7; stroke-width: 0.3\" />\n",
       "     <use xlink:href=\"#m1a3aed406b\" x=\"32.79375\" y=\"44.57999\" style=\"fill: #4575b4; fill-opacity: 0.7; stroke: #4575b4; stroke-opacity: 0.7; stroke-width: 0.3\" />\n",
       "     <use xlink:href=\"#m1a3aed406b\" x=\"32.79375\" y=\"33.523953\" style=\"fill: #4575b4; fill-opacity: 0.7; stroke: #4575b4; stroke-opacity: 0.7; stroke-width: 0.3\" />\n",
       "     <use xlink:href=\"#m1a3aed406b\" x=\"32.79375\" y=\"41.709042\" style=\"fill: #4575b4; fill-opacity: 0.7; stroke: #4575b4; stroke-opacity: 0.7; stroke-width: 0.3\" />\n",
       "     <use xlink:href=\"#m1a3aed406b\" x=\"32.79375\" y=\"45.103415\" style=\"fill: #4575b4; fill-opacity: 0.7; stroke: #4575b4; stroke-opacity: 0.7; stroke-width: 0.3\" />\n",
       "     <use xlink:href=\"#m1a3aed406b\" x=\"32.79375\" y=\"60.595229\" style=\"fill: #4575b4; fill-opacity: 0.7; stroke: #4575b4; stroke-opacity: 0.7; stroke-width: 0.3\" />\n",
       "     <use xlink:href=\"#m1a3aed406b\" x=\"32.79375\" y=\"19.711928\" style=\"fill: #4575b4; fill-opacity: 0.7; stroke: #4575b4; stroke-opacity: 0.7; stroke-width: 0.3\" />\n",
       "     <use xlink:href=\"#m1a3aed406b\" x=\"32.79375\" y=\"41.26986\" style=\"fill: #4575b4; fill-opacity: 0.7; stroke: #4575b4; stroke-opacity: 0.7; stroke-width: 0.3\" />\n",
       "     <use xlink:href=\"#m1a3aed406b\" x=\"32.79375\" y=\"19.852923\" style=\"fill: #4575b4; fill-opacity: 0.7; stroke: #4575b4; stroke-opacity: 0.7; stroke-width: 0.3\" />\n",
       "     <use xlink:href=\"#m1a3aed406b\" x=\"32.79375\" y=\"49.2341\" style=\"fill: #4575b4; fill-opacity: 0.7; stroke: #4575b4; stroke-opacity: 0.7; stroke-width: 0.3\" />\n",
       "     <use xlink:href=\"#m1a3aed406b\" x=\"32.79375\" y=\"34.1118\" style=\"fill: #4575b4; fill-opacity: 0.7; stroke: #4575b4; stroke-opacity: 0.7; stroke-width: 0.3\" />\n",
       "     <use xlink:href=\"#m1a3aed406b\" x=\"32.79375\" y=\"14.357106\" style=\"fill: #4575b4; fill-opacity: 0.7; stroke: #4575b4; stroke-opacity: 0.7; stroke-width: 0.3\" />\n",
       "     <use xlink:href=\"#m1a3aed406b\" x=\"102.54375\" y=\"60.595229\" style=\"fill: #4575b4; fill-opacity: 0.7; stroke: #4575b4; stroke-opacity: 0.7; stroke-width: 0.3\" />\n",
       "     <use xlink:href=\"#m1a3aed406b\" x=\"32.79375\" y=\"31.338285\" style=\"fill: #4575b4; fill-opacity: 0.7; stroke: #4575b4; stroke-opacity: 0.7; stroke-width: 0.3\" />\n",
       "     <use xlink:href=\"#m1a3aed406b\" x=\"32.79375\" y=\"29.84892\" style=\"fill: #4575b4; fill-opacity: 0.7; stroke: #4575b4; stroke-opacity: 0.7; stroke-width: 0.3\" />\n",
       "     <use xlink:href=\"#m1a3aed406b\" x=\"32.79375\" y=\"17.840133\" style=\"fill: #4575b4; fill-opacity: 0.7; stroke: #4575b4; stroke-opacity: 0.7; stroke-width: 0.3\" />\n",
       "     <use xlink:href=\"#m1a3aed406b\" x=\"32.79375\" y=\"48.586442\" style=\"fill: #4575b4; fill-opacity: 0.7; stroke: #4575b4; stroke-opacity: 0.7; stroke-width: 0.3\" />\n",
       "     <use xlink:href=\"#m1a3aed406b\" x=\"32.79375\" y=\"34.1118\" style=\"fill: #4575b4; fill-opacity: 0.7; stroke: #4575b4; stroke-opacity: 0.7; stroke-width: 0.3\" />\n",
       "     <use xlink:href=\"#m1a3aed406b\" x=\"102.54375\" y=\"63.146183\" style=\"fill: #4575b4; fill-opacity: 0.7; stroke: #4575b4; stroke-opacity: 0.7; stroke-width: 0.3\" />\n",
       "     <use xlink:href=\"#m1a3aed406b\" x=\"32.79375\" y=\"40.420665\" style=\"fill: #4575b4; fill-opacity: 0.7; stroke: #4575b4; stroke-opacity: 0.7; stroke-width: 0.3\" />\n",
       "     <use xlink:href=\"#m1a3aed406b\" x=\"32.79375\" y=\"28.690771\" style=\"fill: #4575b4; fill-opacity: 0.7; stroke: #4575b4; stroke-opacity: 0.7; stroke-width: 0.3\" />\n",
       "     <use xlink:href=\"#m1a3aed406b\" x=\"32.79375\" y=\"22.103013\" style=\"fill: #4575b4; fill-opacity: 0.7; stroke: #4575b4; stroke-opacity: 0.7; stroke-width: 0.3\" />\n",
       "     <use xlink:href=\"#m1a3aed406b\" x=\"172.29375\" y=\"60.595229\" style=\"fill: #4575b4; fill-opacity: 0.7; stroke: #4575b4; stroke-opacity: 0.7; stroke-width: 0.3\" />\n",
       "     <use xlink:href=\"#m1a3aed406b\" x=\"102.54375\" y=\"51.320203\" style=\"fill: #4575b4; fill-opacity: 0.7; stroke: #4575b4; stroke-opacity: 0.7; stroke-width: 0.3\" />\n",
       "     <use xlink:href=\"#m1a3aed406b\" x=\"32.79375\" y=\"19.158151\" style=\"fill: #4575b4; fill-opacity: 0.7; stroke: #4575b4; stroke-opacity: 0.7; stroke-width: 0.3\" />\n",
       "     <use xlink:href=\"#m1a3aed406b\" x=\"32.79375\" y=\"31.338285\" style=\"fill: #4575b4; fill-opacity: 0.7; stroke: #4575b4; stroke-opacity: 0.7; stroke-width: 0.3\" />\n",
       "     <use xlink:href=\"#m1a3aed406b\" x=\"32.79375\" y=\"25.586039\" style=\"fill: #4575b4; fill-opacity: 0.7; stroke: #4575b4; stroke-opacity: 0.7; stroke-width: 0.3\" />\n",
       "     <use xlink:href=\"#m1a3aed406b\" x=\"32.79375\" y=\"52.849322\" style=\"fill: #4575b4; fill-opacity: 0.7; stroke: #4575b4; stroke-opacity: 0.7; stroke-width: 0.3\" />\n",
       "     <use xlink:href=\"#m1a3aed406b\" x=\"32.79375\" y=\"34.1118\" style=\"fill: #4575b4; fill-opacity: 0.7; stroke: #4575b4; stroke-opacity: 0.7; stroke-width: 0.3\" />\n",
       "     <use xlink:href=\"#m1a3aed406b\" x=\"32.79375\" y=\"46.765659\" style=\"fill: #4575b4; fill-opacity: 0.7; stroke: #4575b4; stroke-opacity: 0.7; stroke-width: 0.3\" />\n",
       "     <use xlink:href=\"#m1a3aed406b\" x=\"32.79375\" y=\"27.59883\" style=\"fill: #4575b4; fill-opacity: 0.7; stroke: #4575b4; stroke-opacity: 0.7; stroke-width: 0.3\" />\n",
       "     <use xlink:href=\"#m1a3aed406b\" x=\"32.79375\" y=\"43.574297\" style=\"fill: #4575b4; fill-opacity: 0.7; stroke: #4575b4; stroke-opacity: 0.7; stroke-width: 0.3\" />\n",
       "     <use xlink:href=\"#m1a3aed406b\" x=\"32.79375\" y=\"17.337368\" style=\"fill: #4575b4; fill-opacity: 0.7; stroke: #4575b4; stroke-opacity: 0.7; stroke-width: 0.3\" />\n",
       "     <use xlink:href=\"#m1a3aed406b\" x=\"32.79375\" y=\"43.090643\" style=\"fill: #4575b4; fill-opacity: 0.7; stroke: #4575b4; stroke-opacity: 0.7; stroke-width: 0.3\" />\n",
       "     <use xlink:href=\"#m1a3aed406b\" x=\"32.79375\" y=\"47.353523\" style=\"fill: #4575b4; fill-opacity: 0.7; stroke: #4575b4; stroke-opacity: 0.7; stroke-width: 0.3\" />\n",
       "     <use xlink:href=\"#m1a3aed406b\" x=\"32.79375\" y=\"27.59883\" style=\"fill: #4575b4; fill-opacity: 0.7; stroke: #4575b4; stroke-opacity: 0.7; stroke-width: 0.3\" />\n",
       "     <use xlink:href=\"#m1a3aed406b\" x=\"32.79375\" y=\"10.87408\" style=\"fill: #4575b4; fill-opacity: 0.7; stroke: #4575b4; stroke-opacity: 0.7; stroke-width: 0.3\" />\n",
       "     <use xlink:href=\"#m1a3aed406b\" x=\"32.79375\" y=\"60.595229\" style=\"fill: #4575b4; fill-opacity: 0.7; stroke: #4575b4; stroke-opacity: 0.7; stroke-width: 0.3\" />\n",
       "     <use xlink:href=\"#m1a3aed406b\" x=\"32.79375\" y=\"28.028137\" style=\"fill: #4575b4; fill-opacity: 0.7; stroke: #4575b4; stroke-opacity: 0.7; stroke-width: 0.3\" />\n",
       "     <use xlink:href=\"#m1a3aed406b\" x=\"32.79375\" y=\"37.00698\" style=\"fill: #4575b4; fill-opacity: 0.7; stroke: #4575b4; stroke-opacity: 0.7; stroke-width: 0.3\" />\n",
       "     <use xlink:href=\"#m1a3aed406b\" x=\"32.79375\" y=\"37.00698\" style=\"fill: #4575b4; fill-opacity: 0.7; stroke: #4575b4; stroke-opacity: 0.7; stroke-width: 0.3\" />\n",
       "     <use xlink:href=\"#m1a3aed406b\" x=\"32.79375\" y=\"51.320203\" style=\"fill: #4575b4; fill-opacity: 0.7; stroke: #4575b4; stroke-opacity: 0.7; stroke-width: 0.3\" />\n",
       "     <use xlink:href=\"#m1a3aed406b\" x=\"32.79375\" y=\"34.1118\" style=\"fill: #4575b4; fill-opacity: 0.7; stroke: #4575b4; stroke-opacity: 0.7; stroke-width: 0.3\" />\n",
       "     <use xlink:href=\"#m1a3aed406b\" x=\"32.79375\" y=\"35.344736\" style=\"fill: #4575b4; fill-opacity: 0.7; stroke: #4575b4; stroke-opacity: 0.7; stroke-width: 0.3\" />\n",
       "     <use xlink:href=\"#m1a3aed406b\" x=\"32.79375\" y=\"31.86171\" style=\"fill: #4575b4; fill-opacity: 0.7; stroke: #4575b4; stroke-opacity: 0.7; stroke-width: 0.3\" />\n",
       "     <use xlink:href=\"#m1a3aed406b\" x=\"32.79375\" y=\"49.2341\" style=\"fill: #4575b4; fill-opacity: 0.7; stroke: #4575b4; stroke-opacity: 0.7; stroke-width: 0.3\" />\n",
       "     <use xlink:href=\"#m1a3aed406b\" x=\"32.79375\" y=\"25.971985\" style=\"fill: #4575b4; fill-opacity: 0.7; stroke: #4575b4; stroke-opacity: 0.7; stroke-width: 0.3\" />\n",
       "     <use xlink:href=\"#m1a3aed406b\" x=\"32.79375\" y=\"43.090643\" style=\"fill: #4575b4; fill-opacity: 0.7; stroke: #4575b4; stroke-opacity: 0.7; stroke-width: 0.3\" />\n",
       "     <use xlink:href=\"#m1a3aed406b\" x=\"32.79375\" y=\"40.840535\" style=\"fill: #4575b4; fill-opacity: 0.7; stroke: #4575b4; stroke-opacity: 0.7; stroke-width: 0.3\" />\n",
       "     <use xlink:href=\"#m1a3aed406b\" x=\"32.79375\" y=\"25.586039\" style=\"fill: #4575b4; fill-opacity: 0.7; stroke: #4575b4; stroke-opacity: 0.7; stroke-width: 0.3\" />\n",
       "     <use xlink:href=\"#m1a3aed406b\" x=\"32.79375\" y=\"49.90446\" style=\"fill: #4575b4; fill-opacity: 0.7; stroke: #4575b4; stroke-opacity: 0.7; stroke-width: 0.3\" />\n",
       "     <use xlink:href=\"#m1a3aed406b\" x=\"32.79375\" y=\"47.960044\" style=\"fill: #4575b4; fill-opacity: 0.7; stroke: #4575b4; stroke-opacity: 0.7; stroke-width: 0.3\" />\n",
       "     <use xlink:href=\"#m1a3aed406b\" x=\"32.79375\" y=\"58.345139\" style=\"fill: #4575b4; fill-opacity: 0.7; stroke: #4575b4; stroke-opacity: 0.7; stroke-width: 0.3\" />\n",
       "     <use xlink:href=\"#m1a3aed406b\" x=\"32.79375\" y=\"56.332348\" style=\"fill: #4575b4; fill-opacity: 0.7; stroke: #4575b4; stroke-opacity: 0.7; stroke-width: 0.3\" />\n",
       "     <use xlink:href=\"#m1a3aed406b\" x=\"102.54375\" y=\"51.320203\" style=\"fill: #4575b4; fill-opacity: 0.7; stroke: #4575b4; stroke-opacity: 0.7; stroke-width: 0.3\" />\n",
       "     <use xlink:href=\"#m1a3aed406b\" x=\"32.79375\" y=\"42.158553\" style=\"fill: #4575b4; fill-opacity: 0.7; stroke: #4575b4; stroke-opacity: 0.7; stroke-width: 0.3\" />\n",
       "     <use xlink:href=\"#m1a3aed406b\" x=\"32.79375\" y=\"49.90446\" style=\"fill: #4575b4; fill-opacity: 0.7; stroke: #4575b4; stroke-opacity: 0.7; stroke-width: 0.3\" />\n",
       "     <use xlink:href=\"#m1a3aed406b\" x=\"32.79375\" y=\"12.344334\" style=\"fill: #4575b4; fill-opacity: 0.7; stroke: #4575b4; stroke-opacity: 0.7; stroke-width: 0.3\" />\n",
       "     <use xlink:href=\"#m1a3aed406b\" x=\"32.79375\" y=\"41.26986\" style=\"fill: #4575b4; fill-opacity: 0.7; stroke: #4575b4; stroke-opacity: 0.7; stroke-width: 0.3\" />\n",
       "     <use xlink:href=\"#m1a3aed406b\" x=\"32.79375\" y=\"58.345139\" style=\"fill: #4575b4; fill-opacity: 0.7; stroke: #4575b4; stroke-opacity: 0.7; stroke-width: 0.3\" />\n",
       "     <use xlink:href=\"#m1a3aed406b\" x=\"32.79375\" y=\"44.57999\" style=\"fill: #4575b4; fill-opacity: 0.7; stroke: #4575b4; stroke-opacity: 0.7; stroke-width: 0.3\" />\n",
       "     <use xlink:href=\"#m1a3aed406b\" x=\"32.79375\" y=\"32.399874\" style=\"fill: #4575b4; fill-opacity: 0.7; stroke: #4575b4; stroke-opacity: 0.7; stroke-width: 0.3\" />\n",
       "     <use xlink:href=\"#m1a3aed406b\" x=\"32.79375\" y=\"16.607214\" style=\"fill: #4575b4; fill-opacity: 0.7; stroke: #4575b4; stroke-opacity: 0.7; stroke-width: 0.3\" />\n",
       "     <use xlink:href=\"#m1a3aed406b\" x=\"32.79375\" y=\"40.840535\" style=\"fill: #4575b4; fill-opacity: 0.7; stroke: #4575b4; stroke-opacity: 0.7; stroke-width: 0.3\" />\n",
       "     <use xlink:href=\"#m1a3aed406b\" x=\"32.79375\" y=\"28.690771\" style=\"fill: #4575b4; fill-opacity: 0.7; stroke: #4575b4; stroke-opacity: 0.7; stroke-width: 0.3\" />\n",
       "     <use xlink:href=\"#m1a3aed406b\" x=\"32.79375\" y=\"31.338285\" style=\"fill: #4575b4; fill-opacity: 0.7; stroke: #4575b4; stroke-opacity: 0.7; stroke-width: 0.3\" />\n",
       "     <use xlink:href=\"#m1a3aed406b\" x=\"32.79375\" y=\"43.090643\" style=\"fill: #4575b4; fill-opacity: 0.7; stroke: #4575b4; stroke-opacity: 0.7; stroke-width: 0.3\" />\n",
       "     <use xlink:href=\"#m1a3aed406b\" x=\"32.79375\" y=\"27.178942\" style=\"fill: #4575b4; fill-opacity: 0.7; stroke: #4575b4; stroke-opacity: 0.7; stroke-width: 0.3\" />\n",
       "     <use xlink:href=\"#m1a3aed406b\" x=\"32.79375\" y=\"24.472891\" style=\"fill: #4575b4; fill-opacity: 0.7; stroke: #4575b4; stroke-opacity: 0.7; stroke-width: 0.3\" />\n",
       "     <use xlink:href=\"#m1a3aed406b\" x=\"32.79375\" y=\"28.916848\" style=\"fill: #4575b4; fill-opacity: 0.7; stroke: #4575b4; stroke-opacity: 0.7; stroke-width: 0.3\" />\n",
       "     <use xlink:href=\"#m1a3aed406b\" x=\"32.79375\" y=\"37.00698\" style=\"fill: #4575b4; fill-opacity: 0.7; stroke: #4575b4; stroke-opacity: 0.7; stroke-width: 0.3\" />\n",
       "     <use xlink:href=\"#m1a3aed406b\" x=\"32.79375\" y=\"40.009814\" style=\"fill: #4575b4; fill-opacity: 0.7; stroke: #4575b4; stroke-opacity: 0.7; stroke-width: 0.3\" />\n",
       "     <use xlink:href=\"#m1a3aed406b\" x=\"32.79375\" y=\"41.26986\" style=\"fill: #4575b4; fill-opacity: 0.7; stroke: #4575b4; stroke-opacity: 0.7; stroke-width: 0.3\" />\n",
       "     <use xlink:href=\"#m1a3aed406b\" x=\"32.79375\" y=\"23.082909\" style=\"fill: #4575b4; fill-opacity: 0.7; stroke: #4575b4; stroke-opacity: 0.7; stroke-width: 0.3\" />\n",
       "     <use xlink:href=\"#m1a3aed406b\" x=\"32.79375\" y=\"57.312244\" style=\"fill: #4575b4; fill-opacity: 0.7; stroke: #4575b4; stroke-opacity: 0.7; stroke-width: 0.3\" />\n",
       "     <use xlink:href=\"#m1a3aed406b\" x=\"102.54375\" y=\"46.195357\" style=\"fill: #4575b4; fill-opacity: 0.7; stroke: #4575b4; stroke-opacity: 0.7; stroke-width: 0.3\" />\n",
       "     <use xlink:href=\"#m1a3aed406b\" x=\"32.79375\" y=\"25.971985\" style=\"fill: #4575b4; fill-opacity: 0.7; stroke: #4575b4; stroke-opacity: 0.7; stroke-width: 0.3\" />\n",
       "     <use xlink:href=\"#m1a3aed406b\" x=\"32.79375\" y=\"32.399874\" style=\"fill: #4575b4; fill-opacity: 0.7; stroke: #4575b4; stroke-opacity: 0.7; stroke-width: 0.3\" />\n",
       "     <use xlink:href=\"#m1a3aed406b\" x=\"32.79375\" y=\"55.400277\" style=\"fill: #4575b4; fill-opacity: 0.7; stroke: #4575b4; stroke-opacity: 0.7; stroke-width: 0.3\" />\n",
       "     <use xlink:href=\"#m1a3aed406b\" x=\"32.79375\" y=\"38.827763\" style=\"fill: #4575b4; fill-opacity: 0.7; stroke: #4575b4; stroke-opacity: 0.7; stroke-width: 0.3\" />\n",
       "     <use xlink:href=\"#m1a3aed406b\" x=\"32.79375\" y=\"49.2341\" style=\"fill: #4575b4; fill-opacity: 0.7; stroke: #4575b4; stroke-opacity: 0.7; stroke-width: 0.3\" />\n",
       "     <use xlink:href=\"#m1a3aed406b\" x=\"32.79375\" y=\"35.344736\" style=\"fill: #4575b4; fill-opacity: 0.7; stroke: #4575b4; stroke-opacity: 0.7; stroke-width: 0.3\" />\n",
       "     <use xlink:href=\"#m1a3aed406b\" x=\"32.79375\" y=\"27.178942\" style=\"fill: #4575b4; fill-opacity: 0.7; stroke: #4575b4; stroke-opacity: 0.7; stroke-width: 0.3\" />\n",
       "     <use xlink:href=\"#m1a3aed406b\" x=\"102.54375\" y=\"52.069468\" style=\"fill: #4575b4; fill-opacity: 0.7; stroke: #4575b4; stroke-opacity: 0.7; stroke-width: 0.3\" />\n",
       "     <use xlink:href=\"#m1a3aed406b\" x=\"32.79375\" y=\"39.607617\" style=\"fill: #4575b4; fill-opacity: 0.7; stroke: #4575b4; stroke-opacity: 0.7; stroke-width: 0.3\" />\n",
       "     <use xlink:href=\"#m1a3aed406b\" x=\"102.54375\" y=\"56.332348\" style=\"fill: #4575b4; fill-opacity: 0.7; stroke: #4575b4; stroke-opacity: 0.7; stroke-width: 0.3\" />\n",
       "     <use xlink:href=\"#m1a3aed406b\" x=\"32.79375\" y=\"35.344736\" style=\"fill: #4575b4; fill-opacity: 0.7; stroke: #4575b4; stroke-opacity: 0.7; stroke-width: 0.3\" />\n",
       "     <use xlink:href=\"#m1a3aed406b\" x=\"32.79375\" y=\"34.412646\" style=\"fill: #4575b4; fill-opacity: 0.7; stroke: #4575b4; stroke-opacity: 0.7; stroke-width: 0.3\" />\n",
       "     <use xlink:href=\"#m1a3aed406b\" x=\"102.54375\" y=\"51.320203\" style=\"fill: #4575b4; fill-opacity: 0.7; stroke: #4575b4; stroke-opacity: 0.7; stroke-width: 0.3\" />\n",
       "     <use xlink:href=\"#m1a3aed406b\" x=\"102.54375\" y=\"58.883303\" style=\"fill: #4575b4; fill-opacity: 0.7; stroke: #4575b4; stroke-opacity: 0.7; stroke-width: 0.3\" />\n",
       "     <use xlink:href=\"#m1a3aed406b\" x=\"32.79375\" y=\"50.599232\" style=\"fill: #4575b4; fill-opacity: 0.7; stroke: #4575b4; stroke-opacity: 0.7; stroke-width: 0.3\" />\n",
       "     <use xlink:href=\"#m1a3aed406b\" x=\"32.79375\" y=\"43.574297\" style=\"fill: #4575b4; fill-opacity: 0.7; stroke: #4575b4; stroke-opacity: 0.7; stroke-width: 0.3\" />\n",
       "     <use xlink:href=\"#m1a3aed406b\" x=\"32.79375\" y=\"47.353523\" style=\"fill: #4575b4; fill-opacity: 0.7; stroke: #4575b4; stroke-opacity: 0.7; stroke-width: 0.3\" />\n",
       "     <use xlink:href=\"#m1a3aed406b\" x=\"32.79375\" y=\"22.916062\" style=\"fill: #4575b4; fill-opacity: 0.7; stroke: #4575b4; stroke-opacity: 0.7; stroke-width: 0.3\" />\n",
       "     <use xlink:href=\"#m1a3aed406b\" x=\"32.79375\" y=\"38.827763\" style=\"fill: #4575b4; fill-opacity: 0.7; stroke: #4575b4; stroke-opacity: 0.7; stroke-width: 0.3\" />\n",
       "     <use xlink:href=\"#m1a3aed406b\" x=\"32.79375\" y=\"54.511565\" style=\"fill: #4575b4; fill-opacity: 0.7; stroke: #4575b4; stroke-opacity: 0.7; stroke-width: 0.3\" />\n",
       "     <use xlink:href=\"#m1a3aed406b\" x=\"32.79375\" y=\"45.103415\" style=\"fill: #4575b4; fill-opacity: 0.7; stroke: #4575b4; stroke-opacity: 0.7; stroke-width: 0.3\" />\n",
       "     <use xlink:href=\"#m1a3aed406b\" x=\"32.79375\" y=\"27.387729\" style=\"fill: #4575b4; fill-opacity: 0.7; stroke: #4575b4; stroke-opacity: 0.7; stroke-width: 0.3\" />\n",
       "     <use xlink:href=\"#m1a3aed406b\" x=\"32.79375\" y=\"25.207745\" style=\"fill: #4575b4; fill-opacity: 0.7; stroke: #4575b4; stroke-opacity: 0.7; stroke-width: 0.3\" />\n",
       "     <use xlink:href=\"#m1a3aed406b\" x=\"32.79375\" y=\"49.90446\" style=\"fill: #4575b4; fill-opacity: 0.7; stroke: #4575b4; stroke-opacity: 0.7; stroke-width: 0.3\" />\n",
       "     <use xlink:href=\"#m1a3aed406b\" x=\"32.79375\" y=\"26.365893\" style=\"fill: #4575b4; fill-opacity: 0.7; stroke: #4575b4; stroke-opacity: 0.7; stroke-width: 0.3\" />\n",
       "     <use xlink:href=\"#m1a3aed406b\" x=\"32.79375\" y=\"22.488959\" style=\"fill: #4575b4; fill-opacity: 0.7; stroke: #4575b4; stroke-opacity: 0.7; stroke-width: 0.3\" />\n",
       "     <use xlink:href=\"#m1a3aed406b\" x=\"32.79375\" y=\"48.586442\" style=\"fill: #4575b4; fill-opacity: 0.7; stroke: #4575b4; stroke-opacity: 0.7; stroke-width: 0.3\" />\n",
       "     <use xlink:href=\"#m1a3aed406b\" x=\"32.79375\" y=\"16.607214\" style=\"fill: #4575b4; fill-opacity: 0.7; stroke: #4575b4; stroke-opacity: 0.7; stroke-width: 0.3\" />\n",
       "     <use xlink:href=\"#m1a3aed406b\" x=\"32.79375\" y=\"31.081856\" style=\"fill: #4575b4; fill-opacity: 0.7; stroke: #4575b4; stroke-opacity: 0.7; stroke-width: 0.3\" />\n",
       "     <use xlink:href=\"#m1a3aed406b\" x=\"32.79375\" y=\"33.815618\" style=\"fill: #4575b4; fill-opacity: 0.7; stroke: #4575b4; stroke-opacity: 0.7; stroke-width: 0.3\" />\n",
       "     <use xlink:href=\"#m1a3aed406b\" x=\"32.79375\" y=\"27.178942\" style=\"fill: #4575b4; fill-opacity: 0.7; stroke: #4575b4; stroke-opacity: 0.7; stroke-width: 0.3\" />\n",
       "     <use xlink:href=\"#m1a3aed406b\" x=\"32.79375\" y=\"44.57999\" style=\"fill: #4575b4; fill-opacity: 0.7; stroke: #4575b4; stroke-opacity: 0.7; stroke-width: 0.3\" />\n",
       "     <use xlink:href=\"#m1a3aed406b\" x=\"32.79375\" y=\"37.357509\" style=\"fill: #4575b4; fill-opacity: 0.7; stroke: #4575b4; stroke-opacity: 0.7; stroke-width: 0.3\" />\n",
       "     <use xlink:href=\"#m1a3aed406b\" x=\"32.79375\" y=\"47.353523\" style=\"fill: #4575b4; fill-opacity: 0.7; stroke: #4575b4; stroke-opacity: 0.7; stroke-width: 0.3\" />\n",
       "     <use xlink:href=\"#m1a3aed406b\" x=\"32.79375\" y=\"43.090643\" style=\"fill: #4575b4; fill-opacity: 0.7; stroke: #4575b4; stroke-opacity: 0.7; stroke-width: 0.3\" />\n",
       "     <use xlink:href=\"#m1a3aed406b\" x=\"32.79375\" y=\"44.57999\" style=\"fill: #4575b4; fill-opacity: 0.7; stroke: #4575b4; stroke-opacity: 0.7; stroke-width: 0.3\" />\n",
       "     <use xlink:href=\"#m1a3aed406b\" x=\"32.79375\" y=\"46.195357\" style=\"fill: #4575b4; fill-opacity: 0.7; stroke: #4575b4; stroke-opacity: 0.7; stroke-width: 0.3\" />\n",
       "     <use xlink:href=\"#m1a3aed406b\" x=\"32.79375\" y=\"38.078498\" style=\"fill: #4575b4; fill-opacity: 0.7; stroke: #4575b4; stroke-opacity: 0.7; stroke-width: 0.3\" />\n",
       "     <use xlink:href=\"#m1a3aed406b\" x=\"32.79375\" y=\"46.195357\" style=\"fill: #4575b4; fill-opacity: 0.7; stroke: #4575b4; stroke-opacity: 0.7; stroke-width: 0.3\" />\n",
       "     <use xlink:href=\"#m1a3aed406b\" x=\"32.79375\" y=\"29.377199\" style=\"fill: #4575b4; fill-opacity: 0.7; stroke: #4575b4; stroke-opacity: 0.7; stroke-width: 0.3\" />\n",
       "     <use xlink:href=\"#m1a3aed406b\" x=\"32.79375\" y=\"50.599232\" style=\"fill: #4575b4; fill-opacity: 0.7; stroke: #4575b4; stroke-opacity: 0.7; stroke-width: 0.3\" />\n",
       "     <use xlink:href=\"#m1a3aed406b\" x=\"32.79375\" y=\"39.607617\" style=\"fill: #4575b4; fill-opacity: 0.7; stroke: #4575b4; stroke-opacity: 0.7; stroke-width: 0.3\" />\n",
       "     <use xlink:href=\"#m1a3aed406b\" x=\"32.79375\" y=\"38.078498\" style=\"fill: #4575b4; fill-opacity: 0.7; stroke: #4575b4; stroke-opacity: 0.7; stroke-width: 0.3\" />\n",
       "     <use xlink:href=\"#m1a3aed406b\" x=\"32.79375\" y=\"45.103415\" style=\"fill: #4575b4; fill-opacity: 0.7; stroke: #4575b4; stroke-opacity: 0.7; stroke-width: 0.3\" />\n",
       "     <use xlink:href=\"#m1a3aed406b\" x=\"32.79375\" y=\"34.412646\" style=\"fill: #4575b4; fill-opacity: 0.7; stroke: #4575b4; stroke-opacity: 0.7; stroke-width: 0.3\" />\n",
       "     <use xlink:href=\"#m1a3aed406b\" x=\"32.79375\" y=\"11.872614\" style=\"fill: #4575b4; fill-opacity: 0.7; stroke: #4575b4; stroke-opacity: 0.7; stroke-width: 0.3\" />\n",
       "     <use xlink:href=\"#m1a3aed406b\" x=\"32.79375\" y=\"15.449048\" style=\"fill: #4575b4; fill-opacity: 0.7; stroke: #4575b4; stroke-opacity: 0.7; stroke-width: 0.3\" />\n",
       "     <use xlink:href=\"#m1a3aed406b\" x=\"32.79375\" y=\"44.57999\" style=\"fill: #4575b4; fill-opacity: 0.7; stroke: #4575b4; stroke-opacity: 0.7; stroke-width: 0.3\" />\n",
       "     <use xlink:href=\"#m1a3aed406b\" x=\"32.79375\" y=\"35.504588\" style=\"fill: #4575b4; fill-opacity: 0.7; stroke: #4575b4; stroke-opacity: 0.7; stroke-width: 0.3\" />\n",
       "     <use xlink:href=\"#m1a3aed406b\" x=\"32.79375\" y=\"46.195357\" style=\"fill: #4575b4; fill-opacity: 0.7; stroke: #4575b4; stroke-opacity: 0.7; stroke-width: 0.3\" />\n",
       "     <use xlink:href=\"#m1a3aed406b\" x=\"32.79375\" y=\"13.32423\" style=\"fill: #4575b4; fill-opacity: 0.7; stroke: #4575b4; stroke-opacity: 0.7; stroke-width: 0.3\" />\n",
       "     <use xlink:href=\"#m1a3aed406b\" x=\"32.79375\" y=\"31.86171\" style=\"fill: #4575b4; fill-opacity: 0.7; stroke: #4575b4; stroke-opacity: 0.7; stroke-width: 0.3\" />\n",
       "     <use xlink:href=\"#m1a3aed406b\" x=\"32.79375\" y=\"41.26986\" style=\"fill: #4575b4; fill-opacity: 0.7; stroke: #4575b4; stroke-opacity: 0.7; stroke-width: 0.3\" />\n",
       "     <use xlink:href=\"#m1a3aed406b\" x=\"32.79375\" y=\"32.399874\" style=\"fill: #4575b4; fill-opacity: 0.7; stroke: #4575b4; stroke-opacity: 0.7; stroke-width: 0.3\" />\n",
       "     <use xlink:href=\"#m1a3aed406b\" x=\"32.79375\" y=\"43.574297\" style=\"fill: #4575b4; fill-opacity: 0.7; stroke: #4575b4; stroke-opacity: 0.7; stroke-width: 0.3\" />\n",
       "     <use xlink:href=\"#m1a3aed406b\" x=\"32.79375\" y=\"38.078498\" style=\"fill: #4575b4; fill-opacity: 0.7; stroke: #4575b4; stroke-opacity: 0.7; stroke-width: 0.3\" />\n",
       "     <use xlink:href=\"#m1a3aed406b\" x=\"32.79375\" y=\"60.007382\" style=\"fill: #4575b4; fill-opacity: 0.7; stroke: #4575b4; stroke-opacity: 0.7; stroke-width: 0.3\" />\n",
       "     <use xlink:href=\"#m1a3aed406b\" x=\"32.79375\" y=\"37.357509\" style=\"fill: #4575b4; fill-opacity: 0.7; stroke: #4575b4; stroke-opacity: 0.7; stroke-width: 0.3\" />\n",
       "     <use xlink:href=\"#m1a3aed406b\" x=\"32.79375\" y=\"23.765256\" style=\"fill: #4575b4; fill-opacity: 0.7; stroke: #4575b4; stroke-opacity: 0.7; stroke-width: 0.3\" />\n",
       "     <use xlink:href=\"#m1a3aed406b\" x=\"32.79375\" y=\"20.573894\" style=\"fill: #4575b4; fill-opacity: 0.7; stroke: #4575b4; stroke-opacity: 0.7; stroke-width: 0.3\" />\n",
       "     <use xlink:href=\"#m1a3aed406b\" x=\"32.79375\" y=\"40.840535\" style=\"fill: #4575b4; fill-opacity: 0.7; stroke: #4575b4; stroke-opacity: 0.7; stroke-width: 0.3\" />\n",
       "     <use xlink:href=\"#m1a3aed406b\" x=\"102.54375\" y=\"57.312244\" style=\"fill: #4575b4; fill-opacity: 0.7; stroke: #4575b4; stroke-opacity: 0.7; stroke-width: 0.3\" />\n",
       "     <use xlink:href=\"#m1a3aed406b\" x=\"32.79375\" y=\"53.662371\" style=\"fill: #4575b4; fill-opacity: 0.7; stroke: #4575b4; stroke-opacity: 0.7; stroke-width: 0.3\" />\n",
       "     <use xlink:href=\"#m1a3aed406b\" x=\"32.79375\" y=\"22.916062\" style=\"fill: #4575b4; fill-opacity: 0.7; stroke: #4575b4; stroke-opacity: 0.7; stroke-width: 0.3\" />\n",
       "     <use xlink:href=\"#m1a3aed406b\" x=\"32.79375\" y=\"31.86171\" style=\"fill: #4575b4; fill-opacity: 0.7; stroke: #4575b4; stroke-opacity: 0.7; stroke-width: 0.3\" />\n",
       "     <use xlink:href=\"#m1a3aed406b\" x=\"32.79375\" y=\"35.344736\" style=\"fill: #4575b4; fill-opacity: 0.7; stroke: #4575b4; stroke-opacity: 0.7; stroke-width: 0.3\" />\n",
       "     <use xlink:href=\"#m1a3aed406b\" x=\"32.79375\" y=\"28.467318\" style=\"fill: #4575b4; fill-opacity: 0.7; stroke: #4575b4; stroke-opacity: 0.7; stroke-width: 0.3\" />\n",
       "     <use xlink:href=\"#m1a3aed406b\" x=\"102.54375\" y=\"62.875197\" style=\"fill: #4575b4; fill-opacity: 0.7; stroke: #4575b4; stroke-opacity: 0.7; stroke-width: 0.3\" />\n",
       "     <use xlink:href=\"#m1a3aed406b\" x=\"32.79375\" y=\"35.344736\" style=\"fill: #4575b4; fill-opacity: 0.7; stroke: #4575b4; stroke-opacity: 0.7; stroke-width: 0.3\" />\n",
       "     <use xlink:href=\"#m1a3aed406b\" x=\"32.79375\" y=\"27.59883\" style=\"fill: #4575b4; fill-opacity: 0.7; stroke: #4575b4; stroke-opacity: 0.7; stroke-width: 0.3\" />\n",
       "     <use xlink:href=\"#m1a3aed406b\" x=\"32.79375\" y=\"25.586039\" style=\"fill: #4575b4; fill-opacity: 0.7; stroke: #4575b4; stroke-opacity: 0.7; stroke-width: 0.3\" />\n",
       "     <use xlink:href=\"#m1a3aed406b\" x=\"32.79375\" y=\"53.662371\" style=\"fill: #4575b4; fill-opacity: 0.7; stroke: #4575b4; stroke-opacity: 0.7; stroke-width: 0.3\" />\n",
       "     <use xlink:href=\"#m1a3aed406b\" x=\"32.79375\" y=\"42.158553\" style=\"fill: #4575b4; fill-opacity: 0.7; stroke: #4575b4; stroke-opacity: 0.7; stroke-width: 0.3\" />\n",
       "     <use xlink:href=\"#m1a3aed406b\" x=\"32.79375\" y=\"19.295101\" style=\"fill: #4575b4; fill-opacity: 0.7; stroke: #4575b4; stroke-opacity: 0.7; stroke-width: 0.3\" />\n",
       "     <use xlink:href=\"#m1a3aed406b\" x=\"32.79375\" y=\"27.59883\" style=\"fill: #4575b4; fill-opacity: 0.7; stroke: #4575b4; stroke-opacity: 0.7; stroke-width: 0.3\" />\n",
       "     <use xlink:href=\"#m1a3aed406b\" x=\"32.79375\" y=\"10.523551\" style=\"fill: #4575b4; fill-opacity: 0.7; stroke: #4575b4; stroke-opacity: 0.7; stroke-width: 0.3\" />\n",
       "     <use xlink:href=\"#m1a3aed406b\" x=\"32.79375\" y=\"46.195357\" style=\"fill: #4575b4; fill-opacity: 0.7; stroke: #4575b4; stroke-opacity: 0.7; stroke-width: 0.3\" />\n",
       "     <use xlink:href=\"#m1a3aed406b\" x=\"32.79375\" y=\"28.916848\" style=\"fill: #4575b4; fill-opacity: 0.7; stroke: #4575b4; stroke-opacity: 0.7; stroke-width: 0.3\" />\n",
       "     <use xlink:href=\"#m1a3aed406b\" x=\"102.54375\" y=\"58.345139\" style=\"fill: #4575b4; fill-opacity: 0.7; stroke: #4575b4; stroke-opacity: 0.7; stroke-width: 0.3\" />\n",
       "     <use xlink:href=\"#m1a3aed406b\" x=\"32.79375\" y=\"21.476615\" style=\"fill: #4575b4; fill-opacity: 0.7; stroke: #4575b4; stroke-opacity: 0.7; stroke-width: 0.3\" />\n",
       "     <use xlink:href=\"#m1a3aed406b\" x=\"32.79375\" y=\"16.607214\" style=\"fill: #4575b4; fill-opacity: 0.7; stroke: #4575b4; stroke-opacity: 0.7; stroke-width: 0.3\" />\n",
       "     <use xlink:href=\"#m1a3aed406b\" x=\"32.79375\" y=\"21.476615\" style=\"fill: #4575b4; fill-opacity: 0.7; stroke: #4575b4; stroke-opacity: 0.7; stroke-width: 0.3\" />\n",
       "     <use xlink:href=\"#m1a3aed406b\" x=\"32.79375\" y=\"47.353523\" style=\"fill: #4575b4; fill-opacity: 0.7; stroke: #4575b4; stroke-opacity: 0.7; stroke-width: 0.3\" />\n",
       "     <use xlink:href=\"#m1a3aed406b\" x=\"32.79375\" y=\"47.353523\" style=\"fill: #4575b4; fill-opacity: 0.7; stroke: #4575b4; stroke-opacity: 0.7; stroke-width: 0.3\" />\n",
       "     <use xlink:href=\"#m1a3aed406b\" x=\"32.79375\" y=\"15.449048\" style=\"fill: #4575b4; fill-opacity: 0.7; stroke: #4575b4; stroke-opacity: 0.7; stroke-width: 0.3\" />\n",
       "     <use xlink:href=\"#m1a3aed406b\" x=\"32.79375\" y=\"35.992377\" style=\"fill: #4575b4; fill-opacity: 0.7; stroke: #4575b4; stroke-opacity: 0.7; stroke-width: 0.3\" />\n",
       "     <use xlink:href=\"#m1a3aed406b\" x=\"32.79375\" y=\"51.320203\" style=\"fill: #4575b4; fill-opacity: 0.7; stroke: #4575b4; stroke-opacity: 0.7; stroke-width: 0.3\" />\n",
       "     <use xlink:href=\"#m1a3aed406b\" x=\"32.79375\" y=\"55.400277\" style=\"fill: #4575b4; fill-opacity: 0.7; stroke: #4575b4; stroke-opacity: 0.7; stroke-width: 0.3\" />\n",
       "     <use xlink:href=\"#m1a3aed406b\" x=\"102.54375\" y=\"58.345139\" style=\"fill: #4575b4; fill-opacity: 0.7; stroke: #4575b4; stroke-opacity: 0.7; stroke-width: 0.3\" />\n",
       "     <use xlink:href=\"#m1a3aed406b\" x=\"102.54375\" y=\"60.595229\" style=\"fill: #4575b4; fill-opacity: 0.7; stroke: #4575b4; stroke-opacity: 0.7; stroke-width: 0.3\" />\n",
       "     <use xlink:href=\"#m1a3aed406b\" x=\"32.79375\" y=\"16.607214\" style=\"fill: #4575b4; fill-opacity: 0.7; stroke: #4575b4; stroke-opacity: 0.7; stroke-width: 0.3\" />\n",
       "    </g>\n",
       "   </g>\n",
       "   <g id=\"patch_3\">\n",
       "    <path d=\"M 67.66875 62.817354  L 65.15775 68.915754  L 70.17975 68.915754  z \" style=\"fill: #444443\" />\n",
       "   </g>\n",
       "   <g id=\"matplotlib.axis_1\">\n",
       "    <g id=\"xtick_1\">\n",
       "     <g id=\"line2d_1\">\n",
       "      <defs>\n",
       "       <path id=\"m5a49cc3812\" d=\"M 0 0  L 0 3.5  \" style=\"stroke: #000000; stroke-width: 0.3\" />\n",
       "      </defs>\n",
       "      <g>\n",
       "       <use xlink:href=\"#m5a49cc3812\" x=\"32.79375\" y=\"62.817354\" style=\"stroke: #000000; stroke-width: 0.3\" />\n",
       "      </g>\n",
       "     </g>\n",
       "     <g id=\"text_1\">\n",
       "      \n",
       "      <g style=\"fill: #444443\" transform=\"translate(26.4325 80.396104) scale(0.08 -0.08)\">\n",
       "       <defs>\n",
       "        <path id=\"DejaVuSans-30\" d=\"M 2034 4250  Q 1547 4250 1301 3770  Q 1056 3291 1056 2328  Q 1056 1369 1301 889  Q 1547 409 2034 409  Q 2525 409 2770 889  Q 3016 1369 3016 2328  Q 3016 3291 2770 3770  Q 2525 4250 2034 4250  z M 2034 4750  Q 2819 4750 3233 4129  Q 3647 3509 3647 2328  Q 3647 1150 3233 529  Q 2819 -91 2034 -91  Q 1250 -91 836 529  Q 422 1150 422 2328  Q 422 3509 836 4129  Q 1250 4750 2034 4750  z \" transform=\"scale(0.015625)\" />\n",
       "        <path id=\"DejaVuSans-2e\" d=\"M 684 794  L 1344 794  L 1344 0  L 684 0  L 684 794  z \" transform=\"scale(0.015625)\" />\n",
       "       </defs>\n",
       "       <use xlink:href=\"#DejaVuSans-30\" />\n",
       "       <use xlink:href=\"#DejaVuSans-2e\" x=\"63.623047\" />\n",
       "       <use xlink:href=\"#DejaVuSans-30\" x=\"95.410156\" />\n",
       "      </g>\n",
       "     </g>\n",
       "    </g>\n",
       "    <g id=\"xtick_2\">\n",
       "     <g id=\"line2d_2\">\n",
       "      <g>\n",
       "       <use xlink:href=\"#m5a49cc3812\" x=\"67.66875\" y=\"62.817354\" style=\"stroke: #000000; stroke-width: 0.3\" />\n",
       "      </g>\n",
       "     </g>\n",
       "     <g id=\"text_2\">\n",
       "      \n",
       "      <g style=\"fill: #444443\" transform=\"translate(61.3075 80.396104) scale(0.08 -0.08)\">\n",
       "       <defs>\n",
       "        <path id=\"DejaVuSans-35\" d=\"M 691 4666  L 3169 4666  L 3169 4134  L 1269 4134  L 1269 2991  Q 1406 3038 1543 3061  Q 1681 3084 1819 3084  Q 2600 3084 3056 2656  Q 3513 2228 3513 1497  Q 3513 744 3044 326  Q 2575 -91 1722 -91  Q 1428 -91 1123 -41  Q 819 9 494 109  L 494 744  Q 775 591 1075 516  Q 1375 441 1709 441  Q 2250 441 2565 725  Q 2881 1009 2881 1497  Q 2881 1984 2565 2268  Q 2250 2553 1709 2553  Q 1456 2553 1204 2497  Q 953 2441 691 2322  L 691 4666  z \" transform=\"scale(0.015625)\" />\n",
       "       </defs>\n",
       "       <use xlink:href=\"#DejaVuSans-30\" />\n",
       "       <use xlink:href=\"#DejaVuSans-2e\" x=\"63.623047\" />\n",
       "       <use xlink:href=\"#DejaVuSans-35\" x=\"95.410156\" />\n",
       "      </g>\n",
       "     </g>\n",
       "    </g>\n",
       "    <g id=\"xtick_3\">\n",
       "     <g id=\"line2d_3\">\n",
       "      <g>\n",
       "       <use xlink:href=\"#m5a49cc3812\" x=\"172.29375\" y=\"62.817354\" style=\"stroke: #000000; stroke-width: 0.3\" />\n",
       "      </g>\n",
       "     </g>\n",
       "     <g id=\"text_3\">\n",
       "      \n",
       "      <g style=\"fill: #444443\" transform=\"translate(165.9325 80.396104) scale(0.08 -0.08)\">\n",
       "       <defs>\n",
       "        <path id=\"DejaVuSans-32\" d=\"M 1228 531  L 3431 531  L 3431 0  L 469 0  L 469 531  Q 828 903 1448 1529  Q 2069 2156 2228 2338  Q 2531 2678 2651 2914  Q 2772 3150 2772 3378  Q 2772 3750 2511 3984  Q 2250 4219 1831 4219  Q 1534 4219 1204 4116  Q 875 4013 500 3803  L 500 4441  Q 881 4594 1212 4672  Q 1544 4750 1819 4750  Q 2544 4750 2975 4387  Q 3406 4025 3406 3419  Q 3406 3131 3298 2873  Q 3191 2616 2906 2266  Q 2828 2175 2409 1742  Q 1991 1309 1228 531  z \" transform=\"scale(0.015625)\" />\n",
       "       </defs>\n",
       "       <use xlink:href=\"#DejaVuSans-32\" />\n",
       "       <use xlink:href=\"#DejaVuSans-2e\" x=\"63.623047\" />\n",
       "       <use xlink:href=\"#DejaVuSans-30\" x=\"95.410156\" />\n",
       "      </g>\n",
       "     </g>\n",
       "    </g>\n",
       "    <g id=\"text_4\">\n",
       "     \n",
       "     <g style=\"fill: #444443\" transform=\"translate(53.871563 95.177979) scale(0.12 -0.12)\">\n",
       "      <defs>\n",
       "       <path id=\"DejaVuSans-43\" d=\"M 4122 4306  L 4122 3641  Q 3803 3938 3442 4084  Q 3081 4231 2675 4231  Q 1875 4231 1450 3742  Q 1025 3253 1025 2328  Q 1025 1406 1450 917  Q 1875 428 2675 428  Q 3081 428 3442 575  Q 3803 722 4122 1019  L 4122 359  Q 3791 134 3420 21  Q 3050 -91 2638 -91  Q 1578 -91 968 557  Q 359 1206 359 2328  Q 359 3453 968 4101  Q 1578 4750 2638 4750  Q 3056 4750 3426 4639  Q 3797 4528 4122 4306  z \" transform=\"scale(0.015625)\" />\n",
       "       <path id=\"DejaVuSans-6f\" d=\"M 1959 3097  Q 1497 3097 1228 2736  Q 959 2375 959 1747  Q 959 1119 1226 758  Q 1494 397 1959 397  Q 2419 397 2687 759  Q 2956 1122 2956 1747  Q 2956 2369 2687 2733  Q 2419 3097 1959 3097  z M 1959 3584  Q 2709 3584 3137 3096  Q 3566 2609 3566 1747  Q 3566 888 3137 398  Q 2709 -91 1959 -91  Q 1206 -91 779 398  Q 353 888 353 1747  Q 353 2609 779 3096  Q 1206 3584 1959 3584  z \" transform=\"scale(0.015625)\" />\n",
       "       <path id=\"DejaVuSans-75\" d=\"M 544 1381  L 544 3500  L 1119 3500  L 1119 1403  Q 1119 906 1312 657  Q 1506 409 1894 409  Q 2359 409 2629 706  Q 2900 1003 2900 1516  L 2900 3500  L 3475 3500  L 3475 0  L 2900 0  L 2900 538  Q 2691 219 2414 64  Q 2138 -91 1772 -91  Q 1169 -91 856 284  Q 544 659 544 1381  z M 1991 3584  L 1991 3584  z \" transform=\"scale(0.015625)\" />\n",
       "       <path id=\"DejaVuSans-70\" d=\"M 1159 525  L 1159 -1331  L 581 -1331  L 581 3500  L 1159 3500  L 1159 2969  Q 1341 3281 1617 3432  Q 1894 3584 2278 3584  Q 2916 3584 3314 3078  Q 3713 2572 3713 1747  Q 3713 922 3314 415  Q 2916 -91 2278 -91  Q 1894 -91 1617 61  Q 1341 213 1159 525  z M 3116 1747  Q 3116 2381 2855 2742  Q 2594 3103 2138 3103  Q 1681 3103 1420 2742  Q 1159 2381 1159 1747  Q 1159 1113 1420 752  Q 1681 391 2138 391  Q 2594 391 2855 752  Q 3116 1113 3116 1747  z \" transform=\"scale(0.015625)\" />\n",
       "       <path id=\"DejaVuSans-6c\" d=\"M 603 4863  L 1178 4863  L 1178 0  L 603 0  L 603 4863  z \" transform=\"scale(0.015625)\" />\n",
       "       <path id=\"DejaVuSans-65\" d=\"M 3597 1894  L 3597 1613  L 953 1613  Q 991 1019 1311 708  Q 1631 397 2203 397  Q 2534 397 2845 478  Q 3156 559 3463 722  L 3463 178  Q 3153 47 2828 -22  Q 2503 -91 2169 -91  Q 1331 -91 842 396  Q 353 884 353 1716  Q 353 2575 817 3079  Q 1281 3584 2069 3584  Q 2775 3584 3186 3129  Q 3597 2675 3597 1894  z M 3022 2063  Q 3016 2534 2758 2815  Q 2500 3097 2075 3097  Q 1594 3097 1305 2825  Q 1016 2553 972 2059  L 3022 2063  z \" transform=\"scale(0.015625)\" />\n",
       "       <path id=\"DejaVuSans-72\" d=\"M 2631 2963  Q 2534 3019 2420 3045  Q 2306 3072 2169 3072  Q 1681 3072 1420 2755  Q 1159 2438 1159 1844  L 1159 0  L 581 0  L 581 3500  L 1159 3500  L 1159 2956  Q 1341 3275 1631 3429  Q 1922 3584 2338 3584  Q 2397 3584 2469 3576  Q 2541 3569 2628 3553  L 2631 2963  z \" transform=\"scale(0.015625)\" />\n",
       "       <path id=\"DejaVuSans-5f\" d=\"M 3263 -1063  L 3263 -1509  L -63 -1509  L -63 -1063  L 3263 -1063  z \" transform=\"scale(0.015625)\" />\n",
       "       <path id=\"DejaVuSans-53\" d=\"M 3425 4513  L 3425 3897  Q 3066 4069 2747 4153  Q 2428 4238 2131 4238  Q 1616 4238 1336 4038  Q 1056 3838 1056 3469  Q 1056 3159 1242 3001  Q 1428 2844 1947 2747  L 2328 2669  Q 3034 2534 3370 2195  Q 3706 1856 3706 1288  Q 3706 609 3251 259  Q 2797 -91 1919 -91  Q 1588 -91 1214 -16  Q 841 59 441 206  L 441 856  Q 825 641 1194 531  Q 1563 422 1919 422  Q 2459 422 2753 634  Q 3047 847 3047 1241  Q 3047 1584 2836 1778  Q 2625 1972 2144 2069  L 1759 2144  Q 1053 2284 737 2584  Q 422 2884 422 3419  Q 422 4038 858 4394  Q 1294 4750 2059 4750  Q 2388 4750 2728 4690  Q 3069 4631 3425 4513  z \" transform=\"scale(0.015625)\" />\n",
       "       <path id=\"DejaVuSans-79\" d=\"M 2059 -325  Q 1816 -950 1584 -1140  Q 1353 -1331 966 -1331  L 506 -1331  L 506 -850  L 844 -850  Q 1081 -850 1212 -737  Q 1344 -625 1503 -206  L 1606 56  L 191 3500  L 800 3500  L 1894 763  L 2988 3500  L 3597 3500  L 2059 -325  z \" transform=\"scale(0.015625)\" />\n",
       "       <path id=\"DejaVuSans-73\" d=\"M 2834 3397  L 2834 2853  Q 2591 2978 2328 3040  Q 2066 3103 1784 3103  Q 1356 3103 1142 2972  Q 928 2841 928 2578  Q 928 2378 1081 2264  Q 1234 2150 1697 2047  L 1894 2003  Q 2506 1872 2764 1633  Q 3022 1394 3022 966  Q 3022 478 2636 193  Q 2250 -91 1575 -91  Q 1294 -91 989 -36  Q 684 19 347 128  L 347 722  Q 666 556 975 473  Q 1284 391 1588 391  Q 1994 391 2212 530  Q 2431 669 2431 922  Q 2431 1156 2273 1281  Q 2116 1406 1581 1522  L 1381 1569  Q 847 1681 609 1914  Q 372 2147 372 2553  Q 372 3047 722 3315  Q 1072 3584 1716 3584  Q 2034 3584 2315 3537  Q 2597 3491 2834 3397  z \" transform=\"scale(0.015625)\" />\n",
       "       <path id=\"DejaVuSans-74\" d=\"M 1172 4494  L 1172 3500  L 2356 3500  L 2356 3053  L 1172 3053  L 1172 1153  Q 1172 725 1289 603  Q 1406 481 1766 481  L 2356 481  L 2356 0  L 1766 0  Q 1100 0 847 248  Q 594 497 594 1153  L 594 3053  L 172 3053  L 172 3500  L 594 3500  L 594 4494  L 1172 4494  z \" transform=\"scale(0.015625)\" />\n",
       "       <path id=\"DejaVuSans-6d\" d=\"M 3328 2828  Q 3544 3216 3844 3400  Q 4144 3584 4550 3584  Q 5097 3584 5394 3201  Q 5691 2819 5691 2113  L 5691 0  L 5113 0  L 5113 2094  Q 5113 2597 4934 2840  Q 4756 3084 4391 3084  Q 3944 3084 3684 2787  Q 3425 2491 3425 1978  L 3425 0  L 2847 0  L 2847 2094  Q 2847 2600 2669 2842  Q 2491 3084 2119 3084  Q 1678 3084 1418 2786  Q 1159 2488 1159 1978  L 1159 0  L 581 0  L 581 3500  L 1159 3500  L 1159 2956  Q 1356 3278 1631 3431  Q 1906 3584 2284 3584  Q 2666 3584 2933 3390  Q 3200 3197 3328 2828  z \" transform=\"scale(0.015625)\" />\n",
       "      </defs>\n",
       "      <use xlink:href=\"#DejaVuSans-43\" />\n",
       "      <use xlink:href=\"#DejaVuSans-6f\" x=\"69.824219\" />\n",
       "      <use xlink:href=\"#DejaVuSans-75\" x=\"131.005859\" />\n",
       "      <use xlink:href=\"#DejaVuSans-70\" x=\"194.384766\" />\n",
       "      <use xlink:href=\"#DejaVuSans-6c\" x=\"257.861328\" />\n",
       "      <use xlink:href=\"#DejaVuSans-65\" x=\"285.644531\" />\n",
       "      <use xlink:href=\"#DejaVuSans-72\" x=\"347.167969\" />\n",
       "      <use xlink:href=\"#DejaVuSans-5f\" x=\"388.28125\" />\n",
       "      <use xlink:href=\"#DejaVuSans-53\" x=\"438.28125\" />\n",
       "      <use xlink:href=\"#DejaVuSans-79\" x=\"501.757812\" />\n",
       "      <use xlink:href=\"#DejaVuSans-73\" x=\"560.9375\" />\n",
       "      <use xlink:href=\"#DejaVuSans-74\" x=\"613.037109\" />\n",
       "      <use xlink:href=\"#DejaVuSans-65\" x=\"652.246094\" />\n",
       "      <use xlink:href=\"#DejaVuSans-6d\" x=\"713.769531\" />\n",
       "     </g>\n",
       "    </g>\n",
       "   </g>\n",
       "   <g id=\"matplotlib.axis_2\">\n",
       "    <g id=\"ytick_1\">\n",
       "     <g id=\"line2d_4\">\n",
       "      <defs>\n",
       "       <path id=\"m1724b5432c\" d=\"M 0 0  L -3.5 0  \" style=\"stroke: #000000; stroke-width: 0.3\" />\n",
       "      </defs>\n",
       "      <g>\n",
       "       <use xlink:href=\"#m1724b5432c\" x=\"32.79375\" y=\"41.246886\" style=\"stroke: #000000; stroke-width: 0.3\" />\n",
       "      </g>\n",
       "     </g>\n",
       "     <g id=\"text_5\">\n",
       "      \n",
       "      <g style=\"fill: #444443\" transform=\"translate(15.61375 44.286261) scale(0.08 -0.08)\">\n",
       "       <defs>\n",
       "        <path id=\"DejaVuSans-31\" d=\"M 794 531  L 1825 531  L 1825 4091  L 703 3866  L 703 4441  L 1819 4666  L 2450 4666  L 2450 531  L 3481 531  L 3481 0  L 794 0  L 794 531  z \" transform=\"scale(0.015625)\" />\n",
       "       </defs>\n",
       "       <use xlink:href=\"#DejaVuSans-31\" />\n",
       "       <use xlink:href=\"#DejaVuSans-30\" x=\"63.623047\" />\n",
       "      </g>\n",
       "     </g>\n",
       "    </g>\n",
       "    <g id=\"ytick_2\">\n",
       "     <g id=\"line2d_5\">\n",
       "      <g>\n",
       "       <use xlink:href=\"#m1724b5432c\" x=\"32.79375\" y=\"3.039375\" style=\"stroke: #000000; stroke-width: 0.3\" />\n",
       "      </g>\n",
       "     </g>\n",
       "     <g id=\"text_6\">\n",
       "      \n",
       "      <g style=\"fill: #444443\" transform=\"translate(15.61375 6.07875) scale(0.08 -0.08)\">\n",
       "       <use xlink:href=\"#DejaVuSans-31\" />\n",
       "       <use xlink:href=\"#DejaVuSans-32\" x=\"63.623047\" />\n",
       "      </g>\n",
       "     </g>\n",
       "    </g>\n",
       "    <g id=\"text_7\">\n",
       "     \n",
       "     <g style=\"fill: #444443\" transform=\"translate(9.118125 59.807229) rotate(-90) scale(0.12 -0.12)\">\n",
       "      <defs>\n",
       "       <path id=\"DejaVuSans-61\" d=\"M 2194 1759  Q 1497 1759 1228 1600  Q 959 1441 959 1056  Q 959 750 1161 570  Q 1363 391 1709 391  Q 2188 391 2477 730  Q 2766 1069 2766 1631  L 2766 1759  L 2194 1759  z M 3341 1997  L 3341 0  L 2766 0  L 2766 531  Q 2569 213 2275 61  Q 1981 -91 1556 -91  Q 1019 -91 701 211  Q 384 513 384 1019  Q 384 1609 779 1909  Q 1175 2209 1959 2209  L 2766 2209  L 2766 2266  Q 2766 2663 2505 2880  Q 2244 3097 1772 3097  Q 1472 3097 1187 3025  Q 903 2953 641 2809  L 641 3341  Q 956 3463 1253 3523  Q 1550 3584 1831 3584  Q 2591 3584 2966 3190  Q 3341 2797 3341 1997  z \" transform=\"scale(0.015625)\" />\n",
       "       <path id=\"DejaVuSans-50\" d=\"M 1259 4147  L 1259 2394  L 2053 2394  Q 2494 2394 2734 2622  Q 2975 2850 2975 3272  Q 2975 3691 2734 3919  Q 2494 4147 2053 4147  L 1259 4147  z M 628 4666  L 2053 4666  Q 2838 4666 3239 4311  Q 3641 3956 3641 3272  Q 3641 2581 3239 2228  Q 2838 1875 2053 1875  L 1259 1875  L 1259 0  L 628 0  L 628 4666  z \" transform=\"scale(0.015625)\" />\n",
       "       <path id=\"DejaVuSans-69\" d=\"M 603 3500  L 1178 3500  L 1178 0  L 603 0  L 603 3500  z M 603 4863  L 1178 4863  L 1178 4134  L 603 4134  L 603 4863  z \" transform=\"scale(0.015625)\" />\n",
       "       <path id=\"DejaVuSans-63\" d=\"M 3122 3366  L 3122 2828  Q 2878 2963 2633 3030  Q 2388 3097 2138 3097  Q 1578 3097 1268 2742  Q 959 2388 959 1747  Q 959 1106 1268 751  Q 1578 397 2138 397  Q 2388 397 2633 464  Q 2878 531 3122 666  L 3122 134  Q 2881 22 2623 -34  Q 2366 -91 2075 -91  Q 1284 -91 818 406  Q 353 903 353 1747  Q 353 2603 823 3093  Q 1294 3584 2113 3584  Q 2378 3584 2631 3529  Q 2884 3475 3122 3366  z \" transform=\"scale(0.015625)\" />\n",
       "      </defs>\n",
       "      <use xlink:href=\"#DejaVuSans-53\" />\n",
       "      <use xlink:href=\"#DejaVuSans-61\" x=\"63.476562\" />\n",
       "      <use xlink:href=\"#DejaVuSans-6c\" x=\"124.755859\" />\n",
       "      <use xlink:href=\"#DejaVuSans-65\" x=\"152.539062\" />\n",
       "      <use xlink:href=\"#DejaVuSans-50\" x=\"214.0625\" />\n",
       "      <use xlink:href=\"#DejaVuSans-72\" x=\"272.615234\" />\n",
       "      <use xlink:href=\"#DejaVuSans-69\" x=\"313.728516\" />\n",
       "      <use xlink:href=\"#DejaVuSans-63\" x=\"341.511719\" />\n",
       "      <use xlink:href=\"#DejaVuSans-65\" x=\"396.492188\" />\n",
       "     </g>\n",
       "    </g>\n",
       "   </g>\n",
       "   <g id=\"line2d_6\">\n",
       "    <path d=\"M 32.79375 37.043745  L 67.66875 37.043745  \" clip-path=\"url(#p398b56b94d)\" style=\"fill: none; stroke-dasharray: 3.7,1.6; stroke-dashoffset: 0; stroke: #444443\" />\n",
       "   </g>\n",
       "   <g id=\"line2d_7\">\n",
       "    <path d=\"M 67.66875 62.817354  L 67.66875 1.833354  \" clip-path=\"url(#p398b56b94d)\" style=\"fill: none; stroke-dasharray: 3.7,1.6; stroke-dashoffset: 0; stroke: #444443\" />\n",
       "   </g>\n",
       "   <g id=\"line2d_8\">\n",
       "    <path d=\"M 67.66875 57.184713  L 172.29375 57.184713  \" clip-path=\"url(#p398b56b94d)\" style=\"fill: none; stroke-dasharray: 3.7,1.6; stroke-dashoffset: 0; stroke: #444443\" />\n",
       "   </g>\n",
       "   <g id=\"patch_4\">\n",
       "    <path d=\"M 32.79375 62.817354  L 32.79375 1.833354  \" style=\"fill: none; stroke: #444443; stroke-width: 0.3; stroke-linejoin: miter; stroke-linecap: square\" />\n",
       "   </g>\n",
       "   <g id=\"patch_5\">\n",
       "    <path d=\"M 32.79375 62.817354  L 172.29375 62.817354  \" style=\"fill: none; stroke: #444443; stroke-width: 0.3; stroke-linejoin: miter; stroke-linecap: square\" />\n",
       "   </g>\n",
       "  </g>\n",
       " </g>\n",
       " <defs>\n",
       "  <clipPath id=\"p398b56b94d\">\n",
       "   <rect x=\"32.79375\" y=\"1.833354\" width=\"139.5\" height=\"60.984\" />\n",
       "  </clipPath>\n",
       " </defs>\n",
       "</svg></g>\n",
       "\n",
       "<g id=\"edge7\" class=\"edge\">\n",
       "<title>node0-&gt;node1</title>\n",
       "<path fill=\"none\" stroke=\"#444443\" stroke-width=\"0.3\" d=\"M135.01,-289.1C130.18,-280.25 125.04,-270.82 120.13,-261.82\" />\n",
       "<polygon fill=\"#444443\" stroke=\"#444443\" stroke-width=\"0.3\" points=\"121.41,-261.24 118.26,-258.4 118.95,-262.58 121.41,-261.24\" />\n",
       "<text text-anchor=\"start\" x=\"130.5\" y=\"-269.8\" font-family=\"Arial\" font-size=\"14.00\" fill=\"#444443\"> &#160;&#8804;</text>\n",
       "</g>\n",
       "\n",
       "<g id=\"edge8\" class=\"edge\">\n",
       "<title>node0-&gt;leaf2</title>\n",
       "<path fill=\"none\" stroke=\"#444443\" stroke-width=\"0.3\" d=\"M177.99,-289.1C184.58,-277.02 191.76,-263.86 198.12,-252.2\" />\n",
       "<polygon fill=\"#444443\" stroke=\"#444443\" stroke-width=\"0.3\" points=\"199.34,-252.89 200.02,-248.71 196.88,-251.55 199.34,-252.89\" />\n",
       "<text text-anchor=\"start\" x=\"189.5\" y=\"-269.8\" font-family=\"Arial\" font-size=\"14.00\" fill=\"#444443\"> &#160;&gt;</text>\n",
       "</g>\n",
       "\n",
       "\n",
       "</g>\n",
       "</svg>"
      ],
      "text/plain": [
       "<dtreeviz.utils.DTreeVizRender>"
      ]
     },
     "execution_count": null,
     "metadata": {},
     "output_type": "execute_result"
    }
   ],
   "source": [
    "m = DecisionTreeRegressor(max_leaf_nodes=4).fit(xs.values, y)\n",
    "\n",
    "m1 = dtreeviz.model(m, X_train=xs.iloc[samp_idx], y_train=y.iloc[samp_idx], feature_names=xs.columns, target_name=dep_var, class_names=[\"perish\", \"survive\"])\n",
    "\n",
    "m1.view()"
   ]
  },
  {
   "cell_type": "markdown",
   "metadata": {},
   "source": [
    "Let's now have the decision tree algorithm build a bigger tree. Here, we are not passing in any stopping criteria such as `max_leaf_nodes`:"
   ]
  },
  {
   "cell_type": "code",
   "execution_count": null,
   "metadata": {},
   "outputs": [],
   "source": [
    "m = DecisionTreeRegressor()\n",
    "m.fit(xs.values, y);"
   ]
  },
  {
   "cell_type": "markdown",
   "metadata": {},
   "source": [
    "We'll create a little function to check the root mean squared error of our model (`m_rmse`), since that's how the competition was judged:"
   ]
  },
  {
   "cell_type": "code",
   "execution_count": null,
   "metadata": {},
   "outputs": [],
   "source": [
    "def r_mse(pred,y): return round(math.sqrt(((pred-y)**2).mean()), 6)\n",
    "def m_rmse(m, xs, y): return r_mse(m.predict(xs), y)"
   ]
  },
  {
   "cell_type": "code",
   "execution_count": null,
   "metadata": {},
   "outputs": [
    {
     "data": {
      "text/plain": [
       "0.0"
      ]
     },
     "execution_count": null,
     "metadata": {},
     "output_type": "execute_result"
    }
   ],
   "source": [
    "m_rmse(m, xs.values, y)"
   ]
  },
  {
   "cell_type": "markdown",
   "metadata": {},
   "source": [
    "So, our model is perfect, right? Not so fast... remember we really need to check the validation set, to ensure we're not overfitting:"
   ]
  },
  {
   "cell_type": "code",
   "execution_count": null,
   "metadata": {},
   "outputs": [
    {
     "data": {
      "text/plain": [
       "0.332239"
      ]
     },
     "execution_count": null,
     "metadata": {},
     "output_type": "execute_result"
    }
   ],
   "source": [
    "m_rmse(m, valid_xs.values, valid_y)"
   ]
  },
  {
   "cell_type": "markdown",
   "metadata": {},
   "source": [
    "Oops—it looks like we might be overfitting pretty badly. Here's why:"
   ]
  },
  {
   "cell_type": "code",
   "execution_count": null,
   "metadata": {},
   "outputs": [
    {
     "data": {
      "text/plain": [
       "(324338, 404710)"
      ]
     },
     "execution_count": null,
     "metadata": {},
     "output_type": "execute_result"
    }
   ],
   "source": [
    "m.get_n_leaves(), len(xs)"
   ]
  },
  {
   "cell_type": "markdown",
   "metadata": {},
   "source": [
    "We've got nearly as many leaf nodes as data points! That seems a little over-enthusiastic. Indeed, sklearn's default settings allow it to continue splitting nodes until there is only one item in each leaf node. Let's change the stopping rule to tell sklearn to ensure every leaf node contains at least 25 auction records:"
   ]
  },
  {
   "cell_type": "code",
   "execution_count": null,
   "metadata": {},
   "outputs": [
    {
     "data": {
      "text/plain": [
       "(0.243049, 0.308857)"
      ]
     },
     "execution_count": null,
     "metadata": {},
     "output_type": "execute_result"
    }
   ],
   "source": [
    "m = DecisionTreeRegressor(min_samples_leaf=25)\n",
    "m.fit(to.train.xs.values, to.train.y)\n",
    "m_rmse(m, xs.values, y), m_rmse(m, valid_xs.values, valid_y)"
   ]
  },
  {
   "cell_type": "markdown",
   "metadata": {},
   "source": [
    "That looks much better. Let's check the number of leaves again:"
   ]
  },
  {
   "cell_type": "code",
   "execution_count": null,
   "metadata": {},
   "outputs": [
    {
     "data": {
      "text/plain": [
       "12432"
      ]
     },
     "execution_count": null,
     "metadata": {},
     "output_type": "execute_result"
    }
   ],
   "source": [
    "m.get_n_leaves()"
   ]
  },
  {
   "cell_type": "markdown",
   "metadata": {},
   "source": [
    "Much more reasonable!"
   ]
  },
  {
   "cell_type": "markdown",
   "metadata": {},
   "source": [
    "> A: Here's my intuition for an overfitting decision tree with more leaf nodes than data items. Consider the game Twenty Questions. In that game, the chooser secretly imagines an object (like, \"our television set\"), and the guesser gets to pose 20 yes or no questions to try to guess what the object is (like \"Is it bigger than a breadbox?\"). The guesser is not trying to predict a numerical value, but just to identify a particular object out of the set of all imaginable objects. When your decision tree has more leaves than there are possible objects in your domain, then it is essentially a well-trained guesser. It has learned the sequence of questions needed to identify a particular data item in the training set, and it is \"predicting\" only by describing that item's value. This is a way of memorizing the training set—i.e., of overfitting."
   ]
  },
  {
   "cell_type": "markdown",
   "metadata": {},
   "source": [
    "Building a decision tree is a good way to create a model of our data. It is very flexible, since it can clearly handle nonlinear relationships and interactions between variables. But we can see there is a fundamental compromise between how well it generalizes (which we can achieve by creating small trees) and how accurate it is on the training set (which we can achieve by using large trees).\n",
    "\n",
    "So how do we get the best of both worlds? We'll show you right after we handle an important missing detail: how to handle categorical variables."
   ]
  },
  {
   "cell_type": "markdown",
   "metadata": {},
   "source": [
    "### Categorical Variables"
   ]
  },
  {
   "cell_type": "markdown",
   "metadata": {},
   "source": [
    "In the previous chapter, when working with deep learning networks, we dealt with categorical variables by one-hot encoding them and feeding them to an embedding layer. The embedding layer helped the model to discover the meaning of the different levels of these variables (the levels of a categorical variable do not have an intrinsic meaning, unless we manually specify an ordering using Pandas). In a decision tree, we don't have embeddings layers—so how can these untreated categorical variables do anything useful in a decision tree? For instance, how could something like a product code be used?\n",
    "\n",
    "The short answer is: it just works! Think about a situation where there is one product code that is far more expensive at auction than any other one. In that case, any binary split will result in that one product code being in some group, and that group will be more expensive than the other group. Therefore, our simple decision tree building algorithm will choose that split. Later during training the algorithm will be able to further split the subgroup that contains the expensive product code, and over time, the tree will home in on that one expensive product.\n",
    "\n",
    "It is also possible to use one-hot encoding to replace a single categorical variable with multiple one-hot-encoded columns, where each column represents a possible level of the variable. Pandas has a `get_dummies` method which does just that.\n",
    "\n",
    "However, there is not really any evidence that such an approach improves the end result. So, we generally avoid it where possible, because it does end up making your dataset harder to work with. In 2019 this issue was explored in the paper [\"Splitting on Categorical Predictors in Random Forests\"](https://peerj.com/articles/6339/) by Marvin Wright and Inke König, which said:"
   ]
  },
  {
   "cell_type": "markdown",
   "metadata": {},
   "source": [
    "> : The standard approach for nominal predictors is to consider all $2^{k-1} − 1$ 2-partitions of the *k* predictor categories. However, this exponential relationship produces a large number of potential splits to be evaluated, increasing computational complexity and restricting the possible number of categories in most implementations. For binary classification and regression, it was shown that ordering the predictor categories in each split leads to exactly the same splits as the standard approach. This reduces computational complexity because only *k* − 1 splits have to be considered for a nominal predictor with *k* categories."
   ]
  },
  {
   "cell_type": "markdown",
   "metadata": {},
   "source": [
    "Now that you understand how decisions tree work, it's time for the best-of-both-worlds solution: random forests."
   ]
  },
  {
   "cell_type": "markdown",
   "metadata": {},
   "source": [
    "## Random Forests"
   ]
  },
  {
   "cell_type": "markdown",
   "metadata": {},
   "source": [
    "In 1994 Berkeley professor Leo Breiman, one year after his retirement, published a small technical report called [\"Bagging Predictors\"](https://www.stat.berkeley.edu/~breiman/bagging.pdf), which turned out to be one of the most influential ideas in modern machine learning. The report began:\n",
    "\n",
    "> : Bagging predictors is a method for generating multiple versions of a predictor and using these to get an aggregated predictor. The aggregation averages over the versions... The multiple versions are formed by making bootstrap replicates of the learning set and using these as new learning sets. Tests… show that bagging can give substantial gains in accuracy. The vital element is the instability of the prediction method. If perturbing the learning set can cause significant changes in the predictor constructed, then bagging can improve accuracy.\n",
    "\n",
    "Here is the procedure that Breiman is proposing:\n",
    "\n",
    "1. Randomly choose a subset of the rows of your data (i.e., \"bootstrap replicates of your learning set\").\n",
    "1. Train a model using this subset.\n",
    "1. Save that model, and then return to step 1 a few times.\n",
    "1. This will give you a number of trained models. To make a prediction, predict using all of the models, and then take the average of each of those model's predictions.\n",
    "\n",
    "This procedure is known as \"bagging.\" It is based on a deep and important insight: although each of the models trained on a subset of data will make more errors than a model trained on the full dataset, those errors will not be correlated with each other. Different models will make different errors. The average of those errors, therefore, is: zero! So if we take the average of all of the models' predictions, then we should end up with a prediction that gets closer and closer to the correct answer, the more models we have. This is an extraordinary result—it means that we can improve the accuracy of nearly any kind of machine learning algorithm by training it multiple times, each time on a different random subset of the data, and averaging its predictions.\n",
    "\n",
    "In 2001 Leo Breiman went on to demonstrate that this approach to building models, when applied to decision tree building algorithms, was particularly powerful. He went even further than just randomly choosing rows for each model's training, but also randomly selected from a subset of columns when choosing each split in each decision tree. He called this method the *random forest*. Today it is, perhaps, the most widely used and practically important machine learning method.\n",
    "\n",
    "In essence a random forest is a model that averages the predictions of a large number of decision trees, which are generated by randomly varying various parameters that specify what data is used to train the tree and other tree parameters. Bagging is a particular approach to \"ensembling,\" or combining the results of multiple models together. To see how it works in practice, let's get started on creating our own random forest!"
   ]
  },
  {
   "cell_type": "code",
   "execution_count": null,
   "metadata": {},
   "outputs": [],
   "source": [
    "# pip install —pre -f https://sklearn-nightly.scdn8.secure.raxcdn.com scikit-learn —U"
   ]
  },
  {
   "cell_type": "markdown",
   "metadata": {},
   "source": [
    "### Creating a Random Forest"
   ]
  },
  {
   "cell_type": "markdown",
   "metadata": {},
   "source": [
    "We can create a random forest just like we created a decision tree, except now, we are also specifying parameters that indicate how many trees should be in the forest, how we should subset the data items (the rows), and how we should subset the fields (the columns).\n",
    "\n",
    "In the following function definition `n_estimators` defines the number of trees we want, `max_samples` defines how many rows to sample for training each tree, and `max_features` defines how many columns to sample at each split point (where `0.5` means \"take half the total number of columns\"). We can also specify when to stop splitting the tree nodes, effectively limiting the depth of the tree, by including the same `min_samples_leaf` parameter we used in the last section. Finally, we pass `n_jobs=-1` to tell sklearn to use all our CPUs to build the trees in parallel. By creating a little function for this, we can more quickly try different variations in the rest of this chapter:"
   ]
  },
  {
   "cell_type": "code",
   "execution_count": null,
   "metadata": {},
   "outputs": [],
   "source": [
    "def rf(xs, y, n_estimators=40, max_samples=200_000,\n",
    "       max_features=0.5, min_samples_leaf=5, **kwargs):\n",
    "    return RandomForestRegressor(n_jobs=-1, n_estimators=n_estimators,\n",
    "        max_samples=max_samples, max_features=max_features,\n",
    "        min_samples_leaf=min_samples_leaf, oob_score=True).fit(xs, y)"
   ]
  },
  {
   "cell_type": "code",
   "execution_count": null,
   "metadata": {},
   "outputs": [],
   "source": [
    "m = rf(xs.values, y);"
   ]
  },
  {
   "cell_type": "markdown",
   "metadata": {},
   "source": [
    "Our validation RMSE is now much improved over our last result produced by the `DecisionTreeRegressor`, which made just one tree using all the available data:"
   ]
  },
  {
   "cell_type": "code",
   "execution_count": null,
   "metadata": {},
   "outputs": [
    {
     "data": {
      "text/plain": [
       "(0.171371, 0.233223)"
      ]
     },
     "execution_count": null,
     "metadata": {},
     "output_type": "execute_result"
    }
   ],
   "source": [
    "m_rmse(m, xs.values, y), m_rmse(m, valid_xs.values, valid_y)"
   ]
  },
  {
   "cell_type": "markdown",
   "metadata": {},
   "source": [
    "One of the most important properties of random forests is that they aren't very sensitive to the hyperparameter choices, such as `max_features`. You can set `n_estimators` to as high a number as you have time to train—the more trees you have, the more accurate the model will be. `max_samples` can often be left at its default, unless you have over 200,000 data points, in which case setting it to 200,000 will make it train faster with little impact on accuracy. `max_features=0.5` and `min_samples_leaf=4` both tend to work well, although sklearn's defaults work well too.\n",
    "\n",
    "The sklearn docs [show an example](http://scikit-learn.org/stable/auto_examples/ensemble/plot_ensemble_oob.html) of the effects of different `max_features` choices, with increasing numbers of trees. In the plot, the blue plot line uses the fewest features and the green line uses the most (it uses all the features). As you can see in <<max_features>>, the models with the lowest error result from using a subset of features but with a larger number of trees."
   ]
  },
  {
   "cell_type": "markdown",
   "metadata": {
    "hide_input": true
   },
   "source": [
    "<img alt=\"sklearn max_features chart\" width=\"500\" caption=\"Error based on max features and number of trees (source: https://scikit-learn.org/stable/auto_examples/ensemble/plot_ensemble_oob.html)\" src=\"images/sklearn_features.png\" id=\"max_features\"/>"
   ]
  },
  {
   "cell_type": "markdown",
   "metadata": {},
   "source": [
    "To see the impact of `n_estimators`, let's get the predictions from each individual tree in our forest (these are in the `estimators_` attribute):"
   ]
  },
  {
   "cell_type": "code",
   "execution_count": null,
   "metadata": {},
   "outputs": [],
   "source": [
    "preds = np.stack([t.predict(valid_xs.values) for t in m.estimators_])"
   ]
  },
  {
   "cell_type": "markdown",
   "metadata": {},
   "source": [
    "As you can see, `preds.mean(0)` gives the same results as our random forest:"
   ]
  },
  {
   "cell_type": "code",
   "execution_count": null,
   "metadata": {},
   "outputs": [
    {
     "data": {
      "text/plain": [
       "0.233223"
      ]
     },
     "execution_count": null,
     "metadata": {},
     "output_type": "execute_result"
    }
   ],
   "source": [
    "r_mse(preds.mean(0), valid_y)"
   ]
  },
  {
   "cell_type": "markdown",
   "metadata": {},
   "source": [
    "Let's see what happens to the RMSE as we add more and more trees. As you can see, the improvement levels off quite a bit after around 30 trees:"
   ]
  },
  {
   "cell_type": "code",
   "execution_count": null,
   "metadata": {},
   "outputs": [
    {
     "data": {
      "image/png": "[encoded data removed]",
      "text/plain": [
       "<Figure size 640x480 with 1 Axes>"
      ]
     },
     "metadata": {},
     "output_type": "display_data"
    }
   ],
   "source": [
    "plt.plot([r_mse(preds[:i+1].mean(0), valid_y) for i in range(40)]);"
   ]
  },
  {
   "cell_type": "markdown",
   "metadata": {},
   "source": [
    "The performance on our validation set is worse than on our training set. But is that because we're overfitting, or because the validation set covers a different time period, or a bit of both? With the existing information we've seen, we can't tell. However, random forests have a very clever trick called *out-of-bag* (OOB) error that can help us with this (and more!)."
   ]
  },
  {
   "cell_type": "markdown",
   "metadata": {},
   "source": [
    "### Out-of-Bag Error"
   ]
  },
  {
   "cell_type": "markdown",
   "metadata": {},
   "source": [
    "Recall that in a random forest, each tree is trained on a different subset of the training data. The OOB error is a way of measuring prediction error on the training set by only including in the calculation of a row's error trees where that row was *not* included in training. This allows us to see whether the model is overfitting, without needing a separate validation set.\n",
    "\n",
    "> A: My intuition for this is that, since every tree was trained with a different randomly selected subset of rows, out-of-bag error is a little like imagining that every tree therefore also has its own validation set. That validation set is simply the rows that were not selected for that tree's training.\n",
    "\n",
    "This is particularly beneficial in cases where we have only a small amount of training data, as it allows us to see whether our model generalizes without removing items to create a validation set. The OOB predictions are available in the `oob_prediction_` attribute. Note that we compare them to the training labels, since this is being calculated on trees using the training set."
   ]
  },
  {
   "cell_type": "code",
   "execution_count": null,
   "metadata": {},
   "outputs": [
    {
     "data": {
      "text/plain": [
       "0.211234"
      ]
     },
     "execution_count": null,
     "metadata": {},
     "output_type": "execute_result"
    }
   ],
   "source": [
    "r_mse(m.oob_prediction_, y)"
   ]
  },
  {
   "cell_type": "markdown",
   "metadata": {},
   "source": [
    "We can see that our OOB error is much lower than our validation set error. This means that something else is causing that error, in *addition* to normal generalization error. We'll discuss the reasons for this later in this chapter."
   ]
  },
  {
   "cell_type": "markdown",
   "metadata": {},
   "source": [
    "This is one way to interpret our model's predictions—let's focus on more of those now."
   ]
  },
  {
   "cell_type": "markdown",
   "metadata": {},
   "source": [
    "## Model Interpretation"
   ]
  },
  {
   "cell_type": "markdown",
   "metadata": {},
   "source": [
    "For tabular data, model interpretation is particularly important. For a given model, the things we are most likely to be interested in are:\n",
    "\n",
    "- How confident are we in our predictions using a particular row of data?\n",
    "- For predicting with a particular row of data, what were the most important factors, and how did they influence that prediction?\n",
    "- Which columns are the strongest predictors, which can we ignore?\n",
    "- Which columns are effectively redundant with each other, for purposes of prediction?\n",
    "- How do predictions vary, as we vary these columns?\n",
    "\n",
    "As we will see, random forests are particularly well suited to answering these questions. Let's start with the first one!"
   ]
  },
  {
   "cell_type": "markdown",
   "metadata": {},
   "source": [
    "### Tree Variance for Prediction Confidence"
   ]
  },
  {
   "cell_type": "markdown",
   "metadata": {},
   "source": [
    "We saw how the model averages the individual tree's predictions to get an overall prediction—that is, an estimate of the value. But how can we know the confidence of the estimate? One simple way is to use the standard deviation of predictions across the trees, instead of just the mean. This tells us the *relative* confidence of predictions. In general, we would want to be more cautious of using the results for rows where trees give very different results (higher standard deviations), compared to cases where they are more consistent (lower standard deviations).\n",
    "\n",
    "In the earlier section on creating a random forest, we saw how to get predictions over the validation set, using a Python list comprehension to do this for each tree in the forest:"
   ]
  },
  {
   "cell_type": "code",
   "execution_count": null,
   "metadata": {},
   "outputs": [],
   "source": [
    "preds = np.stack([t.predict(valid_xs.values) for t in m.estimators_])"
   ]
  },
  {
   "cell_type": "code",
   "execution_count": null,
   "metadata": {},
   "outputs": [
    {
     "data": {
      "text/plain": [
       "(40, 7988)"
      ]
     },
     "execution_count": null,
     "metadata": {},
     "output_type": "execute_result"
    }
   ],
   "source": [
    "preds.shape"
   ]
  },
  {
   "cell_type": "markdown",
   "metadata": {},
   "source": [
    "Now we have a prediction for every tree and every auction (40 trees and 7,988 auctions) in the validation set.\n",
    "\n",
    "Using this we can get the standard deviation of the predictions over all the trees, for each auction:"
   ]
  },
  {
   "cell_type": "code",
   "execution_count": null,
   "metadata": {},
   "outputs": [],
   "source": [
    "preds_std = preds.std(0)"
   ]
  },
  {
   "cell_type": "markdown",
   "metadata": {},
   "source": [
    "Here are the standard deviations for the predictions for the first five auctions—that is, the first five rows of the validation set:"
   ]
  },
  {
   "cell_type": "code",
   "execution_count": null,
   "metadata": {},
   "outputs": [
    {
     "data": {
      "text/plain": [
       "array([0.2000169 , 0.08355874, 0.113672  , 0.2747    , 0.12065141])"
      ]
     },
     "execution_count": null,
     "metadata": {},
     "output_type": "execute_result"
    }
   ],
   "source": [
    "preds_std[:5]"
   ]
  },
  {
   "cell_type": "markdown",
   "metadata": {},
   "source": [
    "As you can see, the confidence in the predictions varies widely. For some auctions, there is a low standard deviation because the trees agree. For others it's higher, as the trees don't agree. This is information that would be useful in a production setting; for instance, if you were using this model to decide what items to bid on at auction, a low-confidence prediction might cause you to look more carefully at an item before you made a bid."
   ]
  },
  {
   "cell_type": "markdown",
   "metadata": {},
   "source": [
    "### Feature Importance"
   ]
  },
  {
   "cell_type": "markdown",
   "metadata": {},
   "source": [
    "It's not normally enough just to know that a model can make accurate predictions—we also want to know *how* it's making predictions. *feature importance* gives us insight into this. We can get these directly from sklearn's random forest by looking in the `feature_importances_` attribute. Here's a simple function we can use to pop them into a DataFrame and sort them:"
   ]
  },
  {
   "cell_type": "code",
   "execution_count": null,
   "metadata": {},
   "outputs": [],
   "source": [
    "def rf_feat_importance(m, df):\n",
    "    return pd.DataFrame({'cols':df.columns, 'imp':m.feature_importances_}\n",
    "                       ).sort_values('imp', ascending=False)"
   ]
  },
  {
   "cell_type": "markdown",
   "metadata": {},
   "source": [
    "The feature importances for our model show that the first few most important columns have much higher importance scores than the rest, with (not surprisingly) `YearMade` and `ProductSize` being at the top of the list:"
   ]
  },
  {
   "cell_type": "code",
   "execution_count": null,
   "metadata": {},
   "outputs": [
    {
     "data": {
      "text/html": [
       "<div>\n",
       "<style scoped>\n",
       "    .dataframe tbody tr th:only-of-type {\n",
       "        vertical-align: middle;\n",
       "    }\n",
       "\n",
       "    .dataframe tbody tr th {\n",
       "        vertical-align: top;\n",
       "    }\n",
       "\n",
       "    .dataframe thead th {\n",
       "        text-align: right;\n",
       "    }\n",
       "</style>\n",
       "<table border=\"1\" class=\"dataframe\">\n",
       "  <thead>\n",
       "    <tr style=\"text-align: right;\">\n",
       "      <th></th>\n",
       "      <th>cols</th>\n",
       "      <th>imp</th>\n",
       "    </tr>\n",
       "  </thead>\n",
       "  <tbody>\n",
       "    <tr>\n",
       "      <th>57</th>\n",
       "      <td>YearMade</td>\n",
       "      <td>0.166375</td>\n",
       "    </tr>\n",
       "    <tr>\n",
       "      <th>30</th>\n",
       "      <td>Coupler_System</td>\n",
       "      <td>0.113599</td>\n",
       "    </tr>\n",
       "    <tr>\n",
       "      <th>6</th>\n",
       "      <td>ProductSize</td>\n",
       "      <td>0.103802</td>\n",
       "    </tr>\n",
       "    <tr>\n",
       "      <th>7</th>\n",
       "      <td>fiProductClassDesc</td>\n",
       "      <td>0.078686</td>\n",
       "    </tr>\n",
       "    <tr>\n",
       "      <th>3</th>\n",
       "      <td>fiSecondaryDesc</td>\n",
       "      <td>0.054542</td>\n",
       "    </tr>\n",
       "    <tr>\n",
       "      <th>54</th>\n",
       "      <td>ModelID</td>\n",
       "      <td>0.052919</td>\n",
       "    </tr>\n",
       "    <tr>\n",
       "      <th>65</th>\n",
       "      <td>saleElapsed</td>\n",
       "      <td>0.050521</td>\n",
       "    </tr>\n",
       "    <tr>\n",
       "      <th>31</th>\n",
       "      <td>Grouser_Tracks</td>\n",
       "      <td>0.041514</td>\n",
       "    </tr>\n",
       "    <tr>\n",
       "      <th>12</th>\n",
       "      <td>Enclosure</td>\n",
       "      <td>0.039451</td>\n",
       "    </tr>\n",
       "    <tr>\n",
       "      <th>32</th>\n",
       "      <td>Hydraulics_Flow</td>\n",
       "      <td>0.035355</td>\n",
       "    </tr>\n",
       "  </tbody>\n",
       "</table>\n",
       "</div>"
      ],
      "text/plain": [
       "                  cols       imp\n",
       "57            YearMade  0.166375\n",
       "30      Coupler_System  0.113599\n",
       "6          ProductSize  0.103802\n",
       "7   fiProductClassDesc  0.078686\n",
       "3      fiSecondaryDesc  0.054542\n",
       "54             ModelID  0.052919\n",
       "65         saleElapsed  0.050521\n",
       "31      Grouser_Tracks  0.041514\n",
       "12           Enclosure  0.039451\n",
       "32     Hydraulics_Flow  0.035355"
      ]
     },
     "execution_count": null,
     "metadata": {},
     "output_type": "execute_result"
    }
   ],
   "source": [
    "fi = rf_feat_importance(m, xs)\n",
    "fi[:10]"
   ]
  },
  {
   "cell_type": "markdown",
   "metadata": {},
   "source": [
    "A plot of the feature importances shows the relative importances more clearly:"
   ]
  },
  {
   "cell_type": "code",
   "execution_count": null,
   "metadata": {},
   "outputs": [
    {
     "data": {
      "image/png": "[encoded data removed]",
      "text/plain": [
       "<Figure size 1200x700 with 1 Axes>"
      ]
     },
     "metadata": {},
     "output_type": "display_data"
    }
   ],
   "source": [
    "def plot_fi(fi):\n",
    "    return fi.plot('cols', 'imp', 'barh', figsize=(12,7), legend=False)\n",
    "\n",
    "plot_fi(fi[:30]);"
   ]
  },
  {
   "cell_type": "markdown",
   "metadata": {},
   "source": [
    "The way these importances are calculated is quite simple yet elegant. The feature importance algorithm loops through each tree, and then recursively explores each branch. At each branch, it looks to see what feature was used for that split, and how much the model improves as a result of that split. The improvement (weighted by the number of rows in that group) is added to the importance score for that feature. This is summed across all branches of all trees, and finally the scores are normalized such that they add to 1."
   ]
  },
  {
   "cell_type": "markdown",
   "metadata": {},
   "source": [
    "### Removing Low-Importance Variables"
   ]
  },
  {
   "cell_type": "markdown",
   "metadata": {},
   "source": [
    "It seems likely that we could use just a subset of the columns by removing the variables of low importance and still get good results. Let's try just keeping those with a feature importance greater than 0.005:"
   ]
  },
  {
   "cell_type": "code",
   "execution_count": null,
   "metadata": {},
   "outputs": [
    {
     "data": {
      "text/plain": [
       "22"
      ]
     },
     "execution_count": null,
     "metadata": {},
     "output_type": "execute_result"
    }
   ],
   "source": [
    "to_keep = fi[fi.imp>0.005].cols\n",
    "len(to_keep)"
   ]
  },
  {
   "cell_type": "markdown",
   "metadata": {},
   "source": [
    "We can retrain our model using just this subset of the columns:"
   ]
  },
  {
   "cell_type": "code",
   "execution_count": null,
   "metadata": {},
   "outputs": [],
   "source": [
    "xs_imp = xs[to_keep]\n",
    "valid_xs_imp = valid_xs[to_keep]"
   ]
  },
  {
   "cell_type": "code",
   "execution_count": null,
   "metadata": {},
   "outputs": [],
   "source": [
    "m = rf(xs_imp, y)"
   ]
  },
  {
   "cell_type": "markdown",
   "metadata": {},
   "source": [
    "And here's the result:"
   ]
  },
  {
   "cell_type": "code",
   "execution_count": null,
   "metadata": {},
   "outputs": [
    {
     "data": {
      "text/plain": [
       "(0.180965, 0.231633)"
      ]
     },
     "execution_count": null,
     "metadata": {},
     "output_type": "execute_result"
    }
   ],
   "source": [
    "m_rmse(m, xs_imp, y), m_rmse(m, valid_xs_imp, valid_y)"
   ]
  },
  {
   "cell_type": "markdown",
   "metadata": {},
   "source": [
    "Our accuracy is about the same, but we have far fewer columns to study:"
   ]
  },
  {
   "cell_type": "code",
   "execution_count": null,
   "metadata": {},
   "outputs": [
    {
     "data": {
      "text/plain": [
       "(66, 22)"
      ]
     },
     "execution_count": null,
     "metadata": {},
     "output_type": "execute_result"
    }
   ],
   "source": [
    "len(xs.columns), len(xs_imp.columns)"
   ]
  },
  {
   "cell_type": "markdown",
   "metadata": {},
   "source": [
    "We've found that generally the first step to improving a model is simplifying it—78 columns was too many for us to study them all in depth! Furthermore, in practice often a simpler, more interpretable model is easier to roll out and maintain.\n",
    "\n",
    "This also makes our feature importance plot easier to interpret. Let's look at it again:"
   ]
  },
  {
   "cell_type": "code",
   "execution_count": null,
   "metadata": {},
   "outputs": [
    {
     "data": {
      "image/png": "[encoded data removed]",
      "text/plain": [
       "<Figure size 1200x700 with 1 Axes>"
      ]
     },
     "metadata": {},
     "output_type": "display_data"
    }
   ],
   "source": [
    "plot_fi(rf_feat_importance(m, xs_imp));"
   ]
  },
  {
   "cell_type": "markdown",
   "metadata": {},
   "source": [
    "One thing that makes this harder to interpret is that there seem to be some variables with very similar meanings: for example, `ProductGroup` and `ProductGroupDesc`. Let's try to remove any redundent features. "
   ]
  },
  {
   "cell_type": "markdown",
   "metadata": {},
   "source": [
    "### Removing Redundant Features"
   ]
  },
  {
   "cell_type": "markdown",
   "metadata": {},
   "source": [
    "Let's start with:"
   ]
  },
  {
   "cell_type": "code",
   "execution_count": null,
   "metadata": {},
   "outputs": [
    {
     "data": {
      "image/png": "[encoded data removed]",
      "text/plain": [
       "<Figure size 1000x600 with 1 Axes>"
      ]
     },
     "metadata": {},
     "output_type": "display_data"
    }
   ],
   "source": [
    "cluster_columns(xs_imp)"
   ]
  },
  {
   "cell_type": "markdown",
   "metadata": {},
   "source": [
    "In this chart, the pairs of columns that are most similar are the ones that were merged together early, far from the \"root\" of the tree at the left. Unsurprisingly, the fields `ProductGroup` and `ProductGroupDesc` were merged quite early, as were `saleYear` and `saleElapsed` and `fiModelDesc` and `fiBaseModel`. These might be so closely correlated they are practically synonyms for each other.\n",
    "\n",
    "> note: Determining Similarity: The most similar pairs are found by calculating the _rank correlation_, which means that all the values are replaced with their _rank_ (i.e., first, second, third, etc. within the column), and then the _correlation_ is calculated. (Feel free to skip over this minor detail though, since it's not going to come up again in the book!)\n",
    "\n",
    "Let's try removing some of these closely related features to see if the model can be simplified without impacting the accuracy. First, we create a function that quickly trains a random forest and returns the OOB score, by using a lower `max_samples` and higher `min_samples_leaf`. The OOB score is a number returned by sklearn that ranges between 1.0 for a perfect model and 0.0 for a random model. (In statistics it's called *R^2*, although the details aren't important for this explanation.) We don't need it to be very accurate—we're just going to use it to compare different models, based on removing some of the possibly redundant columns:"
   ]
  },
  {
   "cell_type": "code",
   "execution_count": null,
   "metadata": {},
   "outputs": [],
   "source": [
    "def get_oob(df):\n",
    "    m = RandomForestRegressor(n_estimators=40, min_samples_leaf=15,\n",
    "        max_samples=50000, max_features=0.5, n_jobs=-1, oob_score=True)\n",
    "    m.fit(df, y)\n",
    "    return m.oob_score_"
   ]
  },
  {
   "cell_type": "markdown",
   "metadata": {},
   "source": [
    "Here's our baseline:"
   ]
  },
  {
   "cell_type": "code",
   "execution_count": null,
   "metadata": {},
   "outputs": [
    {
     "data": {
      "text/plain": [
       "0.8760739540611289"
      ]
     },
     "execution_count": null,
     "metadata": {},
     "output_type": "execute_result"
    }
   ],
   "source": [
    "get_oob(xs_imp)"
   ]
  },
  {
   "cell_type": "markdown",
   "metadata": {},
   "source": [
    "Now we try removing each of our potentially redundant variables, one at a time:"
   ]
  },
  {
   "cell_type": "code",
   "execution_count": null,
   "metadata": {},
   "outputs": [
    {
     "data": {
      "text/plain": [
       "{'saleYear': 0.8742959821922331,\n",
       " 'saleElapsed': 0.8698149904307536,\n",
       " 'ProductGroupDesc': 0.8755334280543031,\n",
       " 'fiModelDesc': 0.8731600875380836,\n",
       " 'fiBaseModel': 0.8743137539613115,\n",
       " 'Hydraulics_Flow': 0.8761516062768563,\n",
       " 'Grouser_Tracks': 0.875639118713338,\n",
       " 'Coupler_System': 0.8753447081392794}"
      ]
     },
     "execution_count": null,
     "metadata": {},
     "output_type": "execute_result"
    }
   ],
   "source": [
    "{c:get_oob(xs_imp.drop(c, axis=1)) for c in (\n",
    "    'saleYear', 'saleElapsed', 'ProductGroupDesc',\n",
    "    'fiModelDesc', 'fiBaseModel',\n",
    "    'Hydraulics_Flow','Grouser_Tracks', 'Coupler_System')}"
   ]
  },
  {
   "cell_type": "markdown",
   "metadata": {},
   "source": [
    "Now let's try dropping multiple variables. We'll drop one from each of the tightly aligned pairs we noticed earlier. Let's see what that does:"
   ]
  },
  {
   "cell_type": "code",
   "execution_count": null,
   "metadata": {},
   "outputs": [
    {
     "data": {
      "text/plain": [
       "0.8742868087085606"
      ]
     },
     "execution_count": null,
     "metadata": {},
     "output_type": "execute_result"
    }
   ],
   "source": [
    "to_drop = ['saleYear', 'ProductGroupDesc', 'fiBaseModel', 'Grouser_Tracks']\n",
    "get_oob(xs_imp.drop(to_drop, axis=1))"
   ]
  },
  {
   "cell_type": "markdown",
   "metadata": {},
   "source": [
    "Looking good! This is really not much worse than the model with all the fields. Let's create DataFrames without these columns, and save them:"
   ]
  },
  {
   "cell_type": "code",
   "execution_count": null,
   "metadata": {},
   "outputs": [],
   "source": [
    "xs_final = xs_imp.drop(to_drop, axis=1)\n",
    "valid_xs_final = valid_xs_imp.drop(to_drop, axis=1)"
   ]
  },
  {
   "cell_type": "code",
   "execution_count": null,
   "metadata": {},
   "outputs": [],
   "source": [
    "save_pickle(f'{path}/xs_final.pkl', xs_final)\n",
    "save_pickle(f'{path}/valid_xs_final.pkl', valid_xs_final)"
   ]
  },
  {
   "cell_type": "markdown",
   "metadata": {},
   "source": [
    "We can load them back later with:"
   ]
  },
  {
   "cell_type": "code",
   "execution_count": null,
   "metadata": {},
   "outputs": [],
   "source": [
    "xs_final = load_pickle(f'{path}/xs_final.pkl')\n",
    "valid_xs_final = load_pickle(f'{path}/valid_xs_final.pkl')"
   ]
  },
  {
   "cell_type": "markdown",
   "metadata": {},
   "source": [
    "Now we can check our RMSE again, to confirm that the accuracy hasn't substantially changed."
   ]
  },
  {
   "cell_type": "code",
   "execution_count": null,
   "metadata": {},
   "outputs": [
    {
     "data": {
      "text/plain": [
       "(0.18273, 0.233207)"
      ]
     },
     "execution_count": null,
     "metadata": {},
     "output_type": "execute_result"
    }
   ],
   "source": [
    "m = rf(xs_final, y)\n",
    "m_rmse(m, xs_final, y), m_rmse(m, valid_xs_final, valid_y)"
   ]
  },
  {
   "cell_type": "markdown",
   "metadata": {},
   "source": [
    "By focusing on the most important variables, and removing some redundant ones, we've greatly simplified our model. Now, let's see how those variables affect our predictions using partial dependence plots."
   ]
  },
  {
   "cell_type": "markdown",
   "metadata": {},
   "source": [
    "### Partial Dependence"
   ]
  },
  {
   "cell_type": "markdown",
   "metadata": {},
   "source": [
    "As we've seen, the two most important predictors are `ProductSize` and `YearMade`. We'd like to understand the relationship between these predictors and sale price. It's a good idea to first check the count of values per category (provided by the Pandas `value_counts` method), to see how common each category is:"
   ]
  },
  {
   "cell_type": "code",
   "execution_count": null,
   "metadata": {},
   "outputs": [
    {
     "data": {
      "image/png": "[encoded data removed]",
      "text/plain": [
       "<Figure size 640x480 with 1 Axes>"
      ]
     },
     "metadata": {},
     "output_type": "display_data"
    }
   ],
   "source": [
    "p = valid_xs_final['ProductSize'].value_counts(sort=False).plot.barh()\n",
    "c = to.classes['ProductSize']\n",
    "plt.yticks(range(len(c)), c);"
   ]
  },
  {
   "cell_type": "markdown",
   "metadata": {},
   "source": [
    "The largrest group is `#na#`, which is the label fastai applies to missing values.\n",
    "\n",
    "Let's do the same thing for `YearMade`. Since this is a numeric feature, we'll need to draw a histogram, which groups the year values into a few discrete bins:"
   ]
  },
  {
   "cell_type": "code",
   "execution_count": null,
   "metadata": {},
   "outputs": [
    {
     "data": {
      "image/png": "[encoded data removed]",
      "text/plain": [
       "<Figure size 640x480 with 1 Axes>"
      ]
     },
     "metadata": {},
     "output_type": "display_data"
    }
   ],
   "source": [
    "ax = valid_xs_final['YearMade'].hist()"
   ]
  },
  {
   "cell_type": "markdown",
   "metadata": {},
   "source": [
    "Other than the special value 1950 which we used for coding missing year values, most of the data is from after 1990.\n",
    "\n",
    "Now we're ready to look at *partial dependence plots*. Partial dependence plots try to answer the question: if a row varied on nothing other than the feature in question, how would it impact the dependent variable?\n",
    "\n",
    "For instance, how does `YearMade` impact sale price, all other things being equal?\n",
    "\n",
    "To answer this question, we can't just take the average sale price for each `YearMade`. The problem with that approach is that many other things vary from year to year as well, such as which products are sold, how many products have air-conditioning, inflation, and so forth. So, merely averaging over all the auctions that have the same `YearMade` would also capture the effect of how every other field also changed along with `YearMade` and how that overall change affected price.\n",
    "\n",
    "Instead, what we do is replace every single value in the `YearMade` column with 1950, and then calculate the predicted sale price for every auction, and take the average over all auctions. Then we do the same for 1951, 1952, and so forth until our final year of 2011. This isolates the effect of only `YearMade` (even if it does so by averaging over some imagined records where we assign a `YearMade` value that might never actually exist alongside some other values). \n",
    "\n",
    "> A: If you are philosophically minded it is somewhat dizzying to contemplate the different kinds of hypotheticality that we are juggling to make this calculation. First, there's the fact that _every_ prediction is hypothetical, because we are not noting empirical data. Second, there's the point that we're _not_ merely interested in asking how sale price would change if we changed `YearMade` and everything else along with it. Rather, we're very specifically asking, how sale price would change in a hypothetical world where only `YearMade` changed. Phew! It is impressive that we can ask such questions. I recommend Judea Pearl and Dana Mackenzie's recent book on causality, _The Book of Why_ (Basic Books), if you're interested in more deeply exploring formalisms for analyzing these subtleties.\n",
    "\n",
    "With these averages, we can then plot each of these years on the x-axis, and each of the predictions on the y-axis. This, finally, is a partial dependence plot. Let's take a look:"
   ]
  },
  {
   "cell_type": "code",
   "execution_count": null,
   "metadata": {},
   "outputs": [
    {
     "name": "stdout",
     "output_type": "stream",
     "text": [
      "Object `PartialDependenceDisplay` not found.\n"
     ]
    }
   ],
   "source": [
    "?PartialDependenceDisplay"
   ]
  },
  {
   "cell_type": "markdown",
   "metadata": {},
   "source": [
    "Looking first of all at the `YearMade` plot, and specifically at the section covering the years after 1990 (since as we noted this is where we have the most data), we can see a nearly linear relationship between year and price. Remember that our dependent variable is after taking the logarithm, so this means that in practice there is an exponential increase in price. This is what we would expect: depreciation is generally recognized as being a multiplicative factor over time, so, for a given sale date, varying year made ought to show an exponential relationship with sale price.\n",
    "\n",
    "The `ProductSize` partial plot is a bit concerning. It shows that the final group, which we saw is for missing values, has the lowest price. To use this insight in practice, we would want to find out *why* it's missing so often, and what that *means*. Missing values can sometimes be useful predictors—it entirely depends on what causes them to be missing. Sometimes, however, they can indicate *data leakage*."
   ]
  },
  {
   "cell_type": "markdown",
   "metadata": {},
   "source": [
    "### Data Leakage"
   ]
  },
  {
   "cell_type": "markdown",
   "metadata": {},
   "source": [
    "In  the paper [\"Leakage in Data Mining: Formulation, Detection, and Avoidance\"](https://dl.acm.org/doi/10.1145/2020408.2020496), Shachar Kaufman, Saharon Rosset, and Claudia Perlich describe leakage as: \n",
    "\n",
    "> : The introduction of information about the target of a data mining problem, which should not be legitimately available to mine from. A trivial example of leakage would be a model that uses the target itself as an input, thus concluding for example that 'it rains on rainy days'. In practice, the introduction of this illegitimate information is unintentional, and facilitated by the data collection, aggregation and preparation process.\n",
    "\n",
    "They give as an example:\n",
    "\n",
    "> : A real-life business intelligence project at IBM where potential customers for certain products were identified, among other things, based on keywords found on their websites. This turned out to be leakage since the website content used for training had been sampled at the point in time where the potential customer has already become a customer, and where the website contained traces of the IBM products purchased, such as the word 'Websphere' (e.g., in a press release about the purchase or a specific product feature the client uses).\n",
    "\n",
    "Data leakage is subtle and can take many forms. In particular, missing values often represent data leakage.\n",
    "\n",
    "For instance, Jeremy competed in a Kaggle competition designed to predict which researchers would end up receiving research grants. The information was provided by a university and included thousands of examples of research projects, along with information about the researchers involved and data on whether or not each grant was eventually accepted. The university hoped to be able to use the models developed in this competition to rank which grant applications were most likely to succeed, so it could prioritize its processing.\n",
    "\n",
    "Jeremy used a random forest to model the data, and then used feature importance to find out which features were most predictive. He noticed three surprising things:\n",
    "\n",
    "- The model was able to correctly predict who would receive grants over 95% of the time.\n",
    "- Apparently meaningless identifier columns were the most important predictors.\n",
    "- The day of week and day of year columns were also highly predictive; for instance, the vast majority of grant applications dated on a Sunday were accepted, and many accepted grant applications were dated on January 1.\n",
    "\n",
    "For the identifier columns, one partial dependence plot per column showed that when the information was missing the application was almost always rejected. It turned out that in practice, the university only filled out much of this information *after* a grant application was accepted. Often, for applications that were not accepted, it was just left blank. Therefore, this information was not something that was actually available at the time that the application was received, and it would not be available for a predictive model—it was data leakage.\n",
    "\n",
    "In the same way, the final processing of successful applications was often done automatically as a batch at the end of the week, or the end of the year. It was this final processing date which ended up in the data, so again, this information, while predictive, was not actually available at the time that the application was received.\n",
    "\n",
    "This example showcases the most practical and simple approaches to identifying data leakage, which are to build a model and then:\n",
    "\n",
    "- Check whether the accuracy of the model is *too good to be true*.\n",
    "- Look for important predictors that don't make sense in practice.\n",
    "- Look for partial dependence plot results that don't make sense in practice.\n",
    "\n",
    "Thinking back to our bear detector, this mirrors the advice that we provided in <<chapter_production>>—it is often a good idea to build a model first and then do your data cleaning, rather than vice versa. The model can help you identify potentially problematic data issues.\n",
    "\n",
    "It can also help you identify which factors influence specific predictions, with tree interpreters."
   ]
  },
  {
   "cell_type": "markdown",
   "metadata": {},
   "source": [
    "## Extrapolation and Neural Networks"
   ]
  },
  {
   "cell_type": "markdown",
   "metadata": {},
   "source": [
    "A problem with random forests, like all machine learning or deep learning algorithms, is that they don't always generalize well to new data. We will see in which situations neural networks generalize better, but first, let's look at the extrapolation problem that random forests have."
   ]
  },
  {
   "cell_type": "markdown",
   "metadata": {},
   "source": [
    "### The Extrapolation Problem"
   ]
  },
  {
   "cell_type": "code",
   "execution_count": null,
   "metadata": {},
   "outputs": [],
   "source": [
    "np.random.seed(42)"
   ]
  },
  {
   "cell_type": "markdown",
   "metadata": {},
   "source": [
    "Let's consider the simple task of making predictions from 40 data points showing a slightly noisy linear relationship:"
   ]
  },
  {
   "cell_type": "code",
   "execution_count": null,
   "metadata": {},
   "outputs": [
    {
     "data": {
      "image/png": "[encoded data removed]",
      "text/plain": [
       "<Figure size 640x480 with 1 Axes>"
      ]
     },
     "metadata": {},
     "output_type": "display_data"
    }
   ],
   "source": [
    "x_lin = torch.linspace(0,20, steps=40)\n",
    "y_lin = x_lin + torch.randn_like(x_lin)\n",
    "plt.scatter(x_lin, y_lin);"
   ]
  },
  {
   "cell_type": "markdown",
   "metadata": {},
   "source": [
    "Although we only have a single independent variable, sklearn expects a matrix of independent variables, not a single vector. So we have to turn our vector into a matrix with one column. In other words, we have to change the *shape* from `[40]` to `[40,1]`. One way to do that is with the `unsqueeze` method, which adds a new unit axis to a tensor at the requested dimension:"
   ]
  },
  {
   "cell_type": "code",
   "execution_count": null,
   "metadata": {},
   "outputs": [
    {
     "data": {
      "text/plain": [
       "(torch.Size([40]), torch.Size([40, 1]))"
      ]
     },
     "execution_count": null,
     "metadata": {},
     "output_type": "execute_result"
    }
   ],
   "source": [
    "xs_lin = x_lin.unsqueeze(1)\n",
    "x_lin.shape,xs_lin.shape"
   ]
  },
  {
   "cell_type": "markdown",
   "metadata": {},
   "source": [
    "A more flexible approach is to slice an array or tensor with the special value `None`, which introduces an additional unit axis at that location:"
   ]
  },
  {
   "cell_type": "code",
   "execution_count": null,
   "metadata": {},
   "outputs": [
    {
     "data": {
      "text/plain": [
       "torch.Size([40, 1])"
      ]
     },
     "execution_count": null,
     "metadata": {},
     "output_type": "execute_result"
    }
   ],
   "source": [
    "x_lin[:,None].shape"
   ]
  },
  {
   "cell_type": "markdown",
   "metadata": {},
   "source": [
    "We can now create a random forest for this data. We'll use only the first 30 rows to train the model:"
   ]
  },
  {
   "cell_type": "code",
   "execution_count": null,
   "metadata": {},
   "outputs": [],
   "source": [
    "m_lin = RandomForestRegressor().fit(xs_lin[:30],y_lin[:30])"
   ]
  },
  {
   "cell_type": "markdown",
   "metadata": {},
   "source": [
    "Then we'll test the model on the full dataset. The blue dots are the training data, and the red dots are the predictions:"
   ]
  },
  {
   "cell_type": "code",
   "execution_count": null,
   "metadata": {},
   "outputs": [
    {
     "data": {
      "image/png": "[encoded data removed]",
      "text/plain": [
       "<Figure size 640x480 with 1 Axes>"
      ]
     },
     "metadata": {},
     "output_type": "display_data"
    }
   ],
   "source": [
    "plt.scatter(x_lin, y_lin, 20)\n",
    "plt.scatter(x_lin, m_lin.predict(xs_lin), color='red', alpha=0.5);"
   ]
  },
  {
   "cell_type": "markdown",
   "metadata": {},
   "source": [
    "We have a big problem! Our predictions outside of the domain that our training data covered are all too low. Why do you suppose this is?\n",
    "\n",
    "Remember, a random forest just averages the predictions of a number of trees. And a tree simply predicts the average value of the rows in a leaf. Therefore, a tree and a random forest can never predict values outside of the range of the training data. This is particularly problematic for data where there is a trend over time, such as inflation, and you wish to make predictions for a future time. Your predictions will be systematically too low.\n",
    "\n",
    "But the problem extends beyond time variables. Random forests are not able to extrapolate outside of the types of data they have seen, in a more general sense. That's why we need to make sure our validation set does not contain out-of-domain data."
   ]
  },
  {
   "cell_type": "markdown",
   "metadata": {},
   "source": [
    "### Finding Out-of-Domain Data"
   ]
  },
  {
   "cell_type": "markdown",
   "metadata": {},
   "source": [
    "Sometimes it is hard to know whether your test set is distributed in the same way as your training data, or, if it is different, what columns reflect that difference. There's actually an easy way to figure this out, which is to use a random forest!\n",
    "\n",
    "But in this case we don't use the random forest to predict our actual dependent variable. Instead, we try to predict whether a row is in the validation set or the training set. To see this in action, let's combine our training and validation sets together, create a dependent variable that represents which dataset each row comes from, build a random forest using that data, and get its feature importance:"
   ]
  },
  {
   "cell_type": "code",
   "execution_count": null,
   "metadata": {},
   "outputs": [
    {
     "data": {
      "text/html": [
       "<div>\n",
       "<style scoped>\n",
       "    .dataframe tbody tr th:only-of-type {\n",
       "        vertical-align: middle;\n",
       "    }\n",
       "\n",
       "    .dataframe tbody tr th {\n",
       "        vertical-align: top;\n",
       "    }\n",
       "\n",
       "    .dataframe thead th {\n",
       "        text-align: right;\n",
       "    }\n",
       "</style>\n",
       "<table border=\"1\" class=\"dataframe\">\n",
       "  <thead>\n",
       "    <tr style=\"text-align: right;\">\n",
       "      <th></th>\n",
       "      <th>cols</th>\n",
       "      <th>imp</th>\n",
       "    </tr>\n",
       "  </thead>\n",
       "  <tbody>\n",
       "    <tr>\n",
       "      <th>6</th>\n",
       "      <td>saleElapsed</td>\n",
       "      <td>0.910266</td>\n",
       "    </tr>\n",
       "    <tr>\n",
       "      <th>11</th>\n",
       "      <td>SalesID</td>\n",
       "      <td>0.073707</td>\n",
       "    </tr>\n",
       "    <tr>\n",
       "      <th>14</th>\n",
       "      <td>MachineID</td>\n",
       "      <td>0.012246</td>\n",
       "    </tr>\n",
       "    <tr>\n",
       "      <th>0</th>\n",
       "      <td>YearMade</td>\n",
       "      <td>0.000813</td>\n",
       "    </tr>\n",
       "    <tr>\n",
       "      <th>9</th>\n",
       "      <td>fiModelDesc</td>\n",
       "      <td>0.000535</td>\n",
       "    </tr>\n",
       "    <tr>\n",
       "      <th>5</th>\n",
       "      <td>ModelID</td>\n",
       "      <td>0.000471</td>\n",
       "    </tr>\n",
       "  </tbody>\n",
       "</table>\n",
       "</div>"
      ],
      "text/plain": [
       "           cols       imp\n",
       "6   saleElapsed  0.910266\n",
       "11      SalesID  0.073707\n",
       "14    MachineID  0.012246\n",
       "0      YearMade  0.000813\n",
       "9   fiModelDesc  0.000535\n",
       "5       ModelID  0.000471"
      ]
     },
     "execution_count": null,
     "metadata": {},
     "output_type": "execute_result"
    }
   ],
   "source": [
    "df_dom = pd.concat([xs_final, valid_xs_final])\n",
    "is_valid = np.array([0]*len(xs_final) + [1]*len(valid_xs_final))\n",
    "\n",
    "m = rf(df_dom, is_valid)\n",
    "rf_feat_importance(m, df_dom)[:6]"
   ]
  },
  {
   "cell_type": "markdown",
   "metadata": {},
   "source": [
    "This shows that there are three columns that differ significantly between the training and validation sets: `saleElapsed`, `SalesID`, and `MachineID`. It's fairly obvious why this is the case for `saleElapsed`: it's the number of days between the start of the dataset and each row, so it directly encodes the date. The difference in `SalesID` suggests that identifiers for auction sales might increment over time. `MachineID` suggests something similar might be happening for individual items sold in those auctions.\n",
    "\n",
    "Let's get a baseline of the original random forest model's RMSE, then see what the effect is of removing each of these columns in turn:"
   ]
  },
  {
   "cell_type": "code",
   "execution_count": null,
   "metadata": {},
   "outputs": [
    {
     "name": "stdout",
     "output_type": "stream",
     "text": [
      "orig 0.231001\n",
      "SalesID 0.230214\n",
      "saleElapsed 0.235865\n",
      "MachineID 0.231447\n"
     ]
    }
   ],
   "source": [
    "m = rf(xs_final, y)\n",
    "print('orig', m_rmse(m, valid_xs_final, valid_y))\n",
    "\n",
    "for c in ('SalesID','saleElapsed','MachineID'):\n",
    "    m = rf(xs_final.drop(c,axis=1), y)\n",
    "    print(c, m_rmse(m, valid_xs_final.drop(c,axis=1), valid_y))"
   ]
  },
  {
   "cell_type": "markdown",
   "metadata": {},
   "source": [
    "It looks like we should be able to remove `SalesID` and `MachineID` without losing any accuracy. Let's check:"
   ]
  },
  {
   "cell_type": "code",
   "execution_count": null,
   "metadata": {},
   "outputs": [
    {
     "data": {
      "text/plain": [
       "0.275148"
      ]
     },
     "execution_count": null,
     "metadata": {},
     "output_type": "execute_result"
    }
   ],
   "source": [
    "time_vars = ['SalesID','MachineID', 'saleElapsed']\n",
    "xs_final_time = xs_final.drop(time_vars, axis=1)\n",
    "valid_xs_time = valid_xs_final.drop(time_vars, axis=1)\n",
    "\n",
    "m = rf(xs_final_time, y)\n",
    "m_rmse(m, valid_xs_time, valid_y)"
   ]
  },
  {
   "cell_type": "markdown",
   "metadata": {},
   "source": [
    "Removing these variables has slightly improved the model's accuracy; but more importantly, it should make it more resilient over time, and easier to maintain and understand. We recommend that for all datasets you try building a model where your dependent variable is `is_valid`, like we did here. It can often uncover subtle *domain shift* issues that you may otherwise miss.\n",
    "\n",
    "One thing that might help in our case is to simply avoid using old data. Often, old data shows relationships that just aren't valid any more. Let's try just using the most recent few years of the data:"
   ]
  },
  {
   "cell_type": "code",
   "execution_count": null,
   "metadata": {},
   "outputs": [
    {
     "data": {
      "image/png": "[encoded data removed]",
      "text/plain": [
       "<Figure size 640x480 with 1 Axes>"
      ]
     },
     "metadata": {},
     "output_type": "display_data"
    }
   ],
   "source": [
    "xs['saleYear'].hist();"
   ]
  },
  {
   "cell_type": "markdown",
   "metadata": {},
   "source": [
    "Here's the result of training on this subset:"
   ]
  },
  {
   "cell_type": "code",
   "execution_count": null,
   "metadata": {},
   "outputs": [],
   "source": [
    "filt = xs['saleYear']>2004\n",
    "xs_filt = xs_final_time[filt]\n",
    "y_filt = y[filt]"
   ]
  },
  {
   "cell_type": "code",
   "execution_count": null,
   "metadata": {},
   "outputs": [
    {
     "data": {
      "text/plain": [
       "(0.243451, 0.241082)"
      ]
     },
     "execution_count": null,
     "metadata": {},
     "output_type": "execute_result"
    }
   ],
   "source": [
    "m = rf(xs_filt, y_filt)\n",
    "m_rmse(m, xs_filt, y_filt), m_rmse(m, valid_xs_time, valid_y)"
   ]
  },
  {
   "cell_type": "markdown",
   "metadata": {},
   "source": [
    "It's a tiny bit better, which shows that you shouldn't always just use your entire dataset; sometimes a subset can be better.\n",
    "\n",
    "Let's see if using a neural network helps."
   ]
  },
  {
   "cell_type": "markdown",
   "metadata": {},
   "source": [
    "### Using a Neural Network"
   ]
  },
  {
   "cell_type": "markdown",
   "metadata": {},
   "source": [
    "We can use the same approach to build a neural network model. Let's first replicate the steps we took to set up the `TabularPandas` object:"
   ]
  },
  {
   "cell_type": "code",
   "execution_count": null,
   "metadata": {},
   "outputs": [
    {
     "data": {
      "text/plain": [
       "\u001b[0;31mSignature:\u001b[0m \u001b[0madd_datepart\u001b[0m\u001b[0;34m(\u001b[0m\u001b[0mdf\u001b[0m\u001b[0;34m,\u001b[0m \u001b[0mfield_name\u001b[0m\u001b[0;34m,\u001b[0m \u001b[0mprefix\u001b[0m\u001b[0;34m=\u001b[0m\u001b[0;32mNone\u001b[0m\u001b[0;34m,\u001b[0m \u001b[0mdrop\u001b[0m\u001b[0;34m=\u001b[0m\u001b[0;32mTrue\u001b[0m\u001b[0;34m,\u001b[0m \u001b[0mtime\u001b[0m\u001b[0;34m=\u001b[0m\u001b[0;32mFalse\u001b[0m\u001b[0;34m)\u001b[0m\u001b[0;34m\u001b[0m\u001b[0;34m\u001b[0m\u001b[0m\n",
       "\u001b[0;31mDocstring:\u001b[0m Helper function that adds columns relevant to a date in the column `field_name` of `df`.\n",
       "\u001b[0;31mFile:\u001b[0m      ~/mambaforge/envs/cfast/lib/python3.11/site-packages/fastai/tabular/core.py\n",
       "\u001b[0;31mType:\u001b[0m      function"
      ]
     },
     "metadata": {},
     "output_type": "display_data"
    }
   ],
   "source": [
    "?add_datepart"
   ]
  },
  {
   "cell_type": "code",
   "execution_count": null,
   "metadata": {},
   "outputs": [],
   "source": [
    "df_nn = pd.read_csv(f'{path}/./TrainAndValid.csv', low_memory=False)\n",
    "df_nn['ProductSize'] = df_nn['ProductSize'].astype('category')\n",
    "df_nn['ProductSize'].cat.set_categories(sizes, ordered=True)\n",
    "df_nn[dep_var] = np.log(df_nn[dep_var])\n",
    "df_nn['saledate'] = pd.to_datetime(df_nn['saledate'])"
   ]
  },
  {
   "cell_type": "markdown",
   "metadata": {},
   "source": [
    "We can leverage the work we did to trim unwanted columns in the random forest by using the same set of columns for our neural network:"
   ]
  },
  {
   "cell_type": "code",
   "execution_count": null,
   "metadata": {},
   "outputs": [
    {
     "data": {
      "text/plain": [
       "Index(['YearMade', 'Coupler_System', 'ProductSize', 'fiProductClassDesc',\n",
       "       'fiSecondaryDesc', 'ModelID', 'Enclosure', 'Hydraulics_Flow',\n",
       "       'fiModelDesc', 'fiModelDescriptor', 'Hydraulics', 'ProductGroup',\n",
       "       'Drive_System', 'Tire_Size', 'Track_Type'],\n",
       "      dtype='object')"
      ]
     },
     "execution_count": null,
     "metadata": {},
     "output_type": "execute_result"
    }
   ],
   "source": [
    "xs_final_time.columns"
   ]
  },
  {
   "cell_type": "code",
   "execution_count": null,
   "metadata": {},
   "outputs": [],
   "source": [
    "df_nn_final = df_nn[list(xs_final_time.columns) + [dep_var]]"
   ]
  },
  {
   "cell_type": "markdown",
   "metadata": {},
   "source": [
    "Categorical columns are handled very differently in neural networks, compared to decision tree approaches. As we saw in <<chapter_collab>>, in a neural net a great way to handle categorical variables is by using embeddings. To create embeddings, fastai needs to determine which columns should be treated as categorical variables. It does this by comparing the number of distinct levels in the variable to the value of the `max_card` parameter. If it's lower, fastai will treat the variable as categorical. Embedding sizes larger than 10,000 should generally only be used after you've tested whether there are better ways to group the variable, so we'll use 9,000 as our `max_card`:"
   ]
  },
  {
   "cell_type": "code",
   "execution_count": null,
   "metadata": {},
   "outputs": [],
   "source": [
    "cont_nn,cat_nn = cont_cat_split(df_nn_final, max_card=9000, dep_var=dep_var)"
   ]
  },
  {
   "cell_type": "markdown",
   "metadata": {},
   "source": [
    "In this case, there's one variable that we absolutely do not want to treat as categorical: the `saleElapsed` variable. A categorical variable cannot, by definition, extrapolate outside the range of values that it has seen, but we want to be able to predict auction sale prices in the future. Let's verify that `cont_cat_split` did the correct thing."
   ]
  },
  {
   "cell_type": "code",
   "execution_count": null,
   "metadata": {},
   "outputs": [
    {
     "data": {
      "text/plain": [
       "[]"
      ]
     },
     "execution_count": null,
     "metadata": {},
     "output_type": "execute_result"
    }
   ],
   "source": [
    "cont_nn"
   ]
  },
  {
   "cell_type": "markdown",
   "metadata": {},
   "source": [
    "Let's take a look at the cardinality of each of the categorical variables that we have chosen so far:"
   ]
  },
  {
   "cell_type": "code",
   "execution_count": null,
   "metadata": {},
   "outputs": [
    {
     "data": {
      "text/plain": [
       "YearMade                73\n",
       "Coupler_System           2\n",
       "ProductSize              6\n",
       "fiProductClassDesc      74\n",
       "fiSecondaryDesc        177\n",
       "ModelID               5281\n",
       "Enclosure                6\n",
       "Hydraulics_Flow          3\n",
       "fiModelDesc           5059\n",
       "fiModelDescriptor      140\n",
       "Hydraulics              12\n",
       "ProductGroup             6\n",
       "Drive_System             4\n",
       "Tire_Size               17\n",
       "Track_Type               2\n",
       "dtype: int64"
      ]
     },
     "execution_count": null,
     "metadata": {},
     "output_type": "execute_result"
    }
   ],
   "source": [
    "df_nn_final[cat_nn].nunique()"
   ]
  },
  {
   "cell_type": "markdown",
   "metadata": {},
   "source": [
    "The fact that there are two variables pertaining to the \"model\" of the equipment, both with similar very high cardinalities, suggests that they may contain similar, redundant information. Note that we would not necessarily see this when analyzing redundant features, since that relies on similar variables being sorted in the same order (that is, they need to have similarly named levels). Having a column with 5,000 levels means needing 5,000 columns in our embedding matrix, which would be nice to avoid if possible. Let's see what the impact of removing one of these model columns has on the random forest:"
   ]
  },
  {
   "cell_type": "code",
   "execution_count": null,
   "metadata": {},
   "outputs": [
    {
     "data": {
      "text/plain": [
       "(0.243052, 0.241177)"
      ]
     },
     "execution_count": null,
     "metadata": {},
     "output_type": "execute_result"
    }
   ],
   "source": [
    "xs_filt2 = xs_filt.drop('fiModelDescriptor', axis=1)\n",
    "valid_xs_time2 = valid_xs_time.drop('fiModelDescriptor', axis=1)\n",
    "m2 = rf(xs_filt2, y_filt)\n",
    "m_rmse(m2, xs_filt2, y_filt), m_rmse(m2, valid_xs_time2, valid_y)"
   ]
  },
  {
   "cell_type": "markdown",
   "metadata": {},
   "source": [
    "There's minimal impact, so we will remove it as a predictor for our neural network:"
   ]
  },
  {
   "cell_type": "code",
   "execution_count": null,
   "metadata": {},
   "outputs": [],
   "source": [
    "cat_nn.remove('fiModelDescriptor')"
   ]
  },
  {
   "cell_type": "markdown",
   "metadata": {},
   "source": [
    "We can create our `TabularPandas` object in the same way as when we created our random forest, with one very important addition: normalization. A random forest does not need any normalization—the tree building procedure cares only about the order of values in a variable, not at all about how they are scaled. But as we have seen, a neural network definitely does care about this. Therefore, we add the `Normalize` processor when we build our `TabularPandas` object:"
   ]
  },
  {
   "cell_type": "code",
   "execution_count": null,
   "metadata": {},
   "outputs": [
    {
     "name": "stderr",
     "output_type": "stream",
     "text": [
      "/home/ben/mambaforge/envs/cfast/lib/python3.11/site-packages/fastai/tabular/core.py:279: FutureWarning: The default dtype for empty Series will be 'object' instead of 'float64' in a future version. Specify a dtype explicitly to silence this warning.\n"
     ]
    }
   ],
   "source": [
    "procs_nn = [Categorify, FillMissing, Normalize]\n",
    "to_nn = TabularPandas(df_nn_final, procs_nn, cat_nn, cont_nn,\n",
    "                      splits=splits, y_names=dep_var)"
   ]
  },
  {
   "cell_type": "markdown",
   "metadata": {},
   "source": [
    "Tabular models and data don't generally require much GPU RAM, so we can use larger batch sizes:"
   ]
  },
  {
   "cell_type": "code",
   "execution_count": null,
   "metadata": {},
   "outputs": [],
   "source": [
    "dls = to_nn.dataloaders(1024)"
   ]
  },
  {
   "cell_type": "markdown",
   "metadata": {},
   "source": [
    "As we've discussed, it's a good idea to set `y_range` for regression models, so let's find the min and max of our dependent variable:"
   ]
  },
  {
   "cell_type": "code",
   "execution_count": null,
   "metadata": {},
   "outputs": [
    {
     "data": {
      "text/plain": [
       "(8.465899, 11.863583)"
      ]
     },
     "execution_count": null,
     "metadata": {},
     "output_type": "execute_result"
    }
   ],
   "source": [
    "y = to_nn.train.y\n",
    "y.min(),y.max()"
   ]
  },
  {
   "cell_type": "markdown",
   "metadata": {},
   "source": [
    "We can now create the `Learner` to create this tabular model. As usual, we use the application-specific learner function, to take advantage of its application-customized defaults. We set the loss function to MSE, since that's what this competition uses.\n",
    "\n",
    "By default, for tabular data fastai creates a neural network with two hidden layers, with 200 and 100 activations, respectively. This works quite well for small datasets, but here we've got quite a large dataset, so we increase the layer sizes to 500 and 250:"
   ]
  },
  {
   "cell_type": "code",
   "execution_count": null,
   "metadata": {},
   "outputs": [],
   "source": [
    "learn = tabular_learner(dls, y_range=(8,12), layers=[500,250],\n",
    "                        n_out=1, loss_func=F.mse_loss)"
   ]
  },
  {
   "cell_type": "code",
   "execution_count": null,
   "metadata": {},
   "outputs": [
    {
     "data": {
      "text/html": [
       "\n",
       "<style>\n",
       "    /* Turns off some styling */\n",
       "    progress {\n",
       "        /* gets rid of default border in Firefox and Opera. */\n",
       "        border: none;\n",
       "        /* Needs to be in here for Safari polyfill so background images work as expected. */\n",
       "        background-size: auto;\n",
       "    }\n",
       "    progress:not([value]), progress:not([value])::-webkit-progress-bar {\n",
       "        background: repeating-linear-gradient(45deg, #7e7e7e, #7e7e7e 10px, #5c5c5c 10px, #5c5c5c 20px);\n",
       "    }\n",
       "    .progress-bar-interrupted, .progress-bar-interrupted::-webkit-progress-bar {\n",
       "        background: #F44336;\n",
       "    }\n",
       "</style>\n"
      ],
      "text/plain": [
       "<IPython.core.display.HTML object>"
      ]
     },
     "metadata": {},
     "output_type": "display_data"
    },
    {
     "data": {
      "text/html": [],
      "text/plain": [
       "<IPython.core.display.HTML object>"
      ]
     },
     "metadata": {},
     "output_type": "display_data"
    },
    {
     "data": {
      "text/plain": [
       "SuggestedLRs(valley=0.0002754228771664202)"
      ]
     },
     "execution_count": null,
     "metadata": {},
     "output_type": "execute_result"
    },
    {
     "data": {
      "image/png": "[encoded data removed]",
      "text/plain": [
       "<Figure size 640x480 with 1 Axes>"
      ]
     },
     "metadata": {},
     "output_type": "display_data"
    }
   ],
   "source": [
    "learn.lr_find()"
   ]
  },
  {
   "cell_type": "markdown",
   "metadata": {},
   "source": [
    "There's no need to use `fine_tune`, so we'll train with `fit_one_cycle` for a few epochs and see how it looks:"
   ]
  },
  {
   "cell_type": "code",
   "execution_count": null,
   "metadata": {},
   "outputs": [
    {
     "data": {
      "text/html": [
       "\n",
       "<style>\n",
       "    /* Turns off some styling */\n",
       "    progress {\n",
       "        /* gets rid of default border in Firefox and Opera. */\n",
       "        border: none;\n",
       "        /* Needs to be in here for Safari polyfill so background images work as expected. */\n",
       "        background-size: auto;\n",
       "    }\n",
       "    progress:not([value]), progress:not([value])::-webkit-progress-bar {\n",
       "        background: repeating-linear-gradient(45deg, #7e7e7e, #7e7e7e 10px, #5c5c5c 10px, #5c5c5c 20px);\n",
       "    }\n",
       "    .progress-bar-interrupted, .progress-bar-interrupted::-webkit-progress-bar {\n",
       "        background: #F44336;\n",
       "    }\n",
       "</style>\n"
      ],
      "text/plain": [
       "<IPython.core.display.HTML object>"
      ]
     },
     "metadata": {},
     "output_type": "display_data"
    },
    {
     "data": {
      "text/html": [
       "<table border=\"1\" class=\"dataframe\">\n",
       "  <thead>\n",
       "    <tr style=\"text-align: left;\">\n",
       "      <th>epoch</th>\n",
       "      <th>train_loss</th>\n",
       "      <th>valid_loss</th>\n",
       "      <th>time</th>\n",
       "    </tr>\n",
       "  </thead>\n",
       "  <tbody>\n",
       "    <tr>\n",
       "      <td>0</td>\n",
       "      <td>0.104603</td>\n",
       "      <td>0.080641</td>\n",
       "      <td>00:04</td>\n",
       "    </tr>\n",
       "    <tr>\n",
       "      <td>1</td>\n",
       "      <td>0.094649</td>\n",
       "      <td>0.074813</td>\n",
       "      <td>00:04</td>\n",
       "    </tr>\n",
       "    <tr>\n",
       "      <td>2</td>\n",
       "      <td>0.090272</td>\n",
       "      <td>0.074764</td>\n",
       "      <td>00:04</td>\n",
       "    </tr>\n",
       "    <tr>\n",
       "      <td>3</td>\n",
       "      <td>0.086864</td>\n",
       "      <td>0.072307</td>\n",
       "      <td>00:04</td>\n",
       "    </tr>\n",
       "    <tr>\n",
       "      <td>4</td>\n",
       "      <td>0.084164</td>\n",
       "      <td>0.072127</td>\n",
       "      <td>00:04</td>\n",
       "    </tr>\n",
       "  </tbody>\n",
       "</table>"
      ],
      "text/plain": [
       "<IPython.core.display.HTML object>"
      ]
     },
     "metadata": {},
     "output_type": "display_data"
    }
   ],
   "source": [
    "learn.fit_one_cycle(5, 1e-2)"
   ]
  },
  {
   "cell_type": "markdown",
   "metadata": {},
   "source": [
    "We can use our `r_mse` function to compare the result to the random forest result we got earlier:"
   ]
  },
  {
   "cell_type": "code",
   "execution_count": null,
   "metadata": {},
   "outputs": [
    {
     "data": {
      "text/html": [
       "\n",
       "<style>\n",
       "    /* Turns off some styling */\n",
       "    progress {\n",
       "        /* gets rid of default border in Firefox and Opera. */\n",
       "        border: none;\n",
       "        /* Needs to be in here for Safari polyfill so background images work as expected. */\n",
       "        background-size: auto;\n",
       "    }\n",
       "    progress:not([value]), progress:not([value])::-webkit-progress-bar {\n",
       "        background: repeating-linear-gradient(45deg, #7e7e7e, #7e7e7e 10px, #5c5c5c 10px, #5c5c5c 20px);\n",
       "    }\n",
       "    .progress-bar-interrupted, .progress-bar-interrupted::-webkit-progress-bar {\n",
       "        background: #F44336;\n",
       "    }\n",
       "</style>\n"
      ],
      "text/plain": [
       "<IPython.core.display.HTML object>"
      ]
     },
     "metadata": {},
     "output_type": "display_data"
    },
    {
     "data": {
      "text/html": [],
      "text/plain": [
       "<IPython.core.display.HTML object>"
      ]
     },
     "metadata": {},
     "output_type": "display_data"
    },
    {
     "data": {
      "text/plain": [
       "0.268565"
      ]
     },
     "execution_count": null,
     "metadata": {},
     "output_type": "execute_result"
    }
   ],
   "source": [
    "preds,targs = learn.get_preds()\n",
    "r_mse(preds,targs)\n"
   ]
  },
  {
   "cell_type": "markdown",
   "metadata": {},
   "source": [
    "It's quite a bit better than the random forest (although it took longer to train, and it's fussier about hyperparameter tuning).\n",
    "\n",
    "Before we move on, let's save our model in case we want to come back to it again later:"
   ]
  },
  {
   "cell_type": "code",
   "execution_count": null,
   "metadata": {},
   "outputs": [
    {
     "data": {
      "text/plain": [
       "Path('models/nn.pth')"
      ]
     },
     "execution_count": null,
     "metadata": {},
     "output_type": "execute_result"
    }
   ],
   "source": [
    "learn.save('nn')"
   ]
  },
  {
   "cell_type": "markdown",
   "metadata": {},
   "source": [
    "### Sidebar: fastai's Tabular Classes"
   ]
  },
  {
   "cell_type": "markdown",
   "metadata": {},
   "source": [
    "In fastai, a tabular model is simply a model that takes columns of continuous or categorical data, and predicts a category (a classification model) or a continuous value (a regression model). Categorical independent variables are passed through an embedding, and concatenated, as we saw in the neural net we used for collaborative filtering, and then continuous variables are concatenated as well.\n",
    "\n",
    "The model created in `tabular_learner` is an object of class `TabularModel`. Take a look at the source for `tabular_learner` now (remember, that's `tabular_learner??` in Jupyter). You'll see that like `collab_learner`, it first calls `get_emb_sz` to calculate appropriate embedding sizes (you can override these by using the `emb_szs` parameter, which is a dictionary containing any column names you want to set sizes for manually), and it sets a few other defaults. Other than that, it just creates the `TabularModel`, and passes that to `TabularLearner` (note that `TabularLearner` is identical to `Learner`, except for a customized `predict` method).\n",
    "\n",
    "That means that really all the work is happening in `TabularModel`, so take a look at the source for that now. With the exception of the `BatchNorm1d` and `Dropout` layers (which we'll be learning about shortly), you now have the knowledge required to understand this whole class. Take a look at the discussion of `EmbeddingNN` at the end of the last chapter. Recall that it passed `n_cont=0` to `TabularModel`. We now can see why that was: because there are zero continuous variables (in fastai the `n_` prefix means \"number of,\" and `cont` is an abbreviation for \"continuous\")."
   ]
  },
  {
   "cell_type": "markdown",
   "metadata": {},
   "source": [
    "### End sidebar"
   ]
  },
  {
   "cell_type": "markdown",
   "metadata": {},
   "source": [
    "Another thing that can help with generalization is to use several models and average their predictions—a technique, as mentioned earlier, known as *ensembling*."
   ]
  },
  {
   "cell_type": "markdown",
   "metadata": {},
   "source": [
    "## Ensembling"
   ]
  },
  {
   "cell_type": "markdown",
   "metadata": {},
   "source": [
    "Think back to the original reasoning behind why random forests work so well: each tree has errors, but those errors are not correlated with each other, so the average of those errors should tend towards zero once there are enough trees. Similar reasoning could be used to consider averaging the predictions of models trained using different algorithms.\n",
    "\n",
    "In our case, we have two very different models, trained using very different algorithms: a random forest, and a neural network. It would be reasonable to expect that the kinds of errors that each one makes would be quite different. Therefore, we might expect that the average of their predictions would be better than either one's individual predictions.\n",
    "\n",
    "As we saw earlier, a random forest is itself an ensemble. But we can then include a random forest in *another* ensemble—an ensemble of the random forest and the neural network! While ensembling won't make the difference between a successful and an unsuccessful modeling process, it can certainly add a nice little boost to any models that you have built.\n",
    "\n",
    "One minor issue we have to be aware of is that our PyTorch model and our sklearn model create data of different types: PyTorch gives us a rank-2 tensor (i.e, a column matrix), whereas NumPy gives us a rank-1 array (a vector). `squeeze` removes any unit axes from a tensor, and `to_np` converts it into a NumPy array:"
   ]
  },
  {
   "cell_type": "code",
   "execution_count": null,
   "metadata": {},
   "outputs": [],
   "source": [
    "rf_preds = m.predict(valid_xs_time)\n",
    "ens_preds = (to_np(preds.squeeze()) + rf_preds) /2"
   ]
  },
  {
   "cell_type": "markdown",
   "metadata": {},
   "source": [
    "This gives us a better result than either model achieved on its own:"
   ]
  },
  {
   "cell_type": "code",
   "execution_count": null,
   "metadata": {},
   "outputs": [
    {
     "data": {
      "text/plain": [
       "0.246987"
      ]
     },
     "execution_count": null,
     "metadata": {},
     "output_type": "execute_result"
    }
   ],
   "source": [
    "r_mse(ens_preds,valid_y)"
   ]
  },
  {
   "cell_type": "markdown",
   "metadata": {},
   "source": [
    "In fact, this result is better than any score shown on the Kaggle leaderboard. It's not directly comparable, however, because the Kaggle leaderboard uses a separate dataset that we do not have access to. Kaggle does not allow us to submit to this old competition to find out how we would have done, but our results certainly look very encouraging!"
   ]
  },
  {
   "cell_type": "markdown",
   "metadata": {},
   "source": [
    "### Boosting"
   ]
  },
  {
   "cell_type": "markdown",
   "metadata": {},
   "source": [
    "So far our approach to ensembling has been to use *bagging*, which involves combining many models (each trained on a different data subset) together by averaging them. As we saw, when this is applied to decision trees, this is called a *random forest*.\n",
    "\n",
    "There is another important approach to ensembling, called *boosting*, where we add models instead of averaging them. Here is how boosting works:\n",
    "\n",
    "- Train a small model that underfits your dataset.\n",
    "- Calculate the predictions in the training set for this model.\n",
    "- Subtract the predictions from the targets; these are called the \"residuals\" and represent the error for each point in the training set.\n",
    "- Go back to step 1, but instead of using the original targets, use the residuals as the targets for the training.\n",
    "- Continue doing this until you reach some stopping criterion, such as a maximum number of trees, or you observe your validation set error getting worse.\n",
    "\n",
    "Using this approach, each new tree will be attempting to fit the error of all of the previous trees combined. Because we are continually creating new residuals, by subtracting the predictions of each new tree from the residuals from the previous tree, the residuals will get smaller and smaller.\n",
    "\n",
    "To make predictions with an ensemble of boosted trees, we calculate the predictions from each tree, and then add them all together. There are many models following this basic approach, and many names for the same models. *Gradient boosting machines* (GBMs) and *gradient boosted decision trees* (GBDTs) are the terms you're most likely to come across, or you may see the names of specific libraries implementing these; at the time of writing, *XGBoost* is the most popular.\n",
    "\n",
    "Note that, unlike with random forests, with this approach there is nothing to stop us from overfitting. Using more trees in a random forest does not lead to overfitting, because each tree is independent of the others. But in a boosted ensemble, the more trees you have, the better the training error becomes, and eventually you will see overfitting on the validation set.\n",
    "\n",
    "We are not going to go into detail on how to train a gradient boosted tree ensemble here, because the field is moving rapidly, and any guidance we give will almost certainly be outdated by the time you read this. As we write this, sklearn has just added a `HistGradientBoostingRegressor` class that provides excellent performance. There are many hyperparameters to tweak for this class, and for all gradient boosted tree methods we have seen. Unlike random forests, gradient boosted trees are extremely sensitive to the choices of these hyperparameters; in practice, most people use a loop that tries a range of different hyperparameters to find the ones that work best."
   ]
  },
  {
   "cell_type": "markdown",
   "metadata": {},
   "source": [
    "One more technique that has gotten great results is to use embeddings learned by a neural net in a machine learning model."
   ]
  },
  {
   "cell_type": "markdown",
   "metadata": {},
   "source": [
    "### Combining Embeddings with Other Methods"
   ]
  },
  {
   "cell_type": "markdown",
   "metadata": {},
   "source": [
    "The abstract of the entity embedding paper we mentioned at the start of this chapter states: \"the embeddings obtained from the trained neural network boost the performance of all tested machine learning methods considerably when used as the input features instead\". It includes the very interesting table in <<embedding_mixed>>."
   ]
  },
  {
   "cell_type": "markdown",
   "metadata": {
    "hide_input": false
   },
   "source": [
    "<img alt=\"Embeddings combined with other methods\" width=\"500\" id=\"embedding_mixed\" caption=\"Effects of using neural network embeddings as input to other machine learning methods (courtesy of Cheng Guo and Felix Berkhahn)\" src=\"images/att_00054.png\">"
   ]
  },
  {
   "cell_type": "markdown",
   "metadata": {},
   "source": [
    "This is showing the mean average percent error (MAPE) compared among four different modeling techniques, three of which we have already seen, along with *k*-nearest neighbors (KNN), which is a very simple baseline method. The first numeric column contains the results of using the methods on the data provided in the competition; the second column shows what happens if you first train a neural network with categorical embeddings, and then use those categorical embeddings instead of the raw categorical columns in the model. As you see, in every case, the models are dramatically improved by using the embeddings instead of the raw categories.\n",
    "\n",
    "This is a really important result, because it shows that you can get much of the performance improvement of a neural network without actually having to use a neural network at inference time. You could just use an embedding, which is literally just an array lookup, along with a small decision tree ensemble.\n",
    "\n",
    "These embeddings need not even be necessarily learned separately for each model or task in an organization. Instead, once a set of embeddings are learned for some column for some task, they could be stored in a central place, and reused across multiple models. In fact, we know from private communication with other practitioners at large companies that this is already happening in many places."
   ]
  },
  {
   "cell_type": "markdown",
   "metadata": {},
   "source": [
    "## Conclusion: Our Advice for Tabular Modeling"
   ]
  },
  {
   "cell_type": "markdown",
   "metadata": {},
   "source": [
    "We have dicussed two approaches to tabular modeling: decision tree ensembles and neural networks. We've also mentioned two different decision tree ensembles: random forests, and gradient boosting machines. Each is very effective, but each also has compromises:\n",
    "\n",
    "- *Random forests* are the easiest to train, because they are extremely resilient to hyperparameter choices and require very little preprocessing. They are very fast to train, and should not overfit if you have enough trees. But they can be a little less accurate, especially if extrapolation is required, such as predicting future time periods.\n",
    "\n",
    "- *Gradient boosting machines* in theory are just as fast to train as random forests, but in practice you will have to try lots of different hyperparameters. They can overfit, but they are often a little more accurate than random forests.\n",
    "\n",
    "- *Neural networks* take the longest time to train, and require extra preprocessing, such as normalization; this normalization needs to be used at inference time as well. They can provide great results and extrapolate well, but only if you are careful with your hyperparameters and take care to avoid overfitting.\n",
    "\n",
    "We suggest starting your analysis with a random forest. This will give you a strong baseline, and you can be confident that it's a reasonable starting point. You can then use that model for feature selection and partial dependence analysis, to get a better understanding of your data.\n",
    "\n",
    "From that foundation, you can try neural nets and GBMs, and if they give you significantly better results on your validation set in a reasonable amount of time, you can use them. If decision tree ensembles are working well for you, try adding the embeddings for the categorical variables to the data, and see if that helps your decision trees learn better."
   ]
  },
  {
   "cell_type": "markdown",
   "metadata": {},
   "source": [
    "## Questionnaire"
   ]
  },
  {
   "cell_type": "markdown",
   "metadata": {},
   "source": [
    "1. What is a continuous variable?\n",
    "1. What is a categorical variable?\n",
    "1. Provide two of the words that are used for the possible values of a categorical variable.\n",
    "1. What is a \"dense layer\"?\n",
    "1. How do entity embeddings reduce memory usage and speed up neural networks?\n",
    "1. What kinds of datasets are entity embeddings especially useful for?\n",
    "1. What are the two main families of machine learning algorithms?\n",
    "1. Why do some categorical columns need a special ordering in their classes? How do you do this in Pandas?\n",
    "1. Summarize what a decision tree algorithm does.\n",
    "1. Why is a date different from a regular categorical or continuous variable, and how can you preprocess it to allow it to be used in a model?\n",
    "1. Should you pick a random validation set in the bulldozer competition? If no, what kind of validation set should you pick?\n",
    "1. What is pickle and what is it useful for?\n",
    "1. How are `mse`, `samples`, and `values` calculated in the decision tree drawn in this chapter?\n",
    "1. How do we deal with outliers, before building a decision tree?\n",
    "1. How do we handle categorical variables in a decision tree?\n",
    "1. What is bagging?\n",
    "1. What is the difference between `max_samples` and `max_features` when creating a random forest?\n",
    "1. If you increase `n_estimators` to a very high value, can that lead to overfitting? Why or why not?\n",
    "1. In the section \"Creating a Random Forest\", just after <<max_features>>, why did `preds.mean(0)` give the same result as our random forest?\n",
    "1. What is \"out-of-bag-error\"?\n",
    "1. Make a list of reasons why a model's validation set error might be worse than the OOB error. How could you test your hypotheses?\n",
    "1. Explain why random forests are well suited to answering each of the following question:\n",
    "   - How confident are we in our predictions using a particular row of data?\n",
    "   - For predicting with a particular row of data, what were the most important factors, and how did they influence that prediction?\n",
    "   - Which columns are the strongest predictors?\n",
    "   - How do predictions vary as we vary these columns?\n",
    "1. What's the purpose of removing unimportant variables?\n",
    "1. What's a good type of plot for showing tree interpreter results?\n",
    "1. What is the \"extrapolation problem\"?\n",
    "1. How can you tell if your test or validation set is distributed in a different way than your training set?\n",
    "1. Why do we ensure `saleElapsed` is a continuous variable, even although it has less than 9,000 distinct values?\n",
    "1. What is \"boosting\"?\n",
    "1. How could we use embeddings with a random forest? Would we expect this to help?\n",
    "1. Why might we not always use a neural net for tabular modeling?"
   ]
  },
  {
   "cell_type": "markdown",
   "metadata": {},
   "source": [
    "### Further Research"
   ]
  },
  {
   "cell_type": "markdown",
   "metadata": {},
   "source": [
    "1. Pick a competition on Kaggle with tabular data (current or past) and try to adapt the techniques seen in this chapter to get the best possible results. Compare your results to the private leaderboard.\n",
    "1. Implement the decision tree algorithm in this chapter from scratch yourself, and try it on the dataset you used in the first exercise.\n",
    "1. Use the embeddings from the neural net in this chapter in a random forest, and see if you can improve on the random forest results we saw.\n",
    "1. Explain what each line of the source of `TabularModel` does (with the exception of the `BatchNorm1d` and `Dropout` layers)."
   ]
  }
 ],
 "metadata": {
  "kernelspec": {
   "display_name": "python3",
   "language": "python",
   "name": "python3"
  }
 },
 "nbformat": 4,
 "nbformat_minor": 4
}
