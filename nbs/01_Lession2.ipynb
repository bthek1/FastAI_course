{
 "cells": [
  {
   "cell_type": "markdown",
   "id": "6d2c5a46-9b32-42d2-a4e9-3ce20dac2cfd",
   "metadata": {},
   "source": [
    "# Lession 2:\n",
    "\n",
    "> FastAI course lesson one"
   ]
  },
  {
   "cell_type": "code",
   "execution_count": null,
   "id": "dee02aa4-f2f7-4c72-ac8b-ef347147a03e",
   "metadata": {},
   "outputs": [],
   "source": []
  }
 ],
 "metadata": {
  "kernelspec": {
   "display_name": "python3",
   "language": "python",
   "name": "python3"
  }
 },
 "nbformat": 4,
 "nbformat_minor": 5
}
